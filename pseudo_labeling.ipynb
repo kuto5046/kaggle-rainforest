{
 "metadata": {
  "language_info": {
   "codemirror_mode": {
    "name": "ipython",
    "version": 3
   },
   "file_extension": ".py",
   "mimetype": "text/x-python",
   "name": "python",
   "nbconvert_exporter": "python",
   "pygments_lexer": "ipython3",
   "version": "3.7.4-final"
  },
  "orig_nbformat": 2,
  "kernelspec": {
   "name": "python3",
   "display_name": "Python 3",
   "language": "python"
  }
 },
 "nbformat": 4,
 "nbformat_minor": 2,
 "cells": [
  {
   "cell_type": "code",
   "execution_count": 1,
   "metadata": {},
   "outputs": [
    {
     "output_type": "stream",
     "name": "stderr",
     "text": [
      "/opt/anaconda3/lib/python3.7/site-packages/pywt/_utils.py:6: DeprecationWarning: Using or importing the ABCs from 'collections' instead of from 'collections.abc' is deprecated, and in 3.8 it will stop working\n  from collections import Iterable\n"
     ]
    }
   ],
   "source": [
    "import os\n",
    "import sys\n",
    "sys.path.append(\"..\")\n",
    "import torch\n",
    "import subprocess\n",
    "import traceback\n",
    "import warnings\n",
    "from pathlib import Path\n",
    "from datetime import datetime\n",
    "import pandas as pd\n",
    "import numpy as np\n",
    "\n",
    "from tqdm import tqdm\n",
    "# n.pyimport hydra\n",
    "import torch\n",
    "from torch import nn\n",
    "import torch.nn.functional as F\n",
    "from torch.utils.data import DataLoader, random_split\n",
    "from torchvision import transforms\n",
    "\n",
    "from src.metric import LWLRAP\n",
    "from src.models import get_model\n",
    "import src.configuration as C\n",
    "import src.utils as utils\n",
    "from src.metric import LWLRAP\n",
    "import pytorch_lightning as pl\n",
    "from pytorch_lightning.loggers import TensorBoardLogger\n",
    "from pytorch_lightning.callbacks import ModelCheckpoint\n",
    "from pytorch_lightning.callbacks import EarlyStopping\n",
    "from pytorch_lightning.loggers import MLFlowLogger"
   ]
  },
  {
   "cell_type": "code",
   "execution_count": 6,
   "metadata": {},
   "outputs": [],
   "source": [
    "# config\n",
    "config_filename = 'EfficientNetSED001.yaml'\n",
    "config = utils.load_config(f\"configs/{config_filename}\")\n",
    "device = \"cuda\""
   ]
  },
  {
   "cell_type": "code",
   "execution_count": 7,
   "metadata": {},
   "outputs": [],
   "source": [
    "# data\n",
    "df, datadir = C.get_metadata(config)"
   ]
  },
  {
   "cell_type": "code",
   "execution_count": 8,
   "metadata": {},
   "outputs": [
    {
     "output_type": "execute_result",
     "data": {
      "text/plain": [
       "     data_type     f_max     f_min recording_id  songtype_id  species_id  \\\n",
       "0           tp   5531.25  2531.250    003bec244          1.0          14   \n",
       "1           tp  11283.40  7235.160    006ab765f          1.0          23   \n",
       "2           tp   3281.25   562.500    007f87ba2          1.0          12   \n",
       "3           tp   4565.04  1464.260    0099c367b          4.0          17   \n",
       "4           tp  10852.70   947.461    009b760e6          1.0          10   \n",
       "...        ...       ...       ...          ...          ...         ...   \n",
       "1211        tp    843.75    93.750    fe8d9ac40          1.0          13   \n",
       "1212        tp   4031.25  2531.250    fea6b438a          1.0           4   \n",
       "1213        tp   8250.00  5906.250    ff2eb9ce5          1.0           0   \n",
       "1214        tp  10406.20  4781.250    ffb8d8391          1.0           5   \n",
       "1215        tp   5062.50  3187.500    ffb9a7b9a          1.0          18   \n",
       "\n",
       "        t_max    t_min  \n",
       "0     45.1307  44.5440  \n",
       "1     46.0452  39.9615  \n",
       "2     42.2720  39.1360  \n",
       "3     55.1996  51.4206  \n",
       "4     52.5293  50.0854  \n",
       "...       ...      ...  \n",
       "1211  54.0960  53.4720  \n",
       "1212  45.7653  43.5787  \n",
       "1213  16.0213  15.2267  \n",
       "1214  16.6987  14.3467  \n",
       "1215  41.0133  40.3200  \n",
       "\n",
       "[1216 rows x 8 columns]"
      ],
      "text/html": "<div>\n<style scoped>\n    .dataframe tbody tr th:only-of-type {\n        vertical-align: middle;\n    }\n\n    .dataframe tbody tr th {\n        vertical-align: top;\n    }\n\n    .dataframe thead th {\n        text-align: right;\n    }\n</style>\n<table border=\"1\" class=\"dataframe\">\n  <thead>\n    <tr style=\"text-align: right;\">\n      <th></th>\n      <th>data_type</th>\n      <th>f_max</th>\n      <th>f_min</th>\n      <th>recording_id</th>\n      <th>songtype_id</th>\n      <th>species_id</th>\n      <th>t_max</th>\n      <th>t_min</th>\n    </tr>\n  </thead>\n  <tbody>\n    <tr>\n      <td>0</td>\n      <td>tp</td>\n      <td>5531.25</td>\n      <td>2531.250</td>\n      <td>003bec244</td>\n      <td>1.0</td>\n      <td>14</td>\n      <td>45.1307</td>\n      <td>44.5440</td>\n    </tr>\n    <tr>\n      <td>1</td>\n      <td>tp</td>\n      <td>11283.40</td>\n      <td>7235.160</td>\n      <td>006ab765f</td>\n      <td>1.0</td>\n      <td>23</td>\n      <td>46.0452</td>\n      <td>39.9615</td>\n    </tr>\n    <tr>\n      <td>2</td>\n      <td>tp</td>\n      <td>3281.25</td>\n      <td>562.500</td>\n      <td>007f87ba2</td>\n      <td>1.0</td>\n      <td>12</td>\n      <td>42.2720</td>\n      <td>39.1360</td>\n    </tr>\n    <tr>\n      <td>3</td>\n      <td>tp</td>\n      <td>4565.04</td>\n      <td>1464.260</td>\n      <td>0099c367b</td>\n      <td>4.0</td>\n      <td>17</td>\n      <td>55.1996</td>\n      <td>51.4206</td>\n    </tr>\n    <tr>\n      <td>4</td>\n      <td>tp</td>\n      <td>10852.70</td>\n      <td>947.461</td>\n      <td>009b760e6</td>\n      <td>1.0</td>\n      <td>10</td>\n      <td>52.5293</td>\n      <td>50.0854</td>\n    </tr>\n    <tr>\n      <td>...</td>\n      <td>...</td>\n      <td>...</td>\n      <td>...</td>\n      <td>...</td>\n      <td>...</td>\n      <td>...</td>\n      <td>...</td>\n      <td>...</td>\n    </tr>\n    <tr>\n      <td>1211</td>\n      <td>tp</td>\n      <td>843.75</td>\n      <td>93.750</td>\n      <td>fe8d9ac40</td>\n      <td>1.0</td>\n      <td>13</td>\n      <td>54.0960</td>\n      <td>53.4720</td>\n    </tr>\n    <tr>\n      <td>1212</td>\n      <td>tp</td>\n      <td>4031.25</td>\n      <td>2531.250</td>\n      <td>fea6b438a</td>\n      <td>1.0</td>\n      <td>4</td>\n      <td>45.7653</td>\n      <td>43.5787</td>\n    </tr>\n    <tr>\n      <td>1213</td>\n      <td>tp</td>\n      <td>8250.00</td>\n      <td>5906.250</td>\n      <td>ff2eb9ce5</td>\n      <td>1.0</td>\n      <td>0</td>\n      <td>16.0213</td>\n      <td>15.2267</td>\n    </tr>\n    <tr>\n      <td>1214</td>\n      <td>tp</td>\n      <td>10406.20</td>\n      <td>4781.250</td>\n      <td>ffb8d8391</td>\n      <td>1.0</td>\n      <td>5</td>\n      <td>16.6987</td>\n      <td>14.3467</td>\n    </tr>\n    <tr>\n      <td>1215</td>\n      <td>tp</td>\n      <td>5062.50</td>\n      <td>3187.500</td>\n      <td>ffb9a7b9a</td>\n      <td>1.0</td>\n      <td>18</td>\n      <td>41.0133</td>\n      <td>40.3200</td>\n    </tr>\n  </tbody>\n</table>\n<p>1216 rows × 8 columns</p>\n</div>"
     },
     "metadata": {},
     "execution_count": 8
    }
   ],
   "source": [
    "df"
   ]
  },
  {
   "cell_type": "code",
   "execution_count": 50,
   "metadata": {},
   "outputs": [],
   "source": [
    "config[\"loader\"][\"valid\"][\"batch_size\"] = 20"
   ]
  },
  {
   "cell_type": "code",
   "execution_count": 51,
   "metadata": {},
   "outputs": [],
   "source": [
    "loaders = {\n",
    "    phase: C.get_loader(df_, datadir, config, phase)\n",
    "    for df_, phase in zip([df], [\"valid\"])\n",
    "}"
   ]
  },
  {
   "cell_type": "code",
   "execution_count": 77,
   "metadata": {},
   "outputs": [
    {
     "output_type": "execute_result",
     "data": {
      "text/plain": [
       "     recording_id  t_min  t_max\n",
       "0       003bec244      0     10\n",
       "1       006ab765f      0     10\n",
       "2       007f87ba2      0     10\n",
       "3       0099c367b      0     10\n",
       "4       009b760e6      0     10\n",
       "...           ...    ...    ...\n",
       "7291    fe8d9ac40     50     60\n",
       "7292    fea6b438a     50     60\n",
       "7293    ff2eb9ce5     50     60\n",
       "7294    ffb8d8391     50     60\n",
       "7295    ffb9a7b9a     50     60\n",
       "\n",
       "[7296 rows x 3 columns]"
      ],
      "text/html": "<div>\n<style scoped>\n    .dataframe tbody tr th:only-of-type {\n        vertical-align: middle;\n    }\n\n    .dataframe tbody tr th {\n        vertical-align: top;\n    }\n\n    .dataframe thead th {\n        text-align: right;\n    }\n</style>\n<table border=\"1\" class=\"dataframe\">\n  <thead>\n    <tr style=\"text-align: right;\">\n      <th></th>\n      <th>recording_id</th>\n      <th>t_min</th>\n      <th>t_max</th>\n    </tr>\n  </thead>\n  <tbody>\n    <tr>\n      <td>0</td>\n      <td>003bec244</td>\n      <td>0</td>\n      <td>10</td>\n    </tr>\n    <tr>\n      <td>1</td>\n      <td>006ab765f</td>\n      <td>0</td>\n      <td>10</td>\n    </tr>\n    <tr>\n      <td>2</td>\n      <td>007f87ba2</td>\n      <td>0</td>\n      <td>10</td>\n    </tr>\n    <tr>\n      <td>3</td>\n      <td>0099c367b</td>\n      <td>0</td>\n      <td>10</td>\n    </tr>\n    <tr>\n      <td>4</td>\n      <td>009b760e6</td>\n      <td>0</td>\n      <td>10</td>\n    </tr>\n    <tr>\n      <td>...</td>\n      <td>...</td>\n      <td>...</td>\n      <td>...</td>\n    </tr>\n    <tr>\n      <td>7291</td>\n      <td>fe8d9ac40</td>\n      <td>50</td>\n      <td>60</td>\n    </tr>\n    <tr>\n      <td>7292</td>\n      <td>fea6b438a</td>\n      <td>50</td>\n      <td>60</td>\n    </tr>\n    <tr>\n      <td>7293</td>\n      <td>ff2eb9ce5</td>\n      <td>50</td>\n      <td>60</td>\n    </tr>\n    <tr>\n      <td>7294</td>\n      <td>ffb8d8391</td>\n      <td>50</td>\n      <td>60</td>\n    </tr>\n    <tr>\n      <td>7295</td>\n      <td>ffb9a7b9a</td>\n      <td>50</td>\n      <td>60</td>\n    </tr>\n  </tbody>\n</table>\n<p>7296 rows × 3 columns</p>\n</div>"
     },
     "metadata": {},
     "execution_count": 77
    }
   ],
   "source": [
    "df0 = df[[\"recording_id\"]].copy()  # 0~10s\n",
    "df0[\"t_min\"] = 0\n",
    "df0[\"t_max\"] = 10\n",
    "\n",
    "df1 = df[[\"recording_id\"]].copy()  # 10~20s\n",
    "df1[\"t_min\"] = 10\n",
    "df1[\"t_max\"] = 20\n",
    "\n",
    "df2 = df[[\"recording_id\"]].copy()  # 20~30s\n",
    "df2[\"t_min\"] = 20\n",
    "df2[\"t_max\"] = 30\n",
    "\n",
    "df3 = df[[\"recording_id\"]].copy()  # 30~40s\n",
    "df3[\"t_min\"] = 30\n",
    "df3[\"t_max\"] = 40\n",
    "\n",
    "df4 = df[[\"recording_id\"]].copy()  # 40~50s\n",
    "df4[\"t_min\"] = 40\n",
    "df4[\"t_max\"] = 50\n",
    "\n",
    "df5 = df[[\"recording_id\"]].copy()  # 50~60s\n",
    "df5[\"t_min\"] = 50\n",
    "df5[\"t_max\"] = 60\n",
    "\n",
    "pseudo_label_df = pd.concat([df0, df1, df2, df3, df4, df5]).reset_index(drop=True)  # 6つ繋げる(60sを10sごとの音声に6分割するので)\n",
    "pseudo_label_df"
   ]
  },
  {
   "cell_type": "code",
   "execution_count": 78,
   "metadata": {},
   "outputs": [
    {
     "output_type": "execute_result",
     "data": {
      "text/plain": [
       "50    1216\n",
       "30    1216\n",
       "10    1216\n",
       "60    1216\n",
       "40    1216\n",
       "20    1216\n",
       "Name: t_max, dtype: int64"
      ]
     },
     "metadata": {},
     "execution_count": 78
    }
   ],
   "source": [
    "pseudo_label_df[\"t_max\"].value_counts()"
   ]
  },
  {
   "cell_type": "code",
   "execution_count": 79,
   "metadata": {},
   "outputs": [
    {
     "output_type": "stream",
     "name": "stdout",
     "text": [
      "fold-0\n",
      "Loaded pretrained weights for efficientnet-b2\n",
      "100%|██████████| 61/61 [00:23<00:00,  2.55it/s]\n",
      "fold-1\n",
      "Loaded pretrained weights for efficientnet-b2\n",
      "100%|██████████| 61/61 [00:24<00:00,  2.52it/s]\n",
      "fold-2\n",
      "Loaded pretrained weights for efficientnet-b2\n",
      "100%|██████████| 61/61 [00:24<00:00,  2.50it/s]\n",
      "fold-3\n",
      "Loaded pretrained weights for efficientnet-b2\n",
      "100%|██████████| 61/61 [00:24<00:00,  2.53it/s]\n",
      "fold-4\n",
      "Loaded pretrained weights for efficientnet-b2\n",
      "100%|██████████| 61/61 [00:24<00:00,  2.51it/s]\n"
     ]
    }
   ],
   "source": [
    "for fold in range(5):\n",
    "    # model\n",
    "    print(f\"fold-{fold}\")\n",
    "    model = get_model(config)\n",
    "    model_name = \"EfficientNetSED\"\n",
    "    output_dir = Path(\"output/0119_184426\")\n",
    "    try:\n",
    "        ckpt = torch.load(output_dir / f'{model_name}-{fold}-v0.ckpt')  # TODO foldごとのモデルを取得できるようにする\n",
    "    except:\n",
    "        ckpt = torch.load(output_dir / f'{model_name}-{fold}.ckpt')  # TODO foldごとのモデルを取得できるようにする\n",
    "    model.load_state_dict(ckpt['state_dict'])\n",
    "    model.eval().to(device)\n",
    "\n",
    "    preds = []\n",
    "    output_key = \"logit\"\n",
    "    with torch.no_grad():\n",
    "        # xは複数のlist\n",
    "        for x_list, y in tqdm(loaders['valid']):\n",
    "            batch_size = x_list.shape[0]\n",
    "            x = x_list.view(-1, x_list.shape[2], x_list.shape[3], x_list.shape[4])  # batch>1でも可\n",
    "            x = x.to(device)\n",
    "            output = model.model(x)\n",
    "            output = output[output_key]\n",
    "            output = output.view(batch_size, -1, 24)  # (20, 6, 24)\n",
    "            pred = torch.argsort(output, dim=-1, descending=True)  \n",
    "            pred = torch.argmin(pred, axis=2)  # (20, 6)\n",
    "            pred = pred.detach().cpu().numpy() \n",
    "            preds.append(pred)\n",
    "\n",
    "    pseudo_label_df[f\"fold{fold}\"] = np.vstack(preds).flatten()  # (n, 6) "
   ]
  },
  {
   "cell_type": "code",
   "execution_count": 80,
   "metadata": {},
   "outputs": [
    {
     "output_type": "execute_result",
     "data": {
      "text/plain": [
       "     recording_id  t_min  t_max  fold0  fold1  fold2  fold3  fold4\n",
       "0       003bec244      0     10     13      3     14      8     13\n",
       "1       006ab765f      0     10     10     13     16      8     10\n",
       "2       007f87ba2      0     10     15     14     18     15     18\n",
       "3       0099c367b      0     10     12      8     20     11     10\n",
       "4       009b760e6      0     10     10      8     15      5     14\n",
       "...           ...    ...    ...    ...    ...    ...    ...    ...\n",
       "7291    fe8d9ac40     50     60     17      7      8      3      7\n",
       "7292    fea6b438a     50     60     14      9      4      3      4\n",
       "7293    ff2eb9ce5     50     60      5      3      4      4      4\n",
       "7294    ffb8d8391     50     60      9      4      1      4      4\n",
       "7295    ffb9a7b9a     50     60      3      6      2      3      4\n",
       "\n",
       "[7296 rows x 8 columns]"
      ],
      "text/html": "<div>\n<style scoped>\n    .dataframe tbody tr th:only-of-type {\n        vertical-align: middle;\n    }\n\n    .dataframe tbody tr th {\n        vertical-align: top;\n    }\n\n    .dataframe thead th {\n        text-align: right;\n    }\n</style>\n<table border=\"1\" class=\"dataframe\">\n  <thead>\n    <tr style=\"text-align: right;\">\n      <th></th>\n      <th>recording_id</th>\n      <th>t_min</th>\n      <th>t_max</th>\n      <th>fold0</th>\n      <th>fold1</th>\n      <th>fold2</th>\n      <th>fold3</th>\n      <th>fold4</th>\n    </tr>\n  </thead>\n  <tbody>\n    <tr>\n      <td>0</td>\n      <td>003bec244</td>\n      <td>0</td>\n      <td>10</td>\n      <td>13</td>\n      <td>3</td>\n      <td>14</td>\n      <td>8</td>\n      <td>13</td>\n    </tr>\n    <tr>\n      <td>1</td>\n      <td>006ab765f</td>\n      <td>0</td>\n      <td>10</td>\n      <td>10</td>\n      <td>13</td>\n      <td>16</td>\n      <td>8</td>\n      <td>10</td>\n    </tr>\n    <tr>\n      <td>2</td>\n      <td>007f87ba2</td>\n      <td>0</td>\n      <td>10</td>\n      <td>15</td>\n      <td>14</td>\n      <td>18</td>\n      <td>15</td>\n      <td>18</td>\n    </tr>\n    <tr>\n      <td>3</td>\n      <td>0099c367b</td>\n      <td>0</td>\n      <td>10</td>\n      <td>12</td>\n      <td>8</td>\n      <td>20</td>\n      <td>11</td>\n      <td>10</td>\n    </tr>\n    <tr>\n      <td>4</td>\n      <td>009b760e6</td>\n      <td>0</td>\n      <td>10</td>\n      <td>10</td>\n      <td>8</td>\n      <td>15</td>\n      <td>5</td>\n      <td>14</td>\n    </tr>\n    <tr>\n      <td>...</td>\n      <td>...</td>\n      <td>...</td>\n      <td>...</td>\n      <td>...</td>\n      <td>...</td>\n      <td>...</td>\n      <td>...</td>\n      <td>...</td>\n    </tr>\n    <tr>\n      <td>7291</td>\n      <td>fe8d9ac40</td>\n      <td>50</td>\n      <td>60</td>\n      <td>17</td>\n      <td>7</td>\n      <td>8</td>\n      <td>3</td>\n      <td>7</td>\n    </tr>\n    <tr>\n      <td>7292</td>\n      <td>fea6b438a</td>\n      <td>50</td>\n      <td>60</td>\n      <td>14</td>\n      <td>9</td>\n      <td>4</td>\n      <td>3</td>\n      <td>4</td>\n    </tr>\n    <tr>\n      <td>7293</td>\n      <td>ff2eb9ce5</td>\n      <td>50</td>\n      <td>60</td>\n      <td>5</td>\n      <td>3</td>\n      <td>4</td>\n      <td>4</td>\n      <td>4</td>\n    </tr>\n    <tr>\n      <td>7294</td>\n      <td>ffb8d8391</td>\n      <td>50</td>\n      <td>60</td>\n      <td>9</td>\n      <td>4</td>\n      <td>1</td>\n      <td>4</td>\n      <td>4</td>\n    </tr>\n    <tr>\n      <td>7295</td>\n      <td>ffb9a7b9a</td>\n      <td>50</td>\n      <td>60</td>\n      <td>3</td>\n      <td>6</td>\n      <td>2</td>\n      <td>3</td>\n      <td>4</td>\n    </tr>\n  </tbody>\n</table>\n<p>7296 rows × 8 columns</p>\n</div>"
     },
     "metadata": {},
     "execution_count": 80
    }
   ],
   "source": [
    "pseudo_label_df"
   ]
  },
  {
   "cell_type": "code",
   "execution_count": 91,
   "metadata": {},
   "outputs": [],
   "source": [
    "pseudo_label_list = [] \n",
    "for idx, row in pseudo_label_df.iterrows():\n",
    "    recording_id = row\n",
    "    try:\n",
    "        pseudo_label = row[\"fold0\":\"fold4\"].value_counts()[(row[\"fold0\":\"fold4\"].value_counts() > 2)].values[0]\n",
    "    except:\n",
    "        pseudo_label = np.nan\n",
    "    pseudo_label_list.append(pseudo_label)\n"
   ]
  },
  {
   "cell_type": "code",
   "execution_count": 92,
   "metadata": {},
   "outputs": [
    {
     "output_type": "execute_result",
     "data": {
      "text/plain": [
       "     recording_id  t_min  t_max  fold0  fold1  fold2  fold3  fold4  species_id\n",
       "0       003bec244      0     10     13      3     14      8     13         NaN\n",
       "1       006ab765f      0     10     10     13     16      8     10         NaN\n",
       "2       007f87ba2      0     10     15     14     18     15     18         NaN\n",
       "3       0099c367b      0     10     12      8     20     11     10         NaN\n",
       "4       009b760e6      0     10     10      8     15      5     14         NaN\n",
       "...           ...    ...    ...    ...    ...    ...    ...    ...         ...\n",
       "7291    fe8d9ac40     50     60     17      7      8      3      7         NaN\n",
       "7292    fea6b438a     50     60     14      9      4      3      4         NaN\n",
       "7293    ff2eb9ce5     50     60      5      3      4      4      4         3.0\n",
       "7294    ffb8d8391     50     60      9      4      1      4      4         3.0\n",
       "7295    ffb9a7b9a     50     60      3      6      2      3      4         NaN\n",
       "\n",
       "[7296 rows x 9 columns]"
      ],
      "text/html": "<div>\n<style scoped>\n    .dataframe tbody tr th:only-of-type {\n        vertical-align: middle;\n    }\n\n    .dataframe tbody tr th {\n        vertical-align: top;\n    }\n\n    .dataframe thead th {\n        text-align: right;\n    }\n</style>\n<table border=\"1\" class=\"dataframe\">\n  <thead>\n    <tr style=\"text-align: right;\">\n      <th></th>\n      <th>recording_id</th>\n      <th>t_min</th>\n      <th>t_max</th>\n      <th>fold0</th>\n      <th>fold1</th>\n      <th>fold2</th>\n      <th>fold3</th>\n      <th>fold4</th>\n      <th>species_id</th>\n    </tr>\n  </thead>\n  <tbody>\n    <tr>\n      <td>0</td>\n      <td>003bec244</td>\n      <td>0</td>\n      <td>10</td>\n      <td>13</td>\n      <td>3</td>\n      <td>14</td>\n      <td>8</td>\n      <td>13</td>\n      <td>NaN</td>\n    </tr>\n    <tr>\n      <td>1</td>\n      <td>006ab765f</td>\n      <td>0</td>\n      <td>10</td>\n      <td>10</td>\n      <td>13</td>\n      <td>16</td>\n      <td>8</td>\n      <td>10</td>\n      <td>NaN</td>\n    </tr>\n    <tr>\n      <td>2</td>\n      <td>007f87ba2</td>\n      <td>0</td>\n      <td>10</td>\n      <td>15</td>\n      <td>14</td>\n      <td>18</td>\n      <td>15</td>\n      <td>18</td>\n      <td>NaN</td>\n    </tr>\n    <tr>\n      <td>3</td>\n      <td>0099c367b</td>\n      <td>0</td>\n      <td>10</td>\n      <td>12</td>\n      <td>8</td>\n      <td>20</td>\n      <td>11</td>\n      <td>10</td>\n      <td>NaN</td>\n    </tr>\n    <tr>\n      <td>4</td>\n      <td>009b760e6</td>\n      <td>0</td>\n      <td>10</td>\n      <td>10</td>\n      <td>8</td>\n      <td>15</td>\n      <td>5</td>\n      <td>14</td>\n      <td>NaN</td>\n    </tr>\n    <tr>\n      <td>...</td>\n      <td>...</td>\n      <td>...</td>\n      <td>...</td>\n      <td>...</td>\n      <td>...</td>\n      <td>...</td>\n      <td>...</td>\n      <td>...</td>\n      <td>...</td>\n    </tr>\n    <tr>\n      <td>7291</td>\n      <td>fe8d9ac40</td>\n      <td>50</td>\n      <td>60</td>\n      <td>17</td>\n      <td>7</td>\n      <td>8</td>\n      <td>3</td>\n      <td>7</td>\n      <td>NaN</td>\n    </tr>\n    <tr>\n      <td>7292</td>\n      <td>fea6b438a</td>\n      <td>50</td>\n      <td>60</td>\n      <td>14</td>\n      <td>9</td>\n      <td>4</td>\n      <td>3</td>\n      <td>4</td>\n      <td>NaN</td>\n    </tr>\n    <tr>\n      <td>7293</td>\n      <td>ff2eb9ce5</td>\n      <td>50</td>\n      <td>60</td>\n      <td>5</td>\n      <td>3</td>\n      <td>4</td>\n      <td>4</td>\n      <td>4</td>\n      <td>3.0</td>\n    </tr>\n    <tr>\n      <td>7294</td>\n      <td>ffb8d8391</td>\n      <td>50</td>\n      <td>60</td>\n      <td>9</td>\n      <td>4</td>\n      <td>1</td>\n      <td>4</td>\n      <td>4</td>\n      <td>3.0</td>\n    </tr>\n    <tr>\n      <td>7295</td>\n      <td>ffb9a7b9a</td>\n      <td>50</td>\n      <td>60</td>\n      <td>3</td>\n      <td>6</td>\n      <td>2</td>\n      <td>3</td>\n      <td>4</td>\n      <td>NaN</td>\n    </tr>\n  </tbody>\n</table>\n<p>7296 rows × 9 columns</p>\n</div>"
     },
     "metadata": {},
     "execution_count": 92
    }
   ],
   "source": [
    "pseudo_label_df[\"species_id\"] = pseudo_label_list\n",
    "pseudo_label_df"
   ]
  },
  {
   "cell_type": "code",
   "execution_count": 93,
   "metadata": {},
   "outputs": [
    {
     "output_type": "execute_result",
     "data": {
      "text/plain": [
       "3.0    434\n",
       "5.0    193\n",
       "4.0    140\n",
       "Name: species_id, dtype: int64"
      ]
     },
     "metadata": {},
     "execution_count": 93
    }
   ],
   "source": [
    "pseudo_label_df.species_id.value_counts()"
   ]
  },
  {
   "cell_type": "code",
   "execution_count": 94,
   "metadata": {},
   "outputs": [],
   "source": [
    "pseudo_label_df = pseudo_label_df.dropna()"
   ]
  },
  {
   "cell_type": "code",
   "execution_count": 95,
   "metadata": {},
   "outputs": [],
   "source": [
    "pseudo_label_df = pseudo_label_df[[\"recording_id\", \"species_id\", \"t_min\", \"t_max\"]]"
   ]
  },
  {
   "cell_type": "code",
   "execution_count": 96,
   "metadata": {},
   "outputs": [],
   "source": [
    "pseudo_label_df[\"species_id\"] = pseudo_label_df[\"species_id\"].astype(int)"
   ]
  },
  {
   "cell_type": "code",
   "execution_count": 97,
   "metadata": {},
   "outputs": [
    {
     "output_type": "execute_result",
     "data": {
      "text/plain": [
       "     recording_id  species_id  t_min  t_max\n",
       "16      0297d886e           3      0     10\n",
       "36      068f1b8e2           5      0     10\n",
       "37      06a0c48c9           4      0     10\n",
       "38      06c44d203           5      0     10\n",
       "39      073e4d908           3      0     10\n",
       "...           ...         ...    ...    ...\n",
       "7281    fbd5bbb6e           5     50     60\n",
       "7282    fc47cfba3           3     50     60\n",
       "7283    fc6609050           3     50     60\n",
       "7293    ff2eb9ce5           3     50     60\n",
       "7294    ffb8d8391           3     50     60\n",
       "\n",
       "[767 rows x 4 columns]"
      ],
      "text/html": "<div>\n<style scoped>\n    .dataframe tbody tr th:only-of-type {\n        vertical-align: middle;\n    }\n\n    .dataframe tbody tr th {\n        vertical-align: top;\n    }\n\n    .dataframe thead th {\n        text-align: right;\n    }\n</style>\n<table border=\"1\" class=\"dataframe\">\n  <thead>\n    <tr style=\"text-align: right;\">\n      <th></th>\n      <th>recording_id</th>\n      <th>species_id</th>\n      <th>t_min</th>\n      <th>t_max</th>\n    </tr>\n  </thead>\n  <tbody>\n    <tr>\n      <td>16</td>\n      <td>0297d886e</td>\n      <td>3</td>\n      <td>0</td>\n      <td>10</td>\n    </tr>\n    <tr>\n      <td>36</td>\n      <td>068f1b8e2</td>\n      <td>5</td>\n      <td>0</td>\n      <td>10</td>\n    </tr>\n    <tr>\n      <td>37</td>\n      <td>06a0c48c9</td>\n      <td>4</td>\n      <td>0</td>\n      <td>10</td>\n    </tr>\n    <tr>\n      <td>38</td>\n      <td>06c44d203</td>\n      <td>5</td>\n      <td>0</td>\n      <td>10</td>\n    </tr>\n    <tr>\n      <td>39</td>\n      <td>073e4d908</td>\n      <td>3</td>\n      <td>0</td>\n      <td>10</td>\n    </tr>\n    <tr>\n      <td>...</td>\n      <td>...</td>\n      <td>...</td>\n      <td>...</td>\n      <td>...</td>\n    </tr>\n    <tr>\n      <td>7281</td>\n      <td>fbd5bbb6e</td>\n      <td>5</td>\n      <td>50</td>\n      <td>60</td>\n    </tr>\n    <tr>\n      <td>7282</td>\n      <td>fc47cfba3</td>\n      <td>3</td>\n      <td>50</td>\n      <td>60</td>\n    </tr>\n    <tr>\n      <td>7283</td>\n      <td>fc6609050</td>\n      <td>3</td>\n      <td>50</td>\n      <td>60</td>\n    </tr>\n    <tr>\n      <td>7293</td>\n      <td>ff2eb9ce5</td>\n      <td>3</td>\n      <td>50</td>\n      <td>60</td>\n    </tr>\n    <tr>\n      <td>7294</td>\n      <td>ffb8d8391</td>\n      <td>3</td>\n      <td>50</td>\n      <td>60</td>\n    </tr>\n  </tbody>\n</table>\n<p>767 rows × 4 columns</p>\n</div>"
     },
     "metadata": {},
     "execution_count": 97
    }
   ],
   "source": [
    "pseudo_label_df"
   ]
  },
  {
   "cell_type": "code",
   "execution_count": 98,
   "metadata": {},
   "outputs": [],
   "source": [
    "pseudo_label_df.to_csv(\"./input/rfcx-species-audio-detection/pseudo.csv\", index=False)"
   ]
  },
  {
   "cell_type": "code",
   "execution_count": null,
   "metadata": {},
   "outputs": [],
   "source": []
  }
 ]
}