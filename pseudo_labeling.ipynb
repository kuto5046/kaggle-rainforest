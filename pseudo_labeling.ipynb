{
 "metadata": {
  "language_info": {
   "codemirror_mode": {
    "name": "ipython",
    "version": 3
   },
   "file_extension": ".py",
   "mimetype": "text/x-python",
   "name": "python",
   "nbconvert_exporter": "python",
   "pygments_lexer": "ipython3",
   "version": "3.7.4-final"
  },
  "orig_nbformat": 2,
  "kernelspec": {
   "name": "python3",
   "display_name": "Python 3",
   "language": "python"
  }
 },
 "nbformat": 4,
 "nbformat_minor": 2,
 "cells": [
  {
   "cell_type": "code",
   "execution_count": 1,
   "metadata": {},
   "outputs": [
    {
     "output_type": "stream",
     "name": "stderr",
     "text": [
      "/opt/anaconda3/lib/python3.7/site-packages/pywt/_utils.py:6: DeprecationWarning: Using or importing the ABCs from 'collections' instead of from 'collections.abc' is deprecated, and in 3.8 it will stop working\n  from collections import Iterable\n"
     ]
    }
   ],
   "source": [
    "import os\n",
    "import sys\n",
    "sys.path.append(\"..\")\n",
    "import torch\n",
    "import subprocess\n",
    "import traceback\n",
    "import warnings\n",
    "from pathlib import Path\n",
    "from datetime import datetime\n",
    "import pandas as pd\n",
    "import numpy as np\n",
    "\n",
    "from tqdm import tqdm\n",
    "# n.pyimport hydra\n",
    "import torch\n",
    "from torch import nn\n",
    "import torch.nn.functional as F\n",
    "from torch.utils.data import DataLoader, random_split\n",
    "from torchvision import transforms\n",
    "\n",
    "from src.metric import LWLRAP\n",
    "from src.models import get_model\n",
    "import src.configuration as C\n",
    "import src.utils as utils\n",
    "from src.metric import LWLRAP\n",
    "import pytorch_lightning as pl\n",
    "from pytorch_lightning.loggers import TensorBoardLogger\n",
    "from pytorch_lightning.callbacks import ModelCheckpoint\n",
    "from pytorch_lightning.callbacks import EarlyStopping\n",
    "from pytorch_lightning.loggers import MLFlowLogger"
   ]
  },
  {
   "cell_type": "code",
   "execution_count": 2,
   "metadata": {},
   "outputs": [],
   "source": [
    "config_str = \"\"\"\n",
    "globals:\n",
    "  seed: 42\n",
    "  device: cuda\n",
    "  max_epochs: 30\n",
    "  output_dir: output\n",
    "  timestamp: None\n",
    "  pretrained: False\n",
    "  pretrained_model_dir: None\n",
    "  only_pred: False\n",
    "  folds:\n",
    "    - 0\n",
    "    - 1\n",
    "    - 2\n",
    "    - 3\n",
    "    - 4\n",
    "  debug: False\n",
    "  kaggle: False\n",
    "\n",
    "mlflow:\n",
    "    experiment_name: rainforest\n",
    "    tags:\n",
    "      timestamp: None\n",
    "      model_name: None\n",
    "      loss_name: None\n",
    "      hash_value: None\n",
    "      message: baseline\n",
    "data:\n",
    "  root: ./\n",
    "  use_train_data:\n",
    "    - tp\n",
    "    - fp\n",
    "  train_tp_df_path: input/rfcx-species-audio-detection/train_tp.csv\n",
    "  train_fp_df_path: input/rfcx-species-audio-detection/train_fp.csv\n",
    "  train_audio_path: input/rfcx-species-audio-detection/train\n",
    "  test_audio_path: input/rfcx-species-audio-detection/test\n",
    "  sub_df_path: input/rfcx-species-audio-detection/sample_submission.csv\n",
    "\n",
    "\n",
    "dataset:\n",
    "  name: SpectrogramDataset\n",
    "  height: 224\n",
    "  width: 400\n",
    "  period: 10\n",
    "  shift_time: 10\n",
    "  strong_label_prob: 1.0\n",
    "  params:\n",
    "    melspec:\n",
    "      n_fft: 2048\n",
    "      n_mels: 128\n",
    "      fmin: 80\n",
    "      fmax: 15000\n",
    "      power: 2.0\n",
    "    pcen:\n",
    "      gain: 0.98\n",
    "      bias: 2\n",
    "      power: 0.5\n",
    "      time_constant: 0.4\n",
    "      eps: 0.000001\n",
    "\n",
    "loss:\n",
    "  name: LSEPStableLoss  # LSEPStableLoss LSEPLoss BCEWithLogitsLoss FocalLoss\n",
    "  params:\n",
    "    output_key: logit\n",
    "\n",
    "optimizer:\n",
    "  name: Adam\n",
    "  params:\n",
    "    lr: 0.001\n",
    "\n",
    "scheduler:\n",
    "  name: CosineAnnealingLR\n",
    "  params:\n",
    "    T_max: 10\n",
    "\n",
    "split:\n",
    "  name: StratifiedKFold  # MultilabelStratifiedKFold  StratifiedKFold\n",
    "  params:\n",
    "    n_splits: 5\n",
    "    random_state: 42\n",
    "    shuffle: True\n",
    "\n",
    "model:\n",
    "  name: EfficientNetSED\n",
    "  output_key: logit\n",
    "  params:\n",
    "    base_model_name: efficientnet-b2\n",
    "    pretrained: True\n",
    "    num_classes: 24\n",
    "\n",
    "loader:\n",
    "  train:\n",
    "    batch_size: 1\n",
    "    shuffle: True\n",
    "    num_workers: 10\n",
    "  valid:\n",
    "    batch_size: 1\n",
    "    shuffle: False\n",
    "    num_workers: 10\n",
    "  test:\n",
    "    batch_size: 1\n",
    "    shuffle: False\n",
    "    num_workers: 10\n",
    "\n",
    "transforms:\n",
    "  train:\n",
    "\n",
    "  valid:\n",
    "\n",
    "  test:\n",
    "\n",
    "mixup:\n",
    "  flag: False\n",
    "  alpha: 0.2\n",
    "  prob: 0.5\n",
    "\n",
    "\"\"\""
   ]
  },
  {
   "cell_type": "code",
   "execution_count": 4,
   "metadata": {},
   "outputs": [],
   "source": [
    "import yaml\n",
    "# config\n",
    "config = yaml.safe_load(config_str)\n",
    "device = \"cuda\"\n",
    "PSEUDO_THR = 0.5\n",
    "\n",
    "# data\n",
    "df, datadir = C.get_metadata(config)\n",
    "all_recording_ids = df[\"recording_id\"].values"
   ]
  },
  {
   "cell_type": "code",
   "execution_count": 6,
   "metadata": {},
   "outputs": [],
   "source": [
    "\n",
    "import cv2\n",
    "import random\n",
    "import librosa\n",
    "import numpy as np\n",
    "import pandas as pd\n",
    "import soundfile as sf\n",
    "import torch.utils.data as data\n",
    "import warnings\n",
    "from pathlib import Path\n",
    "\n",
    "PSEUDO_LABEL_VALUE = 1.0\n",
    "\"\"\"\n",
    "valid/testではtime flagは使わない\n",
    "60s分にaudioの長さを揃える\n",
    "10s単位に分割してリスト化してimage変換\n",
    "\"\"\"\n",
    "class SpectrogramDataset(data.Dataset):\n",
    "    def __init__(self,\n",
    "                 df: pd.DataFrame,\n",
    "                 phase: str,\n",
    "                 datadir: Path,\n",
    "                 height: int,\n",
    "                 width: int,\n",
    "                 period: int,\n",
    "                 shift_time: int,\n",
    "                 strong_label_prob: int, \n",
    "                 waveform_transforms=None,\n",
    "                 spectrogram_transforms=None,\n",
    "                 melspectrogram_parameters={},\n",
    "                 pcen_parameters = {}):\n",
    "        self.df = df\n",
    "        self.phase = phase\n",
    "        self.datadir = datadir\n",
    "        self.height = height\n",
    "        self.width = width\n",
    "        self.period = period\n",
    "        self.shift_time = shift_time\n",
    "        self.strong_label_prob = strong_label_prob\n",
    "        self.waveform_transforms = waveform_transforms\n",
    "        self.spectrogram_transforms = spectrogram_transforms\n",
    "        self.melspectrogram_parameters = melspectrogram_parameters\n",
    "        self.pcen_parameters = pcen_parameters\n",
    "        self.train_pseudo = None\n",
    "\n",
    "    def __len__(self):\n",
    "        return len(self.df)\n",
    "\n",
    "    def __getitem__(self, idx: int):\n",
    "        \n",
    "        # train_pseudo = self.train_pseudo.sample(frac=0.5)  # 毎回50%sampling\n",
    "        train_pseudo = self.train_pseudo\n",
    "        \n",
    "        sample = self.df.loc[idx, :]\n",
    "        recording_id = sample[\"recording_id\"]\n",
    "        y, sr = sf.read(self.datadir / f\"{recording_id}.flac\")  # for default\n",
    "        effective_length = sr * self.period\n",
    "        total_time = 60  # 音声を全て60sに揃える\n",
    "        y = adjust_audio_length(y, sr, total_time)\n",
    "        if self.waveform_transforms:\n",
    "            y = self.waveform_transforms(y)\n",
    "\n",
    "        if self.phase == 'train':\n",
    "            p = random.random()\n",
    "            if p < self.strong_label_prob:\n",
    "                y, labels = strong_clip_audio(self.df, y, sr, idx, effective_length, train_pseudo)\n",
    "            else:\n",
    "                y, labels = random_clip_audio(self.df, y, sr, idx, effective_length, train_pseudo)\n",
    "            image = wave2image_normal(y, sr, self.width, self.height, self.melspectrogram_parameters)\n",
    "            return image, labels\n",
    "        else:  # valid or test\n",
    "            # PERIODO単位に分割(現在は6等分)\n",
    "            split_y = split_audio(y, total_time, self.period, self.shift_time, sr)\n",
    "            \n",
    "            images = []\n",
    "            # 分割した音声を一つずつ画像化してリストで返す\n",
    "            for y in split_y:\n",
    "                image = wave2image_normal(y, sr, self.width, self.height, self.melspectrogram_parameters)\n",
    "                images.append(image)\n",
    "\n",
    "            if self.phase == 'valid':\n",
    "                query_string = f\"recording_id == '{recording_id}'\"\n",
    "                all_events = self.df.query(query_string)\n",
    "                labels = np.zeros(24, dtype=np.float32)\n",
    "                for idx, row in all_events.iterrows():\n",
    "                    if row['data_type'] == 'tp':\n",
    "                        labels[int(row['species_id'])] = 1.0\n",
    "                    else:\n",
    "                        labels[int(row['species_id'])] = -1.0\n",
    "\n",
    "                # labels = add_pseudo_label(labels, recording_id, train_pseudo)  # pseudo label\n",
    "                return np.asarray(images), labels\n",
    "\n",
    "            elif self.phase == 'test':\n",
    "                labels = -1  # testなので-1を返す\n",
    "                return np.asarray(images), labels\n",
    "            else:\n",
    "                raise NotImplementedError\n",
    "\n",
    "\n",
    "\n",
    "def adjust_audio_length(y, sr, total_time=60):\n",
    "    try:\n",
    "        assert len(y)==total_time * sr\n",
    "    except:\n",
    "        print('Assert Error')\n",
    "        # データの長さを全てtotal_time分にする\n",
    "        len_y = len(y)\n",
    "        total_length = total_time * sr\n",
    "        if len_y < total_length:\n",
    "            new_y = np.zeros(total_length, dtype=y.dtype)\n",
    "            start = np.random.randint(total_length - len_y)\n",
    "            new_y[start:start + len_y] = y\n",
    "            y = new_y.astype(np.float32)\n",
    "        elif len_y > total_length:\n",
    "            start = np.random.randint(len_y - total_length)\n",
    "            y = y[start:start + total_length].astype(np.float32)\n",
    "        else:\n",
    "            y = y.astype(np.float32)\n",
    "    return y\n",
    "\n",
    "\"\"\"\n",
    "############\n",
    "wave → image 変換\n",
    "############\n",
    "\"\"\"\n",
    "def wave2image_normal(y, sr, width, height, melspectrogram_parameters):\n",
    "    \"\"\"\n",
    "    通常のmelspectrogram変換\n",
    "    \"\"\"\n",
    "    melspec = librosa.feature.melspectrogram(y, sr=sr, **melspectrogram_parameters)\n",
    "    melspec = librosa.power_to_db(melspec).astype(np.float32)\n",
    "\n",
    "    image = mono_to_color(melspec)\n",
    "    image = cv2.resize(image, (width, height))\n",
    "    image = np.moveaxis(image, 2, 0)\n",
    "    image = (image / 255.0).astype(np.float32)\n",
    "    return image\n",
    "\n",
    "\n",
    "def mono_to_color(X: np.ndarray,\n",
    "                  mean=None,\n",
    "                  std=None,\n",
    "                  norm_max=None,\n",
    "                  norm_min=None,\n",
    "                  eps=1e-6):\n",
    "    # Stack X as [X,X,X]\n",
    "    X = np.stack([X, X, X], axis=-1)\n",
    "\n",
    "    # Standardize\n",
    "    mean = mean or X.mean()\n",
    "    X = X - mean\n",
    "    std = std or X.std()\n",
    "    Xstd = X / (std + eps)\n",
    "    _min, _max = Xstd.min(), Xstd.max()\n",
    "    norm_max = norm_max or _max\n",
    "    norm_min = norm_min or _min\n",
    "    if (_max - _min) > eps:\n",
    "        # Normalize to [0, 255]\n",
    "        V = Xstd\n",
    "        V[V < norm_min] = norm_min\n",
    "        V[V > norm_max] = norm_max\n",
    "        V = 255 * (V - norm_min) / (norm_max - norm_min)\n",
    "        V = V.astype(np.uint8)\n",
    "    else:\n",
    "        # Just zero\n",
    "        V = np.zeros_like(Xstd, dtype=np.uint8)\n",
    "    return V\n",
    "\n",
    "\n",
    "def split_audio(y, total_time, period, shift_time, sr):\n",
    "    # PERIODO単位に分割(現在は6等分)\n",
    "    # split_y = np.split(y, total_time/PERIOD)\n",
    "    num_data = int(total_time / shift_time)\n",
    "    shift_length = sr*shift_time\n",
    "    effective_length = sr*period\n",
    "    split_y = []\n",
    "    for i in range(num_data):\n",
    "        start = shift_length * i\n",
    "        finish = start + effective_length\n",
    "        split_y.append(y[start:finish])\n",
    "    \n",
    "    return split_y\n",
    "\n",
    "\n",
    "def strong_clip_audio(df, y, sr, idx, effective_length, pseudo_df):\n",
    "    \n",
    "    t_min = df.t_min.values[idx]*sr\n",
    "    t_max = df.t_max.values[idx]*sr\n",
    "\n",
    "    # Positioning sound slice\n",
    "    t_center = np.round((t_min + t_max) / 2)\n",
    "    \n",
    "    # 開始点の仮決定 \n",
    "    beginning = t_center - effective_length / 2\n",
    "    # overしたらaudioの最初からとする\n",
    "    if beginning < 0:\n",
    "        beginning = 0\n",
    "    beginning = np.random.randint(beginning, t_center)\n",
    "\n",
    "    # 開始点と終了点の決定\n",
    "    ending = beginning + effective_length\n",
    "    # overしたらaudioの最後までとする\n",
    "    if ending > len(y):\n",
    "        ending = len(y)\n",
    "    beginning = ending - effective_length\n",
    "\n",
    "    y = y[beginning:ending].astype(np.float32)\n",
    "    # assert len(y)==effective_length, f\"not much audio length in {idx}. The length of y is {len(y)} not {effective_length}.\"\n",
    "\n",
    "    # TODO 以下アライさんが追加した部分\n",
    "    # https://www.kaggle.com/c/rfcx-species-audio-detection/discussion/200922#1102470\n",
    "\n",
    "    # flame→time変換\n",
    "    beginning_time = beginning / sr\n",
    "    ending_time = ending / sr\n",
    "\n",
    "    # dfには同じrecording_idだけどclipしたt内に別のラベルがあるものもある\n",
    "    # そこでそれには正しいidを付けたい\n",
    "    recording_id = df.loc[idx, \"recording_id\"]\n",
    "    query_string = f\"recording_id == '{recording_id}' & \"\n",
    "    query_string += f\"t_min < {ending_time} & t_max > {beginning_time}\"\n",
    "\n",
    "    # 同じrecording_idのものを\n",
    "    all_events = df.query(query_string)\n",
    "\n",
    "    labels = np.zeros(24, dtype=np.float32)\n",
    "    for idx, row in all_events.iterrows(): \n",
    "        if row['data_type'] == 'tp':  # もしかしたらfpも混ざっているかもしれないので\n",
    "            labels[int(row['species_id'])] = 1.0  # tp label\n",
    "        else:\n",
    "            labels[int(row['species_id'])] = -1.0  # fp label\n",
    "\n",
    "    return y, labels"
   ]
  },
  {
   "cell_type": "code",
   "execution_count": 7,
   "metadata": {},
   "outputs": [],
   "source": [
    "dataset_config = config[\"dataset\"]\n",
    "dataset = SpectrogramDataset(\n",
    "    df,\n",
    "    phase='valid',\n",
    "    datadir=datadir,\n",
    "    height=dataset_config[\"height\"],\n",
    "    width=dataset_config[\"width\"],\n",
    "    period=dataset_config['period'],\n",
    "    shift_time=dataset_config['shift_time'],\n",
    "    strong_label_prob=dataset_config['strong_label_prob'],\n",
    "    waveform_transforms=None,\n",
    "    spectrogram_transforms=None,\n",
    "    melspectrogram_parameters=dataset_config[\"params\"]['melspec'],\n",
    "    pcen_parameters=dataset_config['params']['pcen'])\n",
    "\n",
    "loader_config = config[\"loader\"]['valid']\n",
    "loader = data.DataLoader(dataset, **loader_config)"
   ]
  },
  {
   "cell_type": "code",
   "execution_count": 8,
   "metadata": {},
   "outputs": [
    {
     "output_type": "execute_result",
     "data": {
      "text/plain": [
       "     recording_id  species_id  songtype_id    t_min     f_min    t_max  \\\n",
       "0       003bec244          14            1  44.5440  2531.250  45.1307   \n",
       "1       006ab765f          23            1  39.9615  7235.160  46.0452   \n",
       "2       007f87ba2          12            1  39.1360   562.500  42.2720   \n",
       "3       0099c367b          17            4  51.4206  1464.260  55.1996   \n",
       "4       009b760e6          10            1  50.0854   947.461  52.5293   \n",
       "...           ...         ...          ...      ...       ...      ...   \n",
       "8992    ffd88cd84          14            1   3.2000  2531.250   3.7867   \n",
       "8993    ffebe7313           1            1  35.2000  3843.750  36.0960   \n",
       "8994    fff163132          17            4  22.5547  1312.500  25.0880   \n",
       "8995    fff163132          14            1  37.0827  2531.250  37.6693   \n",
       "8996    fffb79246           6            1   8.3573   562.500  10.5013   \n",
       "\n",
       "         f_max data_type  \n",
       "0      5531.25        tp  \n",
       "1     11283.40        tp  \n",
       "2      3281.25        tp  \n",
       "3      4565.04        tp  \n",
       "4     10852.70        tp  \n",
       "...        ...       ...  \n",
       "8992   5531.25        fp  \n",
       "8993   5625.00        fp  \n",
       "8994   7406.25        fp  \n",
       "8995   5531.25        fp  \n",
       "8996   4406.25        fp  \n",
       "\n",
       "[8997 rows x 8 columns]"
      ],
      "text/html": "<div>\n<style scoped>\n    .dataframe tbody tr th:only-of-type {\n        vertical-align: middle;\n    }\n\n    .dataframe tbody tr th {\n        vertical-align: top;\n    }\n\n    .dataframe thead th {\n        text-align: right;\n    }\n</style>\n<table border=\"1\" class=\"dataframe\">\n  <thead>\n    <tr style=\"text-align: right;\">\n      <th></th>\n      <th>recording_id</th>\n      <th>species_id</th>\n      <th>songtype_id</th>\n      <th>t_min</th>\n      <th>f_min</th>\n      <th>t_max</th>\n      <th>f_max</th>\n      <th>data_type</th>\n    </tr>\n  </thead>\n  <tbody>\n    <tr>\n      <td>0</td>\n      <td>003bec244</td>\n      <td>14</td>\n      <td>1</td>\n      <td>44.5440</td>\n      <td>2531.250</td>\n      <td>45.1307</td>\n      <td>5531.25</td>\n      <td>tp</td>\n    </tr>\n    <tr>\n      <td>1</td>\n      <td>006ab765f</td>\n      <td>23</td>\n      <td>1</td>\n      <td>39.9615</td>\n      <td>7235.160</td>\n      <td>46.0452</td>\n      <td>11283.40</td>\n      <td>tp</td>\n    </tr>\n    <tr>\n      <td>2</td>\n      <td>007f87ba2</td>\n      <td>12</td>\n      <td>1</td>\n      <td>39.1360</td>\n      <td>562.500</td>\n      <td>42.2720</td>\n      <td>3281.25</td>\n      <td>tp</td>\n    </tr>\n    <tr>\n      <td>3</td>\n      <td>0099c367b</td>\n      <td>17</td>\n      <td>4</td>\n      <td>51.4206</td>\n      <td>1464.260</td>\n      <td>55.1996</td>\n      <td>4565.04</td>\n      <td>tp</td>\n    </tr>\n    <tr>\n      <td>4</td>\n      <td>009b760e6</td>\n      <td>10</td>\n      <td>1</td>\n      <td>50.0854</td>\n      <td>947.461</td>\n      <td>52.5293</td>\n      <td>10852.70</td>\n      <td>tp</td>\n    </tr>\n    <tr>\n      <td>...</td>\n      <td>...</td>\n      <td>...</td>\n      <td>...</td>\n      <td>...</td>\n      <td>...</td>\n      <td>...</td>\n      <td>...</td>\n      <td>...</td>\n    </tr>\n    <tr>\n      <td>8992</td>\n      <td>ffd88cd84</td>\n      <td>14</td>\n      <td>1</td>\n      <td>3.2000</td>\n      <td>2531.250</td>\n      <td>3.7867</td>\n      <td>5531.25</td>\n      <td>fp</td>\n    </tr>\n    <tr>\n      <td>8993</td>\n      <td>ffebe7313</td>\n      <td>1</td>\n      <td>1</td>\n      <td>35.2000</td>\n      <td>3843.750</td>\n      <td>36.0960</td>\n      <td>5625.00</td>\n      <td>fp</td>\n    </tr>\n    <tr>\n      <td>8994</td>\n      <td>fff163132</td>\n      <td>17</td>\n      <td>4</td>\n      <td>22.5547</td>\n      <td>1312.500</td>\n      <td>25.0880</td>\n      <td>7406.25</td>\n      <td>fp</td>\n    </tr>\n    <tr>\n      <td>8995</td>\n      <td>fff163132</td>\n      <td>14</td>\n      <td>1</td>\n      <td>37.0827</td>\n      <td>2531.250</td>\n      <td>37.6693</td>\n      <td>5531.25</td>\n      <td>fp</td>\n    </tr>\n    <tr>\n      <td>8996</td>\n      <td>fffb79246</td>\n      <td>6</td>\n      <td>1</td>\n      <td>8.3573</td>\n      <td>562.500</td>\n      <td>10.5013</td>\n      <td>4406.25</td>\n      <td>fp</td>\n    </tr>\n  </tbody>\n</table>\n<p>8997 rows × 8 columns</p>\n</div>"
     },
     "metadata": {},
     "execution_count": 8
    }
   ],
   "source": [
    "df"
   ]
  },
  {
   "source": [
    "## clipwiseでpseudo"
   ],
   "cell_type": "markdown",
   "metadata": {}
  },
  {
   "cell_type": "code",
   "execution_count": 9,
   "metadata": {
    "tags": []
   },
   "outputs": [
    {
     "output_type": "stream",
     "name": "stdout",
     "text": [
      "fold-0\n",
      "Loaded pretrained weights for efficientnet-b2\n",
      "8997it [03:10, 47.25it/s]\n",
      "fold-1\n",
      "Loaded pretrained weights for efficientnet-b2\n",
      "8997it [03:14, 46.21it/s]\n",
      "fold-2\n",
      "Loaded pretrained weights for efficientnet-b2\n",
      "8997it [03:13, 46.55it/s]\n",
      "fold-3\n",
      "Loaded pretrained weights for efficientnet-b2\n",
      "8997it [03:16, 45.80it/s]\n",
      "fold-4\n",
      "Loaded pretrained weights for efficientnet-b2\n",
      "8997it [03:17, 45.63it/s]\n"
     ]
    }
   ],
   "source": [
    "\n",
    "pseudo_label_dict_list = []\n",
    "for fold in range(5):\n",
    "    # model\n",
    "    print(f\"fold-{fold}\")\n",
    "    model = get_model(config)\n",
    "    model_name = \"EfficientNetSED\"\n",
    "    # output_dir = Path(\"output/0123_181828\")\n",
    "    output_dir = Path(\"backup/0123_181828\")\n",
    "    try:\n",
    "        ckpt = torch.load(output_dir / f'{model_name}-{fold}-v0.ckpt')  # TODO foldごとのモデルを取得できるようにする\n",
    "    except:\n",
    "        ckpt = torch.load(output_dir / f'{model_name}-{fold}.ckpt')  # TODO foldごとのモデルを取得できるようにする\n",
    "    model.load_state_dict(ckpt['state_dict'])\n",
    "    model.eval().to(device)\n",
    "\n",
    "\n",
    "    output_key = \"logit\"\n",
    "    pseudo_label_dict = {}\n",
    "    with torch.no_grad():\n",
    "        # xは複数のlist\n",
    "        for (x_list, y), recording_id in tqdm(zip(loader, all_recording_ids)):\n",
    "            batch_size = x_list.shape[0]\n",
    "            x = x_list.view(-1, x_list.shape[2], x_list.shape[3], x_list.shape[4])  # batch>1でも可\n",
    "            x = x.to(device)\n",
    "            output = model.model(x)\n",
    "            output = output[output_key]\n",
    "            output = output.view(batch_size, -1, 24)  # (1, 6, 24)\n",
    "            preds = output.sigmoid().detach().cpu().numpy()[0]  # 1batchを前提に0こ目だけ取得\n",
    "\n",
    "            # どれかのクラスが反応している場合、閾値以上のクラスを追加\n",
    "            labels = []\n",
    "            # labels = {\"0\":[], \"1\":[], \"2\":[], \"3\":[], \"4\":[], \"5\":[]}  # 0: 0~10s 1:10~20s ... 5:50~60s\n",
    "            for i in range(preds.shape[0]):  # 6音声を１つずつ処理\n",
    "                pred = preds[i]\n",
    "                if (pred > 0.9).any():  # 1つのクラスでも0.9以上があればラベル候補とする\n",
    "                    idx = np.where(pred > PSEUDO_THR)[0]\n",
    "                    _lab = np.eye(24)[idx]\n",
    "                    _lab = (_lab.sum(0) > 0).astype(int)  # (1, 24)\n",
    "                else:\n",
    "                    _lab = np.zeros(24)\n",
    "                labels.append(_lab)\n",
    "            labels = np.stack(labels).astype(int)  # [(1,24)*6] -> (6, 24)\n",
    "            if labels.sum() == 0:  # 1つのラベルもついていない場合は次のbatchへ\n",
    "                continue\n",
    "            pseudo_label_dict[recording_id] = labels\n",
    "\n",
    "    pseudo_label_dict_list.append(pseudo_label_dict)"
   ]
  },
  {
   "source": [
    "## 60sをtargetに"
   ],
   "cell_type": "markdown",
   "metadata": {}
  },
  {
   "cell_type": "code",
   "execution_count": 10,
   "metadata": {},
   "outputs": [],
   "source": [
    "pseudo_label_dict_5fold = {}\n",
    "for recording_id in all_recording_ids:  # recordingのループ\n",
    "    labels = []\n",
    "    # 任意の音声の5fold分のpsuedo label候補を取り出す\n",
    "    for pseudo_label_dict in pseudo_label_dict_list:  # 5foldのループ\n",
    "        try:\n",
    "            label = pseudo_label_dict[recording_id]\n",
    "        except KeyError:\n",
    "            label = np.zeros((6, 24))\n",
    "        labels.append(label)\n",
    "    new_label = (np.stack(labels).sum(0) > 2).astype(int)\n",
    "    new_label = (new_label.sum(0) > 0).astype(int)  # 6分割されている音声を1つにまとめる(for 60s)\n",
    "    if new_label.sum() == 0:  \n",
    "        pass\n",
    "    else:\n",
    "        pseudo_label_dict_5fold[recording_id] = new_label"
   ]
  },
  {
   "cell_type": "code",
   "execution_count": 11,
   "metadata": {},
   "outputs": [
    {
     "output_type": "execute_result",
     "data": {
      "text/plain": [
       "           0   1   2   3   4   5   6   7   8   9   ...  14  15  16  17  18  \\\n",
       "003bec244   0   1   0   1   0   1   0   1   0   0  ...   1   0   0   0   0   \n",
       "006ab765f   0   0   0   1   0   0   0   1   0   0  ...   1   0   0   0   0   \n",
       "007f87ba2   0   1   0   1   1   0   0   0   1   0  ...   0   0   0   0   1   \n",
       "0099c367b   0   0   0   1   0   0   1   0   0   1  ...   1   0   0   1   0   \n",
       "009b760e6   0   0   0   0   0   0   1   0   0   0  ...   0   0   0   0   0   \n",
       "...        ..  ..  ..  ..  ..  ..  ..  ..  ..  ..  ...  ..  ..  ..  ..  ..   \n",
       "ffc6031f8   0   0   0   1   0   0   0   1   0   0  ...   1   1   0   1   0   \n",
       "ffd88cd84   1   1   0   1   0   0   0   0   0   1  ...   1   1   0   0   1   \n",
       "ffebe7313   1   1   0   0   1   0   0   0   1   0  ...   1   0   0   0   0   \n",
       "fff163132   0   1   0   1   0   0   0   0   0   0  ...   0   0   1   1   0   \n",
       "fffb79246   0   0   0   1   0   1   0   1   0   0  ...   0   0   0   0   0   \n",
       "\n",
       "           19  20  21  22  23  \n",
       "003bec244   0   1   0   0   1  \n",
       "006ab765f   0   0   0   0   1  \n",
       "007f87ba2   0   0   1   0   0  \n",
       "0099c367b   1   0   0   0   1  \n",
       "009b760e6   0   0   0   0   1  \n",
       "...        ..  ..  ..  ..  ..  \n",
       "ffc6031f8   0   0   0   0   1  \n",
       "ffd88cd84   0   0   0   0   0  \n",
       "ffebe7313   0   0   1   0   0  \n",
       "fff163132   0   0   0   0   0  \n",
       "fffb79246   0   0   0   0   1  \n",
       "\n",
       "[4727 rows x 24 columns]"
      ],
      "text/html": "<div>\n<style scoped>\n    .dataframe tbody tr th:only-of-type {\n        vertical-align: middle;\n    }\n\n    .dataframe tbody tr th {\n        vertical-align: top;\n    }\n\n    .dataframe thead th {\n        text-align: right;\n    }\n</style>\n<table border=\"1\" class=\"dataframe\">\n  <thead>\n    <tr style=\"text-align: right;\">\n      <th></th>\n      <th>0</th>\n      <th>1</th>\n      <th>2</th>\n      <th>3</th>\n      <th>4</th>\n      <th>5</th>\n      <th>6</th>\n      <th>7</th>\n      <th>8</th>\n      <th>9</th>\n      <th>...</th>\n      <th>14</th>\n      <th>15</th>\n      <th>16</th>\n      <th>17</th>\n      <th>18</th>\n      <th>19</th>\n      <th>20</th>\n      <th>21</th>\n      <th>22</th>\n      <th>23</th>\n    </tr>\n  </thead>\n  <tbody>\n    <tr>\n      <td>003bec244</td>\n      <td>0</td>\n      <td>1</td>\n      <td>0</td>\n      <td>1</td>\n      <td>0</td>\n      <td>1</td>\n      <td>0</td>\n      <td>1</td>\n      <td>0</td>\n      <td>0</td>\n      <td>...</td>\n      <td>1</td>\n      <td>0</td>\n      <td>0</td>\n      <td>0</td>\n      <td>0</td>\n      <td>0</td>\n      <td>1</td>\n      <td>0</td>\n      <td>0</td>\n      <td>1</td>\n    </tr>\n    <tr>\n      <td>006ab765f</td>\n      <td>0</td>\n      <td>0</td>\n      <td>0</td>\n      <td>1</td>\n      <td>0</td>\n      <td>0</td>\n      <td>0</td>\n      <td>1</td>\n      <td>0</td>\n      <td>0</td>\n      <td>...</td>\n      <td>1</td>\n      <td>0</td>\n      <td>0</td>\n      <td>0</td>\n      <td>0</td>\n      <td>0</td>\n      <td>0</td>\n      <td>0</td>\n      <td>0</td>\n      <td>1</td>\n    </tr>\n    <tr>\n      <td>007f87ba2</td>\n      <td>0</td>\n      <td>1</td>\n      <td>0</td>\n      <td>1</td>\n      <td>1</td>\n      <td>0</td>\n      <td>0</td>\n      <td>0</td>\n      <td>1</td>\n      <td>0</td>\n      <td>...</td>\n      <td>0</td>\n      <td>0</td>\n      <td>0</td>\n      <td>0</td>\n      <td>1</td>\n      <td>0</td>\n      <td>0</td>\n      <td>1</td>\n      <td>0</td>\n      <td>0</td>\n    </tr>\n    <tr>\n      <td>0099c367b</td>\n      <td>0</td>\n      <td>0</td>\n      <td>0</td>\n      <td>1</td>\n      <td>0</td>\n      <td>0</td>\n      <td>1</td>\n      <td>0</td>\n      <td>0</td>\n      <td>1</td>\n      <td>...</td>\n      <td>1</td>\n      <td>0</td>\n      <td>0</td>\n      <td>1</td>\n      <td>0</td>\n      <td>1</td>\n      <td>0</td>\n      <td>0</td>\n      <td>0</td>\n      <td>1</td>\n    </tr>\n    <tr>\n      <td>009b760e6</td>\n      <td>0</td>\n      <td>0</td>\n      <td>0</td>\n      <td>0</td>\n      <td>0</td>\n      <td>0</td>\n      <td>1</td>\n      <td>0</td>\n      <td>0</td>\n      <td>0</td>\n      <td>...</td>\n      <td>0</td>\n      <td>0</td>\n      <td>0</td>\n      <td>0</td>\n      <td>0</td>\n      <td>0</td>\n      <td>0</td>\n      <td>0</td>\n      <td>0</td>\n      <td>1</td>\n    </tr>\n    <tr>\n      <td>...</td>\n      <td>...</td>\n      <td>...</td>\n      <td>...</td>\n      <td>...</td>\n      <td>...</td>\n      <td>...</td>\n      <td>...</td>\n      <td>...</td>\n      <td>...</td>\n      <td>...</td>\n      <td>...</td>\n      <td>...</td>\n      <td>...</td>\n      <td>...</td>\n      <td>...</td>\n      <td>...</td>\n      <td>...</td>\n      <td>...</td>\n      <td>...</td>\n      <td>...</td>\n      <td>...</td>\n    </tr>\n    <tr>\n      <td>ffc6031f8</td>\n      <td>0</td>\n      <td>0</td>\n      <td>0</td>\n      <td>1</td>\n      <td>0</td>\n      <td>0</td>\n      <td>0</td>\n      <td>1</td>\n      <td>0</td>\n      <td>0</td>\n      <td>...</td>\n      <td>1</td>\n      <td>1</td>\n      <td>0</td>\n      <td>1</td>\n      <td>0</td>\n      <td>0</td>\n      <td>0</td>\n      <td>0</td>\n      <td>0</td>\n      <td>1</td>\n    </tr>\n    <tr>\n      <td>ffd88cd84</td>\n      <td>1</td>\n      <td>1</td>\n      <td>0</td>\n      <td>1</td>\n      <td>0</td>\n      <td>0</td>\n      <td>0</td>\n      <td>0</td>\n      <td>0</td>\n      <td>1</td>\n      <td>...</td>\n      <td>1</td>\n      <td>1</td>\n      <td>0</td>\n      <td>0</td>\n      <td>1</td>\n      <td>0</td>\n      <td>0</td>\n      <td>0</td>\n      <td>0</td>\n      <td>0</td>\n    </tr>\n    <tr>\n      <td>ffebe7313</td>\n      <td>1</td>\n      <td>1</td>\n      <td>0</td>\n      <td>0</td>\n      <td>1</td>\n      <td>0</td>\n      <td>0</td>\n      <td>0</td>\n      <td>1</td>\n      <td>0</td>\n      <td>...</td>\n      <td>1</td>\n      <td>0</td>\n      <td>0</td>\n      <td>0</td>\n      <td>0</td>\n      <td>0</td>\n      <td>0</td>\n      <td>1</td>\n      <td>0</td>\n      <td>0</td>\n    </tr>\n    <tr>\n      <td>fff163132</td>\n      <td>0</td>\n      <td>1</td>\n      <td>0</td>\n      <td>1</td>\n      <td>0</td>\n      <td>0</td>\n      <td>0</td>\n      <td>0</td>\n      <td>0</td>\n      <td>0</td>\n      <td>...</td>\n      <td>0</td>\n      <td>0</td>\n      <td>1</td>\n      <td>1</td>\n      <td>0</td>\n      <td>0</td>\n      <td>0</td>\n      <td>0</td>\n      <td>0</td>\n      <td>0</td>\n    </tr>\n    <tr>\n      <td>fffb79246</td>\n      <td>0</td>\n      <td>0</td>\n      <td>0</td>\n      <td>1</td>\n      <td>0</td>\n      <td>1</td>\n      <td>0</td>\n      <td>1</td>\n      <td>0</td>\n      <td>0</td>\n      <td>...</td>\n      <td>0</td>\n      <td>0</td>\n      <td>0</td>\n      <td>0</td>\n      <td>0</td>\n      <td>0</td>\n      <td>0</td>\n      <td>0</td>\n      <td>0</td>\n      <td>1</td>\n    </tr>\n  </tbody>\n</table>\n<p>4727 rows × 24 columns</p>\n</div>"
     },
     "metadata": {},
     "execution_count": 11
    }
   ],
   "source": [
    "pseudo_df = pd.DataFrame(pseudo_label_dict_5fold).T\n",
    "pseudo_df"
   ]
  },
  {
   "cell_type": "code",
   "execution_count": 12,
   "metadata": {},
   "outputs": [
    {
     "output_type": "execute_result",
     "data": {
      "text/plain": [
       "     recording_id  0  1  2  3  4  5  6  7  8  ...  14  15  16  17  18  19  20  \\\n",
       "0       003bec244  0  1  0  1  0  1  0  1  0  ...   1   0   0   0   0   0   1   \n",
       "1       006ab765f  0  0  0  1  0  0  0  1  0  ...   1   0   0   0   0   0   0   \n",
       "2       007f87ba2  0  1  0  1  1  0  0  0  1  ...   0   0   0   0   1   0   0   \n",
       "3       0099c367b  0  0  0  1  0  0  1  0  0  ...   1   0   0   1   0   1   0   \n",
       "4       009b760e6  0  0  0  0  0  0  1  0  0  ...   0   0   0   0   0   0   0   \n",
       "...           ... .. .. .. .. .. .. .. .. ..  ...  ..  ..  ..  ..  ..  ..  ..   \n",
       "4722    ffc6031f8  0  0  0  1  0  0  0  1  0  ...   1   1   0   1   0   0   0   \n",
       "4723    ffd88cd84  1  1  0  1  0  0  0  0  0  ...   1   1   0   0   1   0   0   \n",
       "4724    ffebe7313  1  1  0  0  1  0  0  0  1  ...   1   0   0   0   0   0   0   \n",
       "4725    fff163132  0  1  0  1  0  0  0  0  0  ...   0   0   1   1   0   0   0   \n",
       "4726    fffb79246  0  0  0  1  0  1  0  1  0  ...   0   0   0   0   0   0   0   \n",
       "\n",
       "      21  22  23  \n",
       "0      0   0   1  \n",
       "1      0   0   1  \n",
       "2      1   0   0  \n",
       "3      0   0   1  \n",
       "4      0   0   1  \n",
       "...   ..  ..  ..  \n",
       "4722   0   0   1  \n",
       "4723   0   0   0  \n",
       "4724   1   0   0  \n",
       "4725   0   0   0  \n",
       "4726   0   0   1  \n",
       "\n",
       "[4727 rows x 25 columns]"
      ],
      "text/html": "<div>\n<style scoped>\n    .dataframe tbody tr th:only-of-type {\n        vertical-align: middle;\n    }\n\n    .dataframe tbody tr th {\n        vertical-align: top;\n    }\n\n    .dataframe thead th {\n        text-align: right;\n    }\n</style>\n<table border=\"1\" class=\"dataframe\">\n  <thead>\n    <tr style=\"text-align: right;\">\n      <th></th>\n      <th>recording_id</th>\n      <th>0</th>\n      <th>1</th>\n      <th>2</th>\n      <th>3</th>\n      <th>4</th>\n      <th>5</th>\n      <th>6</th>\n      <th>7</th>\n      <th>8</th>\n      <th>...</th>\n      <th>14</th>\n      <th>15</th>\n      <th>16</th>\n      <th>17</th>\n      <th>18</th>\n      <th>19</th>\n      <th>20</th>\n      <th>21</th>\n      <th>22</th>\n      <th>23</th>\n    </tr>\n  </thead>\n  <tbody>\n    <tr>\n      <td>0</td>\n      <td>003bec244</td>\n      <td>0</td>\n      <td>1</td>\n      <td>0</td>\n      <td>1</td>\n      <td>0</td>\n      <td>1</td>\n      <td>0</td>\n      <td>1</td>\n      <td>0</td>\n      <td>...</td>\n      <td>1</td>\n      <td>0</td>\n      <td>0</td>\n      <td>0</td>\n      <td>0</td>\n      <td>0</td>\n      <td>1</td>\n      <td>0</td>\n      <td>0</td>\n      <td>1</td>\n    </tr>\n    <tr>\n      <td>1</td>\n      <td>006ab765f</td>\n      <td>0</td>\n      <td>0</td>\n      <td>0</td>\n      <td>1</td>\n      <td>0</td>\n      <td>0</td>\n      <td>0</td>\n      <td>1</td>\n      <td>0</td>\n      <td>...</td>\n      <td>1</td>\n      <td>0</td>\n      <td>0</td>\n      <td>0</td>\n      <td>0</td>\n      <td>0</td>\n      <td>0</td>\n      <td>0</td>\n      <td>0</td>\n      <td>1</td>\n    </tr>\n    <tr>\n      <td>2</td>\n      <td>007f87ba2</td>\n      <td>0</td>\n      <td>1</td>\n      <td>0</td>\n      <td>1</td>\n      <td>1</td>\n      <td>0</td>\n      <td>0</td>\n      <td>0</td>\n      <td>1</td>\n      <td>...</td>\n      <td>0</td>\n      <td>0</td>\n      <td>0</td>\n      <td>0</td>\n      <td>1</td>\n      <td>0</td>\n      <td>0</td>\n      <td>1</td>\n      <td>0</td>\n      <td>0</td>\n    </tr>\n    <tr>\n      <td>3</td>\n      <td>0099c367b</td>\n      <td>0</td>\n      <td>0</td>\n      <td>0</td>\n      <td>1</td>\n      <td>0</td>\n      <td>0</td>\n      <td>1</td>\n      <td>0</td>\n      <td>0</td>\n      <td>...</td>\n      <td>1</td>\n      <td>0</td>\n      <td>0</td>\n      <td>1</td>\n      <td>0</td>\n      <td>1</td>\n      <td>0</td>\n      <td>0</td>\n      <td>0</td>\n      <td>1</td>\n    </tr>\n    <tr>\n      <td>4</td>\n      <td>009b760e6</td>\n      <td>0</td>\n      <td>0</td>\n      <td>0</td>\n      <td>0</td>\n      <td>0</td>\n      <td>0</td>\n      <td>1</td>\n      <td>0</td>\n      <td>0</td>\n      <td>...</td>\n      <td>0</td>\n      <td>0</td>\n      <td>0</td>\n      <td>0</td>\n      <td>0</td>\n      <td>0</td>\n      <td>0</td>\n      <td>0</td>\n      <td>0</td>\n      <td>1</td>\n    </tr>\n    <tr>\n      <td>...</td>\n      <td>...</td>\n      <td>...</td>\n      <td>...</td>\n      <td>...</td>\n      <td>...</td>\n      <td>...</td>\n      <td>...</td>\n      <td>...</td>\n      <td>...</td>\n      <td>...</td>\n      <td>...</td>\n      <td>...</td>\n      <td>...</td>\n      <td>...</td>\n      <td>...</td>\n      <td>...</td>\n      <td>...</td>\n      <td>...</td>\n      <td>...</td>\n      <td>...</td>\n      <td>...</td>\n    </tr>\n    <tr>\n      <td>4722</td>\n      <td>ffc6031f8</td>\n      <td>0</td>\n      <td>0</td>\n      <td>0</td>\n      <td>1</td>\n      <td>0</td>\n      <td>0</td>\n      <td>0</td>\n      <td>1</td>\n      <td>0</td>\n      <td>...</td>\n      <td>1</td>\n      <td>1</td>\n      <td>0</td>\n      <td>1</td>\n      <td>0</td>\n      <td>0</td>\n      <td>0</td>\n      <td>0</td>\n      <td>0</td>\n      <td>1</td>\n    </tr>\n    <tr>\n      <td>4723</td>\n      <td>ffd88cd84</td>\n      <td>1</td>\n      <td>1</td>\n      <td>0</td>\n      <td>1</td>\n      <td>0</td>\n      <td>0</td>\n      <td>0</td>\n      <td>0</td>\n      <td>0</td>\n      <td>...</td>\n      <td>1</td>\n      <td>1</td>\n      <td>0</td>\n      <td>0</td>\n      <td>1</td>\n      <td>0</td>\n      <td>0</td>\n      <td>0</td>\n      <td>0</td>\n      <td>0</td>\n    </tr>\n    <tr>\n      <td>4724</td>\n      <td>ffebe7313</td>\n      <td>1</td>\n      <td>1</td>\n      <td>0</td>\n      <td>0</td>\n      <td>1</td>\n      <td>0</td>\n      <td>0</td>\n      <td>0</td>\n      <td>1</td>\n      <td>...</td>\n      <td>1</td>\n      <td>0</td>\n      <td>0</td>\n      <td>0</td>\n      <td>0</td>\n      <td>0</td>\n      <td>0</td>\n      <td>1</td>\n      <td>0</td>\n      <td>0</td>\n    </tr>\n    <tr>\n      <td>4725</td>\n      <td>fff163132</td>\n      <td>0</td>\n      <td>1</td>\n      <td>0</td>\n      <td>1</td>\n      <td>0</td>\n      <td>0</td>\n      <td>0</td>\n      <td>0</td>\n      <td>0</td>\n      <td>...</td>\n      <td>0</td>\n      <td>0</td>\n      <td>1</td>\n      <td>1</td>\n      <td>0</td>\n      <td>0</td>\n      <td>0</td>\n      <td>0</td>\n      <td>0</td>\n      <td>0</td>\n    </tr>\n    <tr>\n      <td>4726</td>\n      <td>fffb79246</td>\n      <td>0</td>\n      <td>0</td>\n      <td>0</td>\n      <td>1</td>\n      <td>0</td>\n      <td>1</td>\n      <td>0</td>\n      <td>1</td>\n      <td>0</td>\n      <td>...</td>\n      <td>0</td>\n      <td>0</td>\n      <td>0</td>\n      <td>0</td>\n      <td>0</td>\n      <td>0</td>\n      <td>0</td>\n      <td>0</td>\n      <td>0</td>\n      <td>1</td>\n    </tr>\n  </tbody>\n</table>\n<p>4727 rows × 25 columns</p>\n</div>"
     },
     "metadata": {},
     "execution_count": 12
    }
   ],
   "source": [
    "pseudo_df = pseudo_df.reset_index().rename(columns={'index':'recording_id'})\n",
    "pseudo_df"
   ]
  },
  {
   "cell_type": "code",
   "execution_count": 13,
   "metadata": {},
   "outputs": [],
   "source": [
    "pseudo_df['t_min'] = 0\n",
    "pseudo_df['t_max'] = 60"
   ]
  },
  {
   "cell_type": "code",
   "execution_count": 14,
   "metadata": {},
   "outputs": [
    {
     "output_type": "execute_result",
     "data": {
      "text/plain": [
       "     recording_id  0  1  2  3  4  5  6  7  8  ...  16  17  18  19  20  21  22  \\\n",
       "0       003bec244  0  1  0  1  0  1  0  1  0  ...   0   0   0   0   1   0   0   \n",
       "1       006ab765f  0  0  0  1  0  0  0  1  0  ...   0   0   0   0   0   0   0   \n",
       "2       007f87ba2  0  1  0  1  1  0  0  0  1  ...   0   0   1   0   0   1   0   \n",
       "3       0099c367b  0  0  0  1  0  0  1  0  0  ...   0   1   0   1   0   0   0   \n",
       "4       009b760e6  0  0  0  0  0  0  1  0  0  ...   0   0   0   0   0   0   0   \n",
       "...           ... .. .. .. .. .. .. .. .. ..  ...  ..  ..  ..  ..  ..  ..  ..   \n",
       "4722    ffc6031f8  0  0  0  1  0  0  0  1  0  ...   0   1   0   0   0   0   0   \n",
       "4723    ffd88cd84  1  1  0  1  0  0  0  0  0  ...   0   0   1   0   0   0   0   \n",
       "4724    ffebe7313  1  1  0  0  1  0  0  0  1  ...   0   0   0   0   0   1   0   \n",
       "4725    fff163132  0  1  0  1  0  0  0  0  0  ...   1   1   0   0   0   0   0   \n",
       "4726    fffb79246  0  0  0  1  0  1  0  1  0  ...   0   0   0   0   0   0   0   \n",
       "\n",
       "      23  t_min  t_max  \n",
       "0      1      0     60  \n",
       "1      1      0     60  \n",
       "2      0      0     60  \n",
       "3      1      0     60  \n",
       "4      1      0     60  \n",
       "...   ..    ...    ...  \n",
       "4722   1      0     60  \n",
       "4723   0      0     60  \n",
       "4724   0      0     60  \n",
       "4725   0      0     60  \n",
       "4726   1      0     60  \n",
       "\n",
       "[4727 rows x 27 columns]"
      ],
      "text/html": "<div>\n<style scoped>\n    .dataframe tbody tr th:only-of-type {\n        vertical-align: middle;\n    }\n\n    .dataframe tbody tr th {\n        vertical-align: top;\n    }\n\n    .dataframe thead th {\n        text-align: right;\n    }\n</style>\n<table border=\"1\" class=\"dataframe\">\n  <thead>\n    <tr style=\"text-align: right;\">\n      <th></th>\n      <th>recording_id</th>\n      <th>0</th>\n      <th>1</th>\n      <th>2</th>\n      <th>3</th>\n      <th>4</th>\n      <th>5</th>\n      <th>6</th>\n      <th>7</th>\n      <th>8</th>\n      <th>...</th>\n      <th>16</th>\n      <th>17</th>\n      <th>18</th>\n      <th>19</th>\n      <th>20</th>\n      <th>21</th>\n      <th>22</th>\n      <th>23</th>\n      <th>t_min</th>\n      <th>t_max</th>\n    </tr>\n  </thead>\n  <tbody>\n    <tr>\n      <td>0</td>\n      <td>003bec244</td>\n      <td>0</td>\n      <td>1</td>\n      <td>0</td>\n      <td>1</td>\n      <td>0</td>\n      <td>1</td>\n      <td>0</td>\n      <td>1</td>\n      <td>0</td>\n      <td>...</td>\n      <td>0</td>\n      <td>0</td>\n      <td>0</td>\n      <td>0</td>\n      <td>1</td>\n      <td>0</td>\n      <td>0</td>\n      <td>1</td>\n      <td>0</td>\n      <td>60</td>\n    </tr>\n    <tr>\n      <td>1</td>\n      <td>006ab765f</td>\n      <td>0</td>\n      <td>0</td>\n      <td>0</td>\n      <td>1</td>\n      <td>0</td>\n      <td>0</td>\n      <td>0</td>\n      <td>1</td>\n      <td>0</td>\n      <td>...</td>\n      <td>0</td>\n      <td>0</td>\n      <td>0</td>\n      <td>0</td>\n      <td>0</td>\n      <td>0</td>\n      <td>0</td>\n      <td>1</td>\n      <td>0</td>\n      <td>60</td>\n    </tr>\n    <tr>\n      <td>2</td>\n      <td>007f87ba2</td>\n      <td>0</td>\n      <td>1</td>\n      <td>0</td>\n      <td>1</td>\n      <td>1</td>\n      <td>0</td>\n      <td>0</td>\n      <td>0</td>\n      <td>1</td>\n      <td>...</td>\n      <td>0</td>\n      <td>0</td>\n      <td>1</td>\n      <td>0</td>\n      <td>0</td>\n      <td>1</td>\n      <td>0</td>\n      <td>0</td>\n      <td>0</td>\n      <td>60</td>\n    </tr>\n    <tr>\n      <td>3</td>\n      <td>0099c367b</td>\n      <td>0</td>\n      <td>0</td>\n      <td>0</td>\n      <td>1</td>\n      <td>0</td>\n      <td>0</td>\n      <td>1</td>\n      <td>0</td>\n      <td>0</td>\n      <td>...</td>\n      <td>0</td>\n      <td>1</td>\n      <td>0</td>\n      <td>1</td>\n      <td>0</td>\n      <td>0</td>\n      <td>0</td>\n      <td>1</td>\n      <td>0</td>\n      <td>60</td>\n    </tr>\n    <tr>\n      <td>4</td>\n      <td>009b760e6</td>\n      <td>0</td>\n      <td>0</td>\n      <td>0</td>\n      <td>0</td>\n      <td>0</td>\n      <td>0</td>\n      <td>1</td>\n      <td>0</td>\n      <td>0</td>\n      <td>...</td>\n      <td>0</td>\n      <td>0</td>\n      <td>0</td>\n      <td>0</td>\n      <td>0</td>\n      <td>0</td>\n      <td>0</td>\n      <td>1</td>\n      <td>0</td>\n      <td>60</td>\n    </tr>\n    <tr>\n      <td>...</td>\n      <td>...</td>\n      <td>...</td>\n      <td>...</td>\n      <td>...</td>\n      <td>...</td>\n      <td>...</td>\n      <td>...</td>\n      <td>...</td>\n      <td>...</td>\n      <td>...</td>\n      <td>...</td>\n      <td>...</td>\n      <td>...</td>\n      <td>...</td>\n      <td>...</td>\n      <td>...</td>\n      <td>...</td>\n      <td>...</td>\n      <td>...</td>\n      <td>...</td>\n      <td>...</td>\n    </tr>\n    <tr>\n      <td>4722</td>\n      <td>ffc6031f8</td>\n      <td>0</td>\n      <td>0</td>\n      <td>0</td>\n      <td>1</td>\n      <td>0</td>\n      <td>0</td>\n      <td>0</td>\n      <td>1</td>\n      <td>0</td>\n      <td>...</td>\n      <td>0</td>\n      <td>1</td>\n      <td>0</td>\n      <td>0</td>\n      <td>0</td>\n      <td>0</td>\n      <td>0</td>\n      <td>1</td>\n      <td>0</td>\n      <td>60</td>\n    </tr>\n    <tr>\n      <td>4723</td>\n      <td>ffd88cd84</td>\n      <td>1</td>\n      <td>1</td>\n      <td>0</td>\n      <td>1</td>\n      <td>0</td>\n      <td>0</td>\n      <td>0</td>\n      <td>0</td>\n      <td>0</td>\n      <td>...</td>\n      <td>0</td>\n      <td>0</td>\n      <td>1</td>\n      <td>0</td>\n      <td>0</td>\n      <td>0</td>\n      <td>0</td>\n      <td>0</td>\n      <td>0</td>\n      <td>60</td>\n    </tr>\n    <tr>\n      <td>4724</td>\n      <td>ffebe7313</td>\n      <td>1</td>\n      <td>1</td>\n      <td>0</td>\n      <td>0</td>\n      <td>1</td>\n      <td>0</td>\n      <td>0</td>\n      <td>0</td>\n      <td>1</td>\n      <td>...</td>\n      <td>0</td>\n      <td>0</td>\n      <td>0</td>\n      <td>0</td>\n      <td>0</td>\n      <td>1</td>\n      <td>0</td>\n      <td>0</td>\n      <td>0</td>\n      <td>60</td>\n    </tr>\n    <tr>\n      <td>4725</td>\n      <td>fff163132</td>\n      <td>0</td>\n      <td>1</td>\n      <td>0</td>\n      <td>1</td>\n      <td>0</td>\n      <td>0</td>\n      <td>0</td>\n      <td>0</td>\n      <td>0</td>\n      <td>...</td>\n      <td>1</td>\n      <td>1</td>\n      <td>0</td>\n      <td>0</td>\n      <td>0</td>\n      <td>0</td>\n      <td>0</td>\n      <td>0</td>\n      <td>0</td>\n      <td>60</td>\n    </tr>\n    <tr>\n      <td>4726</td>\n      <td>fffb79246</td>\n      <td>0</td>\n      <td>0</td>\n      <td>0</td>\n      <td>1</td>\n      <td>0</td>\n      <td>1</td>\n      <td>0</td>\n      <td>1</td>\n      <td>0</td>\n      <td>...</td>\n      <td>0</td>\n      <td>0</td>\n      <td>0</td>\n      <td>0</td>\n      <td>0</td>\n      <td>0</td>\n      <td>0</td>\n      <td>1</td>\n      <td>0</td>\n      <td>60</td>\n    </tr>\n  </tbody>\n</table>\n<p>4727 rows × 27 columns</p>\n</div>"
     },
     "metadata": {},
     "execution_count": 14
    }
   ],
   "source": [
    "pseudo_df"
   ]
  },
  {
   "cell_type": "code",
   "execution_count": 15,
   "metadata": {},
   "outputs": [
    {
     "output_type": "execute_result",
     "data": {
      "text/plain": [
       "<matplotlib.axes._subplots.AxesSubplot at 0x7f7ef7b88150>"
      ]
     },
     "metadata": {},
     "execution_count": 15
    },
    {
     "output_type": "display_data",
     "data": {
      "text/plain": "<Figure size 432x288 with 1 Axes>",
      "image/svg+xml": "<?xml version=\"1.0\" encoding=\"utf-8\" standalone=\"no\"?>\n<!DOCTYPE svg PUBLIC \"-//W3C//DTD SVG 1.1//EN\"\n  \"http://www.w3.org/Graphics/SVG/1.1/DTD/svg11.dtd\">\n<!-- Created with matplotlib (https://matplotlib.org/) -->\n<svg height=\"248.518125pt\" version=\"1.1\" viewBox=\"0 0 381.65 248.518125\" width=\"381.65pt\" xmlns=\"http://www.w3.org/2000/svg\" xmlns:xlink=\"http://www.w3.org/1999/xlink\">\n <defs>\n  <style type=\"text/css\">\n*{stroke-linecap:butt;stroke-linejoin:round;}\n  </style>\n </defs>\n <g id=\"figure_1\">\n  <g id=\"patch_1\">\n   <path d=\"M -0 248.518125 \nL 381.65 248.518125 \nL 381.65 0 \nL -0 0 \nz\n\" style=\"fill:none;\"/>\n  </g>\n  <g id=\"axes_1\">\n   <g id=\"patch_2\">\n    <path d=\"M 39.65 224.64 \nL 374.45 224.64 \nL 374.45 7.2 \nL 39.65 7.2 \nz\n\" style=\"fill:#ffffff;\"/>\n   </g>\n   <g id=\"patch_3\">\n    <path clip-path=\"url(#p8d630c6999)\" d=\"M 41.045 224.64 \nL 52.205 224.64 \nL 52.205 169.326252 \nL 41.045 169.326252 \nz\n\" style=\"fill:#ea96a3;\"/>\n   </g>\n   <g id=\"patch_4\">\n    <path clip-path=\"url(#p8d630c6999)\" d=\"M 54.995 224.64 \nL 66.155 224.64 \nL 66.155 132.320575 \nL 54.995 132.320575 \nz\n\" style=\"fill:#e8968a;\"/>\n   </g>\n   <g id=\"patch_5\">\n    <path clip-path=\"url(#p8d630c6999)\" d=\"M 68.945 224.64 \nL 80.105 224.64 \nL 80.105 197.518734 \nL 68.945 197.518734 \nz\n\" style=\"fill:#e19153;\"/>\n   </g>\n   <g id=\"patch_6\">\n    <path clip-path=\"url(#p8d630c6999)\" d=\"M 82.895 224.64 \nL 94.055 224.64 \nL 94.055 17.554286 \nL 82.895 17.554286 \nz\n\" style=\"fill:#ca984c;\"/>\n   </g>\n   <g id=\"patch_7\">\n    <path clip-path=\"url(#p8d630c6999)\" d=\"M 96.845 224.64 \nL 108.005 224.64 \nL 108.005 184.810206 \nL 96.845 184.810206 \nz\n\" style=\"fill:#b89c49;\"/>\n   </g>\n   <g id=\"patch_8\">\n    <path clip-path=\"url(#p8d630c6999)\" d=\"M 110.795 224.64 \nL 121.955 224.64 \nL 121.955 144.785645 \nL 110.795 144.785645 \nz\n\" style=\"fill:#a89e47;\"/>\n   </g>\n   <g id=\"patch_9\">\n    <path clip-path=\"url(#p8d630c6999)\" d=\"M 124.745 224.64 \nL 135.905 224.64 \nL 135.905 191.578349 \nL 124.745 191.578349 \nz\n\" style=\"fill:#98a246;\"/>\n   </g>\n   <g id=\"patch_10\">\n    <path clip-path=\"url(#p8d630c6999)\" d=\"M 138.695 224.64 \nL 149.855 224.64 \nL 149.855 110.798853 \nL 138.695 110.798853 \nz\n\" style=\"fill:#84a846;\"/>\n   </g>\n   <g id=\"patch_11\">\n    <path clip-path=\"url(#p8d630c6999)\" d=\"M 152.645 224.64 \nL 163.805 224.64 \nL 163.805 189.874141 \nL 152.645 189.874141 \nz\n\" style=\"fill:#60ae47;\"/>\n   </g>\n   <g id=\"patch_12\">\n    <path clip-path=\"url(#p8d630c6999)\" d=\"M 166.595 224.64 \nL 177.755 224.64 \nL 177.755 163.337175 \nL 166.595 163.337175 \nz\n\" style=\"fill:#49af72;\"/>\n   </g>\n   <g id=\"patch_13\">\n    <path clip-path=\"url(#p8d630c6999)\" d=\"M 180.545 224.64 \nL 191.705 224.64 \nL 191.705 155.108281 \nL 180.545 155.108281 \nz\n\" style=\"fill:#4aae8a;\"/>\n   </g>\n   <g id=\"patch_14\">\n    <path clip-path=\"url(#p8d630c6999)\" d=\"M 194.495 224.64 \nL 205.655 224.64 \nL 205.655 150.823413 \nL 194.495 150.823413 \nz\n\" style=\"fill:#4aac99;\"/>\n   </g>\n   <g id=\"patch_15\">\n    <path clip-path=\"url(#p8d630c6999)\" d=\"M 208.445 224.64 \nL 219.605 224.64 \nL 219.605 133.537867 \nL 208.445 133.537867 \nz\n\" style=\"fill:#4baba4;\"/>\n   </g>\n   <g id=\"patch_16\">\n    <path clip-path=\"url(#p8d630c6999)\" d=\"M 222.395 224.64 \nL 233.555 224.64 \nL 233.555 205.942395 \nL 222.395 205.942395 \nz\n\" style=\"fill:#4cabaf;\"/>\n   </g>\n   <g id=\"patch_17\">\n    <path clip-path=\"url(#p8d630c6999)\" d=\"M 236.345 224.64 \nL 247.505 224.64 \nL 247.505 143.665736 \nL 236.345 143.665736 \nz\n\" style=\"fill:#4fabbc;\"/>\n   </g>\n   <g id=\"patch_18\">\n    <path clip-path=\"url(#p8d630c6999)\" d=\"M 250.295 224.64 \nL 261.455 224.64 \nL 261.455 179.69758 \nL 250.295 179.69758 \nz\n\" style=\"fill:#53accd;\"/>\n   </g>\n   <g id=\"patch_19\">\n    <path clip-path=\"url(#p8d630c6999)\" d=\"M 264.245 224.64 \nL 275.405 224.64 \nL 275.405 182.61908 \nL 264.245 182.61908 \nz\n\" style=\"fill:#6daee2;\"/>\n   </g>\n   <g id=\"patch_20\">\n    <path clip-path=\"url(#p8d630c6999)\" d=\"M 278.195 224.64 \nL 289.355 224.64 \nL 289.355 173.854578 \nL 278.195 173.854578 \nz\n\" style=\"fill:#9bade9;\"/>\n   </g>\n   <g id=\"patch_21\">\n    <path clip-path=\"url(#p8d630c6999)\" d=\"M 292.145 224.64 \nL 303.305 224.64 \nL 303.305 147.268921 \nL 292.145 147.268921 \nz\n\" style=\"fill:#b6a8eb;\"/>\n   </g>\n   <g id=\"patch_22\">\n    <path clip-path=\"url(#p8d630c6999)\" d=\"M 306.095 224.64 \nL 317.255 224.64 \nL 317.255 218.212698 \nL 306.095 218.212698 \nz\n\" style=\"fill:#ca9ee9;\"/>\n   </g>\n   <g id=\"patch_23\">\n    <path clip-path=\"url(#p8d630c6999)\" d=\"M 320.045 224.64 \nL 331.205 224.64 \nL 331.205 159.393149 \nL 320.045 159.393149 \nz\n\" style=\"fill:#df8fe7;\"/>\n   </g>\n   <g id=\"patch_24\">\n    <path clip-path=\"url(#p8d630c6999)\" d=\"M 333.995 224.64 \nL 345.155 224.64 \nL 345.155 178.090754 \nL 333.995 178.090754 \nz\n\" style=\"fill:#e78cd7;\"/>\n   </g>\n   <g id=\"patch_25\">\n    <path clip-path=\"url(#p8d630c6999)\" d=\"M 347.945 224.64 \nL 359.105 224.64 \nL 359.105 198.83341 \nL 347.945 198.83341 \nz\n\" style=\"fill:#e890c6;\"/>\n   </g>\n   <g id=\"patch_26\">\n    <path clip-path=\"url(#p8d630c6999)\" d=\"M 361.895 224.64 \nL 373.055 224.64 \nL 373.055 98.041632 \nL 361.895 98.041632 \nz\n\" style=\"fill:#e993b6;\"/>\n   </g>\n   <g id=\"matplotlib.axis_1\">\n    <g id=\"xtick_1\">\n     <g id=\"line2d_1\">\n      <defs>\n       <path d=\"M 0 0 \nL 0 3.5 \n\" id=\"m55bc5eaba4\" style=\"stroke:#000000;stroke-width:0.8;\"/>\n      </defs>\n      <g>\n       <use style=\"stroke:#000000;stroke-width:0.8;\" x=\"46.625\" xlink:href=\"#m55bc5eaba4\" y=\"224.64\"/>\n      </g>\n     </g>\n     <g id=\"text_1\">\n      <!-- 0 -->\n      <defs>\n       <path d=\"M 31.78125 66.40625 \nQ 24.171875 66.40625 20.328125 58.90625 \nQ 16.5 51.421875 16.5 36.375 \nQ 16.5 21.390625 20.328125 13.890625 \nQ 24.171875 6.390625 31.78125 6.390625 \nQ 39.453125 6.390625 43.28125 13.890625 \nQ 47.125 21.390625 47.125 36.375 \nQ 47.125 51.421875 43.28125 58.90625 \nQ 39.453125 66.40625 31.78125 66.40625 \nz\nM 31.78125 74.21875 \nQ 44.046875 74.21875 50.515625 64.515625 \nQ 56.984375 54.828125 56.984375 36.375 \nQ 56.984375 17.96875 50.515625 8.265625 \nQ 44.046875 -1.421875 31.78125 -1.421875 \nQ 19.53125 -1.421875 13.0625 8.265625 \nQ 6.59375 17.96875 6.59375 36.375 \nQ 6.59375 54.828125 13.0625 64.515625 \nQ 19.53125 74.21875 31.78125 74.21875 \nz\n\" id=\"DejaVuSans-48\"/>\n      </defs>\n      <g transform=\"translate(43.44375 239.238437)scale(0.1 -0.1)\">\n       <use xlink:href=\"#DejaVuSans-48\"/>\n      </g>\n     </g>\n    </g>\n    <g id=\"xtick_2\">\n     <g id=\"line2d_2\">\n      <g>\n       <use style=\"stroke:#000000;stroke-width:0.8;\" x=\"60.575\" xlink:href=\"#m55bc5eaba4\" y=\"224.64\"/>\n      </g>\n     </g>\n     <g id=\"text_2\">\n      <!-- 1 -->\n      <defs>\n       <path d=\"M 12.40625 8.296875 \nL 28.515625 8.296875 \nL 28.515625 63.921875 \nL 10.984375 60.40625 \nL 10.984375 69.390625 \nL 28.421875 72.90625 \nL 38.28125 72.90625 \nL 38.28125 8.296875 \nL 54.390625 8.296875 \nL 54.390625 0 \nL 12.40625 0 \nz\n\" id=\"DejaVuSans-49\"/>\n      </defs>\n      <g transform=\"translate(57.39375 239.238437)scale(0.1 -0.1)\">\n       <use xlink:href=\"#DejaVuSans-49\"/>\n      </g>\n     </g>\n    </g>\n    <g id=\"xtick_3\">\n     <g id=\"line2d_3\">\n      <g>\n       <use style=\"stroke:#000000;stroke-width:0.8;\" x=\"74.525\" xlink:href=\"#m55bc5eaba4\" y=\"224.64\"/>\n      </g>\n     </g>\n     <g id=\"text_3\">\n      <!-- 2 -->\n      <defs>\n       <path d=\"M 19.1875 8.296875 \nL 53.609375 8.296875 \nL 53.609375 0 \nL 7.328125 0 \nL 7.328125 8.296875 \nQ 12.9375 14.109375 22.625 23.890625 \nQ 32.328125 33.6875 34.8125 36.53125 \nQ 39.546875 41.84375 41.421875 45.53125 \nQ 43.3125 49.21875 43.3125 52.78125 \nQ 43.3125 58.59375 39.234375 62.25 \nQ 35.15625 65.921875 28.609375 65.921875 \nQ 23.96875 65.921875 18.8125 64.3125 \nQ 13.671875 62.703125 7.8125 59.421875 \nL 7.8125 69.390625 \nQ 13.765625 71.78125 18.9375 73 \nQ 24.125 74.21875 28.421875 74.21875 \nQ 39.75 74.21875 46.484375 68.546875 \nQ 53.21875 62.890625 53.21875 53.421875 \nQ 53.21875 48.921875 51.53125 44.890625 \nQ 49.859375 40.875 45.40625 35.40625 \nQ 44.1875 33.984375 37.640625 27.21875 \nQ 31.109375 20.453125 19.1875 8.296875 \nz\n\" id=\"DejaVuSans-50\"/>\n      </defs>\n      <g transform=\"translate(71.34375 239.238437)scale(0.1 -0.1)\">\n       <use xlink:href=\"#DejaVuSans-50\"/>\n      </g>\n     </g>\n    </g>\n    <g id=\"xtick_4\">\n     <g id=\"line2d_4\">\n      <g>\n       <use style=\"stroke:#000000;stroke-width:0.8;\" x=\"88.475\" xlink:href=\"#m55bc5eaba4\" y=\"224.64\"/>\n      </g>\n     </g>\n     <g id=\"text_4\">\n      <!-- 3 -->\n      <defs>\n       <path d=\"M 40.578125 39.3125 \nQ 47.65625 37.796875 51.625 33 \nQ 55.609375 28.21875 55.609375 21.1875 \nQ 55.609375 10.40625 48.1875 4.484375 \nQ 40.765625 -1.421875 27.09375 -1.421875 \nQ 22.515625 -1.421875 17.65625 -0.515625 \nQ 12.796875 0.390625 7.625 2.203125 \nL 7.625 11.71875 \nQ 11.71875 9.328125 16.59375 8.109375 \nQ 21.484375 6.890625 26.8125 6.890625 \nQ 36.078125 6.890625 40.9375 10.546875 \nQ 45.796875 14.203125 45.796875 21.1875 \nQ 45.796875 27.640625 41.28125 31.265625 \nQ 36.765625 34.90625 28.71875 34.90625 \nL 20.21875 34.90625 \nL 20.21875 43.015625 \nL 29.109375 43.015625 \nQ 36.375 43.015625 40.234375 45.921875 \nQ 44.09375 48.828125 44.09375 54.296875 \nQ 44.09375 59.90625 40.109375 62.90625 \nQ 36.140625 65.921875 28.71875 65.921875 \nQ 24.65625 65.921875 20.015625 65.03125 \nQ 15.375 64.15625 9.8125 62.3125 \nL 9.8125 71.09375 \nQ 15.4375 72.65625 20.34375 73.4375 \nQ 25.25 74.21875 29.59375 74.21875 \nQ 40.828125 74.21875 47.359375 69.109375 \nQ 53.90625 64.015625 53.90625 55.328125 \nQ 53.90625 49.265625 50.4375 45.09375 \nQ 46.96875 40.921875 40.578125 39.3125 \nz\n\" id=\"DejaVuSans-51\"/>\n      </defs>\n      <g transform=\"translate(85.29375 239.238437)scale(0.1 -0.1)\">\n       <use xlink:href=\"#DejaVuSans-51\"/>\n      </g>\n     </g>\n    </g>\n    <g id=\"xtick_5\">\n     <g id=\"line2d_5\">\n      <g>\n       <use style=\"stroke:#000000;stroke-width:0.8;\" x=\"102.425\" xlink:href=\"#m55bc5eaba4\" y=\"224.64\"/>\n      </g>\n     </g>\n     <g id=\"text_5\">\n      <!-- 4 -->\n      <defs>\n       <path d=\"M 37.796875 64.3125 \nL 12.890625 25.390625 \nL 37.796875 25.390625 \nz\nM 35.203125 72.90625 \nL 47.609375 72.90625 \nL 47.609375 25.390625 \nL 58.015625 25.390625 \nL 58.015625 17.1875 \nL 47.609375 17.1875 \nL 47.609375 0 \nL 37.796875 0 \nL 37.796875 17.1875 \nL 4.890625 17.1875 \nL 4.890625 26.703125 \nz\n\" id=\"DejaVuSans-52\"/>\n      </defs>\n      <g transform=\"translate(99.24375 239.238437)scale(0.1 -0.1)\">\n       <use xlink:href=\"#DejaVuSans-52\"/>\n      </g>\n     </g>\n    </g>\n    <g id=\"xtick_6\">\n     <g id=\"line2d_6\">\n      <g>\n       <use style=\"stroke:#000000;stroke-width:0.8;\" x=\"116.375\" xlink:href=\"#m55bc5eaba4\" y=\"224.64\"/>\n      </g>\n     </g>\n     <g id=\"text_6\">\n      <!-- 5 -->\n      <defs>\n       <path d=\"M 10.796875 72.90625 \nL 49.515625 72.90625 \nL 49.515625 64.59375 \nL 19.828125 64.59375 \nL 19.828125 46.734375 \nQ 21.96875 47.46875 24.109375 47.828125 \nQ 26.265625 48.1875 28.421875 48.1875 \nQ 40.625 48.1875 47.75 41.5 \nQ 54.890625 34.8125 54.890625 23.390625 \nQ 54.890625 11.625 47.5625 5.09375 \nQ 40.234375 -1.421875 26.90625 -1.421875 \nQ 22.3125 -1.421875 17.546875 -0.640625 \nQ 12.796875 0.140625 7.71875 1.703125 \nL 7.71875 11.625 \nQ 12.109375 9.234375 16.796875 8.0625 \nQ 21.484375 6.890625 26.703125 6.890625 \nQ 35.15625 6.890625 40.078125 11.328125 \nQ 45.015625 15.765625 45.015625 23.390625 \nQ 45.015625 31 40.078125 35.4375 \nQ 35.15625 39.890625 26.703125 39.890625 \nQ 22.75 39.890625 18.8125 39.015625 \nQ 14.890625 38.140625 10.796875 36.28125 \nz\n\" id=\"DejaVuSans-53\"/>\n      </defs>\n      <g transform=\"translate(113.19375 239.238437)scale(0.1 -0.1)\">\n       <use xlink:href=\"#DejaVuSans-53\"/>\n      </g>\n     </g>\n    </g>\n    <g id=\"xtick_7\">\n     <g id=\"line2d_7\">\n      <g>\n       <use style=\"stroke:#000000;stroke-width:0.8;\" x=\"130.325\" xlink:href=\"#m55bc5eaba4\" y=\"224.64\"/>\n      </g>\n     </g>\n     <g id=\"text_7\">\n      <!-- 6 -->\n      <defs>\n       <path d=\"M 33.015625 40.375 \nQ 26.375 40.375 22.484375 35.828125 \nQ 18.609375 31.296875 18.609375 23.390625 \nQ 18.609375 15.53125 22.484375 10.953125 \nQ 26.375 6.390625 33.015625 6.390625 \nQ 39.65625 6.390625 43.53125 10.953125 \nQ 47.40625 15.53125 47.40625 23.390625 \nQ 47.40625 31.296875 43.53125 35.828125 \nQ 39.65625 40.375 33.015625 40.375 \nz\nM 52.59375 71.296875 \nL 52.59375 62.3125 \nQ 48.875 64.0625 45.09375 64.984375 \nQ 41.3125 65.921875 37.59375 65.921875 \nQ 27.828125 65.921875 22.671875 59.328125 \nQ 17.53125 52.734375 16.796875 39.40625 \nQ 19.671875 43.65625 24.015625 45.921875 \nQ 28.375 48.1875 33.59375 48.1875 \nQ 44.578125 48.1875 50.953125 41.515625 \nQ 57.328125 34.859375 57.328125 23.390625 \nQ 57.328125 12.15625 50.6875 5.359375 \nQ 44.046875 -1.421875 33.015625 -1.421875 \nQ 20.359375 -1.421875 13.671875 8.265625 \nQ 6.984375 17.96875 6.984375 36.375 \nQ 6.984375 53.65625 15.1875 63.9375 \nQ 23.390625 74.21875 37.203125 74.21875 \nQ 40.921875 74.21875 44.703125 73.484375 \nQ 48.484375 72.75 52.59375 71.296875 \nz\n\" id=\"DejaVuSans-54\"/>\n      </defs>\n      <g transform=\"translate(127.14375 239.238437)scale(0.1 -0.1)\">\n       <use xlink:href=\"#DejaVuSans-54\"/>\n      </g>\n     </g>\n    </g>\n    <g id=\"xtick_8\">\n     <g id=\"line2d_8\">\n      <g>\n       <use style=\"stroke:#000000;stroke-width:0.8;\" x=\"144.275\" xlink:href=\"#m55bc5eaba4\" y=\"224.64\"/>\n      </g>\n     </g>\n     <g id=\"text_8\">\n      <!-- 7 -->\n      <defs>\n       <path d=\"M 8.203125 72.90625 \nL 55.078125 72.90625 \nL 55.078125 68.703125 \nL 28.609375 0 \nL 18.3125 0 \nL 43.21875 64.59375 \nL 8.203125 64.59375 \nz\n\" id=\"DejaVuSans-55\"/>\n      </defs>\n      <g transform=\"translate(141.09375 239.238437)scale(0.1 -0.1)\">\n       <use xlink:href=\"#DejaVuSans-55\"/>\n      </g>\n     </g>\n    </g>\n    <g id=\"xtick_9\">\n     <g id=\"line2d_9\">\n      <g>\n       <use style=\"stroke:#000000;stroke-width:0.8;\" x=\"158.225\" xlink:href=\"#m55bc5eaba4\" y=\"224.64\"/>\n      </g>\n     </g>\n     <g id=\"text_9\">\n      <!-- 8 -->\n      <defs>\n       <path d=\"M 31.78125 34.625 \nQ 24.75 34.625 20.71875 30.859375 \nQ 16.703125 27.09375 16.703125 20.515625 \nQ 16.703125 13.921875 20.71875 10.15625 \nQ 24.75 6.390625 31.78125 6.390625 \nQ 38.8125 6.390625 42.859375 10.171875 \nQ 46.921875 13.96875 46.921875 20.515625 \nQ 46.921875 27.09375 42.890625 30.859375 \nQ 38.875 34.625 31.78125 34.625 \nz\nM 21.921875 38.8125 \nQ 15.578125 40.375 12.03125 44.71875 \nQ 8.5 49.078125 8.5 55.328125 \nQ 8.5 64.0625 14.71875 69.140625 \nQ 20.953125 74.21875 31.78125 74.21875 \nQ 42.671875 74.21875 48.875 69.140625 \nQ 55.078125 64.0625 55.078125 55.328125 \nQ 55.078125 49.078125 51.53125 44.71875 \nQ 48 40.375 41.703125 38.8125 \nQ 48.828125 37.15625 52.796875 32.3125 \nQ 56.78125 27.484375 56.78125 20.515625 \nQ 56.78125 9.90625 50.3125 4.234375 \nQ 43.84375 -1.421875 31.78125 -1.421875 \nQ 19.734375 -1.421875 13.25 4.234375 \nQ 6.78125 9.90625 6.78125 20.515625 \nQ 6.78125 27.484375 10.78125 32.3125 \nQ 14.796875 37.15625 21.921875 38.8125 \nz\nM 18.3125 54.390625 \nQ 18.3125 48.734375 21.84375 45.5625 \nQ 25.390625 42.390625 31.78125 42.390625 \nQ 38.140625 42.390625 41.71875 45.5625 \nQ 45.3125 48.734375 45.3125 54.390625 \nQ 45.3125 60.0625 41.71875 63.234375 \nQ 38.140625 66.40625 31.78125 66.40625 \nQ 25.390625 66.40625 21.84375 63.234375 \nQ 18.3125 60.0625 18.3125 54.390625 \nz\n\" id=\"DejaVuSans-56\"/>\n      </defs>\n      <g transform=\"translate(155.04375 239.238437)scale(0.1 -0.1)\">\n       <use xlink:href=\"#DejaVuSans-56\"/>\n      </g>\n     </g>\n    </g>\n    <g id=\"xtick_10\">\n     <g id=\"line2d_10\">\n      <g>\n       <use style=\"stroke:#000000;stroke-width:0.8;\" x=\"172.175\" xlink:href=\"#m55bc5eaba4\" y=\"224.64\"/>\n      </g>\n     </g>\n     <g id=\"text_10\">\n      <!-- 9 -->\n      <defs>\n       <path d=\"M 10.984375 1.515625 \nL 10.984375 10.5 \nQ 14.703125 8.734375 18.5 7.8125 \nQ 22.3125 6.890625 25.984375 6.890625 \nQ 35.75 6.890625 40.890625 13.453125 \nQ 46.046875 20.015625 46.78125 33.40625 \nQ 43.953125 29.203125 39.59375 26.953125 \nQ 35.25 24.703125 29.984375 24.703125 \nQ 19.046875 24.703125 12.671875 31.3125 \nQ 6.296875 37.9375 6.296875 49.421875 \nQ 6.296875 60.640625 12.9375 67.421875 \nQ 19.578125 74.21875 30.609375 74.21875 \nQ 43.265625 74.21875 49.921875 64.515625 \nQ 56.59375 54.828125 56.59375 36.375 \nQ 56.59375 19.140625 48.40625 8.859375 \nQ 40.234375 -1.421875 26.421875 -1.421875 \nQ 22.703125 -1.421875 18.890625 -0.6875 \nQ 15.09375 0.046875 10.984375 1.515625 \nz\nM 30.609375 32.421875 \nQ 37.25 32.421875 41.125 36.953125 \nQ 45.015625 41.5 45.015625 49.421875 \nQ 45.015625 57.28125 41.125 61.84375 \nQ 37.25 66.40625 30.609375 66.40625 \nQ 23.96875 66.40625 20.09375 61.84375 \nQ 16.21875 57.28125 16.21875 49.421875 \nQ 16.21875 41.5 20.09375 36.953125 \nQ 23.96875 32.421875 30.609375 32.421875 \nz\n\" id=\"DejaVuSans-57\"/>\n      </defs>\n      <g transform=\"translate(168.99375 239.238437)scale(0.1 -0.1)\">\n       <use xlink:href=\"#DejaVuSans-57\"/>\n      </g>\n     </g>\n    </g>\n    <g id=\"xtick_11\">\n     <g id=\"line2d_11\">\n      <g>\n       <use style=\"stroke:#000000;stroke-width:0.8;\" x=\"186.125\" xlink:href=\"#m55bc5eaba4\" y=\"224.64\"/>\n      </g>\n     </g>\n     <g id=\"text_11\">\n      <!-- 10 -->\n      <g transform=\"translate(179.7625 239.238437)scale(0.1 -0.1)\">\n       <use xlink:href=\"#DejaVuSans-49\"/>\n       <use x=\"63.623047\" xlink:href=\"#DejaVuSans-48\"/>\n      </g>\n     </g>\n    </g>\n    <g id=\"xtick_12\">\n     <g id=\"line2d_12\">\n      <g>\n       <use style=\"stroke:#000000;stroke-width:0.8;\" x=\"200.075\" xlink:href=\"#m55bc5eaba4\" y=\"224.64\"/>\n      </g>\n     </g>\n     <g id=\"text_12\">\n      <!-- 11 -->\n      <g transform=\"translate(193.7125 239.238437)scale(0.1 -0.1)\">\n       <use xlink:href=\"#DejaVuSans-49\"/>\n       <use x=\"63.623047\" xlink:href=\"#DejaVuSans-49\"/>\n      </g>\n     </g>\n    </g>\n    <g id=\"xtick_13\">\n     <g id=\"line2d_13\">\n      <g>\n       <use style=\"stroke:#000000;stroke-width:0.8;\" x=\"214.025\" xlink:href=\"#m55bc5eaba4\" y=\"224.64\"/>\n      </g>\n     </g>\n     <g id=\"text_13\">\n      <!-- 12 -->\n      <g transform=\"translate(207.6625 239.238437)scale(0.1 -0.1)\">\n       <use xlink:href=\"#DejaVuSans-49\"/>\n       <use x=\"63.623047\" xlink:href=\"#DejaVuSans-50\"/>\n      </g>\n     </g>\n    </g>\n    <g id=\"xtick_14\">\n     <g id=\"line2d_14\">\n      <g>\n       <use style=\"stroke:#000000;stroke-width:0.8;\" x=\"227.975\" xlink:href=\"#m55bc5eaba4\" y=\"224.64\"/>\n      </g>\n     </g>\n     <g id=\"text_14\">\n      <!-- 13 -->\n      <g transform=\"translate(221.6125 239.238437)scale(0.1 -0.1)\">\n       <use xlink:href=\"#DejaVuSans-49\"/>\n       <use x=\"63.623047\" xlink:href=\"#DejaVuSans-51\"/>\n      </g>\n     </g>\n    </g>\n    <g id=\"xtick_15\">\n     <g id=\"line2d_15\">\n      <g>\n       <use style=\"stroke:#000000;stroke-width:0.8;\" x=\"241.925\" xlink:href=\"#m55bc5eaba4\" y=\"224.64\"/>\n      </g>\n     </g>\n     <g id=\"text_15\">\n      <!-- 14 -->\n      <g transform=\"translate(235.5625 239.238437)scale(0.1 -0.1)\">\n       <use xlink:href=\"#DejaVuSans-49\"/>\n       <use x=\"63.623047\" xlink:href=\"#DejaVuSans-52\"/>\n      </g>\n     </g>\n    </g>\n    <g id=\"xtick_16\">\n     <g id=\"line2d_16\">\n      <g>\n       <use style=\"stroke:#000000;stroke-width:0.8;\" x=\"255.875\" xlink:href=\"#m55bc5eaba4\" y=\"224.64\"/>\n      </g>\n     </g>\n     <g id=\"text_16\">\n      <!-- 15 -->\n      <g transform=\"translate(249.5125 239.238437)scale(0.1 -0.1)\">\n       <use xlink:href=\"#DejaVuSans-49\"/>\n       <use x=\"63.623047\" xlink:href=\"#DejaVuSans-53\"/>\n      </g>\n     </g>\n    </g>\n    <g id=\"xtick_17\">\n     <g id=\"line2d_17\">\n      <g>\n       <use style=\"stroke:#000000;stroke-width:0.8;\" x=\"269.825\" xlink:href=\"#m55bc5eaba4\" y=\"224.64\"/>\n      </g>\n     </g>\n     <g id=\"text_17\">\n      <!-- 16 -->\n      <g transform=\"translate(263.4625 239.238437)scale(0.1 -0.1)\">\n       <use xlink:href=\"#DejaVuSans-49\"/>\n       <use x=\"63.623047\" xlink:href=\"#DejaVuSans-54\"/>\n      </g>\n     </g>\n    </g>\n    <g id=\"xtick_18\">\n     <g id=\"line2d_18\">\n      <g>\n       <use style=\"stroke:#000000;stroke-width:0.8;\" x=\"283.775\" xlink:href=\"#m55bc5eaba4\" y=\"224.64\"/>\n      </g>\n     </g>\n     <g id=\"text_18\">\n      <!-- 17 -->\n      <g transform=\"translate(277.4125 239.238437)scale(0.1 -0.1)\">\n       <use xlink:href=\"#DejaVuSans-49\"/>\n       <use x=\"63.623047\" xlink:href=\"#DejaVuSans-55\"/>\n      </g>\n     </g>\n    </g>\n    <g id=\"xtick_19\">\n     <g id=\"line2d_19\">\n      <g>\n       <use style=\"stroke:#000000;stroke-width:0.8;\" x=\"297.725\" xlink:href=\"#m55bc5eaba4\" y=\"224.64\"/>\n      </g>\n     </g>\n     <g id=\"text_19\">\n      <!-- 18 -->\n      <g transform=\"translate(291.3625 239.238437)scale(0.1 -0.1)\">\n       <use xlink:href=\"#DejaVuSans-49\"/>\n       <use x=\"63.623047\" xlink:href=\"#DejaVuSans-56\"/>\n      </g>\n     </g>\n    </g>\n    <g id=\"xtick_20\">\n     <g id=\"line2d_20\">\n      <g>\n       <use style=\"stroke:#000000;stroke-width:0.8;\" x=\"311.675\" xlink:href=\"#m55bc5eaba4\" y=\"224.64\"/>\n      </g>\n     </g>\n     <g id=\"text_20\">\n      <!-- 19 -->\n      <g transform=\"translate(305.3125 239.238437)scale(0.1 -0.1)\">\n       <use xlink:href=\"#DejaVuSans-49\"/>\n       <use x=\"63.623047\" xlink:href=\"#DejaVuSans-57\"/>\n      </g>\n     </g>\n    </g>\n    <g id=\"xtick_21\">\n     <g id=\"line2d_21\">\n      <g>\n       <use style=\"stroke:#000000;stroke-width:0.8;\" x=\"325.625\" xlink:href=\"#m55bc5eaba4\" y=\"224.64\"/>\n      </g>\n     </g>\n     <g id=\"text_21\">\n      <!-- 20 -->\n      <g transform=\"translate(319.2625 239.238437)scale(0.1 -0.1)\">\n       <use xlink:href=\"#DejaVuSans-50\"/>\n       <use x=\"63.623047\" xlink:href=\"#DejaVuSans-48\"/>\n      </g>\n     </g>\n    </g>\n    <g id=\"xtick_22\">\n     <g id=\"line2d_22\">\n      <g>\n       <use style=\"stroke:#000000;stroke-width:0.8;\" x=\"339.575\" xlink:href=\"#m55bc5eaba4\" y=\"224.64\"/>\n      </g>\n     </g>\n     <g id=\"text_22\">\n      <!-- 21 -->\n      <g transform=\"translate(333.2125 239.238437)scale(0.1 -0.1)\">\n       <use xlink:href=\"#DejaVuSans-50\"/>\n       <use x=\"63.623047\" xlink:href=\"#DejaVuSans-49\"/>\n      </g>\n     </g>\n    </g>\n    <g id=\"xtick_23\">\n     <g id=\"line2d_23\">\n      <g>\n       <use style=\"stroke:#000000;stroke-width:0.8;\" x=\"353.525\" xlink:href=\"#m55bc5eaba4\" y=\"224.64\"/>\n      </g>\n     </g>\n     <g id=\"text_23\">\n      <!-- 22 -->\n      <g transform=\"translate(347.1625 239.238437)scale(0.1 -0.1)\">\n       <use xlink:href=\"#DejaVuSans-50\"/>\n       <use x=\"63.623047\" xlink:href=\"#DejaVuSans-50\"/>\n      </g>\n     </g>\n    </g>\n    <g id=\"xtick_24\">\n     <g id=\"line2d_24\">\n      <g>\n       <use style=\"stroke:#000000;stroke-width:0.8;\" x=\"367.475\" xlink:href=\"#m55bc5eaba4\" y=\"224.64\"/>\n      </g>\n     </g>\n     <g id=\"text_24\">\n      <!-- 23 -->\n      <g transform=\"translate(361.1125 239.238437)scale(0.1 -0.1)\">\n       <use xlink:href=\"#DejaVuSans-50\"/>\n       <use x=\"63.623047\" xlink:href=\"#DejaVuSans-51\"/>\n      </g>\n     </g>\n    </g>\n   </g>\n   <g id=\"matplotlib.axis_2\">\n    <g id=\"ytick_1\">\n     <g id=\"line2d_25\">\n      <defs>\n       <path d=\"M 0 0 \nL -3.5 0 \n\" id=\"m18d1be1b42\" style=\"stroke:#000000;stroke-width:0.8;\"/>\n      </defs>\n      <g>\n       <use style=\"stroke:#000000;stroke-width:0.8;\" x=\"39.65\" xlink:href=\"#m18d1be1b42\" y=\"224.64\"/>\n      </g>\n     </g>\n     <g id=\"text_25\">\n      <!-- 0 -->\n      <g transform=\"translate(26.2875 228.439219)scale(0.1 -0.1)\">\n       <use xlink:href=\"#DejaVuSans-48\"/>\n      </g>\n     </g>\n    </g>\n    <g id=\"ytick_2\">\n     <g id=\"line2d_26\">\n      <g>\n       <use style=\"stroke:#000000;stroke-width:0.8;\" x=\"39.65\" xlink:href=\"#m18d1be1b42\" y=\"200.29416\"/>\n      </g>\n     </g>\n     <g id=\"text_26\">\n      <!-- 500 -->\n      <g transform=\"translate(13.5625 204.093379)scale(0.1 -0.1)\">\n       <use xlink:href=\"#DejaVuSans-53\"/>\n       <use x=\"63.623047\" xlink:href=\"#DejaVuSans-48\"/>\n       <use x=\"127.246094\" xlink:href=\"#DejaVuSans-48\"/>\n      </g>\n     </g>\n    </g>\n    <g id=\"ytick_3\">\n     <g id=\"line2d_27\">\n      <g>\n       <use style=\"stroke:#000000;stroke-width:0.8;\" x=\"39.65\" xlink:href=\"#m18d1be1b42\" y=\"175.94832\"/>\n      </g>\n     </g>\n     <g id=\"text_27\">\n      <!-- 1000 -->\n      <g transform=\"translate(7.2 179.747539)scale(0.1 -0.1)\">\n       <use xlink:href=\"#DejaVuSans-49\"/>\n       <use x=\"63.623047\" xlink:href=\"#DejaVuSans-48\"/>\n       <use x=\"127.246094\" xlink:href=\"#DejaVuSans-48\"/>\n       <use x=\"190.869141\" xlink:href=\"#DejaVuSans-48\"/>\n      </g>\n     </g>\n    </g>\n    <g id=\"ytick_4\">\n     <g id=\"line2d_28\">\n      <g>\n       <use style=\"stroke:#000000;stroke-width:0.8;\" x=\"39.65\" xlink:href=\"#m18d1be1b42\" y=\"151.60248\"/>\n      </g>\n     </g>\n     <g id=\"text_28\">\n      <!-- 1500 -->\n      <g transform=\"translate(7.2 155.401699)scale(0.1 -0.1)\">\n       <use xlink:href=\"#DejaVuSans-49\"/>\n       <use x=\"63.623047\" xlink:href=\"#DejaVuSans-53\"/>\n       <use x=\"127.246094\" xlink:href=\"#DejaVuSans-48\"/>\n       <use x=\"190.869141\" xlink:href=\"#DejaVuSans-48\"/>\n      </g>\n     </g>\n    </g>\n    <g id=\"ytick_5\">\n     <g id=\"line2d_29\">\n      <g>\n       <use style=\"stroke:#000000;stroke-width:0.8;\" x=\"39.65\" xlink:href=\"#m18d1be1b42\" y=\"127.25664\"/>\n      </g>\n     </g>\n     <g id=\"text_29\">\n      <!-- 2000 -->\n      <g transform=\"translate(7.2 131.055859)scale(0.1 -0.1)\">\n       <use xlink:href=\"#DejaVuSans-50\"/>\n       <use x=\"63.623047\" xlink:href=\"#DejaVuSans-48\"/>\n       <use x=\"127.246094\" xlink:href=\"#DejaVuSans-48\"/>\n       <use x=\"190.869141\" xlink:href=\"#DejaVuSans-48\"/>\n      </g>\n     </g>\n    </g>\n    <g id=\"ytick_6\">\n     <g id=\"line2d_30\">\n      <g>\n       <use style=\"stroke:#000000;stroke-width:0.8;\" x=\"39.65\" xlink:href=\"#m18d1be1b42\" y=\"102.9108\"/>\n      </g>\n     </g>\n     <g id=\"text_30\">\n      <!-- 2500 -->\n      <g transform=\"translate(7.2 106.710019)scale(0.1 -0.1)\">\n       <use xlink:href=\"#DejaVuSans-50\"/>\n       <use x=\"63.623047\" xlink:href=\"#DejaVuSans-53\"/>\n       <use x=\"127.246094\" xlink:href=\"#DejaVuSans-48\"/>\n       <use x=\"190.869141\" xlink:href=\"#DejaVuSans-48\"/>\n      </g>\n     </g>\n    </g>\n    <g id=\"ytick_7\">\n     <g id=\"line2d_31\">\n      <g>\n       <use style=\"stroke:#000000;stroke-width:0.8;\" x=\"39.65\" xlink:href=\"#m18d1be1b42\" y=\"78.564961\"/>\n      </g>\n     </g>\n     <g id=\"text_31\">\n      <!-- 3000 -->\n      <g transform=\"translate(7.2 82.364179)scale(0.1 -0.1)\">\n       <use xlink:href=\"#DejaVuSans-51\"/>\n       <use x=\"63.623047\" xlink:href=\"#DejaVuSans-48\"/>\n       <use x=\"127.246094\" xlink:href=\"#DejaVuSans-48\"/>\n       <use x=\"190.869141\" xlink:href=\"#DejaVuSans-48\"/>\n      </g>\n     </g>\n    </g>\n    <g id=\"ytick_8\">\n     <g id=\"line2d_32\">\n      <g>\n       <use style=\"stroke:#000000;stroke-width:0.8;\" x=\"39.65\" xlink:href=\"#m18d1be1b42\" y=\"54.219121\"/>\n      </g>\n     </g>\n     <g id=\"text_32\">\n      <!-- 3500 -->\n      <g transform=\"translate(7.2 58.018339)scale(0.1 -0.1)\">\n       <use xlink:href=\"#DejaVuSans-51\"/>\n       <use x=\"63.623047\" xlink:href=\"#DejaVuSans-53\"/>\n       <use x=\"127.246094\" xlink:href=\"#DejaVuSans-48\"/>\n       <use x=\"190.869141\" xlink:href=\"#DejaVuSans-48\"/>\n      </g>\n     </g>\n    </g>\n    <g id=\"ytick_9\">\n     <g id=\"line2d_33\">\n      <g>\n       <use style=\"stroke:#000000;stroke-width:0.8;\" x=\"39.65\" xlink:href=\"#m18d1be1b42\" y=\"29.873281\"/>\n      </g>\n     </g>\n     <g id=\"text_33\">\n      <!-- 4000 -->\n      <g transform=\"translate(7.2 33.672499)scale(0.1 -0.1)\">\n       <use xlink:href=\"#DejaVuSans-52\"/>\n       <use x=\"63.623047\" xlink:href=\"#DejaVuSans-48\"/>\n       <use x=\"127.246094\" xlink:href=\"#DejaVuSans-48\"/>\n       <use x=\"190.869141\" xlink:href=\"#DejaVuSans-48\"/>\n      </g>\n     </g>\n    </g>\n   </g>\n   <g id=\"line2d_34\">\n    <path clip-path=\"url(#p8d630c6999)\" d=\"M 0 0 \n\" style=\"fill:none;stroke:#424242;stroke-linecap:square;stroke-width:2.7;\"/>\n   </g>\n   <g id=\"line2d_35\">\n    <path clip-path=\"url(#p8d630c6999)\" d=\"M 0 0 \n\" style=\"fill:none;stroke:#424242;stroke-linecap:square;stroke-width:2.7;\"/>\n   </g>\n   <g id=\"line2d_36\">\n    <path clip-path=\"url(#p8d630c6999)\" d=\"M 0 0 \n\" style=\"fill:none;stroke:#424242;stroke-linecap:square;stroke-width:2.7;\"/>\n   </g>\n   <g id=\"line2d_37\">\n    <path clip-path=\"url(#p8d630c6999)\" d=\"M 0 0 \n\" style=\"fill:none;stroke:#424242;stroke-linecap:square;stroke-width:2.7;\"/>\n   </g>\n   <g id=\"line2d_38\">\n    <path clip-path=\"url(#p8d630c6999)\" d=\"M 0 0 \n\" style=\"fill:none;stroke:#424242;stroke-linecap:square;stroke-width:2.7;\"/>\n   </g>\n   <g id=\"line2d_39\">\n    <path clip-path=\"url(#p8d630c6999)\" d=\"M 0 0 \n\" style=\"fill:none;stroke:#424242;stroke-linecap:square;stroke-width:2.7;\"/>\n   </g>\n   <g id=\"line2d_40\">\n    <path clip-path=\"url(#p8d630c6999)\" d=\"M 0 0 \n\" style=\"fill:none;stroke:#424242;stroke-linecap:square;stroke-width:2.7;\"/>\n   </g>\n   <g id=\"line2d_41\">\n    <path clip-path=\"url(#p8d630c6999)\" d=\"M 0 0 \n\" style=\"fill:none;stroke:#424242;stroke-linecap:square;stroke-width:2.7;\"/>\n   </g>\n   <g id=\"line2d_42\">\n    <path clip-path=\"url(#p8d630c6999)\" d=\"M 0 0 \n\" style=\"fill:none;stroke:#424242;stroke-linecap:square;stroke-width:2.7;\"/>\n   </g>\n   <g id=\"line2d_43\">\n    <path clip-path=\"url(#p8d630c6999)\" d=\"M 0 0 \n\" style=\"fill:none;stroke:#424242;stroke-linecap:square;stroke-width:2.7;\"/>\n   </g>\n   <g id=\"line2d_44\">\n    <path clip-path=\"url(#p8d630c6999)\" d=\"M 0 0 \n\" style=\"fill:none;stroke:#424242;stroke-linecap:square;stroke-width:2.7;\"/>\n   </g>\n   <g id=\"line2d_45\">\n    <path clip-path=\"url(#p8d630c6999)\" d=\"M 0 0 \n\" style=\"fill:none;stroke:#424242;stroke-linecap:square;stroke-width:2.7;\"/>\n   </g>\n   <g id=\"line2d_46\">\n    <path clip-path=\"url(#p8d630c6999)\" d=\"M 0 0 \n\" style=\"fill:none;stroke:#424242;stroke-linecap:square;stroke-width:2.7;\"/>\n   </g>\n   <g id=\"line2d_47\">\n    <path clip-path=\"url(#p8d630c6999)\" d=\"M 0 0 \n\" style=\"fill:none;stroke:#424242;stroke-linecap:square;stroke-width:2.7;\"/>\n   </g>\n   <g id=\"line2d_48\">\n    <path clip-path=\"url(#p8d630c6999)\" d=\"M 0 0 \n\" style=\"fill:none;stroke:#424242;stroke-linecap:square;stroke-width:2.7;\"/>\n   </g>\n   <g id=\"line2d_49\">\n    <path clip-path=\"url(#p8d630c6999)\" d=\"M 0 0 \n\" style=\"fill:none;stroke:#424242;stroke-linecap:square;stroke-width:2.7;\"/>\n   </g>\n   <g id=\"line2d_50\">\n    <path clip-path=\"url(#p8d630c6999)\" d=\"M 0 0 \n\" style=\"fill:none;stroke:#424242;stroke-linecap:square;stroke-width:2.7;\"/>\n   </g>\n   <g id=\"line2d_51\">\n    <path clip-path=\"url(#p8d630c6999)\" d=\"M 0 0 \n\" style=\"fill:none;stroke:#424242;stroke-linecap:square;stroke-width:2.7;\"/>\n   </g>\n   <g id=\"line2d_52\">\n    <path clip-path=\"url(#p8d630c6999)\" d=\"M 0 0 \n\" style=\"fill:none;stroke:#424242;stroke-linecap:square;stroke-width:2.7;\"/>\n   </g>\n   <g id=\"line2d_53\">\n    <path clip-path=\"url(#p8d630c6999)\" d=\"M 0 0 \n\" style=\"fill:none;stroke:#424242;stroke-linecap:square;stroke-width:2.7;\"/>\n   </g>\n   <g id=\"line2d_54\">\n    <path clip-path=\"url(#p8d630c6999)\" d=\"M 0 0 \n\" style=\"fill:none;stroke:#424242;stroke-linecap:square;stroke-width:2.7;\"/>\n   </g>\n   <g id=\"line2d_55\">\n    <path clip-path=\"url(#p8d630c6999)\" d=\"M 0 0 \n\" style=\"fill:none;stroke:#424242;stroke-linecap:square;stroke-width:2.7;\"/>\n   </g>\n   <g id=\"line2d_56\">\n    <path clip-path=\"url(#p8d630c6999)\" d=\"M 0 0 \n\" style=\"fill:none;stroke:#424242;stroke-linecap:square;stroke-width:2.7;\"/>\n   </g>\n   <g id=\"line2d_57\">\n    <path clip-path=\"url(#p8d630c6999)\" d=\"M 0 0 \n\" style=\"fill:none;stroke:#424242;stroke-linecap:square;stroke-width:2.7;\"/>\n   </g>\n   <g id=\"patch_27\">\n    <path d=\"M 39.65 224.64 \nL 39.65 7.2 \n\" style=\"fill:none;stroke:#000000;stroke-linecap:square;stroke-linejoin:miter;stroke-width:0.8;\"/>\n   </g>\n   <g id=\"patch_28\">\n    <path d=\"M 374.45 224.64 \nL 374.45 7.2 \n\" style=\"fill:none;stroke:#000000;stroke-linecap:square;stroke-linejoin:miter;stroke-width:0.8;\"/>\n   </g>\n   <g id=\"patch_29\">\n    <path d=\"M 39.65 224.64 \nL 374.45 224.64 \n\" style=\"fill:none;stroke:#000000;stroke-linecap:square;stroke-linejoin:miter;stroke-width:0.8;\"/>\n   </g>\n   <g id=\"patch_30\">\n    <path d=\"M 39.65 7.2 \nL 374.45 7.2 \n\" style=\"fill:none;stroke:#000000;stroke-linecap:square;stroke-linejoin:miter;stroke-width:0.8;\"/>\n   </g>\n  </g>\n </g>\n <defs>\n  <clipPath id=\"p8d630c6999\">\n   <rect height=\"217.44\" width=\"334.8\" x=\"39.65\" y=\"7.2\"/>\n  </clipPath>\n </defs>\n</svg>\n",
      "image/png": "[encoded data removed]"
     },
     "metadata": {
      "needs_background": "light"
     }
    }
   ],
   "source": [
    "import seaborn as sns \n",
    "\n",
    "sns.barplot(pseudo_df.iloc[:, 1:-2].sum().index, pseudo_df.iloc[:, 1:-2].sum().values)"
   ]
  },
  {
   "cell_type": "code",
   "execution_count": 11,
   "metadata": {},
   "outputs": [
    {
     "output_type": "execute_result",
     "data": {
      "text/plain": [
       "<matplotlib.axes._subplots.AxesSubplot at 0x7f2a2e100e50>"
      ]
     },
     "metadata": {},
     "execution_count": 11
    },
    {
     "output_type": "display_data",
     "data": {
      "text/plain": "<Figure size 432x288 with 1 Axes>",
      "image/svg+xml": "<?xml version=\"1.0\" encoding=\"utf-8\" standalone=\"no\"?>\n<!DOCTYPE svg PUBLIC \"-//W3C//DTD SVG 1.1//EN\"\n  \"http://www.w3.org/Graphics/SVG/1.1/DTD/svg11.dtd\">\n<!-- Created with matplotlib (https://matplotlib.org/) -->\n<svg height=\"248.518125pt\" version=\"1.1\" viewBox=\"0 0 375.2875 248.518125\" width=\"375.2875pt\" xmlns=\"http://www.w3.org/2000/svg\" xmlns:xlink=\"http://www.w3.org/1999/xlink\">\n <defs>\n  <style type=\"text/css\">\n*{stroke-linecap:butt;stroke-linejoin:round;}\n  </style>\n </defs>\n <g id=\"figure_1\">\n  <g id=\"patch_1\">\n   <path d=\"M 0 248.518125 \nL 375.2875 248.518125 \nL 375.2875 0 \nL 0 0 \nz\n\" style=\"fill:none;\"/>\n  </g>\n  <g id=\"axes_1\">\n   <g id=\"patch_2\">\n    <path d=\"M 33.2875 224.64 \nL 368.0875 224.64 \nL 368.0875 7.2 \nL 33.2875 7.2 \nz\n\" style=\"fill:#ffffff;\"/>\n   </g>\n   <g id=\"patch_3\">\n    <path clip-path=\"url(#p366fa0df95)\" d=\"M 34.6825 224.64 \nL 45.8425 224.64 \nL 45.8425 178.446967 \nL 34.6825 178.446967 \nz\n\" style=\"fill:#ea96a3;\"/>\n   </g>\n   <g id=\"patch_4\">\n    <path clip-path=\"url(#p366fa0df95)\" d=\"M 48.6325 224.64 \nL 59.7925 224.64 \nL 59.7925 154.958985 \nL 48.6325 154.958985 \nz\n\" style=\"fill:#e8968a;\"/>\n   </g>\n   <g id=\"patch_5\">\n    <path clip-path=\"url(#p366fa0df95)\" d=\"M 62.5825 224.64 \nL 73.7425 224.64 \nL 73.7425 205.458147 \nL 62.5825 205.458147 \nz\n\" style=\"fill:#e19153;\"/>\n   </g>\n   <g id=\"patch_6\">\n    <path clip-path=\"url(#p366fa0df95)\" d=\"M 76.5325 224.64 \nL 87.6925 224.64 \nL 87.6925 17.554286 \nL 76.5325 17.554286 \nz\n\" style=\"fill:#ca984c;\"/>\n   </g>\n   <g id=\"patch_7\">\n    <path clip-path=\"url(#p366fa0df95)\" d=\"M 90.4825 224.64 \nL 101.6425 224.64 \nL 101.6425 154.567518 \nL 90.4825 154.567518 \nz\n\" style=\"fill:#b89c49;\"/>\n   </g>\n   <g id=\"patch_8\">\n    <path clip-path=\"url(#p366fa0df95)\" d=\"M 104.4325 224.64 \nL 115.5925 224.64 \nL 115.5925 185.884829 \nL 104.4325 185.884829 \nz\n\" style=\"fill:#a89e47;\"/>\n   </g>\n   <g id=\"patch_9\">\n    <path clip-path=\"url(#p366fa0df95)\" d=\"M 118.3825 224.64 \nL 129.5425 224.64 \nL 129.5425 193.32269 \nL 118.3825 193.32269 \nz\n\" style=\"fill:#98a246;\"/>\n   </g>\n   <g id=\"patch_10\">\n    <path clip-path=\"url(#p366fa0df95)\" d=\"M 132.3325 224.64 \nL 143.4925 224.64 \nL 143.4925 136.168598 \nL 132.3325 136.168598 \nz\n\" style=\"fill:#84a846;\"/>\n   </g>\n   <g id=\"patch_11\">\n    <path clip-path=\"url(#p366fa0df95)\" d=\"M 146.2825 224.64 \nL 157.4425 224.64 \nL 157.4425 181.578698 \nL 146.2825 181.578698 \nz\n\" style=\"fill:#60ae47;\"/>\n   </g>\n   <g id=\"patch_12\">\n    <path clip-path=\"url(#p366fa0df95)\" d=\"M 160.2325 224.64 \nL 171.3925 224.64 \nL 171.3925 194.888555 \nL 160.2325 194.888555 \nz\n\" style=\"fill:#49af72;\"/>\n   </g>\n   <g id=\"patch_13\">\n    <path clip-path=\"url(#p366fa0df95)\" d=\"M 174.1825 224.64 \nL 185.3425 224.64 \nL 185.3425 187.450694 \nL 174.1825 187.450694 \nz\n\" style=\"fill:#4aae8a;\"/>\n   </g>\n   <g id=\"patch_14\">\n    <path clip-path=\"url(#p366fa0df95)\" d=\"M 188.1325 224.64 \nL 199.2925 224.64 \nL 199.2925 165.920043 \nL 188.1325 165.920043 \nz\n\" style=\"fill:#4aac99;\"/>\n   </g>\n   <g id=\"patch_15\">\n    <path clip-path=\"url(#p366fa0df95)\" d=\"M 202.0825 224.64 \nL 213.2425 224.64 \nL 213.2425 149.086989 \nL 202.0825 149.086989 \nz\n\" style=\"fill:#4baba4;\"/>\n   </g>\n   <g id=\"patch_16\">\n    <path clip-path=\"url(#p366fa0df95)\" d=\"M 216.0325 224.64 \nL 227.1925 224.64 \nL 227.1925 197.62882 \nL 216.0325 197.62882 \nz\n\" style=\"fill:#4cabaf;\"/>\n   </g>\n   <g id=\"patch_17\">\n    <path clip-path=\"url(#p366fa0df95)\" d=\"M 229.9825 224.64 \nL 241.1425 224.64 \nL 241.1425 176.489635 \nL 229.9825 176.489635 \nz\n\" style=\"fill:#4fabbc;\"/>\n   </g>\n   <g id=\"patch_18\">\n    <path clip-path=\"url(#p366fa0df95)\" d=\"M 243.9325 224.64 \nL 255.0925 224.64 \nL 255.0925 174.92377 \nL 243.9325 174.92377 \nz\n\" style=\"fill:#53accd;\"/>\n   </g>\n   <g id=\"patch_19\">\n    <path clip-path=\"url(#p366fa0df95)\" d=\"M 257.8825 224.64 \nL 269.0425 224.64 \nL 269.0425 192.539757 \nL 257.8825 192.539757 \nz\n\" style=\"fill:#6daee2;\"/>\n   </g>\n   <g id=\"patch_20\">\n    <path clip-path=\"url(#p366fa0df95)\" d=\"M 271.8325 224.64 \nL 282.9925 224.64 \nL 282.9925 178.838434 \nL 271.8325 178.838434 \nz\n\" style=\"fill:#9bade9;\"/>\n   </g>\n   <g id=\"patch_21\">\n    <path clip-path=\"url(#p366fa0df95)\" d=\"M 285.7825 224.64 \nL 296.9425 224.64 \nL 296.9425 137.734464 \nL 285.7825 137.734464 \nz\n\" style=\"fill:#b6a8eb;\"/>\n   </g>\n   <g id=\"patch_22\">\n    <path clip-path=\"url(#p366fa0df95)\" d=\"M 299.7325 224.64 \nL 310.8925 224.64 \nL 310.8925 207.415479 \nL 299.7325 207.415479 \nz\n\" style=\"fill:#ca9ee9;\"/>\n   </g>\n   <g id=\"patch_23\">\n    <path clip-path=\"url(#p366fa0df95)\" d=\"M 313.6825 224.64 \nL 324.8425 224.64 \nL 324.8425 187.059228 \nL 313.6825 187.059228 \nz\n\" style=\"fill:#df8fe7;\"/>\n   </g>\n   <g id=\"patch_24\">\n    <path clip-path=\"url(#p366fa0df95)\" d=\"M 327.6325 224.64 \nL 338.7925 224.64 \nL 338.7925 150.261388 \nL 327.6325 150.261388 \nz\n\" style=\"fill:#e78cd7;\"/>\n   </g>\n   <g id=\"patch_25\">\n    <path clip-path=\"url(#p366fa0df95)\" d=\"M 341.5825 224.64 \nL 352.7425 224.64 \nL 352.7425 201.152017 \nL 341.5825 201.152017 \nz\n\" style=\"fill:#e890c6;\"/>\n   </g>\n   <g id=\"patch_26\">\n    <path clip-path=\"url(#p366fa0df95)\" d=\"M 355.5325 224.64 \nL 366.6925 224.64 \nL 366.6925 140.083262 \nL 355.5325 140.083262 \nz\n\" style=\"fill:#e993b6;\"/>\n   </g>\n   <g id=\"matplotlib.axis_1\">\n    <g id=\"xtick_1\">\n     <g id=\"line2d_1\">\n      <defs>\n       <path d=\"M 0 0 \nL 0 3.5 \n\" id=\"m580a58b95c\" style=\"stroke:#000000;stroke-width:0.8;\"/>\n      </defs>\n      <g>\n       <use style=\"stroke:#000000;stroke-width:0.8;\" x=\"40.2625\" xlink:href=\"#m580a58b95c\" y=\"224.64\"/>\n      </g>\n     </g>\n     <g id=\"text_1\">\n      <!-- 0 -->\n      <defs>\n       <path d=\"M 31.78125 66.40625 \nQ 24.171875 66.40625 20.328125 58.90625 \nQ 16.5 51.421875 16.5 36.375 \nQ 16.5 21.390625 20.328125 13.890625 \nQ 24.171875 6.390625 31.78125 6.390625 \nQ 39.453125 6.390625 43.28125 13.890625 \nQ 47.125 21.390625 47.125 36.375 \nQ 47.125 51.421875 43.28125 58.90625 \nQ 39.453125 66.40625 31.78125 66.40625 \nz\nM 31.78125 74.21875 \nQ 44.046875 74.21875 50.515625 64.515625 \nQ 56.984375 54.828125 56.984375 36.375 \nQ 56.984375 17.96875 50.515625 8.265625 \nQ 44.046875 -1.421875 31.78125 -1.421875 \nQ 19.53125 -1.421875 13.0625 8.265625 \nQ 6.59375 17.96875 6.59375 36.375 \nQ 6.59375 54.828125 13.0625 64.515625 \nQ 19.53125 74.21875 31.78125 74.21875 \nz\n\" id=\"DejaVuSans-48\"/>\n      </defs>\n      <g transform=\"translate(37.08125 239.238437)scale(0.1 -0.1)\">\n       <use xlink:href=\"#DejaVuSans-48\"/>\n      </g>\n     </g>\n    </g>\n    <g id=\"xtick_2\">\n     <g id=\"line2d_2\">\n      <g>\n       <use style=\"stroke:#000000;stroke-width:0.8;\" x=\"54.2125\" xlink:href=\"#m580a58b95c\" y=\"224.64\"/>\n      </g>\n     </g>\n     <g id=\"text_2\">\n      <!-- 1 -->\n      <defs>\n       <path d=\"M 12.40625 8.296875 \nL 28.515625 8.296875 \nL 28.515625 63.921875 \nL 10.984375 60.40625 \nL 10.984375 69.390625 \nL 28.421875 72.90625 \nL 38.28125 72.90625 \nL 38.28125 8.296875 \nL 54.390625 8.296875 \nL 54.390625 0 \nL 12.40625 0 \nz\n\" id=\"DejaVuSans-49\"/>\n      </defs>\n      <g transform=\"translate(51.03125 239.238437)scale(0.1 -0.1)\">\n       <use xlink:href=\"#DejaVuSans-49\"/>\n      </g>\n     </g>\n    </g>\n    <g id=\"xtick_3\">\n     <g id=\"line2d_3\">\n      <g>\n       <use style=\"stroke:#000000;stroke-width:0.8;\" x=\"68.1625\" xlink:href=\"#m580a58b95c\" y=\"224.64\"/>\n      </g>\n     </g>\n     <g id=\"text_3\">\n      <!-- 2 -->\n      <defs>\n       <path d=\"M 19.1875 8.296875 \nL 53.609375 8.296875 \nL 53.609375 0 \nL 7.328125 0 \nL 7.328125 8.296875 \nQ 12.9375 14.109375 22.625 23.890625 \nQ 32.328125 33.6875 34.8125 36.53125 \nQ 39.546875 41.84375 41.421875 45.53125 \nQ 43.3125 49.21875 43.3125 52.78125 \nQ 43.3125 58.59375 39.234375 62.25 \nQ 35.15625 65.921875 28.609375 65.921875 \nQ 23.96875 65.921875 18.8125 64.3125 \nQ 13.671875 62.703125 7.8125 59.421875 \nL 7.8125 69.390625 \nQ 13.765625 71.78125 18.9375 73 \nQ 24.125 74.21875 28.421875 74.21875 \nQ 39.75 74.21875 46.484375 68.546875 \nQ 53.21875 62.890625 53.21875 53.421875 \nQ 53.21875 48.921875 51.53125 44.890625 \nQ 49.859375 40.875 45.40625 35.40625 \nQ 44.1875 33.984375 37.640625 27.21875 \nQ 31.109375 20.453125 19.1875 8.296875 \nz\n\" id=\"DejaVuSans-50\"/>\n      </defs>\n      <g transform=\"translate(64.98125 239.238437)scale(0.1 -0.1)\">\n       <use xlink:href=\"#DejaVuSans-50\"/>\n      </g>\n     </g>\n    </g>\n    <g id=\"xtick_4\">\n     <g id=\"line2d_4\">\n      <g>\n       <use style=\"stroke:#000000;stroke-width:0.8;\" x=\"82.1125\" xlink:href=\"#m580a58b95c\" y=\"224.64\"/>\n      </g>\n     </g>\n     <g id=\"text_4\">\n      <!-- 3 -->\n      <defs>\n       <path d=\"M 40.578125 39.3125 \nQ 47.65625 37.796875 51.625 33 \nQ 55.609375 28.21875 55.609375 21.1875 \nQ 55.609375 10.40625 48.1875 4.484375 \nQ 40.765625 -1.421875 27.09375 -1.421875 \nQ 22.515625 -1.421875 17.65625 -0.515625 \nQ 12.796875 0.390625 7.625 2.203125 \nL 7.625 11.71875 \nQ 11.71875 9.328125 16.59375 8.109375 \nQ 21.484375 6.890625 26.8125 6.890625 \nQ 36.078125 6.890625 40.9375 10.546875 \nQ 45.796875 14.203125 45.796875 21.1875 \nQ 45.796875 27.640625 41.28125 31.265625 \nQ 36.765625 34.90625 28.71875 34.90625 \nL 20.21875 34.90625 \nL 20.21875 43.015625 \nL 29.109375 43.015625 \nQ 36.375 43.015625 40.234375 45.921875 \nQ 44.09375 48.828125 44.09375 54.296875 \nQ 44.09375 59.90625 40.109375 62.90625 \nQ 36.140625 65.921875 28.71875 65.921875 \nQ 24.65625 65.921875 20.015625 65.03125 \nQ 15.375 64.15625 9.8125 62.3125 \nL 9.8125 71.09375 \nQ 15.4375 72.65625 20.34375 73.4375 \nQ 25.25 74.21875 29.59375 74.21875 \nQ 40.828125 74.21875 47.359375 69.109375 \nQ 53.90625 64.015625 53.90625 55.328125 \nQ 53.90625 49.265625 50.4375 45.09375 \nQ 46.96875 40.921875 40.578125 39.3125 \nz\n\" id=\"DejaVuSans-51\"/>\n      </defs>\n      <g transform=\"translate(78.93125 239.238437)scale(0.1 -0.1)\">\n       <use xlink:href=\"#DejaVuSans-51\"/>\n      </g>\n     </g>\n    </g>\n    <g id=\"xtick_5\">\n     <g id=\"line2d_5\">\n      <g>\n       <use style=\"stroke:#000000;stroke-width:0.8;\" x=\"96.0625\" xlink:href=\"#m580a58b95c\" y=\"224.64\"/>\n      </g>\n     </g>\n     <g id=\"text_5\">\n      <!-- 4 -->\n      <defs>\n       <path d=\"M 37.796875 64.3125 \nL 12.890625 25.390625 \nL 37.796875 25.390625 \nz\nM 35.203125 72.90625 \nL 47.609375 72.90625 \nL 47.609375 25.390625 \nL 58.015625 25.390625 \nL 58.015625 17.1875 \nL 47.609375 17.1875 \nL 47.609375 0 \nL 37.796875 0 \nL 37.796875 17.1875 \nL 4.890625 17.1875 \nL 4.890625 26.703125 \nz\n\" id=\"DejaVuSans-52\"/>\n      </defs>\n      <g transform=\"translate(92.88125 239.238437)scale(0.1 -0.1)\">\n       <use xlink:href=\"#DejaVuSans-52\"/>\n      </g>\n     </g>\n    </g>\n    <g id=\"xtick_6\">\n     <g id=\"line2d_6\">\n      <g>\n       <use style=\"stroke:#000000;stroke-width:0.8;\" x=\"110.0125\" xlink:href=\"#m580a58b95c\" y=\"224.64\"/>\n      </g>\n     </g>\n     <g id=\"text_6\">\n      <!-- 5 -->\n      <defs>\n       <path d=\"M 10.796875 72.90625 \nL 49.515625 72.90625 \nL 49.515625 64.59375 \nL 19.828125 64.59375 \nL 19.828125 46.734375 \nQ 21.96875 47.46875 24.109375 47.828125 \nQ 26.265625 48.1875 28.421875 48.1875 \nQ 40.625 48.1875 47.75 41.5 \nQ 54.890625 34.8125 54.890625 23.390625 \nQ 54.890625 11.625 47.5625 5.09375 \nQ 40.234375 -1.421875 26.90625 -1.421875 \nQ 22.3125 -1.421875 17.546875 -0.640625 \nQ 12.796875 0.140625 7.71875 1.703125 \nL 7.71875 11.625 \nQ 12.109375 9.234375 16.796875 8.0625 \nQ 21.484375 6.890625 26.703125 6.890625 \nQ 35.15625 6.890625 40.078125 11.328125 \nQ 45.015625 15.765625 45.015625 23.390625 \nQ 45.015625 31 40.078125 35.4375 \nQ 35.15625 39.890625 26.703125 39.890625 \nQ 22.75 39.890625 18.8125 39.015625 \nQ 14.890625 38.140625 10.796875 36.28125 \nz\n\" id=\"DejaVuSans-53\"/>\n      </defs>\n      <g transform=\"translate(106.83125 239.238437)scale(0.1 -0.1)\">\n       <use xlink:href=\"#DejaVuSans-53\"/>\n      </g>\n     </g>\n    </g>\n    <g id=\"xtick_7\">\n     <g id=\"line2d_7\">\n      <g>\n       <use style=\"stroke:#000000;stroke-width:0.8;\" x=\"123.9625\" xlink:href=\"#m580a58b95c\" y=\"224.64\"/>\n      </g>\n     </g>\n     <g id=\"text_7\">\n      <!-- 6 -->\n      <defs>\n       <path d=\"M 33.015625 40.375 \nQ 26.375 40.375 22.484375 35.828125 \nQ 18.609375 31.296875 18.609375 23.390625 \nQ 18.609375 15.53125 22.484375 10.953125 \nQ 26.375 6.390625 33.015625 6.390625 \nQ 39.65625 6.390625 43.53125 10.953125 \nQ 47.40625 15.53125 47.40625 23.390625 \nQ 47.40625 31.296875 43.53125 35.828125 \nQ 39.65625 40.375 33.015625 40.375 \nz\nM 52.59375 71.296875 \nL 52.59375 62.3125 \nQ 48.875 64.0625 45.09375 64.984375 \nQ 41.3125 65.921875 37.59375 65.921875 \nQ 27.828125 65.921875 22.671875 59.328125 \nQ 17.53125 52.734375 16.796875 39.40625 \nQ 19.671875 43.65625 24.015625 45.921875 \nQ 28.375 48.1875 33.59375 48.1875 \nQ 44.578125 48.1875 50.953125 41.515625 \nQ 57.328125 34.859375 57.328125 23.390625 \nQ 57.328125 12.15625 50.6875 5.359375 \nQ 44.046875 -1.421875 33.015625 -1.421875 \nQ 20.359375 -1.421875 13.671875 8.265625 \nQ 6.984375 17.96875 6.984375 36.375 \nQ 6.984375 53.65625 15.1875 63.9375 \nQ 23.390625 74.21875 37.203125 74.21875 \nQ 40.921875 74.21875 44.703125 73.484375 \nQ 48.484375 72.75 52.59375 71.296875 \nz\n\" id=\"DejaVuSans-54\"/>\n      </defs>\n      <g transform=\"translate(120.78125 239.238437)scale(0.1 -0.1)\">\n       <use xlink:href=\"#DejaVuSans-54\"/>\n      </g>\n     </g>\n    </g>\n    <g id=\"xtick_8\">\n     <g id=\"line2d_8\">\n      <g>\n       <use style=\"stroke:#000000;stroke-width:0.8;\" x=\"137.9125\" xlink:href=\"#m580a58b95c\" y=\"224.64\"/>\n      </g>\n     </g>\n     <g id=\"text_8\">\n      <!-- 7 -->\n      <defs>\n       <path d=\"M 8.203125 72.90625 \nL 55.078125 72.90625 \nL 55.078125 68.703125 \nL 28.609375 0 \nL 18.3125 0 \nL 43.21875 64.59375 \nL 8.203125 64.59375 \nz\n\" id=\"DejaVuSans-55\"/>\n      </defs>\n      <g transform=\"translate(134.73125 239.238437)scale(0.1 -0.1)\">\n       <use xlink:href=\"#DejaVuSans-55\"/>\n      </g>\n     </g>\n    </g>\n    <g id=\"xtick_9\">\n     <g id=\"line2d_9\">\n      <g>\n       <use style=\"stroke:#000000;stroke-width:0.8;\" x=\"151.8625\" xlink:href=\"#m580a58b95c\" y=\"224.64\"/>\n      </g>\n     </g>\n     <g id=\"text_9\">\n      <!-- 8 -->\n      <defs>\n       <path d=\"M 31.78125 34.625 \nQ 24.75 34.625 20.71875 30.859375 \nQ 16.703125 27.09375 16.703125 20.515625 \nQ 16.703125 13.921875 20.71875 10.15625 \nQ 24.75 6.390625 31.78125 6.390625 \nQ 38.8125 6.390625 42.859375 10.171875 \nQ 46.921875 13.96875 46.921875 20.515625 \nQ 46.921875 27.09375 42.890625 30.859375 \nQ 38.875 34.625 31.78125 34.625 \nz\nM 21.921875 38.8125 \nQ 15.578125 40.375 12.03125 44.71875 \nQ 8.5 49.078125 8.5 55.328125 \nQ 8.5 64.0625 14.71875 69.140625 \nQ 20.953125 74.21875 31.78125 74.21875 \nQ 42.671875 74.21875 48.875 69.140625 \nQ 55.078125 64.0625 55.078125 55.328125 \nQ 55.078125 49.078125 51.53125 44.71875 \nQ 48 40.375 41.703125 38.8125 \nQ 48.828125 37.15625 52.796875 32.3125 \nQ 56.78125 27.484375 56.78125 20.515625 \nQ 56.78125 9.90625 50.3125 4.234375 \nQ 43.84375 -1.421875 31.78125 -1.421875 \nQ 19.734375 -1.421875 13.25 4.234375 \nQ 6.78125 9.90625 6.78125 20.515625 \nQ 6.78125 27.484375 10.78125 32.3125 \nQ 14.796875 37.15625 21.921875 38.8125 \nz\nM 18.3125 54.390625 \nQ 18.3125 48.734375 21.84375 45.5625 \nQ 25.390625 42.390625 31.78125 42.390625 \nQ 38.140625 42.390625 41.71875 45.5625 \nQ 45.3125 48.734375 45.3125 54.390625 \nQ 45.3125 60.0625 41.71875 63.234375 \nQ 38.140625 66.40625 31.78125 66.40625 \nQ 25.390625 66.40625 21.84375 63.234375 \nQ 18.3125 60.0625 18.3125 54.390625 \nz\n\" id=\"DejaVuSans-56\"/>\n      </defs>\n      <g transform=\"translate(148.68125 239.238437)scale(0.1 -0.1)\">\n       <use xlink:href=\"#DejaVuSans-56\"/>\n      </g>\n     </g>\n    </g>\n    <g id=\"xtick_10\">\n     <g id=\"line2d_10\">\n      <g>\n       <use style=\"stroke:#000000;stroke-width:0.8;\" x=\"165.8125\" xlink:href=\"#m580a58b95c\" y=\"224.64\"/>\n      </g>\n     </g>\n     <g id=\"text_10\">\n      <!-- 9 -->\n      <defs>\n       <path d=\"M 10.984375 1.515625 \nL 10.984375 10.5 \nQ 14.703125 8.734375 18.5 7.8125 \nQ 22.3125 6.890625 25.984375 6.890625 \nQ 35.75 6.890625 40.890625 13.453125 \nQ 46.046875 20.015625 46.78125 33.40625 \nQ 43.953125 29.203125 39.59375 26.953125 \nQ 35.25 24.703125 29.984375 24.703125 \nQ 19.046875 24.703125 12.671875 31.3125 \nQ 6.296875 37.9375 6.296875 49.421875 \nQ 6.296875 60.640625 12.9375 67.421875 \nQ 19.578125 74.21875 30.609375 74.21875 \nQ 43.265625 74.21875 49.921875 64.515625 \nQ 56.59375 54.828125 56.59375 36.375 \nQ 56.59375 19.140625 48.40625 8.859375 \nQ 40.234375 -1.421875 26.421875 -1.421875 \nQ 22.703125 -1.421875 18.890625 -0.6875 \nQ 15.09375 0.046875 10.984375 1.515625 \nz\nM 30.609375 32.421875 \nQ 37.25 32.421875 41.125 36.953125 \nQ 45.015625 41.5 45.015625 49.421875 \nQ 45.015625 57.28125 41.125 61.84375 \nQ 37.25 66.40625 30.609375 66.40625 \nQ 23.96875 66.40625 20.09375 61.84375 \nQ 16.21875 57.28125 16.21875 49.421875 \nQ 16.21875 41.5 20.09375 36.953125 \nQ 23.96875 32.421875 30.609375 32.421875 \nz\n\" id=\"DejaVuSans-57\"/>\n      </defs>\n      <g transform=\"translate(162.63125 239.238437)scale(0.1 -0.1)\">\n       <use xlink:href=\"#DejaVuSans-57\"/>\n      </g>\n     </g>\n    </g>\n    <g id=\"xtick_11\">\n     <g id=\"line2d_11\">\n      <g>\n       <use style=\"stroke:#000000;stroke-width:0.8;\" x=\"179.7625\" xlink:href=\"#m580a58b95c\" y=\"224.64\"/>\n      </g>\n     </g>\n     <g id=\"text_11\">\n      <!-- 10 -->\n      <g transform=\"translate(173.4 239.238437)scale(0.1 -0.1)\">\n       <use xlink:href=\"#DejaVuSans-49\"/>\n       <use x=\"63.623047\" xlink:href=\"#DejaVuSans-48\"/>\n      </g>\n     </g>\n    </g>\n    <g id=\"xtick_12\">\n     <g id=\"line2d_12\">\n      <g>\n       <use style=\"stroke:#000000;stroke-width:0.8;\" x=\"193.7125\" xlink:href=\"#m580a58b95c\" y=\"224.64\"/>\n      </g>\n     </g>\n     <g id=\"text_12\">\n      <!-- 11 -->\n      <g transform=\"translate(187.35 239.238437)scale(0.1 -0.1)\">\n       <use xlink:href=\"#DejaVuSans-49\"/>\n       <use x=\"63.623047\" xlink:href=\"#DejaVuSans-49\"/>\n      </g>\n     </g>\n    </g>\n    <g id=\"xtick_13\">\n     <g id=\"line2d_13\">\n      <g>\n       <use style=\"stroke:#000000;stroke-width:0.8;\" x=\"207.6625\" xlink:href=\"#m580a58b95c\" y=\"224.64\"/>\n      </g>\n     </g>\n     <g id=\"text_13\">\n      <!-- 12 -->\n      <g transform=\"translate(201.3 239.238437)scale(0.1 -0.1)\">\n       <use xlink:href=\"#DejaVuSans-49\"/>\n       <use x=\"63.623047\" xlink:href=\"#DejaVuSans-50\"/>\n      </g>\n     </g>\n    </g>\n    <g id=\"xtick_14\">\n     <g id=\"line2d_14\">\n      <g>\n       <use style=\"stroke:#000000;stroke-width:0.8;\" x=\"221.6125\" xlink:href=\"#m580a58b95c\" y=\"224.64\"/>\n      </g>\n     </g>\n     <g id=\"text_14\">\n      <!-- 13 -->\n      <g transform=\"translate(215.25 239.238437)scale(0.1 -0.1)\">\n       <use xlink:href=\"#DejaVuSans-49\"/>\n       <use x=\"63.623047\" xlink:href=\"#DejaVuSans-51\"/>\n      </g>\n     </g>\n    </g>\n    <g id=\"xtick_15\">\n     <g id=\"line2d_15\">\n      <g>\n       <use style=\"stroke:#000000;stroke-width:0.8;\" x=\"235.5625\" xlink:href=\"#m580a58b95c\" y=\"224.64\"/>\n      </g>\n     </g>\n     <g id=\"text_15\">\n      <!-- 14 -->\n      <g transform=\"translate(229.2 239.238437)scale(0.1 -0.1)\">\n       <use xlink:href=\"#DejaVuSans-49\"/>\n       <use x=\"63.623047\" xlink:href=\"#DejaVuSans-52\"/>\n      </g>\n     </g>\n    </g>\n    <g id=\"xtick_16\">\n     <g id=\"line2d_16\">\n      <g>\n       <use style=\"stroke:#000000;stroke-width:0.8;\" x=\"249.5125\" xlink:href=\"#m580a58b95c\" y=\"224.64\"/>\n      </g>\n     </g>\n     <g id=\"text_16\">\n      <!-- 15 -->\n      <g transform=\"translate(243.15 239.238437)scale(0.1 -0.1)\">\n       <use xlink:href=\"#DejaVuSans-49\"/>\n       <use x=\"63.623047\" xlink:href=\"#DejaVuSans-53\"/>\n      </g>\n     </g>\n    </g>\n    <g id=\"xtick_17\">\n     <g id=\"line2d_17\">\n      <g>\n       <use style=\"stroke:#000000;stroke-width:0.8;\" x=\"263.4625\" xlink:href=\"#m580a58b95c\" y=\"224.64\"/>\n      </g>\n     </g>\n     <g id=\"text_17\">\n      <!-- 16 -->\n      <g transform=\"translate(257.1 239.238437)scale(0.1 -0.1)\">\n       <use xlink:href=\"#DejaVuSans-49\"/>\n       <use x=\"63.623047\" xlink:href=\"#DejaVuSans-54\"/>\n      </g>\n     </g>\n    </g>\n    <g id=\"xtick_18\">\n     <g id=\"line2d_18\">\n      <g>\n       <use style=\"stroke:#000000;stroke-width:0.8;\" x=\"277.4125\" xlink:href=\"#m580a58b95c\" y=\"224.64\"/>\n      </g>\n     </g>\n     <g id=\"text_18\">\n      <!-- 17 -->\n      <g transform=\"translate(271.05 239.238437)scale(0.1 -0.1)\">\n       <use xlink:href=\"#DejaVuSans-49\"/>\n       <use x=\"63.623047\" xlink:href=\"#DejaVuSans-55\"/>\n      </g>\n     </g>\n    </g>\n    <g id=\"xtick_19\">\n     <g id=\"line2d_19\">\n      <g>\n       <use style=\"stroke:#000000;stroke-width:0.8;\" x=\"291.3625\" xlink:href=\"#m580a58b95c\" y=\"224.64\"/>\n      </g>\n     </g>\n     <g id=\"text_19\">\n      <!-- 18 -->\n      <g transform=\"translate(285 239.238437)scale(0.1 -0.1)\">\n       <use xlink:href=\"#DejaVuSans-49\"/>\n       <use x=\"63.623047\" xlink:href=\"#DejaVuSans-56\"/>\n      </g>\n     </g>\n    </g>\n    <g id=\"xtick_20\">\n     <g id=\"line2d_20\">\n      <g>\n       <use style=\"stroke:#000000;stroke-width:0.8;\" x=\"305.3125\" xlink:href=\"#m580a58b95c\" y=\"224.64\"/>\n      </g>\n     </g>\n     <g id=\"text_20\">\n      <!-- 19 -->\n      <g transform=\"translate(298.95 239.238437)scale(0.1 -0.1)\">\n       <use xlink:href=\"#DejaVuSans-49\"/>\n       <use x=\"63.623047\" xlink:href=\"#DejaVuSans-57\"/>\n      </g>\n     </g>\n    </g>\n    <g id=\"xtick_21\">\n     <g id=\"line2d_21\">\n      <g>\n       <use style=\"stroke:#000000;stroke-width:0.8;\" x=\"319.2625\" xlink:href=\"#m580a58b95c\" y=\"224.64\"/>\n      </g>\n     </g>\n     <g id=\"text_21\">\n      <!-- 20 -->\n      <g transform=\"translate(312.9 239.238437)scale(0.1 -0.1)\">\n       <use xlink:href=\"#DejaVuSans-50\"/>\n       <use x=\"63.623047\" xlink:href=\"#DejaVuSans-48\"/>\n      </g>\n     </g>\n    </g>\n    <g id=\"xtick_22\">\n     <g id=\"line2d_22\">\n      <g>\n       <use style=\"stroke:#000000;stroke-width:0.8;\" x=\"333.2125\" xlink:href=\"#m580a58b95c\" y=\"224.64\"/>\n      </g>\n     </g>\n     <g id=\"text_22\">\n      <!-- 21 -->\n      <g transform=\"translate(326.85 239.238437)scale(0.1 -0.1)\">\n       <use xlink:href=\"#DejaVuSans-50\"/>\n       <use x=\"63.623047\" xlink:href=\"#DejaVuSans-49\"/>\n      </g>\n     </g>\n    </g>\n    <g id=\"xtick_23\">\n     <g id=\"line2d_23\">\n      <g>\n       <use style=\"stroke:#000000;stroke-width:0.8;\" x=\"347.1625\" xlink:href=\"#m580a58b95c\" y=\"224.64\"/>\n      </g>\n     </g>\n     <g id=\"text_23\">\n      <!-- 22 -->\n      <g transform=\"translate(340.8 239.238437)scale(0.1 -0.1)\">\n       <use xlink:href=\"#DejaVuSans-50\"/>\n       <use x=\"63.623047\" xlink:href=\"#DejaVuSans-50\"/>\n      </g>\n     </g>\n    </g>\n    <g id=\"xtick_24\">\n     <g id=\"line2d_24\">\n      <g>\n       <use style=\"stroke:#000000;stroke-width:0.8;\" x=\"361.1125\" xlink:href=\"#m580a58b95c\" y=\"224.64\"/>\n      </g>\n     </g>\n     <g id=\"text_24\">\n      <!-- 23 -->\n      <g transform=\"translate(354.75 239.238437)scale(0.1 -0.1)\">\n       <use xlink:href=\"#DejaVuSans-50\"/>\n       <use x=\"63.623047\" xlink:href=\"#DejaVuSans-51\"/>\n      </g>\n     </g>\n    </g>\n   </g>\n   <g id=\"matplotlib.axis_2\">\n    <g id=\"ytick_1\">\n     <g id=\"line2d_25\">\n      <defs>\n       <path d=\"M 0 0 \nL -3.5 0 \n\" id=\"md5d58f1480\" style=\"stroke:#000000;stroke-width:0.8;\"/>\n      </defs>\n      <g>\n       <use style=\"stroke:#000000;stroke-width:0.8;\" x=\"33.2875\" xlink:href=\"#md5d58f1480\" y=\"224.64\"/>\n      </g>\n     </g>\n     <g id=\"text_25\">\n      <!-- 0 -->\n      <g transform=\"translate(19.925 228.439219)scale(0.1 -0.1)\">\n       <use xlink:href=\"#DejaVuSans-48\"/>\n      </g>\n     </g>\n    </g>\n    <g id=\"ytick_2\">\n     <g id=\"line2d_26\">\n      <g>\n       <use style=\"stroke:#000000;stroke-width:0.8;\" x=\"33.2875\" xlink:href=\"#md5d58f1480\" y=\"185.493362\"/>\n      </g>\n     </g>\n     <g id=\"text_26\">\n      <!-- 100 -->\n      <g transform=\"translate(7.2 189.292581)scale(0.1 -0.1)\">\n       <use xlink:href=\"#DejaVuSans-49\"/>\n       <use x=\"63.623047\" xlink:href=\"#DejaVuSans-48\"/>\n       <use x=\"127.246094\" xlink:href=\"#DejaVuSans-48\"/>\n      </g>\n     </g>\n    </g>\n    <g id=\"ytick_3\">\n     <g id=\"line2d_27\">\n      <g>\n       <use style=\"stroke:#000000;stroke-width:0.8;\" x=\"33.2875\" xlink:href=\"#md5d58f1480\" y=\"146.346724\"/>\n      </g>\n     </g>\n     <g id=\"text_27\">\n      <!-- 200 -->\n      <g transform=\"translate(7.2 150.145943)scale(0.1 -0.1)\">\n       <use xlink:href=\"#DejaVuSans-50\"/>\n       <use x=\"63.623047\" xlink:href=\"#DejaVuSans-48\"/>\n       <use x=\"127.246094\" xlink:href=\"#DejaVuSans-48\"/>\n      </g>\n     </g>\n    </g>\n    <g id=\"ytick_4\">\n     <g id=\"line2d_28\">\n      <g>\n       <use style=\"stroke:#000000;stroke-width:0.8;\" x=\"33.2875\" xlink:href=\"#md5d58f1480\" y=\"107.200086\"/>\n      </g>\n     </g>\n     <g id=\"text_28\">\n      <!-- 300 -->\n      <g transform=\"translate(7.2 110.999305)scale(0.1 -0.1)\">\n       <use xlink:href=\"#DejaVuSans-51\"/>\n       <use x=\"63.623047\" xlink:href=\"#DejaVuSans-48\"/>\n       <use x=\"127.246094\" xlink:href=\"#DejaVuSans-48\"/>\n      </g>\n     </g>\n    </g>\n    <g id=\"ytick_5\">\n     <g id=\"line2d_29\">\n      <g>\n       <use style=\"stroke:#000000;stroke-width:0.8;\" x=\"33.2875\" xlink:href=\"#md5d58f1480\" y=\"68.053449\"/>\n      </g>\n     </g>\n     <g id=\"text_29\">\n      <!-- 400 -->\n      <g transform=\"translate(7.2 71.852667)scale(0.1 -0.1)\">\n       <use xlink:href=\"#DejaVuSans-52\"/>\n       <use x=\"63.623047\" xlink:href=\"#DejaVuSans-48\"/>\n       <use x=\"127.246094\" xlink:href=\"#DejaVuSans-48\"/>\n      </g>\n     </g>\n    </g>\n    <g id=\"ytick_6\">\n     <g id=\"line2d_30\">\n      <g>\n       <use style=\"stroke:#000000;stroke-width:0.8;\" x=\"33.2875\" xlink:href=\"#md5d58f1480\" y=\"28.906811\"/>\n      </g>\n     </g>\n     <g id=\"text_30\">\n      <!-- 500 -->\n      <g transform=\"translate(7.2 32.706029)scale(0.1 -0.1)\">\n       <use xlink:href=\"#DejaVuSans-53\"/>\n       <use x=\"63.623047\" xlink:href=\"#DejaVuSans-48\"/>\n       <use x=\"127.246094\" xlink:href=\"#DejaVuSans-48\"/>\n      </g>\n     </g>\n    </g>\n   </g>\n   <g id=\"line2d_31\">\n    <path clip-path=\"url(#p366fa0df95)\" d=\"M 0 0 \n\" style=\"fill:none;stroke:#424242;stroke-linecap:square;stroke-width:2.7;\"/>\n   </g>\n   <g id=\"line2d_32\">\n    <path clip-path=\"url(#p366fa0df95)\" d=\"M 0 0 \n\" style=\"fill:none;stroke:#424242;stroke-linecap:square;stroke-width:2.7;\"/>\n   </g>\n   <g id=\"line2d_33\">\n    <path clip-path=\"url(#p366fa0df95)\" d=\"M 0 0 \n\" style=\"fill:none;stroke:#424242;stroke-linecap:square;stroke-width:2.7;\"/>\n   </g>\n   <g id=\"line2d_34\">\n    <path clip-path=\"url(#p366fa0df95)\" d=\"M 0 0 \n\" style=\"fill:none;stroke:#424242;stroke-linecap:square;stroke-width:2.7;\"/>\n   </g>\n   <g id=\"line2d_35\">\n    <path clip-path=\"url(#p366fa0df95)\" d=\"M 0 0 \n\" style=\"fill:none;stroke:#424242;stroke-linecap:square;stroke-width:2.7;\"/>\n   </g>\n   <g id=\"line2d_36\">\n    <path clip-path=\"url(#p366fa0df95)\" d=\"M 0 0 \n\" style=\"fill:none;stroke:#424242;stroke-linecap:square;stroke-width:2.7;\"/>\n   </g>\n   <g id=\"line2d_37\">\n    <path clip-path=\"url(#p366fa0df95)\" d=\"M 0 0 \n\" style=\"fill:none;stroke:#424242;stroke-linecap:square;stroke-width:2.7;\"/>\n   </g>\n   <g id=\"line2d_38\">\n    <path clip-path=\"url(#p366fa0df95)\" d=\"M 0 0 \n\" style=\"fill:none;stroke:#424242;stroke-linecap:square;stroke-width:2.7;\"/>\n   </g>\n   <g id=\"line2d_39\">\n    <path clip-path=\"url(#p366fa0df95)\" d=\"M 0 0 \n\" style=\"fill:none;stroke:#424242;stroke-linecap:square;stroke-width:2.7;\"/>\n   </g>\n   <g id=\"line2d_40\">\n    <path clip-path=\"url(#p366fa0df95)\" d=\"M 0 0 \n\" style=\"fill:none;stroke:#424242;stroke-linecap:square;stroke-width:2.7;\"/>\n   </g>\n   <g id=\"line2d_41\">\n    <path clip-path=\"url(#p366fa0df95)\" d=\"M 0 0 \n\" style=\"fill:none;stroke:#424242;stroke-linecap:square;stroke-width:2.7;\"/>\n   </g>\n   <g id=\"line2d_42\">\n    <path clip-path=\"url(#p366fa0df95)\" d=\"M 0 0 \n\" style=\"fill:none;stroke:#424242;stroke-linecap:square;stroke-width:2.7;\"/>\n   </g>\n   <g id=\"line2d_43\">\n    <path clip-path=\"url(#p366fa0df95)\" d=\"M 0 0 \n\" style=\"fill:none;stroke:#424242;stroke-linecap:square;stroke-width:2.7;\"/>\n   </g>\n   <g id=\"line2d_44\">\n    <path clip-path=\"url(#p366fa0df95)\" d=\"M 0 0 \n\" style=\"fill:none;stroke:#424242;stroke-linecap:square;stroke-width:2.7;\"/>\n   </g>\n   <g id=\"line2d_45\">\n    <path clip-path=\"url(#p366fa0df95)\" d=\"M 0 0 \n\" style=\"fill:none;stroke:#424242;stroke-linecap:square;stroke-width:2.7;\"/>\n   </g>\n   <g id=\"line2d_46\">\n    <path clip-path=\"url(#p366fa0df95)\" d=\"M 0 0 \n\" style=\"fill:none;stroke:#424242;stroke-linecap:square;stroke-width:2.7;\"/>\n   </g>\n   <g id=\"line2d_47\">\n    <path clip-path=\"url(#p366fa0df95)\" d=\"M 0 0 \n\" style=\"fill:none;stroke:#424242;stroke-linecap:square;stroke-width:2.7;\"/>\n   </g>\n   <g id=\"line2d_48\">\n    <path clip-path=\"url(#p366fa0df95)\" d=\"M 0 0 \n\" style=\"fill:none;stroke:#424242;stroke-linecap:square;stroke-width:2.7;\"/>\n   </g>\n   <g id=\"line2d_49\">\n    <path clip-path=\"url(#p366fa0df95)\" d=\"M 0 0 \n\" style=\"fill:none;stroke:#424242;stroke-linecap:square;stroke-width:2.7;\"/>\n   </g>\n   <g id=\"line2d_50\">\n    <path clip-path=\"url(#p366fa0df95)\" d=\"M 0 0 \n\" style=\"fill:none;stroke:#424242;stroke-linecap:square;stroke-width:2.7;\"/>\n   </g>\n   <g id=\"line2d_51\">\n    <path clip-path=\"url(#p366fa0df95)\" d=\"M 0 0 \n\" style=\"fill:none;stroke:#424242;stroke-linecap:square;stroke-width:2.7;\"/>\n   </g>\n   <g id=\"line2d_52\">\n    <path clip-path=\"url(#p366fa0df95)\" d=\"M 0 0 \n\" style=\"fill:none;stroke:#424242;stroke-linecap:square;stroke-width:2.7;\"/>\n   </g>\n   <g id=\"line2d_53\">\n    <path clip-path=\"url(#p366fa0df95)\" d=\"M 0 0 \n\" style=\"fill:none;stroke:#424242;stroke-linecap:square;stroke-width:2.7;\"/>\n   </g>\n   <g id=\"line2d_54\">\n    <path clip-path=\"url(#p366fa0df95)\" d=\"M 0 0 \n\" style=\"fill:none;stroke:#424242;stroke-linecap:square;stroke-width:2.7;\"/>\n   </g>\n   <g id=\"patch_27\">\n    <path d=\"M 33.2875 224.64 \nL 33.2875 7.2 \n\" style=\"fill:none;stroke:#000000;stroke-linecap:square;stroke-linejoin:miter;stroke-width:0.8;\"/>\n   </g>\n   <g id=\"patch_28\">\n    <path d=\"M 368.0875 224.64 \nL 368.0875 7.2 \n\" style=\"fill:none;stroke:#000000;stroke-linecap:square;stroke-linejoin:miter;stroke-width:0.8;\"/>\n   </g>\n   <g id=\"patch_29\">\n    <path d=\"M 33.2875 224.64 \nL 368.0875 224.64 \n\" style=\"fill:none;stroke:#000000;stroke-linecap:square;stroke-linejoin:miter;stroke-width:0.8;\"/>\n   </g>\n   <g id=\"patch_30\">\n    <path d=\"M 33.2875 7.2 \nL 368.0875 7.2 \n\" style=\"fill:none;stroke:#000000;stroke-linecap:square;stroke-linejoin:miter;stroke-width:0.8;\"/>\n   </g>\n  </g>\n </g>\n <defs>\n  <clipPath id=\"p366fa0df95\">\n   <rect height=\"217.44\" width=\"334.8\" x=\"33.2875\" y=\"7.2\"/>\n  </clipPath>\n </defs>\n</svg>\n",
      "image/png": "[encoded data removed]"
     },
     "metadata": {
      "needs_background": "light"
     }
    }
   ],
   "source": [
    "# import seaborn as sns \n",
    "\n",
    "# sns.barplot(pseudo_df.iloc[:, 1:-2].sum().index, pseudo_df.iloc[:, 1:-2].sum().values)"
   ]
  },
  {
   "cell_type": "code",
   "execution_count": 16,
   "metadata": {},
   "outputs": [],
   "source": [
    "pseudo_df.to_csv(\"./input/rfcx-species-audio-detection/train_ps60.csv\", index=False)"
   ]
  },
  {
   "source": [
    "## 10秒をtargetに"
   ],
   "cell_type": "markdown",
   "metadata": {}
  },
  {
   "cell_type": "code",
   "execution_count": 27,
   "metadata": {},
   "outputs": [],
   "source": [
    "pseudo_label_dict_all = {\"step0\":{}, \"step1\":{}, \"step2\":{}, \"step3\":{}, \"step4\":{}, \"step5\":{}}"
   ]
  },
  {
   "cell_type": "code",
   "execution_count": 28,
   "metadata": {},
   "outputs": [],
   "source": [
    "for recording_id in all_recording_ids:  # recordingのループ\n",
    "    labels = []\n",
    "    # 任意の音声の5fold分のpsuedo label候補を取り出す\n",
    "    for pseudo_label_dict in pseudo_label_dict_list:  # 5foldのループ\n",
    "        try:\n",
    "            label = pseudo_label_dict[recording_id]\n",
    "        except KeyError:\n",
    "            label = np.zeros((6, 24))\n",
    "        labels.append(label)\n",
    "    new_label = (np.stack(labels).sum(0) > 2).astype(int)  # (6, 24)?\n",
    "    if new_label.sum() == 0:  \n",
    "        pass\n",
    "    else:\n",
    "        for i in range(6):\n",
    "            pseudo_label_dict_all[f\"step{i}\"][recording_id] = new_label[i]"
   ]
  },
  {
   "cell_type": "code",
   "execution_count": 29,
   "metadata": {},
   "outputs": [],
   "source": [
    "pseudo_all_df = pd.DataFrame()\n",
    "for i in range(6):\n",
    "    pseudo_df = pd.DataFrame(pseudo_label_dict_all[f\"step{i}\"]).T\n",
    "    pseudo_df = pseudo_df.reset_index().rename(columns={'index':'recording_id'})\n",
    "    pseudo_df[\"t_min\"] = i*10\n",
    "    pseudo_df[\"t_max\"] = (i+1)*10\n",
    "    pseudo_all_df = pd.concat([pseudo_all_df, pseudo_df])"
   ]
  },
  {
   "cell_type": "code",
   "execution_count": 30,
   "metadata": {},
   "outputs": [
    {
     "output_type": "execute_result",
     "data": {
      "text/plain": [
       "  recording_id  0  1  2  3  4  5  6  7  8  ...  16  17  18  19  20  21  22  \\\n",
       "0    003bec244  0  1  0  0  0  0  0  1  0  ...   0   0   0   0   1   0   0   \n",
       "0    003bec244  0  0  0  1  0  0  0  1  0  ...   0   0   0   0   1   0   0   \n",
       "0    003bec244  0  0  0  1  0  0  0  1  0  ...   0   0   0   0   1   0   0   \n",
       "0    003bec244  0  0  0  1  0  0  0  1  0  ...   0   0   0   0   1   0   0   \n",
       "0    003bec244  0  0  0  1  0  1  0  1  0  ...   0   0   0   0   1   0   0   \n",
       "0    003bec244  0  0  0  1  0  0  0  1  0  ...   0   0   0   0   1   0   0   \n",
       "\n",
       "   23  t_min  t_max  \n",
       "0   1      0     10  \n",
       "0   1     10     20  \n",
       "0   0     20     30  \n",
       "0   1     30     40  \n",
       "0   1     40     50  \n",
       "0   1     50     60  \n",
       "\n",
       "[6 rows x 27 columns]"
      ],
      "text/html": "<div>\n<style scoped>\n    .dataframe tbody tr th:only-of-type {\n        vertical-align: middle;\n    }\n\n    .dataframe tbody tr th {\n        vertical-align: top;\n    }\n\n    .dataframe thead th {\n        text-align: right;\n    }\n</style>\n<table border=\"1\" class=\"dataframe\">\n  <thead>\n    <tr style=\"text-align: right;\">\n      <th></th>\n      <th>recording_id</th>\n      <th>0</th>\n      <th>1</th>\n      <th>2</th>\n      <th>3</th>\n      <th>4</th>\n      <th>5</th>\n      <th>6</th>\n      <th>7</th>\n      <th>8</th>\n      <th>...</th>\n      <th>16</th>\n      <th>17</th>\n      <th>18</th>\n      <th>19</th>\n      <th>20</th>\n      <th>21</th>\n      <th>22</th>\n      <th>23</th>\n      <th>t_min</th>\n      <th>t_max</th>\n    </tr>\n  </thead>\n  <tbody>\n    <tr>\n      <td>0</td>\n      <td>003bec244</td>\n      <td>0</td>\n      <td>1</td>\n      <td>0</td>\n      <td>0</td>\n      <td>0</td>\n      <td>0</td>\n      <td>0</td>\n      <td>1</td>\n      <td>0</td>\n      <td>...</td>\n      <td>0</td>\n      <td>0</td>\n      <td>0</td>\n      <td>0</td>\n      <td>1</td>\n      <td>0</td>\n      <td>0</td>\n      <td>1</td>\n      <td>0</td>\n      <td>10</td>\n    </tr>\n    <tr>\n      <td>0</td>\n      <td>003bec244</td>\n      <td>0</td>\n      <td>0</td>\n      <td>0</td>\n      <td>1</td>\n      <td>0</td>\n      <td>0</td>\n      <td>0</td>\n      <td>1</td>\n      <td>0</td>\n      <td>...</td>\n      <td>0</td>\n      <td>0</td>\n      <td>0</td>\n      <td>0</td>\n      <td>1</td>\n      <td>0</td>\n      <td>0</td>\n      <td>1</td>\n      <td>10</td>\n      <td>20</td>\n    </tr>\n    <tr>\n      <td>0</td>\n      <td>003bec244</td>\n      <td>0</td>\n      <td>0</td>\n      <td>0</td>\n      <td>1</td>\n      <td>0</td>\n      <td>0</td>\n      <td>0</td>\n      <td>1</td>\n      <td>0</td>\n      <td>...</td>\n      <td>0</td>\n      <td>0</td>\n      <td>0</td>\n      <td>0</td>\n      <td>1</td>\n      <td>0</td>\n      <td>0</td>\n      <td>0</td>\n      <td>20</td>\n      <td>30</td>\n    </tr>\n    <tr>\n      <td>0</td>\n      <td>003bec244</td>\n      <td>0</td>\n      <td>0</td>\n      <td>0</td>\n      <td>1</td>\n      <td>0</td>\n      <td>0</td>\n      <td>0</td>\n      <td>1</td>\n      <td>0</td>\n      <td>...</td>\n      <td>0</td>\n      <td>0</td>\n      <td>0</td>\n      <td>0</td>\n      <td>1</td>\n      <td>0</td>\n      <td>0</td>\n      <td>1</td>\n      <td>30</td>\n      <td>40</td>\n    </tr>\n    <tr>\n      <td>0</td>\n      <td>003bec244</td>\n      <td>0</td>\n      <td>0</td>\n      <td>0</td>\n      <td>1</td>\n      <td>0</td>\n      <td>1</td>\n      <td>0</td>\n      <td>1</td>\n      <td>0</td>\n      <td>...</td>\n      <td>0</td>\n      <td>0</td>\n      <td>0</td>\n      <td>0</td>\n      <td>1</td>\n      <td>0</td>\n      <td>0</td>\n      <td>1</td>\n      <td>40</td>\n      <td>50</td>\n    </tr>\n    <tr>\n      <td>0</td>\n      <td>003bec244</td>\n      <td>0</td>\n      <td>0</td>\n      <td>0</td>\n      <td>1</td>\n      <td>0</td>\n      <td>0</td>\n      <td>0</td>\n      <td>1</td>\n      <td>0</td>\n      <td>...</td>\n      <td>0</td>\n      <td>0</td>\n      <td>0</td>\n      <td>0</td>\n      <td>1</td>\n      <td>0</td>\n      <td>0</td>\n      <td>1</td>\n      <td>50</td>\n      <td>60</td>\n    </tr>\n  </tbody>\n</table>\n<p>6 rows × 27 columns</p>\n</div>"
     },
     "metadata": {},
     "execution_count": 30
    }
   ],
   "source": [
    "pseudo_all_df[pseudo_all_df['recording_id']=='003bec244']"
   ]
  },
  {
   "cell_type": "code",
   "execution_count": 31,
   "metadata": {},
   "outputs": [
    {
     "output_type": "execute_result",
     "data": {
      "text/plain": [
       "      recording_id  0  1  2  3  4  5  6  7  8  ...  16  17  18  19  20  21  \\\n",
       "0        003bec244  0  1  0  0  0  0  0  1  0  ...   0   0   0   0   1   0   \n",
       "1        006ab765f  0  0  0  0  0  0  0  1  0  ...   0   0   0   0   0   0   \n",
       "2        007f87ba2  0  0  0  1  1  0  0  0  0  ...   0   0   1   0   0   1   \n",
       "3        0099c367b  0  0  0  1  0  0  1  0  0  ...   0   1   0   0   0   0   \n",
       "4        009b760e6  0  0  0  0  0  0  0  0  0  ...   0   0   0   0   0   0   \n",
       "...            ... .. .. .. .. .. .. .. .. ..  ...  ..  ..  ..  ..  ..  ..   \n",
       "28357    ffc6031f8  0  0  0  1  0  0  0  1  0  ...   0   1   0   0   0   0   \n",
       "28358    ffd88cd84  1  1  0  1  0  0  0  0  0  ...   0   0   1   0   0   0   \n",
       "28359    ffebe7313  0  0  0  0  1  0  0  0  1  ...   0   0   0   0   0   1   \n",
       "28360    fff163132  0  1  0  1  0  0  0  0  0  ...   0   0   0   0   0   0   \n",
       "28361    fffb79246  0  0  0  0  0  1  0  1  0  ...   0   0   0   0   0   0   \n",
       "\n",
       "       22  23  t_min  t_max  \n",
       "0       0   1      0     10  \n",
       "1       0   1      0     10  \n",
       "2       0   0      0     10  \n",
       "3       0   1      0     10  \n",
       "4       0   0      0     10  \n",
       "...    ..  ..    ...    ...  \n",
       "28357   0   1     50     60  \n",
       "28358   0   0     50     60  \n",
       "28359   0   0     50     60  \n",
       "28360   0   0     50     60  \n",
       "28361   0   1     50     60  \n",
       "\n",
       "[28362 rows x 27 columns]"
      ],
      "text/html": "<div>\n<style scoped>\n    .dataframe tbody tr th:only-of-type {\n        vertical-align: middle;\n    }\n\n    .dataframe tbody tr th {\n        vertical-align: top;\n    }\n\n    .dataframe thead th {\n        text-align: right;\n    }\n</style>\n<table border=\"1\" class=\"dataframe\">\n  <thead>\n    <tr style=\"text-align: right;\">\n      <th></th>\n      <th>recording_id</th>\n      <th>0</th>\n      <th>1</th>\n      <th>2</th>\n      <th>3</th>\n      <th>4</th>\n      <th>5</th>\n      <th>6</th>\n      <th>7</th>\n      <th>8</th>\n      <th>...</th>\n      <th>16</th>\n      <th>17</th>\n      <th>18</th>\n      <th>19</th>\n      <th>20</th>\n      <th>21</th>\n      <th>22</th>\n      <th>23</th>\n      <th>t_min</th>\n      <th>t_max</th>\n    </tr>\n  </thead>\n  <tbody>\n    <tr>\n      <td>0</td>\n      <td>003bec244</td>\n      <td>0</td>\n      <td>1</td>\n      <td>0</td>\n      <td>0</td>\n      <td>0</td>\n      <td>0</td>\n      <td>0</td>\n      <td>1</td>\n      <td>0</td>\n      <td>...</td>\n      <td>0</td>\n      <td>0</td>\n      <td>0</td>\n      <td>0</td>\n      <td>1</td>\n      <td>0</td>\n      <td>0</td>\n      <td>1</td>\n      <td>0</td>\n      <td>10</td>\n    </tr>\n    <tr>\n      <td>1</td>\n      <td>006ab765f</td>\n      <td>0</td>\n      <td>0</td>\n      <td>0</td>\n      <td>0</td>\n      <td>0</td>\n      <td>0</td>\n      <td>0</td>\n      <td>1</td>\n      <td>0</td>\n      <td>...</td>\n      <td>0</td>\n      <td>0</td>\n      <td>0</td>\n      <td>0</td>\n      <td>0</td>\n      <td>0</td>\n      <td>0</td>\n      <td>1</td>\n      <td>0</td>\n      <td>10</td>\n    </tr>\n    <tr>\n      <td>2</td>\n      <td>007f87ba2</td>\n      <td>0</td>\n      <td>0</td>\n      <td>0</td>\n      <td>1</td>\n      <td>1</td>\n      <td>0</td>\n      <td>0</td>\n      <td>0</td>\n      <td>0</td>\n      <td>...</td>\n      <td>0</td>\n      <td>0</td>\n      <td>1</td>\n      <td>0</td>\n      <td>0</td>\n      <td>1</td>\n      <td>0</td>\n      <td>0</td>\n      <td>0</td>\n      <td>10</td>\n    </tr>\n    <tr>\n      <td>3</td>\n      <td>0099c367b</td>\n      <td>0</td>\n      <td>0</td>\n      <td>0</td>\n      <td>1</td>\n      <td>0</td>\n      <td>0</td>\n      <td>1</td>\n      <td>0</td>\n      <td>0</td>\n      <td>...</td>\n      <td>0</td>\n      <td>1</td>\n      <td>0</td>\n      <td>0</td>\n      <td>0</td>\n      <td>0</td>\n      <td>0</td>\n      <td>1</td>\n      <td>0</td>\n      <td>10</td>\n    </tr>\n    <tr>\n      <td>4</td>\n      <td>009b760e6</td>\n      <td>0</td>\n      <td>0</td>\n      <td>0</td>\n      <td>0</td>\n      <td>0</td>\n      <td>0</td>\n      <td>0</td>\n      <td>0</td>\n      <td>0</td>\n      <td>...</td>\n      <td>0</td>\n      <td>0</td>\n      <td>0</td>\n      <td>0</td>\n      <td>0</td>\n      <td>0</td>\n      <td>0</td>\n      <td>0</td>\n      <td>0</td>\n      <td>10</td>\n    </tr>\n    <tr>\n      <td>...</td>\n      <td>...</td>\n      <td>...</td>\n      <td>...</td>\n      <td>...</td>\n      <td>...</td>\n      <td>...</td>\n      <td>...</td>\n      <td>...</td>\n      <td>...</td>\n      <td>...</td>\n      <td>...</td>\n      <td>...</td>\n      <td>...</td>\n      <td>...</td>\n      <td>...</td>\n      <td>...</td>\n      <td>...</td>\n      <td>...</td>\n      <td>...</td>\n      <td>...</td>\n      <td>...</td>\n    </tr>\n    <tr>\n      <td>28357</td>\n      <td>ffc6031f8</td>\n      <td>0</td>\n      <td>0</td>\n      <td>0</td>\n      <td>1</td>\n      <td>0</td>\n      <td>0</td>\n      <td>0</td>\n      <td>1</td>\n      <td>0</td>\n      <td>...</td>\n      <td>0</td>\n      <td>1</td>\n      <td>0</td>\n      <td>0</td>\n      <td>0</td>\n      <td>0</td>\n      <td>0</td>\n      <td>1</td>\n      <td>50</td>\n      <td>60</td>\n    </tr>\n    <tr>\n      <td>28358</td>\n      <td>ffd88cd84</td>\n      <td>1</td>\n      <td>1</td>\n      <td>0</td>\n      <td>1</td>\n      <td>0</td>\n      <td>0</td>\n      <td>0</td>\n      <td>0</td>\n      <td>0</td>\n      <td>...</td>\n      <td>0</td>\n      <td>0</td>\n      <td>1</td>\n      <td>0</td>\n      <td>0</td>\n      <td>0</td>\n      <td>0</td>\n      <td>0</td>\n      <td>50</td>\n      <td>60</td>\n    </tr>\n    <tr>\n      <td>28359</td>\n      <td>ffebe7313</td>\n      <td>0</td>\n      <td>0</td>\n      <td>0</td>\n      <td>0</td>\n      <td>1</td>\n      <td>0</td>\n      <td>0</td>\n      <td>0</td>\n      <td>1</td>\n      <td>...</td>\n      <td>0</td>\n      <td>0</td>\n      <td>0</td>\n      <td>0</td>\n      <td>0</td>\n      <td>1</td>\n      <td>0</td>\n      <td>0</td>\n      <td>50</td>\n      <td>60</td>\n    </tr>\n    <tr>\n      <td>28360</td>\n      <td>fff163132</td>\n      <td>0</td>\n      <td>1</td>\n      <td>0</td>\n      <td>1</td>\n      <td>0</td>\n      <td>0</td>\n      <td>0</td>\n      <td>0</td>\n      <td>0</td>\n      <td>...</td>\n      <td>0</td>\n      <td>0</td>\n      <td>0</td>\n      <td>0</td>\n      <td>0</td>\n      <td>0</td>\n      <td>0</td>\n      <td>0</td>\n      <td>50</td>\n      <td>60</td>\n    </tr>\n    <tr>\n      <td>28361</td>\n      <td>fffb79246</td>\n      <td>0</td>\n      <td>0</td>\n      <td>0</td>\n      <td>0</td>\n      <td>0</td>\n      <td>1</td>\n      <td>0</td>\n      <td>1</td>\n      <td>0</td>\n      <td>...</td>\n      <td>0</td>\n      <td>0</td>\n      <td>0</td>\n      <td>0</td>\n      <td>0</td>\n      <td>0</td>\n      <td>0</td>\n      <td>1</td>\n      <td>50</td>\n      <td>60</td>\n    </tr>\n  </tbody>\n</table>\n<p>28362 rows × 27 columns</p>\n</div>"
     },
     "metadata": {},
     "execution_count": 31
    }
   ],
   "source": [
    "pseudo_all_df.reset_index(drop=True)"
   ]
  },
  {
   "cell_type": "code",
   "execution_count": 32,
   "metadata": {},
   "outputs": [],
   "source": [
    "pseudo_all_df.to_csv(\"./input/rfcx-species-audio-detection/train_ps10.csv\", index=False)"
   ]
  },
  {
   "cell_type": "code",
   "execution_count": 33,
   "metadata": {},
   "outputs": [
    {
     "output_type": "execute_result",
     "data": {
      "text/plain": [
       "<matplotlib.axes._subplots.AxesSubplot at 0x7f7ef3424b10>"
      ]
     },
     "metadata": {},
     "execution_count": 33
    },
    {
     "output_type": "display_data",
     "data": {
      "text/plain": "<Figure size 432x288 with 1 Axes>",
      "image/svg+xml": "<?xml version=\"1.0\" encoding=\"utf-8\" standalone=\"no\"?>\n<!DOCTYPE svg PUBLIC \"-//W3C//DTD SVG 1.1//EN\"\n  \"http://www.w3.org/Graphics/SVG/1.1/DTD/svg11.dtd\">\n<!-- Created with matplotlib (https://matplotlib.org/) -->\n<svg height=\"251.235553pt\" version=\"1.1\" viewBox=\"0 0 381.65 251.235553\" width=\"381.65pt\" xmlns=\"http://www.w3.org/2000/svg\" xmlns:xlink=\"http://www.w3.org/1999/xlink\">\n <defs>\n  <style type=\"text/css\">\n*{stroke-linecap:butt;stroke-linejoin:round;}\n  </style>\n </defs>\n <g id=\"figure_1\">\n  <g id=\"patch_1\">\n   <path d=\"M -0 251.235553 \nL 381.65 251.235553 \nL 381.65 0 \nL -0 0 \nz\n\" style=\"fill:none;\"/>\n  </g>\n  <g id=\"axes_1\">\n   <g id=\"patch_2\">\n    <path d=\"M 39.65 227.357428 \nL 374.45 227.357428 \nL 374.45 9.917428 \nL 39.65 9.917428 \nz\n\" style=\"fill:#ffffff;\"/>\n   </g>\n   <g id=\"patch_3\">\n    <path clip-path=\"url(#pa6c1ea3ef6)\" d=\"M 41.045 227.357428 \nL 52.205 227.357428 \nL 52.205 184.827585 \nL 41.045 184.827585 \nz\n\" style=\"fill:#ea96a3;\"/>\n   </g>\n   <g id=\"patch_4\">\n    <path clip-path=\"url(#pa6c1ea3ef6)\" d=\"M 54.995 227.357428 \nL 66.155 227.357428 \nL 66.155 156.577385 \nL 54.995 156.577385 \nz\n\" style=\"fill:#e8968a;\"/>\n   </g>\n   <g id=\"patch_5\">\n    <path clip-path=\"url(#pa6c1ea3ef6)\" d=\"M 68.945 227.357428 \nL 80.105 227.357428 \nL 80.105 207.143389 \nL 68.945 207.143389 \nz\n\" style=\"fill:#e19153;\"/>\n   </g>\n   <g id=\"patch_6\">\n    <path clip-path=\"url(#pa6c1ea3ef6)\" d=\"M 82.895 227.357428 \nL 94.055 227.357428 \nL 94.055 20.271713 \nL 82.895 20.271713 \nz\n\" style=\"fill:#ca984c;\"/>\n   </g>\n   <g id=\"patch_7\">\n    <path clip-path=\"url(#pa6c1ea3ef6)\" d=\"M 96.845 227.357428 \nL 108.005 227.357428 \nL 108.005 196.263662 \nL 96.845 196.263662 \nz\n\" style=\"fill:#b89c49;\"/>\n   </g>\n   <g id=\"patch_8\">\n    <path clip-path=\"url(#pa6c1ea3ef6)\" d=\"M 110.795 227.357428 \nL 121.955 227.357428 \nL 121.955 178.151389 \nL 110.795 178.151389 \nz\n\" style=\"fill:#a89e47;\"/>\n   </g>\n   <g id=\"patch_9\">\n    <path clip-path=\"url(#pa6c1ea3ef6)\" d=\"M 124.745 227.357428 \nL 135.905 227.357428 \nL 135.905 212.892336 \nL 124.745 212.892336 \nz\n\" style=\"fill:#98a246;\"/>\n   </g>\n   <g id=\"patch_10\">\n    <path clip-path=\"url(#pa6c1ea3ef6)\" d=\"M 138.695 227.357428 \nL 149.855 227.357428 \nL 149.855 132.221632 \nL 138.695 132.221632 \nz\n\" style=\"fill:#84a846;\"/>\n   </g>\n   <g id=\"patch_11\">\n    <path clip-path=\"url(#pa6c1ea3ef6)\" d=\"M 152.645 227.357428 \nL 163.805 227.357428 \nL 163.805 202.198059 \nL 152.645 202.198059 \nz\n\" style=\"fill:#60ae47;\"/>\n   </g>\n   <g id=\"patch_12\">\n    <path clip-path=\"url(#pa6c1ea3ef6)\" d=\"M 166.595 227.357428 \nL 177.755 227.357428 \nL 177.755 193.54373 \nL 166.595 193.54373 \nz\n\" style=\"fill:#49af72;\"/>\n   </g>\n   <g id=\"patch_13\">\n    <path clip-path=\"url(#pa6c1ea3ef6)\" d=\"M 180.545 227.357428 \nL 191.705 227.357428 \nL 191.705 182.91127 \nL 180.545 182.91127 \nz\n\" style=\"fill:#4aae8a;\"/>\n   </g>\n   <g id=\"patch_14\">\n    <path clip-path=\"url(#pa6c1ea3ef6)\" d=\"M 194.495 227.357428 \nL 205.655 227.357428 \nL 205.655 179.016822 \nL 194.495 179.016822 \nz\n\" style=\"fill:#4aac99;\"/>\n   </g>\n   <g id=\"patch_15\">\n    <path clip-path=\"url(#pa6c1ea3ef6)\" d=\"M 208.445 227.357428 \nL 219.605 227.357428 \nL 219.605 154.722886 \nL 208.445 154.722886 \nz\n\" style=\"fill:#4baba4;\"/>\n   </g>\n   <g id=\"patch_16\">\n    <path clip-path=\"url(#pa6c1ea3ef6)\" d=\"M 222.395 227.357428 \nL 233.555 227.357428 \nL 233.555 216.415884 \nL 222.395 216.415884 \nz\n\" style=\"fill:#4cabaf;\"/>\n   </g>\n   <g id=\"patch_17\">\n    <path clip-path=\"url(#pa6c1ea3ef6)\" d=\"M 236.345 227.357428 \nL 247.505 227.357428 \nL 247.505 175.122374 \nL 236.345 175.122374 \nz\n\" style=\"fill:#4fabbc;\"/>\n   </g>\n   <g id=\"patch_18\">\n    <path clip-path=\"url(#pa6c1ea3ef6)\" d=\"M 250.295 227.357428 \nL 261.455 227.357428 \nL 261.455 201.085359 \nL 250.295 201.085359 \nz\n\" style=\"fill:#53accd;\"/>\n   </g>\n   <g id=\"patch_19\">\n    <path clip-path=\"url(#pa6c1ea3ef6)\" d=\"M 264.245 227.357428 \nL 275.405 227.357428 \nL 275.405 194.47098 \nL 264.245 194.47098 \nz\n\" style=\"fill:#6daee2;\"/>\n   </g>\n   <g id=\"patch_20\">\n    <path clip-path=\"url(#pa6c1ea3ef6)\" d=\"M 278.195 227.357428 \nL 289.355 227.357428 \nL 289.355 197.685445 \nL 278.195 197.685445 \nz\n\" style=\"fill:#9bade9;\"/>\n   </g>\n   <g id=\"patch_21\">\n    <path clip-path=\"url(#pa6c1ea3ef6)\" d=\"M 292.145 227.357428 \nL 303.305 227.357428 \nL 303.305 163.439031 \nL 292.145 163.439031 \nz\n\" style=\"fill:#b6a8eb;\"/>\n   </g>\n   <g id=\"patch_22\">\n    <path clip-path=\"url(#pa6c1ea3ef6)\" d=\"M 306.095 227.357428 \nL 317.255 227.357428 \nL 317.255 225.070212 \nL 306.095 225.070212 \nz\n\" style=\"fill:#ca9ee9;\"/>\n   </g>\n   <g id=\"patch_23\">\n    <path clip-path=\"url(#pa6c1ea3ef6)\" d=\"M 320.045 227.357428 \nL 331.205 227.357428 \nL 331.205 188.351133 \nL 320.045 188.351133 \nz\n\" style=\"fill:#df8fe7;\"/>\n   </g>\n   <g id=\"patch_24\">\n    <path clip-path=\"url(#pa6c1ea3ef6)\" d=\"M 333.995 227.357428 \nL 345.155 227.357428 \nL 345.155 187.114801 \nL 333.995 187.114801 \nz\n\" style=\"fill:#e78cd7;\"/>\n   </g>\n   <g id=\"patch_25\">\n    <path clip-path=\"url(#pa6c1ea3ef6)\" d=\"M 347.945 227.357428 \nL 359.105 227.357428 \nL 359.105 215.550451 \nL 347.945 215.550451 \nz\n\" style=\"fill:#e890c6;\"/>\n   </g>\n   <g id=\"patch_26\">\n    <path clip-path=\"url(#pa6c1ea3ef6)\" d=\"M 361.895 227.357428 \nL 373.055 227.357428 \nL 373.055 126.843585 \nL 361.895 126.843585 \nz\n\" style=\"fill:#e993b6;\"/>\n   </g>\n   <g id=\"matplotlib.axis_1\">\n    <g id=\"xtick_1\">\n     <g id=\"line2d_1\">\n      <defs>\n       <path d=\"M 0 0 \nL 0 3.5 \n\" id=\"m8e13a0a5a6\" style=\"stroke:#000000;stroke-width:0.8;\"/>\n      </defs>\n      <g>\n       <use style=\"stroke:#000000;stroke-width:0.8;\" x=\"46.625\" xlink:href=\"#m8e13a0a5a6\" y=\"227.357428\"/>\n      </g>\n     </g>\n     <g id=\"text_1\">\n      <!-- 0 -->\n      <defs>\n       <path d=\"M 31.78125 66.40625 \nQ 24.171875 66.40625 20.328125 58.90625 \nQ 16.5 51.421875 16.5 36.375 \nQ 16.5 21.390625 20.328125 13.890625 \nQ 24.171875 6.390625 31.78125 6.390625 \nQ 39.453125 6.390625 43.28125 13.890625 \nQ 47.125 21.390625 47.125 36.375 \nQ 47.125 51.421875 43.28125 58.90625 \nQ 39.453125 66.40625 31.78125 66.40625 \nz\nM 31.78125 74.21875 \nQ 44.046875 74.21875 50.515625 64.515625 \nQ 56.984375 54.828125 56.984375 36.375 \nQ 56.984375 17.96875 50.515625 8.265625 \nQ 44.046875 -1.421875 31.78125 -1.421875 \nQ 19.53125 -1.421875 13.0625 8.265625 \nQ 6.59375 17.96875 6.59375 36.375 \nQ 6.59375 54.828125 13.0625 64.515625 \nQ 19.53125 74.21875 31.78125 74.21875 \nz\n\" id=\"DejaVuSans-48\"/>\n      </defs>\n      <g transform=\"translate(43.44375 241.955865)scale(0.1 -0.1)\">\n       <use xlink:href=\"#DejaVuSans-48\"/>\n      </g>\n     </g>\n    </g>\n    <g id=\"xtick_2\">\n     <g id=\"line2d_2\">\n      <g>\n       <use style=\"stroke:#000000;stroke-width:0.8;\" x=\"60.575\" xlink:href=\"#m8e13a0a5a6\" y=\"227.357428\"/>\n      </g>\n     </g>\n     <g id=\"text_2\">\n      <!-- 1 -->\n      <defs>\n       <path d=\"M 12.40625 8.296875 \nL 28.515625 8.296875 \nL 28.515625 63.921875 \nL 10.984375 60.40625 \nL 10.984375 69.390625 \nL 28.421875 72.90625 \nL 38.28125 72.90625 \nL 38.28125 8.296875 \nL 54.390625 8.296875 \nL 54.390625 0 \nL 12.40625 0 \nz\n\" id=\"DejaVuSans-49\"/>\n      </defs>\n      <g transform=\"translate(57.39375 241.955865)scale(0.1 -0.1)\">\n       <use xlink:href=\"#DejaVuSans-49\"/>\n      </g>\n     </g>\n    </g>\n    <g id=\"xtick_3\">\n     <g id=\"line2d_3\">\n      <g>\n       <use style=\"stroke:#000000;stroke-width:0.8;\" x=\"74.525\" xlink:href=\"#m8e13a0a5a6\" y=\"227.357428\"/>\n      </g>\n     </g>\n     <g id=\"text_3\">\n      <!-- 2 -->\n      <defs>\n       <path d=\"M 19.1875 8.296875 \nL 53.609375 8.296875 \nL 53.609375 0 \nL 7.328125 0 \nL 7.328125 8.296875 \nQ 12.9375 14.109375 22.625 23.890625 \nQ 32.328125 33.6875 34.8125 36.53125 \nQ 39.546875 41.84375 41.421875 45.53125 \nQ 43.3125 49.21875 43.3125 52.78125 \nQ 43.3125 58.59375 39.234375 62.25 \nQ 35.15625 65.921875 28.609375 65.921875 \nQ 23.96875 65.921875 18.8125 64.3125 \nQ 13.671875 62.703125 7.8125 59.421875 \nL 7.8125 69.390625 \nQ 13.765625 71.78125 18.9375 73 \nQ 24.125 74.21875 28.421875 74.21875 \nQ 39.75 74.21875 46.484375 68.546875 \nQ 53.21875 62.890625 53.21875 53.421875 \nQ 53.21875 48.921875 51.53125 44.890625 \nQ 49.859375 40.875 45.40625 35.40625 \nQ 44.1875 33.984375 37.640625 27.21875 \nQ 31.109375 20.453125 19.1875 8.296875 \nz\n\" id=\"DejaVuSans-50\"/>\n      </defs>\n      <g transform=\"translate(71.34375 241.955865)scale(0.1 -0.1)\">\n       <use xlink:href=\"#DejaVuSans-50\"/>\n      </g>\n     </g>\n    </g>\n    <g id=\"xtick_4\">\n     <g id=\"line2d_4\">\n      <g>\n       <use style=\"stroke:#000000;stroke-width:0.8;\" x=\"88.475\" xlink:href=\"#m8e13a0a5a6\" y=\"227.357428\"/>\n      </g>\n     </g>\n     <g id=\"text_4\">\n      <!-- 3 -->\n      <defs>\n       <path d=\"M 40.578125 39.3125 \nQ 47.65625 37.796875 51.625 33 \nQ 55.609375 28.21875 55.609375 21.1875 \nQ 55.609375 10.40625 48.1875 4.484375 \nQ 40.765625 -1.421875 27.09375 -1.421875 \nQ 22.515625 -1.421875 17.65625 -0.515625 \nQ 12.796875 0.390625 7.625 2.203125 \nL 7.625 11.71875 \nQ 11.71875 9.328125 16.59375 8.109375 \nQ 21.484375 6.890625 26.8125 6.890625 \nQ 36.078125 6.890625 40.9375 10.546875 \nQ 45.796875 14.203125 45.796875 21.1875 \nQ 45.796875 27.640625 41.28125 31.265625 \nQ 36.765625 34.90625 28.71875 34.90625 \nL 20.21875 34.90625 \nL 20.21875 43.015625 \nL 29.109375 43.015625 \nQ 36.375 43.015625 40.234375 45.921875 \nQ 44.09375 48.828125 44.09375 54.296875 \nQ 44.09375 59.90625 40.109375 62.90625 \nQ 36.140625 65.921875 28.71875 65.921875 \nQ 24.65625 65.921875 20.015625 65.03125 \nQ 15.375 64.15625 9.8125 62.3125 \nL 9.8125 71.09375 \nQ 15.4375 72.65625 20.34375 73.4375 \nQ 25.25 74.21875 29.59375 74.21875 \nQ 40.828125 74.21875 47.359375 69.109375 \nQ 53.90625 64.015625 53.90625 55.328125 \nQ 53.90625 49.265625 50.4375 45.09375 \nQ 46.96875 40.921875 40.578125 39.3125 \nz\n\" id=\"DejaVuSans-51\"/>\n      </defs>\n      <g transform=\"translate(85.29375 241.955865)scale(0.1 -0.1)\">\n       <use xlink:href=\"#DejaVuSans-51\"/>\n      </g>\n     </g>\n    </g>\n    <g id=\"xtick_5\">\n     <g id=\"line2d_5\">\n      <g>\n       <use style=\"stroke:#000000;stroke-width:0.8;\" x=\"102.425\" xlink:href=\"#m8e13a0a5a6\" y=\"227.357428\"/>\n      </g>\n     </g>\n     <g id=\"text_5\">\n      <!-- 4 -->\n      <defs>\n       <path d=\"M 37.796875 64.3125 \nL 12.890625 25.390625 \nL 37.796875 25.390625 \nz\nM 35.203125 72.90625 \nL 47.609375 72.90625 \nL 47.609375 25.390625 \nL 58.015625 25.390625 \nL 58.015625 17.1875 \nL 47.609375 17.1875 \nL 47.609375 0 \nL 37.796875 0 \nL 37.796875 17.1875 \nL 4.890625 17.1875 \nL 4.890625 26.703125 \nz\n\" id=\"DejaVuSans-52\"/>\n      </defs>\n      <g transform=\"translate(99.24375 241.955865)scale(0.1 -0.1)\">\n       <use xlink:href=\"#DejaVuSans-52\"/>\n      </g>\n     </g>\n    </g>\n    <g id=\"xtick_6\">\n     <g id=\"line2d_6\">\n      <g>\n       <use style=\"stroke:#000000;stroke-width:0.8;\" x=\"116.375\" xlink:href=\"#m8e13a0a5a6\" y=\"227.357428\"/>\n      </g>\n     </g>\n     <g id=\"text_6\">\n      <!-- 5 -->\n      <defs>\n       <path d=\"M 10.796875 72.90625 \nL 49.515625 72.90625 \nL 49.515625 64.59375 \nL 19.828125 64.59375 \nL 19.828125 46.734375 \nQ 21.96875 47.46875 24.109375 47.828125 \nQ 26.265625 48.1875 28.421875 48.1875 \nQ 40.625 48.1875 47.75 41.5 \nQ 54.890625 34.8125 54.890625 23.390625 \nQ 54.890625 11.625 47.5625 5.09375 \nQ 40.234375 -1.421875 26.90625 -1.421875 \nQ 22.3125 -1.421875 17.546875 -0.640625 \nQ 12.796875 0.140625 7.71875 1.703125 \nL 7.71875 11.625 \nQ 12.109375 9.234375 16.796875 8.0625 \nQ 21.484375 6.890625 26.703125 6.890625 \nQ 35.15625 6.890625 40.078125 11.328125 \nQ 45.015625 15.765625 45.015625 23.390625 \nQ 45.015625 31 40.078125 35.4375 \nQ 35.15625 39.890625 26.703125 39.890625 \nQ 22.75 39.890625 18.8125 39.015625 \nQ 14.890625 38.140625 10.796875 36.28125 \nz\n\" id=\"DejaVuSans-53\"/>\n      </defs>\n      <g transform=\"translate(113.19375 241.955865)scale(0.1 -0.1)\">\n       <use xlink:href=\"#DejaVuSans-53\"/>\n      </g>\n     </g>\n    </g>\n    <g id=\"xtick_7\">\n     <g id=\"line2d_7\">\n      <g>\n       <use style=\"stroke:#000000;stroke-width:0.8;\" x=\"130.325\" xlink:href=\"#m8e13a0a5a6\" y=\"227.357428\"/>\n      </g>\n     </g>\n     <g id=\"text_7\">\n      <!-- 6 -->\n      <defs>\n       <path d=\"M 33.015625 40.375 \nQ 26.375 40.375 22.484375 35.828125 \nQ 18.609375 31.296875 18.609375 23.390625 \nQ 18.609375 15.53125 22.484375 10.953125 \nQ 26.375 6.390625 33.015625 6.390625 \nQ 39.65625 6.390625 43.53125 10.953125 \nQ 47.40625 15.53125 47.40625 23.390625 \nQ 47.40625 31.296875 43.53125 35.828125 \nQ 39.65625 40.375 33.015625 40.375 \nz\nM 52.59375 71.296875 \nL 52.59375 62.3125 \nQ 48.875 64.0625 45.09375 64.984375 \nQ 41.3125 65.921875 37.59375 65.921875 \nQ 27.828125 65.921875 22.671875 59.328125 \nQ 17.53125 52.734375 16.796875 39.40625 \nQ 19.671875 43.65625 24.015625 45.921875 \nQ 28.375 48.1875 33.59375 48.1875 \nQ 44.578125 48.1875 50.953125 41.515625 \nQ 57.328125 34.859375 57.328125 23.390625 \nQ 57.328125 12.15625 50.6875 5.359375 \nQ 44.046875 -1.421875 33.015625 -1.421875 \nQ 20.359375 -1.421875 13.671875 8.265625 \nQ 6.984375 17.96875 6.984375 36.375 \nQ 6.984375 53.65625 15.1875 63.9375 \nQ 23.390625 74.21875 37.203125 74.21875 \nQ 40.921875 74.21875 44.703125 73.484375 \nQ 48.484375 72.75 52.59375 71.296875 \nz\n\" id=\"DejaVuSans-54\"/>\n      </defs>\n      <g transform=\"translate(127.14375 241.955865)scale(0.1 -0.1)\">\n       <use xlink:href=\"#DejaVuSans-54\"/>\n      </g>\n     </g>\n    </g>\n    <g id=\"xtick_8\">\n     <g id=\"line2d_8\">\n      <g>\n       <use style=\"stroke:#000000;stroke-width:0.8;\" x=\"144.275\" xlink:href=\"#m8e13a0a5a6\" y=\"227.357428\"/>\n      </g>\n     </g>\n     <g id=\"text_8\">\n      <!-- 7 -->\n      <defs>\n       <path d=\"M 8.203125 72.90625 \nL 55.078125 72.90625 \nL 55.078125 68.703125 \nL 28.609375 0 \nL 18.3125 0 \nL 43.21875 64.59375 \nL 8.203125 64.59375 \nz\n\" id=\"DejaVuSans-55\"/>\n      </defs>\n      <g transform=\"translate(141.09375 241.955865)scale(0.1 -0.1)\">\n       <use xlink:href=\"#DejaVuSans-55\"/>\n      </g>\n     </g>\n    </g>\n    <g id=\"xtick_9\">\n     <g id=\"line2d_9\">\n      <g>\n       <use style=\"stroke:#000000;stroke-width:0.8;\" x=\"158.225\" xlink:href=\"#m8e13a0a5a6\" y=\"227.357428\"/>\n      </g>\n     </g>\n     <g id=\"text_9\">\n      <!-- 8 -->\n      <defs>\n       <path d=\"M 31.78125 34.625 \nQ 24.75 34.625 20.71875 30.859375 \nQ 16.703125 27.09375 16.703125 20.515625 \nQ 16.703125 13.921875 20.71875 10.15625 \nQ 24.75 6.390625 31.78125 6.390625 \nQ 38.8125 6.390625 42.859375 10.171875 \nQ 46.921875 13.96875 46.921875 20.515625 \nQ 46.921875 27.09375 42.890625 30.859375 \nQ 38.875 34.625 31.78125 34.625 \nz\nM 21.921875 38.8125 \nQ 15.578125 40.375 12.03125 44.71875 \nQ 8.5 49.078125 8.5 55.328125 \nQ 8.5 64.0625 14.71875 69.140625 \nQ 20.953125 74.21875 31.78125 74.21875 \nQ 42.671875 74.21875 48.875 69.140625 \nQ 55.078125 64.0625 55.078125 55.328125 \nQ 55.078125 49.078125 51.53125 44.71875 \nQ 48 40.375 41.703125 38.8125 \nQ 48.828125 37.15625 52.796875 32.3125 \nQ 56.78125 27.484375 56.78125 20.515625 \nQ 56.78125 9.90625 50.3125 4.234375 \nQ 43.84375 -1.421875 31.78125 -1.421875 \nQ 19.734375 -1.421875 13.25 4.234375 \nQ 6.78125 9.90625 6.78125 20.515625 \nQ 6.78125 27.484375 10.78125 32.3125 \nQ 14.796875 37.15625 21.921875 38.8125 \nz\nM 18.3125 54.390625 \nQ 18.3125 48.734375 21.84375 45.5625 \nQ 25.390625 42.390625 31.78125 42.390625 \nQ 38.140625 42.390625 41.71875 45.5625 \nQ 45.3125 48.734375 45.3125 54.390625 \nQ 45.3125 60.0625 41.71875 63.234375 \nQ 38.140625 66.40625 31.78125 66.40625 \nQ 25.390625 66.40625 21.84375 63.234375 \nQ 18.3125 60.0625 18.3125 54.390625 \nz\n\" id=\"DejaVuSans-56\"/>\n      </defs>\n      <g transform=\"translate(155.04375 241.955865)scale(0.1 -0.1)\">\n       <use xlink:href=\"#DejaVuSans-56\"/>\n      </g>\n     </g>\n    </g>\n    <g id=\"xtick_10\">\n     <g id=\"line2d_10\">\n      <g>\n       <use style=\"stroke:#000000;stroke-width:0.8;\" x=\"172.175\" xlink:href=\"#m8e13a0a5a6\" y=\"227.357428\"/>\n      </g>\n     </g>\n     <g id=\"text_10\">\n      <!-- 9 -->\n      <defs>\n       <path d=\"M 10.984375 1.515625 \nL 10.984375 10.5 \nQ 14.703125 8.734375 18.5 7.8125 \nQ 22.3125 6.890625 25.984375 6.890625 \nQ 35.75 6.890625 40.890625 13.453125 \nQ 46.046875 20.015625 46.78125 33.40625 \nQ 43.953125 29.203125 39.59375 26.953125 \nQ 35.25 24.703125 29.984375 24.703125 \nQ 19.046875 24.703125 12.671875 31.3125 \nQ 6.296875 37.9375 6.296875 49.421875 \nQ 6.296875 60.640625 12.9375 67.421875 \nQ 19.578125 74.21875 30.609375 74.21875 \nQ 43.265625 74.21875 49.921875 64.515625 \nQ 56.59375 54.828125 56.59375 36.375 \nQ 56.59375 19.140625 48.40625 8.859375 \nQ 40.234375 -1.421875 26.421875 -1.421875 \nQ 22.703125 -1.421875 18.890625 -0.6875 \nQ 15.09375 0.046875 10.984375 1.515625 \nz\nM 30.609375 32.421875 \nQ 37.25 32.421875 41.125 36.953125 \nQ 45.015625 41.5 45.015625 49.421875 \nQ 45.015625 57.28125 41.125 61.84375 \nQ 37.25 66.40625 30.609375 66.40625 \nQ 23.96875 66.40625 20.09375 61.84375 \nQ 16.21875 57.28125 16.21875 49.421875 \nQ 16.21875 41.5 20.09375 36.953125 \nQ 23.96875 32.421875 30.609375 32.421875 \nz\n\" id=\"DejaVuSans-57\"/>\n      </defs>\n      <g transform=\"translate(168.99375 241.955865)scale(0.1 -0.1)\">\n       <use xlink:href=\"#DejaVuSans-57\"/>\n      </g>\n     </g>\n    </g>\n    <g id=\"xtick_11\">\n     <g id=\"line2d_11\">\n      <g>\n       <use style=\"stroke:#000000;stroke-width:0.8;\" x=\"186.125\" xlink:href=\"#m8e13a0a5a6\" y=\"227.357428\"/>\n      </g>\n     </g>\n     <g id=\"text_11\">\n      <!-- 10 -->\n      <g transform=\"translate(179.7625 241.955865)scale(0.1 -0.1)\">\n       <use xlink:href=\"#DejaVuSans-49\"/>\n       <use x=\"63.623047\" xlink:href=\"#DejaVuSans-48\"/>\n      </g>\n     </g>\n    </g>\n    <g id=\"xtick_12\">\n     <g id=\"line2d_12\">\n      <g>\n       <use style=\"stroke:#000000;stroke-width:0.8;\" x=\"200.075\" xlink:href=\"#m8e13a0a5a6\" y=\"227.357428\"/>\n      </g>\n     </g>\n     <g id=\"text_12\">\n      <!-- 11 -->\n      <g transform=\"translate(193.7125 241.955865)scale(0.1 -0.1)\">\n       <use xlink:href=\"#DejaVuSans-49\"/>\n       <use x=\"63.623047\" xlink:href=\"#DejaVuSans-49\"/>\n      </g>\n     </g>\n    </g>\n    <g id=\"xtick_13\">\n     <g id=\"line2d_13\">\n      <g>\n       <use style=\"stroke:#000000;stroke-width:0.8;\" x=\"214.025\" xlink:href=\"#m8e13a0a5a6\" y=\"227.357428\"/>\n      </g>\n     </g>\n     <g id=\"text_13\">\n      <!-- 12 -->\n      <g transform=\"translate(207.6625 241.955865)scale(0.1 -0.1)\">\n       <use xlink:href=\"#DejaVuSans-49\"/>\n       <use x=\"63.623047\" xlink:href=\"#DejaVuSans-50\"/>\n      </g>\n     </g>\n    </g>\n    <g id=\"xtick_14\">\n     <g id=\"line2d_14\">\n      <g>\n       <use style=\"stroke:#000000;stroke-width:0.8;\" x=\"227.975\" xlink:href=\"#m8e13a0a5a6\" y=\"227.357428\"/>\n      </g>\n     </g>\n     <g id=\"text_14\">\n      <!-- 13 -->\n      <g transform=\"translate(221.6125 241.955865)scale(0.1 -0.1)\">\n       <use xlink:href=\"#DejaVuSans-49\"/>\n       <use x=\"63.623047\" xlink:href=\"#DejaVuSans-51\"/>\n      </g>\n     </g>\n    </g>\n    <g id=\"xtick_15\">\n     <g id=\"line2d_15\">\n      <g>\n       <use style=\"stroke:#000000;stroke-width:0.8;\" x=\"241.925\" xlink:href=\"#m8e13a0a5a6\" y=\"227.357428\"/>\n      </g>\n     </g>\n     <g id=\"text_15\">\n      <!-- 14 -->\n      <g transform=\"translate(235.5625 241.955865)scale(0.1 -0.1)\">\n       <use xlink:href=\"#DejaVuSans-49\"/>\n       <use x=\"63.623047\" xlink:href=\"#DejaVuSans-52\"/>\n      </g>\n     </g>\n    </g>\n    <g id=\"xtick_16\">\n     <g id=\"line2d_16\">\n      <g>\n       <use style=\"stroke:#000000;stroke-width:0.8;\" x=\"255.875\" xlink:href=\"#m8e13a0a5a6\" y=\"227.357428\"/>\n      </g>\n     </g>\n     <g id=\"text_16\">\n      <!-- 15 -->\n      <g transform=\"translate(249.5125 241.955865)scale(0.1 -0.1)\">\n       <use xlink:href=\"#DejaVuSans-49\"/>\n       <use x=\"63.623047\" xlink:href=\"#DejaVuSans-53\"/>\n      </g>\n     </g>\n    </g>\n    <g id=\"xtick_17\">\n     <g id=\"line2d_17\">\n      <g>\n       <use style=\"stroke:#000000;stroke-width:0.8;\" x=\"269.825\" xlink:href=\"#m8e13a0a5a6\" y=\"227.357428\"/>\n      </g>\n     </g>\n     <g id=\"text_17\">\n      <!-- 16 -->\n      <g transform=\"translate(263.4625 241.955865)scale(0.1 -0.1)\">\n       <use xlink:href=\"#DejaVuSans-49\"/>\n       <use x=\"63.623047\" xlink:href=\"#DejaVuSans-54\"/>\n      </g>\n     </g>\n    </g>\n    <g id=\"xtick_18\">\n     <g id=\"line2d_18\">\n      <g>\n       <use style=\"stroke:#000000;stroke-width:0.8;\" x=\"283.775\" xlink:href=\"#m8e13a0a5a6\" y=\"227.357428\"/>\n      </g>\n     </g>\n     <g id=\"text_18\">\n      <!-- 17 -->\n      <g transform=\"translate(277.4125 241.955865)scale(0.1 -0.1)\">\n       <use xlink:href=\"#DejaVuSans-49\"/>\n       <use x=\"63.623047\" xlink:href=\"#DejaVuSans-55\"/>\n      </g>\n     </g>\n    </g>\n    <g id=\"xtick_19\">\n     <g id=\"line2d_19\">\n      <g>\n       <use style=\"stroke:#000000;stroke-width:0.8;\" x=\"297.725\" xlink:href=\"#m8e13a0a5a6\" y=\"227.357428\"/>\n      </g>\n     </g>\n     <g id=\"text_19\">\n      <!-- 18 -->\n      <g transform=\"translate(291.3625 241.955865)scale(0.1 -0.1)\">\n       <use xlink:href=\"#DejaVuSans-49\"/>\n       <use x=\"63.623047\" xlink:href=\"#DejaVuSans-56\"/>\n      </g>\n     </g>\n    </g>\n    <g id=\"xtick_20\">\n     <g id=\"line2d_20\">\n      <g>\n       <use style=\"stroke:#000000;stroke-width:0.8;\" x=\"311.675\" xlink:href=\"#m8e13a0a5a6\" y=\"227.357428\"/>\n      </g>\n     </g>\n     <g id=\"text_20\">\n      <!-- 19 -->\n      <g transform=\"translate(305.3125 241.955865)scale(0.1 -0.1)\">\n       <use xlink:href=\"#DejaVuSans-49\"/>\n       <use x=\"63.623047\" xlink:href=\"#DejaVuSans-57\"/>\n      </g>\n     </g>\n    </g>\n    <g id=\"xtick_21\">\n     <g id=\"line2d_21\">\n      <g>\n       <use style=\"stroke:#000000;stroke-width:0.8;\" x=\"325.625\" xlink:href=\"#m8e13a0a5a6\" y=\"227.357428\"/>\n      </g>\n     </g>\n     <g id=\"text_21\">\n      <!-- 20 -->\n      <g transform=\"translate(319.2625 241.955865)scale(0.1 -0.1)\">\n       <use xlink:href=\"#DejaVuSans-50\"/>\n       <use x=\"63.623047\" xlink:href=\"#DejaVuSans-48\"/>\n      </g>\n     </g>\n    </g>\n    <g id=\"xtick_22\">\n     <g id=\"line2d_22\">\n      <g>\n       <use style=\"stroke:#000000;stroke-width:0.8;\" x=\"339.575\" xlink:href=\"#m8e13a0a5a6\" y=\"227.357428\"/>\n      </g>\n     </g>\n     <g id=\"text_22\">\n      <!-- 21 -->\n      <g transform=\"translate(333.2125 241.955865)scale(0.1 -0.1)\">\n       <use xlink:href=\"#DejaVuSans-50\"/>\n       <use x=\"63.623047\" xlink:href=\"#DejaVuSans-49\"/>\n      </g>\n     </g>\n    </g>\n    <g id=\"xtick_23\">\n     <g id=\"line2d_23\">\n      <g>\n       <use style=\"stroke:#000000;stroke-width:0.8;\" x=\"353.525\" xlink:href=\"#m8e13a0a5a6\" y=\"227.357428\"/>\n      </g>\n     </g>\n     <g id=\"text_23\">\n      <!-- 22 -->\n      <g transform=\"translate(347.1625 241.955865)scale(0.1 -0.1)\">\n       <use xlink:href=\"#DejaVuSans-50\"/>\n       <use x=\"63.623047\" xlink:href=\"#DejaVuSans-50\"/>\n      </g>\n     </g>\n    </g>\n    <g id=\"xtick_24\">\n     <g id=\"line2d_24\">\n      <g>\n       <use style=\"stroke:#000000;stroke-width:0.8;\" x=\"367.475\" xlink:href=\"#m8e13a0a5a6\" y=\"227.357428\"/>\n      </g>\n     </g>\n     <g id=\"text_24\">\n      <!-- 23 -->\n      <g transform=\"translate(361.1125 241.955865)scale(0.1 -0.1)\">\n       <use xlink:href=\"#DejaVuSans-50\"/>\n       <use x=\"63.623047\" xlink:href=\"#DejaVuSans-51\"/>\n      </g>\n     </g>\n    </g>\n   </g>\n   <g id=\"matplotlib.axis_2\">\n    <g id=\"ytick_1\">\n     <g id=\"line2d_25\">\n      <defs>\n       <path d=\"M 0 0 \nL -3.5 0 \n\" id=\"mf1729a0095\" style=\"stroke:#000000;stroke-width:0.8;\"/>\n      </defs>\n      <g>\n       <use style=\"stroke:#000000;stroke-width:0.8;\" x=\"39.65\" xlink:href=\"#mf1729a0095\" y=\"227.357428\"/>\n      </g>\n     </g>\n     <g id=\"text_25\">\n      <!-- 0 -->\n      <g transform=\"translate(26.2875 231.156646)scale(0.1 -0.1)\">\n       <use xlink:href=\"#DejaVuSans-48\"/>\n      </g>\n     </g>\n    </g>\n    <g id=\"ytick_2\">\n     <g id=\"line2d_26\">\n      <g>\n       <use style=\"stroke:#000000;stroke-width:0.8;\" x=\"39.65\" xlink:href=\"#mf1729a0095\" y=\"196.449112\"/>\n      </g>\n     </g>\n     <g id=\"text_26\">\n      <!-- 500 -->\n      <g transform=\"translate(13.5625 200.248331)scale(0.1 -0.1)\">\n       <use xlink:href=\"#DejaVuSans-53\"/>\n       <use x=\"63.623047\" xlink:href=\"#DejaVuSans-48\"/>\n       <use x=\"127.246094\" xlink:href=\"#DejaVuSans-48\"/>\n      </g>\n     </g>\n    </g>\n    <g id=\"ytick_3\">\n     <g id=\"line2d_27\">\n      <g>\n       <use style=\"stroke:#000000;stroke-width:0.8;\" x=\"39.65\" xlink:href=\"#mf1729a0095\" y=\"165.540797\"/>\n      </g>\n     </g>\n     <g id=\"text_27\">\n      <!-- 1000 -->\n      <g transform=\"translate(7.2 169.340015)scale(0.1 -0.1)\">\n       <use xlink:href=\"#DejaVuSans-49\"/>\n       <use x=\"63.623047\" xlink:href=\"#DejaVuSans-48\"/>\n       <use x=\"127.246094\" xlink:href=\"#DejaVuSans-48\"/>\n       <use x=\"190.869141\" xlink:href=\"#DejaVuSans-48\"/>\n      </g>\n     </g>\n    </g>\n    <g id=\"ytick_4\">\n     <g id=\"line2d_28\">\n      <g>\n       <use style=\"stroke:#000000;stroke-width:0.8;\" x=\"39.65\" xlink:href=\"#mf1729a0095\" y=\"134.632481\"/>\n      </g>\n     </g>\n     <g id=\"text_28\">\n      <!-- 1500 -->\n      <g transform=\"translate(7.2 138.4317)scale(0.1 -0.1)\">\n       <use xlink:href=\"#DejaVuSans-49\"/>\n       <use x=\"63.623047\" xlink:href=\"#DejaVuSans-53\"/>\n       <use x=\"127.246094\" xlink:href=\"#DejaVuSans-48\"/>\n       <use x=\"190.869141\" xlink:href=\"#DejaVuSans-48\"/>\n      </g>\n     </g>\n    </g>\n    <g id=\"ytick_5\">\n     <g id=\"line2d_29\">\n      <g>\n       <use style=\"stroke:#000000;stroke-width:0.8;\" x=\"39.65\" xlink:href=\"#mf1729a0095\" y=\"103.724165\"/>\n      </g>\n     </g>\n     <g id=\"text_29\">\n      <!-- 2000 -->\n      <g transform=\"translate(7.2 107.523384)scale(0.1 -0.1)\">\n       <use xlink:href=\"#DejaVuSans-50\"/>\n       <use x=\"63.623047\" xlink:href=\"#DejaVuSans-48\"/>\n       <use x=\"127.246094\" xlink:href=\"#DejaVuSans-48\"/>\n       <use x=\"190.869141\" xlink:href=\"#DejaVuSans-48\"/>\n      </g>\n     </g>\n    </g>\n    <g id=\"ytick_6\">\n     <g id=\"line2d_30\">\n      <g>\n       <use style=\"stroke:#000000;stroke-width:0.8;\" x=\"39.65\" xlink:href=\"#mf1729a0095\" y=\"72.81585\"/>\n      </g>\n     </g>\n     <g id=\"text_30\">\n      <!-- 2500 -->\n      <g transform=\"translate(7.2 76.615069)scale(0.1 -0.1)\">\n       <use xlink:href=\"#DejaVuSans-50\"/>\n       <use x=\"63.623047\" xlink:href=\"#DejaVuSans-53\"/>\n       <use x=\"127.246094\" xlink:href=\"#DejaVuSans-48\"/>\n       <use x=\"190.869141\" xlink:href=\"#DejaVuSans-48\"/>\n      </g>\n     </g>\n    </g>\n    <g id=\"ytick_7\">\n     <g id=\"line2d_31\">\n      <g>\n       <use style=\"stroke:#000000;stroke-width:0.8;\" x=\"39.65\" xlink:href=\"#mf1729a0095\" y=\"41.907534\"/>\n      </g>\n     </g>\n     <g id=\"text_31\">\n      <!-- 3000 -->\n      <g transform=\"translate(7.2 45.706753)scale(0.1 -0.1)\">\n       <use xlink:href=\"#DejaVuSans-51\"/>\n       <use x=\"63.623047\" xlink:href=\"#DejaVuSans-48\"/>\n       <use x=\"127.246094\" xlink:href=\"#DejaVuSans-48\"/>\n       <use x=\"190.869141\" xlink:href=\"#DejaVuSans-48\"/>\n      </g>\n     </g>\n    </g>\n    <g id=\"ytick_8\">\n     <g id=\"line2d_32\">\n      <g>\n       <use style=\"stroke:#000000;stroke-width:0.8;\" x=\"39.65\" xlink:href=\"#mf1729a0095\" y=\"10.999219\"/>\n      </g>\n     </g>\n     <g id=\"text_32\">\n      <!-- 3500 -->\n      <g transform=\"translate(7.2 14.798437)scale(0.1 -0.1)\">\n       <use xlink:href=\"#DejaVuSans-51\"/>\n       <use x=\"63.623047\" xlink:href=\"#DejaVuSans-53\"/>\n       <use x=\"127.246094\" xlink:href=\"#DejaVuSans-48\"/>\n       <use x=\"190.869141\" xlink:href=\"#DejaVuSans-48\"/>\n      </g>\n     </g>\n    </g>\n   </g>\n   <g id=\"line2d_33\">\n    <path clip-path=\"url(#pa6c1ea3ef6)\" d=\"M 0 0 \n\" style=\"fill:none;stroke:#424242;stroke-linecap:square;stroke-width:2.7;\"/>\n   </g>\n   <g id=\"line2d_34\">\n    <path clip-path=\"url(#pa6c1ea3ef6)\" d=\"M 0 0 \n\" style=\"fill:none;stroke:#424242;stroke-linecap:square;stroke-width:2.7;\"/>\n   </g>\n   <g id=\"line2d_35\">\n    <path clip-path=\"url(#pa6c1ea3ef6)\" d=\"M 0 0 \n\" style=\"fill:none;stroke:#424242;stroke-linecap:square;stroke-width:2.7;\"/>\n   </g>\n   <g id=\"line2d_36\">\n    <path clip-path=\"url(#pa6c1ea3ef6)\" d=\"M 0 0 \n\" style=\"fill:none;stroke:#424242;stroke-linecap:square;stroke-width:2.7;\"/>\n   </g>\n   <g id=\"line2d_37\">\n    <path clip-path=\"url(#pa6c1ea3ef6)\" d=\"M 0 0 \n\" style=\"fill:none;stroke:#424242;stroke-linecap:square;stroke-width:2.7;\"/>\n   </g>\n   <g id=\"line2d_38\">\n    <path clip-path=\"url(#pa6c1ea3ef6)\" d=\"M 0 0 \n\" style=\"fill:none;stroke:#424242;stroke-linecap:square;stroke-width:2.7;\"/>\n   </g>\n   <g id=\"line2d_39\">\n    <path clip-path=\"url(#pa6c1ea3ef6)\" d=\"M 0 0 \n\" style=\"fill:none;stroke:#424242;stroke-linecap:square;stroke-width:2.7;\"/>\n   </g>\n   <g id=\"line2d_40\">\n    <path clip-path=\"url(#pa6c1ea3ef6)\" d=\"M 0 0 \n\" style=\"fill:none;stroke:#424242;stroke-linecap:square;stroke-width:2.7;\"/>\n   </g>\n   <g id=\"line2d_41\">\n    <path clip-path=\"url(#pa6c1ea3ef6)\" d=\"M 0 0 \n\" style=\"fill:none;stroke:#424242;stroke-linecap:square;stroke-width:2.7;\"/>\n   </g>\n   <g id=\"line2d_42\">\n    <path clip-path=\"url(#pa6c1ea3ef6)\" d=\"M 0 0 \n\" style=\"fill:none;stroke:#424242;stroke-linecap:square;stroke-width:2.7;\"/>\n   </g>\n   <g id=\"line2d_43\">\n    <path clip-path=\"url(#pa6c1ea3ef6)\" d=\"M 0 0 \n\" style=\"fill:none;stroke:#424242;stroke-linecap:square;stroke-width:2.7;\"/>\n   </g>\n   <g id=\"line2d_44\">\n    <path clip-path=\"url(#pa6c1ea3ef6)\" d=\"M 0 0 \n\" style=\"fill:none;stroke:#424242;stroke-linecap:square;stroke-width:2.7;\"/>\n   </g>\n   <g id=\"line2d_45\">\n    <path clip-path=\"url(#pa6c1ea3ef6)\" d=\"M 0 0 \n\" style=\"fill:none;stroke:#424242;stroke-linecap:square;stroke-width:2.7;\"/>\n   </g>\n   <g id=\"line2d_46\">\n    <path clip-path=\"url(#pa6c1ea3ef6)\" d=\"M 0 0 \n\" style=\"fill:none;stroke:#424242;stroke-linecap:square;stroke-width:2.7;\"/>\n   </g>\n   <g id=\"line2d_47\">\n    <path clip-path=\"url(#pa6c1ea3ef6)\" d=\"M 0 0 \n\" style=\"fill:none;stroke:#424242;stroke-linecap:square;stroke-width:2.7;\"/>\n   </g>\n   <g id=\"line2d_48\">\n    <path clip-path=\"url(#pa6c1ea3ef6)\" d=\"M 0 0 \n\" style=\"fill:none;stroke:#424242;stroke-linecap:square;stroke-width:2.7;\"/>\n   </g>\n   <g id=\"line2d_49\">\n    <path clip-path=\"url(#pa6c1ea3ef6)\" d=\"M 0 0 \n\" style=\"fill:none;stroke:#424242;stroke-linecap:square;stroke-width:2.7;\"/>\n   </g>\n   <g id=\"line2d_50\">\n    <path clip-path=\"url(#pa6c1ea3ef6)\" d=\"M 0 0 \n\" style=\"fill:none;stroke:#424242;stroke-linecap:square;stroke-width:2.7;\"/>\n   </g>\n   <g id=\"line2d_51\">\n    <path clip-path=\"url(#pa6c1ea3ef6)\" d=\"M 0 0 \n\" style=\"fill:none;stroke:#424242;stroke-linecap:square;stroke-width:2.7;\"/>\n   </g>\n   <g id=\"line2d_52\">\n    <path clip-path=\"url(#pa6c1ea3ef6)\" d=\"M 0 0 \n\" style=\"fill:none;stroke:#424242;stroke-linecap:square;stroke-width:2.7;\"/>\n   </g>\n   <g id=\"line2d_53\">\n    <path clip-path=\"url(#pa6c1ea3ef6)\" d=\"M 0 0 \n\" style=\"fill:none;stroke:#424242;stroke-linecap:square;stroke-width:2.7;\"/>\n   </g>\n   <g id=\"line2d_54\">\n    <path clip-path=\"url(#pa6c1ea3ef6)\" d=\"M 0 0 \n\" style=\"fill:none;stroke:#424242;stroke-linecap:square;stroke-width:2.7;\"/>\n   </g>\n   <g id=\"line2d_55\">\n    <path clip-path=\"url(#pa6c1ea3ef6)\" d=\"M 0 0 \n\" style=\"fill:none;stroke:#424242;stroke-linecap:square;stroke-width:2.7;\"/>\n   </g>\n   <g id=\"line2d_56\">\n    <path clip-path=\"url(#pa6c1ea3ef6)\" d=\"M 0 0 \n\" style=\"fill:none;stroke:#424242;stroke-linecap:square;stroke-width:2.7;\"/>\n   </g>\n   <g id=\"patch_27\">\n    <path d=\"M 39.65 227.357428 \nL 39.65 9.917428 \n\" style=\"fill:none;stroke:#000000;stroke-linecap:square;stroke-linejoin:miter;stroke-width:0.8;\"/>\n   </g>\n   <g id=\"patch_28\">\n    <path d=\"M 374.45 227.357428 \nL 374.45 9.917428 \n\" style=\"fill:none;stroke:#000000;stroke-linecap:square;stroke-linejoin:miter;stroke-width:0.8;\"/>\n   </g>\n   <g id=\"patch_29\">\n    <path d=\"M 39.65 227.357428 \nL 374.45 227.357428 \n\" style=\"fill:none;stroke:#000000;stroke-linecap:square;stroke-linejoin:miter;stroke-width:0.8;\"/>\n   </g>\n   <g id=\"patch_30\">\n    <path d=\"M 39.65 9.917428 \nL 374.45 9.917428 \n\" style=\"fill:none;stroke:#000000;stroke-linecap:square;stroke-linejoin:miter;stroke-width:0.8;\"/>\n   </g>\n  </g>\n </g>\n <defs>\n  <clipPath id=\"pa6c1ea3ef6\">\n   <rect height=\"217.44\" width=\"334.8\" x=\"39.65\" y=\"9.917428\"/>\n  </clipPath>\n </defs>\n</svg>\n",
      "image/png": "[encoded data removed]"
     },
     "metadata": {
      "needs_background": "light"
     }
    }
   ],
   "source": [
    "import seaborn as sns\n",
    "\n",
    "sns.barplot(pseudo_all_df.iloc[:, 1:-2].sum().index, pseudo_df.iloc[:, 1:-2].sum().values)"
   ]
  },
  {
   "cell_type": "code",
   "execution_count": 12,
   "metadata": {},
   "outputs": [],
   "source": [
    "# # single labelは除外/多すぎるやつも除外\n",
    "# pseudo_df2 = pseudo_df[~pseudo_df.iloc[:, 1:-2].sum(axis=1).isin([1, 5, 6,7])]"
   ]
  },
  {
   "cell_type": "code",
   "execution_count": 13,
   "metadata": {},
   "outputs": [],
   "source": [
    "# # single labelは除外/多すぎるやつも除外\n",
    "# pseudo_df3 = pseudo_df[pseudo_df.iloc[:, 1:-2].sum(axis=1).isin([1])]"
   ]
  },
  {
   "cell_type": "code",
   "execution_count": 14,
   "metadata": {},
   "outputs": [],
   "source": [
    "# pseudo_df2.iloc[:, 1:-2].sum(axis=1).value_counts()"
   ]
  },
  {
   "cell_type": "code",
   "execution_count": 15,
   "metadata": {},
   "outputs": [],
   "source": [
    "# sns.barplot(pseudo_df2.iloc[:, 1:-2].sum().index, pseudo_df2.iloc[:, 1:-2].sum().values)"
   ]
  },
  {
   "cell_type": "code",
   "execution_count": 16,
   "metadata": {},
   "outputs": [],
   "source": [
    "# pseudo_df3 = pseudo_df2.drop(pseudo_df2[pseudo_df2[3]==1].sample(1400).index)"
   ]
  },
  {
   "cell_type": "code",
   "execution_count": 17,
   "metadata": {},
   "outputs": [],
   "source": [
    "# sns.barplot(pseudo_df3.iloc[:, 1:-2].sum().index, pseudo_df3.iloc[:, 1:-2].sum().values)"
   ]
  },
  {
   "cell_type": "code",
   "execution_count": 18,
   "metadata": {},
   "outputs": [],
   "source": [
    "# pseudo_df.to_csv(\"./input/rfcx-species-audio-detection/train_fp_pseudo.csv\", index=False)"
   ]
  },
  {
   "cell_type": "code",
   "execution_count": 19,
   "metadata": {},
   "outputs": [
    {
     "output_type": "execute_result",
     "data": {
      "text/plain": [
       "     recording_id  0  1  2  3  4  5  6  7  8  ...  16  17  18  19  20  21  22  \\\n",
       "0       00204008d  0  0  0  1  0  0  0  0  0  ...   0   0   0   0   0   0   0   \n",
       "1       003b04435  0  1  1  0  0  0  0  1  0  ...   0   0   0   0   0   0   0   \n",
       "2       005f1f9a5  0  0  0  0  0  0  0  1  0  ...   0   0   0   0   0   0   0   \n",
       "3       0072f0839  0  0  0  0  0  0  0  0  0  ...   0   0   0   0   0   0   0   \n",
       "4       0079ff47b  0  0  0  1  0  1  0  1  0  ...   0   0   0   0   0   0   0   \n",
       "...           ... .. .. .. .. .. .. .. .. ..  ...  ..  ..  ..  ..  ..  ..  ..   \n",
       "3920    ffc6031f8  0  0  0  1  0  0  0  1  0  ...   0   0   0   0   0   0   0   \n",
       "3921    ffd88cd84  1  1  0  1  0  0  0  0  0  ...   0   0   1   0   0   0   0   \n",
       "3922    ffebe7313  0  0  0  0  1  0  0  0  1  ...   0   0   0   0   0   1   0   \n",
       "3923    fff163132  0  0  0  1  0  0  0  0  0  ...   0   0   0   0   0   0   0   \n",
       "3924    fffb79246  0  0  0  1  0  0  0  1  0  ...   0   0   0   0   0   0   0   \n",
       "\n",
       "      23  t_min  t_max  \n",
       "0      0      0     60  \n",
       "1      0      0     60  \n",
       "2      1      0     60  \n",
       "3      0      0     60  \n",
       "4      0      0     60  \n",
       "...   ..    ...    ...  \n",
       "3920   0      0     60  \n",
       "3921   0      0     60  \n",
       "3922   0      0     60  \n",
       "3923   0      0     60  \n",
       "3924   1      0     60  \n",
       "\n",
       "[3925 rows x 27 columns]"
      ],
      "text/html": "<div>\n<style scoped>\n    .dataframe tbody tr th:only-of-type {\n        vertical-align: middle;\n    }\n\n    .dataframe tbody tr th {\n        vertical-align: top;\n    }\n\n    .dataframe thead th {\n        text-align: right;\n    }\n</style>\n<table border=\"1\" class=\"dataframe\">\n  <thead>\n    <tr style=\"text-align: right;\">\n      <th></th>\n      <th>recording_id</th>\n      <th>0</th>\n      <th>1</th>\n      <th>2</th>\n      <th>3</th>\n      <th>4</th>\n      <th>5</th>\n      <th>6</th>\n      <th>7</th>\n      <th>8</th>\n      <th>...</th>\n      <th>16</th>\n      <th>17</th>\n      <th>18</th>\n      <th>19</th>\n      <th>20</th>\n      <th>21</th>\n      <th>22</th>\n      <th>23</th>\n      <th>t_min</th>\n      <th>t_max</th>\n    </tr>\n  </thead>\n  <tbody>\n    <tr>\n      <td>0</td>\n      <td>00204008d</td>\n      <td>0</td>\n      <td>0</td>\n      <td>0</td>\n      <td>1</td>\n      <td>0</td>\n      <td>0</td>\n      <td>0</td>\n      <td>0</td>\n      <td>0</td>\n      <td>...</td>\n      <td>0</td>\n      <td>0</td>\n      <td>0</td>\n      <td>0</td>\n      <td>0</td>\n      <td>0</td>\n      <td>0</td>\n      <td>0</td>\n      <td>0</td>\n      <td>60</td>\n    </tr>\n    <tr>\n      <td>1</td>\n      <td>003b04435</td>\n      <td>0</td>\n      <td>1</td>\n      <td>1</td>\n      <td>0</td>\n      <td>0</td>\n      <td>0</td>\n      <td>0</td>\n      <td>1</td>\n      <td>0</td>\n      <td>...</td>\n      <td>0</td>\n      <td>0</td>\n      <td>0</td>\n      <td>0</td>\n      <td>0</td>\n      <td>0</td>\n      <td>0</td>\n      <td>0</td>\n      <td>0</td>\n      <td>60</td>\n    </tr>\n    <tr>\n      <td>2</td>\n      <td>005f1f9a5</td>\n      <td>0</td>\n      <td>0</td>\n      <td>0</td>\n      <td>0</td>\n      <td>0</td>\n      <td>0</td>\n      <td>0</td>\n      <td>1</td>\n      <td>0</td>\n      <td>...</td>\n      <td>0</td>\n      <td>0</td>\n      <td>0</td>\n      <td>0</td>\n      <td>0</td>\n      <td>0</td>\n      <td>0</td>\n      <td>1</td>\n      <td>0</td>\n      <td>60</td>\n    </tr>\n    <tr>\n      <td>3</td>\n      <td>0072f0839</td>\n      <td>0</td>\n      <td>0</td>\n      <td>0</td>\n      <td>0</td>\n      <td>0</td>\n      <td>0</td>\n      <td>0</td>\n      <td>0</td>\n      <td>0</td>\n      <td>...</td>\n      <td>0</td>\n      <td>0</td>\n      <td>0</td>\n      <td>0</td>\n      <td>0</td>\n      <td>0</td>\n      <td>0</td>\n      <td>0</td>\n      <td>0</td>\n      <td>60</td>\n    </tr>\n    <tr>\n      <td>4</td>\n      <td>0079ff47b</td>\n      <td>0</td>\n      <td>0</td>\n      <td>0</td>\n      <td>1</td>\n      <td>0</td>\n      <td>1</td>\n      <td>0</td>\n      <td>1</td>\n      <td>0</td>\n      <td>...</td>\n      <td>0</td>\n      <td>0</td>\n      <td>0</td>\n      <td>0</td>\n      <td>0</td>\n      <td>0</td>\n      <td>0</td>\n      <td>0</td>\n      <td>0</td>\n      <td>60</td>\n    </tr>\n    <tr>\n      <td>...</td>\n      <td>...</td>\n      <td>...</td>\n      <td>...</td>\n      <td>...</td>\n      <td>...</td>\n      <td>...</td>\n      <td>...</td>\n      <td>...</td>\n      <td>...</td>\n      <td>...</td>\n      <td>...</td>\n      <td>...</td>\n      <td>...</td>\n      <td>...</td>\n      <td>...</td>\n      <td>...</td>\n      <td>...</td>\n      <td>...</td>\n      <td>...</td>\n      <td>...</td>\n      <td>...</td>\n    </tr>\n    <tr>\n      <td>3920</td>\n      <td>ffc6031f8</td>\n      <td>0</td>\n      <td>0</td>\n      <td>0</td>\n      <td>1</td>\n      <td>0</td>\n      <td>0</td>\n      <td>0</td>\n      <td>1</td>\n      <td>0</td>\n      <td>...</td>\n      <td>0</td>\n      <td>0</td>\n      <td>0</td>\n      <td>0</td>\n      <td>0</td>\n      <td>0</td>\n      <td>0</td>\n      <td>0</td>\n      <td>0</td>\n      <td>60</td>\n    </tr>\n    <tr>\n      <td>3921</td>\n      <td>ffd88cd84</td>\n      <td>1</td>\n      <td>1</td>\n      <td>0</td>\n      <td>1</td>\n      <td>0</td>\n      <td>0</td>\n      <td>0</td>\n      <td>0</td>\n      <td>0</td>\n      <td>...</td>\n      <td>0</td>\n      <td>0</td>\n      <td>1</td>\n      <td>0</td>\n      <td>0</td>\n      <td>0</td>\n      <td>0</td>\n      <td>0</td>\n      <td>0</td>\n      <td>60</td>\n    </tr>\n    <tr>\n      <td>3922</td>\n      <td>ffebe7313</td>\n      <td>0</td>\n      <td>0</td>\n      <td>0</td>\n      <td>0</td>\n      <td>1</td>\n      <td>0</td>\n      <td>0</td>\n      <td>0</td>\n      <td>1</td>\n      <td>...</td>\n      <td>0</td>\n      <td>0</td>\n      <td>0</td>\n      <td>0</td>\n      <td>0</td>\n      <td>1</td>\n      <td>0</td>\n      <td>0</td>\n      <td>0</td>\n      <td>60</td>\n    </tr>\n    <tr>\n      <td>3923</td>\n      <td>fff163132</td>\n      <td>0</td>\n      <td>0</td>\n      <td>0</td>\n      <td>1</td>\n      <td>0</td>\n      <td>0</td>\n      <td>0</td>\n      <td>0</td>\n      <td>0</td>\n      <td>...</td>\n      <td>0</td>\n      <td>0</td>\n      <td>0</td>\n      <td>0</td>\n      <td>0</td>\n      <td>0</td>\n      <td>0</td>\n      <td>0</td>\n      <td>0</td>\n      <td>60</td>\n    </tr>\n    <tr>\n      <td>3924</td>\n      <td>fffb79246</td>\n      <td>0</td>\n      <td>0</td>\n      <td>0</td>\n      <td>1</td>\n      <td>0</td>\n      <td>0</td>\n      <td>0</td>\n      <td>1</td>\n      <td>0</td>\n      <td>...</td>\n      <td>0</td>\n      <td>0</td>\n      <td>0</td>\n      <td>0</td>\n      <td>0</td>\n      <td>0</td>\n      <td>0</td>\n      <td>1</td>\n      <td>0</td>\n      <td>60</td>\n    </tr>\n  </tbody>\n</table>\n<p>3925 rows × 27 columns</p>\n</div>"
     },
     "metadata": {},
     "execution_count": 19
    }
   ],
   "source": [
    "pseudo_df"
   ]
  },
  {
   "source": [
    "## framewiseでpseudo"
   ],
   "cell_type": "markdown",
   "metadata": {}
  },
  {
   "cell_type": "code",
   "execution_count": 3,
   "metadata": {},
   "outputs": [
    {
     "output_type": "stream",
     "name": "stdout",
     "text": [
      "fold-0\n",
      "Loaded pretrained weights for efficientnet-b2\n",
      "2216it [01:40, 22.07it/s]\n",
      "fold-1\n",
      "Loaded pretrained weights for efficientnet-b2\n",
      "2216it [01:37, 22.69it/s]\n",
      "fold-2\n",
      "Loaded pretrained weights for efficientnet-b2\n",
      "2216it [01:39, 22.18it/s]\n",
      "fold-3\n",
      "Loaded pretrained weights for efficientnet-b2\n",
      "2216it [01:40, 21.96it/s]\n",
      "fold-4\n",
      "Loaded pretrained weights for efficientnet-b2\n",
      "2216it [01:41, 21.92it/s]\n"
     ]
    }
   ],
   "source": [
    "pseudo_label_dict_list = []\n",
    "for fold in range(5):\n",
    "    # model\n",
    "    print(f\"fold-{fold}\")\n",
    "    model = get_model(config)\n",
    "    model_name = \"EfficientNetSED\"\n",
    "    output_dir = Path(\"output/0123_181828\")\n",
    "    try:\n",
    "        ckpt = torch.load(output_dir / f'{model_name}-{fold}-v0.ckpt')  # TODO foldごとのモデルを取得できるようにする\n",
    "    except:\n",
    "        ckpt = torch.load(output_dir / f'{model_name}-{fold}.ckpt')  # TODO foldごとのモデルを取得できるようにする\n",
    "    model.load_state_dict(ckpt['state_dict'])\n",
    "    model.eval().to(device)\n",
    "\n",
    "    output_key = \"framewise_logit\"\n",
    "    pseudo_label_dict = {}\n",
    "    with torch.no_grad():\n",
    "        # xは複数のlist\n",
    "        for (x_list, y), recording_id in tqdm(zip(loaders['valid'], all_recording_ids)):\n",
    "            batch_size = x_list.shape[0]\n",
    "            x = x_list.view(-1, x_list.shape[2], x_list.shape[3], x_list.shape[4])  # batch>1でも可\n",
    "            x = x.to(device)\n",
    "            output = model.model(x)\n",
    "            output = output[output_key]  # (6,400, 24)\n",
    "            output = output.view(-1, 24)  # (2400, 24)\n",
    "            preds = output.sigmoid().detach().cpu().numpy()\n",
    "\n",
    "            # どれかのクラスが反応している場合、閾値以上のクラスを追加\n",
    "            labels = []\n",
    "            for i in range(preds.shape[0]):  # 1frameずつ処理\n",
    "                pred = preds[i]\n",
    "                if (pred > 0.9).any():  # 1つのクラスでも0.9以上があればラベル候補とする\n",
    "                    idx = np.where(pred > PSEUDO_THR)[0]\n",
    "                    _lab = np.eye(24)[idx]\n",
    "                    _lab = (_lab.sum(0) > 0).astype(int)  # (1, 24)\n",
    "                else:\n",
    "                    _lab = np.zeros(24)\n",
    "                labels.append(_lab)\n",
    "            labels = np.stack(labels).astype(int)  # [(1,24)*6] -> (6, 24)\n",
    "            if labels.sum() == 0:  # 1つのラベルもついていない場合は次のbatchへ\n",
    "                continue\n",
    "            pseudo_label_dict[recording_id] = labels\n",
    "\n",
    "    pseudo_label_dict_list.append(pseudo_label_dict)"
   ]
  },
  {
   "cell_type": "code",
   "execution_count": 4,
   "metadata": {},
   "outputs": [],
   "source": [
    "pseudo_label_dict_5fold = {}\n",
    "for recording_id in all_recording_ids:  # recordingのループ\n",
    "    labels = []\n",
    "    # 任意の音声の5fold分のpsuedo label候補を取り出す\n",
    "    for pseudo_label_dict in pseudo_label_dict_list:  # 5foldのループ\n",
    "        try:\n",
    "            label = pseudo_label_dict[recording_id]\n",
    "        except KeyError:\n",
    "            label = np.zeros((2400, 24))\n",
    "        labels.append(label)\n",
    "    new_label = (np.stack(labels).sum(0) > 3).astype(int)\n",
    "    if new_label.sum() == 0:  \n",
    "        pass\n",
    "    else:\n",
    "        pseudo_label_dict_5fold[recording_id] = new_label"
   ]
  },
  {
   "cell_type": "code",
   "execution_count": 5,
   "metadata": {},
   "outputs": [
    {
     "output_type": "execute_result",
     "data": {
      "text/plain": [
       "1132"
      ]
     },
     "metadata": {},
     "execution_count": 5
    }
   ],
   "source": [
    "len(pseudo_label_dict_5fold)"
   ]
  },
  {
   "cell_type": "code",
   "execution_count": 8,
   "metadata": {},
   "outputs": [],
   "source": [
    "audio_time = 60\n",
    "frame_length = 2400\n",
    "estimated_event_list = []\n",
    "\n",
    "for recording_id in list(pseudo_label_dict_5fold.keys()):\n",
    "    for target_idx in range(24):\n",
    "        allframe = pseudo_label_dict_5fold[recording_id]\n",
    "        if allframe[:, target_idx].mean() == 0:\n",
    "            pass\n",
    "        else:\n",
    "            detected = np.argwhere(allframe[:, target_idx]).reshape(-1)\n",
    "            head_idx = 0\n",
    "            tail_idx = 0\n",
    "            while True:\n",
    "                # 音声frameが一つのみ or 音声frameが一つ先のframeと途切れている場合\n",
    "                if (tail_idx + 1 == len(detected)) or (detected[tail_idx + 1] - detected[tail_idx] != 1):\n",
    "                    t_min = detected[head_idx] * (audio_time/frame_length)\n",
    "                    t_max = detected[tail_idx] * (audio_time/frame_length)\n",
    "                    estimated_event = {\n",
    "                        \"recording_id\": recording_id,\n",
    "                        \"species_id\": target_idx,\n",
    "                        \"t_min\": t_min.astype(np.float16),\n",
    "                        \"t_max\": t_max.astype(np.float16),\n",
    "                    }\n",
    "                    estimated_event_list.append(estimated_event)\n",
    "                    head_idx = tail_idx + 1\n",
    "                    tail_idx = tail_idx + 1\n",
    "                    if head_idx >= len(detected):\n",
    "                        break\n",
    "                else:\n",
    "                    tail_idx += 1"
   ]
  },
  {
   "cell_type": "code",
   "execution_count": 9,
   "metadata": {},
   "outputs": [
    {
     "output_type": "execute_result",
     "data": {
      "text/plain": [
       "      recording_id  species_id  t_min      t_max\n",
       "0        003bec244           3  10.00  15.976562\n",
       "1        003bec244           7   1.50   4.476562\n",
       "2        003bec244           7   5.25   7.476562\n",
       "3        003bec244           7  13.75  17.468750\n",
       "4        003bec244           7  20.00  28.218750\n",
       "...            ...         ...    ...        ...\n",
       "14277    ffb9a7b9a          18  20.00  27.468750\n",
       "14278    ffb9a7b9a          18  30.00  38.218750\n",
       "14279    ffb9a7b9a          18  40.00  47.468750\n",
       "14280    ffb9a7b9a          18  50.00  54.468750\n",
       "14281    ffb9a7b9a          18  56.75  57.468750\n",
       "\n",
       "[14282 rows x 4 columns]"
      ],
      "text/html": "<div>\n<style scoped>\n    .dataframe tbody tr th:only-of-type {\n        vertical-align: middle;\n    }\n\n    .dataframe tbody tr th {\n        vertical-align: top;\n    }\n\n    .dataframe thead th {\n        text-align: right;\n    }\n</style>\n<table border=\"1\" class=\"dataframe\">\n  <thead>\n    <tr style=\"text-align: right;\">\n      <th></th>\n      <th>recording_id</th>\n      <th>species_id</th>\n      <th>t_min</th>\n      <th>t_max</th>\n    </tr>\n  </thead>\n  <tbody>\n    <tr>\n      <td>0</td>\n      <td>003bec244</td>\n      <td>3</td>\n      <td>10.00</td>\n      <td>15.976562</td>\n    </tr>\n    <tr>\n      <td>1</td>\n      <td>003bec244</td>\n      <td>7</td>\n      <td>1.50</td>\n      <td>4.476562</td>\n    </tr>\n    <tr>\n      <td>2</td>\n      <td>003bec244</td>\n      <td>7</td>\n      <td>5.25</td>\n      <td>7.476562</td>\n    </tr>\n    <tr>\n      <td>3</td>\n      <td>003bec244</td>\n      <td>7</td>\n      <td>13.75</td>\n      <td>17.468750</td>\n    </tr>\n    <tr>\n      <td>4</td>\n      <td>003bec244</td>\n      <td>7</td>\n      <td>20.00</td>\n      <td>28.218750</td>\n    </tr>\n    <tr>\n      <td>...</td>\n      <td>...</td>\n      <td>...</td>\n      <td>...</td>\n      <td>...</td>\n    </tr>\n    <tr>\n      <td>14277</td>\n      <td>ffb9a7b9a</td>\n      <td>18</td>\n      <td>20.00</td>\n      <td>27.468750</td>\n    </tr>\n    <tr>\n      <td>14278</td>\n      <td>ffb9a7b9a</td>\n      <td>18</td>\n      <td>30.00</td>\n      <td>38.218750</td>\n    </tr>\n    <tr>\n      <td>14279</td>\n      <td>ffb9a7b9a</td>\n      <td>18</td>\n      <td>40.00</td>\n      <td>47.468750</td>\n    </tr>\n    <tr>\n      <td>14280</td>\n      <td>ffb9a7b9a</td>\n      <td>18</td>\n      <td>50.00</td>\n      <td>54.468750</td>\n    </tr>\n    <tr>\n      <td>14281</td>\n      <td>ffb9a7b9a</td>\n      <td>18</td>\n      <td>56.75</td>\n      <td>57.468750</td>\n    </tr>\n  </tbody>\n</table>\n<p>14282 rows × 4 columns</p>\n</div>"
     },
     "metadata": {},
     "execution_count": 9
    }
   ],
   "source": [
    "train_tp_ps = pd.DataFrame(estimated_event_list)\n",
    "train_tp_ps"
   ]
  },
  {
   "cell_type": "code",
   "execution_count": 10,
   "metadata": {},
   "outputs": [
    {
     "output_type": "execute_result",
     "data": {
      "text/plain": [
       "      recording_id  species_id  t_min      t_max\n",
       "0        003bec244           3  10.00  15.976562\n",
       "3        003bec244           7  13.75  17.468750\n",
       "4        003bec244           7  20.00  28.218750\n",
       "6        003bec244           7  40.00  43.718750\n",
       "8        003bec244           7  53.75  58.218750\n",
       "...            ...         ...    ...        ...\n",
       "14276    ffb9a7b9a          18  10.00  17.468750\n",
       "14277    ffb9a7b9a          18  20.00  27.468750\n",
       "14278    ffb9a7b9a          18  30.00  38.218750\n",
       "14279    ffb9a7b9a          18  40.00  47.468750\n",
       "14280    ffb9a7b9a          18  50.00  54.468750\n",
       "\n",
       "[7757 rows x 4 columns]"
      ],
      "text/html": "<div>\n<style scoped>\n    .dataframe tbody tr th:only-of-type {\n        vertical-align: middle;\n    }\n\n    .dataframe tbody tr th {\n        vertical-align: top;\n    }\n\n    .dataframe thead th {\n        text-align: right;\n    }\n</style>\n<table border=\"1\" class=\"dataframe\">\n  <thead>\n    <tr style=\"text-align: right;\">\n      <th></th>\n      <th>recording_id</th>\n      <th>species_id</th>\n      <th>t_min</th>\n      <th>t_max</th>\n    </tr>\n  </thead>\n  <tbody>\n    <tr>\n      <td>0</td>\n      <td>003bec244</td>\n      <td>3</td>\n      <td>10.00</td>\n      <td>15.976562</td>\n    </tr>\n    <tr>\n      <td>3</td>\n      <td>003bec244</td>\n      <td>7</td>\n      <td>13.75</td>\n      <td>17.468750</td>\n    </tr>\n    <tr>\n      <td>4</td>\n      <td>003bec244</td>\n      <td>7</td>\n      <td>20.00</td>\n      <td>28.218750</td>\n    </tr>\n    <tr>\n      <td>6</td>\n      <td>003bec244</td>\n      <td>7</td>\n      <td>40.00</td>\n      <td>43.718750</td>\n    </tr>\n    <tr>\n      <td>8</td>\n      <td>003bec244</td>\n      <td>7</td>\n      <td>53.75</td>\n      <td>58.218750</td>\n    </tr>\n    <tr>\n      <td>...</td>\n      <td>...</td>\n      <td>...</td>\n      <td>...</td>\n      <td>...</td>\n    </tr>\n    <tr>\n      <td>14276</td>\n      <td>ffb9a7b9a</td>\n      <td>18</td>\n      <td>10.00</td>\n      <td>17.468750</td>\n    </tr>\n    <tr>\n      <td>14277</td>\n      <td>ffb9a7b9a</td>\n      <td>18</td>\n      <td>20.00</td>\n      <td>27.468750</td>\n    </tr>\n    <tr>\n      <td>14278</td>\n      <td>ffb9a7b9a</td>\n      <td>18</td>\n      <td>30.00</td>\n      <td>38.218750</td>\n    </tr>\n    <tr>\n      <td>14279</td>\n      <td>ffb9a7b9a</td>\n      <td>18</td>\n      <td>40.00</td>\n      <td>47.468750</td>\n    </tr>\n    <tr>\n      <td>14280</td>\n      <td>ffb9a7b9a</td>\n      <td>18</td>\n      <td>50.00</td>\n      <td>54.468750</td>\n    </tr>\n  </tbody>\n</table>\n<p>7757 rows × 4 columns</p>\n</div>"
     },
     "metadata": {},
     "execution_count": 10
    }
   ],
   "source": [
    "train_tp_ps2 = train_tp_ps[(train_tp_ps['t_max'] - train_tp_ps['t_min']) > 3.0]  # ラベルの秒数で足切り\n",
    "train_tp_ps2"
   ]
  },
  {
   "cell_type": "code",
   "execution_count": 11,
   "metadata": {},
   "outputs": [
    {
     "output_type": "execute_result",
     "data": {
      "text/plain": [
       "<matplotlib.axes._subplots.AxesSubplot at 0x7f6341a15a10>"
      ]
     },
     "metadata": {},
     "execution_count": 11
    },
    {
     "output_type": "display_data",
     "data": {
      "text/plain": "<Figure size 432x288 with 1 Axes>",
      "image/svg+xml": "<?xml version=\"1.0\" encoding=\"utf-8\" standalone=\"no\"?>\n<!DOCTYPE svg PUBLIC \"-//W3C//DTD SVG 1.1//EN\"\n  \"http://www.w3.org/Graphics/SVG/1.1/DTD/svg11.dtd\">\n<!-- Created with matplotlib (https://matplotlib.org/) -->\n<svg height=\"248.518125pt\" version=\"1.1\" viewBox=\"0 0 381.65 248.518125\" width=\"381.65pt\" xmlns=\"http://www.w3.org/2000/svg\" xmlns:xlink=\"http://www.w3.org/1999/xlink\">\n <defs>\n  <style type=\"text/css\">\n*{stroke-linecap:butt;stroke-linejoin:round;}\n  </style>\n </defs>\n <g id=\"figure_1\">\n  <g id=\"patch_1\">\n   <path d=\"M -0 248.518125 \nL 381.65 248.518125 \nL 381.65 0 \nL -0 0 \nz\n\" style=\"fill:none;\"/>\n  </g>\n  <g id=\"axes_1\">\n   <g id=\"patch_2\">\n    <path d=\"M 39.65 224.64 \nL 374.45 224.64 \nL 374.45 7.2 \nL 39.65 7.2 \nz\n\" style=\"fill:#ffffff;\"/>\n   </g>\n   <g id=\"patch_3\">\n    <path clip-path=\"url(#p8453c2f175)\" d=\"M 41.045 224.64 \nL 52.205 224.64 \nL 52.205 187.926275 \nL 41.045 187.926275 \nz\n\" style=\"fill:#ea96a3;\"/>\n   </g>\n   <g id=\"patch_4\">\n    <path clip-path=\"url(#p8453c2f175)\" d=\"M 54.995 224.64 \nL 66.155 224.64 \nL 66.155 173.968291 \nL 54.995 173.968291 \nz\n\" style=\"fill:#e8968a;\"/>\n   </g>\n   <g id=\"patch_5\">\n    <path clip-path=\"url(#p8453c2f175)\" d=\"M 68.945 224.64 \nL 80.105 224.64 \nL 80.105 205.521793 \nL 68.945 205.521793 \nz\n\" style=\"fill:#e19153;\"/>\n   </g>\n   <g id=\"patch_6\">\n    <path clip-path=\"url(#p8453c2f175)\" d=\"M 82.895 224.64 \nL 94.055 224.64 \nL 94.055 17.554286 \nL 82.895 17.554286 \nz\n\" style=\"fill:#ca984c;\"/>\n   </g>\n   <g id=\"patch_7\">\n    <path clip-path=\"url(#p8453c2f175)\" d=\"M 96.845 224.64 \nL 108.005 224.64 \nL 108.005 160.687059 \nL 96.845 160.687059 \nz\n\" style=\"fill:#b89c49;\"/>\n   </g>\n   <g id=\"patch_8\">\n    <path clip-path=\"url(#p8453c2f175)\" d=\"M 110.795 224.64 \nL 121.955 224.64 \nL 121.955 197.654566 \nL 110.795 197.654566 \nz\n\" style=\"fill:#a89e47;\"/>\n   </g>\n   <g id=\"patch_9\">\n    <path clip-path=\"url(#p8453c2f175)\" d=\"M 124.745 224.64 \nL 135.905 224.64 \nL 135.905 206.029356 \nL 124.745 206.029356 \nz\n\" style=\"fill:#98a246;\"/>\n   </g>\n   <g id=\"patch_10\">\n    <path clip-path=\"url(#p8453c2f175)\" d=\"M 138.695 224.64 \nL 149.855 224.64 \nL 149.855 125.411429 \nL 138.695 125.411429 \nz\n\" style=\"fill:#84a846;\"/>\n   </g>\n   <g id=\"patch_11\">\n    <path clip-path=\"url(#p8453c2f175)\" d=\"M 152.645 224.64 \nL 163.805 224.64 \nL 163.805 176.844482 \nL 152.645 176.844482 \nz\n\" style=\"fill:#60ae47;\"/>\n   </g>\n   <g id=\"patch_12\">\n    <path clip-path=\"url(#p8453c2f175)\" d=\"M 166.595 224.64 \nL 177.755 224.64 \nL 177.755 199.177255 \nL 166.595 199.177255 \nz\n\" style=\"fill:#49af72;\"/>\n   </g>\n   <g id=\"patch_13\">\n    <path clip-path=\"url(#p8453c2f175)\" d=\"M 180.545 224.64 \nL 191.705 224.64 \nL 191.705 193.509468 \nL 180.545 193.509468 \nz\n\" style=\"fill:#4aae8a;\"/>\n   </g>\n   <g id=\"patch_14\">\n    <path clip-path=\"url(#p8453c2f175)\" d=\"M 194.495 224.64 \nL 205.655 224.64 \nL 205.655 163.478655 \nL 194.495 163.478655 \nz\n\" style=\"fill:#4aac99;\"/>\n   </g>\n   <g id=\"patch_15\">\n    <path clip-path=\"url(#p8453c2f175)\" d=\"M 208.445 224.64 \nL 219.605 224.64 \nL 219.605 149.266891 \nL 208.445 149.266891 \nz\n\" style=\"fill:#4baba4;\"/>\n   </g>\n   <g id=\"patch_16\">\n    <path clip-path=\"url(#p8453c2f175)\" d=\"M 222.395 224.64 \nL 233.555 224.64 \nL 233.555 199.769412 \nL 222.395 199.769412 \nz\n\" style=\"fill:#4cabaf;\"/>\n   </g>\n   <g id=\"patch_17\">\n    <path clip-path=\"url(#p8453c2f175)\" d=\"M 236.345 224.64 \nL 247.505 224.64 \nL 247.505 192.494342 \nL 236.345 192.494342 \nz\n\" style=\"fill:#4fabbc;\"/>\n   </g>\n   <g id=\"patch_18\">\n    <path clip-path=\"url(#p8453c2f175)\" d=\"M 250.295 224.64 \nL 261.455 224.64 \nL 261.455 196.554846 \nL 250.295 196.554846 \nz\n\" style=\"fill:#53accd;\"/>\n   </g>\n   <g id=\"patch_19\">\n    <path clip-path=\"url(#p8453c2f175)\" d=\"M 264.245 224.64 \nL 275.405 224.64 \nL 275.405 194.862969 \nL 264.245 194.862969 \nz\n\" style=\"fill:#6daee2;\"/>\n   </g>\n   <g id=\"patch_20\">\n    <path clip-path=\"url(#p8453c2f175)\" d=\"M 278.195 224.64 \nL 289.355 224.64 \nL 289.355 190.04112 \nL 278.195 190.04112 \nz\n\" style=\"fill:#9bade9;\"/>\n   </g>\n   <g id=\"patch_21\">\n    <path clip-path=\"url(#p8453c2f175)\" d=\"M 292.145 224.64 \nL 303.305 224.64 \nL 303.305 137.000784 \nL 292.145 137.000784 \nz\n\" style=\"fill:#b6a8eb;\"/>\n   </g>\n   <g id=\"patch_22\">\n    <path clip-path=\"url(#p8453c2f175)\" d=\"M 306.095 224.64 \nL 317.255 224.64 \nL 317.255 220.410308 \nL 306.095 220.410308 \nz\n\" style=\"fill:#ca9ee9;\"/>\n   </g>\n   <g id=\"patch_23\">\n    <path clip-path=\"url(#p8453c2f175)\" d=\"M 320.045 224.64 \nL 331.205 224.64 \nL 331.205 195.962689 \nL 320.045 195.962689 \nz\n\" style=\"fill:#df8fe7;\"/>\n   </g>\n   <g id=\"patch_24\">\n    <path clip-path=\"url(#p8453c2f175)\" d=\"M 333.995 224.64 \nL 345.155 224.64 \nL 345.155 145.375574 \nL 333.995 145.375574 \nz\n\" style=\"fill:#e78cd7;\"/>\n   </g>\n   <g id=\"patch_25\">\n    <path clip-path=\"url(#p8453c2f175)\" d=\"M 347.945 224.64 \nL 359.105 224.64 \nL 359.105 213.642801 \nL 347.945 213.642801 \nz\n\" style=\"fill:#e890c6;\"/>\n   </g>\n   <g id=\"patch_26\">\n    <path clip-path=\"url(#p8453c2f175)\" d=\"M 361.895 224.64 \nL 373.055 224.64 \nL 373.055 140.046162 \nL 361.895 140.046162 \nz\n\" style=\"fill:#e993b6;\"/>\n   </g>\n   <g id=\"matplotlib.axis_1\">\n    <g id=\"xtick_1\">\n     <g id=\"line2d_1\">\n      <defs>\n       <path d=\"M 0 0 \nL 0 3.5 \n\" id=\"m021a3b6fcc\" style=\"stroke:#000000;stroke-width:0.8;\"/>\n      </defs>\n      <g>\n       <use style=\"stroke:#000000;stroke-width:0.8;\" x=\"46.625\" xlink:href=\"#m021a3b6fcc\" y=\"224.64\"/>\n      </g>\n     </g>\n     <g id=\"text_1\">\n      <!-- 0 -->\n      <defs>\n       <path d=\"M 31.78125 66.40625 \nQ 24.171875 66.40625 20.328125 58.90625 \nQ 16.5 51.421875 16.5 36.375 \nQ 16.5 21.390625 20.328125 13.890625 \nQ 24.171875 6.390625 31.78125 6.390625 \nQ 39.453125 6.390625 43.28125 13.890625 \nQ 47.125 21.390625 47.125 36.375 \nQ 47.125 51.421875 43.28125 58.90625 \nQ 39.453125 66.40625 31.78125 66.40625 \nz\nM 31.78125 74.21875 \nQ 44.046875 74.21875 50.515625 64.515625 \nQ 56.984375 54.828125 56.984375 36.375 \nQ 56.984375 17.96875 50.515625 8.265625 \nQ 44.046875 -1.421875 31.78125 -1.421875 \nQ 19.53125 -1.421875 13.0625 8.265625 \nQ 6.59375 17.96875 6.59375 36.375 \nQ 6.59375 54.828125 13.0625 64.515625 \nQ 19.53125 74.21875 31.78125 74.21875 \nz\n\" id=\"DejaVuSans-48\"/>\n      </defs>\n      <g transform=\"translate(43.44375 239.238437)scale(0.1 -0.1)\">\n       <use xlink:href=\"#DejaVuSans-48\"/>\n      </g>\n     </g>\n    </g>\n    <g id=\"xtick_2\">\n     <g id=\"line2d_2\">\n      <g>\n       <use style=\"stroke:#000000;stroke-width:0.8;\" x=\"60.575\" xlink:href=\"#m021a3b6fcc\" y=\"224.64\"/>\n      </g>\n     </g>\n     <g id=\"text_2\">\n      <!-- 1 -->\n      <defs>\n       <path d=\"M 12.40625 8.296875 \nL 28.515625 8.296875 \nL 28.515625 63.921875 \nL 10.984375 60.40625 \nL 10.984375 69.390625 \nL 28.421875 72.90625 \nL 38.28125 72.90625 \nL 38.28125 8.296875 \nL 54.390625 8.296875 \nL 54.390625 0 \nL 12.40625 0 \nz\n\" id=\"DejaVuSans-49\"/>\n      </defs>\n      <g transform=\"translate(57.39375 239.238437)scale(0.1 -0.1)\">\n       <use xlink:href=\"#DejaVuSans-49\"/>\n      </g>\n     </g>\n    </g>\n    <g id=\"xtick_3\">\n     <g id=\"line2d_3\">\n      <g>\n       <use style=\"stroke:#000000;stroke-width:0.8;\" x=\"74.525\" xlink:href=\"#m021a3b6fcc\" y=\"224.64\"/>\n      </g>\n     </g>\n     <g id=\"text_3\">\n      <!-- 2 -->\n      <defs>\n       <path d=\"M 19.1875 8.296875 \nL 53.609375 8.296875 \nL 53.609375 0 \nL 7.328125 0 \nL 7.328125 8.296875 \nQ 12.9375 14.109375 22.625 23.890625 \nQ 32.328125 33.6875 34.8125 36.53125 \nQ 39.546875 41.84375 41.421875 45.53125 \nQ 43.3125 49.21875 43.3125 52.78125 \nQ 43.3125 58.59375 39.234375 62.25 \nQ 35.15625 65.921875 28.609375 65.921875 \nQ 23.96875 65.921875 18.8125 64.3125 \nQ 13.671875 62.703125 7.8125 59.421875 \nL 7.8125 69.390625 \nQ 13.765625 71.78125 18.9375 73 \nQ 24.125 74.21875 28.421875 74.21875 \nQ 39.75 74.21875 46.484375 68.546875 \nQ 53.21875 62.890625 53.21875 53.421875 \nQ 53.21875 48.921875 51.53125 44.890625 \nQ 49.859375 40.875 45.40625 35.40625 \nQ 44.1875 33.984375 37.640625 27.21875 \nQ 31.109375 20.453125 19.1875 8.296875 \nz\n\" id=\"DejaVuSans-50\"/>\n      </defs>\n      <g transform=\"translate(71.34375 239.238437)scale(0.1 -0.1)\">\n       <use xlink:href=\"#DejaVuSans-50\"/>\n      </g>\n     </g>\n    </g>\n    <g id=\"xtick_4\">\n     <g id=\"line2d_4\">\n      <g>\n       <use style=\"stroke:#000000;stroke-width:0.8;\" x=\"88.475\" xlink:href=\"#m021a3b6fcc\" y=\"224.64\"/>\n      </g>\n     </g>\n     <g id=\"text_4\">\n      <!-- 3 -->\n      <defs>\n       <path d=\"M 40.578125 39.3125 \nQ 47.65625 37.796875 51.625 33 \nQ 55.609375 28.21875 55.609375 21.1875 \nQ 55.609375 10.40625 48.1875 4.484375 \nQ 40.765625 -1.421875 27.09375 -1.421875 \nQ 22.515625 -1.421875 17.65625 -0.515625 \nQ 12.796875 0.390625 7.625 2.203125 \nL 7.625 11.71875 \nQ 11.71875 9.328125 16.59375 8.109375 \nQ 21.484375 6.890625 26.8125 6.890625 \nQ 36.078125 6.890625 40.9375 10.546875 \nQ 45.796875 14.203125 45.796875 21.1875 \nQ 45.796875 27.640625 41.28125 31.265625 \nQ 36.765625 34.90625 28.71875 34.90625 \nL 20.21875 34.90625 \nL 20.21875 43.015625 \nL 29.109375 43.015625 \nQ 36.375 43.015625 40.234375 45.921875 \nQ 44.09375 48.828125 44.09375 54.296875 \nQ 44.09375 59.90625 40.109375 62.90625 \nQ 36.140625 65.921875 28.71875 65.921875 \nQ 24.65625 65.921875 20.015625 65.03125 \nQ 15.375 64.15625 9.8125 62.3125 \nL 9.8125 71.09375 \nQ 15.4375 72.65625 20.34375 73.4375 \nQ 25.25 74.21875 29.59375 74.21875 \nQ 40.828125 74.21875 47.359375 69.109375 \nQ 53.90625 64.015625 53.90625 55.328125 \nQ 53.90625 49.265625 50.4375 45.09375 \nQ 46.96875 40.921875 40.578125 39.3125 \nz\n\" id=\"DejaVuSans-51\"/>\n      </defs>\n      <g transform=\"translate(85.29375 239.238437)scale(0.1 -0.1)\">\n       <use xlink:href=\"#DejaVuSans-51\"/>\n      </g>\n     </g>\n    </g>\n    <g id=\"xtick_5\">\n     <g id=\"line2d_5\">\n      <g>\n       <use style=\"stroke:#000000;stroke-width:0.8;\" x=\"102.425\" xlink:href=\"#m021a3b6fcc\" y=\"224.64\"/>\n      </g>\n     </g>\n     <g id=\"text_5\">\n      <!-- 4 -->\n      <defs>\n       <path d=\"M 37.796875 64.3125 \nL 12.890625 25.390625 \nL 37.796875 25.390625 \nz\nM 35.203125 72.90625 \nL 47.609375 72.90625 \nL 47.609375 25.390625 \nL 58.015625 25.390625 \nL 58.015625 17.1875 \nL 47.609375 17.1875 \nL 47.609375 0 \nL 37.796875 0 \nL 37.796875 17.1875 \nL 4.890625 17.1875 \nL 4.890625 26.703125 \nz\n\" id=\"DejaVuSans-52\"/>\n      </defs>\n      <g transform=\"translate(99.24375 239.238437)scale(0.1 -0.1)\">\n       <use xlink:href=\"#DejaVuSans-52\"/>\n      </g>\n     </g>\n    </g>\n    <g id=\"xtick_6\">\n     <g id=\"line2d_6\">\n      <g>\n       <use style=\"stroke:#000000;stroke-width:0.8;\" x=\"116.375\" xlink:href=\"#m021a3b6fcc\" y=\"224.64\"/>\n      </g>\n     </g>\n     <g id=\"text_6\">\n      <!-- 5 -->\n      <defs>\n       <path d=\"M 10.796875 72.90625 \nL 49.515625 72.90625 \nL 49.515625 64.59375 \nL 19.828125 64.59375 \nL 19.828125 46.734375 \nQ 21.96875 47.46875 24.109375 47.828125 \nQ 26.265625 48.1875 28.421875 48.1875 \nQ 40.625 48.1875 47.75 41.5 \nQ 54.890625 34.8125 54.890625 23.390625 \nQ 54.890625 11.625 47.5625 5.09375 \nQ 40.234375 -1.421875 26.90625 -1.421875 \nQ 22.3125 -1.421875 17.546875 -0.640625 \nQ 12.796875 0.140625 7.71875 1.703125 \nL 7.71875 11.625 \nQ 12.109375 9.234375 16.796875 8.0625 \nQ 21.484375 6.890625 26.703125 6.890625 \nQ 35.15625 6.890625 40.078125 11.328125 \nQ 45.015625 15.765625 45.015625 23.390625 \nQ 45.015625 31 40.078125 35.4375 \nQ 35.15625 39.890625 26.703125 39.890625 \nQ 22.75 39.890625 18.8125 39.015625 \nQ 14.890625 38.140625 10.796875 36.28125 \nz\n\" id=\"DejaVuSans-53\"/>\n      </defs>\n      <g transform=\"translate(113.19375 239.238437)scale(0.1 -0.1)\">\n       <use xlink:href=\"#DejaVuSans-53\"/>\n      </g>\n     </g>\n    </g>\n    <g id=\"xtick_7\">\n     <g id=\"line2d_7\">\n      <g>\n       <use style=\"stroke:#000000;stroke-width:0.8;\" x=\"130.325\" xlink:href=\"#m021a3b6fcc\" y=\"224.64\"/>\n      </g>\n     </g>\n     <g id=\"text_7\">\n      <!-- 6 -->\n      <defs>\n       <path d=\"M 33.015625 40.375 \nQ 26.375 40.375 22.484375 35.828125 \nQ 18.609375 31.296875 18.609375 23.390625 \nQ 18.609375 15.53125 22.484375 10.953125 \nQ 26.375 6.390625 33.015625 6.390625 \nQ 39.65625 6.390625 43.53125 10.953125 \nQ 47.40625 15.53125 47.40625 23.390625 \nQ 47.40625 31.296875 43.53125 35.828125 \nQ 39.65625 40.375 33.015625 40.375 \nz\nM 52.59375 71.296875 \nL 52.59375 62.3125 \nQ 48.875 64.0625 45.09375 64.984375 \nQ 41.3125 65.921875 37.59375 65.921875 \nQ 27.828125 65.921875 22.671875 59.328125 \nQ 17.53125 52.734375 16.796875 39.40625 \nQ 19.671875 43.65625 24.015625 45.921875 \nQ 28.375 48.1875 33.59375 48.1875 \nQ 44.578125 48.1875 50.953125 41.515625 \nQ 57.328125 34.859375 57.328125 23.390625 \nQ 57.328125 12.15625 50.6875 5.359375 \nQ 44.046875 -1.421875 33.015625 -1.421875 \nQ 20.359375 -1.421875 13.671875 8.265625 \nQ 6.984375 17.96875 6.984375 36.375 \nQ 6.984375 53.65625 15.1875 63.9375 \nQ 23.390625 74.21875 37.203125 74.21875 \nQ 40.921875 74.21875 44.703125 73.484375 \nQ 48.484375 72.75 52.59375 71.296875 \nz\n\" id=\"DejaVuSans-54\"/>\n      </defs>\n      <g transform=\"translate(127.14375 239.238437)scale(0.1 -0.1)\">\n       <use xlink:href=\"#DejaVuSans-54\"/>\n      </g>\n     </g>\n    </g>\n    <g id=\"xtick_8\">\n     <g id=\"line2d_8\">\n      <g>\n       <use style=\"stroke:#000000;stroke-width:0.8;\" x=\"144.275\" xlink:href=\"#m021a3b6fcc\" y=\"224.64\"/>\n      </g>\n     </g>\n     <g id=\"text_8\">\n      <!-- 7 -->\n      <defs>\n       <path d=\"M 8.203125 72.90625 \nL 55.078125 72.90625 \nL 55.078125 68.703125 \nL 28.609375 0 \nL 18.3125 0 \nL 43.21875 64.59375 \nL 8.203125 64.59375 \nz\n\" id=\"DejaVuSans-55\"/>\n      </defs>\n      <g transform=\"translate(141.09375 239.238437)scale(0.1 -0.1)\">\n       <use xlink:href=\"#DejaVuSans-55\"/>\n      </g>\n     </g>\n    </g>\n    <g id=\"xtick_9\">\n     <g id=\"line2d_9\">\n      <g>\n       <use style=\"stroke:#000000;stroke-width:0.8;\" x=\"158.225\" xlink:href=\"#m021a3b6fcc\" y=\"224.64\"/>\n      </g>\n     </g>\n     <g id=\"text_9\">\n      <!-- 8 -->\n      <defs>\n       <path d=\"M 31.78125 34.625 \nQ 24.75 34.625 20.71875 30.859375 \nQ 16.703125 27.09375 16.703125 20.515625 \nQ 16.703125 13.921875 20.71875 10.15625 \nQ 24.75 6.390625 31.78125 6.390625 \nQ 38.8125 6.390625 42.859375 10.171875 \nQ 46.921875 13.96875 46.921875 20.515625 \nQ 46.921875 27.09375 42.890625 30.859375 \nQ 38.875 34.625 31.78125 34.625 \nz\nM 21.921875 38.8125 \nQ 15.578125 40.375 12.03125 44.71875 \nQ 8.5 49.078125 8.5 55.328125 \nQ 8.5 64.0625 14.71875 69.140625 \nQ 20.953125 74.21875 31.78125 74.21875 \nQ 42.671875 74.21875 48.875 69.140625 \nQ 55.078125 64.0625 55.078125 55.328125 \nQ 55.078125 49.078125 51.53125 44.71875 \nQ 48 40.375 41.703125 38.8125 \nQ 48.828125 37.15625 52.796875 32.3125 \nQ 56.78125 27.484375 56.78125 20.515625 \nQ 56.78125 9.90625 50.3125 4.234375 \nQ 43.84375 -1.421875 31.78125 -1.421875 \nQ 19.734375 -1.421875 13.25 4.234375 \nQ 6.78125 9.90625 6.78125 20.515625 \nQ 6.78125 27.484375 10.78125 32.3125 \nQ 14.796875 37.15625 21.921875 38.8125 \nz\nM 18.3125 54.390625 \nQ 18.3125 48.734375 21.84375 45.5625 \nQ 25.390625 42.390625 31.78125 42.390625 \nQ 38.140625 42.390625 41.71875 45.5625 \nQ 45.3125 48.734375 45.3125 54.390625 \nQ 45.3125 60.0625 41.71875 63.234375 \nQ 38.140625 66.40625 31.78125 66.40625 \nQ 25.390625 66.40625 21.84375 63.234375 \nQ 18.3125 60.0625 18.3125 54.390625 \nz\n\" id=\"DejaVuSans-56\"/>\n      </defs>\n      <g transform=\"translate(155.04375 239.238437)scale(0.1 -0.1)\">\n       <use xlink:href=\"#DejaVuSans-56\"/>\n      </g>\n     </g>\n    </g>\n    <g id=\"xtick_10\">\n     <g id=\"line2d_10\">\n      <g>\n       <use style=\"stroke:#000000;stroke-width:0.8;\" x=\"172.175\" xlink:href=\"#m021a3b6fcc\" y=\"224.64\"/>\n      </g>\n     </g>\n     <g id=\"text_10\">\n      <!-- 9 -->\n      <defs>\n       <path d=\"M 10.984375 1.515625 \nL 10.984375 10.5 \nQ 14.703125 8.734375 18.5 7.8125 \nQ 22.3125 6.890625 25.984375 6.890625 \nQ 35.75 6.890625 40.890625 13.453125 \nQ 46.046875 20.015625 46.78125 33.40625 \nQ 43.953125 29.203125 39.59375 26.953125 \nQ 35.25 24.703125 29.984375 24.703125 \nQ 19.046875 24.703125 12.671875 31.3125 \nQ 6.296875 37.9375 6.296875 49.421875 \nQ 6.296875 60.640625 12.9375 67.421875 \nQ 19.578125 74.21875 30.609375 74.21875 \nQ 43.265625 74.21875 49.921875 64.515625 \nQ 56.59375 54.828125 56.59375 36.375 \nQ 56.59375 19.140625 48.40625 8.859375 \nQ 40.234375 -1.421875 26.421875 -1.421875 \nQ 22.703125 -1.421875 18.890625 -0.6875 \nQ 15.09375 0.046875 10.984375 1.515625 \nz\nM 30.609375 32.421875 \nQ 37.25 32.421875 41.125 36.953125 \nQ 45.015625 41.5 45.015625 49.421875 \nQ 45.015625 57.28125 41.125 61.84375 \nQ 37.25 66.40625 30.609375 66.40625 \nQ 23.96875 66.40625 20.09375 61.84375 \nQ 16.21875 57.28125 16.21875 49.421875 \nQ 16.21875 41.5 20.09375 36.953125 \nQ 23.96875 32.421875 30.609375 32.421875 \nz\n\" id=\"DejaVuSans-57\"/>\n      </defs>\n      <g transform=\"translate(168.99375 239.238437)scale(0.1 -0.1)\">\n       <use xlink:href=\"#DejaVuSans-57\"/>\n      </g>\n     </g>\n    </g>\n    <g id=\"xtick_11\">\n     <g id=\"line2d_11\">\n      <g>\n       <use style=\"stroke:#000000;stroke-width:0.8;\" x=\"186.125\" xlink:href=\"#m021a3b6fcc\" y=\"224.64\"/>\n      </g>\n     </g>\n     <g id=\"text_11\">\n      <!-- 10 -->\n      <g transform=\"translate(179.7625 239.238437)scale(0.1 -0.1)\">\n       <use xlink:href=\"#DejaVuSans-49\"/>\n       <use x=\"63.623047\" xlink:href=\"#DejaVuSans-48\"/>\n      </g>\n     </g>\n    </g>\n    <g id=\"xtick_12\">\n     <g id=\"line2d_12\">\n      <g>\n       <use style=\"stroke:#000000;stroke-width:0.8;\" x=\"200.075\" xlink:href=\"#m021a3b6fcc\" y=\"224.64\"/>\n      </g>\n     </g>\n     <g id=\"text_12\">\n      <!-- 11 -->\n      <g transform=\"translate(193.7125 239.238437)scale(0.1 -0.1)\">\n       <use xlink:href=\"#DejaVuSans-49\"/>\n       <use x=\"63.623047\" xlink:href=\"#DejaVuSans-49\"/>\n      </g>\n     </g>\n    </g>\n    <g id=\"xtick_13\">\n     <g id=\"line2d_13\">\n      <g>\n       <use style=\"stroke:#000000;stroke-width:0.8;\" x=\"214.025\" xlink:href=\"#m021a3b6fcc\" y=\"224.64\"/>\n      </g>\n     </g>\n     <g id=\"text_13\">\n      <!-- 12 -->\n      <g transform=\"translate(207.6625 239.238437)scale(0.1 -0.1)\">\n       <use xlink:href=\"#DejaVuSans-49\"/>\n       <use x=\"63.623047\" xlink:href=\"#DejaVuSans-50\"/>\n      </g>\n     </g>\n    </g>\n    <g id=\"xtick_14\">\n     <g id=\"line2d_14\">\n      <g>\n       <use style=\"stroke:#000000;stroke-width:0.8;\" x=\"227.975\" xlink:href=\"#m021a3b6fcc\" y=\"224.64\"/>\n      </g>\n     </g>\n     <g id=\"text_14\">\n      <!-- 13 -->\n      <g transform=\"translate(221.6125 239.238437)scale(0.1 -0.1)\">\n       <use xlink:href=\"#DejaVuSans-49\"/>\n       <use x=\"63.623047\" xlink:href=\"#DejaVuSans-51\"/>\n      </g>\n     </g>\n    </g>\n    <g id=\"xtick_15\">\n     <g id=\"line2d_15\">\n      <g>\n       <use style=\"stroke:#000000;stroke-width:0.8;\" x=\"241.925\" xlink:href=\"#m021a3b6fcc\" y=\"224.64\"/>\n      </g>\n     </g>\n     <g id=\"text_15\">\n      <!-- 14 -->\n      <g transform=\"translate(235.5625 239.238437)scale(0.1 -0.1)\">\n       <use xlink:href=\"#DejaVuSans-49\"/>\n       <use x=\"63.623047\" xlink:href=\"#DejaVuSans-52\"/>\n      </g>\n     </g>\n    </g>\n    <g id=\"xtick_16\">\n     <g id=\"line2d_16\">\n      <g>\n       <use style=\"stroke:#000000;stroke-width:0.8;\" x=\"255.875\" xlink:href=\"#m021a3b6fcc\" y=\"224.64\"/>\n      </g>\n     </g>\n     <g id=\"text_16\">\n      <!-- 15 -->\n      <g transform=\"translate(249.5125 239.238437)scale(0.1 -0.1)\">\n       <use xlink:href=\"#DejaVuSans-49\"/>\n       <use x=\"63.623047\" xlink:href=\"#DejaVuSans-53\"/>\n      </g>\n     </g>\n    </g>\n    <g id=\"xtick_17\">\n     <g id=\"line2d_17\">\n      <g>\n       <use style=\"stroke:#000000;stroke-width:0.8;\" x=\"269.825\" xlink:href=\"#m021a3b6fcc\" y=\"224.64\"/>\n      </g>\n     </g>\n     <g id=\"text_17\">\n      <!-- 16 -->\n      <g transform=\"translate(263.4625 239.238437)scale(0.1 -0.1)\">\n       <use xlink:href=\"#DejaVuSans-49\"/>\n       <use x=\"63.623047\" xlink:href=\"#DejaVuSans-54\"/>\n      </g>\n     </g>\n    </g>\n    <g id=\"xtick_18\">\n     <g id=\"line2d_18\">\n      <g>\n       <use style=\"stroke:#000000;stroke-width:0.8;\" x=\"283.775\" xlink:href=\"#m021a3b6fcc\" y=\"224.64\"/>\n      </g>\n     </g>\n     <g id=\"text_18\">\n      <!-- 17 -->\n      <g transform=\"translate(277.4125 239.238437)scale(0.1 -0.1)\">\n       <use xlink:href=\"#DejaVuSans-49\"/>\n       <use x=\"63.623047\" xlink:href=\"#DejaVuSans-55\"/>\n      </g>\n     </g>\n    </g>\n    <g id=\"xtick_19\">\n     <g id=\"line2d_19\">\n      <g>\n       <use style=\"stroke:#000000;stroke-width:0.8;\" x=\"297.725\" xlink:href=\"#m021a3b6fcc\" y=\"224.64\"/>\n      </g>\n     </g>\n     <g id=\"text_19\">\n      <!-- 18 -->\n      <g transform=\"translate(291.3625 239.238437)scale(0.1 -0.1)\">\n       <use xlink:href=\"#DejaVuSans-49\"/>\n       <use x=\"63.623047\" xlink:href=\"#DejaVuSans-56\"/>\n      </g>\n     </g>\n    </g>\n    <g id=\"xtick_20\">\n     <g id=\"line2d_20\">\n      <g>\n       <use style=\"stroke:#000000;stroke-width:0.8;\" x=\"311.675\" xlink:href=\"#m021a3b6fcc\" y=\"224.64\"/>\n      </g>\n     </g>\n     <g id=\"text_20\">\n      <!-- 19 -->\n      <g transform=\"translate(305.3125 239.238437)scale(0.1 -0.1)\">\n       <use xlink:href=\"#DejaVuSans-49\"/>\n       <use x=\"63.623047\" xlink:href=\"#DejaVuSans-57\"/>\n      </g>\n     </g>\n    </g>\n    <g id=\"xtick_21\">\n     <g id=\"line2d_21\">\n      <g>\n       <use style=\"stroke:#000000;stroke-width:0.8;\" x=\"325.625\" xlink:href=\"#m021a3b6fcc\" y=\"224.64\"/>\n      </g>\n     </g>\n     <g id=\"text_21\">\n      <!-- 20 -->\n      <g transform=\"translate(319.2625 239.238437)scale(0.1 -0.1)\">\n       <use xlink:href=\"#DejaVuSans-50\"/>\n       <use x=\"63.623047\" xlink:href=\"#DejaVuSans-48\"/>\n      </g>\n     </g>\n    </g>\n    <g id=\"xtick_22\">\n     <g id=\"line2d_22\">\n      <g>\n       <use style=\"stroke:#000000;stroke-width:0.8;\" x=\"339.575\" xlink:href=\"#m021a3b6fcc\" y=\"224.64\"/>\n      </g>\n     </g>\n     <g id=\"text_22\">\n      <!-- 21 -->\n      <g transform=\"translate(333.2125 239.238437)scale(0.1 -0.1)\">\n       <use xlink:href=\"#DejaVuSans-50\"/>\n       <use x=\"63.623047\" xlink:href=\"#DejaVuSans-49\"/>\n      </g>\n     </g>\n    </g>\n    <g id=\"xtick_23\">\n     <g id=\"line2d_23\">\n      <g>\n       <use style=\"stroke:#000000;stroke-width:0.8;\" x=\"353.525\" xlink:href=\"#m021a3b6fcc\" y=\"224.64\"/>\n      </g>\n     </g>\n     <g id=\"text_23\">\n      <!-- 22 -->\n      <g transform=\"translate(347.1625 239.238437)scale(0.1 -0.1)\">\n       <use xlink:href=\"#DejaVuSans-50\"/>\n       <use x=\"63.623047\" xlink:href=\"#DejaVuSans-50\"/>\n      </g>\n     </g>\n    </g>\n    <g id=\"xtick_24\">\n     <g id=\"line2d_24\">\n      <g>\n       <use style=\"stroke:#000000;stroke-width:0.8;\" x=\"367.475\" xlink:href=\"#m021a3b6fcc\" y=\"224.64\"/>\n      </g>\n     </g>\n     <g id=\"text_24\">\n      <!-- 23 -->\n      <g transform=\"translate(361.1125 239.238437)scale(0.1 -0.1)\">\n       <use xlink:href=\"#DejaVuSans-50\"/>\n       <use x=\"63.623047\" xlink:href=\"#DejaVuSans-51\"/>\n      </g>\n     </g>\n    </g>\n   </g>\n   <g id=\"matplotlib.axis_2\">\n    <g id=\"ytick_1\">\n     <g id=\"line2d_25\">\n      <defs>\n       <path d=\"M 0 0 \nL -3.5 0 \n\" id=\"m6fabe040c7\" style=\"stroke:#000000;stroke-width:0.8;\"/>\n      </defs>\n      <g>\n       <use style=\"stroke:#000000;stroke-width:0.8;\" x=\"39.65\" xlink:href=\"#m6fabe040c7\" y=\"224.64\"/>\n      </g>\n     </g>\n     <g id=\"text_25\">\n      <!-- 0 -->\n      <g transform=\"translate(26.2875 228.439219)scale(0.1 -0.1)\">\n       <use xlink:href=\"#DejaVuSans-48\"/>\n      </g>\n     </g>\n    </g>\n    <g id=\"ytick_2\">\n     <g id=\"line2d_26\">\n      <g>\n       <use style=\"stroke:#000000;stroke-width:0.8;\" x=\"39.65\" xlink:href=\"#m6fabe040c7\" y=\"182.343081\"/>\n      </g>\n     </g>\n     <g id=\"text_26\">\n      <!-- 500 -->\n      <g transform=\"translate(13.5625 186.1423)scale(0.1 -0.1)\">\n       <use xlink:href=\"#DejaVuSans-53\"/>\n       <use x=\"63.623047\" xlink:href=\"#DejaVuSans-48\"/>\n       <use x=\"127.246094\" xlink:href=\"#DejaVuSans-48\"/>\n      </g>\n     </g>\n    </g>\n    <g id=\"ytick_3\">\n     <g id=\"line2d_27\">\n      <g>\n       <use style=\"stroke:#000000;stroke-width:0.8;\" x=\"39.65\" xlink:href=\"#m6fabe040c7\" y=\"140.046162\"/>\n      </g>\n     </g>\n     <g id=\"text_27\">\n      <!-- 1000 -->\n      <g transform=\"translate(7.2 143.845381)scale(0.1 -0.1)\">\n       <use xlink:href=\"#DejaVuSans-49\"/>\n       <use x=\"63.623047\" xlink:href=\"#DejaVuSans-48\"/>\n       <use x=\"127.246094\" xlink:href=\"#DejaVuSans-48\"/>\n       <use x=\"190.869141\" xlink:href=\"#DejaVuSans-48\"/>\n      </g>\n     </g>\n    </g>\n    <g id=\"ytick_4\">\n     <g id=\"line2d_28\">\n      <g>\n       <use style=\"stroke:#000000;stroke-width:0.8;\" x=\"39.65\" xlink:href=\"#m6fabe040c7\" y=\"97.749244\"/>\n      </g>\n     </g>\n     <g id=\"text_28\">\n      <!-- 1500 -->\n      <g transform=\"translate(7.2 101.548462)scale(0.1 -0.1)\">\n       <use xlink:href=\"#DejaVuSans-49\"/>\n       <use x=\"63.623047\" xlink:href=\"#DejaVuSans-53\"/>\n       <use x=\"127.246094\" xlink:href=\"#DejaVuSans-48\"/>\n       <use x=\"190.869141\" xlink:href=\"#DejaVuSans-48\"/>\n      </g>\n     </g>\n    </g>\n    <g id=\"ytick_5\">\n     <g id=\"line2d_29\">\n      <g>\n       <use style=\"stroke:#000000;stroke-width:0.8;\" x=\"39.65\" xlink:href=\"#m6fabe040c7\" y=\"55.452325\"/>\n      </g>\n     </g>\n     <g id=\"text_29\">\n      <!-- 2000 -->\n      <g transform=\"translate(7.2 59.251544)scale(0.1 -0.1)\">\n       <use xlink:href=\"#DejaVuSans-50\"/>\n       <use x=\"63.623047\" xlink:href=\"#DejaVuSans-48\"/>\n       <use x=\"127.246094\" xlink:href=\"#DejaVuSans-48\"/>\n       <use x=\"190.869141\" xlink:href=\"#DejaVuSans-48\"/>\n      </g>\n     </g>\n    </g>\n    <g id=\"ytick_6\">\n     <g id=\"line2d_30\">\n      <g>\n       <use style=\"stroke:#000000;stroke-width:0.8;\" x=\"39.65\" xlink:href=\"#m6fabe040c7\" y=\"13.155406\"/>\n      </g>\n     </g>\n     <g id=\"text_30\">\n      <!-- 2500 -->\n      <g transform=\"translate(7.2 16.954625)scale(0.1 -0.1)\">\n       <use xlink:href=\"#DejaVuSans-50\"/>\n       <use x=\"63.623047\" xlink:href=\"#DejaVuSans-53\"/>\n       <use x=\"127.246094\" xlink:href=\"#DejaVuSans-48\"/>\n       <use x=\"190.869141\" xlink:href=\"#DejaVuSans-48\"/>\n      </g>\n     </g>\n    </g>\n   </g>\n   <g id=\"line2d_31\">\n    <path clip-path=\"url(#p8453c2f175)\" d=\"M 0 0 \n\" style=\"fill:none;stroke:#424242;stroke-linecap:square;stroke-width:2.7;\"/>\n   </g>\n   <g id=\"line2d_32\">\n    <path clip-path=\"url(#p8453c2f175)\" d=\"M 0 0 \n\" style=\"fill:none;stroke:#424242;stroke-linecap:square;stroke-width:2.7;\"/>\n   </g>\n   <g id=\"line2d_33\">\n    <path clip-path=\"url(#p8453c2f175)\" d=\"M 0 0 \n\" style=\"fill:none;stroke:#424242;stroke-linecap:square;stroke-width:2.7;\"/>\n   </g>\n   <g id=\"line2d_34\">\n    <path clip-path=\"url(#p8453c2f175)\" d=\"M 0 0 \n\" style=\"fill:none;stroke:#424242;stroke-linecap:square;stroke-width:2.7;\"/>\n   </g>\n   <g id=\"line2d_35\">\n    <path clip-path=\"url(#p8453c2f175)\" d=\"M 0 0 \n\" style=\"fill:none;stroke:#424242;stroke-linecap:square;stroke-width:2.7;\"/>\n   </g>\n   <g id=\"line2d_36\">\n    <path clip-path=\"url(#p8453c2f175)\" d=\"M 0 0 \n\" style=\"fill:none;stroke:#424242;stroke-linecap:square;stroke-width:2.7;\"/>\n   </g>\n   <g id=\"line2d_37\">\n    <path clip-path=\"url(#p8453c2f175)\" d=\"M 0 0 \n\" style=\"fill:none;stroke:#424242;stroke-linecap:square;stroke-width:2.7;\"/>\n   </g>\n   <g id=\"line2d_38\">\n    <path clip-path=\"url(#p8453c2f175)\" d=\"M 0 0 \n\" style=\"fill:none;stroke:#424242;stroke-linecap:square;stroke-width:2.7;\"/>\n   </g>\n   <g id=\"line2d_39\">\n    <path clip-path=\"url(#p8453c2f175)\" d=\"M 0 0 \n\" style=\"fill:none;stroke:#424242;stroke-linecap:square;stroke-width:2.7;\"/>\n   </g>\n   <g id=\"line2d_40\">\n    <path clip-path=\"url(#p8453c2f175)\" d=\"M 0 0 \n\" style=\"fill:none;stroke:#424242;stroke-linecap:square;stroke-width:2.7;\"/>\n   </g>\n   <g id=\"line2d_41\">\n    <path clip-path=\"url(#p8453c2f175)\" d=\"M 0 0 \n\" style=\"fill:none;stroke:#424242;stroke-linecap:square;stroke-width:2.7;\"/>\n   </g>\n   <g id=\"line2d_42\">\n    <path clip-path=\"url(#p8453c2f175)\" d=\"M 0 0 \n\" style=\"fill:none;stroke:#424242;stroke-linecap:square;stroke-width:2.7;\"/>\n   </g>\n   <g id=\"line2d_43\">\n    <path clip-path=\"url(#p8453c2f175)\" d=\"M 0 0 \n\" style=\"fill:none;stroke:#424242;stroke-linecap:square;stroke-width:2.7;\"/>\n   </g>\n   <g id=\"line2d_44\">\n    <path clip-path=\"url(#p8453c2f175)\" d=\"M 0 0 \n\" style=\"fill:none;stroke:#424242;stroke-linecap:square;stroke-width:2.7;\"/>\n   </g>\n   <g id=\"line2d_45\">\n    <path clip-path=\"url(#p8453c2f175)\" d=\"M 0 0 \n\" style=\"fill:none;stroke:#424242;stroke-linecap:square;stroke-width:2.7;\"/>\n   </g>\n   <g id=\"line2d_46\">\n    <path clip-path=\"url(#p8453c2f175)\" d=\"M 0 0 \n\" style=\"fill:none;stroke:#424242;stroke-linecap:square;stroke-width:2.7;\"/>\n   </g>\n   <g id=\"line2d_47\">\n    <path clip-path=\"url(#p8453c2f175)\" d=\"M 0 0 \n\" style=\"fill:none;stroke:#424242;stroke-linecap:square;stroke-width:2.7;\"/>\n   </g>\n   <g id=\"line2d_48\">\n    <path clip-path=\"url(#p8453c2f175)\" d=\"M 0 0 \n\" style=\"fill:none;stroke:#424242;stroke-linecap:square;stroke-width:2.7;\"/>\n   </g>\n   <g id=\"line2d_49\">\n    <path clip-path=\"url(#p8453c2f175)\" d=\"M 0 0 \n\" style=\"fill:none;stroke:#424242;stroke-linecap:square;stroke-width:2.7;\"/>\n   </g>\n   <g id=\"line2d_50\">\n    <path clip-path=\"url(#p8453c2f175)\" d=\"M 0 0 \n\" style=\"fill:none;stroke:#424242;stroke-linecap:square;stroke-width:2.7;\"/>\n   </g>\n   <g id=\"line2d_51\">\n    <path clip-path=\"url(#p8453c2f175)\" d=\"M 0 0 \n\" style=\"fill:none;stroke:#424242;stroke-linecap:square;stroke-width:2.7;\"/>\n   </g>\n   <g id=\"line2d_52\">\n    <path clip-path=\"url(#p8453c2f175)\" d=\"M 0 0 \n\" style=\"fill:none;stroke:#424242;stroke-linecap:square;stroke-width:2.7;\"/>\n   </g>\n   <g id=\"line2d_53\">\n    <path clip-path=\"url(#p8453c2f175)\" d=\"M 0 0 \n\" style=\"fill:none;stroke:#424242;stroke-linecap:square;stroke-width:2.7;\"/>\n   </g>\n   <g id=\"line2d_54\">\n    <path clip-path=\"url(#p8453c2f175)\" d=\"M 0 0 \n\" style=\"fill:none;stroke:#424242;stroke-linecap:square;stroke-width:2.7;\"/>\n   </g>\n   <g id=\"patch_27\">\n    <path d=\"M 39.65 224.64 \nL 39.65 7.2 \n\" style=\"fill:none;stroke:#000000;stroke-linecap:square;stroke-linejoin:miter;stroke-width:0.8;\"/>\n   </g>\n   <g id=\"patch_28\">\n    <path d=\"M 374.45 224.64 \nL 374.45 7.2 \n\" style=\"fill:none;stroke:#000000;stroke-linecap:square;stroke-linejoin:miter;stroke-width:0.8;\"/>\n   </g>\n   <g id=\"patch_29\">\n    <path d=\"M 39.65 224.64 \nL 374.45 224.64 \n\" style=\"fill:none;stroke:#000000;stroke-linecap:square;stroke-linejoin:miter;stroke-width:0.8;\"/>\n   </g>\n   <g id=\"patch_30\">\n    <path d=\"M 39.65 7.2 \nL 374.45 7.2 \n\" style=\"fill:none;stroke:#000000;stroke-linecap:square;stroke-linejoin:miter;stroke-width:0.8;\"/>\n   </g>\n  </g>\n </g>\n <defs>\n  <clipPath id=\"p8453c2f175\">\n   <rect height=\"217.44\" width=\"334.8\" x=\"39.65\" y=\"7.2\"/>\n  </clipPath>\n </defs>\n</svg>\n",
      "image/png": "[encoded data removed]"
     },
     "metadata": {
      "needs_background": "light"
     }
    }
   ],
   "source": [
    "import seaborn as sns\n",
    "count = train_tp_ps['species_id'].value_counts()\n",
    "sns.barplot(count.index, count.values)"
   ]
  },
  {
   "cell_type": "code",
   "execution_count": 12,
   "metadata": {},
   "outputs": [],
   "source": [
    "train_tp_ps3 = train_tp_ps2.sample(1000)"
   ]
  },
  {
   "cell_type": "code",
   "execution_count": 14,
   "metadata": {},
   "outputs": [],
   "source": [
    "train_tp_ps2.to_csv(\"./input/rfcx-species-audio-detection/train_tp_frame_ps.csv\", index=False)"
   ]
  },
  {
   "cell_type": "code",
   "execution_count": 15,
   "metadata": {},
   "outputs": [
    {
     "output_type": "execute_result",
     "data": {
      "text/plain": [
       "     recording_id  species_id  t_min      t_max\n",
       "0       003bec244           3  10.00  15.976562\n",
       "1       003bec244           7  13.75  17.468750\n",
       "2       003bec244           7  20.00  28.218750\n",
       "3       003bec244           7  40.00  43.718750\n",
       "4       003bec244           7  53.75  58.218750\n",
       "...           ...         ...    ...        ...\n",
       "7752    ffb9a7b9a          18  10.00  17.468750\n",
       "7753    ffb9a7b9a          18  20.00  27.468750\n",
       "7754    ffb9a7b9a          18  30.00  38.218750\n",
       "7755    ffb9a7b9a          18  40.00  47.468750\n",
       "7756    ffb9a7b9a          18  50.00  54.468750\n",
       "\n",
       "[7757 rows x 4 columns]"
      ],
      "text/html": "<div>\n<style scoped>\n    .dataframe tbody tr th:only-of-type {\n        vertical-align: middle;\n    }\n\n    .dataframe tbody tr th {\n        vertical-align: top;\n    }\n\n    .dataframe thead th {\n        text-align: right;\n    }\n</style>\n<table border=\"1\" class=\"dataframe\">\n  <thead>\n    <tr style=\"text-align: right;\">\n      <th></th>\n      <th>recording_id</th>\n      <th>species_id</th>\n      <th>t_min</th>\n      <th>t_max</th>\n    </tr>\n  </thead>\n  <tbody>\n    <tr>\n      <td>0</td>\n      <td>003bec244</td>\n      <td>3</td>\n      <td>10.00</td>\n      <td>15.976562</td>\n    </tr>\n    <tr>\n      <td>1</td>\n      <td>003bec244</td>\n      <td>7</td>\n      <td>13.75</td>\n      <td>17.468750</td>\n    </tr>\n    <tr>\n      <td>2</td>\n      <td>003bec244</td>\n      <td>7</td>\n      <td>20.00</td>\n      <td>28.218750</td>\n    </tr>\n    <tr>\n      <td>3</td>\n      <td>003bec244</td>\n      <td>7</td>\n      <td>40.00</td>\n      <td>43.718750</td>\n    </tr>\n    <tr>\n      <td>4</td>\n      <td>003bec244</td>\n      <td>7</td>\n      <td>53.75</td>\n      <td>58.218750</td>\n    </tr>\n    <tr>\n      <td>...</td>\n      <td>...</td>\n      <td>...</td>\n      <td>...</td>\n      <td>...</td>\n    </tr>\n    <tr>\n      <td>7752</td>\n      <td>ffb9a7b9a</td>\n      <td>18</td>\n      <td>10.00</td>\n      <td>17.468750</td>\n    </tr>\n    <tr>\n      <td>7753</td>\n      <td>ffb9a7b9a</td>\n      <td>18</td>\n      <td>20.00</td>\n      <td>27.468750</td>\n    </tr>\n    <tr>\n      <td>7754</td>\n      <td>ffb9a7b9a</td>\n      <td>18</td>\n      <td>30.00</td>\n      <td>38.218750</td>\n    </tr>\n    <tr>\n      <td>7755</td>\n      <td>ffb9a7b9a</td>\n      <td>18</td>\n      <td>40.00</td>\n      <td>47.468750</td>\n    </tr>\n    <tr>\n      <td>7756</td>\n      <td>ffb9a7b9a</td>\n      <td>18</td>\n      <td>50.00</td>\n      <td>54.468750</td>\n    </tr>\n  </tbody>\n</table>\n<p>7757 rows × 4 columns</p>\n</div>"
     },
     "metadata": {},
     "execution_count": 15
    }
   ],
   "source": [
    "import pandas as pd\n",
    "train_tp_ps = pd.read_csv(\"./input/rfcx-species-audio-detection/train_tp_frame_ps.csv\")\n",
    "train_tp_ps"
   ]
  },
  {
   "cell_type": "code",
   "execution_count": 45,
   "metadata": {},
   "outputs": [],
   "source": [
    "label_columns = [i for i in range(24)]"
   ]
  },
  {
   "cell_type": "code",
   "execution_count": 47,
   "metadata": {},
   "outputs": [],
   "source": [
    "temp = pd.DataFrame(columns=label_columns)"
   ]
  },
  {
   "cell_type": "code",
   "execution_count": 49,
   "metadata": {},
   "outputs": [],
   "source": [
    "train_tp_ps2 = pd.concat([train_tp_ps, temp])"
   ]
  },
  {
   "cell_type": "code",
   "execution_count": 51,
   "metadata": {},
   "outputs": [
    {
     "output_type": "execute_result",
     "data": {
      "text/plain": [
       "      0  1  2  3  4  5  6  7  8  9  ...  18  19  20  21  22  23  recording_id  \\\n",
       "0     0  0  0  1  0  0  0  0  0  0  ...   0   0   0   0   0   0     003bec244   \n",
       "1     0  0  0  0  0  0  0  1  0  0  ...   0   0   0   0   0   0     003bec244   \n",
       "2     0  0  0  0  0  0  0  1  0  0  ...   0   0   0   0   0   0     003bec244   \n",
       "3     0  0  0  0  0  0  0  1  0  0  ...   0   0   0   0   0   0     003bec244   \n",
       "4     0  0  0  0  0  0  0  1  0  0  ...   0   0   0   0   0   0     003bec244   \n",
       "...  .. .. .. .. .. .. .. .. .. ..  ...  ..  ..  ..  ..  ..  ..           ...   \n",
       "7752  0  0  0  0  0  0  0  0  0  0  ...   1   0   0   0   0   0     ffb9a7b9a   \n",
       "7753  0  0  0  0  0  0  0  0  0  0  ...   1   0   0   0   0   0     ffb9a7b9a   \n",
       "7754  0  0  0  0  0  0  0  0  0  0  ...   1   0   0   0   0   0     ffb9a7b9a   \n",
       "7755  0  0  0  0  0  0  0  0  0  0  ...   1   0   0   0   0   0     ffb9a7b9a   \n",
       "7756  0  0  0  0  0  0  0  0  0  0  ...   1   0   0   0   0   0     ffb9a7b9a   \n",
       "\n",
       "      species_id      t_max  t_min  \n",
       "0            3.0  15.976562  10.00  \n",
       "1            7.0  17.468750  13.75  \n",
       "2            7.0  28.218750  20.00  \n",
       "3            7.0  43.718750  40.00  \n",
       "4            7.0  58.218750  53.75  \n",
       "...          ...        ...    ...  \n",
       "7752        18.0  17.468750  10.00  \n",
       "7753        18.0  27.468750  20.00  \n",
       "7754        18.0  38.218750  30.00  \n",
       "7755        18.0  47.468750  40.00  \n",
       "7756        18.0  54.468750  50.00  \n",
       "\n",
       "[7757 rows x 28 columns]"
      ],
      "text/html": "<div>\n<style scoped>\n    .dataframe tbody tr th:only-of-type {\n        vertical-align: middle;\n    }\n\n    .dataframe tbody tr th {\n        vertical-align: top;\n    }\n\n    .dataframe thead th {\n        text-align: right;\n    }\n</style>\n<table border=\"1\" class=\"dataframe\">\n  <thead>\n    <tr style=\"text-align: right;\">\n      <th></th>\n      <th>0</th>\n      <th>1</th>\n      <th>2</th>\n      <th>3</th>\n      <th>4</th>\n      <th>5</th>\n      <th>6</th>\n      <th>7</th>\n      <th>8</th>\n      <th>9</th>\n      <th>...</th>\n      <th>18</th>\n      <th>19</th>\n      <th>20</th>\n      <th>21</th>\n      <th>22</th>\n      <th>23</th>\n      <th>recording_id</th>\n      <th>species_id</th>\n      <th>t_max</th>\n      <th>t_min</th>\n    </tr>\n  </thead>\n  <tbody>\n    <tr>\n      <td>0</td>\n      <td>0</td>\n      <td>0</td>\n      <td>0</td>\n      <td>1</td>\n      <td>0</td>\n      <td>0</td>\n      <td>0</td>\n      <td>0</td>\n      <td>0</td>\n      <td>0</td>\n      <td>...</td>\n      <td>0</td>\n      <td>0</td>\n      <td>0</td>\n      <td>0</td>\n      <td>0</td>\n      <td>0</td>\n      <td>003bec244</td>\n      <td>3.0</td>\n      <td>15.976562</td>\n      <td>10.00</td>\n    </tr>\n    <tr>\n      <td>1</td>\n      <td>0</td>\n      <td>0</td>\n      <td>0</td>\n      <td>0</td>\n      <td>0</td>\n      <td>0</td>\n      <td>0</td>\n      <td>1</td>\n      <td>0</td>\n      <td>0</td>\n      <td>...</td>\n      <td>0</td>\n      <td>0</td>\n      <td>0</td>\n      <td>0</td>\n      <td>0</td>\n      <td>0</td>\n      <td>003bec244</td>\n      <td>7.0</td>\n      <td>17.468750</td>\n      <td>13.75</td>\n    </tr>\n    <tr>\n      <td>2</td>\n      <td>0</td>\n      <td>0</td>\n      <td>0</td>\n      <td>0</td>\n      <td>0</td>\n      <td>0</td>\n      <td>0</td>\n      <td>1</td>\n      <td>0</td>\n      <td>0</td>\n      <td>...</td>\n      <td>0</td>\n      <td>0</td>\n      <td>0</td>\n      <td>0</td>\n      <td>0</td>\n      <td>0</td>\n      <td>003bec244</td>\n      <td>7.0</td>\n      <td>28.218750</td>\n      <td>20.00</td>\n    </tr>\n    <tr>\n      <td>3</td>\n      <td>0</td>\n      <td>0</td>\n      <td>0</td>\n      <td>0</td>\n      <td>0</td>\n      <td>0</td>\n      <td>0</td>\n      <td>1</td>\n      <td>0</td>\n      <td>0</td>\n      <td>...</td>\n      <td>0</td>\n      <td>0</td>\n      <td>0</td>\n      <td>0</td>\n      <td>0</td>\n      <td>0</td>\n      <td>003bec244</td>\n      <td>7.0</td>\n      <td>43.718750</td>\n      <td>40.00</td>\n    </tr>\n    <tr>\n      <td>4</td>\n      <td>0</td>\n      <td>0</td>\n      <td>0</td>\n      <td>0</td>\n      <td>0</td>\n      <td>0</td>\n      <td>0</td>\n      <td>1</td>\n      <td>0</td>\n      <td>0</td>\n      <td>...</td>\n      <td>0</td>\n      <td>0</td>\n      <td>0</td>\n      <td>0</td>\n      <td>0</td>\n      <td>0</td>\n      <td>003bec244</td>\n      <td>7.0</td>\n      <td>58.218750</td>\n      <td>53.75</td>\n    </tr>\n    <tr>\n      <td>...</td>\n      <td>...</td>\n      <td>...</td>\n      <td>...</td>\n      <td>...</td>\n      <td>...</td>\n      <td>...</td>\n      <td>...</td>\n      <td>...</td>\n      <td>...</td>\n      <td>...</td>\n      <td>...</td>\n      <td>...</td>\n      <td>...</td>\n      <td>...</td>\n      <td>...</td>\n      <td>...</td>\n      <td>...</td>\n      <td>...</td>\n      <td>...</td>\n      <td>...</td>\n      <td>...</td>\n    </tr>\n    <tr>\n      <td>7752</td>\n      <td>0</td>\n      <td>0</td>\n      <td>0</td>\n      <td>0</td>\n      <td>0</td>\n      <td>0</td>\n      <td>0</td>\n      <td>0</td>\n      <td>0</td>\n      <td>0</td>\n      <td>...</td>\n      <td>1</td>\n      <td>0</td>\n      <td>0</td>\n      <td>0</td>\n      <td>0</td>\n      <td>0</td>\n      <td>ffb9a7b9a</td>\n      <td>18.0</td>\n      <td>17.468750</td>\n      <td>10.00</td>\n    </tr>\n    <tr>\n      <td>7753</td>\n      <td>0</td>\n      <td>0</td>\n      <td>0</td>\n      <td>0</td>\n      <td>0</td>\n      <td>0</td>\n      <td>0</td>\n      <td>0</td>\n      <td>0</td>\n      <td>0</td>\n      <td>...</td>\n      <td>1</td>\n      <td>0</td>\n      <td>0</td>\n      <td>0</td>\n      <td>0</td>\n      <td>0</td>\n      <td>ffb9a7b9a</td>\n      <td>18.0</td>\n      <td>27.468750</td>\n      <td>20.00</td>\n    </tr>\n    <tr>\n      <td>7754</td>\n      <td>0</td>\n      <td>0</td>\n      <td>0</td>\n      <td>0</td>\n      <td>0</td>\n      <td>0</td>\n      <td>0</td>\n      <td>0</td>\n      <td>0</td>\n      <td>0</td>\n      <td>...</td>\n      <td>1</td>\n      <td>0</td>\n      <td>0</td>\n      <td>0</td>\n      <td>0</td>\n      <td>0</td>\n      <td>ffb9a7b9a</td>\n      <td>18.0</td>\n      <td>38.218750</td>\n      <td>30.00</td>\n    </tr>\n    <tr>\n      <td>7755</td>\n      <td>0</td>\n      <td>0</td>\n      <td>0</td>\n      <td>0</td>\n      <td>0</td>\n      <td>0</td>\n      <td>0</td>\n      <td>0</td>\n      <td>0</td>\n      <td>0</td>\n      <td>...</td>\n      <td>1</td>\n      <td>0</td>\n      <td>0</td>\n      <td>0</td>\n      <td>0</td>\n      <td>0</td>\n      <td>ffb9a7b9a</td>\n      <td>18.0</td>\n      <td>47.468750</td>\n      <td>40.00</td>\n    </tr>\n    <tr>\n      <td>7756</td>\n      <td>0</td>\n      <td>0</td>\n      <td>0</td>\n      <td>0</td>\n      <td>0</td>\n      <td>0</td>\n      <td>0</td>\n      <td>0</td>\n      <td>0</td>\n      <td>0</td>\n      <td>...</td>\n      <td>1</td>\n      <td>0</td>\n      <td>0</td>\n      <td>0</td>\n      <td>0</td>\n      <td>0</td>\n      <td>ffb9a7b9a</td>\n      <td>18.0</td>\n      <td>54.468750</td>\n      <td>50.00</td>\n    </tr>\n  </tbody>\n</table>\n<p>7757 rows × 28 columns</p>\n</div>"
     },
     "metadata": {},
     "execution_count": 51
    }
   ],
   "source": [
    "train_tp_ps2[label_columns] = np.identity(24)[train_tp_ps['species_id'].values].astype(int)\n",
    "train_tp_ps2"
   ]
  },
  {
   "cell_type": "code",
   "execution_count": 59,
   "metadata": {},
   "outputs": [
    {
     "output_type": "execute_result",
     "data": {
      "text/plain": [
       "<matplotlib.axes._subplots.AxesSubplot at 0x7f627a62af50>"
      ]
     },
     "metadata": {},
     "execution_count": 59
    },
    {
     "output_type": "display_data",
     "data": {
      "text/plain": "<Figure size 432x288 with 1 Axes>",
      "image/svg+xml": "<?xml version=\"1.0\" encoding=\"utf-8\" standalone=\"no\"?>\n<!DOCTYPE svg PUBLIC \"-//W3C//DTD SVG 1.1//EN\"\n  \"http://www.w3.org/Graphics/SVG/1.1/DTD/svg11.dtd\">\n<!-- Created with matplotlib (https://matplotlib.org/) -->\n<svg height=\"248.518125pt\" version=\"1.1\" viewBox=\"0 0 381.65 248.518125\" width=\"381.65pt\" xmlns=\"http://www.w3.org/2000/svg\" xmlns:xlink=\"http://www.w3.org/1999/xlink\">\n <defs>\n  <style type=\"text/css\">\n*{stroke-linecap:butt;stroke-linejoin:round;}\n  </style>\n </defs>\n <g id=\"figure_1\">\n  <g id=\"patch_1\">\n   <path d=\"M -0 248.518125 \nL 381.65 248.518125 \nL 381.65 0 \nL -0 0 \nz\n\" style=\"fill:none;\"/>\n  </g>\n  <g id=\"axes_1\">\n   <g id=\"patch_2\">\n    <path d=\"M 39.65 224.64 \nL 374.45 224.64 \nL 374.45 7.2 \nL 39.65 7.2 \nz\n\" style=\"fill:#ffffff;\"/>\n   </g>\n   <g id=\"patch_3\">\n    <path clip-path=\"url(#pc88e1ab7b4)\" d=\"M 41.045 224.64 \nL 52.205 224.64 \nL 52.205 179.224764 \nL 41.045 179.224764 \nz\n\" style=\"fill:#ea96a3;\"/>\n   </g>\n   <g id=\"patch_4\">\n    <path clip-path=\"url(#pc88e1ab7b4)\" d=\"M 54.995 224.64 \nL 66.155 224.64 \nL 66.155 162.727776 \nL 54.995 162.727776 \nz\n\" style=\"fill:#e8968a;\"/>\n   </g>\n   <g id=\"patch_5\">\n    <path clip-path=\"url(#pc88e1ab7b4)\" d=\"M 68.945 224.64 \nL 80.105 224.64 \nL 80.105 190.675614 \nL 68.945 190.675614 \nz\n\" style=\"fill:#e19153;\"/>\n   </g>\n   <g id=\"patch_6\">\n    <path clip-path=\"url(#pc88e1ab7b4)\" d=\"M 82.895 224.64 \nL 94.055 224.64 \nL 94.055 17.554286 \nL 82.895 17.554286 \nz\n\" style=\"fill:#ca984c;\"/>\n   </g>\n   <g id=\"patch_7\">\n    <path clip-path=\"url(#pc88e1ab7b4)\" d=\"M 96.845 224.64 \nL 108.005 224.64 \nL 108.005 145.260378 \nL 96.845 145.260378 \nz\n\" style=\"fill:#b89c49;\"/>\n   </g>\n   <g id=\"patch_8\">\n    <path clip-path=\"url(#pc88e1ab7b4)\" d=\"M 110.795 224.64 \nL 121.955 224.64 \nL 121.955 195.915833 \nL 110.795 195.915833 \nz\n\" style=\"fill:#a89e47;\"/>\n   </g>\n   <g id=\"patch_9\">\n    <path clip-path=\"url(#pc88e1ab7b4)\" d=\"M 124.745 224.64 \nL 135.905 224.64 \nL 135.905 204.261368 \nL 124.745 204.261368 \nz\n\" style=\"fill:#98a246;\"/>\n   </g>\n   <g id=\"patch_10\">\n    <path clip-path=\"url(#pc88e1ab7b4)\" d=\"M 138.695 224.64 \nL 149.855 224.64 \nL 149.855 114.595389 \nL 138.695 114.595389 \nz\n\" style=\"fill:#84a846;\"/>\n   </g>\n   <g id=\"patch_11\">\n    <path clip-path=\"url(#pc88e1ab7b4)\" d=\"M 152.645 224.64 \nL 163.805 224.64 \nL 163.805 143.513638 \nL 152.645 143.513638 \nz\n\" style=\"fill:#60ae47;\"/>\n   </g>\n   <g id=\"patch_12\">\n    <path clip-path=\"url(#pc88e1ab7b4)\" d=\"M 166.595 224.64 \nL 177.755 224.64 \nL 177.755 195.915833 \nL 166.595 195.915833 \nz\n\" style=\"fill:#49af72;\"/>\n   </g>\n   <g id=\"patch_13\">\n    <path clip-path=\"url(#pc88e1ab7b4)\" d=\"M 180.545 224.64 \nL 191.705 224.64 \nL 191.705 190.675614 \nL 180.545 190.675614 \nz\n\" style=\"fill:#4aae8a;\"/>\n   </g>\n   <g id=\"patch_14\">\n    <path clip-path=\"url(#pc88e1ab7b4)\" d=\"M 194.495 224.64 \nL 205.655 224.64 \nL 205.655 141.96098 \nL 194.495 141.96098 \nz\n\" style=\"fill:#4aac99;\"/>\n   </g>\n   <g id=\"patch_15\">\n    <path clip-path=\"url(#pc88e1ab7b4)\" d=\"M 208.445 224.64 \nL 219.605 224.64 \nL 219.605 116.924375 \nL 208.445 116.924375 \nz\n\" style=\"fill:#4baba4;\"/>\n   </g>\n   <g id=\"patch_16\">\n    <path clip-path=\"url(#pc88e1ab7b4)\" d=\"M 222.395 224.64 \nL 233.555 224.64 \nL 233.555 178.642517 \nL 222.395 178.642517 \nz\n\" style=\"fill:#4cabaf;\"/>\n   </g>\n   <g id=\"patch_17\">\n    <path clip-path=\"url(#pc88e1ab7b4)\" d=\"M 236.345 224.64 \nL 247.505 224.64 \nL 247.505 187.376216 \nL 236.345 187.376216 \nz\n\" style=\"fill:#4fabbc;\"/>\n   </g>\n   <g id=\"patch_18\">\n    <path clip-path=\"url(#pc88e1ab7b4)\" d=\"M 250.295 224.64 \nL 261.455 224.64 \nL 261.455 187.376216 \nL 250.295 187.376216 \nz\n\" style=\"fill:#53accd;\"/>\n   </g>\n   <g id=\"patch_19\">\n    <path clip-path=\"url(#pc88e1ab7b4)\" d=\"M 264.245 224.64 \nL 275.405 224.64 \nL 275.405 180.389257 \nL 264.245 180.389257 \nz\n\" style=\"fill:#6daee2;\"/>\n   </g>\n   <g id=\"patch_20\">\n    <path clip-path=\"url(#pc88e1ab7b4)\" d=\"M 278.195 224.64 \nL 289.355 224.64 \nL 289.355 187.182134 \nL 278.195 187.182134 \nz\n\" style=\"fill:#9bade9;\"/>\n   </g>\n   <g id=\"patch_21\">\n    <path clip-path=\"url(#pc88e1ab7b4)\" d=\"M 292.145 224.64 \nL 303.305 224.64 \nL 303.305 102.36821 \nL 292.145 102.36821 \nz\n\" style=\"fill:#b6a8eb;\"/>\n   </g>\n   <g id=\"patch_22\">\n    <path clip-path=\"url(#pc88e1ab7b4)\" d=\"M 306.095 224.64 \nL 317.255 224.64 \nL 317.255 216.294465 \nL 306.095 216.294465 \nz\n\" style=\"fill:#ca9ee9;\"/>\n   </g>\n   <g id=\"patch_23\">\n    <path clip-path=\"url(#pc88e1ab7b4)\" d=\"M 320.045 224.64 \nL 331.205 224.64 \nL 331.205 192.810518 \nL 320.045 192.810518 \nz\n\" style=\"fill:#df8fe7;\"/>\n   </g>\n   <g id=\"patch_24\">\n    <path clip-path=\"url(#pc88e1ab7b4)\" d=\"M 333.995 224.64 \nL 345.155 224.64 \nL 345.155 114.983553 \nL 333.995 114.983553 \nz\n\" style=\"fill:#e78cd7;\"/>\n   </g>\n   <g id=\"patch_25\">\n    <path clip-path=\"url(#pc88e1ab7b4)\" d=\"M 347.945 224.64 \nL 359.105 224.64 \nL 359.105 206.978519 \nL 347.945 206.978519 \nz\n\" style=\"fill:#e890c6;\"/>\n   </g>\n   <g id=\"patch_26\">\n    <path clip-path=\"url(#pc88e1ab7b4)\" d=\"M 361.895 224.64 \nL 373.055 224.64 \nL 373.055 132.25687 \nL 361.895 132.25687 \nz\n\" style=\"fill:#e993b6;\"/>\n   </g>\n   <g id=\"matplotlib.axis_1\">\n    <g id=\"xtick_1\">\n     <g id=\"line2d_1\">\n      <defs>\n       <path d=\"M 0 0 \nL 0 3.5 \n\" id=\"m378387c79d\" style=\"stroke:#000000;stroke-width:0.8;\"/>\n      </defs>\n      <g>\n       <use style=\"stroke:#000000;stroke-width:0.8;\" x=\"46.625\" xlink:href=\"#m378387c79d\" y=\"224.64\"/>\n      </g>\n     </g>\n     <g id=\"text_1\">\n      <!-- 0 -->\n      <defs>\n       <path d=\"M 31.78125 66.40625 \nQ 24.171875 66.40625 20.328125 58.90625 \nQ 16.5 51.421875 16.5 36.375 \nQ 16.5 21.390625 20.328125 13.890625 \nQ 24.171875 6.390625 31.78125 6.390625 \nQ 39.453125 6.390625 43.28125 13.890625 \nQ 47.125 21.390625 47.125 36.375 \nQ 47.125 51.421875 43.28125 58.90625 \nQ 39.453125 66.40625 31.78125 66.40625 \nz\nM 31.78125 74.21875 \nQ 44.046875 74.21875 50.515625 64.515625 \nQ 56.984375 54.828125 56.984375 36.375 \nQ 56.984375 17.96875 50.515625 8.265625 \nQ 44.046875 -1.421875 31.78125 -1.421875 \nQ 19.53125 -1.421875 13.0625 8.265625 \nQ 6.59375 17.96875 6.59375 36.375 \nQ 6.59375 54.828125 13.0625 64.515625 \nQ 19.53125 74.21875 31.78125 74.21875 \nz\n\" id=\"DejaVuSans-48\"/>\n      </defs>\n      <g transform=\"translate(43.44375 239.238437)scale(0.1 -0.1)\">\n       <use xlink:href=\"#DejaVuSans-48\"/>\n      </g>\n     </g>\n    </g>\n    <g id=\"xtick_2\">\n     <g id=\"line2d_2\">\n      <g>\n       <use style=\"stroke:#000000;stroke-width:0.8;\" x=\"60.575\" xlink:href=\"#m378387c79d\" y=\"224.64\"/>\n      </g>\n     </g>\n     <g id=\"text_2\">\n      <!-- 1 -->\n      <defs>\n       <path d=\"M 12.40625 8.296875 \nL 28.515625 8.296875 \nL 28.515625 63.921875 \nL 10.984375 60.40625 \nL 10.984375 69.390625 \nL 28.421875 72.90625 \nL 38.28125 72.90625 \nL 38.28125 8.296875 \nL 54.390625 8.296875 \nL 54.390625 0 \nL 12.40625 0 \nz\n\" id=\"DejaVuSans-49\"/>\n      </defs>\n      <g transform=\"translate(57.39375 239.238437)scale(0.1 -0.1)\">\n       <use xlink:href=\"#DejaVuSans-49\"/>\n      </g>\n     </g>\n    </g>\n    <g id=\"xtick_3\">\n     <g id=\"line2d_3\">\n      <g>\n       <use style=\"stroke:#000000;stroke-width:0.8;\" x=\"74.525\" xlink:href=\"#m378387c79d\" y=\"224.64\"/>\n      </g>\n     </g>\n     <g id=\"text_3\">\n      <!-- 2 -->\n      <defs>\n       <path d=\"M 19.1875 8.296875 \nL 53.609375 8.296875 \nL 53.609375 0 \nL 7.328125 0 \nL 7.328125 8.296875 \nQ 12.9375 14.109375 22.625 23.890625 \nQ 32.328125 33.6875 34.8125 36.53125 \nQ 39.546875 41.84375 41.421875 45.53125 \nQ 43.3125 49.21875 43.3125 52.78125 \nQ 43.3125 58.59375 39.234375 62.25 \nQ 35.15625 65.921875 28.609375 65.921875 \nQ 23.96875 65.921875 18.8125 64.3125 \nQ 13.671875 62.703125 7.8125 59.421875 \nL 7.8125 69.390625 \nQ 13.765625 71.78125 18.9375 73 \nQ 24.125 74.21875 28.421875 74.21875 \nQ 39.75 74.21875 46.484375 68.546875 \nQ 53.21875 62.890625 53.21875 53.421875 \nQ 53.21875 48.921875 51.53125 44.890625 \nQ 49.859375 40.875 45.40625 35.40625 \nQ 44.1875 33.984375 37.640625 27.21875 \nQ 31.109375 20.453125 19.1875 8.296875 \nz\n\" id=\"DejaVuSans-50\"/>\n      </defs>\n      <g transform=\"translate(71.34375 239.238437)scale(0.1 -0.1)\">\n       <use xlink:href=\"#DejaVuSans-50\"/>\n      </g>\n     </g>\n    </g>\n    <g id=\"xtick_4\">\n     <g id=\"line2d_4\">\n      <g>\n       <use style=\"stroke:#000000;stroke-width:0.8;\" x=\"88.475\" xlink:href=\"#m378387c79d\" y=\"224.64\"/>\n      </g>\n     </g>\n     <g id=\"text_4\">\n      <!-- 3 -->\n      <defs>\n       <path d=\"M 40.578125 39.3125 \nQ 47.65625 37.796875 51.625 33 \nQ 55.609375 28.21875 55.609375 21.1875 \nQ 55.609375 10.40625 48.1875 4.484375 \nQ 40.765625 -1.421875 27.09375 -1.421875 \nQ 22.515625 -1.421875 17.65625 -0.515625 \nQ 12.796875 0.390625 7.625 2.203125 \nL 7.625 11.71875 \nQ 11.71875 9.328125 16.59375 8.109375 \nQ 21.484375 6.890625 26.8125 6.890625 \nQ 36.078125 6.890625 40.9375 10.546875 \nQ 45.796875 14.203125 45.796875 21.1875 \nQ 45.796875 27.640625 41.28125 31.265625 \nQ 36.765625 34.90625 28.71875 34.90625 \nL 20.21875 34.90625 \nL 20.21875 43.015625 \nL 29.109375 43.015625 \nQ 36.375 43.015625 40.234375 45.921875 \nQ 44.09375 48.828125 44.09375 54.296875 \nQ 44.09375 59.90625 40.109375 62.90625 \nQ 36.140625 65.921875 28.71875 65.921875 \nQ 24.65625 65.921875 20.015625 65.03125 \nQ 15.375 64.15625 9.8125 62.3125 \nL 9.8125 71.09375 \nQ 15.4375 72.65625 20.34375 73.4375 \nQ 25.25 74.21875 29.59375 74.21875 \nQ 40.828125 74.21875 47.359375 69.109375 \nQ 53.90625 64.015625 53.90625 55.328125 \nQ 53.90625 49.265625 50.4375 45.09375 \nQ 46.96875 40.921875 40.578125 39.3125 \nz\n\" id=\"DejaVuSans-51\"/>\n      </defs>\n      <g transform=\"translate(85.29375 239.238437)scale(0.1 -0.1)\">\n       <use xlink:href=\"#DejaVuSans-51\"/>\n      </g>\n     </g>\n    </g>\n    <g id=\"xtick_5\">\n     <g id=\"line2d_5\">\n      <g>\n       <use style=\"stroke:#000000;stroke-width:0.8;\" x=\"102.425\" xlink:href=\"#m378387c79d\" y=\"224.64\"/>\n      </g>\n     </g>\n     <g id=\"text_5\">\n      <!-- 4 -->\n      <defs>\n       <path d=\"M 37.796875 64.3125 \nL 12.890625 25.390625 \nL 37.796875 25.390625 \nz\nM 35.203125 72.90625 \nL 47.609375 72.90625 \nL 47.609375 25.390625 \nL 58.015625 25.390625 \nL 58.015625 17.1875 \nL 47.609375 17.1875 \nL 47.609375 0 \nL 37.796875 0 \nL 37.796875 17.1875 \nL 4.890625 17.1875 \nL 4.890625 26.703125 \nz\n\" id=\"DejaVuSans-52\"/>\n      </defs>\n      <g transform=\"translate(99.24375 239.238437)scale(0.1 -0.1)\">\n       <use xlink:href=\"#DejaVuSans-52\"/>\n      </g>\n     </g>\n    </g>\n    <g id=\"xtick_6\">\n     <g id=\"line2d_6\">\n      <g>\n       <use style=\"stroke:#000000;stroke-width:0.8;\" x=\"116.375\" xlink:href=\"#m378387c79d\" y=\"224.64\"/>\n      </g>\n     </g>\n     <g id=\"text_6\">\n      <!-- 5 -->\n      <defs>\n       <path d=\"M 10.796875 72.90625 \nL 49.515625 72.90625 \nL 49.515625 64.59375 \nL 19.828125 64.59375 \nL 19.828125 46.734375 \nQ 21.96875 47.46875 24.109375 47.828125 \nQ 26.265625 48.1875 28.421875 48.1875 \nQ 40.625 48.1875 47.75 41.5 \nQ 54.890625 34.8125 54.890625 23.390625 \nQ 54.890625 11.625 47.5625 5.09375 \nQ 40.234375 -1.421875 26.90625 -1.421875 \nQ 22.3125 -1.421875 17.546875 -0.640625 \nQ 12.796875 0.140625 7.71875 1.703125 \nL 7.71875 11.625 \nQ 12.109375 9.234375 16.796875 8.0625 \nQ 21.484375 6.890625 26.703125 6.890625 \nQ 35.15625 6.890625 40.078125 11.328125 \nQ 45.015625 15.765625 45.015625 23.390625 \nQ 45.015625 31 40.078125 35.4375 \nQ 35.15625 39.890625 26.703125 39.890625 \nQ 22.75 39.890625 18.8125 39.015625 \nQ 14.890625 38.140625 10.796875 36.28125 \nz\n\" id=\"DejaVuSans-53\"/>\n      </defs>\n      <g transform=\"translate(113.19375 239.238437)scale(0.1 -0.1)\">\n       <use xlink:href=\"#DejaVuSans-53\"/>\n      </g>\n     </g>\n    </g>\n    <g id=\"xtick_7\">\n     <g id=\"line2d_7\">\n      <g>\n       <use style=\"stroke:#000000;stroke-width:0.8;\" x=\"130.325\" xlink:href=\"#m378387c79d\" y=\"224.64\"/>\n      </g>\n     </g>\n     <g id=\"text_7\">\n      <!-- 6 -->\n      <defs>\n       <path d=\"M 33.015625 40.375 \nQ 26.375 40.375 22.484375 35.828125 \nQ 18.609375 31.296875 18.609375 23.390625 \nQ 18.609375 15.53125 22.484375 10.953125 \nQ 26.375 6.390625 33.015625 6.390625 \nQ 39.65625 6.390625 43.53125 10.953125 \nQ 47.40625 15.53125 47.40625 23.390625 \nQ 47.40625 31.296875 43.53125 35.828125 \nQ 39.65625 40.375 33.015625 40.375 \nz\nM 52.59375 71.296875 \nL 52.59375 62.3125 \nQ 48.875 64.0625 45.09375 64.984375 \nQ 41.3125 65.921875 37.59375 65.921875 \nQ 27.828125 65.921875 22.671875 59.328125 \nQ 17.53125 52.734375 16.796875 39.40625 \nQ 19.671875 43.65625 24.015625 45.921875 \nQ 28.375 48.1875 33.59375 48.1875 \nQ 44.578125 48.1875 50.953125 41.515625 \nQ 57.328125 34.859375 57.328125 23.390625 \nQ 57.328125 12.15625 50.6875 5.359375 \nQ 44.046875 -1.421875 33.015625 -1.421875 \nQ 20.359375 -1.421875 13.671875 8.265625 \nQ 6.984375 17.96875 6.984375 36.375 \nQ 6.984375 53.65625 15.1875 63.9375 \nQ 23.390625 74.21875 37.203125 74.21875 \nQ 40.921875 74.21875 44.703125 73.484375 \nQ 48.484375 72.75 52.59375 71.296875 \nz\n\" id=\"DejaVuSans-54\"/>\n      </defs>\n      <g transform=\"translate(127.14375 239.238437)scale(0.1 -0.1)\">\n       <use xlink:href=\"#DejaVuSans-54\"/>\n      </g>\n     </g>\n    </g>\n    <g id=\"xtick_8\">\n     <g id=\"line2d_8\">\n      <g>\n       <use style=\"stroke:#000000;stroke-width:0.8;\" x=\"144.275\" xlink:href=\"#m378387c79d\" y=\"224.64\"/>\n      </g>\n     </g>\n     <g id=\"text_8\">\n      <!-- 7 -->\n      <defs>\n       <path d=\"M 8.203125 72.90625 \nL 55.078125 72.90625 \nL 55.078125 68.703125 \nL 28.609375 0 \nL 18.3125 0 \nL 43.21875 64.59375 \nL 8.203125 64.59375 \nz\n\" id=\"DejaVuSans-55\"/>\n      </defs>\n      <g transform=\"translate(141.09375 239.238437)scale(0.1 -0.1)\">\n       <use xlink:href=\"#DejaVuSans-55\"/>\n      </g>\n     </g>\n    </g>\n    <g id=\"xtick_9\">\n     <g id=\"line2d_9\">\n      <g>\n       <use style=\"stroke:#000000;stroke-width:0.8;\" x=\"158.225\" xlink:href=\"#m378387c79d\" y=\"224.64\"/>\n      </g>\n     </g>\n     <g id=\"text_9\">\n      <!-- 8 -->\n      <defs>\n       <path d=\"M 31.78125 34.625 \nQ 24.75 34.625 20.71875 30.859375 \nQ 16.703125 27.09375 16.703125 20.515625 \nQ 16.703125 13.921875 20.71875 10.15625 \nQ 24.75 6.390625 31.78125 6.390625 \nQ 38.8125 6.390625 42.859375 10.171875 \nQ 46.921875 13.96875 46.921875 20.515625 \nQ 46.921875 27.09375 42.890625 30.859375 \nQ 38.875 34.625 31.78125 34.625 \nz\nM 21.921875 38.8125 \nQ 15.578125 40.375 12.03125 44.71875 \nQ 8.5 49.078125 8.5 55.328125 \nQ 8.5 64.0625 14.71875 69.140625 \nQ 20.953125 74.21875 31.78125 74.21875 \nQ 42.671875 74.21875 48.875 69.140625 \nQ 55.078125 64.0625 55.078125 55.328125 \nQ 55.078125 49.078125 51.53125 44.71875 \nQ 48 40.375 41.703125 38.8125 \nQ 48.828125 37.15625 52.796875 32.3125 \nQ 56.78125 27.484375 56.78125 20.515625 \nQ 56.78125 9.90625 50.3125 4.234375 \nQ 43.84375 -1.421875 31.78125 -1.421875 \nQ 19.734375 -1.421875 13.25 4.234375 \nQ 6.78125 9.90625 6.78125 20.515625 \nQ 6.78125 27.484375 10.78125 32.3125 \nQ 14.796875 37.15625 21.921875 38.8125 \nz\nM 18.3125 54.390625 \nQ 18.3125 48.734375 21.84375 45.5625 \nQ 25.390625 42.390625 31.78125 42.390625 \nQ 38.140625 42.390625 41.71875 45.5625 \nQ 45.3125 48.734375 45.3125 54.390625 \nQ 45.3125 60.0625 41.71875 63.234375 \nQ 38.140625 66.40625 31.78125 66.40625 \nQ 25.390625 66.40625 21.84375 63.234375 \nQ 18.3125 60.0625 18.3125 54.390625 \nz\n\" id=\"DejaVuSans-56\"/>\n      </defs>\n      <g transform=\"translate(155.04375 239.238437)scale(0.1 -0.1)\">\n       <use xlink:href=\"#DejaVuSans-56\"/>\n      </g>\n     </g>\n    </g>\n    <g id=\"xtick_10\">\n     <g id=\"line2d_10\">\n      <g>\n       <use style=\"stroke:#000000;stroke-width:0.8;\" x=\"172.175\" xlink:href=\"#m378387c79d\" y=\"224.64\"/>\n      </g>\n     </g>\n     <g id=\"text_10\">\n      <!-- 9 -->\n      <defs>\n       <path d=\"M 10.984375 1.515625 \nL 10.984375 10.5 \nQ 14.703125 8.734375 18.5 7.8125 \nQ 22.3125 6.890625 25.984375 6.890625 \nQ 35.75 6.890625 40.890625 13.453125 \nQ 46.046875 20.015625 46.78125 33.40625 \nQ 43.953125 29.203125 39.59375 26.953125 \nQ 35.25 24.703125 29.984375 24.703125 \nQ 19.046875 24.703125 12.671875 31.3125 \nQ 6.296875 37.9375 6.296875 49.421875 \nQ 6.296875 60.640625 12.9375 67.421875 \nQ 19.578125 74.21875 30.609375 74.21875 \nQ 43.265625 74.21875 49.921875 64.515625 \nQ 56.59375 54.828125 56.59375 36.375 \nQ 56.59375 19.140625 48.40625 8.859375 \nQ 40.234375 -1.421875 26.421875 -1.421875 \nQ 22.703125 -1.421875 18.890625 -0.6875 \nQ 15.09375 0.046875 10.984375 1.515625 \nz\nM 30.609375 32.421875 \nQ 37.25 32.421875 41.125 36.953125 \nQ 45.015625 41.5 45.015625 49.421875 \nQ 45.015625 57.28125 41.125 61.84375 \nQ 37.25 66.40625 30.609375 66.40625 \nQ 23.96875 66.40625 20.09375 61.84375 \nQ 16.21875 57.28125 16.21875 49.421875 \nQ 16.21875 41.5 20.09375 36.953125 \nQ 23.96875 32.421875 30.609375 32.421875 \nz\n\" id=\"DejaVuSans-57\"/>\n      </defs>\n      <g transform=\"translate(168.99375 239.238437)scale(0.1 -0.1)\">\n       <use xlink:href=\"#DejaVuSans-57\"/>\n      </g>\n     </g>\n    </g>\n    <g id=\"xtick_11\">\n     <g id=\"line2d_11\">\n      <g>\n       <use style=\"stroke:#000000;stroke-width:0.8;\" x=\"186.125\" xlink:href=\"#m378387c79d\" y=\"224.64\"/>\n      </g>\n     </g>\n     <g id=\"text_11\">\n      <!-- 10 -->\n      <g transform=\"translate(179.7625 239.238437)scale(0.1 -0.1)\">\n       <use xlink:href=\"#DejaVuSans-49\"/>\n       <use x=\"63.623047\" xlink:href=\"#DejaVuSans-48\"/>\n      </g>\n     </g>\n    </g>\n    <g id=\"xtick_12\">\n     <g id=\"line2d_12\">\n      <g>\n       <use style=\"stroke:#000000;stroke-width:0.8;\" x=\"200.075\" xlink:href=\"#m378387c79d\" y=\"224.64\"/>\n      </g>\n     </g>\n     <g id=\"text_12\">\n      <!-- 11 -->\n      <g transform=\"translate(193.7125 239.238437)scale(0.1 -0.1)\">\n       <use xlink:href=\"#DejaVuSans-49\"/>\n       <use x=\"63.623047\" xlink:href=\"#DejaVuSans-49\"/>\n      </g>\n     </g>\n    </g>\n    <g id=\"xtick_13\">\n     <g id=\"line2d_13\">\n      <g>\n       <use style=\"stroke:#000000;stroke-width:0.8;\" x=\"214.025\" xlink:href=\"#m378387c79d\" y=\"224.64\"/>\n      </g>\n     </g>\n     <g id=\"text_13\">\n      <!-- 12 -->\n      <g transform=\"translate(207.6625 239.238437)scale(0.1 -0.1)\">\n       <use xlink:href=\"#DejaVuSans-49\"/>\n       <use x=\"63.623047\" xlink:href=\"#DejaVuSans-50\"/>\n      </g>\n     </g>\n    </g>\n    <g id=\"xtick_14\">\n     <g id=\"line2d_14\">\n      <g>\n       <use style=\"stroke:#000000;stroke-width:0.8;\" x=\"227.975\" xlink:href=\"#m378387c79d\" y=\"224.64\"/>\n      </g>\n     </g>\n     <g id=\"text_14\">\n      <!-- 13 -->\n      <g transform=\"translate(221.6125 239.238437)scale(0.1 -0.1)\">\n       <use xlink:href=\"#DejaVuSans-49\"/>\n       <use x=\"63.623047\" xlink:href=\"#DejaVuSans-51\"/>\n      </g>\n     </g>\n    </g>\n    <g id=\"xtick_15\">\n     <g id=\"line2d_15\">\n      <g>\n       <use style=\"stroke:#000000;stroke-width:0.8;\" x=\"241.925\" xlink:href=\"#m378387c79d\" y=\"224.64\"/>\n      </g>\n     </g>\n     <g id=\"text_15\">\n      <!-- 14 -->\n      <g transform=\"translate(235.5625 239.238437)scale(0.1 -0.1)\">\n       <use xlink:href=\"#DejaVuSans-49\"/>\n       <use x=\"63.623047\" xlink:href=\"#DejaVuSans-52\"/>\n      </g>\n     </g>\n    </g>\n    <g id=\"xtick_16\">\n     <g id=\"line2d_16\">\n      <g>\n       <use style=\"stroke:#000000;stroke-width:0.8;\" x=\"255.875\" xlink:href=\"#m378387c79d\" y=\"224.64\"/>\n      </g>\n     </g>\n     <g id=\"text_16\">\n      <!-- 15 -->\n      <g transform=\"translate(249.5125 239.238437)scale(0.1 -0.1)\">\n       <use xlink:href=\"#DejaVuSans-49\"/>\n       <use x=\"63.623047\" xlink:href=\"#DejaVuSans-53\"/>\n      </g>\n     </g>\n    </g>\n    <g id=\"xtick_17\">\n     <g id=\"line2d_17\">\n      <g>\n       <use style=\"stroke:#000000;stroke-width:0.8;\" x=\"269.825\" xlink:href=\"#m378387c79d\" y=\"224.64\"/>\n      </g>\n     </g>\n     <g id=\"text_17\">\n      <!-- 16 -->\n      <g transform=\"translate(263.4625 239.238437)scale(0.1 -0.1)\">\n       <use xlink:href=\"#DejaVuSans-49\"/>\n       <use x=\"63.623047\" xlink:href=\"#DejaVuSans-54\"/>\n      </g>\n     </g>\n    </g>\n    <g id=\"xtick_18\">\n     <g id=\"line2d_18\">\n      <g>\n       <use style=\"stroke:#000000;stroke-width:0.8;\" x=\"283.775\" xlink:href=\"#m378387c79d\" y=\"224.64\"/>\n      </g>\n     </g>\n     <g id=\"text_18\">\n      <!-- 17 -->\n      <g transform=\"translate(277.4125 239.238437)scale(0.1 -0.1)\">\n       <use xlink:href=\"#DejaVuSans-49\"/>\n       <use x=\"63.623047\" xlink:href=\"#DejaVuSans-55\"/>\n      </g>\n     </g>\n    </g>\n    <g id=\"xtick_19\">\n     <g id=\"line2d_19\">\n      <g>\n       <use style=\"stroke:#000000;stroke-width:0.8;\" x=\"297.725\" xlink:href=\"#m378387c79d\" y=\"224.64\"/>\n      </g>\n     </g>\n     <g id=\"text_19\">\n      <!-- 18 -->\n      <g transform=\"translate(291.3625 239.238437)scale(0.1 -0.1)\">\n       <use xlink:href=\"#DejaVuSans-49\"/>\n       <use x=\"63.623047\" xlink:href=\"#DejaVuSans-56\"/>\n      </g>\n     </g>\n    </g>\n    <g id=\"xtick_20\">\n     <g id=\"line2d_20\">\n      <g>\n       <use style=\"stroke:#000000;stroke-width:0.8;\" x=\"311.675\" xlink:href=\"#m378387c79d\" y=\"224.64\"/>\n      </g>\n     </g>\n     <g id=\"text_20\">\n      <!-- 19 -->\n      <g transform=\"translate(305.3125 239.238437)scale(0.1 -0.1)\">\n       <use xlink:href=\"#DejaVuSans-49\"/>\n       <use x=\"63.623047\" xlink:href=\"#DejaVuSans-57\"/>\n      </g>\n     </g>\n    </g>\n    <g id=\"xtick_21\">\n     <g id=\"line2d_21\">\n      <g>\n       <use style=\"stroke:#000000;stroke-width:0.8;\" x=\"325.625\" xlink:href=\"#m378387c79d\" y=\"224.64\"/>\n      </g>\n     </g>\n     <g id=\"text_21\">\n      <!-- 20 -->\n      <g transform=\"translate(319.2625 239.238437)scale(0.1 -0.1)\">\n       <use xlink:href=\"#DejaVuSans-50\"/>\n       <use x=\"63.623047\" xlink:href=\"#DejaVuSans-48\"/>\n      </g>\n     </g>\n    </g>\n    <g id=\"xtick_22\">\n     <g id=\"line2d_22\">\n      <g>\n       <use style=\"stroke:#000000;stroke-width:0.8;\" x=\"339.575\" xlink:href=\"#m378387c79d\" y=\"224.64\"/>\n      </g>\n     </g>\n     <g id=\"text_22\">\n      <!-- 21 -->\n      <g transform=\"translate(333.2125 239.238437)scale(0.1 -0.1)\">\n       <use xlink:href=\"#DejaVuSans-50\"/>\n       <use x=\"63.623047\" xlink:href=\"#DejaVuSans-49\"/>\n      </g>\n     </g>\n    </g>\n    <g id=\"xtick_23\">\n     <g id=\"line2d_23\">\n      <g>\n       <use style=\"stroke:#000000;stroke-width:0.8;\" x=\"353.525\" xlink:href=\"#m378387c79d\" y=\"224.64\"/>\n      </g>\n     </g>\n     <g id=\"text_23\">\n      <!-- 22 -->\n      <g transform=\"translate(347.1625 239.238437)scale(0.1 -0.1)\">\n       <use xlink:href=\"#DejaVuSans-50\"/>\n       <use x=\"63.623047\" xlink:href=\"#DejaVuSans-50\"/>\n      </g>\n     </g>\n    </g>\n    <g id=\"xtick_24\">\n     <g id=\"line2d_24\">\n      <g>\n       <use style=\"stroke:#000000;stroke-width:0.8;\" x=\"367.475\" xlink:href=\"#m378387c79d\" y=\"224.64\"/>\n      </g>\n     </g>\n     <g id=\"text_24\">\n      <!-- 23 -->\n      <g transform=\"translate(361.1125 239.238437)scale(0.1 -0.1)\">\n       <use xlink:href=\"#DejaVuSans-50\"/>\n       <use x=\"63.623047\" xlink:href=\"#DejaVuSans-51\"/>\n      </g>\n     </g>\n    </g>\n   </g>\n   <g id=\"matplotlib.axis_2\">\n    <g id=\"ytick_1\">\n     <g id=\"line2d_25\">\n      <defs>\n       <path d=\"M 0 0 \nL -3.5 0 \n\" id=\"m01bf5ee7f9\" style=\"stroke:#000000;stroke-width:0.8;\"/>\n      </defs>\n      <g>\n       <use style=\"stroke:#000000;stroke-width:0.8;\" x=\"39.65\" xlink:href=\"#m01bf5ee7f9\" y=\"224.64\"/>\n      </g>\n     </g>\n     <g id=\"text_25\">\n      <!-- 0 -->\n      <g transform=\"translate(26.2875 228.439219)scale(0.1 -0.1)\">\n       <use xlink:href=\"#DejaVuSans-48\"/>\n      </g>\n     </g>\n    </g>\n    <g id=\"ytick_2\">\n     <g id=\"line2d_26\">\n      <g>\n       <use style=\"stroke:#000000;stroke-width:0.8;\" x=\"39.65\" xlink:href=\"#m01bf5ee7f9\" y=\"185.823559\"/>\n      </g>\n     </g>\n     <g id=\"text_26\">\n      <!-- 200 -->\n      <g transform=\"translate(13.5625 189.622777)scale(0.1 -0.1)\">\n       <use xlink:href=\"#DejaVuSans-50\"/>\n       <use x=\"63.623047\" xlink:href=\"#DejaVuSans-48\"/>\n       <use x=\"127.246094\" xlink:href=\"#DejaVuSans-48\"/>\n      </g>\n     </g>\n    </g>\n    <g id=\"ytick_3\">\n     <g id=\"line2d_27\">\n      <g>\n       <use style=\"stroke:#000000;stroke-width:0.8;\" x=\"39.65\" xlink:href=\"#m01bf5ee7f9\" y=\"147.007117\"/>\n      </g>\n     </g>\n     <g id=\"text_27\">\n      <!-- 400 -->\n      <g transform=\"translate(13.5625 150.806336)scale(0.1 -0.1)\">\n       <use xlink:href=\"#DejaVuSans-52\"/>\n       <use x=\"63.623047\" xlink:href=\"#DejaVuSans-48\"/>\n       <use x=\"127.246094\" xlink:href=\"#DejaVuSans-48\"/>\n      </g>\n     </g>\n    </g>\n    <g id=\"ytick_4\">\n     <g id=\"line2d_28\">\n      <g>\n       <use style=\"stroke:#000000;stroke-width:0.8;\" x=\"39.65\" xlink:href=\"#m01bf5ee7f9\" y=\"108.190676\"/>\n      </g>\n     </g>\n     <g id=\"text_28\">\n      <!-- 600 -->\n      <g transform=\"translate(13.5625 111.989895)scale(0.1 -0.1)\">\n       <use xlink:href=\"#DejaVuSans-54\"/>\n       <use x=\"63.623047\" xlink:href=\"#DejaVuSans-48\"/>\n       <use x=\"127.246094\" xlink:href=\"#DejaVuSans-48\"/>\n      </g>\n     </g>\n    </g>\n    <g id=\"ytick_5\">\n     <g id=\"line2d_29\">\n      <g>\n       <use style=\"stroke:#000000;stroke-width:0.8;\" x=\"39.65\" xlink:href=\"#m01bf5ee7f9\" y=\"69.374235\"/>\n      </g>\n     </g>\n     <g id=\"text_29\">\n      <!-- 800 -->\n      <g transform=\"translate(13.5625 73.173454)scale(0.1 -0.1)\">\n       <use xlink:href=\"#DejaVuSans-56\"/>\n       <use x=\"63.623047\" xlink:href=\"#DejaVuSans-48\"/>\n       <use x=\"127.246094\" xlink:href=\"#DejaVuSans-48\"/>\n      </g>\n     </g>\n    </g>\n    <g id=\"ytick_6\">\n     <g id=\"line2d_30\">\n      <g>\n       <use style=\"stroke:#000000;stroke-width:0.8;\" x=\"39.65\" xlink:href=\"#m01bf5ee7f9\" y=\"30.557794\"/>\n      </g>\n     </g>\n     <g id=\"text_30\">\n      <!-- 1000 -->\n      <g transform=\"translate(7.2 34.357012)scale(0.1 -0.1)\">\n       <use xlink:href=\"#DejaVuSans-49\"/>\n       <use x=\"63.623047\" xlink:href=\"#DejaVuSans-48\"/>\n       <use x=\"127.246094\" xlink:href=\"#DejaVuSans-48\"/>\n       <use x=\"190.869141\" xlink:href=\"#DejaVuSans-48\"/>\n      </g>\n     </g>\n    </g>\n   </g>\n   <g id=\"line2d_31\">\n    <path clip-path=\"url(#pc88e1ab7b4)\" d=\"M 0 0 \n\" style=\"fill:none;stroke:#424242;stroke-linecap:square;stroke-width:2.7;\"/>\n   </g>\n   <g id=\"line2d_32\">\n    <path clip-path=\"url(#pc88e1ab7b4)\" d=\"M 0 0 \n\" style=\"fill:none;stroke:#424242;stroke-linecap:square;stroke-width:2.7;\"/>\n   </g>\n   <g id=\"line2d_33\">\n    <path clip-path=\"url(#pc88e1ab7b4)\" d=\"M 0 0 \n\" style=\"fill:none;stroke:#424242;stroke-linecap:square;stroke-width:2.7;\"/>\n   </g>\n   <g id=\"line2d_34\">\n    <path clip-path=\"url(#pc88e1ab7b4)\" d=\"M 0 0 \n\" style=\"fill:none;stroke:#424242;stroke-linecap:square;stroke-width:2.7;\"/>\n   </g>\n   <g id=\"line2d_35\">\n    <path clip-path=\"url(#pc88e1ab7b4)\" d=\"M 0 0 \n\" style=\"fill:none;stroke:#424242;stroke-linecap:square;stroke-width:2.7;\"/>\n   </g>\n   <g id=\"line2d_36\">\n    <path clip-path=\"url(#pc88e1ab7b4)\" d=\"M 0 0 \n\" style=\"fill:none;stroke:#424242;stroke-linecap:square;stroke-width:2.7;\"/>\n   </g>\n   <g id=\"line2d_37\">\n    <path clip-path=\"url(#pc88e1ab7b4)\" d=\"M 0 0 \n\" style=\"fill:none;stroke:#424242;stroke-linecap:square;stroke-width:2.7;\"/>\n   </g>\n   <g id=\"line2d_38\">\n    <path clip-path=\"url(#pc88e1ab7b4)\" d=\"M 0 0 \n\" style=\"fill:none;stroke:#424242;stroke-linecap:square;stroke-width:2.7;\"/>\n   </g>\n   <g id=\"line2d_39\">\n    <path clip-path=\"url(#pc88e1ab7b4)\" d=\"M 0 0 \n\" style=\"fill:none;stroke:#424242;stroke-linecap:square;stroke-width:2.7;\"/>\n   </g>\n   <g id=\"line2d_40\">\n    <path clip-path=\"url(#pc88e1ab7b4)\" d=\"M 0 0 \n\" style=\"fill:none;stroke:#424242;stroke-linecap:square;stroke-width:2.7;\"/>\n   </g>\n   <g id=\"line2d_41\">\n    <path clip-path=\"url(#pc88e1ab7b4)\" d=\"M 0 0 \n\" style=\"fill:none;stroke:#424242;stroke-linecap:square;stroke-width:2.7;\"/>\n   </g>\n   <g id=\"line2d_42\">\n    <path clip-path=\"url(#pc88e1ab7b4)\" d=\"M 0 0 \n\" style=\"fill:none;stroke:#424242;stroke-linecap:square;stroke-width:2.7;\"/>\n   </g>\n   <g id=\"line2d_43\">\n    <path clip-path=\"url(#pc88e1ab7b4)\" d=\"M 0 0 \n\" style=\"fill:none;stroke:#424242;stroke-linecap:square;stroke-width:2.7;\"/>\n   </g>\n   <g id=\"line2d_44\">\n    <path clip-path=\"url(#pc88e1ab7b4)\" d=\"M 0 0 \n\" style=\"fill:none;stroke:#424242;stroke-linecap:square;stroke-width:2.7;\"/>\n   </g>\n   <g id=\"line2d_45\">\n    <path clip-path=\"url(#pc88e1ab7b4)\" d=\"M 0 0 \n\" style=\"fill:none;stroke:#424242;stroke-linecap:square;stroke-width:2.7;\"/>\n   </g>\n   <g id=\"line2d_46\">\n    <path clip-path=\"url(#pc88e1ab7b4)\" d=\"M 0 0 \n\" style=\"fill:none;stroke:#424242;stroke-linecap:square;stroke-width:2.7;\"/>\n   </g>\n   <g id=\"line2d_47\">\n    <path clip-path=\"url(#pc88e1ab7b4)\" d=\"M 0 0 \n\" style=\"fill:none;stroke:#424242;stroke-linecap:square;stroke-width:2.7;\"/>\n   </g>\n   <g id=\"line2d_48\">\n    <path clip-path=\"url(#pc88e1ab7b4)\" d=\"M 0 0 \n\" style=\"fill:none;stroke:#424242;stroke-linecap:square;stroke-width:2.7;\"/>\n   </g>\n   <g id=\"line2d_49\">\n    <path clip-path=\"url(#pc88e1ab7b4)\" d=\"M 0 0 \n\" style=\"fill:none;stroke:#424242;stroke-linecap:square;stroke-width:2.7;\"/>\n   </g>\n   <g id=\"line2d_50\">\n    <path clip-path=\"url(#pc88e1ab7b4)\" d=\"M 0 0 \n\" style=\"fill:none;stroke:#424242;stroke-linecap:square;stroke-width:2.7;\"/>\n   </g>\n   <g id=\"line2d_51\">\n    <path clip-path=\"url(#pc88e1ab7b4)\" d=\"M 0 0 \n\" style=\"fill:none;stroke:#424242;stroke-linecap:square;stroke-width:2.7;\"/>\n   </g>\n   <g id=\"line2d_52\">\n    <path clip-path=\"url(#pc88e1ab7b4)\" d=\"M 0 0 \n\" style=\"fill:none;stroke:#424242;stroke-linecap:square;stroke-width:2.7;\"/>\n   </g>\n   <g id=\"line2d_53\">\n    <path clip-path=\"url(#pc88e1ab7b4)\" d=\"M 0 0 \n\" style=\"fill:none;stroke:#424242;stroke-linecap:square;stroke-width:2.7;\"/>\n   </g>\n   <g id=\"line2d_54\">\n    <path clip-path=\"url(#pc88e1ab7b4)\" d=\"M 0 0 \n\" style=\"fill:none;stroke:#424242;stroke-linecap:square;stroke-width:2.7;\"/>\n   </g>\n   <g id=\"patch_27\">\n    <path d=\"M 39.65 224.64 \nL 39.65 7.2 \n\" style=\"fill:none;stroke:#000000;stroke-linecap:square;stroke-linejoin:miter;stroke-width:0.8;\"/>\n   </g>\n   <g id=\"patch_28\">\n    <path d=\"M 374.45 224.64 \nL 374.45 7.2 \n\" style=\"fill:none;stroke:#000000;stroke-linecap:square;stroke-linejoin:miter;stroke-width:0.8;\"/>\n   </g>\n   <g id=\"patch_29\">\n    <path d=\"M 39.65 224.64 \nL 374.45 224.64 \n\" style=\"fill:none;stroke:#000000;stroke-linecap:square;stroke-linejoin:miter;stroke-width:0.8;\"/>\n   </g>\n   <g id=\"patch_30\">\n    <path d=\"M 39.65 7.2 \nL 374.45 7.2 \n\" style=\"fill:none;stroke:#000000;stroke-linecap:square;stroke-linejoin:miter;stroke-width:0.8;\"/>\n   </g>\n  </g>\n </g>\n <defs>\n  <clipPath id=\"pc88e1ab7b4\">\n   <rect height=\"217.44\" width=\"334.8\" x=\"39.65\" y=\"7.2\"/>\n  </clipPath>\n </defs>\n</svg>\n",
      "image/png": "[encoded data removed]"
     },
     "metadata": {
      "needs_background": "light"
     }
    }
   ],
   "source": [
    "import seaborn as sns\n",
    "count = train_tp_ps2.iloc[:, :24].sum(0)\n",
    "sns.barplot(count.index, count.values)"
   ]
  },
  {
   "cell_type": "code",
   "execution_count": 60,
   "metadata": {},
   "outputs": [],
   "source": [
    "train_tp_ps2.to_csv(\"./input/rfcx-species-audio-detection/train_tp_frame_ps2.csv\", index=False)"
   ]
  },
  {
   "cell_type": "code",
   "execution_count": null,
   "metadata": {},
   "outputs": [],
   "source": []
  }
 ]
}