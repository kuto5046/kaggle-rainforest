{
 "metadata": {
  "language_info": {
   "codemirror_mode": {
    "name": "ipython",
    "version": 3
   },
   "file_extension": ".py",
   "mimetype": "text/x-python",
   "name": "python",
   "nbconvert_exporter": "python",
   "pygments_lexer": "ipython3",
   "version": "3.7.4-final"
  },
  "orig_nbformat": 2,
  "kernelspec": {
   "name": "python3",
   "display_name": "Python 3",
   "language": "python"
  }
 },
 "nbformat": 4,
 "nbformat_minor": 2,
 "cells": [
  {
   "cell_type": "code",
   "execution_count": 1,
   "metadata": {},
   "outputs": [
    {
     "output_type": "stream",
     "name": "stderr",
     "text": [
      "/opt/anaconda3/lib/python3.7/site-packages/pywt/_utils.py:6: DeprecationWarning: Using or importing the ABCs from 'collections' instead of from 'collections.abc' is deprecated, and in 3.8 it will stop working\n  from collections import Iterable\n"
     ]
    }
   ],
   "source": [
    "import os\n",
    "import sys\n",
    "sys.path.append(\"..\")\n",
    "import torch\n",
    "import subprocess\n",
    "import traceback\n",
    "import warnings\n",
    "from pathlib import Path\n",
    "from datetime import datetime\n",
    "import pandas as pd\n",
    "import numpy as np\n",
    "\n",
    "from tqdm import tqdm\n",
    "# n.pyimport hydra\n",
    "import torch\n",
    "from torch import nn\n",
    "import torch.nn.functional as F\n",
    "from torch.utils.data import DataLoader, random_split\n",
    "from torchvision import transforms\n",
    "\n",
    "from src.metric import LWLRAP\n",
    "from src.models import get_model\n",
    "import src.configuration as C\n",
    "import src.utils as utils\n",
    "from src.metric import LWLRAP\n",
    "import pytorch_lightning as pl\n",
    "from pytorch_lightning.loggers import TensorBoardLogger\n",
    "from pytorch_lightning.callbacks import ModelCheckpoint\n",
    "from pytorch_lightning.callbacks import EarlyStopping\n",
    "from pytorch_lightning.loggers import MLFlowLogger"
   ]
  },
  {
   "cell_type": "code",
   "execution_count": 16,
   "metadata": {},
   "outputs": [],
   "source": [
    "# config\n",
    "config_filename = 'EfficientNetSED001.yaml'\n",
    "config = utils.load_config(f\"configs/{config_filename}\")\n",
    "device = \"cuda\""
   ]
  },
  {
   "cell_type": "code",
   "execution_count": 9,
   "metadata": {},
   "outputs": [],
   "source": [
    "# data\n",
    "df, re_df, datadir = C.get_metadata(config)"
   ]
  },
  {
   "cell_type": "code",
   "execution_count": 10,
   "metadata": {},
   "outputs": [
    {
     "output_type": "execute_result",
     "data": {
      "text/plain": [
       "     recording_id  species_id  songtype_id    t_min     f_min    t_max  \\\n",
       "0       003bec244          14            1  44.5440  2531.250  45.1307   \n",
       "1       006ab765f          23            1  39.9615  7235.160  46.0452   \n",
       "2       007f87ba2          12            1  39.1360   562.500  42.2720   \n",
       "3       0099c367b          17            4  51.4206  1464.260  55.1996   \n",
       "4       009b760e6          10            1  50.0854   947.461  52.5293   \n",
       "...           ...         ...          ...      ...       ...      ...   \n",
       "1211    fe8d9ac40          13            1  53.4720    93.750  54.0960   \n",
       "1212    fea6b438a           4            1  43.5787  2531.250  45.7653   \n",
       "1213    ff2eb9ce5           0            1  15.2267  5906.250  16.0213   \n",
       "1214    ffb8d8391           5            1  14.3467  4781.250  16.6987   \n",
       "1215    ffb9a7b9a          18            1  40.3200  3187.500  41.0133   \n",
       "\n",
       "         f_max data_type  \n",
       "0      5531.25        tp  \n",
       "1     11283.40        tp  \n",
       "2      3281.25        tp  \n",
       "3      4565.04        tp  \n",
       "4     10852.70        tp  \n",
       "...        ...       ...  \n",
       "1211    843.75        tp  \n",
       "1212   4031.25        tp  \n",
       "1213   8250.00        tp  \n",
       "1214  10406.20        tp  \n",
       "1215   5062.50        tp  \n",
       "\n",
       "[1216 rows x 8 columns]"
      ],
      "text/html": "<div>\n<style scoped>\n    .dataframe tbody tr th:only-of-type {\n        vertical-align: middle;\n    }\n\n    .dataframe tbody tr th {\n        vertical-align: top;\n    }\n\n    .dataframe thead th {\n        text-align: right;\n    }\n</style>\n<table border=\"1\" class=\"dataframe\">\n  <thead>\n    <tr style=\"text-align: right;\">\n      <th></th>\n      <th>recording_id</th>\n      <th>species_id</th>\n      <th>songtype_id</th>\n      <th>t_min</th>\n      <th>f_min</th>\n      <th>t_max</th>\n      <th>f_max</th>\n      <th>data_type</th>\n    </tr>\n  </thead>\n  <tbody>\n    <tr>\n      <td>0</td>\n      <td>003bec244</td>\n      <td>14</td>\n      <td>1</td>\n      <td>44.5440</td>\n      <td>2531.250</td>\n      <td>45.1307</td>\n      <td>5531.25</td>\n      <td>tp</td>\n    </tr>\n    <tr>\n      <td>1</td>\n      <td>006ab765f</td>\n      <td>23</td>\n      <td>1</td>\n      <td>39.9615</td>\n      <td>7235.160</td>\n      <td>46.0452</td>\n      <td>11283.40</td>\n      <td>tp</td>\n    </tr>\n    <tr>\n      <td>2</td>\n      <td>007f87ba2</td>\n      <td>12</td>\n      <td>1</td>\n      <td>39.1360</td>\n      <td>562.500</td>\n      <td>42.2720</td>\n      <td>3281.25</td>\n      <td>tp</td>\n    </tr>\n    <tr>\n      <td>3</td>\n      <td>0099c367b</td>\n      <td>17</td>\n      <td>4</td>\n      <td>51.4206</td>\n      <td>1464.260</td>\n      <td>55.1996</td>\n      <td>4565.04</td>\n      <td>tp</td>\n    </tr>\n    <tr>\n      <td>4</td>\n      <td>009b760e6</td>\n      <td>10</td>\n      <td>1</td>\n      <td>50.0854</td>\n      <td>947.461</td>\n      <td>52.5293</td>\n      <td>10852.70</td>\n      <td>tp</td>\n    </tr>\n    <tr>\n      <td>...</td>\n      <td>...</td>\n      <td>...</td>\n      <td>...</td>\n      <td>...</td>\n      <td>...</td>\n      <td>...</td>\n      <td>...</td>\n      <td>...</td>\n    </tr>\n    <tr>\n      <td>1211</td>\n      <td>fe8d9ac40</td>\n      <td>13</td>\n      <td>1</td>\n      <td>53.4720</td>\n      <td>93.750</td>\n      <td>54.0960</td>\n      <td>843.75</td>\n      <td>tp</td>\n    </tr>\n    <tr>\n      <td>1212</td>\n      <td>fea6b438a</td>\n      <td>4</td>\n      <td>1</td>\n      <td>43.5787</td>\n      <td>2531.250</td>\n      <td>45.7653</td>\n      <td>4031.25</td>\n      <td>tp</td>\n    </tr>\n    <tr>\n      <td>1213</td>\n      <td>ff2eb9ce5</td>\n      <td>0</td>\n      <td>1</td>\n      <td>15.2267</td>\n      <td>5906.250</td>\n      <td>16.0213</td>\n      <td>8250.00</td>\n      <td>tp</td>\n    </tr>\n    <tr>\n      <td>1214</td>\n      <td>ffb8d8391</td>\n      <td>5</td>\n      <td>1</td>\n      <td>14.3467</td>\n      <td>4781.250</td>\n      <td>16.6987</td>\n      <td>10406.20</td>\n      <td>tp</td>\n    </tr>\n    <tr>\n      <td>1215</td>\n      <td>ffb9a7b9a</td>\n      <td>18</td>\n      <td>1</td>\n      <td>40.3200</td>\n      <td>3187.500</td>\n      <td>41.0133</td>\n      <td>5062.50</td>\n      <td>tp</td>\n    </tr>\n  </tbody>\n</table>\n<p>1216 rows × 8 columns</p>\n</div>"
     },
     "metadata": {},
     "execution_count": 10
    }
   ],
   "source": [
    "df"
   ]
  },
  {
   "cell_type": "code",
   "execution_count": 13,
   "metadata": {},
   "outputs": [],
   "source": [
    "loaders = {\n",
    "    phase: C.get_loader(df_, datadir, config, phase)\n",
    "    for df_, phase in zip([df], [\"valid\"])\n",
    "}"
   ]
  },
  {
   "cell_type": "code",
   "execution_count": 140,
   "metadata": {},
   "outputs": [
    {
     "output_type": "stream",
     "name": "stdout",
     "text": [
      "fold-0\n",
      "Loaded pretrained weights for efficientnet-b2\n",
      "100%|██████████| 61/61 [00:23<00:00,  2.56it/s]\n",
      "fold-1\n",
      "Loaded pretrained weights for efficientnet-b2\n",
      "100%|██████████| 61/61 [00:24<00:00,  2.49it/s]\n",
      "fold-2\n",
      "Loaded pretrained weights for efficientnet-b2\n",
      "100%|██████████| 61/61 [00:24<00:00,  2.50it/s]\n",
      "fold-3\n",
      "Loaded pretrained weights for efficientnet-b2\n",
      "100%|██████████| 61/61 [00:24<00:00,  2.49it/s]\n",
      "fold-4\n",
      "Loaded pretrained weights for efficientnet-b2\n",
      "100%|██████████| 61/61 [00:24<00:00,  2.53it/s]\n"
     ]
    }
   ],
   "source": [
    "pseudo_label_df = df[[\"recording_id\"]].copy()\n",
    "\n",
    "for fold in range(5):\n",
    "    # model\n",
    "    print(f\"fold-{fold}\")\n",
    "    model = get_model(config)\n",
    "    model_name = \"EfficientNetSED\"\n",
    "    output_dir = Path(\"output/0119_184426\")\n",
    "    try:\n",
    "        ckpt = torch.load(output_dir / f'{model_name}-{fold}-v0.ckpt')  # TODO foldごとのモデルを取得できるようにする\n",
    "    except:\n",
    "        ckpt = torch.load(output_dir / f'{model_name}-{fold}.ckpt')  # TODO foldごとのモデルを取得できるようにする\n",
    "    model.load_state_dict(ckpt['state_dict'])\n",
    "    model.eval().to(device)\n",
    "\n",
    "    preds = []\n",
    "    output_key = \"logit\"\n",
    "    with torch.no_grad():\n",
    "        # xは複数のlist\n",
    "        for x_list, y in tqdm(loaders['valid']):\n",
    "            batch_size = x_list.shape[0]\n",
    "            x = x_list.view(-1, x_list.shape[2], x_list.shape[3], x_list.shape[4])  # batch>1でも可\n",
    "            x = x.to(device)\n",
    "            output = model.model(x)\n",
    "            output = output[output_key]\n",
    "            output = output.view(batch_size, -1, 24)  # 24=num_classes\n",
    "            pred = torch.max(output, dim=1)[0]  # 1次元目(分割sしたやつ)で各クラスの最大を取得\n",
    "            pred = torch.argsort(pred, dim=-1, descending=True)\n",
    "            pred = pred.detach().cpu().numpy()\n",
    "            preds.append(pred)\n",
    "\n",
    "    pseudo_label_df[f\"fold{fold}\"] = np.argmin(np.vstack(preds), axis=1)"
   ]
  },
  {
   "cell_type": "code",
   "execution_count": 142,
   "metadata": {},
   "outputs": [
    {
     "output_type": "execute_result",
     "data": {
      "text/plain": [
       "     recording_id  fold0  fold1  fold2  fold3  fold4\n",
       "0       003bec244     16      6     19     14     14\n",
       "1       006ab765f     19     16     19     12      8\n",
       "2       007f87ba2      7     12      6      7      9\n",
       "3       0099c367b     21     18     20     19     21\n",
       "4       009b760e6     12     20     16     11     14\n",
       "...           ...    ...    ...    ...    ...    ...\n",
       "1211    fe8d9ac40     13     17     17     11     22\n",
       "1212    fea6b438a     20     11     23     16     13\n",
       "1213    ff2eb9ce5      0      0      0      0      0\n",
       "1214    ffb8d8391     12     18     17      9      5\n",
       "1215    ffb9a7b9a      6      7      3      5      8\n",
       "\n",
       "[1216 rows x 6 columns]"
      ],
      "text/html": "<div>\n<style scoped>\n    .dataframe tbody tr th:only-of-type {\n        vertical-align: middle;\n    }\n\n    .dataframe tbody tr th {\n        vertical-align: top;\n    }\n\n    .dataframe thead th {\n        text-align: right;\n    }\n</style>\n<table border=\"1\" class=\"dataframe\">\n  <thead>\n    <tr style=\"text-align: right;\">\n      <th></th>\n      <th>recording_id</th>\n      <th>fold0</th>\n      <th>fold1</th>\n      <th>fold2</th>\n      <th>fold3</th>\n      <th>fold4</th>\n    </tr>\n  </thead>\n  <tbody>\n    <tr>\n      <td>0</td>\n      <td>003bec244</td>\n      <td>16</td>\n      <td>6</td>\n      <td>19</td>\n      <td>14</td>\n      <td>14</td>\n    </tr>\n    <tr>\n      <td>1</td>\n      <td>006ab765f</td>\n      <td>19</td>\n      <td>16</td>\n      <td>19</td>\n      <td>12</td>\n      <td>8</td>\n    </tr>\n    <tr>\n      <td>2</td>\n      <td>007f87ba2</td>\n      <td>7</td>\n      <td>12</td>\n      <td>6</td>\n      <td>7</td>\n      <td>9</td>\n    </tr>\n    <tr>\n      <td>3</td>\n      <td>0099c367b</td>\n      <td>21</td>\n      <td>18</td>\n      <td>20</td>\n      <td>19</td>\n      <td>21</td>\n    </tr>\n    <tr>\n      <td>4</td>\n      <td>009b760e6</td>\n      <td>12</td>\n      <td>20</td>\n      <td>16</td>\n      <td>11</td>\n      <td>14</td>\n    </tr>\n    <tr>\n      <td>...</td>\n      <td>...</td>\n      <td>...</td>\n      <td>...</td>\n      <td>...</td>\n      <td>...</td>\n      <td>...</td>\n    </tr>\n    <tr>\n      <td>1211</td>\n      <td>fe8d9ac40</td>\n      <td>13</td>\n      <td>17</td>\n      <td>17</td>\n      <td>11</td>\n      <td>22</td>\n    </tr>\n    <tr>\n      <td>1212</td>\n      <td>fea6b438a</td>\n      <td>20</td>\n      <td>11</td>\n      <td>23</td>\n      <td>16</td>\n      <td>13</td>\n    </tr>\n    <tr>\n      <td>1213</td>\n      <td>ff2eb9ce5</td>\n      <td>0</td>\n      <td>0</td>\n      <td>0</td>\n      <td>0</td>\n      <td>0</td>\n    </tr>\n    <tr>\n      <td>1214</td>\n      <td>ffb8d8391</td>\n      <td>12</td>\n      <td>18</td>\n      <td>17</td>\n      <td>9</td>\n      <td>5</td>\n    </tr>\n    <tr>\n      <td>1215</td>\n      <td>ffb9a7b9a</td>\n      <td>6</td>\n      <td>7</td>\n      <td>3</td>\n      <td>5</td>\n      <td>8</td>\n    </tr>\n  </tbody>\n</table>\n<p>1216 rows × 6 columns</p>\n</div>"
     },
     "metadata": {},
     "execution_count": 142
    }
   ],
   "source": [
    "pseudo_label_df"
   ]
  },
  {
   "cell_type": "code",
   "execution_count": 147,
   "metadata": {},
   "outputs": [],
   "source": [
    "pseudo_label_list = [] \n",
    "for idx, row in pseudo_labels.iterrows():\n",
    "    recording_id = row\n",
    "    try:\n",
    "        pseudo_label = row.value_counts()[(row.value_counts() > 2)].values[0]\n",
    "    except:\n",
    "        pseudo_label = np.nan\n",
    "\n",
    "    pseudo_label_list.append(pseudo_label)\n"
   ]
  },
  {
   "cell_type": "code",
   "execution_count": 148,
   "metadata": {},
   "outputs": [],
   "source": [
    "pseudo_label_df[\"species_id\"] = pseudo_label_list\n",
    "\n",
    "# ひとまずclip単位でラベル付けと言うことにしたいのでtimeは0~60\n",
    "pseudo_label_df[\"t_min\"] = 0\n",
    "pseudo_label_df[\"t_max\"] = 60"
   ]
  },
  {
   "cell_type": "code",
   "execution_count": 150,
   "metadata": {},
   "outputs": [
    {
     "output_type": "execute_result",
     "data": {
      "text/plain": [
       "3.0    92\n",
       "5.0    34\n",
       "4.0    31\n",
       "Name: species_id, dtype: int64"
      ]
     },
     "metadata": {},
     "execution_count": 150
    }
   ],
   "source": [
    "pseudo_label_df.species_id.value_counts()"
   ]
  },
  {
   "cell_type": "code",
   "execution_count": 153,
   "metadata": {},
   "outputs": [],
   "source": [
    "pseudo_label_df = pseudo_label_df.dropna()"
   ]
  },
  {
   "cell_type": "code",
   "execution_count": 154,
   "metadata": {},
   "outputs": [],
   "source": [
    "pseudo_label_df = pseudo_label_df[[\"recording_id\", \"species_id\", \"t_min\", \"t_max\"]]"
   ]
  },
  {
   "cell_type": "code",
   "execution_count": 157,
   "metadata": {},
   "outputs": [],
   "source": [
    "pseudo_label_df[\"species_id\"] = pseudo_label_df[\"species_id\"].astype(int)"
   ]
  },
  {
   "cell_type": "code",
   "execution_count": 158,
   "metadata": {},
   "outputs": [
    {
     "output_type": "execute_result",
     "data": {
      "text/plain": [
       "     recording_id  species_id  t_min  t_max\n",
       "6       00d442df7           5      0     60\n",
       "13      0268057eb           5      0     60\n",
       "17      02b9a8ab9           3      0     60\n",
       "21      03d77fede           5      0     60\n",
       "33      05b9c974c           3      0     60\n",
       "...           ...         ...    ...    ...\n",
       "1181    f5e6456f0           5      0     60\n",
       "1186    f7d92975f           3      0     60\n",
       "1202    fc47cfba3           5      0     60\n",
       "1203    fc6609050           5      0     60\n",
       "1213    ff2eb9ce5           5      0     60\n",
       "\n",
       "[157 rows x 4 columns]"
      ],
      "text/html": "<div>\n<style scoped>\n    .dataframe tbody tr th:only-of-type {\n        vertical-align: middle;\n    }\n\n    .dataframe tbody tr th {\n        vertical-align: top;\n    }\n\n    .dataframe thead th {\n        text-align: right;\n    }\n</style>\n<table border=\"1\" class=\"dataframe\">\n  <thead>\n    <tr style=\"text-align: right;\">\n      <th></th>\n      <th>recording_id</th>\n      <th>species_id</th>\n      <th>t_min</th>\n      <th>t_max</th>\n    </tr>\n  </thead>\n  <tbody>\n    <tr>\n      <td>6</td>\n      <td>00d442df7</td>\n      <td>5</td>\n      <td>0</td>\n      <td>60</td>\n    </tr>\n    <tr>\n      <td>13</td>\n      <td>0268057eb</td>\n      <td>5</td>\n      <td>0</td>\n      <td>60</td>\n    </tr>\n    <tr>\n      <td>17</td>\n      <td>02b9a8ab9</td>\n      <td>3</td>\n      <td>0</td>\n      <td>60</td>\n    </tr>\n    <tr>\n      <td>21</td>\n      <td>03d77fede</td>\n      <td>5</td>\n      <td>0</td>\n      <td>60</td>\n    </tr>\n    <tr>\n      <td>33</td>\n      <td>05b9c974c</td>\n      <td>3</td>\n      <td>0</td>\n      <td>60</td>\n    </tr>\n    <tr>\n      <td>...</td>\n      <td>...</td>\n      <td>...</td>\n      <td>...</td>\n      <td>...</td>\n    </tr>\n    <tr>\n      <td>1181</td>\n      <td>f5e6456f0</td>\n      <td>5</td>\n      <td>0</td>\n      <td>60</td>\n    </tr>\n    <tr>\n      <td>1186</td>\n      <td>f7d92975f</td>\n      <td>3</td>\n      <td>0</td>\n      <td>60</td>\n    </tr>\n    <tr>\n      <td>1202</td>\n      <td>fc47cfba3</td>\n      <td>5</td>\n      <td>0</td>\n      <td>60</td>\n    </tr>\n    <tr>\n      <td>1203</td>\n      <td>fc6609050</td>\n      <td>5</td>\n      <td>0</td>\n      <td>60</td>\n    </tr>\n    <tr>\n      <td>1213</td>\n      <td>ff2eb9ce5</td>\n      <td>5</td>\n      <td>0</td>\n      <td>60</td>\n    </tr>\n  </tbody>\n</table>\n<p>157 rows × 4 columns</p>\n</div>"
     },
     "metadata": {},
     "execution_count": 158
    }
   ],
   "source": [
    "pseudo_label_df"
   ]
  },
  {
   "cell_type": "code",
   "execution_count": 161,
   "metadata": {},
   "outputs": [],
   "source": [
    "pseudo_label_df.to_csv(\"./input/rfcx-species-audio-detection/pseudo.csv\", index=False)"
   ]
  },
  {
   "cell_type": "code",
   "execution_count": null,
   "metadata": {},
   "outputs": [],
   "source": []
  }
 ]
}