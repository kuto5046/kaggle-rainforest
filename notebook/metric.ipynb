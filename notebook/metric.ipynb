{
 "metadata": {
  "language_info": {
   "codemirror_mode": {
    "name": "ipython",
    "version": 3
   },
   "file_extension": ".py",
   "mimetype": "text/x-python",
   "name": "python",
   "nbconvert_exporter": "python",
   "pygments_lexer": "ipython3",
   "version": "3.7.4-final"
  },
  "orig_nbformat": 2,
  "kernelspec": {
   "name": "python3",
   "display_name": "Python 3",
   "language": "python"
  }
 },
 "nbformat": 4,
 "nbformat_minor": 2,
 "cells": [
  {
   "cell_type": "code",
   "execution_count": 1,
   "metadata": {},
   "outputs": [],
   "source": [
    "import pandas as pd\n",
    "import torch\n",
    "import numpy as np\n",
    "\n",
    "# LRAP. Instance-level average\n",
    "# Assume float preds [BxC], labels [BxC] of 0 or 1\n",
    "def LRAP(preds, labels):\n",
    "    # Ranks of the predictions\n",
    "    ranked_classes = torch.argsort(preds, dim=-1, descending=True)\n",
    "    # i, j corresponds to rank of prediction in row i\n",
    "    class_ranks = torch.zeros_like(ranked_classes)\n",
    "    for i in range(ranked_classes.size(0)):\n",
    "        for j in range(ranked_classes.size(1)):\n",
    "            class_ranks[i, ranked_classes[i][j]] = j + 1\n",
    "    # Mask out to only use the ranks of relevant GT labels\n",
    "    ground_truth_ranks = class_ranks * labels + (1e6) * (1 - labels)\n",
    "    # All the GT ranks are in front now\n",
    "    sorted_ground_truth_ranks, _ = torch.sort(ground_truth_ranks, dim=-1, descending=False)\n",
    "    pos_matrix = torch.tensor(np.array([i+1 for i in range(labels.size(-1))])).unsqueeze(0)\n",
    "    score_matrix = pos_matrix / sorted_ground_truth_ranks\n",
    "    score_mask_matrix, _ = torch.sort(labels, dim=-1, descending=True)\n",
    "    scores = score_matrix * score_mask_matrix\n",
    "    score = (scores.sum(-1) / labels.sum(-1)).mean()\n",
    "    return score.item()\n",
    "\n",
    "# label-level average\n",
    "# Assume float preds [BxC], labels [BxC] of 0 or 1\n",
    "def LWLRAP(preds, labels):\n",
    "    preds = preds.to('cpu')\n",
    "    labels = labels.to('cpu')\n",
    "\n",
    "    labels[labels > 0.0] = 1.0  # label smoothingする場合もスコア計算のため1にしてしまう\n",
    "    # Ranks of the predictions\n",
    "    ranked_classes = torch.argsort(preds, dim=-1, descending=True)\n",
    "    # i, j corresponds to rank of prediction in row i\n",
    "    class_ranks = torch.zeros_like(ranked_classes)\n",
    "    for i in range(ranked_classes.size(0)):\n",
    "        for j in range(ranked_classes.size(1)):\n",
    "            class_ranks[i, ranked_classes[i][j]] = j + 1\n",
    "    # Mask out to only use the ranks of relevant GT labels\n",
    "    ground_truth_ranks = class_ranks * labels + (1e6) * (1 - labels)\n",
    "    # All the GT ranks are in front now\n",
    "    sorted_ground_truth_ranks, _ = torch.sort(ground_truth_ranks, dim=-1, descending=False)\n",
    "    # Number of GT labels per instance\n",
    "    # num_labels = labels.sum(-1)\n",
    "    pos_matrix = torch.tensor(np.array([i+1 for i in range(labels.size(-1))])).unsqueeze(0)\n",
    "    score_matrix = pos_matrix / sorted_ground_truth_ranks\n",
    "    score_mask_matrix, _ = torch.sort(labels, dim=-1, descending=True)\n",
    "    scores = score_matrix * score_mask_matrix\n",
    "    score = scores.sum() / labels.sum()\n",
    "    return score.item()"
   ]
  },
  {
   "cell_type": "code",
   "execution_count": 2,
   "metadata": {},
   "outputs": [
    {
     "output_type": "execute_result",
     "data": {
      "text/plain": [
       "      patch recording_id        s0        s1        s2        s3        s4  \\\n",
       "0         0    00204008d  0.388839  0.400301  0.444385  0.456869  0.365506   \n",
       "1         1    00204008d  0.413053  0.426108  0.444106  0.458102  0.359499   \n",
       "2         2    00204008d  0.400161  0.386512  0.443300  0.426421  0.349051   \n",
       "3         3    00204008d  0.424451  0.389848  0.444761  0.453182  0.363450   \n",
       "4         4    00204008d  0.457233  0.328380  0.437612  0.441657  0.337332   \n",
       "...     ...          ...       ...       ...       ...       ...       ...   \n",
       "7547      3    ffc51b999  0.617157  0.458993  0.456473  0.442859  0.408201   \n",
       "7548      4    ffc51b999  0.379266  0.457495  0.458051  0.444310  0.381666   \n",
       "7549      5    ffc51b999  0.377728  0.453948  0.455647  0.459933  0.410888   \n",
       "7550      6    ffc51b999  0.361325  0.488804  0.459886  0.451237  0.384450   \n",
       "7551      7    ffc51b999  0.351819  0.453302  0.455319  0.445899  0.394338   \n",
       "\n",
       "            s5        s6        s7  ...       s14       s15       s16  \\\n",
       "0     0.443940  0.425184  0.454779  ...  0.402602  0.452944  0.405192   \n",
       "1     0.440746  0.425694  0.460345  ...  0.403391  0.469417  0.410445   \n",
       "2     0.526166  0.425017  0.403028  ...  0.409017  0.448204  0.412030   \n",
       "3     0.441582  0.426289  0.436665  ...  0.398530  0.437386  0.399447   \n",
       "4     0.440208  0.425606  0.431339  ...  0.390283  0.446664  0.384524   \n",
       "...        ...       ...       ...  ...       ...       ...       ...   \n",
       "7547  0.444333  0.445392  0.462076  ...  0.450080  0.418472  0.456853   \n",
       "7548  0.443385  0.441922  0.449407  ...  0.464344  0.418222  0.449390   \n",
       "7549  0.445344  0.440310  0.450840  ...  0.462218  0.431957  0.519024   \n",
       "7550  0.444176  0.437296  0.451156  ...  0.460170  0.421941  0.460414   \n",
       "7551  0.444028  0.439850  0.448338  ...  0.459488  0.410132  0.445393   \n",
       "\n",
       "           s17       s18       s19       s20       s21       s22       s23  \n",
       "0     0.402140  0.718833  0.442393  0.426652  0.380903  0.385289  0.447050  \n",
       "1     0.405224  0.703724  0.444906  0.428327  0.392969  0.352724  0.443755  \n",
       "2     0.410249  0.573275  0.444543  0.436819  0.362264  0.363831  0.437698  \n",
       "3     0.403197  0.691345  0.439346  0.425039  0.384399  0.345197  0.447465  \n",
       "4     0.377371  0.790667  0.443833  0.408479  0.375834  0.390951  0.446790  \n",
       "...        ...       ...       ...       ...       ...       ...       ...  \n",
       "7547  0.436164  0.437196  0.453537  0.449076  0.455796  0.292711  0.449083  \n",
       "7548  0.439424  0.392345  0.445512  0.447530  0.445514  0.344163  0.444928  \n",
       "7549  0.453018  0.406728  0.447433  0.449198  0.463891  0.334271  0.446323  \n",
       "7550  0.442230  0.391435  0.445119  0.445296  0.445489  0.274580  0.443030  \n",
       "7551  0.441345  0.395564  0.445217  0.444907  0.450306  0.254544  0.442821  \n",
       "\n",
       "[37816 rows x 26 columns]"
      ],
      "text/html": "<div>\n<style scoped>\n    .dataframe tbody tr th:only-of-type {\n        vertical-align: middle;\n    }\n\n    .dataframe tbody tr th {\n        vertical-align: top;\n    }\n\n    .dataframe thead th {\n        text-align: right;\n    }\n</style>\n<table border=\"1\" class=\"dataframe\">\n  <thead>\n    <tr style=\"text-align: right;\">\n      <th></th>\n      <th>patch</th>\n      <th>recording_id</th>\n      <th>s0</th>\n      <th>s1</th>\n      <th>s2</th>\n      <th>s3</th>\n      <th>s4</th>\n      <th>s5</th>\n      <th>s6</th>\n      <th>s7</th>\n      <th>...</th>\n      <th>s14</th>\n      <th>s15</th>\n      <th>s16</th>\n      <th>s17</th>\n      <th>s18</th>\n      <th>s19</th>\n      <th>s20</th>\n      <th>s21</th>\n      <th>s22</th>\n      <th>s23</th>\n    </tr>\n  </thead>\n  <tbody>\n    <tr>\n      <td>0</td>\n      <td>0</td>\n      <td>00204008d</td>\n      <td>0.388839</td>\n      <td>0.400301</td>\n      <td>0.444385</td>\n      <td>0.456869</td>\n      <td>0.365506</td>\n      <td>0.443940</td>\n      <td>0.425184</td>\n      <td>0.454779</td>\n      <td>...</td>\n      <td>0.402602</td>\n      <td>0.452944</td>\n      <td>0.405192</td>\n      <td>0.402140</td>\n      <td>0.718833</td>\n      <td>0.442393</td>\n      <td>0.426652</td>\n      <td>0.380903</td>\n      <td>0.385289</td>\n      <td>0.447050</td>\n    </tr>\n    <tr>\n      <td>1</td>\n      <td>1</td>\n      <td>00204008d</td>\n      <td>0.413053</td>\n      <td>0.426108</td>\n      <td>0.444106</td>\n      <td>0.458102</td>\n      <td>0.359499</td>\n      <td>0.440746</td>\n      <td>0.425694</td>\n      <td>0.460345</td>\n      <td>...</td>\n      <td>0.403391</td>\n      <td>0.469417</td>\n      <td>0.410445</td>\n      <td>0.405224</td>\n      <td>0.703724</td>\n      <td>0.444906</td>\n      <td>0.428327</td>\n      <td>0.392969</td>\n      <td>0.352724</td>\n      <td>0.443755</td>\n    </tr>\n    <tr>\n      <td>2</td>\n      <td>2</td>\n      <td>00204008d</td>\n      <td>0.400161</td>\n      <td>0.386512</td>\n      <td>0.443300</td>\n      <td>0.426421</td>\n      <td>0.349051</td>\n      <td>0.526166</td>\n      <td>0.425017</td>\n      <td>0.403028</td>\n      <td>...</td>\n      <td>0.409017</td>\n      <td>0.448204</td>\n      <td>0.412030</td>\n      <td>0.410249</td>\n      <td>0.573275</td>\n      <td>0.444543</td>\n      <td>0.436819</td>\n      <td>0.362264</td>\n      <td>0.363831</td>\n      <td>0.437698</td>\n    </tr>\n    <tr>\n      <td>3</td>\n      <td>3</td>\n      <td>00204008d</td>\n      <td>0.424451</td>\n      <td>0.389848</td>\n      <td>0.444761</td>\n      <td>0.453182</td>\n      <td>0.363450</td>\n      <td>0.441582</td>\n      <td>0.426289</td>\n      <td>0.436665</td>\n      <td>...</td>\n      <td>0.398530</td>\n      <td>0.437386</td>\n      <td>0.399447</td>\n      <td>0.403197</td>\n      <td>0.691345</td>\n      <td>0.439346</td>\n      <td>0.425039</td>\n      <td>0.384399</td>\n      <td>0.345197</td>\n      <td>0.447465</td>\n    </tr>\n    <tr>\n      <td>4</td>\n      <td>4</td>\n      <td>00204008d</td>\n      <td>0.457233</td>\n      <td>0.328380</td>\n      <td>0.437612</td>\n      <td>0.441657</td>\n      <td>0.337332</td>\n      <td>0.440208</td>\n      <td>0.425606</td>\n      <td>0.431339</td>\n      <td>...</td>\n      <td>0.390283</td>\n      <td>0.446664</td>\n      <td>0.384524</td>\n      <td>0.377371</td>\n      <td>0.790667</td>\n      <td>0.443833</td>\n      <td>0.408479</td>\n      <td>0.375834</td>\n      <td>0.390951</td>\n      <td>0.446790</td>\n    </tr>\n    <tr>\n      <td>...</td>\n      <td>...</td>\n      <td>...</td>\n      <td>...</td>\n      <td>...</td>\n      <td>...</td>\n      <td>...</td>\n      <td>...</td>\n      <td>...</td>\n      <td>...</td>\n      <td>...</td>\n      <td>...</td>\n      <td>...</td>\n      <td>...</td>\n      <td>...</td>\n      <td>...</td>\n      <td>...</td>\n      <td>...</td>\n      <td>...</td>\n      <td>...</td>\n      <td>...</td>\n      <td>...</td>\n    </tr>\n    <tr>\n      <td>7547</td>\n      <td>3</td>\n      <td>ffc51b999</td>\n      <td>0.617157</td>\n      <td>0.458993</td>\n      <td>0.456473</td>\n      <td>0.442859</td>\n      <td>0.408201</td>\n      <td>0.444333</td>\n      <td>0.445392</td>\n      <td>0.462076</td>\n      <td>...</td>\n      <td>0.450080</td>\n      <td>0.418472</td>\n      <td>0.456853</td>\n      <td>0.436164</td>\n      <td>0.437196</td>\n      <td>0.453537</td>\n      <td>0.449076</td>\n      <td>0.455796</td>\n      <td>0.292711</td>\n      <td>0.449083</td>\n    </tr>\n    <tr>\n      <td>7548</td>\n      <td>4</td>\n      <td>ffc51b999</td>\n      <td>0.379266</td>\n      <td>0.457495</td>\n      <td>0.458051</td>\n      <td>0.444310</td>\n      <td>0.381666</td>\n      <td>0.443385</td>\n      <td>0.441922</td>\n      <td>0.449407</td>\n      <td>...</td>\n      <td>0.464344</td>\n      <td>0.418222</td>\n      <td>0.449390</td>\n      <td>0.439424</td>\n      <td>0.392345</td>\n      <td>0.445512</td>\n      <td>0.447530</td>\n      <td>0.445514</td>\n      <td>0.344163</td>\n      <td>0.444928</td>\n    </tr>\n    <tr>\n      <td>7549</td>\n      <td>5</td>\n      <td>ffc51b999</td>\n      <td>0.377728</td>\n      <td>0.453948</td>\n      <td>0.455647</td>\n      <td>0.459933</td>\n      <td>0.410888</td>\n      <td>0.445344</td>\n      <td>0.440310</td>\n      <td>0.450840</td>\n      <td>...</td>\n      <td>0.462218</td>\n      <td>0.431957</td>\n      <td>0.519024</td>\n      <td>0.453018</td>\n      <td>0.406728</td>\n      <td>0.447433</td>\n      <td>0.449198</td>\n      <td>0.463891</td>\n      <td>0.334271</td>\n      <td>0.446323</td>\n    </tr>\n    <tr>\n      <td>7550</td>\n      <td>6</td>\n      <td>ffc51b999</td>\n      <td>0.361325</td>\n      <td>0.488804</td>\n      <td>0.459886</td>\n      <td>0.451237</td>\n      <td>0.384450</td>\n      <td>0.444176</td>\n      <td>0.437296</td>\n      <td>0.451156</td>\n      <td>...</td>\n      <td>0.460170</td>\n      <td>0.421941</td>\n      <td>0.460414</td>\n      <td>0.442230</td>\n      <td>0.391435</td>\n      <td>0.445119</td>\n      <td>0.445296</td>\n      <td>0.445489</td>\n      <td>0.274580</td>\n      <td>0.443030</td>\n    </tr>\n    <tr>\n      <td>7551</td>\n      <td>7</td>\n      <td>ffc51b999</td>\n      <td>0.351819</td>\n      <td>0.453302</td>\n      <td>0.455319</td>\n      <td>0.445899</td>\n      <td>0.394338</td>\n      <td>0.444028</td>\n      <td>0.439850</td>\n      <td>0.448338</td>\n      <td>...</td>\n      <td>0.459488</td>\n      <td>0.410132</td>\n      <td>0.445393</td>\n      <td>0.441345</td>\n      <td>0.395564</td>\n      <td>0.445217</td>\n      <td>0.444907</td>\n      <td>0.450306</td>\n      <td>0.254544</td>\n      <td>0.442821</td>\n    </tr>\n  </tbody>\n</table>\n<p>37816 rows × 26 columns</p>\n</div>"
     },
     "metadata": {},
     "execution_count": 2
    }
   ],
   "source": [
    "\n",
    "input_dir = \"../oof/\"\n",
    "oof0 = pd.read_csv(input_dir + \"fold0_oof.csv\")\n",
    "oof1 = pd.read_csv(input_dir + \"fold1_oof.csv\")\n",
    "oof2 = pd.read_csv(input_dir + \"fold2_oof.csv\")\n",
    "oof3 = pd.read_csv(input_dir + \"fold3_oof.csv\")\n",
    "oof4 = pd.read_csv(input_dir + \"fold4_oof.csv\")\n",
    "oof = pd.concat([oof0, oof1, oof2, oof3, oof4])\n",
    "oof"
   ]
  },
  {
   "cell_type": "code",
   "execution_count": 3,
   "metadata": {},
   "outputs": [
    {
     "output_type": "execute_result",
     "data": {
      "text/plain": [
       "     recording_id  patch        s0        s1        s2        s3        s4  \\\n",
       "0       00204008d      7  0.457233  0.426108  0.444761  0.458102  0.365506   \n",
       "1       003b04435      7  0.528597  0.913295  0.871266  0.812116  0.447694   \n",
       "2       003bec244      7  0.418618  0.735148  0.432816  0.667090  0.454565   \n",
       "3       005f1f9a5      7  0.436282  0.725134  0.464517  0.805374  0.438158   \n",
       "4       006ab765f      7  0.414059  0.445632  0.455483  0.461156  0.449075   \n",
       "...           ...    ...       ...       ...       ...       ...       ...   \n",
       "4722    ffc6031f8      7  0.339320  0.468102  0.436852  0.798675  0.292666   \n",
       "4723    ffd88cd84      7  0.768539  0.901382  0.435205  0.837973  0.421219   \n",
       "4724    ffebe7313      7  0.473779  0.464623  0.458501  0.603527  0.815343   \n",
       "4725    fff163132      7  0.343913  0.432981  0.452336  0.468970  0.478721   \n",
       "4726    fffb79246      7  0.406672  0.427202  0.443963  0.469618  0.391369   \n",
       "\n",
       "            s5        s6        s7  ...       s14       s15       s16  \\\n",
       "0     0.526166  0.428083  0.460345  ...  0.409017  0.469417  0.412030   \n",
       "1     0.453690  0.452712  0.459338  ...  0.431918  0.398926  0.452681   \n",
       "2     0.556305  0.495131  0.873250  ...  0.659684  0.453744  0.426848   \n",
       "3     0.460427  0.438965  0.849456  ...  0.464947  0.464022  0.460563   \n",
       "4     0.445785  0.449796  0.461478  ...  0.471460  0.430100  0.448259   \n",
       "...        ...       ...       ...  ...       ...       ...       ...   \n",
       "4722  0.397013  0.444576  0.937691  ...  0.485841  0.936128  0.458928   \n",
       "4723  0.447577  0.467724  0.474556  ...  0.466148  0.939503  0.451903   \n",
       "4724  0.437975  0.431569  0.482988  ...  0.425762  0.487138  0.449123   \n",
       "4725  0.448528  0.453942  0.445920  ...  0.418880  0.421403  0.444948   \n",
       "4726  0.451615  0.431368  0.438656  ...  0.479845  0.451742  0.429486   \n",
       "\n",
       "           s17       s18       s19       s20       s21       s22       s23  \n",
       "0     0.410249  0.790667  0.498771  0.436819  0.407147  0.390951  0.450338  \n",
       "1     0.428757  0.527496  0.438440  0.460912  0.439353  0.400656  0.442884  \n",
       "2     0.443046  0.466168  0.444138  0.453781  0.431391  0.424338  0.440792  \n",
       "3     0.448875  0.479612  0.448239  0.456199  0.457002  0.405939  0.431987  \n",
       "4     0.446161  0.459838  0.450800  0.447716  0.454672  0.353570  0.867027  \n",
       "...        ...       ...       ...       ...       ...       ...       ...  \n",
       "4722  0.387619  0.446177  0.424758  0.532810  0.490883  0.388530  0.323595  \n",
       "4723  0.416294  0.557164  0.430863  0.449168  0.490136  0.421007  0.453502  \n",
       "4724  0.455654  0.428014  0.448897  0.436604  0.965383  0.359498  0.435339  \n",
       "4725  0.459091  0.472290  0.453982  0.447014  0.421707  0.331133  0.438600  \n",
       "4726  0.431352  0.545094  0.444275  0.443633  0.583475  0.336906  0.456591  \n",
       "\n",
       "[4727 rows x 26 columns]"
      ],
      "text/html": "<div>\n<style scoped>\n    .dataframe tbody tr th:only-of-type {\n        vertical-align: middle;\n    }\n\n    .dataframe tbody tr th {\n        vertical-align: top;\n    }\n\n    .dataframe thead th {\n        text-align: right;\n    }\n</style>\n<table border=\"1\" class=\"dataframe\">\n  <thead>\n    <tr style=\"text-align: right;\">\n      <th></th>\n      <th>recording_id</th>\n      <th>patch</th>\n      <th>s0</th>\n      <th>s1</th>\n      <th>s2</th>\n      <th>s3</th>\n      <th>s4</th>\n      <th>s5</th>\n      <th>s6</th>\n      <th>s7</th>\n      <th>...</th>\n      <th>s14</th>\n      <th>s15</th>\n      <th>s16</th>\n      <th>s17</th>\n      <th>s18</th>\n      <th>s19</th>\n      <th>s20</th>\n      <th>s21</th>\n      <th>s22</th>\n      <th>s23</th>\n    </tr>\n  </thead>\n  <tbody>\n    <tr>\n      <td>0</td>\n      <td>00204008d</td>\n      <td>7</td>\n      <td>0.457233</td>\n      <td>0.426108</td>\n      <td>0.444761</td>\n      <td>0.458102</td>\n      <td>0.365506</td>\n      <td>0.526166</td>\n      <td>0.428083</td>\n      <td>0.460345</td>\n      <td>...</td>\n      <td>0.409017</td>\n      <td>0.469417</td>\n      <td>0.412030</td>\n      <td>0.410249</td>\n      <td>0.790667</td>\n      <td>0.498771</td>\n      <td>0.436819</td>\n      <td>0.407147</td>\n      <td>0.390951</td>\n      <td>0.450338</td>\n    </tr>\n    <tr>\n      <td>1</td>\n      <td>003b04435</td>\n      <td>7</td>\n      <td>0.528597</td>\n      <td>0.913295</td>\n      <td>0.871266</td>\n      <td>0.812116</td>\n      <td>0.447694</td>\n      <td>0.453690</td>\n      <td>0.452712</td>\n      <td>0.459338</td>\n      <td>...</td>\n      <td>0.431918</td>\n      <td>0.398926</td>\n      <td>0.452681</td>\n      <td>0.428757</td>\n      <td>0.527496</td>\n      <td>0.438440</td>\n      <td>0.460912</td>\n      <td>0.439353</td>\n      <td>0.400656</td>\n      <td>0.442884</td>\n    </tr>\n    <tr>\n      <td>2</td>\n      <td>003bec244</td>\n      <td>7</td>\n      <td>0.418618</td>\n      <td>0.735148</td>\n      <td>0.432816</td>\n      <td>0.667090</td>\n      <td>0.454565</td>\n      <td>0.556305</td>\n      <td>0.495131</td>\n      <td>0.873250</td>\n      <td>...</td>\n      <td>0.659684</td>\n      <td>0.453744</td>\n      <td>0.426848</td>\n      <td>0.443046</td>\n      <td>0.466168</td>\n      <td>0.444138</td>\n      <td>0.453781</td>\n      <td>0.431391</td>\n      <td>0.424338</td>\n      <td>0.440792</td>\n    </tr>\n    <tr>\n      <td>3</td>\n      <td>005f1f9a5</td>\n      <td>7</td>\n      <td>0.436282</td>\n      <td>0.725134</td>\n      <td>0.464517</td>\n      <td>0.805374</td>\n      <td>0.438158</td>\n      <td>0.460427</td>\n      <td>0.438965</td>\n      <td>0.849456</td>\n      <td>...</td>\n      <td>0.464947</td>\n      <td>0.464022</td>\n      <td>0.460563</td>\n      <td>0.448875</td>\n      <td>0.479612</td>\n      <td>0.448239</td>\n      <td>0.456199</td>\n      <td>0.457002</td>\n      <td>0.405939</td>\n      <td>0.431987</td>\n    </tr>\n    <tr>\n      <td>4</td>\n      <td>006ab765f</td>\n      <td>7</td>\n      <td>0.414059</td>\n      <td>0.445632</td>\n      <td>0.455483</td>\n      <td>0.461156</td>\n      <td>0.449075</td>\n      <td>0.445785</td>\n      <td>0.449796</td>\n      <td>0.461478</td>\n      <td>...</td>\n      <td>0.471460</td>\n      <td>0.430100</td>\n      <td>0.448259</td>\n      <td>0.446161</td>\n      <td>0.459838</td>\n      <td>0.450800</td>\n      <td>0.447716</td>\n      <td>0.454672</td>\n      <td>0.353570</td>\n      <td>0.867027</td>\n    </tr>\n    <tr>\n      <td>...</td>\n      <td>...</td>\n      <td>...</td>\n      <td>...</td>\n      <td>...</td>\n      <td>...</td>\n      <td>...</td>\n      <td>...</td>\n      <td>...</td>\n      <td>...</td>\n      <td>...</td>\n      <td>...</td>\n      <td>...</td>\n      <td>...</td>\n      <td>...</td>\n      <td>...</td>\n      <td>...</td>\n      <td>...</td>\n      <td>...</td>\n      <td>...</td>\n      <td>...</td>\n      <td>...</td>\n    </tr>\n    <tr>\n      <td>4722</td>\n      <td>ffc6031f8</td>\n      <td>7</td>\n      <td>0.339320</td>\n      <td>0.468102</td>\n      <td>0.436852</td>\n      <td>0.798675</td>\n      <td>0.292666</td>\n      <td>0.397013</td>\n      <td>0.444576</td>\n      <td>0.937691</td>\n      <td>...</td>\n      <td>0.485841</td>\n      <td>0.936128</td>\n      <td>0.458928</td>\n      <td>0.387619</td>\n      <td>0.446177</td>\n      <td>0.424758</td>\n      <td>0.532810</td>\n      <td>0.490883</td>\n      <td>0.388530</td>\n      <td>0.323595</td>\n    </tr>\n    <tr>\n      <td>4723</td>\n      <td>ffd88cd84</td>\n      <td>7</td>\n      <td>0.768539</td>\n      <td>0.901382</td>\n      <td>0.435205</td>\n      <td>0.837973</td>\n      <td>0.421219</td>\n      <td>0.447577</td>\n      <td>0.467724</td>\n      <td>0.474556</td>\n      <td>...</td>\n      <td>0.466148</td>\n      <td>0.939503</td>\n      <td>0.451903</td>\n      <td>0.416294</td>\n      <td>0.557164</td>\n      <td>0.430863</td>\n      <td>0.449168</td>\n      <td>0.490136</td>\n      <td>0.421007</td>\n      <td>0.453502</td>\n    </tr>\n    <tr>\n      <td>4724</td>\n      <td>ffebe7313</td>\n      <td>7</td>\n      <td>0.473779</td>\n      <td>0.464623</td>\n      <td>0.458501</td>\n      <td>0.603527</td>\n      <td>0.815343</td>\n      <td>0.437975</td>\n      <td>0.431569</td>\n      <td>0.482988</td>\n      <td>...</td>\n      <td>0.425762</td>\n      <td>0.487138</td>\n      <td>0.449123</td>\n      <td>0.455654</td>\n      <td>0.428014</td>\n      <td>0.448897</td>\n      <td>0.436604</td>\n      <td>0.965383</td>\n      <td>0.359498</td>\n      <td>0.435339</td>\n    </tr>\n    <tr>\n      <td>4725</td>\n      <td>fff163132</td>\n      <td>7</td>\n      <td>0.343913</td>\n      <td>0.432981</td>\n      <td>0.452336</td>\n      <td>0.468970</td>\n      <td>0.478721</td>\n      <td>0.448528</td>\n      <td>0.453942</td>\n      <td>0.445920</td>\n      <td>...</td>\n      <td>0.418880</td>\n      <td>0.421403</td>\n      <td>0.444948</td>\n      <td>0.459091</td>\n      <td>0.472290</td>\n      <td>0.453982</td>\n      <td>0.447014</td>\n      <td>0.421707</td>\n      <td>0.331133</td>\n      <td>0.438600</td>\n    </tr>\n    <tr>\n      <td>4726</td>\n      <td>fffb79246</td>\n      <td>7</td>\n      <td>0.406672</td>\n      <td>0.427202</td>\n      <td>0.443963</td>\n      <td>0.469618</td>\n      <td>0.391369</td>\n      <td>0.451615</td>\n      <td>0.431368</td>\n      <td>0.438656</td>\n      <td>...</td>\n      <td>0.479845</td>\n      <td>0.451742</td>\n      <td>0.429486</td>\n      <td>0.431352</td>\n      <td>0.545094</td>\n      <td>0.444275</td>\n      <td>0.443633</td>\n      <td>0.583475</td>\n      <td>0.336906</td>\n      <td>0.456591</td>\n    </tr>\n  </tbody>\n</table>\n<p>4727 rows × 26 columns</p>\n</div>"
     },
     "metadata": {},
     "execution_count": 3
    }
   ],
   "source": [
    "oof2 = oof.groupby('recording_id').max().reset_index(drop=False)\n",
    "oof2"
   ]
  },
  {
   "cell_type": "code",
   "execution_count": 4,
   "metadata": {},
   "outputs": [
    {
     "output_type": "execute_result",
     "data": {
      "text/plain": [
       "      s0  s1  s2  s3  s4  s5  s6  s7  s8  s9  ...  s15  s16  s17  s18  s19  \\\n",
       "0      0   0   0   0   0   0   0   0   0   0  ...    0    0    0    0    0   \n",
       "1      0   0   0   0   0   0   0   0   0   0  ...    0    0    0    0    0   \n",
       "2      0   0   0   0   0   0   0   0   0   0  ...    0    0    0    0    0   \n",
       "3      0   0   0   0   0   0   0   0   0   0  ...    0    0    1    0    0   \n",
       "4      0   0   0   0   0   0   0   0   0   0  ...    0    0    0    0    0   \n",
       "...   ..  ..  ..  ..  ..  ..  ..  ..  ..  ..  ...  ...  ...  ...  ...  ...   \n",
       "1127   0   0   0   0   0   0   0   0   0   0  ...    0    0    0    0    0   \n",
       "1128   0   0   0   0   1   0   0   0   0   0  ...    0    0    0    0    0   \n",
       "1129   1   0   0   0   0   0   0   0   0   0  ...    0    0    0    0    0   \n",
       "1130   0   0   0   0   0   1   0   0   0   0  ...    0    0    0    0    0   \n",
       "1131   0   0   0   0   0   0   0   0   0   0  ...    0    0    0    1    0   \n",
       "\n",
       "      s20  s21  s22  s23  recording_id  \n",
       "0       0    0    0    0     003bec244  \n",
       "1       0    0    0    1     006ab765f  \n",
       "2       0    0    0    0     007f87ba2  \n",
       "3       0    0    0    0     0099c367b  \n",
       "4       0    0    0    0     009b760e6  \n",
       "...   ...  ...  ...  ...           ...  \n",
       "1127    0    0    0    0     fe8d9ac40  \n",
       "1128    0    0    0    0     fea6b438a  \n",
       "1129    0    0    0    0     ff2eb9ce5  \n",
       "1130    0    0    0    0     ffb8d8391  \n",
       "1131    0    0    0    0     ffb9a7b9a  \n",
       "\n",
       "[1132 rows x 25 columns]"
      ],
      "text/html": "<div>\n<style scoped>\n    .dataframe tbody tr th:only-of-type {\n        vertical-align: middle;\n    }\n\n    .dataframe tbody tr th {\n        vertical-align: top;\n    }\n\n    .dataframe thead th {\n        text-align: right;\n    }\n</style>\n<table border=\"1\" class=\"dataframe\">\n  <thead>\n    <tr style=\"text-align: right;\">\n      <th></th>\n      <th>s0</th>\n      <th>s1</th>\n      <th>s2</th>\n      <th>s3</th>\n      <th>s4</th>\n      <th>s5</th>\n      <th>s6</th>\n      <th>s7</th>\n      <th>s8</th>\n      <th>s9</th>\n      <th>...</th>\n      <th>s15</th>\n      <th>s16</th>\n      <th>s17</th>\n      <th>s18</th>\n      <th>s19</th>\n      <th>s20</th>\n      <th>s21</th>\n      <th>s22</th>\n      <th>s23</th>\n      <th>recording_id</th>\n    </tr>\n  </thead>\n  <tbody>\n    <tr>\n      <td>0</td>\n      <td>0</td>\n      <td>0</td>\n      <td>0</td>\n      <td>0</td>\n      <td>0</td>\n      <td>0</td>\n      <td>0</td>\n      <td>0</td>\n      <td>0</td>\n      <td>0</td>\n      <td>...</td>\n      <td>0</td>\n      <td>0</td>\n      <td>0</td>\n      <td>0</td>\n      <td>0</td>\n      <td>0</td>\n      <td>0</td>\n      <td>0</td>\n      <td>0</td>\n      <td>003bec244</td>\n    </tr>\n    <tr>\n      <td>1</td>\n      <td>0</td>\n      <td>0</td>\n      <td>0</td>\n      <td>0</td>\n      <td>0</td>\n      <td>0</td>\n      <td>0</td>\n      <td>0</td>\n      <td>0</td>\n      <td>0</td>\n      <td>...</td>\n      <td>0</td>\n      <td>0</td>\n      <td>0</td>\n      <td>0</td>\n      <td>0</td>\n      <td>0</td>\n      <td>0</td>\n      <td>0</td>\n      <td>1</td>\n      <td>006ab765f</td>\n    </tr>\n    <tr>\n      <td>2</td>\n      <td>0</td>\n      <td>0</td>\n      <td>0</td>\n      <td>0</td>\n      <td>0</td>\n      <td>0</td>\n      <td>0</td>\n      <td>0</td>\n      <td>0</td>\n      <td>0</td>\n      <td>...</td>\n      <td>0</td>\n      <td>0</td>\n      <td>0</td>\n      <td>0</td>\n      <td>0</td>\n      <td>0</td>\n      <td>0</td>\n      <td>0</td>\n      <td>0</td>\n      <td>007f87ba2</td>\n    </tr>\n    <tr>\n      <td>3</td>\n      <td>0</td>\n      <td>0</td>\n      <td>0</td>\n      <td>0</td>\n      <td>0</td>\n      <td>0</td>\n      <td>0</td>\n      <td>0</td>\n      <td>0</td>\n      <td>0</td>\n      <td>...</td>\n      <td>0</td>\n      <td>0</td>\n      <td>1</td>\n      <td>0</td>\n      <td>0</td>\n      <td>0</td>\n      <td>0</td>\n      <td>0</td>\n      <td>0</td>\n      <td>0099c367b</td>\n    </tr>\n    <tr>\n      <td>4</td>\n      <td>0</td>\n      <td>0</td>\n      <td>0</td>\n      <td>0</td>\n      <td>0</td>\n      <td>0</td>\n      <td>0</td>\n      <td>0</td>\n      <td>0</td>\n      <td>0</td>\n      <td>...</td>\n      <td>0</td>\n      <td>0</td>\n      <td>0</td>\n      <td>0</td>\n      <td>0</td>\n      <td>0</td>\n      <td>0</td>\n      <td>0</td>\n      <td>0</td>\n      <td>009b760e6</td>\n    </tr>\n    <tr>\n      <td>...</td>\n      <td>...</td>\n      <td>...</td>\n      <td>...</td>\n      <td>...</td>\n      <td>...</td>\n      <td>...</td>\n      <td>...</td>\n      <td>...</td>\n      <td>...</td>\n      <td>...</td>\n      <td>...</td>\n      <td>...</td>\n      <td>...</td>\n      <td>...</td>\n      <td>...</td>\n      <td>...</td>\n      <td>...</td>\n      <td>...</td>\n      <td>...</td>\n      <td>...</td>\n      <td>...</td>\n    </tr>\n    <tr>\n      <td>1127</td>\n      <td>0</td>\n      <td>0</td>\n      <td>0</td>\n      <td>0</td>\n      <td>0</td>\n      <td>0</td>\n      <td>0</td>\n      <td>0</td>\n      <td>0</td>\n      <td>0</td>\n      <td>...</td>\n      <td>0</td>\n      <td>0</td>\n      <td>0</td>\n      <td>0</td>\n      <td>0</td>\n      <td>0</td>\n      <td>0</td>\n      <td>0</td>\n      <td>0</td>\n      <td>fe8d9ac40</td>\n    </tr>\n    <tr>\n      <td>1128</td>\n      <td>0</td>\n      <td>0</td>\n      <td>0</td>\n      <td>0</td>\n      <td>1</td>\n      <td>0</td>\n      <td>0</td>\n      <td>0</td>\n      <td>0</td>\n      <td>0</td>\n      <td>...</td>\n      <td>0</td>\n      <td>0</td>\n      <td>0</td>\n      <td>0</td>\n      <td>0</td>\n      <td>0</td>\n      <td>0</td>\n      <td>0</td>\n      <td>0</td>\n      <td>fea6b438a</td>\n    </tr>\n    <tr>\n      <td>1129</td>\n      <td>1</td>\n      <td>0</td>\n      <td>0</td>\n      <td>0</td>\n      <td>0</td>\n      <td>0</td>\n      <td>0</td>\n      <td>0</td>\n      <td>0</td>\n      <td>0</td>\n      <td>...</td>\n      <td>0</td>\n      <td>0</td>\n      <td>0</td>\n      <td>0</td>\n      <td>0</td>\n      <td>0</td>\n      <td>0</td>\n      <td>0</td>\n      <td>0</td>\n      <td>ff2eb9ce5</td>\n    </tr>\n    <tr>\n      <td>1130</td>\n      <td>0</td>\n      <td>0</td>\n      <td>0</td>\n      <td>0</td>\n      <td>0</td>\n      <td>1</td>\n      <td>0</td>\n      <td>0</td>\n      <td>0</td>\n      <td>0</td>\n      <td>...</td>\n      <td>0</td>\n      <td>0</td>\n      <td>0</td>\n      <td>0</td>\n      <td>0</td>\n      <td>0</td>\n      <td>0</td>\n      <td>0</td>\n      <td>0</td>\n      <td>ffb8d8391</td>\n    </tr>\n    <tr>\n      <td>1131</td>\n      <td>0</td>\n      <td>0</td>\n      <td>0</td>\n      <td>0</td>\n      <td>0</td>\n      <td>0</td>\n      <td>0</td>\n      <td>0</td>\n      <td>0</td>\n      <td>0</td>\n      <td>...</td>\n      <td>0</td>\n      <td>0</td>\n      <td>0</td>\n      <td>1</td>\n      <td>0</td>\n      <td>0</td>\n      <td>0</td>\n      <td>0</td>\n      <td>0</td>\n      <td>ffb9a7b9a</td>\n    </tr>\n  </tbody>\n</table>\n<p>1132 rows × 25 columns</p>\n</div>"
     },
     "metadata": {},
     "execution_count": 4
    }
   ],
   "source": [
    "tp = pd.read_csv(\"../input/rfcx-species-audio-detection/train_tp.csv\")\n",
    "tp_fnames, tp_labels = [], []\n",
    "for recording_id, df in tp.groupby(\"recording_id\"):\n",
    "    v = sum([np.eye(24)[i] for i in df[\"species_id\"].tolist()])\n",
    "    v = (v >= 1).astype(int).tolist()\n",
    "    tp_fnames.append(recording_id)\n",
    "    tp_labels.append(v) \n",
    "\n",
    "tp2 = pd.DataFrame(tp_labels, columns=[f's{i}' for i in range(24)])\n",
    "tp2['recording_id'] = tp_fnames\n",
    "tp2 = tp2.sort_values('recording_id')\n",
    "tp2\n"
   ]
  },
  {
   "cell_type": "code",
   "execution_count": 5,
   "metadata": {},
   "outputs": [
    {
     "output_type": "execute_result",
     "data": {
      "text/plain": [
       "     recording_id  patch        s0        s1        s2        s3        s4  \\\n",
       "0       003bec244      7  0.418618  0.735148  0.432816  0.667090  0.454565   \n",
       "1       006ab765f      7  0.414059  0.445632  0.455483  0.461156  0.449075   \n",
       "2       007f87ba2      7  0.350501  0.420439  0.453914  0.822345  0.920088   \n",
       "3       0099c367b      7  0.416441  0.465030  0.464114  0.458962  0.460161   \n",
       "4       009b760e6      7  0.477847  0.445070  0.472643  0.519394  0.446506   \n",
       "...           ...    ...       ...       ...       ...       ...       ...   \n",
       "1127    fe8d9ac40      7  0.467281  0.527837  0.416272  0.705771  0.411775   \n",
       "1128    fea6b438a      7  0.495453  0.444048  0.451176  0.786295  0.960419   \n",
       "1129    ff2eb9ce5      7  0.958889  0.452369  0.462706  0.781326  0.439493   \n",
       "1130    ffb8d8391      7  0.510353  0.526462  0.444140  0.826260  0.463072   \n",
       "1131    ffb9a7b9a      7  0.477165  0.471547  0.434478  0.855140  0.445331   \n",
       "\n",
       "            s5        s6        s7  ...       s14       s15       s16  \\\n",
       "0     0.556305  0.495131  0.873250  ...  0.659684  0.453744  0.426848   \n",
       "1     0.445785  0.449796  0.461478  ...  0.471460  0.430100  0.448259   \n",
       "2     0.464155  0.422014  0.544940  ...  0.496731  0.396599  0.450780   \n",
       "3     0.453141  0.499607  0.479363  ...  0.503181  0.437360  0.456496   \n",
       "4     0.437407  0.449514  0.504886  ...  0.498633  0.465485  0.442477   \n",
       "...        ...       ...       ...  ...       ...       ...       ...   \n",
       "1127  0.465143  0.450655  0.456012  ...  0.454628  0.416034  0.509920   \n",
       "1128  0.454819  0.441161  0.474888  ...  0.480081  0.501949  0.461826   \n",
       "1129  0.449613  0.444334  0.576342  ...  0.458677  0.441662  0.434436   \n",
       "1130  0.601139  0.443194  0.468116  ...  0.476605  0.469559  0.436582   \n",
       "1131  0.448869  0.436598  0.473080  ...  0.445979  0.469607  0.476159   \n",
       "\n",
       "           s17       s18       s19       s20       s21       s22       s23  \n",
       "0     0.443046  0.466168  0.444138  0.453781  0.431391  0.424338  0.440792  \n",
       "1     0.446161  0.459838  0.450800  0.447716  0.454672  0.353570  0.867027  \n",
       "2     0.434002  0.498889  0.445994  0.453257  0.457481  0.425336  0.442831  \n",
       "3     0.592392  0.442135  0.450205  0.455605  0.457559  0.335789  0.447422  \n",
       "4     0.451319  0.472352  0.440765  0.453418  0.460165  0.245285  0.564637  \n",
       "...        ...       ...       ...       ...       ...       ...       ...  \n",
       "1127  0.460885  0.465793  0.469488  0.451428  0.426757  0.536076  0.456464  \n",
       "1128  0.467426  0.491499  0.441521  0.450661  0.917219  0.449100  0.451512  \n",
       "1129  0.426338  0.893999  0.423764  0.434274  0.439977  0.447698  0.445228  \n",
       "1130  0.437882  0.815835  0.432534  0.447311  0.457342  0.440095  0.449328  \n",
       "1131  0.443471  0.677948  0.419276  0.457257  0.457330  0.408056  0.463531  \n",
       "\n",
       "[1132 rows x 26 columns]"
      ],
      "text/html": "<div>\n<style scoped>\n    .dataframe tbody tr th:only-of-type {\n        vertical-align: middle;\n    }\n\n    .dataframe tbody tr th {\n        vertical-align: top;\n    }\n\n    .dataframe thead th {\n        text-align: right;\n    }\n</style>\n<table border=\"1\" class=\"dataframe\">\n  <thead>\n    <tr style=\"text-align: right;\">\n      <th></th>\n      <th>recording_id</th>\n      <th>patch</th>\n      <th>s0</th>\n      <th>s1</th>\n      <th>s2</th>\n      <th>s3</th>\n      <th>s4</th>\n      <th>s5</th>\n      <th>s6</th>\n      <th>s7</th>\n      <th>...</th>\n      <th>s14</th>\n      <th>s15</th>\n      <th>s16</th>\n      <th>s17</th>\n      <th>s18</th>\n      <th>s19</th>\n      <th>s20</th>\n      <th>s21</th>\n      <th>s22</th>\n      <th>s23</th>\n    </tr>\n  </thead>\n  <tbody>\n    <tr>\n      <td>0</td>\n      <td>003bec244</td>\n      <td>7</td>\n      <td>0.418618</td>\n      <td>0.735148</td>\n      <td>0.432816</td>\n      <td>0.667090</td>\n      <td>0.454565</td>\n      <td>0.556305</td>\n      <td>0.495131</td>\n      <td>0.873250</td>\n      <td>...</td>\n      <td>0.659684</td>\n      <td>0.453744</td>\n      <td>0.426848</td>\n      <td>0.443046</td>\n      <td>0.466168</td>\n      <td>0.444138</td>\n      <td>0.453781</td>\n      <td>0.431391</td>\n      <td>0.424338</td>\n      <td>0.440792</td>\n    </tr>\n    <tr>\n      <td>1</td>\n      <td>006ab765f</td>\n      <td>7</td>\n      <td>0.414059</td>\n      <td>0.445632</td>\n      <td>0.455483</td>\n      <td>0.461156</td>\n      <td>0.449075</td>\n      <td>0.445785</td>\n      <td>0.449796</td>\n      <td>0.461478</td>\n      <td>...</td>\n      <td>0.471460</td>\n      <td>0.430100</td>\n      <td>0.448259</td>\n      <td>0.446161</td>\n      <td>0.459838</td>\n      <td>0.450800</td>\n      <td>0.447716</td>\n      <td>0.454672</td>\n      <td>0.353570</td>\n      <td>0.867027</td>\n    </tr>\n    <tr>\n      <td>2</td>\n      <td>007f87ba2</td>\n      <td>7</td>\n      <td>0.350501</td>\n      <td>0.420439</td>\n      <td>0.453914</td>\n      <td>0.822345</td>\n      <td>0.920088</td>\n      <td>0.464155</td>\n      <td>0.422014</td>\n      <td>0.544940</td>\n      <td>...</td>\n      <td>0.496731</td>\n      <td>0.396599</td>\n      <td>0.450780</td>\n      <td>0.434002</td>\n      <td>0.498889</td>\n      <td>0.445994</td>\n      <td>0.453257</td>\n      <td>0.457481</td>\n      <td>0.425336</td>\n      <td>0.442831</td>\n    </tr>\n    <tr>\n      <td>3</td>\n      <td>0099c367b</td>\n      <td>7</td>\n      <td>0.416441</td>\n      <td>0.465030</td>\n      <td>0.464114</td>\n      <td>0.458962</td>\n      <td>0.460161</td>\n      <td>0.453141</td>\n      <td>0.499607</td>\n      <td>0.479363</td>\n      <td>...</td>\n      <td>0.503181</td>\n      <td>0.437360</td>\n      <td>0.456496</td>\n      <td>0.592392</td>\n      <td>0.442135</td>\n      <td>0.450205</td>\n      <td>0.455605</td>\n      <td>0.457559</td>\n      <td>0.335789</td>\n      <td>0.447422</td>\n    </tr>\n    <tr>\n      <td>4</td>\n      <td>009b760e6</td>\n      <td>7</td>\n      <td>0.477847</td>\n      <td>0.445070</td>\n      <td>0.472643</td>\n      <td>0.519394</td>\n      <td>0.446506</td>\n      <td>0.437407</td>\n      <td>0.449514</td>\n      <td>0.504886</td>\n      <td>...</td>\n      <td>0.498633</td>\n      <td>0.465485</td>\n      <td>0.442477</td>\n      <td>0.451319</td>\n      <td>0.472352</td>\n      <td>0.440765</td>\n      <td>0.453418</td>\n      <td>0.460165</td>\n      <td>0.245285</td>\n      <td>0.564637</td>\n    </tr>\n    <tr>\n      <td>...</td>\n      <td>...</td>\n      <td>...</td>\n      <td>...</td>\n      <td>...</td>\n      <td>...</td>\n      <td>...</td>\n      <td>...</td>\n      <td>...</td>\n      <td>...</td>\n      <td>...</td>\n      <td>...</td>\n      <td>...</td>\n      <td>...</td>\n      <td>...</td>\n      <td>...</td>\n      <td>...</td>\n      <td>...</td>\n      <td>...</td>\n      <td>...</td>\n      <td>...</td>\n      <td>...</td>\n    </tr>\n    <tr>\n      <td>1127</td>\n      <td>fe8d9ac40</td>\n      <td>7</td>\n      <td>0.467281</td>\n      <td>0.527837</td>\n      <td>0.416272</td>\n      <td>0.705771</td>\n      <td>0.411775</td>\n      <td>0.465143</td>\n      <td>0.450655</td>\n      <td>0.456012</td>\n      <td>...</td>\n      <td>0.454628</td>\n      <td>0.416034</td>\n      <td>0.509920</td>\n      <td>0.460885</td>\n      <td>0.465793</td>\n      <td>0.469488</td>\n      <td>0.451428</td>\n      <td>0.426757</td>\n      <td>0.536076</td>\n      <td>0.456464</td>\n    </tr>\n    <tr>\n      <td>1128</td>\n      <td>fea6b438a</td>\n      <td>7</td>\n      <td>0.495453</td>\n      <td>0.444048</td>\n      <td>0.451176</td>\n      <td>0.786295</td>\n      <td>0.960419</td>\n      <td>0.454819</td>\n      <td>0.441161</td>\n      <td>0.474888</td>\n      <td>...</td>\n      <td>0.480081</td>\n      <td>0.501949</td>\n      <td>0.461826</td>\n      <td>0.467426</td>\n      <td>0.491499</td>\n      <td>0.441521</td>\n      <td>0.450661</td>\n      <td>0.917219</td>\n      <td>0.449100</td>\n      <td>0.451512</td>\n    </tr>\n    <tr>\n      <td>1129</td>\n      <td>ff2eb9ce5</td>\n      <td>7</td>\n      <td>0.958889</td>\n      <td>0.452369</td>\n      <td>0.462706</td>\n      <td>0.781326</td>\n      <td>0.439493</td>\n      <td>0.449613</td>\n      <td>0.444334</td>\n      <td>0.576342</td>\n      <td>...</td>\n      <td>0.458677</td>\n      <td>0.441662</td>\n      <td>0.434436</td>\n      <td>0.426338</td>\n      <td>0.893999</td>\n      <td>0.423764</td>\n      <td>0.434274</td>\n      <td>0.439977</td>\n      <td>0.447698</td>\n      <td>0.445228</td>\n    </tr>\n    <tr>\n      <td>1130</td>\n      <td>ffb8d8391</td>\n      <td>7</td>\n      <td>0.510353</td>\n      <td>0.526462</td>\n      <td>0.444140</td>\n      <td>0.826260</td>\n      <td>0.463072</td>\n      <td>0.601139</td>\n      <td>0.443194</td>\n      <td>0.468116</td>\n      <td>...</td>\n      <td>0.476605</td>\n      <td>0.469559</td>\n      <td>0.436582</td>\n      <td>0.437882</td>\n      <td>0.815835</td>\n      <td>0.432534</td>\n      <td>0.447311</td>\n      <td>0.457342</td>\n      <td>0.440095</td>\n      <td>0.449328</td>\n    </tr>\n    <tr>\n      <td>1131</td>\n      <td>ffb9a7b9a</td>\n      <td>7</td>\n      <td>0.477165</td>\n      <td>0.471547</td>\n      <td>0.434478</td>\n      <td>0.855140</td>\n      <td>0.445331</td>\n      <td>0.448869</td>\n      <td>0.436598</td>\n      <td>0.473080</td>\n      <td>...</td>\n      <td>0.445979</td>\n      <td>0.469607</td>\n      <td>0.476159</td>\n      <td>0.443471</td>\n      <td>0.677948</td>\n      <td>0.419276</td>\n      <td>0.457257</td>\n      <td>0.457330</td>\n      <td>0.408056</td>\n      <td>0.463531</td>\n    </tr>\n  </tbody>\n</table>\n<p>1132 rows × 26 columns</p>\n</div>"
     },
     "metadata": {},
     "execution_count": 5
    }
   ],
   "source": [
    "tp_oof = oof2[oof2['recording_id'].isin(tp2['recording_id'])].reset_index(drop=True).sort_values('recording_id')\n",
    "tp_oof"
   ]
  },
  {
   "cell_type": "code",
   "execution_count": 6,
   "metadata": {},
   "outputs": [],
   "source": [
    "tp2 = tp2[tp2[\"recording_id\"].isin(tp_oof[\"recording_id\"])]"
   ]
  },
  {
   "cell_type": "code",
   "execution_count": 7,
   "metadata": {},
   "outputs": [],
   "source": [
    "pred = tp_oof.loc[:, 's0':'s23'].values\n",
    "target = tp2.loc[:, 's0':'s23'].values"
   ]
  },
  {
   "cell_type": "code",
   "execution_count": 8,
   "metadata": {},
   "outputs": [
    {
     "output_type": "execute_result",
     "data": {
      "text/plain": [
       "array([0.98467652, 0.95602588, 0.99658197, 0.7707024 , 0.97574861,\n",
       "       0.97451017, 0.99815328, 0.94144177, 0.98247689, 0.98913613,\n",
       "       0.99513822, 0.96467652, 0.9731793 , 0.99768946, 0.99042514,\n",
       "       0.97215413, 0.99760822, 0.98977819, 0.94510166, 0.99921754,\n",
       "       0.99593697, 0.96939002, 0.99392129, 0.99081894])"
      ]
     },
     "metadata": {},
     "execution_count": 8
    }
   ],
   "source": [
    "from sklearn.metrics import roc_auc_score\n",
    "import matplotlib.pyplot as plt\n",
    "auc = roc_auc_score(target, pred, average=None)\n",
    "auc"
   ]
  },
  {
   "cell_type": "code",
   "execution_count": 9,
   "metadata": {},
   "outputs": [
    {
     "output_type": "execute_result",
     "data": {
      "text/plain": [
       "<BarContainer object of 24 artists>"
      ]
     },
     "metadata": {},
     "execution_count": 9
    },
    {
     "output_type": "display_data",
     "data": {
      "text/plain": "<Figure size 432x288 with 1 Axes>",
      "image/svg+xml": "<?xml version=\"1.0\" encoding=\"utf-8\" standalone=\"no\"?>\n<!DOCTYPE svg PUBLIC \"-//W3C//DTD SVG 1.1//EN\"\n  \"http://www.w3.org/Graphics/SVG/1.1/DTD/svg11.dtd\">\n<!-- Created with matplotlib (https://matplotlib.org/) -->\n<svg height=\"248.518125pt\" version=\"1.1\" viewBox=\"0 0 372.103125 248.518125\" width=\"372.103125pt\" xmlns=\"http://www.w3.org/2000/svg\" xmlns:xlink=\"http://www.w3.org/1999/xlink\">\n <defs>\n  <style type=\"text/css\">\n*{stroke-linecap:butt;stroke-linejoin:round;}\n  </style>\n </defs>\n <g id=\"figure_1\">\n  <g id=\"patch_1\">\n   <path d=\"M 0 248.518125 \nL 372.103125 248.518125 \nL 372.103125 0 \nL 0 0 \nz\n\" style=\"fill:none;\"/>\n  </g>\n  <g id=\"axes_1\">\n   <g id=\"patch_2\">\n    <path d=\"M 30.103125 224.64 \nL 364.903125 224.64 \nL 364.903125 7.2 \nL 30.103125 7.2 \nz\n\" style=\"fill:#ffffff;\"/>\n   </g>\n   <g id=\"patch_3\">\n    <path clip-path=\"url(#p044d5fe0ed)\" d=\"M 45.321307 224.64 \nL 55.552017 224.64 \nL 55.552017 20.567881 \nL 45.321307 20.567881 \nz\n\" style=\"fill:#1f77b4;\"/>\n   </g>\n   <g id=\"patch_4\">\n    <path clip-path=\"url(#p044d5fe0ed)\" d=\"M 58.109695 224.64 \nL 68.340405 224.64 \nL 68.340405 26.505667 \nL 58.109695 26.505667 \nz\n\" style=\"fill:#1f77b4;\"/>\n   </g>\n   <g id=\"patch_5\">\n    <path clip-path=\"url(#p044d5fe0ed)\" d=\"M 70.898083 224.64 \nL 81.128793 224.64 \nL 81.128793 18.100503 \nL 70.898083 18.100503 \nz\n\" style=\"fill:#1f77b4;\"/>\n   </g>\n   <g id=\"patch_6\">\n    <path clip-path=\"url(#p044d5fe0ed)\" d=\"M 83.686471 224.64 \nL 93.917182 224.64 \nL 93.917182 64.913564 \nL 83.686471 64.913564 \nz\n\" style=\"fill:#1f77b4;\"/>\n   </g>\n   <g id=\"patch_7\">\n    <path clip-path=\"url(#p044d5fe0ed)\" d=\"M 96.474859 224.64 \nL 106.70557 224.64 \nL 106.70557 22.418172 \nL 96.474859 22.418172 \nz\n\" style=\"fill:#1f77b4;\"/>\n   </g>\n   <g id=\"patch_8\">\n    <path clip-path=\"url(#p044d5fe0ed)\" d=\"M 109.263247 224.64 \nL 119.493958 224.64 \nL 119.493958 22.674837 \nL 109.263247 22.674837 \nz\n\" style=\"fill:#1f77b4;\"/>\n   </g>\n   <g id=\"patch_9\">\n    <path clip-path=\"url(#p044d5fe0ed)\" d=\"M 122.051635 224.64 \nL 132.282346 224.64 \nL 132.282346 17.774853 \nL 122.051635 17.774853 \nz\n\" style=\"fill:#1f77b4;\"/>\n   </g>\n   <g id=\"patch_10\">\n    <path clip-path=\"url(#p044d5fe0ed)\" d=\"M 134.840023 224.64 \nL 145.070734 224.64 \nL 145.070734 29.528191 \nL 134.840023 29.528191 \nz\n\" style=\"fill:#1f77b4;\"/>\n   </g>\n   <g id=\"patch_11\">\n    <path clip-path=\"url(#p044d5fe0ed)\" d=\"M 147.628411 224.64 \nL 157.859122 224.64 \nL 157.859122 21.02375 \nL 147.628411 21.02375 \nz\n\" style=\"fill:#1f77b4;\"/>\n   </g>\n   <g id=\"patch_12\">\n    <path clip-path=\"url(#p044d5fe0ed)\" d=\"M 160.4168 224.64 \nL 170.64751 224.64 \nL 170.64751 19.643638 \nL 160.4168 19.643638 \nz\n\" style=\"fill:#1f77b4;\"/>\n   </g>\n   <g id=\"patch_13\">\n    <path clip-path=\"url(#p044d5fe0ed)\" d=\"M 173.205188 224.64 \nL 183.435898 224.64 \nL 183.435898 18.399717 \nL 173.205188 18.399717 \nz\n\" style=\"fill:#1f77b4;\"/>\n   </g>\n   <g id=\"patch_14\">\n    <path clip-path=\"url(#p044d5fe0ed)\" d=\"M 185.993576 224.64 \nL 196.224286 224.64 \nL 196.224286 24.712839 \nL 185.993576 24.712839 \nz\n\" style=\"fill:#1f77b4;\"/>\n   </g>\n   <g id=\"patch_15\">\n    <path clip-path=\"url(#p044d5fe0ed)\" d=\"M 198.781964 224.64 \nL 209.012674 224.64 \nL 209.012674 22.950657 \nL 198.781964 22.950657 \nz\n\" style=\"fill:#1f77b4;\"/>\n   </g>\n   <g id=\"patch_16\">\n    <path clip-path=\"url(#p044d5fe0ed)\" d=\"M 211.570352 224.64 \nL 221.801062 224.64 \nL 221.801062 17.870977 \nL 211.570352 17.870977 \nz\n\" style=\"fill:#1f77b4;\"/>\n   </g>\n   <g id=\"patch_17\">\n    <path clip-path=\"url(#p044d5fe0ed)\" d=\"M 224.35874 224.64 \nL 234.58945 224.64 \nL 234.58945 19.376493 \nL 224.35874 19.376493 \nz\n\" style=\"fill:#1f77b4;\"/>\n   </g>\n   <g id=\"patch_18\">\n    <path clip-path=\"url(#p044d5fe0ed)\" d=\"M 237.147128 224.64 \nL 247.377839 224.64 \nL 247.377839 23.16312 \nL 237.147128 23.16312 \nz\n\" style=\"fill:#1f77b4;\"/>\n   </g>\n   <g id=\"patch_19\">\n    <path clip-path=\"url(#p044d5fe0ed)\" d=\"M 249.935516 224.64 \nL 260.166227 224.64 \nL 260.166227 17.887815 \nL 249.935516 17.887815 \nz\n\" style=\"fill:#1f77b4;\"/>\n   </g>\n   <g id=\"patch_20\">\n    <path clip-path=\"url(#p044d5fe0ed)\" d=\"M 262.723904 224.64 \nL 272.954615 224.64 \nL 272.954615 19.510572 \nL 262.723904 19.510572 \nz\n\" style=\"fill:#1f77b4;\"/>\n   </g>\n   <g id=\"patch_21\">\n    <path clip-path=\"url(#p044d5fe0ed)\" d=\"M 275.512292 224.64 \nL 285.743003 224.64 \nL 285.743003 28.769687 \nL 275.512292 28.769687 \nz\n\" style=\"fill:#1f77b4;\"/>\n   </g>\n   <g id=\"patch_22\">\n    <path clip-path=\"url(#p044d5fe0ed)\" d=\"M 288.30068 224.64 \nL 298.531391 224.64 \nL 298.531391 17.554286 \nL 288.30068 17.554286 \nz\n\" style=\"fill:#1f77b4;\"/>\n   </g>\n   <g id=\"patch_23\">\n    <path clip-path=\"url(#p044d5fe0ed)\" d=\"M 301.089068 224.64 \nL 311.319779 224.64 \nL 311.319779 18.234178 \nL 301.089068 18.234178 \nz\n\" style=\"fill:#1f77b4;\"/>\n   </g>\n   <g id=\"patch_24\">\n    <path clip-path=\"url(#p044d5fe0ed)\" d=\"M 313.877457 224.64 \nL 324.108167 224.64 \nL 324.108167 23.735977 \nL 313.877457 23.735977 \nz\n\" style=\"fill:#1f77b4;\"/>\n   </g>\n   <g id=\"patch_25\">\n    <path clip-path=\"url(#p044d5fe0ed)\" d=\"M 326.665845 224.64 \nL 336.896555 224.64 \nL 336.896555 18.651923 \nL 326.665845 18.651923 \nz\n\" style=\"fill:#1f77b4;\"/>\n   </g>\n   <g id=\"patch_26\">\n    <path clip-path=\"url(#p044d5fe0ed)\" d=\"M 339.454233 224.64 \nL 349.684943 224.64 \nL 349.684943 19.294879 \nL 339.454233 19.294879 \nz\n\" style=\"fill:#1f77b4;\"/>\n   </g>\n   <g id=\"matplotlib.axis_1\">\n    <g id=\"xtick_1\">\n     <g id=\"line2d_1\">\n      <defs>\n       <path d=\"M 0 0 \nL 0 3.5 \n\" id=\"mf79ef93d4d\" style=\"stroke:#000000;stroke-width:0.8;\"/>\n      </defs>\n      <g>\n       <use style=\"stroke:#000000;stroke-width:0.8;\" x=\"50.436662\" xlink:href=\"#mf79ef93d4d\" y=\"224.64\"/>\n      </g>\n     </g>\n     <g id=\"text_1\">\n      <!-- 0 -->\n      <defs>\n       <path d=\"M 31.78125 66.40625 \nQ 24.171875 66.40625 20.328125 58.90625 \nQ 16.5 51.421875 16.5 36.375 \nQ 16.5 21.390625 20.328125 13.890625 \nQ 24.171875 6.390625 31.78125 6.390625 \nQ 39.453125 6.390625 43.28125 13.890625 \nQ 47.125 21.390625 47.125 36.375 \nQ 47.125 51.421875 43.28125 58.90625 \nQ 39.453125 66.40625 31.78125 66.40625 \nz\nM 31.78125 74.21875 \nQ 44.046875 74.21875 50.515625 64.515625 \nQ 56.984375 54.828125 56.984375 36.375 \nQ 56.984375 17.96875 50.515625 8.265625 \nQ 44.046875 -1.421875 31.78125 -1.421875 \nQ 19.53125 -1.421875 13.0625 8.265625 \nQ 6.59375 17.96875 6.59375 36.375 \nQ 6.59375 54.828125 13.0625 64.515625 \nQ 19.53125 74.21875 31.78125 74.21875 \nz\n\" id=\"DejaVuSans-48\"/>\n      </defs>\n      <g transform=\"translate(47.255412 239.238438)scale(0.1 -0.1)\">\n       <use xlink:href=\"#DejaVuSans-48\"/>\n      </g>\n     </g>\n    </g>\n    <g id=\"xtick_2\">\n     <g id=\"line2d_2\">\n      <g>\n       <use style=\"stroke:#000000;stroke-width:0.8;\" x=\"114.378602\" xlink:href=\"#mf79ef93d4d\" y=\"224.64\"/>\n      </g>\n     </g>\n     <g id=\"text_2\">\n      <!-- 5 -->\n      <defs>\n       <path d=\"M 10.796875 72.90625 \nL 49.515625 72.90625 \nL 49.515625 64.59375 \nL 19.828125 64.59375 \nL 19.828125 46.734375 \nQ 21.96875 47.46875 24.109375 47.828125 \nQ 26.265625 48.1875 28.421875 48.1875 \nQ 40.625 48.1875 47.75 41.5 \nQ 54.890625 34.8125 54.890625 23.390625 \nQ 54.890625 11.625 47.5625 5.09375 \nQ 40.234375 -1.421875 26.90625 -1.421875 \nQ 22.3125 -1.421875 17.546875 -0.640625 \nQ 12.796875 0.140625 7.71875 1.703125 \nL 7.71875 11.625 \nQ 12.109375 9.234375 16.796875 8.0625 \nQ 21.484375 6.890625 26.703125 6.890625 \nQ 35.15625 6.890625 40.078125 11.328125 \nQ 45.015625 15.765625 45.015625 23.390625 \nQ 45.015625 31 40.078125 35.4375 \nQ 35.15625 39.890625 26.703125 39.890625 \nQ 22.75 39.890625 18.8125 39.015625 \nQ 14.890625 38.140625 10.796875 36.28125 \nz\n\" id=\"DejaVuSans-53\"/>\n      </defs>\n      <g transform=\"translate(111.197352 239.238438)scale(0.1 -0.1)\">\n       <use xlink:href=\"#DejaVuSans-53\"/>\n      </g>\n     </g>\n    </g>\n    <g id=\"xtick_3\">\n     <g id=\"line2d_3\">\n      <g>\n       <use style=\"stroke:#000000;stroke-width:0.8;\" x=\"178.320543\" xlink:href=\"#mf79ef93d4d\" y=\"224.64\"/>\n      </g>\n     </g>\n     <g id=\"text_3\">\n      <!-- 10 -->\n      <defs>\n       <path d=\"M 12.40625 8.296875 \nL 28.515625 8.296875 \nL 28.515625 63.921875 \nL 10.984375 60.40625 \nL 10.984375 69.390625 \nL 28.421875 72.90625 \nL 38.28125 72.90625 \nL 38.28125 8.296875 \nL 54.390625 8.296875 \nL 54.390625 0 \nL 12.40625 0 \nz\n\" id=\"DejaVuSans-49\"/>\n      </defs>\n      <g transform=\"translate(171.958043 239.238438)scale(0.1 -0.1)\">\n       <use xlink:href=\"#DejaVuSans-49\"/>\n       <use x=\"63.623047\" xlink:href=\"#DejaVuSans-48\"/>\n      </g>\n     </g>\n    </g>\n    <g id=\"xtick_4\">\n     <g id=\"line2d_4\">\n      <g>\n       <use style=\"stroke:#000000;stroke-width:0.8;\" x=\"242.262483\" xlink:href=\"#mf79ef93d4d\" y=\"224.64\"/>\n      </g>\n     </g>\n     <g id=\"text_4\">\n      <!-- 15 -->\n      <g transform=\"translate(235.899983 239.238438)scale(0.1 -0.1)\">\n       <use xlink:href=\"#DejaVuSans-49\"/>\n       <use x=\"63.623047\" xlink:href=\"#DejaVuSans-53\"/>\n      </g>\n     </g>\n    </g>\n    <g id=\"xtick_5\">\n     <g id=\"line2d_5\">\n      <g>\n       <use style=\"stroke:#000000;stroke-width:0.8;\" x=\"306.204424\" xlink:href=\"#mf79ef93d4d\" y=\"224.64\"/>\n      </g>\n     </g>\n     <g id=\"text_5\">\n      <!-- 20 -->\n      <defs>\n       <path d=\"M 19.1875 8.296875 \nL 53.609375 8.296875 \nL 53.609375 0 \nL 7.328125 0 \nL 7.328125 8.296875 \nQ 12.9375 14.109375 22.625 23.890625 \nQ 32.328125 33.6875 34.8125 36.53125 \nQ 39.546875 41.84375 41.421875 45.53125 \nQ 43.3125 49.21875 43.3125 52.78125 \nQ 43.3125 58.59375 39.234375 62.25 \nQ 35.15625 65.921875 28.609375 65.921875 \nQ 23.96875 65.921875 18.8125 64.3125 \nQ 13.671875 62.703125 7.8125 59.421875 \nL 7.8125 69.390625 \nQ 13.765625 71.78125 18.9375 73 \nQ 24.125 74.21875 28.421875 74.21875 \nQ 39.75 74.21875 46.484375 68.546875 \nQ 53.21875 62.890625 53.21875 53.421875 \nQ 53.21875 48.921875 51.53125 44.890625 \nQ 49.859375 40.875 45.40625 35.40625 \nQ 44.1875 33.984375 37.640625 27.21875 \nQ 31.109375 20.453125 19.1875 8.296875 \nz\n\" id=\"DejaVuSans-50\"/>\n      </defs>\n      <g transform=\"translate(299.841924 239.238438)scale(0.1 -0.1)\">\n       <use xlink:href=\"#DejaVuSans-50\"/>\n       <use x=\"63.623047\" xlink:href=\"#DejaVuSans-48\"/>\n      </g>\n     </g>\n    </g>\n   </g>\n   <g id=\"matplotlib.axis_2\">\n    <g id=\"ytick_1\">\n     <g id=\"line2d_6\">\n      <defs>\n       <path d=\"M 0 0 \nL -3.5 0 \n\" id=\"mccc9176f0d\" style=\"stroke:#000000;stroke-width:0.8;\"/>\n      </defs>\n      <g>\n       <use style=\"stroke:#000000;stroke-width:0.8;\" x=\"30.103125\" xlink:href=\"#mccc9176f0d\" y=\"224.64\"/>\n      </g>\n     </g>\n     <g id=\"text_6\">\n      <!-- 0.0 -->\n      <defs>\n       <path d=\"M 10.6875 12.40625 \nL 21 12.40625 \nL 21 0 \nL 10.6875 0 \nz\n\" id=\"DejaVuSans-46\"/>\n      </defs>\n      <g transform=\"translate(7.2 228.439219)scale(0.1 -0.1)\">\n       <use xlink:href=\"#DejaVuSans-48\"/>\n       <use x=\"63.623047\" xlink:href=\"#DejaVuSans-46\"/>\n       <use x=\"95.410156\" xlink:href=\"#DejaVuSans-48\"/>\n      </g>\n     </g>\n    </g>\n    <g id=\"ytick_2\">\n     <g id=\"line2d_7\">\n      <g>\n       <use style=\"stroke:#000000;stroke-width:0.8;\" x=\"30.103125\" xlink:href=\"#mccc9176f0d\" y=\"183.190425\"/>\n      </g>\n     </g>\n     <g id=\"text_7\">\n      <!-- 0.2 -->\n      <g transform=\"translate(7.2 186.989643)scale(0.1 -0.1)\">\n       <use xlink:href=\"#DejaVuSans-48\"/>\n       <use x=\"63.623047\" xlink:href=\"#DejaVuSans-46\"/>\n       <use x=\"95.410156\" xlink:href=\"#DejaVuSans-50\"/>\n      </g>\n     </g>\n    </g>\n    <g id=\"ytick_3\">\n     <g id=\"line2d_8\">\n      <g>\n       <use style=\"stroke:#000000;stroke-width:0.8;\" x=\"30.103125\" xlink:href=\"#mccc9176f0d\" y=\"141.740849\"/>\n      </g>\n     </g>\n     <g id=\"text_8\">\n      <!-- 0.4 -->\n      <defs>\n       <path d=\"M 37.796875 64.3125 \nL 12.890625 25.390625 \nL 37.796875 25.390625 \nz\nM 35.203125 72.90625 \nL 47.609375 72.90625 \nL 47.609375 25.390625 \nL 58.015625 25.390625 \nL 58.015625 17.1875 \nL 47.609375 17.1875 \nL 47.609375 0 \nL 37.796875 0 \nL 37.796875 17.1875 \nL 4.890625 17.1875 \nL 4.890625 26.703125 \nz\n\" id=\"DejaVuSans-52\"/>\n      </defs>\n      <g transform=\"translate(7.2 145.540068)scale(0.1 -0.1)\">\n       <use xlink:href=\"#DejaVuSans-48\"/>\n       <use x=\"63.623047\" xlink:href=\"#DejaVuSans-46\"/>\n       <use x=\"95.410156\" xlink:href=\"#DejaVuSans-52\"/>\n      </g>\n     </g>\n    </g>\n    <g id=\"ytick_4\">\n     <g id=\"line2d_9\">\n      <g>\n       <use style=\"stroke:#000000;stroke-width:0.8;\" x=\"30.103125\" xlink:href=\"#mccc9176f0d\" y=\"100.291274\"/>\n      </g>\n     </g>\n     <g id=\"text_9\">\n      <!-- 0.6 -->\n      <defs>\n       <path d=\"M 33.015625 40.375 \nQ 26.375 40.375 22.484375 35.828125 \nQ 18.609375 31.296875 18.609375 23.390625 \nQ 18.609375 15.53125 22.484375 10.953125 \nQ 26.375 6.390625 33.015625 6.390625 \nQ 39.65625 6.390625 43.53125 10.953125 \nQ 47.40625 15.53125 47.40625 23.390625 \nQ 47.40625 31.296875 43.53125 35.828125 \nQ 39.65625 40.375 33.015625 40.375 \nz\nM 52.59375 71.296875 \nL 52.59375 62.3125 \nQ 48.875 64.0625 45.09375 64.984375 \nQ 41.3125 65.921875 37.59375 65.921875 \nQ 27.828125 65.921875 22.671875 59.328125 \nQ 17.53125 52.734375 16.796875 39.40625 \nQ 19.671875 43.65625 24.015625 45.921875 \nQ 28.375 48.1875 33.59375 48.1875 \nQ 44.578125 48.1875 50.953125 41.515625 \nQ 57.328125 34.859375 57.328125 23.390625 \nQ 57.328125 12.15625 50.6875 5.359375 \nQ 44.046875 -1.421875 33.015625 -1.421875 \nQ 20.359375 -1.421875 13.671875 8.265625 \nQ 6.984375 17.96875 6.984375 36.375 \nQ 6.984375 53.65625 15.1875 63.9375 \nQ 23.390625 74.21875 37.203125 74.21875 \nQ 40.921875 74.21875 44.703125 73.484375 \nQ 48.484375 72.75 52.59375 71.296875 \nz\n\" id=\"DejaVuSans-54\"/>\n      </defs>\n      <g transform=\"translate(7.2 104.090493)scale(0.1 -0.1)\">\n       <use xlink:href=\"#DejaVuSans-48\"/>\n       <use x=\"63.623047\" xlink:href=\"#DejaVuSans-46\"/>\n       <use x=\"95.410156\" xlink:href=\"#DejaVuSans-54\"/>\n      </g>\n     </g>\n    </g>\n    <g id=\"ytick_5\">\n     <g id=\"line2d_10\">\n      <g>\n       <use style=\"stroke:#000000;stroke-width:0.8;\" x=\"30.103125\" xlink:href=\"#mccc9176f0d\" y=\"58.841699\"/>\n      </g>\n     </g>\n     <g id=\"text_10\">\n      <!-- 0.8 -->\n      <defs>\n       <path d=\"M 31.78125 34.625 \nQ 24.75 34.625 20.71875 30.859375 \nQ 16.703125 27.09375 16.703125 20.515625 \nQ 16.703125 13.921875 20.71875 10.15625 \nQ 24.75 6.390625 31.78125 6.390625 \nQ 38.8125 6.390625 42.859375 10.171875 \nQ 46.921875 13.96875 46.921875 20.515625 \nQ 46.921875 27.09375 42.890625 30.859375 \nQ 38.875 34.625 31.78125 34.625 \nz\nM 21.921875 38.8125 \nQ 15.578125 40.375 12.03125 44.71875 \nQ 8.5 49.078125 8.5 55.328125 \nQ 8.5 64.0625 14.71875 69.140625 \nQ 20.953125 74.21875 31.78125 74.21875 \nQ 42.671875 74.21875 48.875 69.140625 \nQ 55.078125 64.0625 55.078125 55.328125 \nQ 55.078125 49.078125 51.53125 44.71875 \nQ 48 40.375 41.703125 38.8125 \nQ 48.828125 37.15625 52.796875 32.3125 \nQ 56.78125 27.484375 56.78125 20.515625 \nQ 56.78125 9.90625 50.3125 4.234375 \nQ 43.84375 -1.421875 31.78125 -1.421875 \nQ 19.734375 -1.421875 13.25 4.234375 \nQ 6.78125 9.90625 6.78125 20.515625 \nQ 6.78125 27.484375 10.78125 32.3125 \nQ 14.796875 37.15625 21.921875 38.8125 \nz\nM 18.3125 54.390625 \nQ 18.3125 48.734375 21.84375 45.5625 \nQ 25.390625 42.390625 31.78125 42.390625 \nQ 38.140625 42.390625 41.71875 45.5625 \nQ 45.3125 48.734375 45.3125 54.390625 \nQ 45.3125 60.0625 41.71875 63.234375 \nQ 38.140625 66.40625 31.78125 66.40625 \nQ 25.390625 66.40625 21.84375 63.234375 \nQ 18.3125 60.0625 18.3125 54.390625 \nz\n\" id=\"DejaVuSans-56\"/>\n      </defs>\n      <g transform=\"translate(7.2 62.640918)scale(0.1 -0.1)\">\n       <use xlink:href=\"#DejaVuSans-48\"/>\n       <use x=\"63.623047\" xlink:href=\"#DejaVuSans-46\"/>\n       <use x=\"95.410156\" xlink:href=\"#DejaVuSans-56\"/>\n      </g>\n     </g>\n    </g>\n    <g id=\"ytick_6\">\n     <g id=\"line2d_11\">\n      <g>\n       <use style=\"stroke:#000000;stroke-width:0.8;\" x=\"30.103125\" xlink:href=\"#mccc9176f0d\" y=\"17.392124\"/>\n      </g>\n     </g>\n     <g id=\"text_11\">\n      <!-- 1.0 -->\n      <g transform=\"translate(7.2 21.191342)scale(0.1 -0.1)\">\n       <use xlink:href=\"#DejaVuSans-49\"/>\n       <use x=\"63.623047\" xlink:href=\"#DejaVuSans-46\"/>\n       <use x=\"95.410156\" xlink:href=\"#DejaVuSans-48\"/>\n      </g>\n     </g>\n    </g>\n   </g>\n   <g id=\"patch_27\">\n    <path d=\"M 30.103125 224.64 \nL 30.103125 7.2 \n\" style=\"fill:none;stroke:#000000;stroke-linecap:square;stroke-linejoin:miter;stroke-width:0.8;\"/>\n   </g>\n   <g id=\"patch_28\">\n    <path d=\"M 364.903125 224.64 \nL 364.903125 7.2 \n\" style=\"fill:none;stroke:#000000;stroke-linecap:square;stroke-linejoin:miter;stroke-width:0.8;\"/>\n   </g>\n   <g id=\"patch_29\">\n    <path d=\"M 30.103125 224.64 \nL 364.903125 224.64 \n\" style=\"fill:none;stroke:#000000;stroke-linecap:square;stroke-linejoin:miter;stroke-width:0.8;\"/>\n   </g>\n   <g id=\"patch_30\">\n    <path d=\"M 30.103125 7.2 \nL 364.903125 7.2 \n\" style=\"fill:none;stroke:#000000;stroke-linecap:square;stroke-linejoin:miter;stroke-width:0.8;\"/>\n   </g>\n  </g>\n </g>\n <defs>\n  <clipPath id=\"p044d5fe0ed\">\n   <rect height=\"217.44\" width=\"334.8\" x=\"30.103125\" y=\"7.2\"/>\n  </clipPath>\n </defs>\n</svg>\n",
      "image/png": "[encoded data removed]"
     },
     "metadata": {
      "needs_background": "light"
     }
    }
   ],
   "source": [
    "plt.bar(np.arange(24), auc)"
   ]
  },
  {
   "cell_type": "code",
   "execution_count": 10,
   "metadata": {},
   "outputs": [
    {
     "output_type": "execute_result",
     "data": {
      "text/plain": [
       "(torch.Size([1132, 24]), torch.Size([1132, 24]))"
      ]
     },
     "metadata": {},
     "execution_count": 10
    }
   ],
   "source": [
    "pred = torch.tensor(pred)\n",
    "target = torch.tensor(target)\n",
    "pred.shape, target.shape"
   ]
  },
  {
   "cell_type": "code",
   "execution_count": 11,
   "metadata": {},
   "outputs": [
    {
     "output_type": "execute_result",
     "data": {
      "text/plain": [
       "0.8176038265228271"
      ]
     },
     "metadata": {},
     "execution_count": 11
    }
   ],
   "source": [
    "original_lwlrap = LWLRAP(pred, target)\n",
    "original_lwlrap"
   ]
  },
  {
   "cell_type": "code",
   "execution_count": null,
   "metadata": {},
   "outputs": [],
   "source": []
  }
 ]
}