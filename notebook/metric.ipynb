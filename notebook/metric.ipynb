{
 "metadata": {
  "language_info": {
   "codemirror_mode": {
    "name": "ipython",
    "version": 3
   },
   "file_extension": ".py",
   "mimetype": "text/x-python",
   "name": "python",
   "nbconvert_exporter": "python",
   "pygments_lexer": "ipython3",
   "version": "3.7.4-final"
  },
  "orig_nbformat": 2,
  "kernelspec": {
   "name": "python3",
   "display_name": "Python 3",
   "language": "python"
  }
 },
 "nbformat": 4,
 "nbformat_minor": 2,
 "cells": [
  {
   "cell_type": "code",
   "execution_count": 1,
   "metadata": {},
   "outputs": [],
   "source": [
    "import pandas as pd\n",
    "import torch\n",
    "import numpy as np\n",
    "\n",
    "# LRAP. Instance-level average\n",
    "# Assume float preds [BxC], labels [BxC] of 0 or 1\n",
    "def LRAP(preds, labels):\n",
    "    # Ranks of the predictions\n",
    "    ranked_classes = torch.argsort(preds, dim=-1, descending=True)\n",
    "    # i, j corresponds to rank of prediction in row i\n",
    "    class_ranks = torch.zeros_like(ranked_classes)\n",
    "    for i in range(ranked_classes.size(0)):\n",
    "        for j in range(ranked_classes.size(1)):\n",
    "            class_ranks[i, ranked_classes[i][j]] = j + 1\n",
    "    # Mask out to only use the ranks of relevant GT labels\n",
    "    ground_truth_ranks = class_ranks * labels + (1e6) * (1 - labels)\n",
    "    # All the GT ranks are in front now\n",
    "    sorted_ground_truth_ranks, _ = torch.sort(ground_truth_ranks, dim=-1, descending=False)\n",
    "    pos_matrix = torch.tensor(np.array([i+1 for i in range(labels.size(-1))])).unsqueeze(0)\n",
    "    score_matrix = pos_matrix / sorted_ground_truth_ranks\n",
    "    score_mask_matrix, _ = torch.sort(labels, dim=-1, descending=True)\n",
    "    scores = score_matrix * score_mask_matrix\n",
    "    score = (scores.sum(-1) / labels.sum(-1)).mean()\n",
    "    return score.item()\n",
    "\n",
    "# label-level average\n",
    "# Assume float preds [BxC], labels [BxC] of 0 or 1\n",
    "def LWLRAP(preds, labels):\n",
    "    preds = preds.to('cpu')\n",
    "    labels = labels.to('cpu')\n",
    "\n",
    "    labels[labels > 0.0] = 1.0  # label smoothingする場合もスコア計算のため1にしてしまう\n",
    "    # Ranks of the predictions\n",
    "    ranked_classes = torch.argsort(preds, dim=-1, descending=True)\n",
    "    # i, j corresponds to rank of prediction in row i\n",
    "    class_ranks = torch.zeros_like(ranked_classes)\n",
    "    for i in range(ranked_classes.size(0)):\n",
    "        for j in range(ranked_classes.size(1)):\n",
    "            class_ranks[i, ranked_classes[i][j]] = j + 1\n",
    "    # Mask out to only use the ranks of relevant GT labels\n",
    "    ground_truth_ranks = class_ranks * labels + (1e6) * (1 - labels)\n",
    "    # All the GT ranks are in front now\n",
    "    sorted_ground_truth_ranks, _ = torch.sort(ground_truth_ranks, dim=-1, descending=False)\n",
    "    # Number of GT labels per instance\n",
    "    # num_labels = labels.sum(-1)\n",
    "    pos_matrix = torch.tensor(np.array([i+1 for i in range(labels.size(-1))])).unsqueeze(0)\n",
    "    score_matrix = pos_matrix / sorted_ground_truth_ranks\n",
    "    score_mask_matrix, _ = torch.sort(labels, dim=-1, descending=True)\n",
    "    scores = score_matrix * score_mask_matrix\n",
    "    score = scores.sum() / labels.sum()\n",
    "    return score.item()"
   ]
  },
  {
   "cell_type": "code",
   "execution_count": 3,
   "metadata": {},
   "outputs": [
    {
     "output_type": "execute_result",
     "data": {
      "text/plain": [
       "      patch recording_id        s0        s1        s2        s3        s4  \\\n",
       "0         0    005f1f9a5  0.419551  0.504427  0.484060  0.759330  0.377298   \n",
       "1         1    005f1f9a5  0.396798  0.486966  0.469415  0.780136  0.366831   \n",
       "2         2    005f1f9a5  0.403585  0.505900  0.466897  0.753976  0.388104   \n",
       "3         3    005f1f9a5  0.402064  0.832450  0.463063  0.633777  0.405035   \n",
       "4         4    005f1f9a5  0.403528  0.473602  0.468838  0.780878  0.381220   \n",
       "...     ...          ...       ...       ...       ...       ...       ...   \n",
       "7555      3    ffb8d8391  0.471341  0.518652  0.402118  0.785095  0.403647   \n",
       "7556      4    ffb8d8391  0.467302  0.520136  0.415078  0.776820  0.411327   \n",
       "7557      5    ffb8d8391  0.445331  0.495403  0.414823  0.761928  0.409735   \n",
       "7558      6    ffb8d8391  0.430252  0.466971  0.436511  0.734888  0.451346   \n",
       "7559      7    ffb8d8391  0.482317  0.503477  0.410080  0.742368  0.405744   \n",
       "\n",
       "            s5        s6        s7  ...       s14       s15       s16  \\\n",
       "0     0.440424  0.445374  0.546310  ...  0.507120  0.452462  0.468487   \n",
       "1     0.430549  0.448318  0.710311  ...  0.481859  0.480372  0.448020   \n",
       "2     0.437647  0.445861  0.611135  ...  0.496514  0.443103  0.445862   \n",
       "3     0.448586  0.441746  0.447559  ...  0.471960  0.421197  0.450990   \n",
       "4     0.437699  0.448309  0.455435  ...  0.495195  0.426309  0.455125   \n",
       "...        ...       ...       ...  ...       ...       ...       ...   \n",
       "7555  0.427831  0.444437  0.538236  ...  0.527225  0.461460  0.432797   \n",
       "7556  0.438416  0.446074  0.501656  ...  0.593592  0.474326  0.434268   \n",
       "7557  0.560597  0.445686  0.469129  ...  0.522081  0.462494  0.436113   \n",
       "7558  0.543858  0.449167  0.483951  ...  0.462961  0.450826  0.461461   \n",
       "7559  0.434690  0.439494  0.530135  ...  0.587781  0.447607  0.439657   \n",
       "\n",
       "           s17       s18       s19       s20       s21       s22       s23  \n",
       "0     0.448512  0.455128  0.432421  0.446194  0.447356  0.311572  0.434605  \n",
       "1     0.452117  0.478289  0.436401  0.442213  0.435832  0.363722  0.424249  \n",
       "2     0.459949  0.467634  0.433311  0.446555  0.438964  0.383641  0.431579  \n",
       "3     0.445003  0.513665  0.437371  0.440824  0.428674  0.328415  0.427762  \n",
       "4     0.451277  0.499567  0.432191  0.439536  0.449185  0.311849  0.437247  \n",
       "...        ...       ...       ...       ...       ...       ...       ...  \n",
       "7555  0.438428  0.708003  0.443226  0.423604  0.511258  0.341249  0.462736  \n",
       "7556  0.435380  0.667570  0.443391  0.431527  0.510715  0.346233  0.467822  \n",
       "7557  0.437827  0.623461  0.434932  0.433658  0.484901  0.356306  0.395993  \n",
       "7558  0.452139  0.712060  0.455197  0.432453  0.467728  0.369370  0.402045  \n",
       "7559  0.446125  0.769213  0.454618  0.406236  0.471517  0.375439  0.460238  \n",
       "\n",
       "[37816 rows x 26 columns]"
      ],
      "text/html": "<div>\n<style scoped>\n    .dataframe tbody tr th:only-of-type {\n        vertical-align: middle;\n    }\n\n    .dataframe tbody tr th {\n        vertical-align: top;\n    }\n\n    .dataframe thead th {\n        text-align: right;\n    }\n</style>\n<table border=\"1\" class=\"dataframe\">\n  <thead>\n    <tr style=\"text-align: right;\">\n      <th></th>\n      <th>patch</th>\n      <th>recording_id</th>\n      <th>s0</th>\n      <th>s1</th>\n      <th>s2</th>\n      <th>s3</th>\n      <th>s4</th>\n      <th>s5</th>\n      <th>s6</th>\n      <th>s7</th>\n      <th>...</th>\n      <th>s14</th>\n      <th>s15</th>\n      <th>s16</th>\n      <th>s17</th>\n      <th>s18</th>\n      <th>s19</th>\n      <th>s20</th>\n      <th>s21</th>\n      <th>s22</th>\n      <th>s23</th>\n    </tr>\n  </thead>\n  <tbody>\n    <tr>\n      <td>0</td>\n      <td>0</td>\n      <td>005f1f9a5</td>\n      <td>0.419551</td>\n      <td>0.504427</td>\n      <td>0.484060</td>\n      <td>0.759330</td>\n      <td>0.377298</td>\n      <td>0.440424</td>\n      <td>0.445374</td>\n      <td>0.546310</td>\n      <td>...</td>\n      <td>0.507120</td>\n      <td>0.452462</td>\n      <td>0.468487</td>\n      <td>0.448512</td>\n      <td>0.455128</td>\n      <td>0.432421</td>\n      <td>0.446194</td>\n      <td>0.447356</td>\n      <td>0.311572</td>\n      <td>0.434605</td>\n    </tr>\n    <tr>\n      <td>1</td>\n      <td>1</td>\n      <td>005f1f9a5</td>\n      <td>0.396798</td>\n      <td>0.486966</td>\n      <td>0.469415</td>\n      <td>0.780136</td>\n      <td>0.366831</td>\n      <td>0.430549</td>\n      <td>0.448318</td>\n      <td>0.710311</td>\n      <td>...</td>\n      <td>0.481859</td>\n      <td>0.480372</td>\n      <td>0.448020</td>\n      <td>0.452117</td>\n      <td>0.478289</td>\n      <td>0.436401</td>\n      <td>0.442213</td>\n      <td>0.435832</td>\n      <td>0.363722</td>\n      <td>0.424249</td>\n    </tr>\n    <tr>\n      <td>2</td>\n      <td>2</td>\n      <td>005f1f9a5</td>\n      <td>0.403585</td>\n      <td>0.505900</td>\n      <td>0.466897</td>\n      <td>0.753976</td>\n      <td>0.388104</td>\n      <td>0.437647</td>\n      <td>0.445861</td>\n      <td>0.611135</td>\n      <td>...</td>\n      <td>0.496514</td>\n      <td>0.443103</td>\n      <td>0.445862</td>\n      <td>0.459949</td>\n      <td>0.467634</td>\n      <td>0.433311</td>\n      <td>0.446555</td>\n      <td>0.438964</td>\n      <td>0.383641</td>\n      <td>0.431579</td>\n    </tr>\n    <tr>\n      <td>3</td>\n      <td>3</td>\n      <td>005f1f9a5</td>\n      <td>0.402064</td>\n      <td>0.832450</td>\n      <td>0.463063</td>\n      <td>0.633777</td>\n      <td>0.405035</td>\n      <td>0.448586</td>\n      <td>0.441746</td>\n      <td>0.447559</td>\n      <td>...</td>\n      <td>0.471960</td>\n      <td>0.421197</td>\n      <td>0.450990</td>\n      <td>0.445003</td>\n      <td>0.513665</td>\n      <td>0.437371</td>\n      <td>0.440824</td>\n      <td>0.428674</td>\n      <td>0.328415</td>\n      <td>0.427762</td>\n    </tr>\n    <tr>\n      <td>4</td>\n      <td>4</td>\n      <td>005f1f9a5</td>\n      <td>0.403528</td>\n      <td>0.473602</td>\n      <td>0.468838</td>\n      <td>0.780878</td>\n      <td>0.381220</td>\n      <td>0.437699</td>\n      <td>0.448309</td>\n      <td>0.455435</td>\n      <td>...</td>\n      <td>0.495195</td>\n      <td>0.426309</td>\n      <td>0.455125</td>\n      <td>0.451277</td>\n      <td>0.499567</td>\n      <td>0.432191</td>\n      <td>0.439536</td>\n      <td>0.449185</td>\n      <td>0.311849</td>\n      <td>0.437247</td>\n    </tr>\n    <tr>\n      <td>...</td>\n      <td>...</td>\n      <td>...</td>\n      <td>...</td>\n      <td>...</td>\n      <td>...</td>\n      <td>...</td>\n      <td>...</td>\n      <td>...</td>\n      <td>...</td>\n      <td>...</td>\n      <td>...</td>\n      <td>...</td>\n      <td>...</td>\n      <td>...</td>\n      <td>...</td>\n      <td>...</td>\n      <td>...</td>\n      <td>...</td>\n      <td>...</td>\n      <td>...</td>\n      <td>...</td>\n    </tr>\n    <tr>\n      <td>7555</td>\n      <td>3</td>\n      <td>ffb8d8391</td>\n      <td>0.471341</td>\n      <td>0.518652</td>\n      <td>0.402118</td>\n      <td>0.785095</td>\n      <td>0.403647</td>\n      <td>0.427831</td>\n      <td>0.444437</td>\n      <td>0.538236</td>\n      <td>...</td>\n      <td>0.527225</td>\n      <td>0.461460</td>\n      <td>0.432797</td>\n      <td>0.438428</td>\n      <td>0.708003</td>\n      <td>0.443226</td>\n      <td>0.423604</td>\n      <td>0.511258</td>\n      <td>0.341249</td>\n      <td>0.462736</td>\n    </tr>\n    <tr>\n      <td>7556</td>\n      <td>4</td>\n      <td>ffb8d8391</td>\n      <td>0.467302</td>\n      <td>0.520136</td>\n      <td>0.415078</td>\n      <td>0.776820</td>\n      <td>0.411327</td>\n      <td>0.438416</td>\n      <td>0.446074</td>\n      <td>0.501656</td>\n      <td>...</td>\n      <td>0.593592</td>\n      <td>0.474326</td>\n      <td>0.434268</td>\n      <td>0.435380</td>\n      <td>0.667570</td>\n      <td>0.443391</td>\n      <td>0.431527</td>\n      <td>0.510715</td>\n      <td>0.346233</td>\n      <td>0.467822</td>\n    </tr>\n    <tr>\n      <td>7557</td>\n      <td>5</td>\n      <td>ffb8d8391</td>\n      <td>0.445331</td>\n      <td>0.495403</td>\n      <td>0.414823</td>\n      <td>0.761928</td>\n      <td>0.409735</td>\n      <td>0.560597</td>\n      <td>0.445686</td>\n      <td>0.469129</td>\n      <td>...</td>\n      <td>0.522081</td>\n      <td>0.462494</td>\n      <td>0.436113</td>\n      <td>0.437827</td>\n      <td>0.623461</td>\n      <td>0.434932</td>\n      <td>0.433658</td>\n      <td>0.484901</td>\n      <td>0.356306</td>\n      <td>0.395993</td>\n    </tr>\n    <tr>\n      <td>7558</td>\n      <td>6</td>\n      <td>ffb8d8391</td>\n      <td>0.430252</td>\n      <td>0.466971</td>\n      <td>0.436511</td>\n      <td>0.734888</td>\n      <td>0.451346</td>\n      <td>0.543858</td>\n      <td>0.449167</td>\n      <td>0.483951</td>\n      <td>...</td>\n      <td>0.462961</td>\n      <td>0.450826</td>\n      <td>0.461461</td>\n      <td>0.452139</td>\n      <td>0.712060</td>\n      <td>0.455197</td>\n      <td>0.432453</td>\n      <td>0.467728</td>\n      <td>0.369370</td>\n      <td>0.402045</td>\n    </tr>\n    <tr>\n      <td>7559</td>\n      <td>7</td>\n      <td>ffb8d8391</td>\n      <td>0.482317</td>\n      <td>0.503477</td>\n      <td>0.410080</td>\n      <td>0.742368</td>\n      <td>0.405744</td>\n      <td>0.434690</td>\n      <td>0.439494</td>\n      <td>0.530135</td>\n      <td>...</td>\n      <td>0.587781</td>\n      <td>0.447607</td>\n      <td>0.439657</td>\n      <td>0.446125</td>\n      <td>0.769213</td>\n      <td>0.454618</td>\n      <td>0.406236</td>\n      <td>0.471517</td>\n      <td>0.375439</td>\n      <td>0.460238</td>\n    </tr>\n  </tbody>\n</table>\n<p>37816 rows × 26 columns</p>\n</div>"
     },
     "metadata": {},
     "execution_count": 3
    }
   ],
   "source": [
    "\n",
    "input_dir = \"../oof/\"\n",
    "oof0 = pd.read_csv(input_dir + \"fold0_oof.csv\")\n",
    "oof1 = pd.read_csv(input_dir + \"fold1_oof.csv\")\n",
    "oof2 = pd.read_csv(input_dir + \"fold2_oof.csv\")\n",
    "oof3 = pd.read_csv(input_dir + \"fold3_oof.csv\")\n",
    "oof4 = pd.read_csv(input_dir + \"fold4_oof.csv\")\n",
    "oof = pd.concat([oof0, oof1, oof2, oof3, oof4])\n",
    "oof"
   ]
  },
  {
   "cell_type": "code",
   "execution_count": 6,
   "metadata": {},
   "outputs": [
    {
     "output_type": "execute_result",
     "data": {
      "text/plain": [
       "     recording_id  patch        s0        s1        s2        s3        s4  \\\n",
       "0       00204008d      7  0.548896  0.520025  0.467474  0.697040  0.446893   \n",
       "1       003b04435      7  0.454728  0.951329  0.904934  0.786413  0.456735   \n",
       "2       003bec244      7  0.437407  0.695119  0.433345  0.765424  0.392101   \n",
       "3       005f1f9a5      7  0.419551  0.832450  0.484060  0.788383  0.405035   \n",
       "4       006ab765f      7  0.469207  0.421055  0.443135  0.604782  0.521481   \n",
       "...           ...    ...       ...       ...       ...       ...       ...   \n",
       "4722    ffc6031f8      7  0.413844  0.530123  0.443135  0.813791  0.400870   \n",
       "4723    ffd88cd84      7  0.824914  0.837108  0.478534  0.726099  0.407227   \n",
       "4724    ffebe7313      7  0.434797  0.477869  0.442087  0.550913  0.762544   \n",
       "4725    fff163132      7  0.435145  0.485229  0.510467  0.633282  0.444803   \n",
       "4726    fffb79246      7  0.397808  0.460890  0.415304  0.493446  0.411310   \n",
       "\n",
       "            s5        s6        s7  ...       s14       s15       s16  \\\n",
       "0     0.448438  0.460121  0.584658  ...  0.549394  0.461434  0.428925   \n",
       "1     0.449087  0.466502  0.534860  ...  0.548008  0.468029  0.426552   \n",
       "2     0.439933  0.457725  0.656230  ...  0.622062  0.505020  0.466320   \n",
       "3     0.448586  0.448318  0.831307  ...  0.507120  0.483111  0.468487   \n",
       "4     0.451041  0.481147  0.451165  ...  0.518086  0.469907  0.426772   \n",
       "...        ...       ...       ...  ...       ...       ...       ...   \n",
       "4722  0.427655  0.432869  0.945660  ...  0.504306  0.929942  0.424109   \n",
       "4723  0.440960  0.483977  0.434387  ...  0.627796  0.957305  0.428378   \n",
       "4724  0.425178  0.435173  0.487786  ...  0.411168  0.497823  0.452318   \n",
       "4725  0.456847  0.437899  0.527457  ...  0.446378  0.429514  0.459516   \n",
       "4726  0.451361  0.439612  0.415974  ...  0.505465  0.447697  0.446647   \n",
       "\n",
       "           s17       s18       s19       s20       s21       s22       s23  \n",
       "0     0.460038  0.703318  0.463842  0.441076  0.479856  0.421455  0.480373  \n",
       "1     0.401656  0.518370  0.426427  0.442919  0.466933  0.244232  0.445347  \n",
       "2     0.447618  0.476920  0.430968  0.494836  0.460993  0.513579  0.520855  \n",
       "3     0.459949  0.513665  0.444374  0.446555  0.449185  0.383641  0.437247  \n",
       "4     0.475149  0.482384  0.442636  0.461442  0.483430  0.368766  0.927742  \n",
       "...        ...       ...       ...       ...       ...       ...       ...  \n",
       "4722  0.426820  0.480365  0.426354  0.461369  0.445122  0.447168  0.397644  \n",
       "4723  0.426839  0.814257  0.425503  0.426070  0.459479  0.442835  0.455910  \n",
       "4724  0.445224  0.498972  0.437679  0.436377  0.967661  0.470680  0.472302  \n",
       "4725  0.471421  0.453194  0.458484  0.458985  0.478719  0.401862  0.463500  \n",
       "4726  0.434677  0.440147  0.442950  0.440572  0.469089  0.398459  0.449867  \n",
       "\n",
       "[4727 rows x 26 columns]"
      ],
      "text/html": "<div>\n<style scoped>\n    .dataframe tbody tr th:only-of-type {\n        vertical-align: middle;\n    }\n\n    .dataframe tbody tr th {\n        vertical-align: top;\n    }\n\n    .dataframe thead th {\n        text-align: right;\n    }\n</style>\n<table border=\"1\" class=\"dataframe\">\n  <thead>\n    <tr style=\"text-align: right;\">\n      <th></th>\n      <th>recording_id</th>\n      <th>patch</th>\n      <th>s0</th>\n      <th>s1</th>\n      <th>s2</th>\n      <th>s3</th>\n      <th>s4</th>\n      <th>s5</th>\n      <th>s6</th>\n      <th>s7</th>\n      <th>...</th>\n      <th>s14</th>\n      <th>s15</th>\n      <th>s16</th>\n      <th>s17</th>\n      <th>s18</th>\n      <th>s19</th>\n      <th>s20</th>\n      <th>s21</th>\n      <th>s22</th>\n      <th>s23</th>\n    </tr>\n  </thead>\n  <tbody>\n    <tr>\n      <td>0</td>\n      <td>00204008d</td>\n      <td>7</td>\n      <td>0.548896</td>\n      <td>0.520025</td>\n      <td>0.467474</td>\n      <td>0.697040</td>\n      <td>0.446893</td>\n      <td>0.448438</td>\n      <td>0.460121</td>\n      <td>0.584658</td>\n      <td>...</td>\n      <td>0.549394</td>\n      <td>0.461434</td>\n      <td>0.428925</td>\n      <td>0.460038</td>\n      <td>0.703318</td>\n      <td>0.463842</td>\n      <td>0.441076</td>\n      <td>0.479856</td>\n      <td>0.421455</td>\n      <td>0.480373</td>\n    </tr>\n    <tr>\n      <td>1</td>\n      <td>003b04435</td>\n      <td>7</td>\n      <td>0.454728</td>\n      <td>0.951329</td>\n      <td>0.904934</td>\n      <td>0.786413</td>\n      <td>0.456735</td>\n      <td>0.449087</td>\n      <td>0.466502</td>\n      <td>0.534860</td>\n      <td>...</td>\n      <td>0.548008</td>\n      <td>0.468029</td>\n      <td>0.426552</td>\n      <td>0.401656</td>\n      <td>0.518370</td>\n      <td>0.426427</td>\n      <td>0.442919</td>\n      <td>0.466933</td>\n      <td>0.244232</td>\n      <td>0.445347</td>\n    </tr>\n    <tr>\n      <td>2</td>\n      <td>003bec244</td>\n      <td>7</td>\n      <td>0.437407</td>\n      <td>0.695119</td>\n      <td>0.433345</td>\n      <td>0.765424</td>\n      <td>0.392101</td>\n      <td>0.439933</td>\n      <td>0.457725</td>\n      <td>0.656230</td>\n      <td>...</td>\n      <td>0.622062</td>\n      <td>0.505020</td>\n      <td>0.466320</td>\n      <td>0.447618</td>\n      <td>0.476920</td>\n      <td>0.430968</td>\n      <td>0.494836</td>\n      <td>0.460993</td>\n      <td>0.513579</td>\n      <td>0.520855</td>\n    </tr>\n    <tr>\n      <td>3</td>\n      <td>005f1f9a5</td>\n      <td>7</td>\n      <td>0.419551</td>\n      <td>0.832450</td>\n      <td>0.484060</td>\n      <td>0.788383</td>\n      <td>0.405035</td>\n      <td>0.448586</td>\n      <td>0.448318</td>\n      <td>0.831307</td>\n      <td>...</td>\n      <td>0.507120</td>\n      <td>0.483111</td>\n      <td>0.468487</td>\n      <td>0.459949</td>\n      <td>0.513665</td>\n      <td>0.444374</td>\n      <td>0.446555</td>\n      <td>0.449185</td>\n      <td>0.383641</td>\n      <td>0.437247</td>\n    </tr>\n    <tr>\n      <td>4</td>\n      <td>006ab765f</td>\n      <td>7</td>\n      <td>0.469207</td>\n      <td>0.421055</td>\n      <td>0.443135</td>\n      <td>0.604782</td>\n      <td>0.521481</td>\n      <td>0.451041</td>\n      <td>0.481147</td>\n      <td>0.451165</td>\n      <td>...</td>\n      <td>0.518086</td>\n      <td>0.469907</td>\n      <td>0.426772</td>\n      <td>0.475149</td>\n      <td>0.482384</td>\n      <td>0.442636</td>\n      <td>0.461442</td>\n      <td>0.483430</td>\n      <td>0.368766</td>\n      <td>0.927742</td>\n    </tr>\n    <tr>\n      <td>...</td>\n      <td>...</td>\n      <td>...</td>\n      <td>...</td>\n      <td>...</td>\n      <td>...</td>\n      <td>...</td>\n      <td>...</td>\n      <td>...</td>\n      <td>...</td>\n      <td>...</td>\n      <td>...</td>\n      <td>...</td>\n      <td>...</td>\n      <td>...</td>\n      <td>...</td>\n      <td>...</td>\n      <td>...</td>\n      <td>...</td>\n      <td>...</td>\n      <td>...</td>\n      <td>...</td>\n    </tr>\n    <tr>\n      <td>4722</td>\n      <td>ffc6031f8</td>\n      <td>7</td>\n      <td>0.413844</td>\n      <td>0.530123</td>\n      <td>0.443135</td>\n      <td>0.813791</td>\n      <td>0.400870</td>\n      <td>0.427655</td>\n      <td>0.432869</td>\n      <td>0.945660</td>\n      <td>...</td>\n      <td>0.504306</td>\n      <td>0.929942</td>\n      <td>0.424109</td>\n      <td>0.426820</td>\n      <td>0.480365</td>\n      <td>0.426354</td>\n      <td>0.461369</td>\n      <td>0.445122</td>\n      <td>0.447168</td>\n      <td>0.397644</td>\n    </tr>\n    <tr>\n      <td>4723</td>\n      <td>ffd88cd84</td>\n      <td>7</td>\n      <td>0.824914</td>\n      <td>0.837108</td>\n      <td>0.478534</td>\n      <td>0.726099</td>\n      <td>0.407227</td>\n      <td>0.440960</td>\n      <td>0.483977</td>\n      <td>0.434387</td>\n      <td>...</td>\n      <td>0.627796</td>\n      <td>0.957305</td>\n      <td>0.428378</td>\n      <td>0.426839</td>\n      <td>0.814257</td>\n      <td>0.425503</td>\n      <td>0.426070</td>\n      <td>0.459479</td>\n      <td>0.442835</td>\n      <td>0.455910</td>\n    </tr>\n    <tr>\n      <td>4724</td>\n      <td>ffebe7313</td>\n      <td>7</td>\n      <td>0.434797</td>\n      <td>0.477869</td>\n      <td>0.442087</td>\n      <td>0.550913</td>\n      <td>0.762544</td>\n      <td>0.425178</td>\n      <td>0.435173</td>\n      <td>0.487786</td>\n      <td>...</td>\n      <td>0.411168</td>\n      <td>0.497823</td>\n      <td>0.452318</td>\n      <td>0.445224</td>\n      <td>0.498972</td>\n      <td>0.437679</td>\n      <td>0.436377</td>\n      <td>0.967661</td>\n      <td>0.470680</td>\n      <td>0.472302</td>\n    </tr>\n    <tr>\n      <td>4725</td>\n      <td>fff163132</td>\n      <td>7</td>\n      <td>0.435145</td>\n      <td>0.485229</td>\n      <td>0.510467</td>\n      <td>0.633282</td>\n      <td>0.444803</td>\n      <td>0.456847</td>\n      <td>0.437899</td>\n      <td>0.527457</td>\n      <td>...</td>\n      <td>0.446378</td>\n      <td>0.429514</td>\n      <td>0.459516</td>\n      <td>0.471421</td>\n      <td>0.453194</td>\n      <td>0.458484</td>\n      <td>0.458985</td>\n      <td>0.478719</td>\n      <td>0.401862</td>\n      <td>0.463500</td>\n    </tr>\n    <tr>\n      <td>4726</td>\n      <td>fffb79246</td>\n      <td>7</td>\n      <td>0.397808</td>\n      <td>0.460890</td>\n      <td>0.415304</td>\n      <td>0.493446</td>\n      <td>0.411310</td>\n      <td>0.451361</td>\n      <td>0.439612</td>\n      <td>0.415974</td>\n      <td>...</td>\n      <td>0.505465</td>\n      <td>0.447697</td>\n      <td>0.446647</td>\n      <td>0.434677</td>\n      <td>0.440147</td>\n      <td>0.442950</td>\n      <td>0.440572</td>\n      <td>0.469089</td>\n      <td>0.398459</td>\n      <td>0.449867</td>\n    </tr>\n  </tbody>\n</table>\n<p>4727 rows × 26 columns</p>\n</div>"
     },
     "metadata": {},
     "execution_count": 6
    }
   ],
   "source": [
    "oof2 = oof.groupby('recording_id').max().reset_index(drop=False)\n",
    "oof2"
   ]
  },
  {
   "cell_type": "code",
   "execution_count": 20,
   "metadata": {},
   "outputs": [
    {
     "output_type": "execute_result",
     "data": {
      "text/plain": [
       "      s0  s1  s2  s3  s4  s5  s6  s7  s8  s9  ...  s15  s16  s17  s18  s19  \\\n",
       "0      0   0   0   0   0   0   0   0   0   0  ...    0    0    0    0    0   \n",
       "1      0   0   0   0   0   0   0   0   0   0  ...    0    0    0    0    0   \n",
       "2      0   0   0   0   0   0   0   0   0   0  ...    0    0    0    0    0   \n",
       "3      0   0   0   0   0   0   0   0   0   0  ...    0    0    1    0    0   \n",
       "4      0   0   0   0   0   0   0   0   0   0  ...    0    0    0    0    0   \n",
       "...   ..  ..  ..  ..  ..  ..  ..  ..  ..  ..  ...  ...  ...  ...  ...  ...   \n",
       "1127   0   0   0   0   0   0   0   0   0   0  ...    0    0    0    0    0   \n",
       "1128   0   0   0   0   1   0   0   0   0   0  ...    0    0    0    0    0   \n",
       "1129   1   0   0   0   0   0   0   0   0   0  ...    0    0    0    0    0   \n",
       "1130   0   0   0   0   0   1   0   0   0   0  ...    0    0    0    0    0   \n",
       "1131   0   0   0   0   0   0   0   0   0   0  ...    0    0    0    1    0   \n",
       "\n",
       "      s20  s21  s22  s23  recording_id  \n",
       "0       0    0    0    0     003bec244  \n",
       "1       0    0    0    1     006ab765f  \n",
       "2       0    0    0    0     007f87ba2  \n",
       "3       0    0    0    0     0099c367b  \n",
       "4       0    0    0    0     009b760e6  \n",
       "...   ...  ...  ...  ...           ...  \n",
       "1127    0    0    0    0     fe8d9ac40  \n",
       "1128    0    0    0    0     fea6b438a  \n",
       "1129    0    0    0    0     ff2eb9ce5  \n",
       "1130    0    0    0    0     ffb8d8391  \n",
       "1131    0    0    0    0     ffb9a7b9a  \n",
       "\n",
       "[1132 rows x 25 columns]"
      ],
      "text/html": "<div>\n<style scoped>\n    .dataframe tbody tr th:only-of-type {\n        vertical-align: middle;\n    }\n\n    .dataframe tbody tr th {\n        vertical-align: top;\n    }\n\n    .dataframe thead th {\n        text-align: right;\n    }\n</style>\n<table border=\"1\" class=\"dataframe\">\n  <thead>\n    <tr style=\"text-align: right;\">\n      <th></th>\n      <th>s0</th>\n      <th>s1</th>\n      <th>s2</th>\n      <th>s3</th>\n      <th>s4</th>\n      <th>s5</th>\n      <th>s6</th>\n      <th>s7</th>\n      <th>s8</th>\n      <th>s9</th>\n      <th>...</th>\n      <th>s15</th>\n      <th>s16</th>\n      <th>s17</th>\n      <th>s18</th>\n      <th>s19</th>\n      <th>s20</th>\n      <th>s21</th>\n      <th>s22</th>\n      <th>s23</th>\n      <th>recording_id</th>\n    </tr>\n  </thead>\n  <tbody>\n    <tr>\n      <td>0</td>\n      <td>0</td>\n      <td>0</td>\n      <td>0</td>\n      <td>0</td>\n      <td>0</td>\n      <td>0</td>\n      <td>0</td>\n      <td>0</td>\n      <td>0</td>\n      <td>0</td>\n      <td>...</td>\n      <td>0</td>\n      <td>0</td>\n      <td>0</td>\n      <td>0</td>\n      <td>0</td>\n      <td>0</td>\n      <td>0</td>\n      <td>0</td>\n      <td>0</td>\n      <td>003bec244</td>\n    </tr>\n    <tr>\n      <td>1</td>\n      <td>0</td>\n      <td>0</td>\n      <td>0</td>\n      <td>0</td>\n      <td>0</td>\n      <td>0</td>\n      <td>0</td>\n      <td>0</td>\n      <td>0</td>\n      <td>0</td>\n      <td>...</td>\n      <td>0</td>\n      <td>0</td>\n      <td>0</td>\n      <td>0</td>\n      <td>0</td>\n      <td>0</td>\n      <td>0</td>\n      <td>0</td>\n      <td>1</td>\n      <td>006ab765f</td>\n    </tr>\n    <tr>\n      <td>2</td>\n      <td>0</td>\n      <td>0</td>\n      <td>0</td>\n      <td>0</td>\n      <td>0</td>\n      <td>0</td>\n      <td>0</td>\n      <td>0</td>\n      <td>0</td>\n      <td>0</td>\n      <td>...</td>\n      <td>0</td>\n      <td>0</td>\n      <td>0</td>\n      <td>0</td>\n      <td>0</td>\n      <td>0</td>\n      <td>0</td>\n      <td>0</td>\n      <td>0</td>\n      <td>007f87ba2</td>\n    </tr>\n    <tr>\n      <td>3</td>\n      <td>0</td>\n      <td>0</td>\n      <td>0</td>\n      <td>0</td>\n      <td>0</td>\n      <td>0</td>\n      <td>0</td>\n      <td>0</td>\n      <td>0</td>\n      <td>0</td>\n      <td>...</td>\n      <td>0</td>\n      <td>0</td>\n      <td>1</td>\n      <td>0</td>\n      <td>0</td>\n      <td>0</td>\n      <td>0</td>\n      <td>0</td>\n      <td>0</td>\n      <td>0099c367b</td>\n    </tr>\n    <tr>\n      <td>4</td>\n      <td>0</td>\n      <td>0</td>\n      <td>0</td>\n      <td>0</td>\n      <td>0</td>\n      <td>0</td>\n      <td>0</td>\n      <td>0</td>\n      <td>0</td>\n      <td>0</td>\n      <td>...</td>\n      <td>0</td>\n      <td>0</td>\n      <td>0</td>\n      <td>0</td>\n      <td>0</td>\n      <td>0</td>\n      <td>0</td>\n      <td>0</td>\n      <td>0</td>\n      <td>009b760e6</td>\n    </tr>\n    <tr>\n      <td>...</td>\n      <td>...</td>\n      <td>...</td>\n      <td>...</td>\n      <td>...</td>\n      <td>...</td>\n      <td>...</td>\n      <td>...</td>\n      <td>...</td>\n      <td>...</td>\n      <td>...</td>\n      <td>...</td>\n      <td>...</td>\n      <td>...</td>\n      <td>...</td>\n      <td>...</td>\n      <td>...</td>\n      <td>...</td>\n      <td>...</td>\n      <td>...</td>\n      <td>...</td>\n      <td>...</td>\n    </tr>\n    <tr>\n      <td>1127</td>\n      <td>0</td>\n      <td>0</td>\n      <td>0</td>\n      <td>0</td>\n      <td>0</td>\n      <td>0</td>\n      <td>0</td>\n      <td>0</td>\n      <td>0</td>\n      <td>0</td>\n      <td>...</td>\n      <td>0</td>\n      <td>0</td>\n      <td>0</td>\n      <td>0</td>\n      <td>0</td>\n      <td>0</td>\n      <td>0</td>\n      <td>0</td>\n      <td>0</td>\n      <td>fe8d9ac40</td>\n    </tr>\n    <tr>\n      <td>1128</td>\n      <td>0</td>\n      <td>0</td>\n      <td>0</td>\n      <td>0</td>\n      <td>1</td>\n      <td>0</td>\n      <td>0</td>\n      <td>0</td>\n      <td>0</td>\n      <td>0</td>\n      <td>...</td>\n      <td>0</td>\n      <td>0</td>\n      <td>0</td>\n      <td>0</td>\n      <td>0</td>\n      <td>0</td>\n      <td>0</td>\n      <td>0</td>\n      <td>0</td>\n      <td>fea6b438a</td>\n    </tr>\n    <tr>\n      <td>1129</td>\n      <td>1</td>\n      <td>0</td>\n      <td>0</td>\n      <td>0</td>\n      <td>0</td>\n      <td>0</td>\n      <td>0</td>\n      <td>0</td>\n      <td>0</td>\n      <td>0</td>\n      <td>...</td>\n      <td>0</td>\n      <td>0</td>\n      <td>0</td>\n      <td>0</td>\n      <td>0</td>\n      <td>0</td>\n      <td>0</td>\n      <td>0</td>\n      <td>0</td>\n      <td>ff2eb9ce5</td>\n    </tr>\n    <tr>\n      <td>1130</td>\n      <td>0</td>\n      <td>0</td>\n      <td>0</td>\n      <td>0</td>\n      <td>0</td>\n      <td>1</td>\n      <td>0</td>\n      <td>0</td>\n      <td>0</td>\n      <td>0</td>\n      <td>...</td>\n      <td>0</td>\n      <td>0</td>\n      <td>0</td>\n      <td>0</td>\n      <td>0</td>\n      <td>0</td>\n      <td>0</td>\n      <td>0</td>\n      <td>0</td>\n      <td>ffb8d8391</td>\n    </tr>\n    <tr>\n      <td>1131</td>\n      <td>0</td>\n      <td>0</td>\n      <td>0</td>\n      <td>0</td>\n      <td>0</td>\n      <td>0</td>\n      <td>0</td>\n      <td>0</td>\n      <td>0</td>\n      <td>0</td>\n      <td>...</td>\n      <td>0</td>\n      <td>0</td>\n      <td>0</td>\n      <td>1</td>\n      <td>0</td>\n      <td>0</td>\n      <td>0</td>\n      <td>0</td>\n      <td>0</td>\n      <td>ffb9a7b9a</td>\n    </tr>\n  </tbody>\n</table>\n<p>1132 rows × 25 columns</p>\n</div>"
     },
     "metadata": {},
     "execution_count": 20
    }
   ],
   "source": [
    "tp = pd.read_csv(\"../input/rfcx-species-audio-detection/train_tp.csv\")\n",
    "tp_fnames, tp_labels = [], []\n",
    "for recording_id, df in tp.groupby(\"recording_id\"):\n",
    "    v = sum([np.eye(24)[i] for i in df[\"species_id\"].tolist()])\n",
    "    v = (v  == 1).astype(int).tolist()\n",
    "    tp_fnames.append(recording_id)\n",
    "    tp_labels.append(v) \n",
    "\n",
    "tp2 = pd.DataFrame(tp_labels, columns=[f's{i}' for i in range(24)])\n",
    "tp2['recording_id'] = tp_fnames\n",
    "tp2 = tp2.sort_values('recording_id')\n",
    "tp2\n"
   ]
  },
  {
   "cell_type": "code",
   "execution_count": 21,
   "metadata": {},
   "outputs": [
    {
     "output_type": "execute_result",
     "data": {
      "text/plain": [
       "     recording_id  patch        s0        s1        s2        s3        s4  \\\n",
       "0       003bec244      7  0.437407  0.695119  0.433345  0.765424  0.392101   \n",
       "1       006ab765f      7  0.469207  0.421055  0.443135  0.604782  0.521481   \n",
       "2       007f87ba2      7  0.419532  0.502611  0.440387  0.872133  0.899028   \n",
       "3       0099c367b      7  0.411238  0.438968  0.455962  0.538688  0.433760   \n",
       "4       009b760e6      7  0.466158  0.464070  0.463557  0.583807  0.476545   \n",
       "...           ...    ...       ...       ...       ...       ...       ...   \n",
       "1127    fe8d9ac40      7  0.436519  0.505375  0.427869  0.714508  0.441814   \n",
       "1128    fea6b438a      7  0.422376  0.439193  0.434108  0.849344  0.910174   \n",
       "1129    ff2eb9ce5      7  0.976842  0.409023  0.440584  0.809126  0.467854   \n",
       "1130    ffb8d8391      7  0.482317  0.582037  0.436511  0.819500  0.451346   \n",
       "1131    ffb9a7b9a      7  0.490145  0.417260  0.440701  0.855988  0.414909   \n",
       "\n",
       "            s5        s6        s7  ...       s14       s15       s16  \\\n",
       "0     0.439933  0.457725  0.656230  ...  0.622062  0.505020  0.466320   \n",
       "1     0.451041  0.481147  0.451165  ...  0.518086  0.469907  0.426772   \n",
       "2     0.456750  0.442422  0.464996  ...  0.433639  0.451770  0.476786   \n",
       "3     0.456978  0.454956  0.497238  ...  0.456046  0.551905  0.474548   \n",
       "4     0.449991  0.476532  0.520289  ...  0.541122  0.485194  0.409296   \n",
       "...        ...       ...       ...  ...       ...       ...       ...   \n",
       "1127  0.458994  0.436955  0.473613  ...  0.459438  0.432675  0.551637   \n",
       "1128  0.452776  0.448938  0.480518  ...  0.490813  0.443551  0.472011   \n",
       "1129  0.460264  0.444050  0.530747  ...  0.457555  0.497049  0.445969   \n",
       "1130  0.560597  0.449167  0.538236  ...  0.593592  0.478443  0.461461   \n",
       "1131  0.452206  0.429271  0.484792  ...  0.486470  0.495049  0.492745   \n",
       "\n",
       "           s17       s18       s19       s20       s21       s22       s23  \n",
       "0     0.447618  0.476920  0.430968  0.494836  0.460993  0.513579  0.520855  \n",
       "1     0.475149  0.482384  0.442636  0.461442  0.483430  0.368766  0.927742  \n",
       "2     0.417244  0.509499  0.438851  0.451265  0.480770  0.464247  0.449161  \n",
       "3     0.750889  0.514071  0.460972  0.465610  0.453676  0.395555  0.451871  \n",
       "4     0.464253  0.505128  0.459567  0.453548  0.555791  0.388502  0.621835  \n",
       "...        ...       ...       ...       ...       ...       ...       ...  \n",
       "1127  0.462548  0.474333  0.466328  0.451010  0.456676  0.393870  0.470676  \n",
       "1128  0.465563  0.485953  0.435484  0.460873  0.763856  0.423832  0.466825  \n",
       "1129  0.402109  0.919045  0.405408  0.450359  0.485972  0.415575  0.454400  \n",
       "1130  0.452139  0.769213  0.455197  0.444676  0.517507  0.375439  0.467822  \n",
       "1131  0.408427  0.578014  0.459555  0.441260  0.494695  0.379869  0.443193  \n",
       "\n",
       "[1132 rows x 26 columns]"
      ],
      "text/html": "<div>\n<style scoped>\n    .dataframe tbody tr th:only-of-type {\n        vertical-align: middle;\n    }\n\n    .dataframe tbody tr th {\n        vertical-align: top;\n    }\n\n    .dataframe thead th {\n        text-align: right;\n    }\n</style>\n<table border=\"1\" class=\"dataframe\">\n  <thead>\n    <tr style=\"text-align: right;\">\n      <th></th>\n      <th>recording_id</th>\n      <th>patch</th>\n      <th>s0</th>\n      <th>s1</th>\n      <th>s2</th>\n      <th>s3</th>\n      <th>s4</th>\n      <th>s5</th>\n      <th>s6</th>\n      <th>s7</th>\n      <th>...</th>\n      <th>s14</th>\n      <th>s15</th>\n      <th>s16</th>\n      <th>s17</th>\n      <th>s18</th>\n      <th>s19</th>\n      <th>s20</th>\n      <th>s21</th>\n      <th>s22</th>\n      <th>s23</th>\n    </tr>\n  </thead>\n  <tbody>\n    <tr>\n      <td>0</td>\n      <td>003bec244</td>\n      <td>7</td>\n      <td>0.437407</td>\n      <td>0.695119</td>\n      <td>0.433345</td>\n      <td>0.765424</td>\n      <td>0.392101</td>\n      <td>0.439933</td>\n      <td>0.457725</td>\n      <td>0.656230</td>\n      <td>...</td>\n      <td>0.622062</td>\n      <td>0.505020</td>\n      <td>0.466320</td>\n      <td>0.447618</td>\n      <td>0.476920</td>\n      <td>0.430968</td>\n      <td>0.494836</td>\n      <td>0.460993</td>\n      <td>0.513579</td>\n      <td>0.520855</td>\n    </tr>\n    <tr>\n      <td>1</td>\n      <td>006ab765f</td>\n      <td>7</td>\n      <td>0.469207</td>\n      <td>0.421055</td>\n      <td>0.443135</td>\n      <td>0.604782</td>\n      <td>0.521481</td>\n      <td>0.451041</td>\n      <td>0.481147</td>\n      <td>0.451165</td>\n      <td>...</td>\n      <td>0.518086</td>\n      <td>0.469907</td>\n      <td>0.426772</td>\n      <td>0.475149</td>\n      <td>0.482384</td>\n      <td>0.442636</td>\n      <td>0.461442</td>\n      <td>0.483430</td>\n      <td>0.368766</td>\n      <td>0.927742</td>\n    </tr>\n    <tr>\n      <td>2</td>\n      <td>007f87ba2</td>\n      <td>7</td>\n      <td>0.419532</td>\n      <td>0.502611</td>\n      <td>0.440387</td>\n      <td>0.872133</td>\n      <td>0.899028</td>\n      <td>0.456750</td>\n      <td>0.442422</td>\n      <td>0.464996</td>\n      <td>...</td>\n      <td>0.433639</td>\n      <td>0.451770</td>\n      <td>0.476786</td>\n      <td>0.417244</td>\n      <td>0.509499</td>\n      <td>0.438851</td>\n      <td>0.451265</td>\n      <td>0.480770</td>\n      <td>0.464247</td>\n      <td>0.449161</td>\n    </tr>\n    <tr>\n      <td>3</td>\n      <td>0099c367b</td>\n      <td>7</td>\n      <td>0.411238</td>\n      <td>0.438968</td>\n      <td>0.455962</td>\n      <td>0.538688</td>\n      <td>0.433760</td>\n      <td>0.456978</td>\n      <td>0.454956</td>\n      <td>0.497238</td>\n      <td>...</td>\n      <td>0.456046</td>\n      <td>0.551905</td>\n      <td>0.474548</td>\n      <td>0.750889</td>\n      <td>0.514071</td>\n      <td>0.460972</td>\n      <td>0.465610</td>\n      <td>0.453676</td>\n      <td>0.395555</td>\n      <td>0.451871</td>\n    </tr>\n    <tr>\n      <td>4</td>\n      <td>009b760e6</td>\n      <td>7</td>\n      <td>0.466158</td>\n      <td>0.464070</td>\n      <td>0.463557</td>\n      <td>0.583807</td>\n      <td>0.476545</td>\n      <td>0.449991</td>\n      <td>0.476532</td>\n      <td>0.520289</td>\n      <td>...</td>\n      <td>0.541122</td>\n      <td>0.485194</td>\n      <td>0.409296</td>\n      <td>0.464253</td>\n      <td>0.505128</td>\n      <td>0.459567</td>\n      <td>0.453548</td>\n      <td>0.555791</td>\n      <td>0.388502</td>\n      <td>0.621835</td>\n    </tr>\n    <tr>\n      <td>...</td>\n      <td>...</td>\n      <td>...</td>\n      <td>...</td>\n      <td>...</td>\n      <td>...</td>\n      <td>...</td>\n      <td>...</td>\n      <td>...</td>\n      <td>...</td>\n      <td>...</td>\n      <td>...</td>\n      <td>...</td>\n      <td>...</td>\n      <td>...</td>\n      <td>...</td>\n      <td>...</td>\n      <td>...</td>\n      <td>...</td>\n      <td>...</td>\n      <td>...</td>\n      <td>...</td>\n    </tr>\n    <tr>\n      <td>1127</td>\n      <td>fe8d9ac40</td>\n      <td>7</td>\n      <td>0.436519</td>\n      <td>0.505375</td>\n      <td>0.427869</td>\n      <td>0.714508</td>\n      <td>0.441814</td>\n      <td>0.458994</td>\n      <td>0.436955</td>\n      <td>0.473613</td>\n      <td>...</td>\n      <td>0.459438</td>\n      <td>0.432675</td>\n      <td>0.551637</td>\n      <td>0.462548</td>\n      <td>0.474333</td>\n      <td>0.466328</td>\n      <td>0.451010</td>\n      <td>0.456676</td>\n      <td>0.393870</td>\n      <td>0.470676</td>\n    </tr>\n    <tr>\n      <td>1128</td>\n      <td>fea6b438a</td>\n      <td>7</td>\n      <td>0.422376</td>\n      <td>0.439193</td>\n      <td>0.434108</td>\n      <td>0.849344</td>\n      <td>0.910174</td>\n      <td>0.452776</td>\n      <td>0.448938</td>\n      <td>0.480518</td>\n      <td>...</td>\n      <td>0.490813</td>\n      <td>0.443551</td>\n      <td>0.472011</td>\n      <td>0.465563</td>\n      <td>0.485953</td>\n      <td>0.435484</td>\n      <td>0.460873</td>\n      <td>0.763856</td>\n      <td>0.423832</td>\n      <td>0.466825</td>\n    </tr>\n    <tr>\n      <td>1129</td>\n      <td>ff2eb9ce5</td>\n      <td>7</td>\n      <td>0.976842</td>\n      <td>0.409023</td>\n      <td>0.440584</td>\n      <td>0.809126</td>\n      <td>0.467854</td>\n      <td>0.460264</td>\n      <td>0.444050</td>\n      <td>0.530747</td>\n      <td>...</td>\n      <td>0.457555</td>\n      <td>0.497049</td>\n      <td>0.445969</td>\n      <td>0.402109</td>\n      <td>0.919045</td>\n      <td>0.405408</td>\n      <td>0.450359</td>\n      <td>0.485972</td>\n      <td>0.415575</td>\n      <td>0.454400</td>\n    </tr>\n    <tr>\n      <td>1130</td>\n      <td>ffb8d8391</td>\n      <td>7</td>\n      <td>0.482317</td>\n      <td>0.582037</td>\n      <td>0.436511</td>\n      <td>0.819500</td>\n      <td>0.451346</td>\n      <td>0.560597</td>\n      <td>0.449167</td>\n      <td>0.538236</td>\n      <td>...</td>\n      <td>0.593592</td>\n      <td>0.478443</td>\n      <td>0.461461</td>\n      <td>0.452139</td>\n      <td>0.769213</td>\n      <td>0.455197</td>\n      <td>0.444676</td>\n      <td>0.517507</td>\n      <td>0.375439</td>\n      <td>0.467822</td>\n    </tr>\n    <tr>\n      <td>1131</td>\n      <td>ffb9a7b9a</td>\n      <td>7</td>\n      <td>0.490145</td>\n      <td>0.417260</td>\n      <td>0.440701</td>\n      <td>0.855988</td>\n      <td>0.414909</td>\n      <td>0.452206</td>\n      <td>0.429271</td>\n      <td>0.484792</td>\n      <td>...</td>\n      <td>0.486470</td>\n      <td>0.495049</td>\n      <td>0.492745</td>\n      <td>0.408427</td>\n      <td>0.578014</td>\n      <td>0.459555</td>\n      <td>0.441260</td>\n      <td>0.494695</td>\n      <td>0.379869</td>\n      <td>0.443193</td>\n    </tr>\n  </tbody>\n</table>\n<p>1132 rows × 26 columns</p>\n</div>"
     },
     "metadata": {},
     "execution_count": 21
    }
   ],
   "source": [
    "tp_oof = oof2[oof2['recording_id'].isin(tp2['recording_id'])].reset_index(drop=True).sort_values('recording_id')\n",
    "tp_oof"
   ]
  },
  {
   "cell_type": "code",
   "execution_count": 32,
   "metadata": {},
   "outputs": [],
   "source": [
    "pred = tp_oof.loc[:, 's0':'s23'].values\n",
    "target = tp2.loc[:, 's0':'s23'].values"
   ]
  },
  {
   "cell_type": "code",
   "execution_count": 39,
   "metadata": {},
   "outputs": [
    {
     "output_type": "execute_result",
     "data": {
      "text/plain": [
       "array([0.9871719 , 0.95996303, 0.99259176, 0.7549353 , 0.96031423,\n",
       "       0.96833641, 0.99707872, 0.94      , 0.98014787, 0.9909375 ,\n",
       "       0.99473401, 0.9661183 , 0.9315342 , 0.99678373, 0.98245841,\n",
       "       0.97100602, 0.99333435, 0.98342491, 0.9238817 , 0.99225843,\n",
       "       0.97247429, 0.94955638, 0.9956133 , 0.94647101])"
      ]
     },
     "metadata": {},
     "execution_count": 39
    }
   ],
   "source": [
    "from sklearn.metrics import roc_auc_score\n",
    "import matplotlib.pyplot as plt\n",
    "auc = roc_auc_score(target, pred, average=None)\n",
    "auc"
   ]
  },
  {
   "cell_type": "code",
   "execution_count": 41,
   "metadata": {},
   "outputs": [
    {
     "output_type": "execute_result",
     "data": {
      "text/plain": [
       "<BarContainer object of 24 artists>"
      ]
     },
     "metadata": {},
     "execution_count": 41
    },
    {
     "output_type": "display_data",
     "data": {
      "text/plain": "<Figure size 432x288 with 1 Axes>",
      "image/svg+xml": "<?xml version=\"1.0\" encoding=\"utf-8\" standalone=\"no\"?>\n<!DOCTYPE svg PUBLIC \"-//W3C//DTD SVG 1.1//EN\"\n  \"http://www.w3.org/Graphics/SVG/1.1/DTD/svg11.dtd\">\n<!-- Created with matplotlib (https://matplotlib.org/) -->\n<svg height=\"248.518125pt\" version=\"1.1\" viewBox=\"0 0 372.103125 248.518125\" width=\"372.103125pt\" xmlns=\"http://www.w3.org/2000/svg\" xmlns:xlink=\"http://www.w3.org/1999/xlink\">\n <defs>\n  <style type=\"text/css\">\n*{stroke-linecap:butt;stroke-linejoin:round;}\n  </style>\n </defs>\n <g id=\"figure_1\">\n  <g id=\"patch_1\">\n   <path d=\"M 0 248.518125 \nL 372.103125 248.518125 \nL 372.103125 0 \nL 0 0 \nz\n\" style=\"fill:none;\"/>\n  </g>\n  <g id=\"axes_1\">\n   <g id=\"patch_2\">\n    <path d=\"M 30.103125 224.64 \nL 364.903125 224.64 \nL 364.903125 7.2 \nL 30.103125 7.2 \nz\n\" style=\"fill:#ffffff;\"/>\n   </g>\n   <g id=\"patch_3\">\n    <path clip-path=\"url(#p08397949e9)\" d=\"M 45.321307 224.64 \nL 55.552017 224.64 \nL 55.552017 19.611857 \nL 45.321307 19.611857 \nz\n\" style=\"fill:#1f77b4;\"/>\n   </g>\n   <g id=\"patch_4\">\n    <path clip-path=\"url(#p08397949e9)\" d=\"M 58.109695 224.64 \nL 68.340405 224.64 \nL 68.340405 25.262934 \nL 58.109695 25.262934 \nz\n\" style=\"fill:#1f77b4;\"/>\n   </g>\n   <g id=\"patch_5\">\n    <path clip-path=\"url(#p08397949e9)\" d=\"M 70.898083 224.64 \nL 81.128793 224.64 \nL 81.128793 18.486194 \nL 70.898083 18.486194 \nz\n\" style=\"fill:#1f77b4;\"/>\n   </g>\n   <g id=\"patch_6\">\n    <path clip-path=\"url(#p08397949e9)\" d=\"M 83.686471 224.64 \nL 93.917182 224.64 \nL 93.917182 67.845643 \nL 83.686471 67.845643 \nz\n\" style=\"fill:#1f77b4;\"/>\n   </g>\n   <g id=\"patch_7\">\n    <path clip-path=\"url(#p08397949e9)\" d=\"M 96.474859 224.64 \nL 106.70557 224.64 \nL 106.70557 25.189992 \nL 96.474859 25.189992 \nz\n\" style=\"fill:#1f77b4;\"/>\n   </g>\n   <g id=\"patch_8\">\n    <path clip-path=\"url(#p08397949e9)\" d=\"M 109.263247 224.64 \nL 119.493958 224.64 \nL 119.493958 23.523846 \nL 109.263247 23.523846 \nz\n\" style=\"fill:#1f77b4;\"/>\n   </g>\n   <g id=\"patch_9\">\n    <path clip-path=\"url(#p08397949e9)\" d=\"M 122.051635 224.64 \nL 132.282346 224.64 \nL 132.282346 17.554286 \nL 122.051635 17.554286 \nz\n\" style=\"fill:#1f77b4;\"/>\n   </g>\n   <g id=\"patch_10\">\n    <path clip-path=\"url(#p08397949e9)\" d=\"M 134.840023 224.64 \nL 145.070734 224.64 \nL 145.070734 29.409105 \nL 134.840023 29.409105 \nz\n\" style=\"fill:#1f77b4;\"/>\n   </g>\n   <g id=\"patch_11\">\n    <path clip-path=\"url(#p08397949e9)\" d=\"M 147.628411 224.64 \nL 157.859122 224.64 \nL 157.859122 21.070695 \nL 147.628411 21.070695 \nz\n\" style=\"fill:#1f77b4;\"/>\n   </g>\n   <g id=\"patch_12\">\n    <path clip-path=\"url(#p08397949e9)\" d=\"M 160.4168 224.64 \nL 170.64751 224.64 \nL 170.64751 18.829771 \nL 160.4168 18.829771 \nz\n\" style=\"fill:#1f77b4;\"/>\n   </g>\n   <g id=\"patch_13\">\n    <path clip-path=\"url(#p08397949e9)\" d=\"M 173.205188 224.64 \nL 183.435898 224.64 \nL 183.435898 18.041264 \nL 173.205188 18.041264 \nz\n\" style=\"fill:#1f77b4;\"/>\n   </g>\n   <g id=\"patch_14\">\n    <path clip-path=\"url(#p08397949e9)\" d=\"M 185.993576 224.64 \nL 196.224286 224.64 \nL 196.224286 23.984531 \nL 185.993576 23.984531 \nz\n\" style=\"fill:#1f77b4;\"/>\n   </g>\n   <g id=\"patch_15\">\n    <path clip-path=\"url(#p08397949e9)\" d=\"M 198.781964 224.64 \nL 209.012674 224.64 \nL 209.012674 31.167388 \nL 198.781964 31.167388 \nz\n\" style=\"fill:#1f77b4;\"/>\n   </g>\n   <g id=\"patch_16\">\n    <path clip-path=\"url(#p08397949e9)\" d=\"M 211.570352 224.64 \nL 221.801062 224.64 \nL 221.801062 17.615552 \nL 211.570352 17.615552 \nz\n\" style=\"fill:#1f77b4;\"/>\n   </g>\n   <g id=\"patch_17\">\n    <path clip-path=\"url(#p08397949e9)\" d=\"M 224.35874 224.64 \nL 234.58945 224.64 \nL 234.58945 20.590814 \nL 224.35874 20.590814 \nz\n\" style=\"fill:#1f77b4;\"/>\n   </g>\n   <g id=\"patch_18\">\n    <path clip-path=\"url(#p08397949e9)\" d=\"M 237.147128 224.64 \nL 247.377839 224.64 \nL 247.377839 22.969389 \nL 237.147128 22.969389 \nz\n\" style=\"fill:#1f77b4;\"/>\n   </g>\n   <g id=\"patch_19\">\n    <path clip-path=\"url(#p08397949e9)\" d=\"M 249.935516 224.64 \nL 260.166227 224.64 \nL 260.166227 18.331964 \nL 249.935516 18.331964 \nz\n\" style=\"fill:#1f77b4;\"/>\n   </g>\n   <g id=\"patch_20\">\n    <path clip-path=\"url(#p08397949e9)\" d=\"M 262.723904 224.64 \nL 272.954615 224.64 \nL 272.954615 20.390079 \nL 262.723904 20.390079 \nz\n\" style=\"fill:#1f77b4;\"/>\n   </g>\n   <g id=\"patch_21\">\n    <path clip-path=\"url(#p08397949e9)\" d=\"M 275.512292 224.64 \nL 285.743003 224.64 \nL 285.743003 32.756754 \nL 275.512292 32.756754 \nz\n\" style=\"fill:#1f77b4;\"/>\n   </g>\n   <g id=\"patch_22\">\n    <path clip-path=\"url(#p08397949e9)\" d=\"M 288.30068 224.64 \nL 298.531391 224.64 \nL 298.531391 18.555424 \nL 288.30068 18.555424 \nz\n\" style=\"fill:#1f77b4;\"/>\n   </g>\n   <g id=\"patch_23\">\n    <path clip-path=\"url(#p08397949e9)\" d=\"M 301.089068 224.64 \nL 311.319779 224.64 \nL 311.319779 22.66444 \nL 301.089068 22.66444 \nz\n\" style=\"fill:#1f77b4;\"/>\n   </g>\n   <g id=\"patch_24\">\n    <path clip-path=\"url(#p08397949e9)\" d=\"M 313.877457 224.64 \nL 324.108167 224.64 \nL 324.108167 27.424317 \nL 313.877457 27.424317 \nz\n\" style=\"fill:#1f77b4;\"/>\n   </g>\n   <g id=\"patch_25\">\n    <path clip-path=\"url(#p08397949e9)\" d=\"M 326.665845 224.64 \nL 336.896555 224.64 \nL 336.896555 17.858642 \nL 326.665845 17.858642 \nz\n\" style=\"fill:#1f77b4;\"/>\n   </g>\n   <g id=\"patch_26\">\n    <path clip-path=\"url(#p08397949e9)\" d=\"M 339.454233 224.64 \nL 349.684943 224.64 \nL 349.684943 28.065125 \nL 339.454233 28.065125 \nz\n\" style=\"fill:#1f77b4;\"/>\n   </g>\n   <g id=\"matplotlib.axis_1\">\n    <g id=\"xtick_1\">\n     <g id=\"line2d_1\">\n      <defs>\n       <path d=\"M 0 0 \nL 0 3.5 \n\" id=\"md4a106f099\" style=\"stroke:#000000;stroke-width:0.8;\"/>\n      </defs>\n      <g>\n       <use style=\"stroke:#000000;stroke-width:0.8;\" x=\"50.436662\" xlink:href=\"#md4a106f099\" y=\"224.64\"/>\n      </g>\n     </g>\n     <g id=\"text_1\">\n      <!-- 0 -->\n      <defs>\n       <path d=\"M 31.78125 66.40625 \nQ 24.171875 66.40625 20.328125 58.90625 \nQ 16.5 51.421875 16.5 36.375 \nQ 16.5 21.390625 20.328125 13.890625 \nQ 24.171875 6.390625 31.78125 6.390625 \nQ 39.453125 6.390625 43.28125 13.890625 \nQ 47.125 21.390625 47.125 36.375 \nQ 47.125 51.421875 43.28125 58.90625 \nQ 39.453125 66.40625 31.78125 66.40625 \nz\nM 31.78125 74.21875 \nQ 44.046875 74.21875 50.515625 64.515625 \nQ 56.984375 54.828125 56.984375 36.375 \nQ 56.984375 17.96875 50.515625 8.265625 \nQ 44.046875 -1.421875 31.78125 -1.421875 \nQ 19.53125 -1.421875 13.0625 8.265625 \nQ 6.59375 17.96875 6.59375 36.375 \nQ 6.59375 54.828125 13.0625 64.515625 \nQ 19.53125 74.21875 31.78125 74.21875 \nz\n\" id=\"DejaVuSans-48\"/>\n      </defs>\n      <g transform=\"translate(47.255412 239.238438)scale(0.1 -0.1)\">\n       <use xlink:href=\"#DejaVuSans-48\"/>\n      </g>\n     </g>\n    </g>\n    <g id=\"xtick_2\">\n     <g id=\"line2d_2\">\n      <g>\n       <use style=\"stroke:#000000;stroke-width:0.8;\" x=\"114.378602\" xlink:href=\"#md4a106f099\" y=\"224.64\"/>\n      </g>\n     </g>\n     <g id=\"text_2\">\n      <!-- 5 -->\n      <defs>\n       <path d=\"M 10.796875 72.90625 \nL 49.515625 72.90625 \nL 49.515625 64.59375 \nL 19.828125 64.59375 \nL 19.828125 46.734375 \nQ 21.96875 47.46875 24.109375 47.828125 \nQ 26.265625 48.1875 28.421875 48.1875 \nQ 40.625 48.1875 47.75 41.5 \nQ 54.890625 34.8125 54.890625 23.390625 \nQ 54.890625 11.625 47.5625 5.09375 \nQ 40.234375 -1.421875 26.90625 -1.421875 \nQ 22.3125 -1.421875 17.546875 -0.640625 \nQ 12.796875 0.140625 7.71875 1.703125 \nL 7.71875 11.625 \nQ 12.109375 9.234375 16.796875 8.0625 \nQ 21.484375 6.890625 26.703125 6.890625 \nQ 35.15625 6.890625 40.078125 11.328125 \nQ 45.015625 15.765625 45.015625 23.390625 \nQ 45.015625 31 40.078125 35.4375 \nQ 35.15625 39.890625 26.703125 39.890625 \nQ 22.75 39.890625 18.8125 39.015625 \nQ 14.890625 38.140625 10.796875 36.28125 \nz\n\" id=\"DejaVuSans-53\"/>\n      </defs>\n      <g transform=\"translate(111.197352 239.238438)scale(0.1 -0.1)\">\n       <use xlink:href=\"#DejaVuSans-53\"/>\n      </g>\n     </g>\n    </g>\n    <g id=\"xtick_3\">\n     <g id=\"line2d_3\">\n      <g>\n       <use style=\"stroke:#000000;stroke-width:0.8;\" x=\"178.320543\" xlink:href=\"#md4a106f099\" y=\"224.64\"/>\n      </g>\n     </g>\n     <g id=\"text_3\">\n      <!-- 10 -->\n      <defs>\n       <path d=\"M 12.40625 8.296875 \nL 28.515625 8.296875 \nL 28.515625 63.921875 \nL 10.984375 60.40625 \nL 10.984375 69.390625 \nL 28.421875 72.90625 \nL 38.28125 72.90625 \nL 38.28125 8.296875 \nL 54.390625 8.296875 \nL 54.390625 0 \nL 12.40625 0 \nz\n\" id=\"DejaVuSans-49\"/>\n      </defs>\n      <g transform=\"translate(171.958043 239.238438)scale(0.1 -0.1)\">\n       <use xlink:href=\"#DejaVuSans-49\"/>\n       <use x=\"63.623047\" xlink:href=\"#DejaVuSans-48\"/>\n      </g>\n     </g>\n    </g>\n    <g id=\"xtick_4\">\n     <g id=\"line2d_4\">\n      <g>\n       <use style=\"stroke:#000000;stroke-width:0.8;\" x=\"242.262483\" xlink:href=\"#md4a106f099\" y=\"224.64\"/>\n      </g>\n     </g>\n     <g id=\"text_4\">\n      <!-- 15 -->\n      <g transform=\"translate(235.899983 239.238438)scale(0.1 -0.1)\">\n       <use xlink:href=\"#DejaVuSans-49\"/>\n       <use x=\"63.623047\" xlink:href=\"#DejaVuSans-53\"/>\n      </g>\n     </g>\n    </g>\n    <g id=\"xtick_5\">\n     <g id=\"line2d_5\">\n      <g>\n       <use style=\"stroke:#000000;stroke-width:0.8;\" x=\"306.204424\" xlink:href=\"#md4a106f099\" y=\"224.64\"/>\n      </g>\n     </g>\n     <g id=\"text_5\">\n      <!-- 20 -->\n      <defs>\n       <path d=\"M 19.1875 8.296875 \nL 53.609375 8.296875 \nL 53.609375 0 \nL 7.328125 0 \nL 7.328125 8.296875 \nQ 12.9375 14.109375 22.625 23.890625 \nQ 32.328125 33.6875 34.8125 36.53125 \nQ 39.546875 41.84375 41.421875 45.53125 \nQ 43.3125 49.21875 43.3125 52.78125 \nQ 43.3125 58.59375 39.234375 62.25 \nQ 35.15625 65.921875 28.609375 65.921875 \nQ 23.96875 65.921875 18.8125 64.3125 \nQ 13.671875 62.703125 7.8125 59.421875 \nL 7.8125 69.390625 \nQ 13.765625 71.78125 18.9375 73 \nQ 24.125 74.21875 28.421875 74.21875 \nQ 39.75 74.21875 46.484375 68.546875 \nQ 53.21875 62.890625 53.21875 53.421875 \nQ 53.21875 48.921875 51.53125 44.890625 \nQ 49.859375 40.875 45.40625 35.40625 \nQ 44.1875 33.984375 37.640625 27.21875 \nQ 31.109375 20.453125 19.1875 8.296875 \nz\n\" id=\"DejaVuSans-50\"/>\n      </defs>\n      <g transform=\"translate(299.841924 239.238438)scale(0.1 -0.1)\">\n       <use xlink:href=\"#DejaVuSans-50\"/>\n       <use x=\"63.623047\" xlink:href=\"#DejaVuSans-48\"/>\n      </g>\n     </g>\n    </g>\n   </g>\n   <g id=\"matplotlib.axis_2\">\n    <g id=\"ytick_1\">\n     <g id=\"line2d_6\">\n      <defs>\n       <path d=\"M 0 0 \nL -3.5 0 \n\" id=\"mc43d9b0cf8\" style=\"stroke:#000000;stroke-width:0.8;\"/>\n      </defs>\n      <g>\n       <use style=\"stroke:#000000;stroke-width:0.8;\" x=\"30.103125\" xlink:href=\"#mc43d9b0cf8\" y=\"224.64\"/>\n      </g>\n     </g>\n     <g id=\"text_6\">\n      <!-- 0.0 -->\n      <defs>\n       <path d=\"M 10.6875 12.40625 \nL 21 12.40625 \nL 21 0 \nL 10.6875 0 \nz\n\" id=\"DejaVuSans-46\"/>\n      </defs>\n      <g transform=\"translate(7.2 228.439219)scale(0.1 -0.1)\">\n       <use xlink:href=\"#DejaVuSans-48\"/>\n       <use x=\"63.623047\" xlink:href=\"#DejaVuSans-46\"/>\n       <use x=\"95.410156\" xlink:href=\"#DejaVuSans-48\"/>\n      </g>\n     </g>\n    </g>\n    <g id=\"ytick_2\">\n     <g id=\"line2d_7\">\n      <g>\n       <use style=\"stroke:#000000;stroke-width:0.8;\" x=\"30.103125\" xlink:href=\"#mc43d9b0cf8\" y=\"183.101512\"/>\n      </g>\n     </g>\n     <g id=\"text_7\">\n      <!-- 0.2 -->\n      <g transform=\"translate(7.2 186.90073)scale(0.1 -0.1)\">\n       <use xlink:href=\"#DejaVuSans-48\"/>\n       <use x=\"63.623047\" xlink:href=\"#DejaVuSans-46\"/>\n       <use x=\"95.410156\" xlink:href=\"#DejaVuSans-50\"/>\n      </g>\n     </g>\n    </g>\n    <g id=\"ytick_3\">\n     <g id=\"line2d_8\">\n      <g>\n       <use style=\"stroke:#000000;stroke-width:0.8;\" x=\"30.103125\" xlink:href=\"#mc43d9b0cf8\" y=\"141.563023\"/>\n      </g>\n     </g>\n     <g id=\"text_8\">\n      <!-- 0.4 -->\n      <defs>\n       <path d=\"M 37.796875 64.3125 \nL 12.890625 25.390625 \nL 37.796875 25.390625 \nz\nM 35.203125 72.90625 \nL 47.609375 72.90625 \nL 47.609375 25.390625 \nL 58.015625 25.390625 \nL 58.015625 17.1875 \nL 47.609375 17.1875 \nL 47.609375 0 \nL 37.796875 0 \nL 37.796875 17.1875 \nL 4.890625 17.1875 \nL 4.890625 26.703125 \nz\n\" id=\"DejaVuSans-52\"/>\n      </defs>\n      <g transform=\"translate(7.2 145.362242)scale(0.1 -0.1)\">\n       <use xlink:href=\"#DejaVuSans-48\"/>\n       <use x=\"63.623047\" xlink:href=\"#DejaVuSans-46\"/>\n       <use x=\"95.410156\" xlink:href=\"#DejaVuSans-52\"/>\n      </g>\n     </g>\n    </g>\n    <g id=\"ytick_4\">\n     <g id=\"line2d_9\">\n      <g>\n       <use style=\"stroke:#000000;stroke-width:0.8;\" x=\"30.103125\" xlink:href=\"#mc43d9b0cf8\" y=\"100.024535\"/>\n      </g>\n     </g>\n     <g id=\"text_9\">\n      <!-- 0.6 -->\n      <defs>\n       <path d=\"M 33.015625 40.375 \nQ 26.375 40.375 22.484375 35.828125 \nQ 18.609375 31.296875 18.609375 23.390625 \nQ 18.609375 15.53125 22.484375 10.953125 \nQ 26.375 6.390625 33.015625 6.390625 \nQ 39.65625 6.390625 43.53125 10.953125 \nQ 47.40625 15.53125 47.40625 23.390625 \nQ 47.40625 31.296875 43.53125 35.828125 \nQ 39.65625 40.375 33.015625 40.375 \nz\nM 52.59375 71.296875 \nL 52.59375 62.3125 \nQ 48.875 64.0625 45.09375 64.984375 \nQ 41.3125 65.921875 37.59375 65.921875 \nQ 27.828125 65.921875 22.671875 59.328125 \nQ 17.53125 52.734375 16.796875 39.40625 \nQ 19.671875 43.65625 24.015625 45.921875 \nQ 28.375 48.1875 33.59375 48.1875 \nQ 44.578125 48.1875 50.953125 41.515625 \nQ 57.328125 34.859375 57.328125 23.390625 \nQ 57.328125 12.15625 50.6875 5.359375 \nQ 44.046875 -1.421875 33.015625 -1.421875 \nQ 20.359375 -1.421875 13.671875 8.265625 \nQ 6.984375 17.96875 6.984375 36.375 \nQ 6.984375 53.65625 15.1875 63.9375 \nQ 23.390625 74.21875 37.203125 74.21875 \nQ 40.921875 74.21875 44.703125 73.484375 \nQ 48.484375 72.75 52.59375 71.296875 \nz\n\" id=\"DejaVuSans-54\"/>\n      </defs>\n      <g transform=\"translate(7.2 103.823754)scale(0.1 -0.1)\">\n       <use xlink:href=\"#DejaVuSans-48\"/>\n       <use x=\"63.623047\" xlink:href=\"#DejaVuSans-46\"/>\n       <use x=\"95.410156\" xlink:href=\"#DejaVuSans-54\"/>\n      </g>\n     </g>\n    </g>\n    <g id=\"ytick_5\">\n     <g id=\"line2d_10\">\n      <g>\n       <use style=\"stroke:#000000;stroke-width:0.8;\" x=\"30.103125\" xlink:href=\"#mc43d9b0cf8\" y=\"58.486046\"/>\n      </g>\n     </g>\n     <g id=\"text_10\">\n      <!-- 0.8 -->\n      <defs>\n       <path d=\"M 31.78125 34.625 \nQ 24.75 34.625 20.71875 30.859375 \nQ 16.703125 27.09375 16.703125 20.515625 \nQ 16.703125 13.921875 20.71875 10.15625 \nQ 24.75 6.390625 31.78125 6.390625 \nQ 38.8125 6.390625 42.859375 10.171875 \nQ 46.921875 13.96875 46.921875 20.515625 \nQ 46.921875 27.09375 42.890625 30.859375 \nQ 38.875 34.625 31.78125 34.625 \nz\nM 21.921875 38.8125 \nQ 15.578125 40.375 12.03125 44.71875 \nQ 8.5 49.078125 8.5 55.328125 \nQ 8.5 64.0625 14.71875 69.140625 \nQ 20.953125 74.21875 31.78125 74.21875 \nQ 42.671875 74.21875 48.875 69.140625 \nQ 55.078125 64.0625 55.078125 55.328125 \nQ 55.078125 49.078125 51.53125 44.71875 \nQ 48 40.375 41.703125 38.8125 \nQ 48.828125 37.15625 52.796875 32.3125 \nQ 56.78125 27.484375 56.78125 20.515625 \nQ 56.78125 9.90625 50.3125 4.234375 \nQ 43.84375 -1.421875 31.78125 -1.421875 \nQ 19.734375 -1.421875 13.25 4.234375 \nQ 6.78125 9.90625 6.78125 20.515625 \nQ 6.78125 27.484375 10.78125 32.3125 \nQ 14.796875 37.15625 21.921875 38.8125 \nz\nM 18.3125 54.390625 \nQ 18.3125 48.734375 21.84375 45.5625 \nQ 25.390625 42.390625 31.78125 42.390625 \nQ 38.140625 42.390625 41.71875 45.5625 \nQ 45.3125 48.734375 45.3125 54.390625 \nQ 45.3125 60.0625 41.71875 63.234375 \nQ 38.140625 66.40625 31.78125 66.40625 \nQ 25.390625 66.40625 21.84375 63.234375 \nQ 18.3125 60.0625 18.3125 54.390625 \nz\n\" id=\"DejaVuSans-56\"/>\n      </defs>\n      <g transform=\"translate(7.2 62.285265)scale(0.1 -0.1)\">\n       <use xlink:href=\"#DejaVuSans-48\"/>\n       <use x=\"63.623047\" xlink:href=\"#DejaVuSans-46\"/>\n       <use x=\"95.410156\" xlink:href=\"#DejaVuSans-56\"/>\n      </g>\n     </g>\n    </g>\n    <g id=\"ytick_6\">\n     <g id=\"line2d_11\">\n      <g>\n       <use style=\"stroke:#000000;stroke-width:0.8;\" x=\"30.103125\" xlink:href=\"#mc43d9b0cf8\" y=\"16.947558\"/>\n      </g>\n     </g>\n     <g id=\"text_11\">\n      <!-- 1.0 -->\n      <g transform=\"translate(7.2 20.746777)scale(0.1 -0.1)\">\n       <use xlink:href=\"#DejaVuSans-49\"/>\n       <use x=\"63.623047\" xlink:href=\"#DejaVuSans-46\"/>\n       <use x=\"95.410156\" xlink:href=\"#DejaVuSans-48\"/>\n      </g>\n     </g>\n    </g>\n   </g>\n   <g id=\"patch_27\">\n    <path d=\"M 30.103125 224.64 \nL 30.103125 7.2 \n\" style=\"fill:none;stroke:#000000;stroke-linecap:square;stroke-linejoin:miter;stroke-width:0.8;\"/>\n   </g>\n   <g id=\"patch_28\">\n    <path d=\"M 364.903125 224.64 \nL 364.903125 7.2 \n\" style=\"fill:none;stroke:#000000;stroke-linecap:square;stroke-linejoin:miter;stroke-width:0.8;\"/>\n   </g>\n   <g id=\"patch_29\">\n    <path d=\"M 30.103125 224.64 \nL 364.903125 224.64 \n\" style=\"fill:none;stroke:#000000;stroke-linecap:square;stroke-linejoin:miter;stroke-width:0.8;\"/>\n   </g>\n   <g id=\"patch_30\">\n    <path d=\"M 30.103125 7.2 \nL 364.903125 7.2 \n\" style=\"fill:none;stroke:#000000;stroke-linecap:square;stroke-linejoin:miter;stroke-width:0.8;\"/>\n   </g>\n  </g>\n </g>\n <defs>\n  <clipPath id=\"p08397949e9\">\n   <rect height=\"217.44\" width=\"334.8\" x=\"30.103125\" y=\"7.2\"/>\n  </clipPath>\n </defs>\n</svg>\n",
      "image/png": "[encoded data removed]"
     },
     "metadata": {
      "needs_background": "light"
     }
    }
   ],
   "source": [
    "plt.bar(np.arange(24), auc)"
   ]
  },
  {
   "cell_type": "code",
   "execution_count": 30,
   "metadata": {},
   "outputs": [
    {
     "output_type": "execute_result",
     "data": {
      "text/plain": [
       "(torch.Size([1132, 24]), torch.Size([1132, 24]))"
      ]
     },
     "metadata": {},
     "execution_count": 30
    }
   ],
   "source": [
    "pred = torch.tensor(pred)\n",
    "target = torch.tensor(target)\n",
    "pred.shape, target.shape"
   ]
  },
  {
   "cell_type": "code",
   "execution_count": 31,
   "metadata": {},
   "outputs": [
    {
     "output_type": "execute_result",
     "data": {
      "text/plain": [
       "0.7941980361938477"
      ]
     },
     "metadata": {},
     "execution_count": 31
    }
   ],
   "source": [
    "original_lwlrap = LWLRAP(pred, target)\n",
    "original_lwlrap"
   ]
  },
  {
   "cell_type": "code",
   "execution_count": null,
   "metadata": {},
   "outputs": [],
   "source": []
  }
 ]
}