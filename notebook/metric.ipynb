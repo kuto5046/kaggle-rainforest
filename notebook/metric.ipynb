{
 "metadata": {
  "language_info": {
   "codemirror_mode": {
    "name": "ipython",
    "version": 3
   },
   "file_extension": ".py",
   "mimetype": "text/x-python",
   "name": "python",
   "nbconvert_exporter": "python",
   "pygments_lexer": "ipython3",
   "version": "3.7.4-final"
  },
  "orig_nbformat": 2,
  "kernelspec": {
   "name": "python3",
   "display_name": "Python 3",
   "language": "python"
  }
 },
 "nbformat": 4,
 "nbformat_minor": 2,
 "cells": [
  {
   "cell_type": "code",
   "execution_count": 1,
   "metadata": {},
   "outputs": [],
   "source": [
    "import pandas as pd\n",
    "import torch\n",
    "import numpy as np\n",
    "\n",
    "# LRAP. Instance-level average\n",
    "# Assume float preds [BxC], labels [BxC] of 0 or 1\n",
    "def LRAP(preds, labels):\n",
    "    # Ranks of the predictions\n",
    "    ranked_classes = torch.argsort(preds, dim=-1, descending=True)\n",
    "    # i, j corresponds to rank of prediction in row i\n",
    "    class_ranks = torch.zeros_like(ranked_classes)\n",
    "    for i in range(ranked_classes.size(0)):\n",
    "        for j in range(ranked_classes.size(1)):\n",
    "            class_ranks[i, ranked_classes[i][j]] = j + 1\n",
    "    # Mask out to only use the ranks of relevant GT labels\n",
    "    ground_truth_ranks = class_ranks * labels + (1e6) * (1 - labels)\n",
    "    # All the GT ranks are in front now\n",
    "    sorted_ground_truth_ranks, _ = torch.sort(ground_truth_ranks, dim=-1, descending=False)\n",
    "    pos_matrix = torch.tensor(np.array([i+1 for i in range(labels.size(-1))])).unsqueeze(0)\n",
    "    score_matrix = pos_matrix / sorted_ground_truth_ranks\n",
    "    score_mask_matrix, _ = torch.sort(labels, dim=-1, descending=True)\n",
    "    scores = score_matrix * score_mask_matrix\n",
    "    score = (scores.sum(-1) / labels.sum(-1)).mean()\n",
    "    return score.item()\n",
    "\n",
    "# label-level average\n",
    "# Assume float preds [BxC], labels [BxC] of 0 or 1\n",
    "def LWLRAP(preds, labels):\n",
    "    preds = preds.to('cpu')\n",
    "    labels = labels.to('cpu')\n",
    "\n",
    "    labels[labels > 0.0] = 1.0  # label smoothingする場合もスコア計算のため1にしてしまう\n",
    "    # Ranks of the predictions\n",
    "    ranked_classes = torch.argsort(preds, dim=-1, descending=True)\n",
    "    # i, j corresponds to rank of prediction in row i\n",
    "    class_ranks = torch.zeros_like(ranked_classes)\n",
    "    for i in range(ranked_classes.size(0)):\n",
    "        for j in range(ranked_classes.size(1)):\n",
    "            class_ranks[i, ranked_classes[i][j]] = j + 1\n",
    "    # Mask out to only use the ranks of relevant GT labels\n",
    "    ground_truth_ranks = class_ranks * labels + (1e6) * (1 - labels)\n",
    "    # All the GT ranks are in front now\n",
    "    sorted_ground_truth_ranks, _ = torch.sort(ground_truth_ranks, dim=-1, descending=False)\n",
    "    # Number of GT labels per instance\n",
    "    # num_labels = labels.sum(-1)\n",
    "    pos_matrix = torch.tensor(np.array([i+1 for i in range(labels.size(-1))])).unsqueeze(0)\n",
    "    score_matrix = pos_matrix / sorted_ground_truth_ranks\n",
    "    score_mask_matrix, _ = torch.sort(labels, dim=-1, descending=True)\n",
    "    scores = score_matrix * score_mask_matrix\n",
    "    score = scores.sum() / labels.sum()\n",
    "    return score.item()"
   ]
  },
  {
   "cell_type": "code",
   "execution_count": 2,
   "metadata": {},
   "outputs": [
    {
     "output_type": "execute_result",
     "data": {
      "text/plain": [
       "      patch recording_id        s0        s1        s2        s3        s4  \\\n",
       "0         0    003bec244  0.224785  0.938255  0.453482  0.886388  0.023673   \n",
       "1         1    003bec244  0.093940  0.705315  0.477549  0.863966  0.043578   \n",
       "2         2    003bec244  0.072486  0.498256  0.121884  0.925243  0.017588   \n",
       "3         3    003bec244  0.046064  0.561206  0.383785  0.833069  0.056129   \n",
       "4         4    003bec244  0.070032  0.582789  0.222043  0.887702  0.025063   \n",
       "...     ...          ...       ...       ...       ...       ...       ...   \n",
       "7547      3    ffc51b999  0.996503  0.333781  0.215768  0.664977  0.046107   \n",
       "7548      4    ffc51b999  0.159638  0.146730  0.064710  0.425025  0.008677   \n",
       "7549      5    ffc51b999  0.252424  0.185425  0.167412  0.376062  0.032171   \n",
       "7550      6    ffc51b999  0.188182  0.164324  0.144242  0.487652  0.025432   \n",
       "7551      7    ffc51b999  0.137053  0.119543  0.051530  0.530685  0.010767   \n",
       "\n",
       "            s5        s6        s7  ...       s14       s15       s16  \\\n",
       "0     0.270250  0.229986  0.961596  ...  0.877904  0.325141  0.101655   \n",
       "1     0.026179  0.675047  0.892303  ...  0.817091  0.170741  0.191048   \n",
       "2     0.007010  0.143198  0.985987  ...  0.915609  0.112248  0.030830   \n",
       "3     0.010810  0.093832  0.953552  ...  0.576984  0.227663  0.015548   \n",
       "4     0.021475  0.139246  0.946979  ...  0.924343  0.101117  0.060073   \n",
       "...        ...       ...       ...  ...       ...       ...       ...   \n",
       "7547  0.019413  0.135177  0.211562  ...  0.342423  0.046560  0.020370   \n",
       "7548  0.287831  0.033166  0.288085  ...  0.340784  0.018422  0.034900   \n",
       "7549  0.432011  0.098821  0.191079  ...  0.334049  0.032597  0.255667   \n",
       "7550  0.325569  0.132655  0.284492  ...  0.314385  0.032563  0.067355   \n",
       "7551  0.214376  0.046782  0.312263  ...  0.310768  0.020932  0.028029   \n",
       "\n",
       "           s17       s18       s19       s20       s21       s22       s23  \n",
       "0     0.006542  0.272909  0.025911  0.055870  0.241524  0.025974  0.035949  \n",
       "1     0.023601  0.234074  0.021188  0.160787  0.260731  0.011710  0.032931  \n",
       "2     0.005296  0.249234  0.007596  0.096299  0.129374  0.007183  0.009200  \n",
       "3     0.003902  0.287859  0.022225  0.027605  0.139974  0.009428  0.014190  \n",
       "4     0.007168  0.221703  0.023084  0.094915  0.162247  0.012268  0.024260  \n",
       "...        ...       ...       ...       ...       ...       ...       ...  \n",
       "7547  0.002940  0.955427  0.106430  0.006569  0.063820  0.148207  0.139865  \n",
       "7548  0.015733  0.960277  0.066328  0.011918  0.048713  0.025891  0.094845  \n",
       "7549  0.027181  0.949590  0.224146  0.020879  0.097528  0.069608  0.122578  \n",
       "7550  0.059773  0.931838  0.105765  0.025966  0.082349  0.065179  0.118189  \n",
       "7551  0.018554  0.944089  0.036287  0.013776  0.048006  0.025692  0.104107  \n",
       "\n",
       "[7552 rows x 26 columns]"
      ],
      "text/html": "<div>\n<style scoped>\n    .dataframe tbody tr th:only-of-type {\n        vertical-align: middle;\n    }\n\n    .dataframe tbody tr th {\n        vertical-align: top;\n    }\n\n    .dataframe thead th {\n        text-align: right;\n    }\n</style>\n<table border=\"1\" class=\"dataframe\">\n  <thead>\n    <tr style=\"text-align: right;\">\n      <th></th>\n      <th>patch</th>\n      <th>recording_id</th>\n      <th>s0</th>\n      <th>s1</th>\n      <th>s2</th>\n      <th>s3</th>\n      <th>s4</th>\n      <th>s5</th>\n      <th>s6</th>\n      <th>s7</th>\n      <th>...</th>\n      <th>s14</th>\n      <th>s15</th>\n      <th>s16</th>\n      <th>s17</th>\n      <th>s18</th>\n      <th>s19</th>\n      <th>s20</th>\n      <th>s21</th>\n      <th>s22</th>\n      <th>s23</th>\n    </tr>\n  </thead>\n  <tbody>\n    <tr>\n      <td>0</td>\n      <td>0</td>\n      <td>003bec244</td>\n      <td>0.224785</td>\n      <td>0.938255</td>\n      <td>0.453482</td>\n      <td>0.886388</td>\n      <td>0.023673</td>\n      <td>0.270250</td>\n      <td>0.229986</td>\n      <td>0.961596</td>\n      <td>...</td>\n      <td>0.877904</td>\n      <td>0.325141</td>\n      <td>0.101655</td>\n      <td>0.006542</td>\n      <td>0.272909</td>\n      <td>0.025911</td>\n      <td>0.055870</td>\n      <td>0.241524</td>\n      <td>0.025974</td>\n      <td>0.035949</td>\n    </tr>\n    <tr>\n      <td>1</td>\n      <td>1</td>\n      <td>003bec244</td>\n      <td>0.093940</td>\n      <td>0.705315</td>\n      <td>0.477549</td>\n      <td>0.863966</td>\n      <td>0.043578</td>\n      <td>0.026179</td>\n      <td>0.675047</td>\n      <td>0.892303</td>\n      <td>...</td>\n      <td>0.817091</td>\n      <td>0.170741</td>\n      <td>0.191048</td>\n      <td>0.023601</td>\n      <td>0.234074</td>\n      <td>0.021188</td>\n      <td>0.160787</td>\n      <td>0.260731</td>\n      <td>0.011710</td>\n      <td>0.032931</td>\n    </tr>\n    <tr>\n      <td>2</td>\n      <td>2</td>\n      <td>003bec244</td>\n      <td>0.072486</td>\n      <td>0.498256</td>\n      <td>0.121884</td>\n      <td>0.925243</td>\n      <td>0.017588</td>\n      <td>0.007010</td>\n      <td>0.143198</td>\n      <td>0.985987</td>\n      <td>...</td>\n      <td>0.915609</td>\n      <td>0.112248</td>\n      <td>0.030830</td>\n      <td>0.005296</td>\n      <td>0.249234</td>\n      <td>0.007596</td>\n      <td>0.096299</td>\n      <td>0.129374</td>\n      <td>0.007183</td>\n      <td>0.009200</td>\n    </tr>\n    <tr>\n      <td>3</td>\n      <td>3</td>\n      <td>003bec244</td>\n      <td>0.046064</td>\n      <td>0.561206</td>\n      <td>0.383785</td>\n      <td>0.833069</td>\n      <td>0.056129</td>\n      <td>0.010810</td>\n      <td>0.093832</td>\n      <td>0.953552</td>\n      <td>...</td>\n      <td>0.576984</td>\n      <td>0.227663</td>\n      <td>0.015548</td>\n      <td>0.003902</td>\n      <td>0.287859</td>\n      <td>0.022225</td>\n      <td>0.027605</td>\n      <td>0.139974</td>\n      <td>0.009428</td>\n      <td>0.014190</td>\n    </tr>\n    <tr>\n      <td>4</td>\n      <td>4</td>\n      <td>003bec244</td>\n      <td>0.070032</td>\n      <td>0.582789</td>\n      <td>0.222043</td>\n      <td>0.887702</td>\n      <td>0.025063</td>\n      <td>0.021475</td>\n      <td>0.139246</td>\n      <td>0.946979</td>\n      <td>...</td>\n      <td>0.924343</td>\n      <td>0.101117</td>\n      <td>0.060073</td>\n      <td>0.007168</td>\n      <td>0.221703</td>\n      <td>0.023084</td>\n      <td>0.094915</td>\n      <td>0.162247</td>\n      <td>0.012268</td>\n      <td>0.024260</td>\n    </tr>\n    <tr>\n      <td>...</td>\n      <td>...</td>\n      <td>...</td>\n      <td>...</td>\n      <td>...</td>\n      <td>...</td>\n      <td>...</td>\n      <td>...</td>\n      <td>...</td>\n      <td>...</td>\n      <td>...</td>\n      <td>...</td>\n      <td>...</td>\n      <td>...</td>\n      <td>...</td>\n      <td>...</td>\n      <td>...</td>\n      <td>...</td>\n      <td>...</td>\n      <td>...</td>\n      <td>...</td>\n      <td>...</td>\n    </tr>\n    <tr>\n      <td>7547</td>\n      <td>3</td>\n      <td>ffc51b999</td>\n      <td>0.996503</td>\n      <td>0.333781</td>\n      <td>0.215768</td>\n      <td>0.664977</td>\n      <td>0.046107</td>\n      <td>0.019413</td>\n      <td>0.135177</td>\n      <td>0.211562</td>\n      <td>...</td>\n      <td>0.342423</td>\n      <td>0.046560</td>\n      <td>0.020370</td>\n      <td>0.002940</td>\n      <td>0.955427</td>\n      <td>0.106430</td>\n      <td>0.006569</td>\n      <td>0.063820</td>\n      <td>0.148207</td>\n      <td>0.139865</td>\n    </tr>\n    <tr>\n      <td>7548</td>\n      <td>4</td>\n      <td>ffc51b999</td>\n      <td>0.159638</td>\n      <td>0.146730</td>\n      <td>0.064710</td>\n      <td>0.425025</td>\n      <td>0.008677</td>\n      <td>0.287831</td>\n      <td>0.033166</td>\n      <td>0.288085</td>\n      <td>...</td>\n      <td>0.340784</td>\n      <td>0.018422</td>\n      <td>0.034900</td>\n      <td>0.015733</td>\n      <td>0.960277</td>\n      <td>0.066328</td>\n      <td>0.011918</td>\n      <td>0.048713</td>\n      <td>0.025891</td>\n      <td>0.094845</td>\n    </tr>\n    <tr>\n      <td>7549</td>\n      <td>5</td>\n      <td>ffc51b999</td>\n      <td>0.252424</td>\n      <td>0.185425</td>\n      <td>0.167412</td>\n      <td>0.376062</td>\n      <td>0.032171</td>\n      <td>0.432011</td>\n      <td>0.098821</td>\n      <td>0.191079</td>\n      <td>...</td>\n      <td>0.334049</td>\n      <td>0.032597</td>\n      <td>0.255667</td>\n      <td>0.027181</td>\n      <td>0.949590</td>\n      <td>0.224146</td>\n      <td>0.020879</td>\n      <td>0.097528</td>\n      <td>0.069608</td>\n      <td>0.122578</td>\n    </tr>\n    <tr>\n      <td>7550</td>\n      <td>6</td>\n      <td>ffc51b999</td>\n      <td>0.188182</td>\n      <td>0.164324</td>\n      <td>0.144242</td>\n      <td>0.487652</td>\n      <td>0.025432</td>\n      <td>0.325569</td>\n      <td>0.132655</td>\n      <td>0.284492</td>\n      <td>...</td>\n      <td>0.314385</td>\n      <td>0.032563</td>\n      <td>0.067355</td>\n      <td>0.059773</td>\n      <td>0.931838</td>\n      <td>0.105765</td>\n      <td>0.025966</td>\n      <td>0.082349</td>\n      <td>0.065179</td>\n      <td>0.118189</td>\n    </tr>\n    <tr>\n      <td>7551</td>\n      <td>7</td>\n      <td>ffc51b999</td>\n      <td>0.137053</td>\n      <td>0.119543</td>\n      <td>0.051530</td>\n      <td>0.530685</td>\n      <td>0.010767</td>\n      <td>0.214376</td>\n      <td>0.046782</td>\n      <td>0.312263</td>\n      <td>...</td>\n      <td>0.310768</td>\n      <td>0.020932</td>\n      <td>0.028029</td>\n      <td>0.018554</td>\n      <td>0.944089</td>\n      <td>0.036287</td>\n      <td>0.013776</td>\n      <td>0.048006</td>\n      <td>0.025692</td>\n      <td>0.104107</td>\n    </tr>\n  </tbody>\n</table>\n<p>7552 rows × 26 columns</p>\n</div>"
     },
     "metadata": {},
     "execution_count": 2
    }
   ],
   "source": [
    "\n",
    "input_dir = \"../oof/\"\n",
    "oof = pd.read_csv(input_dir + \"fold0_oof.csv\")\n",
    "# oof1 = pd.read_csv(input_dir + \"fold1_oof.csv\")\n",
    "# oof2 = pd.read_csv(input_dir + \"fold2_oof.csv\")\n",
    "# oof3 = pd.read_csv(input_dir + \"fold3_oof.csv\")\n",
    "# oof4 = pd.read_csv(input_dir + \"fold4_oof.csv\")\n",
    "# oof = pd.concat([oof0, oof1, oof2, oof3, oof4])\n",
    "oof"
   ]
  },
  {
   "cell_type": "code",
   "execution_count": 3,
   "metadata": {},
   "outputs": [
    {
     "output_type": "execute_result",
     "data": {
      "text/plain": [
       "    recording_id  patch        s0        s1        s2        s3        s4  \\\n",
       "0      003bec244      7  0.224785  0.938255  0.477549  0.949893  0.056129   \n",
       "1      00d442df7      7  0.999405  0.531444  0.148184  0.963154  0.018562   \n",
       "2      00e3525a2      7  0.222221  0.529003  0.563542  0.893082  0.121859   \n",
       "3      016240b9a      7  0.215922  0.462290  0.629682  0.885337  0.063169   \n",
       "4      01a976045      7  0.114642  0.872923  0.546411  0.935300  0.043971   \n",
       "..           ...    ...       ...       ...       ...       ...       ...   \n",
       "939    ff61d0146      7  0.117750  0.465640  0.271244  0.853724  0.073773   \n",
       "940    ff7f876bd      7  0.998873  0.560581  0.108299  0.979608  0.032391   \n",
       "941    ff8492f71      7  0.999149  0.339498  0.080261  0.953122  0.012572   \n",
       "942    ffb8d8391      7  0.713875  0.354477  0.319670  0.969649  0.265769   \n",
       "943    ffc51b999      7  0.996503  0.537759  0.389408  0.664977  0.046107   \n",
       "\n",
       "           s5        s6        s7  ...       s14       s15       s16  \\\n",
       "0    0.270250  0.675047  0.985987  ...  0.924343  0.325141  0.191048   \n",
       "1    0.013061  0.123996  0.518725  ...  0.825003  0.125325  0.049231   \n",
       "2    0.080871  0.795861  0.924394  ...  0.588073  0.266694  0.155706   \n",
       "3    0.189922  0.196283  0.934764  ...  0.621936  0.185337  0.163028   \n",
       "4    0.048342  0.110733  0.902361  ...  0.572105  0.227934  0.788759   \n",
       "..        ...       ...       ...  ...       ...       ...       ...   \n",
       "939  0.207336  0.385718  0.969690  ...  0.426827  0.182625  0.183811   \n",
       "940  0.120315  0.148207  0.495050  ...  0.343244  0.245826  0.030476   \n",
       "941  0.041486  0.047220  0.545522  ...  0.730989  0.079544  0.029516   \n",
       "942  0.838014  0.310212  0.541224  ...  0.699285  0.668637  0.451797   \n",
       "943  0.432011  0.295670  0.312263  ...  0.342423  0.061077  0.255667   \n",
       "\n",
       "          s17       s18       s19       s20       s21       s22       s23  \n",
       "0    0.023601  0.328566  0.025911  0.160787  0.286745  0.025974  0.040307  \n",
       "1    0.004225  0.993038  0.004533  0.018522  0.698755  0.586532  0.075230  \n",
       "2    0.814692  0.524360  0.203330  0.646057  0.334123  0.040228  0.113811  \n",
       "3    0.118330  0.658762  0.057470  0.310024  0.268857  0.999988  0.098474  \n",
       "4    0.531906  0.190128  0.032923  0.066075  0.216980  0.013409  0.122400  \n",
       "..        ...       ...       ...       ...       ...       ...       ...  \n",
       "939  0.167775  0.412293  0.112215  0.168298  0.252565  0.231599  0.196198  \n",
       "940  0.018284  0.984968  0.008631  0.009635  0.146956  0.073106  0.128705  \n",
       "941  0.005493  0.985442  0.006046  0.021280  0.566158  0.880556  0.081355  \n",
       "942  0.178962  0.972867  0.370032  0.125026  0.443798  0.440495  0.153343  \n",
       "943  0.059773  0.960277  0.224146  0.025966  0.097528  0.148207  0.139865  \n",
       "\n",
       "[944 rows x 26 columns]"
      ],
      "text/html": "<div>\n<style scoped>\n    .dataframe tbody tr th:only-of-type {\n        vertical-align: middle;\n    }\n\n    .dataframe tbody tr th {\n        vertical-align: top;\n    }\n\n    .dataframe thead th {\n        text-align: right;\n    }\n</style>\n<table border=\"1\" class=\"dataframe\">\n  <thead>\n    <tr style=\"text-align: right;\">\n      <th></th>\n      <th>recording_id</th>\n      <th>patch</th>\n      <th>s0</th>\n      <th>s1</th>\n      <th>s2</th>\n      <th>s3</th>\n      <th>s4</th>\n      <th>s5</th>\n      <th>s6</th>\n      <th>s7</th>\n      <th>...</th>\n      <th>s14</th>\n      <th>s15</th>\n      <th>s16</th>\n      <th>s17</th>\n      <th>s18</th>\n      <th>s19</th>\n      <th>s20</th>\n      <th>s21</th>\n      <th>s22</th>\n      <th>s23</th>\n    </tr>\n  </thead>\n  <tbody>\n    <tr>\n      <td>0</td>\n      <td>003bec244</td>\n      <td>7</td>\n      <td>0.224785</td>\n      <td>0.938255</td>\n      <td>0.477549</td>\n      <td>0.949893</td>\n      <td>0.056129</td>\n      <td>0.270250</td>\n      <td>0.675047</td>\n      <td>0.985987</td>\n      <td>...</td>\n      <td>0.924343</td>\n      <td>0.325141</td>\n      <td>0.191048</td>\n      <td>0.023601</td>\n      <td>0.328566</td>\n      <td>0.025911</td>\n      <td>0.160787</td>\n      <td>0.286745</td>\n      <td>0.025974</td>\n      <td>0.040307</td>\n    </tr>\n    <tr>\n      <td>1</td>\n      <td>00d442df7</td>\n      <td>7</td>\n      <td>0.999405</td>\n      <td>0.531444</td>\n      <td>0.148184</td>\n      <td>0.963154</td>\n      <td>0.018562</td>\n      <td>0.013061</td>\n      <td>0.123996</td>\n      <td>0.518725</td>\n      <td>...</td>\n      <td>0.825003</td>\n      <td>0.125325</td>\n      <td>0.049231</td>\n      <td>0.004225</td>\n      <td>0.993038</td>\n      <td>0.004533</td>\n      <td>0.018522</td>\n      <td>0.698755</td>\n      <td>0.586532</td>\n      <td>0.075230</td>\n    </tr>\n    <tr>\n      <td>2</td>\n      <td>00e3525a2</td>\n      <td>7</td>\n      <td>0.222221</td>\n      <td>0.529003</td>\n      <td>0.563542</td>\n      <td>0.893082</td>\n      <td>0.121859</td>\n      <td>0.080871</td>\n      <td>0.795861</td>\n      <td>0.924394</td>\n      <td>...</td>\n      <td>0.588073</td>\n      <td>0.266694</td>\n      <td>0.155706</td>\n      <td>0.814692</td>\n      <td>0.524360</td>\n      <td>0.203330</td>\n      <td>0.646057</td>\n      <td>0.334123</td>\n      <td>0.040228</td>\n      <td>0.113811</td>\n    </tr>\n    <tr>\n      <td>3</td>\n      <td>016240b9a</td>\n      <td>7</td>\n      <td>0.215922</td>\n      <td>0.462290</td>\n      <td>0.629682</td>\n      <td>0.885337</td>\n      <td>0.063169</td>\n      <td>0.189922</td>\n      <td>0.196283</td>\n      <td>0.934764</td>\n      <td>...</td>\n      <td>0.621936</td>\n      <td>0.185337</td>\n      <td>0.163028</td>\n      <td>0.118330</td>\n      <td>0.658762</td>\n      <td>0.057470</td>\n      <td>0.310024</td>\n      <td>0.268857</td>\n      <td>0.999988</td>\n      <td>0.098474</td>\n    </tr>\n    <tr>\n      <td>4</td>\n      <td>01a976045</td>\n      <td>7</td>\n      <td>0.114642</td>\n      <td>0.872923</td>\n      <td>0.546411</td>\n      <td>0.935300</td>\n      <td>0.043971</td>\n      <td>0.048342</td>\n      <td>0.110733</td>\n      <td>0.902361</td>\n      <td>...</td>\n      <td>0.572105</td>\n      <td>0.227934</td>\n      <td>0.788759</td>\n      <td>0.531906</td>\n      <td>0.190128</td>\n      <td>0.032923</td>\n      <td>0.066075</td>\n      <td>0.216980</td>\n      <td>0.013409</td>\n      <td>0.122400</td>\n    </tr>\n    <tr>\n      <td>...</td>\n      <td>...</td>\n      <td>...</td>\n      <td>...</td>\n      <td>...</td>\n      <td>...</td>\n      <td>...</td>\n      <td>...</td>\n      <td>...</td>\n      <td>...</td>\n      <td>...</td>\n      <td>...</td>\n      <td>...</td>\n      <td>...</td>\n      <td>...</td>\n      <td>...</td>\n      <td>...</td>\n      <td>...</td>\n      <td>...</td>\n      <td>...</td>\n      <td>...</td>\n      <td>...</td>\n    </tr>\n    <tr>\n      <td>939</td>\n      <td>ff61d0146</td>\n      <td>7</td>\n      <td>0.117750</td>\n      <td>0.465640</td>\n      <td>0.271244</td>\n      <td>0.853724</td>\n      <td>0.073773</td>\n      <td>0.207336</td>\n      <td>0.385718</td>\n      <td>0.969690</td>\n      <td>...</td>\n      <td>0.426827</td>\n      <td>0.182625</td>\n      <td>0.183811</td>\n      <td>0.167775</td>\n      <td>0.412293</td>\n      <td>0.112215</td>\n      <td>0.168298</td>\n      <td>0.252565</td>\n      <td>0.231599</td>\n      <td>0.196198</td>\n    </tr>\n    <tr>\n      <td>940</td>\n      <td>ff7f876bd</td>\n      <td>7</td>\n      <td>0.998873</td>\n      <td>0.560581</td>\n      <td>0.108299</td>\n      <td>0.979608</td>\n      <td>0.032391</td>\n      <td>0.120315</td>\n      <td>0.148207</td>\n      <td>0.495050</td>\n      <td>...</td>\n      <td>0.343244</td>\n      <td>0.245826</td>\n      <td>0.030476</td>\n      <td>0.018284</td>\n      <td>0.984968</td>\n      <td>0.008631</td>\n      <td>0.009635</td>\n      <td>0.146956</td>\n      <td>0.073106</td>\n      <td>0.128705</td>\n    </tr>\n    <tr>\n      <td>941</td>\n      <td>ff8492f71</td>\n      <td>7</td>\n      <td>0.999149</td>\n      <td>0.339498</td>\n      <td>0.080261</td>\n      <td>0.953122</td>\n      <td>0.012572</td>\n      <td>0.041486</td>\n      <td>0.047220</td>\n      <td>0.545522</td>\n      <td>...</td>\n      <td>0.730989</td>\n      <td>0.079544</td>\n      <td>0.029516</td>\n      <td>0.005493</td>\n      <td>0.985442</td>\n      <td>0.006046</td>\n      <td>0.021280</td>\n      <td>0.566158</td>\n      <td>0.880556</td>\n      <td>0.081355</td>\n    </tr>\n    <tr>\n      <td>942</td>\n      <td>ffb8d8391</td>\n      <td>7</td>\n      <td>0.713875</td>\n      <td>0.354477</td>\n      <td>0.319670</td>\n      <td>0.969649</td>\n      <td>0.265769</td>\n      <td>0.838014</td>\n      <td>0.310212</td>\n      <td>0.541224</td>\n      <td>...</td>\n      <td>0.699285</td>\n      <td>0.668637</td>\n      <td>0.451797</td>\n      <td>0.178962</td>\n      <td>0.972867</td>\n      <td>0.370032</td>\n      <td>0.125026</td>\n      <td>0.443798</td>\n      <td>0.440495</td>\n      <td>0.153343</td>\n    </tr>\n    <tr>\n      <td>943</td>\n      <td>ffc51b999</td>\n      <td>7</td>\n      <td>0.996503</td>\n      <td>0.537759</td>\n      <td>0.389408</td>\n      <td>0.664977</td>\n      <td>0.046107</td>\n      <td>0.432011</td>\n      <td>0.295670</td>\n      <td>0.312263</td>\n      <td>...</td>\n      <td>0.342423</td>\n      <td>0.061077</td>\n      <td>0.255667</td>\n      <td>0.059773</td>\n      <td>0.960277</td>\n      <td>0.224146</td>\n      <td>0.025966</td>\n      <td>0.097528</td>\n      <td>0.148207</td>\n      <td>0.139865</td>\n    </tr>\n  </tbody>\n</table>\n<p>944 rows × 26 columns</p>\n</div>"
     },
     "metadata": {},
     "execution_count": 3
    }
   ],
   "source": [
    "oof2 = oof.groupby('recording_id').max().reset_index(drop=False)\n",
    "oof2"
   ]
  },
  {
   "cell_type": "code",
   "execution_count": 4,
   "metadata": {},
   "outputs": [
    {
     "output_type": "execute_result",
     "data": {
      "text/plain": [
       "      s0  s1  s2  s3  s4  s5  s6  s7  s8  s9  ...  s15  s16  s17  s18  s19  \\\n",
       "0      0   0   0   0   0   0   0   0   0   0  ...    0    0    0    0    0   \n",
       "1      0   0   0   0   0   0   0   0   0   0  ...    0    0    0    0    0   \n",
       "2      0   0   0   0   0   0   0   0   0   0  ...    0    0    0    0    0   \n",
       "3      0   0   0   0   0   0   0   0   0   0  ...    0    0    1    0    0   \n",
       "4      0   0   0   0   0   0   0   0   0   0  ...    0    0    0    0    0   \n",
       "...   ..  ..  ..  ..  ..  ..  ..  ..  ..  ..  ...  ...  ...  ...  ...  ...   \n",
       "1127   0   0   0   0   0   0   0   0   0   0  ...    0    0    0    0    0   \n",
       "1128   0   0   0   0   1   0   0   0   0   0  ...    0    0    0    0    0   \n",
       "1129   1   0   0   0   0   0   0   0   0   0  ...    0    0    0    0    0   \n",
       "1130   0   0   0   0   0   1   0   0   0   0  ...    0    0    0    0    0   \n",
       "1131   0   0   0   0   0   0   0   0   0   0  ...    0    0    0    1    0   \n",
       "\n",
       "      s20  s21  s22  s23  recording_id  \n",
       "0       0    0    0    0     003bec244  \n",
       "1       0    0    0    1     006ab765f  \n",
       "2       0    0    0    0     007f87ba2  \n",
       "3       0    0    0    0     0099c367b  \n",
       "4       0    0    0    0     009b760e6  \n",
       "...   ...  ...  ...  ...           ...  \n",
       "1127    0    0    0    0     fe8d9ac40  \n",
       "1128    0    0    0    0     fea6b438a  \n",
       "1129    0    0    0    0     ff2eb9ce5  \n",
       "1130    0    0    0    0     ffb8d8391  \n",
       "1131    0    0    0    0     ffb9a7b9a  \n",
       "\n",
       "[1132 rows x 25 columns]"
      ],
      "text/html": "<div>\n<style scoped>\n    .dataframe tbody tr th:only-of-type {\n        vertical-align: middle;\n    }\n\n    .dataframe tbody tr th {\n        vertical-align: top;\n    }\n\n    .dataframe thead th {\n        text-align: right;\n    }\n</style>\n<table border=\"1\" class=\"dataframe\">\n  <thead>\n    <tr style=\"text-align: right;\">\n      <th></th>\n      <th>s0</th>\n      <th>s1</th>\n      <th>s2</th>\n      <th>s3</th>\n      <th>s4</th>\n      <th>s5</th>\n      <th>s6</th>\n      <th>s7</th>\n      <th>s8</th>\n      <th>s9</th>\n      <th>...</th>\n      <th>s15</th>\n      <th>s16</th>\n      <th>s17</th>\n      <th>s18</th>\n      <th>s19</th>\n      <th>s20</th>\n      <th>s21</th>\n      <th>s22</th>\n      <th>s23</th>\n      <th>recording_id</th>\n    </tr>\n  </thead>\n  <tbody>\n    <tr>\n      <td>0</td>\n      <td>0</td>\n      <td>0</td>\n      <td>0</td>\n      <td>0</td>\n      <td>0</td>\n      <td>0</td>\n      <td>0</td>\n      <td>0</td>\n      <td>0</td>\n      <td>0</td>\n      <td>...</td>\n      <td>0</td>\n      <td>0</td>\n      <td>0</td>\n      <td>0</td>\n      <td>0</td>\n      <td>0</td>\n      <td>0</td>\n      <td>0</td>\n      <td>0</td>\n      <td>003bec244</td>\n    </tr>\n    <tr>\n      <td>1</td>\n      <td>0</td>\n      <td>0</td>\n      <td>0</td>\n      <td>0</td>\n      <td>0</td>\n      <td>0</td>\n      <td>0</td>\n      <td>0</td>\n      <td>0</td>\n      <td>0</td>\n      <td>...</td>\n      <td>0</td>\n      <td>0</td>\n      <td>0</td>\n      <td>0</td>\n      <td>0</td>\n      <td>0</td>\n      <td>0</td>\n      <td>0</td>\n      <td>1</td>\n      <td>006ab765f</td>\n    </tr>\n    <tr>\n      <td>2</td>\n      <td>0</td>\n      <td>0</td>\n      <td>0</td>\n      <td>0</td>\n      <td>0</td>\n      <td>0</td>\n      <td>0</td>\n      <td>0</td>\n      <td>0</td>\n      <td>0</td>\n      <td>...</td>\n      <td>0</td>\n      <td>0</td>\n      <td>0</td>\n      <td>0</td>\n      <td>0</td>\n      <td>0</td>\n      <td>0</td>\n      <td>0</td>\n      <td>0</td>\n      <td>007f87ba2</td>\n    </tr>\n    <tr>\n      <td>3</td>\n      <td>0</td>\n      <td>0</td>\n      <td>0</td>\n      <td>0</td>\n      <td>0</td>\n      <td>0</td>\n      <td>0</td>\n      <td>0</td>\n      <td>0</td>\n      <td>0</td>\n      <td>...</td>\n      <td>0</td>\n      <td>0</td>\n      <td>1</td>\n      <td>0</td>\n      <td>0</td>\n      <td>0</td>\n      <td>0</td>\n      <td>0</td>\n      <td>0</td>\n      <td>0099c367b</td>\n    </tr>\n    <tr>\n      <td>4</td>\n      <td>0</td>\n      <td>0</td>\n      <td>0</td>\n      <td>0</td>\n      <td>0</td>\n      <td>0</td>\n      <td>0</td>\n      <td>0</td>\n      <td>0</td>\n      <td>0</td>\n      <td>...</td>\n      <td>0</td>\n      <td>0</td>\n      <td>0</td>\n      <td>0</td>\n      <td>0</td>\n      <td>0</td>\n      <td>0</td>\n      <td>0</td>\n      <td>0</td>\n      <td>009b760e6</td>\n    </tr>\n    <tr>\n      <td>...</td>\n      <td>...</td>\n      <td>...</td>\n      <td>...</td>\n      <td>...</td>\n      <td>...</td>\n      <td>...</td>\n      <td>...</td>\n      <td>...</td>\n      <td>...</td>\n      <td>...</td>\n      <td>...</td>\n      <td>...</td>\n      <td>...</td>\n      <td>...</td>\n      <td>...</td>\n      <td>...</td>\n      <td>...</td>\n      <td>...</td>\n      <td>...</td>\n      <td>...</td>\n      <td>...</td>\n    </tr>\n    <tr>\n      <td>1127</td>\n      <td>0</td>\n      <td>0</td>\n      <td>0</td>\n      <td>0</td>\n      <td>0</td>\n      <td>0</td>\n      <td>0</td>\n      <td>0</td>\n      <td>0</td>\n      <td>0</td>\n      <td>...</td>\n      <td>0</td>\n      <td>0</td>\n      <td>0</td>\n      <td>0</td>\n      <td>0</td>\n      <td>0</td>\n      <td>0</td>\n      <td>0</td>\n      <td>0</td>\n      <td>fe8d9ac40</td>\n    </tr>\n    <tr>\n      <td>1128</td>\n      <td>0</td>\n      <td>0</td>\n      <td>0</td>\n      <td>0</td>\n      <td>1</td>\n      <td>0</td>\n      <td>0</td>\n      <td>0</td>\n      <td>0</td>\n      <td>0</td>\n      <td>...</td>\n      <td>0</td>\n      <td>0</td>\n      <td>0</td>\n      <td>0</td>\n      <td>0</td>\n      <td>0</td>\n      <td>0</td>\n      <td>0</td>\n      <td>0</td>\n      <td>fea6b438a</td>\n    </tr>\n    <tr>\n      <td>1129</td>\n      <td>1</td>\n      <td>0</td>\n      <td>0</td>\n      <td>0</td>\n      <td>0</td>\n      <td>0</td>\n      <td>0</td>\n      <td>0</td>\n      <td>0</td>\n      <td>0</td>\n      <td>...</td>\n      <td>0</td>\n      <td>0</td>\n      <td>0</td>\n      <td>0</td>\n      <td>0</td>\n      <td>0</td>\n      <td>0</td>\n      <td>0</td>\n      <td>0</td>\n      <td>ff2eb9ce5</td>\n    </tr>\n    <tr>\n      <td>1130</td>\n      <td>0</td>\n      <td>0</td>\n      <td>0</td>\n      <td>0</td>\n      <td>0</td>\n      <td>1</td>\n      <td>0</td>\n      <td>0</td>\n      <td>0</td>\n      <td>0</td>\n      <td>...</td>\n      <td>0</td>\n      <td>0</td>\n      <td>0</td>\n      <td>0</td>\n      <td>0</td>\n      <td>0</td>\n      <td>0</td>\n      <td>0</td>\n      <td>0</td>\n      <td>ffb8d8391</td>\n    </tr>\n    <tr>\n      <td>1131</td>\n      <td>0</td>\n      <td>0</td>\n      <td>0</td>\n      <td>0</td>\n      <td>0</td>\n      <td>0</td>\n      <td>0</td>\n      <td>0</td>\n      <td>0</td>\n      <td>0</td>\n      <td>...</td>\n      <td>0</td>\n      <td>0</td>\n      <td>0</td>\n      <td>1</td>\n      <td>0</td>\n      <td>0</td>\n      <td>0</td>\n      <td>0</td>\n      <td>0</td>\n      <td>ffb9a7b9a</td>\n    </tr>\n  </tbody>\n</table>\n<p>1132 rows × 25 columns</p>\n</div>"
     },
     "metadata": {},
     "execution_count": 4
    }
   ],
   "source": [
    "tp = pd.read_csv(\"../input/rfcx-species-audio-detection/train_tp.csv\")\n",
    "tp_fnames, tp_labels = [], []\n",
    "for recording_id, df in tp.groupby(\"recording_id\"):\n",
    "    v = sum([np.eye(24)[i] for i in df[\"species_id\"].tolist()])\n",
    "    v = (v >= 1).astype(int).tolist()\n",
    "    tp_fnames.append(recording_id)\n",
    "    tp_labels.append(v) \n",
    "\n",
    "tp2 = pd.DataFrame(tp_labels, columns=[f's{i}' for i in range(24)])\n",
    "tp2['recording_id'] = tp_fnames\n",
    "tp2 = tp2.sort_values('recording_id')\n",
    "tp2\n"
   ]
  },
  {
   "cell_type": "code",
   "execution_count": 5,
   "metadata": {},
   "outputs": [
    {
     "output_type": "execute_result",
     "data": {
      "text/plain": [
       "    recording_id  patch        s0        s1        s2        s3        s4  \\\n",
       "0      003bec244      7  0.224785  0.938255  0.477549  0.949893  0.056129   \n",
       "1      00d442df7      7  0.999405  0.531444  0.148184  0.963154  0.018562   \n",
       "2      0275e127d      7  0.094659  0.409909  0.442396  0.781116  0.150064   \n",
       "3      0295e3234      7  0.198660  0.437504  0.549462  0.806858  0.229857   \n",
       "4      03d77fede      7  0.998730  0.571195  0.093456  0.964953  0.058642   \n",
       "..           ...    ...       ...       ...       ...       ...       ...   \n",
       "220    fc6609050      7  0.998029  0.667587  0.140595  0.980973  0.036098   \n",
       "221    fd3f0d49b      7  0.899697  0.385484  0.464764  0.860252  0.114531   \n",
       "222    fd6a520d8      7  0.710136  0.429841  0.243154  0.958707  0.106409   \n",
       "223    fdda158ed      7  0.898943  0.080530  0.026589  0.975514  0.061608   \n",
       "224    ffb8d8391      7  0.713875  0.354477  0.319670  0.969649  0.265769   \n",
       "\n",
       "           s5        s6        s7  ...       s14       s15       s16  \\\n",
       "0    0.270250  0.675047  0.985987  ...  0.924343  0.325141  0.191048   \n",
       "1    0.013061  0.123996  0.518725  ...  0.825003  0.125325  0.049231   \n",
       "2    0.031237  0.500361  0.871352  ...  0.347130  0.374402  0.043625   \n",
       "3    0.089149  0.797226  0.888579  ...  0.370906  0.997015  0.031956   \n",
       "4    0.056750  0.161615  0.432942  ...  0.351543  0.215448  0.043973   \n",
       "..        ...       ...       ...  ...       ...       ...       ...   \n",
       "220  0.003693  0.135568  0.439483  ...  0.387405  0.162123  0.012306   \n",
       "221  0.088624  0.999944  0.982538  ...  0.570869  0.853118  0.160930   \n",
       "222  0.349843  0.150692  0.522888  ...  0.626465  0.234584  0.063270   \n",
       "223  0.160734  0.046643  0.366795  ...  0.686624  0.115819  0.152827   \n",
       "224  0.838014  0.310212  0.541224  ...  0.699285  0.668637  0.451797   \n",
       "\n",
       "          s17       s18       s19       s20       s21       s22       s23  \n",
       "0    0.023601  0.328566  0.025911  0.160787  0.286745  0.025974  0.040307  \n",
       "1    0.004225  0.993038  0.004533  0.018522  0.698755  0.586532  0.075230  \n",
       "2    0.746018  0.321698  0.067598  0.147533  0.130477  0.041919  0.103071  \n",
       "3    0.544349  0.506065  0.163756  0.115173  0.154768  0.180492  0.857058  \n",
       "4    0.016372  0.990337  0.021516  0.008131  0.132697  0.062489  0.101647  \n",
       "..        ...       ...       ...       ...       ...       ...       ...  \n",
       "220  0.001320  0.990952  0.004029  0.003525  0.177074  0.018314  0.063680  \n",
       "221  0.084598  0.779519  0.154542  0.867195  0.202058  0.016283  0.508905  \n",
       "222  0.044277  0.964712  0.076386  0.031524  0.589022  0.979537  0.199227  \n",
       "223  0.032738  0.959637  0.024680  0.057321  0.793698  0.993515  0.131588  \n",
       "224  0.178962  0.972867  0.370032  0.125026  0.443798  0.440495  0.153343  \n",
       "\n",
       "[225 rows x 26 columns]"
      ],
      "text/html": "<div>\n<style scoped>\n    .dataframe tbody tr th:only-of-type {\n        vertical-align: middle;\n    }\n\n    .dataframe tbody tr th {\n        vertical-align: top;\n    }\n\n    .dataframe thead th {\n        text-align: right;\n    }\n</style>\n<table border=\"1\" class=\"dataframe\">\n  <thead>\n    <tr style=\"text-align: right;\">\n      <th></th>\n      <th>recording_id</th>\n      <th>patch</th>\n      <th>s0</th>\n      <th>s1</th>\n      <th>s2</th>\n      <th>s3</th>\n      <th>s4</th>\n      <th>s5</th>\n      <th>s6</th>\n      <th>s7</th>\n      <th>...</th>\n      <th>s14</th>\n      <th>s15</th>\n      <th>s16</th>\n      <th>s17</th>\n      <th>s18</th>\n      <th>s19</th>\n      <th>s20</th>\n      <th>s21</th>\n      <th>s22</th>\n      <th>s23</th>\n    </tr>\n  </thead>\n  <tbody>\n    <tr>\n      <td>0</td>\n      <td>003bec244</td>\n      <td>7</td>\n      <td>0.224785</td>\n      <td>0.938255</td>\n      <td>0.477549</td>\n      <td>0.949893</td>\n      <td>0.056129</td>\n      <td>0.270250</td>\n      <td>0.675047</td>\n      <td>0.985987</td>\n      <td>...</td>\n      <td>0.924343</td>\n      <td>0.325141</td>\n      <td>0.191048</td>\n      <td>0.023601</td>\n      <td>0.328566</td>\n      <td>0.025911</td>\n      <td>0.160787</td>\n      <td>0.286745</td>\n      <td>0.025974</td>\n      <td>0.040307</td>\n    </tr>\n    <tr>\n      <td>1</td>\n      <td>00d442df7</td>\n      <td>7</td>\n      <td>0.999405</td>\n      <td>0.531444</td>\n      <td>0.148184</td>\n      <td>0.963154</td>\n      <td>0.018562</td>\n      <td>0.013061</td>\n      <td>0.123996</td>\n      <td>0.518725</td>\n      <td>...</td>\n      <td>0.825003</td>\n      <td>0.125325</td>\n      <td>0.049231</td>\n      <td>0.004225</td>\n      <td>0.993038</td>\n      <td>0.004533</td>\n      <td>0.018522</td>\n      <td>0.698755</td>\n      <td>0.586532</td>\n      <td>0.075230</td>\n    </tr>\n    <tr>\n      <td>2</td>\n      <td>0275e127d</td>\n      <td>7</td>\n      <td>0.094659</td>\n      <td>0.409909</td>\n      <td>0.442396</td>\n      <td>0.781116</td>\n      <td>0.150064</td>\n      <td>0.031237</td>\n      <td>0.500361</td>\n      <td>0.871352</td>\n      <td>...</td>\n      <td>0.347130</td>\n      <td>0.374402</td>\n      <td>0.043625</td>\n      <td>0.746018</td>\n      <td>0.321698</td>\n      <td>0.067598</td>\n      <td>0.147533</td>\n      <td>0.130477</td>\n      <td>0.041919</td>\n      <td>0.103071</td>\n    </tr>\n    <tr>\n      <td>3</td>\n      <td>0295e3234</td>\n      <td>7</td>\n      <td>0.198660</td>\n      <td>0.437504</td>\n      <td>0.549462</td>\n      <td>0.806858</td>\n      <td>0.229857</td>\n      <td>0.089149</td>\n      <td>0.797226</td>\n      <td>0.888579</td>\n      <td>...</td>\n      <td>0.370906</td>\n      <td>0.997015</td>\n      <td>0.031956</td>\n      <td>0.544349</td>\n      <td>0.506065</td>\n      <td>0.163756</td>\n      <td>0.115173</td>\n      <td>0.154768</td>\n      <td>0.180492</td>\n      <td>0.857058</td>\n    </tr>\n    <tr>\n      <td>4</td>\n      <td>03d77fede</td>\n      <td>7</td>\n      <td>0.998730</td>\n      <td>0.571195</td>\n      <td>0.093456</td>\n      <td>0.964953</td>\n      <td>0.058642</td>\n      <td>0.056750</td>\n      <td>0.161615</td>\n      <td>0.432942</td>\n      <td>...</td>\n      <td>0.351543</td>\n      <td>0.215448</td>\n      <td>0.043973</td>\n      <td>0.016372</td>\n      <td>0.990337</td>\n      <td>0.021516</td>\n      <td>0.008131</td>\n      <td>0.132697</td>\n      <td>0.062489</td>\n      <td>0.101647</td>\n    </tr>\n    <tr>\n      <td>...</td>\n      <td>...</td>\n      <td>...</td>\n      <td>...</td>\n      <td>...</td>\n      <td>...</td>\n      <td>...</td>\n      <td>...</td>\n      <td>...</td>\n      <td>...</td>\n      <td>...</td>\n      <td>...</td>\n      <td>...</td>\n      <td>...</td>\n      <td>...</td>\n      <td>...</td>\n      <td>...</td>\n      <td>...</td>\n      <td>...</td>\n      <td>...</td>\n      <td>...</td>\n      <td>...</td>\n    </tr>\n    <tr>\n      <td>220</td>\n      <td>fc6609050</td>\n      <td>7</td>\n      <td>0.998029</td>\n      <td>0.667587</td>\n      <td>0.140595</td>\n      <td>0.980973</td>\n      <td>0.036098</td>\n      <td>0.003693</td>\n      <td>0.135568</td>\n      <td>0.439483</td>\n      <td>...</td>\n      <td>0.387405</td>\n      <td>0.162123</td>\n      <td>0.012306</td>\n      <td>0.001320</td>\n      <td>0.990952</td>\n      <td>0.004029</td>\n      <td>0.003525</td>\n      <td>0.177074</td>\n      <td>0.018314</td>\n      <td>0.063680</td>\n    </tr>\n    <tr>\n      <td>221</td>\n      <td>fd3f0d49b</td>\n      <td>7</td>\n      <td>0.899697</td>\n      <td>0.385484</td>\n      <td>0.464764</td>\n      <td>0.860252</td>\n      <td>0.114531</td>\n      <td>0.088624</td>\n      <td>0.999944</td>\n      <td>0.982538</td>\n      <td>...</td>\n      <td>0.570869</td>\n      <td>0.853118</td>\n      <td>0.160930</td>\n      <td>0.084598</td>\n      <td>0.779519</td>\n      <td>0.154542</td>\n      <td>0.867195</td>\n      <td>0.202058</td>\n      <td>0.016283</td>\n      <td>0.508905</td>\n    </tr>\n    <tr>\n      <td>222</td>\n      <td>fd6a520d8</td>\n      <td>7</td>\n      <td>0.710136</td>\n      <td>0.429841</td>\n      <td>0.243154</td>\n      <td>0.958707</td>\n      <td>0.106409</td>\n      <td>0.349843</td>\n      <td>0.150692</td>\n      <td>0.522888</td>\n      <td>...</td>\n      <td>0.626465</td>\n      <td>0.234584</td>\n      <td>0.063270</td>\n      <td>0.044277</td>\n      <td>0.964712</td>\n      <td>0.076386</td>\n      <td>0.031524</td>\n      <td>0.589022</td>\n      <td>0.979537</td>\n      <td>0.199227</td>\n    </tr>\n    <tr>\n      <td>223</td>\n      <td>fdda158ed</td>\n      <td>7</td>\n      <td>0.898943</td>\n      <td>0.080530</td>\n      <td>0.026589</td>\n      <td>0.975514</td>\n      <td>0.061608</td>\n      <td>0.160734</td>\n      <td>0.046643</td>\n      <td>0.366795</td>\n      <td>...</td>\n      <td>0.686624</td>\n      <td>0.115819</td>\n      <td>0.152827</td>\n      <td>0.032738</td>\n      <td>0.959637</td>\n      <td>0.024680</td>\n      <td>0.057321</td>\n      <td>0.793698</td>\n      <td>0.993515</td>\n      <td>0.131588</td>\n    </tr>\n    <tr>\n      <td>224</td>\n      <td>ffb8d8391</td>\n      <td>7</td>\n      <td>0.713875</td>\n      <td>0.354477</td>\n      <td>0.319670</td>\n      <td>0.969649</td>\n      <td>0.265769</td>\n      <td>0.838014</td>\n      <td>0.310212</td>\n      <td>0.541224</td>\n      <td>...</td>\n      <td>0.699285</td>\n      <td>0.668637</td>\n      <td>0.451797</td>\n      <td>0.178962</td>\n      <td>0.972867</td>\n      <td>0.370032</td>\n      <td>0.125026</td>\n      <td>0.443798</td>\n      <td>0.440495</td>\n      <td>0.153343</td>\n    </tr>\n  </tbody>\n</table>\n<p>225 rows × 26 columns</p>\n</div>"
     },
     "metadata": {},
     "execution_count": 5
    }
   ],
   "source": [
    "tp_oof = oof2[oof2['recording_id'].isin(tp2['recording_id'])].reset_index(drop=True).sort_values('recording_id')\n",
    "tp_oof"
   ]
  },
  {
   "cell_type": "code",
   "execution_count": 6,
   "metadata": {},
   "outputs": [],
   "source": [
    "tp2 = tp2[tp2[\"recording_id\"].isin(tp_oof[\"recording_id\"])]"
   ]
  },
  {
   "cell_type": "code",
   "execution_count": 7,
   "metadata": {},
   "outputs": [],
   "source": [
    "pred = tp_oof.loc[:, 's0':'s23'].values\n",
    "target = tp2.loc[:, 's0':'s23'].values"
   ]
  },
  {
   "cell_type": "code",
   "execution_count": 8,
   "metadata": {},
   "outputs": [
    {
     "output_type": "execute_result",
     "data": {
      "text/plain": [
       "array([0.98837209, 0.97069767, 0.98249619, 0.70372093, 0.89767442,\n",
       "       0.98046512, 1.        , 0.92232558, 0.95348837, 0.98951507,\n",
       "       0.99537037, 0.97023256, 0.95209302, 0.99767442, 0.98139535,\n",
       "       0.9827907 , 1.        , 0.97069767, 0.9172093 , 0.98387097,\n",
       "       0.99868938, 0.97069767, 0.99639918, 0.96967257])"
      ]
     },
     "metadata": {},
     "execution_count": 8
    }
   ],
   "source": [
    "from sklearn.metrics import roc_auc_score\n",
    "import matplotlib.pyplot as plt\n",
    "auc = roc_auc_score(target, pred, average=None)\n",
    "auc"
   ]
  },
  {
   "cell_type": "code",
   "execution_count": 9,
   "metadata": {},
   "outputs": [
    {
     "output_type": "execute_result",
     "data": {
      "text/plain": [
       "<BarContainer object of 24 artists>"
      ]
     },
     "metadata": {},
     "execution_count": 9
    },
    {
     "output_type": "display_data",
     "data": {
      "text/plain": "<Figure size 432x288 with 1 Axes>",
      "image/svg+xml": "<?xml version=\"1.0\" encoding=\"utf-8\" standalone=\"no\"?>\n<!DOCTYPE svg PUBLIC \"-//W3C//DTD SVG 1.1//EN\"\n  \"http://www.w3.org/Graphics/SVG/1.1/DTD/svg11.dtd\">\n<!-- Created with matplotlib (https://matplotlib.org/) -->\n<svg height=\"248.518125pt\" version=\"1.1\" viewBox=\"0 0 372.103125 248.518125\" width=\"372.103125pt\" xmlns=\"http://www.w3.org/2000/svg\" xmlns:xlink=\"http://www.w3.org/1999/xlink\">\n <defs>\n  <style type=\"text/css\">\n*{stroke-linecap:butt;stroke-linejoin:round;}\n  </style>\n </defs>\n <g id=\"figure_1\">\n  <g id=\"patch_1\">\n   <path d=\"M 0 248.518125 \nL 372.103125 248.518125 \nL 372.103125 0 \nL 0 0 \nz\n\" style=\"fill:none;\"/>\n  </g>\n  <g id=\"axes_1\">\n   <g id=\"patch_2\">\n    <path d=\"M 30.103125 224.64 \nL 364.903125 224.64 \nL 364.903125 7.2 \nL 30.103125 7.2 \nz\n\" style=\"fill:#ffffff;\"/>\n   </g>\n   <g id=\"patch_3\">\n    <path clip-path=\"url(#p7efd00fbab)\" d=\"M 45.321307 224.64 \nL 55.552017 224.64 \nL 55.552017 19.962259 \nL 45.321307 19.962259 \nz\n\" style=\"fill:#1f77b4;\"/>\n   </g>\n   <g id=\"patch_4\">\n    <path clip-path=\"url(#p7efd00fbab)\" d=\"M 58.109695 224.64 \nL 68.340405 224.64 \nL 68.340405 23.622379 \nL 58.109695 23.622379 \nz\n\" style=\"fill:#1f77b4;\"/>\n   </g>\n   <g id=\"patch_5\">\n    <path clip-path=\"url(#p7efd00fbab)\" d=\"M 70.898083 224.64 \nL 81.128793 224.64 \nL 81.128793 21.179074 \nL 70.898083 21.179074 \nz\n\" style=\"fill:#1f77b4;\"/>\n   </g>\n   <g id=\"patch_6\">\n    <path clip-path=\"url(#p7efd00fbab)\" d=\"M 83.686471 224.64 \nL 93.917182 224.64 \nL 93.917182 78.909449 \nL 83.686471 78.909449 \nz\n\" style=\"fill:#1f77b4;\"/>\n   </g>\n   <g id=\"patch_7\">\n    <path clip-path=\"url(#p7efd00fbab)\" d=\"M 96.474859 224.64 \nL 106.70557 224.64 \nL 106.70557 38.744452 \nL 96.474859 38.744452 \nz\n\" style=\"fill:#1f77b4;\"/>\n   </g>\n   <g id=\"patch_8\">\n    <path clip-path=\"url(#p7efd00fbab)\" d=\"M 109.263247 224.64 \nL 119.493958 224.64 \nL 119.493958 21.599681 \nL 109.263247 21.599681 \nz\n\" style=\"fill:#1f77b4;\"/>\n   </g>\n   <g id=\"patch_9\">\n    <path clip-path=\"url(#p7efd00fbab)\" d=\"M 122.051635 224.64 \nL 132.282346 224.64 \nL 132.282346 17.554286 \nL 122.051635 17.554286 \nz\n\" style=\"fill:#1f77b4;\"/>\n   </g>\n   <g id=\"patch_10\">\n    <path clip-path=\"url(#p7efd00fbab)\" d=\"M 134.840023 224.64 \nL 145.070734 224.64 \nL 145.070734 33.639548 \nL 134.840023 33.639548 \nz\n\" style=\"fill:#1f77b4;\"/>\n   </g>\n   <g id=\"patch_11\">\n    <path clip-path=\"url(#p7efd00fbab)\" d=\"M 147.628411 224.64 \nL 157.859122 224.64 \nL 157.859122 27.186179 \nL 147.628411 27.186179 \nz\n\" style=\"fill:#1f77b4;\"/>\n   </g>\n   <g id=\"patch_12\">\n    <path clip-path=\"url(#p7efd00fbab)\" d=\"M 160.4168 224.64 \nL 170.64751 224.64 \nL 170.64751 19.725565 \nL 160.4168 19.725565 \nz\n\" style=\"fill:#1f77b4;\"/>\n   </g>\n   <g id=\"patch_13\">\n    <path clip-path=\"url(#p7efd00fbab)\" d=\"M 173.205188 224.64 \nL 183.435898 224.64 \nL 183.435898 18.513016 \nL 173.205188 18.513016 \nz\n\" style=\"fill:#1f77b4;\"/>\n   </g>\n   <g id=\"patch_14\">\n    <path clip-path=\"url(#p7efd00fbab)\" d=\"M 185.993576 224.64 \nL 196.224286 224.64 \nL 196.224286 23.718698 \nL 185.993576 23.718698 \nz\n\" style=\"fill:#1f77b4;\"/>\n   </g>\n   <g id=\"patch_15\">\n    <path clip-path=\"url(#p7efd00fbab)\" d=\"M 198.781964 224.64 \nL 209.012674 224.64 \nL 209.012674 27.475136 \nL 198.781964 27.475136 \nz\n\" style=\"fill:#1f77b4;\"/>\n   </g>\n   <g id=\"patch_16\">\n    <path clip-path=\"url(#p7efd00fbab)\" d=\"M 211.570352 224.64 \nL 221.801062 224.64 \nL 221.801062 18.03588 \nL 211.570352 18.03588 \nz\n\" style=\"fill:#1f77b4;\"/>\n   </g>\n   <g id=\"patch_17\">\n    <path clip-path=\"url(#p7efd00fbab)\" d=\"M 224.35874 224.64 \nL 234.58945 224.64 \nL 234.58945 21.407043 \nL 224.35874 21.407043 \nz\n\" style=\"fill:#1f77b4;\"/>\n   </g>\n   <g id=\"patch_18\">\n    <path clip-path=\"url(#p7efd00fbab)\" d=\"M 237.147128 224.64 \nL 247.377839 224.64 \nL 247.377839 21.118086 \nL 237.147128 21.118086 \nz\n\" style=\"fill:#1f77b4;\"/>\n   </g>\n   <g id=\"patch_19\">\n    <path clip-path=\"url(#p7efd00fbab)\" d=\"M 249.935516 224.64 \nL 260.166227 224.64 \nL 260.166227 17.554286 \nL 249.935516 17.554286 \nz\n\" style=\"fill:#1f77b4;\"/>\n   </g>\n   <g id=\"patch_20\">\n    <path clip-path=\"url(#p7efd00fbab)\" d=\"M 262.723904 224.64 \nL 272.954615 224.64 \nL 272.954615 23.622379 \nL 262.723904 23.622379 \nz\n\" style=\"fill:#1f77b4;\"/>\n   </g>\n   <g id=\"patch_21\">\n    <path clip-path=\"url(#p7efd00fbab)\" d=\"M 275.512292 224.64 \nL 285.743003 224.64 \nL 285.743003 34.699056 \nL 275.512292 34.699056 \nz\n\" style=\"fill:#1f77b4;\"/>\n   </g>\n   <g id=\"patch_22\">\n    <path clip-path=\"url(#p7efd00fbab)\" d=\"M 288.30068 224.64 \nL 298.531391 224.64 \nL 298.531391 20.894378 \nL 288.30068 20.894378 \nz\n\" style=\"fill:#1f77b4;\"/>\n   </g>\n   <g id=\"patch_23\">\n    <path clip-path=\"url(#p7efd00fbab)\" d=\"M 301.089068 224.64 \nL 311.319779 224.64 \nL 311.319779 17.825696 \nL 301.089068 17.825696 \nz\n\" style=\"fill:#1f77b4;\"/>\n   </g>\n   <g id=\"patch_24\">\n    <path clip-path=\"url(#p7efd00fbab)\" d=\"M 313.877457 224.64 \nL 324.108167 224.64 \nL 324.108167 23.622379 \nL 313.877457 23.622379 \nz\n\" style=\"fill:#1f77b4;\"/>\n   </g>\n   <g id=\"patch_25\">\n    <path clip-path=\"url(#p7efd00fbab)\" d=\"M 326.665845 224.64 \nL 336.896555 224.64 \nL 336.896555 18.299965 \nL 326.665845 18.299965 \nz\n\" style=\"fill:#1f77b4;\"/>\n   </g>\n   <g id=\"patch_26\">\n    <path clip-path=\"url(#p7efd00fbab)\" d=\"M 339.454233 224.64 \nL 349.684943 224.64 \nL 349.684943 23.834663 \nL 339.454233 23.834663 \nz\n\" style=\"fill:#1f77b4;\"/>\n   </g>\n   <g id=\"matplotlib.axis_1\">\n    <g id=\"xtick_1\">\n     <g id=\"line2d_1\">\n      <defs>\n       <path d=\"M 0 0 \nL 0 3.5 \n\" id=\"m954ea8d4c8\" style=\"stroke:#000000;stroke-width:0.8;\"/>\n      </defs>\n      <g>\n       <use style=\"stroke:#000000;stroke-width:0.8;\" x=\"50.436662\" xlink:href=\"#m954ea8d4c8\" y=\"224.64\"/>\n      </g>\n     </g>\n     <g id=\"text_1\">\n      <!-- 0 -->\n      <defs>\n       <path d=\"M 31.78125 66.40625 \nQ 24.171875 66.40625 20.328125 58.90625 \nQ 16.5 51.421875 16.5 36.375 \nQ 16.5 21.390625 20.328125 13.890625 \nQ 24.171875 6.390625 31.78125 6.390625 \nQ 39.453125 6.390625 43.28125 13.890625 \nQ 47.125 21.390625 47.125 36.375 \nQ 47.125 51.421875 43.28125 58.90625 \nQ 39.453125 66.40625 31.78125 66.40625 \nz\nM 31.78125 74.21875 \nQ 44.046875 74.21875 50.515625 64.515625 \nQ 56.984375 54.828125 56.984375 36.375 \nQ 56.984375 17.96875 50.515625 8.265625 \nQ 44.046875 -1.421875 31.78125 -1.421875 \nQ 19.53125 -1.421875 13.0625 8.265625 \nQ 6.59375 17.96875 6.59375 36.375 \nQ 6.59375 54.828125 13.0625 64.515625 \nQ 19.53125 74.21875 31.78125 74.21875 \nz\n\" id=\"DejaVuSans-48\"/>\n      </defs>\n      <g transform=\"translate(47.255412 239.238437)scale(0.1 -0.1)\">\n       <use xlink:href=\"#DejaVuSans-48\"/>\n      </g>\n     </g>\n    </g>\n    <g id=\"xtick_2\">\n     <g id=\"line2d_2\">\n      <g>\n       <use style=\"stroke:#000000;stroke-width:0.8;\" x=\"114.378602\" xlink:href=\"#m954ea8d4c8\" y=\"224.64\"/>\n      </g>\n     </g>\n     <g id=\"text_2\">\n      <!-- 5 -->\n      <defs>\n       <path d=\"M 10.796875 72.90625 \nL 49.515625 72.90625 \nL 49.515625 64.59375 \nL 19.828125 64.59375 \nL 19.828125 46.734375 \nQ 21.96875 47.46875 24.109375 47.828125 \nQ 26.265625 48.1875 28.421875 48.1875 \nQ 40.625 48.1875 47.75 41.5 \nQ 54.890625 34.8125 54.890625 23.390625 \nQ 54.890625 11.625 47.5625 5.09375 \nQ 40.234375 -1.421875 26.90625 -1.421875 \nQ 22.3125 -1.421875 17.546875 -0.640625 \nQ 12.796875 0.140625 7.71875 1.703125 \nL 7.71875 11.625 \nQ 12.109375 9.234375 16.796875 8.0625 \nQ 21.484375 6.890625 26.703125 6.890625 \nQ 35.15625 6.890625 40.078125 11.328125 \nQ 45.015625 15.765625 45.015625 23.390625 \nQ 45.015625 31 40.078125 35.4375 \nQ 35.15625 39.890625 26.703125 39.890625 \nQ 22.75 39.890625 18.8125 39.015625 \nQ 14.890625 38.140625 10.796875 36.28125 \nz\n\" id=\"DejaVuSans-53\"/>\n      </defs>\n      <g transform=\"translate(111.197352 239.238437)scale(0.1 -0.1)\">\n       <use xlink:href=\"#DejaVuSans-53\"/>\n      </g>\n     </g>\n    </g>\n    <g id=\"xtick_3\">\n     <g id=\"line2d_3\">\n      <g>\n       <use style=\"stroke:#000000;stroke-width:0.8;\" x=\"178.320543\" xlink:href=\"#m954ea8d4c8\" y=\"224.64\"/>\n      </g>\n     </g>\n     <g id=\"text_3\">\n      <!-- 10 -->\n      <defs>\n       <path d=\"M 12.40625 8.296875 \nL 28.515625 8.296875 \nL 28.515625 63.921875 \nL 10.984375 60.40625 \nL 10.984375 69.390625 \nL 28.421875 72.90625 \nL 38.28125 72.90625 \nL 38.28125 8.296875 \nL 54.390625 8.296875 \nL 54.390625 0 \nL 12.40625 0 \nz\n\" id=\"DejaVuSans-49\"/>\n      </defs>\n      <g transform=\"translate(171.958043 239.238437)scale(0.1 -0.1)\">\n       <use xlink:href=\"#DejaVuSans-49\"/>\n       <use x=\"63.623047\" xlink:href=\"#DejaVuSans-48\"/>\n      </g>\n     </g>\n    </g>\n    <g id=\"xtick_4\">\n     <g id=\"line2d_4\">\n      <g>\n       <use style=\"stroke:#000000;stroke-width:0.8;\" x=\"242.262483\" xlink:href=\"#m954ea8d4c8\" y=\"224.64\"/>\n      </g>\n     </g>\n     <g id=\"text_4\">\n      <!-- 15 -->\n      <g transform=\"translate(235.899983 239.238437)scale(0.1 -0.1)\">\n       <use xlink:href=\"#DejaVuSans-49\"/>\n       <use x=\"63.623047\" xlink:href=\"#DejaVuSans-53\"/>\n      </g>\n     </g>\n    </g>\n    <g id=\"xtick_5\">\n     <g id=\"line2d_5\">\n      <g>\n       <use style=\"stroke:#000000;stroke-width:0.8;\" x=\"306.204424\" xlink:href=\"#m954ea8d4c8\" y=\"224.64\"/>\n      </g>\n     </g>\n     <g id=\"text_5\">\n      <!-- 20 -->\n      <defs>\n       <path d=\"M 19.1875 8.296875 \nL 53.609375 8.296875 \nL 53.609375 0 \nL 7.328125 0 \nL 7.328125 8.296875 \nQ 12.9375 14.109375 22.625 23.890625 \nQ 32.328125 33.6875 34.8125 36.53125 \nQ 39.546875 41.84375 41.421875 45.53125 \nQ 43.3125 49.21875 43.3125 52.78125 \nQ 43.3125 58.59375 39.234375 62.25 \nQ 35.15625 65.921875 28.609375 65.921875 \nQ 23.96875 65.921875 18.8125 64.3125 \nQ 13.671875 62.703125 7.8125 59.421875 \nL 7.8125 69.390625 \nQ 13.765625 71.78125 18.9375 73 \nQ 24.125 74.21875 28.421875 74.21875 \nQ 39.75 74.21875 46.484375 68.546875 \nQ 53.21875 62.890625 53.21875 53.421875 \nQ 53.21875 48.921875 51.53125 44.890625 \nQ 49.859375 40.875 45.40625 35.40625 \nQ 44.1875 33.984375 37.640625 27.21875 \nQ 31.109375 20.453125 19.1875 8.296875 \nz\n\" id=\"DejaVuSans-50\"/>\n      </defs>\n      <g transform=\"translate(299.841924 239.238437)scale(0.1 -0.1)\">\n       <use xlink:href=\"#DejaVuSans-50\"/>\n       <use x=\"63.623047\" xlink:href=\"#DejaVuSans-48\"/>\n      </g>\n     </g>\n    </g>\n   </g>\n   <g id=\"matplotlib.axis_2\">\n    <g id=\"ytick_1\">\n     <g id=\"line2d_6\">\n      <defs>\n       <path d=\"M 0 0 \nL -3.5 0 \n\" id=\"me4ab8f3743\" style=\"stroke:#000000;stroke-width:0.8;\"/>\n      </defs>\n      <g>\n       <use style=\"stroke:#000000;stroke-width:0.8;\" x=\"30.103125\" xlink:href=\"#me4ab8f3743\" y=\"224.64\"/>\n      </g>\n     </g>\n     <g id=\"text_6\">\n      <!-- 0.0 -->\n      <defs>\n       <path d=\"M 10.6875 12.40625 \nL 21 12.40625 \nL 21 0 \nL 10.6875 0 \nz\n\" id=\"DejaVuSans-46\"/>\n      </defs>\n      <g transform=\"translate(7.2 228.439219)scale(0.1 -0.1)\">\n       <use xlink:href=\"#DejaVuSans-48\"/>\n       <use x=\"63.623047\" xlink:href=\"#DejaVuSans-46\"/>\n       <use x=\"95.410156\" xlink:href=\"#DejaVuSans-48\"/>\n      </g>\n     </g>\n    </g>\n    <g id=\"ytick_2\">\n     <g id=\"line2d_7\">\n      <g>\n       <use style=\"stroke:#000000;stroke-width:0.8;\" x=\"30.103125\" xlink:href=\"#me4ab8f3743\" y=\"183.222857\"/>\n      </g>\n     </g>\n     <g id=\"text_7\">\n      <!-- 0.2 -->\n      <g transform=\"translate(7.2 187.022076)scale(0.1 -0.1)\">\n       <use xlink:href=\"#DejaVuSans-48\"/>\n       <use x=\"63.623047\" xlink:href=\"#DejaVuSans-46\"/>\n       <use x=\"95.410156\" xlink:href=\"#DejaVuSans-50\"/>\n      </g>\n     </g>\n    </g>\n    <g id=\"ytick_3\">\n     <g id=\"line2d_8\">\n      <g>\n       <use style=\"stroke:#000000;stroke-width:0.8;\" x=\"30.103125\" xlink:href=\"#me4ab8f3743\" y=\"141.805714\"/>\n      </g>\n     </g>\n     <g id=\"text_8\">\n      <!-- 0.4 -->\n      <defs>\n       <path d=\"M 37.796875 64.3125 \nL 12.890625 25.390625 \nL 37.796875 25.390625 \nz\nM 35.203125 72.90625 \nL 47.609375 72.90625 \nL 47.609375 25.390625 \nL 58.015625 25.390625 \nL 58.015625 17.1875 \nL 47.609375 17.1875 \nL 47.609375 0 \nL 37.796875 0 \nL 37.796875 17.1875 \nL 4.890625 17.1875 \nL 4.890625 26.703125 \nz\n\" id=\"DejaVuSans-52\"/>\n      </defs>\n      <g transform=\"translate(7.2 145.604933)scale(0.1 -0.1)\">\n       <use xlink:href=\"#DejaVuSans-48\"/>\n       <use x=\"63.623047\" xlink:href=\"#DejaVuSans-46\"/>\n       <use x=\"95.410156\" xlink:href=\"#DejaVuSans-52\"/>\n      </g>\n     </g>\n    </g>\n    <g id=\"ytick_4\">\n     <g id=\"line2d_9\">\n      <g>\n       <use style=\"stroke:#000000;stroke-width:0.8;\" x=\"30.103125\" xlink:href=\"#me4ab8f3743\" y=\"100.388571\"/>\n      </g>\n     </g>\n     <g id=\"text_9\">\n      <!-- 0.6 -->\n      <defs>\n       <path d=\"M 33.015625 40.375 \nQ 26.375 40.375 22.484375 35.828125 \nQ 18.609375 31.296875 18.609375 23.390625 \nQ 18.609375 15.53125 22.484375 10.953125 \nQ 26.375 6.390625 33.015625 6.390625 \nQ 39.65625 6.390625 43.53125 10.953125 \nQ 47.40625 15.53125 47.40625 23.390625 \nQ 47.40625 31.296875 43.53125 35.828125 \nQ 39.65625 40.375 33.015625 40.375 \nz\nM 52.59375 71.296875 \nL 52.59375 62.3125 \nQ 48.875 64.0625 45.09375 64.984375 \nQ 41.3125 65.921875 37.59375 65.921875 \nQ 27.828125 65.921875 22.671875 59.328125 \nQ 17.53125 52.734375 16.796875 39.40625 \nQ 19.671875 43.65625 24.015625 45.921875 \nQ 28.375 48.1875 33.59375 48.1875 \nQ 44.578125 48.1875 50.953125 41.515625 \nQ 57.328125 34.859375 57.328125 23.390625 \nQ 57.328125 12.15625 50.6875 5.359375 \nQ 44.046875 -1.421875 33.015625 -1.421875 \nQ 20.359375 -1.421875 13.671875 8.265625 \nQ 6.984375 17.96875 6.984375 36.375 \nQ 6.984375 53.65625 15.1875 63.9375 \nQ 23.390625 74.21875 37.203125 74.21875 \nQ 40.921875 74.21875 44.703125 73.484375 \nQ 48.484375 72.75 52.59375 71.296875 \nz\n\" id=\"DejaVuSans-54\"/>\n      </defs>\n      <g transform=\"translate(7.2 104.18779)scale(0.1 -0.1)\">\n       <use xlink:href=\"#DejaVuSans-48\"/>\n       <use x=\"63.623047\" xlink:href=\"#DejaVuSans-46\"/>\n       <use x=\"95.410156\" xlink:href=\"#DejaVuSans-54\"/>\n      </g>\n     </g>\n    </g>\n    <g id=\"ytick_5\">\n     <g id=\"line2d_10\">\n      <g>\n       <use style=\"stroke:#000000;stroke-width:0.8;\" x=\"30.103125\" xlink:href=\"#me4ab8f3743\" y=\"58.971429\"/>\n      </g>\n     </g>\n     <g id=\"text_10\">\n      <!-- 0.8 -->\n      <defs>\n       <path d=\"M 31.78125 34.625 \nQ 24.75 34.625 20.71875 30.859375 \nQ 16.703125 27.09375 16.703125 20.515625 \nQ 16.703125 13.921875 20.71875 10.15625 \nQ 24.75 6.390625 31.78125 6.390625 \nQ 38.8125 6.390625 42.859375 10.171875 \nQ 46.921875 13.96875 46.921875 20.515625 \nQ 46.921875 27.09375 42.890625 30.859375 \nQ 38.875 34.625 31.78125 34.625 \nz\nM 21.921875 38.8125 \nQ 15.578125 40.375 12.03125 44.71875 \nQ 8.5 49.078125 8.5 55.328125 \nQ 8.5 64.0625 14.71875 69.140625 \nQ 20.953125 74.21875 31.78125 74.21875 \nQ 42.671875 74.21875 48.875 69.140625 \nQ 55.078125 64.0625 55.078125 55.328125 \nQ 55.078125 49.078125 51.53125 44.71875 \nQ 48 40.375 41.703125 38.8125 \nQ 48.828125 37.15625 52.796875 32.3125 \nQ 56.78125 27.484375 56.78125 20.515625 \nQ 56.78125 9.90625 50.3125 4.234375 \nQ 43.84375 -1.421875 31.78125 -1.421875 \nQ 19.734375 -1.421875 13.25 4.234375 \nQ 6.78125 9.90625 6.78125 20.515625 \nQ 6.78125 27.484375 10.78125 32.3125 \nQ 14.796875 37.15625 21.921875 38.8125 \nz\nM 18.3125 54.390625 \nQ 18.3125 48.734375 21.84375 45.5625 \nQ 25.390625 42.390625 31.78125 42.390625 \nQ 38.140625 42.390625 41.71875 45.5625 \nQ 45.3125 48.734375 45.3125 54.390625 \nQ 45.3125 60.0625 41.71875 63.234375 \nQ 38.140625 66.40625 31.78125 66.40625 \nQ 25.390625 66.40625 21.84375 63.234375 \nQ 18.3125 60.0625 18.3125 54.390625 \nz\n\" id=\"DejaVuSans-56\"/>\n      </defs>\n      <g transform=\"translate(7.2 62.770647)scale(0.1 -0.1)\">\n       <use xlink:href=\"#DejaVuSans-48\"/>\n       <use x=\"63.623047\" xlink:href=\"#DejaVuSans-46\"/>\n       <use x=\"95.410156\" xlink:href=\"#DejaVuSans-56\"/>\n      </g>\n     </g>\n    </g>\n    <g id=\"ytick_6\">\n     <g id=\"line2d_11\">\n      <g>\n       <use style=\"stroke:#000000;stroke-width:0.8;\" x=\"30.103125\" xlink:href=\"#me4ab8f3743\" y=\"17.554286\"/>\n      </g>\n     </g>\n     <g id=\"text_11\">\n      <!-- 1.0 -->\n      <g transform=\"translate(7.2 21.353504)scale(0.1 -0.1)\">\n       <use xlink:href=\"#DejaVuSans-49\"/>\n       <use x=\"63.623047\" xlink:href=\"#DejaVuSans-46\"/>\n       <use x=\"95.410156\" xlink:href=\"#DejaVuSans-48\"/>\n      </g>\n     </g>\n    </g>\n   </g>\n   <g id=\"patch_27\">\n    <path d=\"M 30.103125 224.64 \nL 30.103125 7.2 \n\" style=\"fill:none;stroke:#000000;stroke-linecap:square;stroke-linejoin:miter;stroke-width:0.8;\"/>\n   </g>\n   <g id=\"patch_28\">\n    <path d=\"M 364.903125 224.64 \nL 364.903125 7.2 \n\" style=\"fill:none;stroke:#000000;stroke-linecap:square;stroke-linejoin:miter;stroke-width:0.8;\"/>\n   </g>\n   <g id=\"patch_29\">\n    <path d=\"M 30.103125 224.64 \nL 364.903125 224.64 \n\" style=\"fill:none;stroke:#000000;stroke-linecap:square;stroke-linejoin:miter;stroke-width:0.8;\"/>\n   </g>\n   <g id=\"patch_30\">\n    <path d=\"M 30.103125 7.2 \nL 364.903125 7.2 \n\" style=\"fill:none;stroke:#000000;stroke-linecap:square;stroke-linejoin:miter;stroke-width:0.8;\"/>\n   </g>\n  </g>\n </g>\n <defs>\n  <clipPath id=\"p7efd00fbab\">\n   <rect height=\"217.44\" width=\"334.8\" x=\"30.103125\" y=\"7.2\"/>\n  </clipPath>\n </defs>\n</svg>\n",
      "image/png": "[encoded data removed]"
     },
     "metadata": {
      "needs_background": "light"
     }
    }
   ],
   "source": [
    "plt.bar(np.arange(24), auc)"
   ]
  },
  {
   "cell_type": "code",
   "execution_count": 10,
   "metadata": {},
   "outputs": [
    {
     "output_type": "execute_result",
     "data": {
      "text/plain": [
       "(torch.Size([225, 24]), torch.Size([225, 24]))"
      ]
     },
     "metadata": {},
     "execution_count": 10
    }
   ],
   "source": [
    "pred = torch.tensor(pred)\n",
    "target = torch.tensor(target)\n",
    "pred.shape, target.shape"
   ]
  },
  {
   "cell_type": "code",
   "execution_count": 11,
   "metadata": {},
   "outputs": [
    {
     "output_type": "execute_result",
     "data": {
      "text/plain": [
       "0.7392822504043579"
      ]
     },
     "metadata": {},
     "execution_count": 11
    }
   ],
   "source": [
    "original_lwlrap = LWLRAP(pred, target)\n",
    "original_lwlrap"
   ]
  },
  {
   "cell_type": "code",
   "execution_count": null,
   "metadata": {},
   "outputs": [],
   "source": []
  }
 ]
}