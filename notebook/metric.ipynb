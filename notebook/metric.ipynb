{
 "metadata": {
  "language_info": {
   "codemirror_mode": {
    "name": "ipython",
    "version": 3
   },
   "file_extension": ".py",
   "mimetype": "text/x-python",
   "name": "python",
   "nbconvert_exporter": "python",
   "pygments_lexer": "ipython3",
   "version": "3.7.4-final"
  },
  "orig_nbformat": 2,
  "kernelspec": {
   "name": "python3",
   "display_name": "Python 3",
   "language": "python"
  }
 },
 "nbformat": 4,
 "nbformat_minor": 2,
 "cells": [
  {
   "cell_type": "code",
   "execution_count": 1,
   "metadata": {},
   "outputs": [],
   "source": [
    "import pandas as pd\n",
    "import torch\n",
    "import numpy as np\n",
    "\n",
    "# LRAP. Instance-level average\n",
    "# Assume float preds [BxC], labels [BxC] of 0 or 1\n",
    "def LRAP(preds, labels):\n",
    "    # Ranks of the predictions\n",
    "    ranked_classes = torch.argsort(preds, dim=-1, descending=True)\n",
    "    # i, j corresponds to rank of prediction in row i\n",
    "    class_ranks = torch.zeros_like(ranked_classes)\n",
    "    for i in range(ranked_classes.size(0)):\n",
    "        for j in range(ranked_classes.size(1)):\n",
    "            class_ranks[i, ranked_classes[i][j]] = j + 1\n",
    "    # Mask out to only use the ranks of relevant GT labels\n",
    "    ground_truth_ranks = class_ranks * labels + (1e6) * (1 - labels)\n",
    "    # All the GT ranks are in front now\n",
    "    sorted_ground_truth_ranks, _ = torch.sort(ground_truth_ranks, dim=-1, descending=False)\n",
    "    pos_matrix = torch.tensor(np.array([i+1 for i in range(labels.size(-1))])).unsqueeze(0)\n",
    "    score_matrix = pos_matrix / sorted_ground_truth_ranks\n",
    "    score_mask_matrix, _ = torch.sort(labels, dim=-1, descending=True)\n",
    "    scores = score_matrix * score_mask_matrix\n",
    "    score = (scores.sum(-1) / labels.sum(-1)).mean()\n",
    "    return score.item()\n",
    "\n",
    "# label-level average\n",
    "# Assume float preds [BxC], labels [BxC] of 0 or 1\n",
    "def LWLRAP(preds, labels):\n",
    "    preds = preds.to('cpu')\n",
    "    labels = labels.to('cpu')\n",
    "\n",
    "    labels[labels > 0.0] = 1.0  # label smoothingする場合もスコア計算のため1にしてしまう\n",
    "    # Ranks of the predictions\n",
    "    ranked_classes = torch.argsort(preds, dim=-1, descending=True)\n",
    "    # i, j corresponds to rank of prediction in row i\n",
    "    class_ranks = torch.zeros_like(ranked_classes)\n",
    "    for i in range(ranked_classes.size(0)):\n",
    "        for j in range(ranked_classes.size(1)):\n",
    "            class_ranks[i, ranked_classes[i][j]] = j + 1\n",
    "    # Mask out to only use the ranks of relevant GT labels\n",
    "    ground_truth_ranks = class_ranks * labels + (1e6) * (1 - labels)\n",
    "    # All the GT ranks are in front now\n",
    "    sorted_ground_truth_ranks, _ = torch.sort(ground_truth_ranks, dim=-1, descending=False)\n",
    "    # Number of GT labels per instance\n",
    "    # num_labels = labels.sum(-1)\n",
    "    pos_matrix = torch.tensor(np.array([i+1 for i in range(labels.size(-1))])).unsqueeze(0)\n",
    "    score_matrix = pos_matrix / sorted_ground_truth_ranks\n",
    "    score_mask_matrix, _ = torch.sort(labels, dim=-1, descending=True)\n",
    "    scores = score_matrix * score_mask_matrix\n",
    "    score = scores.sum() / labels.sum()\n",
    "    return score.item()"
   ]
  },
  {
   "cell_type": "code",
   "execution_count": 2,
   "metadata": {},
   "outputs": [
    {
     "output_type": "execute_result",
     "data": {
      "text/plain": [
       "      patch recording_id        s0        s1        s2        s3        s4  \\\n",
       "0         0    00834f88e  0.373827  0.441171  0.429482  0.867053  0.409134   \n",
       "1         1    00834f88e  0.421995  0.408670  0.416480  0.867339  0.394195   \n",
       "2         2    00834f88e  0.410289  0.411962  0.422318  0.847634  0.396981   \n",
       "3         3    00834f88e  0.447076  0.401724  0.429355  0.840568  0.400162   \n",
       "4         4    00834f88e  0.435928  0.433058  0.430536  0.818535  0.416066   \n",
       "...     ...          ...       ...       ...       ...       ...       ...   \n",
       "7555      3    ff7f876bd  0.372156  0.402773  0.430044  0.819664  0.402917   \n",
       "7556      4    ff7f876bd  0.363173  0.401165  0.413729  0.836556  0.389371   \n",
       "7557      5    ff7f876bd  0.349484  0.408229  0.410039  0.818109  0.399281   \n",
       "7558      6    ff7f876bd  0.352583  0.391860  0.398356  0.821509  0.393557   \n",
       "7559      7    ff7f876bd  0.366449  0.373015  0.411677  0.737776  0.378660   \n",
       "\n",
       "            s5        s6        s7  ...       s14       s15       s16  \\\n",
       "0     0.472102  0.435524  0.415645  ...  0.442382  0.360218  0.362298   \n",
       "1     0.502639  0.431045  0.402370  ...  0.406092  0.377287  0.385323   \n",
       "2     0.511860  0.432790  0.383964  ...  0.423601  0.334544  0.373144   \n",
       "3     0.552543  0.429956  0.392252  ...  0.400193  0.376226  0.414650   \n",
       "4     0.555609  0.441142  0.408392  ...  0.424945  0.387385  0.412394   \n",
       "...        ...       ...       ...  ...       ...       ...       ...   \n",
       "7555  0.434716  0.455124  0.479302  ...  0.431583  0.364503  0.364031   \n",
       "7556  0.431401  0.450193  0.479371  ...  0.455311  0.365588  0.358468   \n",
       "7557  0.432983  0.453413  0.475606  ...  0.472404  0.384030  0.360518   \n",
       "7558  0.427424  0.450309  0.488756  ...  0.492653  0.392095  0.355686   \n",
       "7559  0.436302  0.448816  0.489265  ...  0.447567  0.400995  0.359002   \n",
       "\n",
       "           s17       s18       s19       s20       s21       s22       s23  \n",
       "0     0.373247  0.798004  0.382377  0.399084  0.388208  0.398772  0.439408  \n",
       "1     0.370773  0.689050  0.394015  0.407089  0.387633  0.422403  0.427796  \n",
       "2     0.372081  0.794763  0.385481  0.394683  0.388364  0.442054  0.431300  \n",
       "3     0.368168  0.663203  0.405769  0.408310  0.402587  0.435706  0.404675  \n",
       "4     0.392753  0.718288  0.413439  0.412153  0.402446  0.438271  0.418102  \n",
       "...        ...       ...       ...       ...       ...       ...       ...  \n",
       "7555  0.388520  0.920196  0.417982  0.396471  0.426125  0.404158  0.432781  \n",
       "7556  0.376203  0.907199  0.409524  0.394094  0.418454  0.409613  0.430314  \n",
       "7557  0.406326  0.909069  0.411204  0.389992  0.422811  0.387396  0.436284  \n",
       "7558  0.381522  0.901653  0.408487  0.390919  0.427719  0.379317  0.431623  \n",
       "7559  0.382409  0.902717  0.424057  0.399045  0.416336  0.426037  0.435476  \n",
       "\n",
       "[7560 rows x 26 columns]"
      ],
      "text/html": "<div>\n<style scoped>\n    .dataframe tbody tr th:only-of-type {\n        vertical-align: middle;\n    }\n\n    .dataframe tbody tr th {\n        vertical-align: top;\n    }\n\n    .dataframe thead th {\n        text-align: right;\n    }\n</style>\n<table border=\"1\" class=\"dataframe\">\n  <thead>\n    <tr style=\"text-align: right;\">\n      <th></th>\n      <th>patch</th>\n      <th>recording_id</th>\n      <th>s0</th>\n      <th>s1</th>\n      <th>s2</th>\n      <th>s3</th>\n      <th>s4</th>\n      <th>s5</th>\n      <th>s6</th>\n      <th>s7</th>\n      <th>...</th>\n      <th>s14</th>\n      <th>s15</th>\n      <th>s16</th>\n      <th>s17</th>\n      <th>s18</th>\n      <th>s19</th>\n      <th>s20</th>\n      <th>s21</th>\n      <th>s22</th>\n      <th>s23</th>\n    </tr>\n  </thead>\n  <tbody>\n    <tr>\n      <td>0</td>\n      <td>0</td>\n      <td>00834f88e</td>\n      <td>0.373827</td>\n      <td>0.441171</td>\n      <td>0.429482</td>\n      <td>0.867053</td>\n      <td>0.409134</td>\n      <td>0.472102</td>\n      <td>0.435524</td>\n      <td>0.415645</td>\n      <td>...</td>\n      <td>0.442382</td>\n      <td>0.360218</td>\n      <td>0.362298</td>\n      <td>0.373247</td>\n      <td>0.798004</td>\n      <td>0.382377</td>\n      <td>0.399084</td>\n      <td>0.388208</td>\n      <td>0.398772</td>\n      <td>0.439408</td>\n    </tr>\n    <tr>\n      <td>1</td>\n      <td>1</td>\n      <td>00834f88e</td>\n      <td>0.421995</td>\n      <td>0.408670</td>\n      <td>0.416480</td>\n      <td>0.867339</td>\n      <td>0.394195</td>\n      <td>0.502639</td>\n      <td>0.431045</td>\n      <td>0.402370</td>\n      <td>...</td>\n      <td>0.406092</td>\n      <td>0.377287</td>\n      <td>0.385323</td>\n      <td>0.370773</td>\n      <td>0.689050</td>\n      <td>0.394015</td>\n      <td>0.407089</td>\n      <td>0.387633</td>\n      <td>0.422403</td>\n      <td>0.427796</td>\n    </tr>\n    <tr>\n      <td>2</td>\n      <td>2</td>\n      <td>00834f88e</td>\n      <td>0.410289</td>\n      <td>0.411962</td>\n      <td>0.422318</td>\n      <td>0.847634</td>\n      <td>0.396981</td>\n      <td>0.511860</td>\n      <td>0.432790</td>\n      <td>0.383964</td>\n      <td>...</td>\n      <td>0.423601</td>\n      <td>0.334544</td>\n      <td>0.373144</td>\n      <td>0.372081</td>\n      <td>0.794763</td>\n      <td>0.385481</td>\n      <td>0.394683</td>\n      <td>0.388364</td>\n      <td>0.442054</td>\n      <td>0.431300</td>\n    </tr>\n    <tr>\n      <td>3</td>\n      <td>3</td>\n      <td>00834f88e</td>\n      <td>0.447076</td>\n      <td>0.401724</td>\n      <td>0.429355</td>\n      <td>0.840568</td>\n      <td>0.400162</td>\n      <td>0.552543</td>\n      <td>0.429956</td>\n      <td>0.392252</td>\n      <td>...</td>\n      <td>0.400193</td>\n      <td>0.376226</td>\n      <td>0.414650</td>\n      <td>0.368168</td>\n      <td>0.663203</td>\n      <td>0.405769</td>\n      <td>0.408310</td>\n      <td>0.402587</td>\n      <td>0.435706</td>\n      <td>0.404675</td>\n    </tr>\n    <tr>\n      <td>4</td>\n      <td>4</td>\n      <td>00834f88e</td>\n      <td>0.435928</td>\n      <td>0.433058</td>\n      <td>0.430536</td>\n      <td>0.818535</td>\n      <td>0.416066</td>\n      <td>0.555609</td>\n      <td>0.441142</td>\n      <td>0.408392</td>\n      <td>...</td>\n      <td>0.424945</td>\n      <td>0.387385</td>\n      <td>0.412394</td>\n      <td>0.392753</td>\n      <td>0.718288</td>\n      <td>0.413439</td>\n      <td>0.412153</td>\n      <td>0.402446</td>\n      <td>0.438271</td>\n      <td>0.418102</td>\n    </tr>\n    <tr>\n      <td>...</td>\n      <td>...</td>\n      <td>...</td>\n      <td>...</td>\n      <td>...</td>\n      <td>...</td>\n      <td>...</td>\n      <td>...</td>\n      <td>...</td>\n      <td>...</td>\n      <td>...</td>\n      <td>...</td>\n      <td>...</td>\n      <td>...</td>\n      <td>...</td>\n      <td>...</td>\n      <td>...</td>\n      <td>...</td>\n      <td>...</td>\n      <td>...</td>\n      <td>...</td>\n      <td>...</td>\n    </tr>\n    <tr>\n      <td>7555</td>\n      <td>3</td>\n      <td>ff7f876bd</td>\n      <td>0.372156</td>\n      <td>0.402773</td>\n      <td>0.430044</td>\n      <td>0.819664</td>\n      <td>0.402917</td>\n      <td>0.434716</td>\n      <td>0.455124</td>\n      <td>0.479302</td>\n      <td>...</td>\n      <td>0.431583</td>\n      <td>0.364503</td>\n      <td>0.364031</td>\n      <td>0.388520</td>\n      <td>0.920196</td>\n      <td>0.417982</td>\n      <td>0.396471</td>\n      <td>0.426125</td>\n      <td>0.404158</td>\n      <td>0.432781</td>\n    </tr>\n    <tr>\n      <td>7556</td>\n      <td>4</td>\n      <td>ff7f876bd</td>\n      <td>0.363173</td>\n      <td>0.401165</td>\n      <td>0.413729</td>\n      <td>0.836556</td>\n      <td>0.389371</td>\n      <td>0.431401</td>\n      <td>0.450193</td>\n      <td>0.479371</td>\n      <td>...</td>\n      <td>0.455311</td>\n      <td>0.365588</td>\n      <td>0.358468</td>\n      <td>0.376203</td>\n      <td>0.907199</td>\n      <td>0.409524</td>\n      <td>0.394094</td>\n      <td>0.418454</td>\n      <td>0.409613</td>\n      <td>0.430314</td>\n    </tr>\n    <tr>\n      <td>7557</td>\n      <td>5</td>\n      <td>ff7f876bd</td>\n      <td>0.349484</td>\n      <td>0.408229</td>\n      <td>0.410039</td>\n      <td>0.818109</td>\n      <td>0.399281</td>\n      <td>0.432983</td>\n      <td>0.453413</td>\n      <td>0.475606</td>\n      <td>...</td>\n      <td>0.472404</td>\n      <td>0.384030</td>\n      <td>0.360518</td>\n      <td>0.406326</td>\n      <td>0.909069</td>\n      <td>0.411204</td>\n      <td>0.389992</td>\n      <td>0.422811</td>\n      <td>0.387396</td>\n      <td>0.436284</td>\n    </tr>\n    <tr>\n      <td>7558</td>\n      <td>6</td>\n      <td>ff7f876bd</td>\n      <td>0.352583</td>\n      <td>0.391860</td>\n      <td>0.398356</td>\n      <td>0.821509</td>\n      <td>0.393557</td>\n      <td>0.427424</td>\n      <td>0.450309</td>\n      <td>0.488756</td>\n      <td>...</td>\n      <td>0.492653</td>\n      <td>0.392095</td>\n      <td>0.355686</td>\n      <td>0.381522</td>\n      <td>0.901653</td>\n      <td>0.408487</td>\n      <td>0.390919</td>\n      <td>0.427719</td>\n      <td>0.379317</td>\n      <td>0.431623</td>\n    </tr>\n    <tr>\n      <td>7559</td>\n      <td>7</td>\n      <td>ff7f876bd</td>\n      <td>0.366449</td>\n      <td>0.373015</td>\n      <td>0.411677</td>\n      <td>0.737776</td>\n      <td>0.378660</td>\n      <td>0.436302</td>\n      <td>0.448816</td>\n      <td>0.489265</td>\n      <td>...</td>\n      <td>0.447567</td>\n      <td>0.400995</td>\n      <td>0.359002</td>\n      <td>0.382409</td>\n      <td>0.902717</td>\n      <td>0.424057</td>\n      <td>0.399045</td>\n      <td>0.416336</td>\n      <td>0.426037</td>\n      <td>0.435476</td>\n    </tr>\n  </tbody>\n</table>\n<p>7560 rows × 26 columns</p>\n</div>"
     },
     "metadata": {},
     "execution_count": 2
    }
   ],
   "source": [
    "\n",
    "input_dir = \"../oof/\"\n",
    "oof = pd.read_csv(input_dir + \"fold0_oof.csv\")\n",
    "# oof1 = pd.read_csv(input_dir + \"fold1_oof.csv\")\n",
    "# oof2 = pd.read_csv(input_dir + \"fold2_oof.csv\")\n",
    "# oof3 = pd.read_csv(input_dir + \"fold3_oof.csv\")\n",
    "# oof4 = pd.read_csv(input_dir + \"fold4_oof.csv\")\n",
    "# oof = pd.concat([oof0, oof1, oof2, oof3, oof4])\n",
    "oof"
   ]
  },
  {
   "cell_type": "code",
   "execution_count": 3,
   "metadata": {},
   "outputs": [
    {
     "output_type": "execute_result",
     "data": {
      "text/plain": [
       "    recording_id  patch        s0        s1        s2        s3        s4  \\\n",
       "0      00834f88e      7  0.447076  0.441171  0.430536  0.869495  0.416066   \n",
       "1      008c9c381      7  0.383405  0.425855  0.422817  0.847453  0.416249   \n",
       "2      00b404881      7  0.457658  0.683583  0.411737  0.522533  0.472279   \n",
       "3      016240b9a      7  0.465996  0.466204  0.453727  0.541098  0.398612   \n",
       "4      0201197ec      7  0.436750  0.452039  0.444664  0.539586  0.428883   \n",
       "..           ...    ...       ...       ...       ...       ...       ...   \n",
       "940    fed5d1b9c      7  0.426298  0.435337  0.435393  0.753673  0.388594   \n",
       "941    ff21001e6      7  0.469361  0.458458  0.465558  0.495746  0.398131   \n",
       "942    ff22519ea      7  0.392210  0.453849  0.445089  0.498739  0.298126   \n",
       "943    ff5c2d55f      7  0.384649  0.435181  0.415816  0.894334  0.409117   \n",
       "944    ff7f876bd      7  0.399380  0.440231  0.430044  0.853317  0.417041   \n",
       "\n",
       "           s5        s6        s7  ...       s14       s15       s16  \\\n",
       "0    0.555609  0.444031  0.416361  ...  0.442382  0.420489  0.414650   \n",
       "1    0.462420  0.424034  0.415482  ...  0.386822  0.346964  0.451283   \n",
       "2    0.426853  0.411925  0.447021  ...  0.397360  0.493022  0.424349   \n",
       "3    0.452411  0.436857  0.796326  ...  0.476840  0.460637  0.463811   \n",
       "4    0.451046  0.443825  0.487557  ...  0.484501  0.438181  0.451359   \n",
       "..        ...       ...       ...  ...       ...       ...       ...   \n",
       "940  0.446893  0.447995  0.462989  ...  0.466818  0.884958  0.455009   \n",
       "941  0.454231  0.441620  0.455911  ...  0.458736  0.479534  0.772766   \n",
       "942  0.433404  0.461345  0.918595  ...  0.448448  0.878184  0.440573   \n",
       "943  0.436287  0.452206  0.463865  ...  0.447712  0.429667  0.411992   \n",
       "944  0.444343  0.455124  0.489265  ...  0.492653  0.400995  0.381284   \n",
       "\n",
       "          s17       s18       s19       s20       s21       s22       s23  \n",
       "0    0.394128  0.834913  0.413439  0.412153  0.402587  0.442054  0.447433  \n",
       "1    0.427177  0.479083  0.420265  0.443152  0.436672  0.325355  0.458838  \n",
       "2    0.440522  0.428826  0.410598  0.441342  0.954733  0.352460  0.434758  \n",
       "3    0.457967  0.514584  0.447766  0.446519  0.428659  0.892067  0.449527  \n",
       "4    0.453430  0.493917  0.460186  0.454725  0.464221  0.361302  0.449332  \n",
       "..        ...       ...       ...       ...       ...       ...       ...  \n",
       "940  0.721538  0.527045  0.445703  0.444197  0.433300  0.384709  0.444886  \n",
       "941  0.861122  0.483351  0.455442  0.643508  0.476961  0.383519  0.449168  \n",
       "942  0.423910  0.453643  0.452699  0.434945  0.419965  0.328728  0.465119  \n",
       "943  0.374894  0.875059  0.424601  0.397694  0.450199  0.424182  0.447077  \n",
       "944  0.431198  0.920196  0.424057  0.408203  0.427719  0.426037  0.449255  \n",
       "\n",
       "[945 rows x 26 columns]"
      ],
      "text/html": "<div>\n<style scoped>\n    .dataframe tbody tr th:only-of-type {\n        vertical-align: middle;\n    }\n\n    .dataframe tbody tr th {\n        vertical-align: top;\n    }\n\n    .dataframe thead th {\n        text-align: right;\n    }\n</style>\n<table border=\"1\" class=\"dataframe\">\n  <thead>\n    <tr style=\"text-align: right;\">\n      <th></th>\n      <th>recording_id</th>\n      <th>patch</th>\n      <th>s0</th>\n      <th>s1</th>\n      <th>s2</th>\n      <th>s3</th>\n      <th>s4</th>\n      <th>s5</th>\n      <th>s6</th>\n      <th>s7</th>\n      <th>...</th>\n      <th>s14</th>\n      <th>s15</th>\n      <th>s16</th>\n      <th>s17</th>\n      <th>s18</th>\n      <th>s19</th>\n      <th>s20</th>\n      <th>s21</th>\n      <th>s22</th>\n      <th>s23</th>\n    </tr>\n  </thead>\n  <tbody>\n    <tr>\n      <td>0</td>\n      <td>00834f88e</td>\n      <td>7</td>\n      <td>0.447076</td>\n      <td>0.441171</td>\n      <td>0.430536</td>\n      <td>0.869495</td>\n      <td>0.416066</td>\n      <td>0.555609</td>\n      <td>0.444031</td>\n      <td>0.416361</td>\n      <td>...</td>\n      <td>0.442382</td>\n      <td>0.420489</td>\n      <td>0.414650</td>\n      <td>0.394128</td>\n      <td>0.834913</td>\n      <td>0.413439</td>\n      <td>0.412153</td>\n      <td>0.402587</td>\n      <td>0.442054</td>\n      <td>0.447433</td>\n    </tr>\n    <tr>\n      <td>1</td>\n      <td>008c9c381</td>\n      <td>7</td>\n      <td>0.383405</td>\n      <td>0.425855</td>\n      <td>0.422817</td>\n      <td>0.847453</td>\n      <td>0.416249</td>\n      <td>0.462420</td>\n      <td>0.424034</td>\n      <td>0.415482</td>\n      <td>...</td>\n      <td>0.386822</td>\n      <td>0.346964</td>\n      <td>0.451283</td>\n      <td>0.427177</td>\n      <td>0.479083</td>\n      <td>0.420265</td>\n      <td>0.443152</td>\n      <td>0.436672</td>\n      <td>0.325355</td>\n      <td>0.458838</td>\n    </tr>\n    <tr>\n      <td>2</td>\n      <td>00b404881</td>\n      <td>7</td>\n      <td>0.457658</td>\n      <td>0.683583</td>\n      <td>0.411737</td>\n      <td>0.522533</td>\n      <td>0.472279</td>\n      <td>0.426853</td>\n      <td>0.411925</td>\n      <td>0.447021</td>\n      <td>...</td>\n      <td>0.397360</td>\n      <td>0.493022</td>\n      <td>0.424349</td>\n      <td>0.440522</td>\n      <td>0.428826</td>\n      <td>0.410598</td>\n      <td>0.441342</td>\n      <td>0.954733</td>\n      <td>0.352460</td>\n      <td>0.434758</td>\n    </tr>\n    <tr>\n      <td>3</td>\n      <td>016240b9a</td>\n      <td>7</td>\n      <td>0.465996</td>\n      <td>0.466204</td>\n      <td>0.453727</td>\n      <td>0.541098</td>\n      <td>0.398612</td>\n      <td>0.452411</td>\n      <td>0.436857</td>\n      <td>0.796326</td>\n      <td>...</td>\n      <td>0.476840</td>\n      <td>0.460637</td>\n      <td>0.463811</td>\n      <td>0.457967</td>\n      <td>0.514584</td>\n      <td>0.447766</td>\n      <td>0.446519</td>\n      <td>0.428659</td>\n      <td>0.892067</td>\n      <td>0.449527</td>\n    </tr>\n    <tr>\n      <td>4</td>\n      <td>0201197ec</td>\n      <td>7</td>\n      <td>0.436750</td>\n      <td>0.452039</td>\n      <td>0.444664</td>\n      <td>0.539586</td>\n      <td>0.428883</td>\n      <td>0.451046</td>\n      <td>0.443825</td>\n      <td>0.487557</td>\n      <td>...</td>\n      <td>0.484501</td>\n      <td>0.438181</td>\n      <td>0.451359</td>\n      <td>0.453430</td>\n      <td>0.493917</td>\n      <td>0.460186</td>\n      <td>0.454725</td>\n      <td>0.464221</td>\n      <td>0.361302</td>\n      <td>0.449332</td>\n    </tr>\n    <tr>\n      <td>...</td>\n      <td>...</td>\n      <td>...</td>\n      <td>...</td>\n      <td>...</td>\n      <td>...</td>\n      <td>...</td>\n      <td>...</td>\n      <td>...</td>\n      <td>...</td>\n      <td>...</td>\n      <td>...</td>\n      <td>...</td>\n      <td>...</td>\n      <td>...</td>\n      <td>...</td>\n      <td>...</td>\n      <td>...</td>\n      <td>...</td>\n      <td>...</td>\n      <td>...</td>\n      <td>...</td>\n    </tr>\n    <tr>\n      <td>940</td>\n      <td>fed5d1b9c</td>\n      <td>7</td>\n      <td>0.426298</td>\n      <td>0.435337</td>\n      <td>0.435393</td>\n      <td>0.753673</td>\n      <td>0.388594</td>\n      <td>0.446893</td>\n      <td>0.447995</td>\n      <td>0.462989</td>\n      <td>...</td>\n      <td>0.466818</td>\n      <td>0.884958</td>\n      <td>0.455009</td>\n      <td>0.721538</td>\n      <td>0.527045</td>\n      <td>0.445703</td>\n      <td>0.444197</td>\n      <td>0.433300</td>\n      <td>0.384709</td>\n      <td>0.444886</td>\n    </tr>\n    <tr>\n      <td>941</td>\n      <td>ff21001e6</td>\n      <td>7</td>\n      <td>0.469361</td>\n      <td>0.458458</td>\n      <td>0.465558</td>\n      <td>0.495746</td>\n      <td>0.398131</td>\n      <td>0.454231</td>\n      <td>0.441620</td>\n      <td>0.455911</td>\n      <td>...</td>\n      <td>0.458736</td>\n      <td>0.479534</td>\n      <td>0.772766</td>\n      <td>0.861122</td>\n      <td>0.483351</td>\n      <td>0.455442</td>\n      <td>0.643508</td>\n      <td>0.476961</td>\n      <td>0.383519</td>\n      <td>0.449168</td>\n    </tr>\n    <tr>\n      <td>942</td>\n      <td>ff22519ea</td>\n      <td>7</td>\n      <td>0.392210</td>\n      <td>0.453849</td>\n      <td>0.445089</td>\n      <td>0.498739</td>\n      <td>0.298126</td>\n      <td>0.433404</td>\n      <td>0.461345</td>\n      <td>0.918595</td>\n      <td>...</td>\n      <td>0.448448</td>\n      <td>0.878184</td>\n      <td>0.440573</td>\n      <td>0.423910</td>\n      <td>0.453643</td>\n      <td>0.452699</td>\n      <td>0.434945</td>\n      <td>0.419965</td>\n      <td>0.328728</td>\n      <td>0.465119</td>\n    </tr>\n    <tr>\n      <td>943</td>\n      <td>ff5c2d55f</td>\n      <td>7</td>\n      <td>0.384649</td>\n      <td>0.435181</td>\n      <td>0.415816</td>\n      <td>0.894334</td>\n      <td>0.409117</td>\n      <td>0.436287</td>\n      <td>0.452206</td>\n      <td>0.463865</td>\n      <td>...</td>\n      <td>0.447712</td>\n      <td>0.429667</td>\n      <td>0.411992</td>\n      <td>0.374894</td>\n      <td>0.875059</td>\n      <td>0.424601</td>\n      <td>0.397694</td>\n      <td>0.450199</td>\n      <td>0.424182</td>\n      <td>0.447077</td>\n    </tr>\n    <tr>\n      <td>944</td>\n      <td>ff7f876bd</td>\n      <td>7</td>\n      <td>0.399380</td>\n      <td>0.440231</td>\n      <td>0.430044</td>\n      <td>0.853317</td>\n      <td>0.417041</td>\n      <td>0.444343</td>\n      <td>0.455124</td>\n      <td>0.489265</td>\n      <td>...</td>\n      <td>0.492653</td>\n      <td>0.400995</td>\n      <td>0.381284</td>\n      <td>0.431198</td>\n      <td>0.920196</td>\n      <td>0.424057</td>\n      <td>0.408203</td>\n      <td>0.427719</td>\n      <td>0.426037</td>\n      <td>0.449255</td>\n    </tr>\n  </tbody>\n</table>\n<p>945 rows × 26 columns</p>\n</div>"
     },
     "metadata": {},
     "execution_count": 3
    }
   ],
   "source": [
    "oof2 = oof.groupby('recording_id').max().reset_index(drop=False)\n",
    "oof2"
   ]
  },
  {
   "cell_type": "code",
   "execution_count": 9,
   "metadata": {},
   "outputs": [
    {
     "output_type": "execute_result",
     "data": {
      "text/plain": [
       "      s0  s1  s2  s3  s4  s5  s6  s7  s8  s9  ...  s15  s16  s17  s18  s19  \\\n",
       "0      0   0   0   0   0   0   0   0   0   0  ...    0    0    0    0    0   \n",
       "1      0   0   0   0   0   0   0   0   0   0  ...    0    0    0    0    0   \n",
       "2      0   0   0   0   0   0   0   0   0   0  ...    0    0    0    0    0   \n",
       "3      0   0   0   0   0   0   0   0   0   0  ...    0    0    1    0    0   \n",
       "4      0   0   0   0   0   0   0   0   0   0  ...    0    0    0    0    0   \n",
       "...   ..  ..  ..  ..  ..  ..  ..  ..  ..  ..  ...  ...  ...  ...  ...  ...   \n",
       "1127   0   0   0   0   0   0   0   0   0   0  ...    0    0    0    0    0   \n",
       "1128   0   0   0   0   1   0   0   0   0   0  ...    0    0    0    0    0   \n",
       "1129   1   0   0   0   0   0   0   0   0   0  ...    0    0    0    0    0   \n",
       "1130   0   0   0   0   0   1   0   0   0   0  ...    0    0    0    0    0   \n",
       "1131   0   0   0   0   0   0   0   0   0   0  ...    0    0    0    1    0   \n",
       "\n",
       "      s20  s21  s22  s23  recording_id  \n",
       "0       0    0    0    0     003bec244  \n",
       "1       0    0    0    1     006ab765f  \n",
       "2       0    0    0    0     007f87ba2  \n",
       "3       0    0    0    0     0099c367b  \n",
       "4       0    0    0    0     009b760e6  \n",
       "...   ...  ...  ...  ...           ...  \n",
       "1127    0    0    0    0     fe8d9ac40  \n",
       "1128    0    0    0    0     fea6b438a  \n",
       "1129    0    0    0    0     ff2eb9ce5  \n",
       "1130    0    0    0    0     ffb8d8391  \n",
       "1131    0    0    0    0     ffb9a7b9a  \n",
       "\n",
       "[1132 rows x 25 columns]"
      ],
      "text/html": "<div>\n<style scoped>\n    .dataframe tbody tr th:only-of-type {\n        vertical-align: middle;\n    }\n\n    .dataframe tbody tr th {\n        vertical-align: top;\n    }\n\n    .dataframe thead th {\n        text-align: right;\n    }\n</style>\n<table border=\"1\" class=\"dataframe\">\n  <thead>\n    <tr style=\"text-align: right;\">\n      <th></th>\n      <th>s0</th>\n      <th>s1</th>\n      <th>s2</th>\n      <th>s3</th>\n      <th>s4</th>\n      <th>s5</th>\n      <th>s6</th>\n      <th>s7</th>\n      <th>s8</th>\n      <th>s9</th>\n      <th>...</th>\n      <th>s15</th>\n      <th>s16</th>\n      <th>s17</th>\n      <th>s18</th>\n      <th>s19</th>\n      <th>s20</th>\n      <th>s21</th>\n      <th>s22</th>\n      <th>s23</th>\n      <th>recording_id</th>\n    </tr>\n  </thead>\n  <tbody>\n    <tr>\n      <td>0</td>\n      <td>0</td>\n      <td>0</td>\n      <td>0</td>\n      <td>0</td>\n      <td>0</td>\n      <td>0</td>\n      <td>0</td>\n      <td>0</td>\n      <td>0</td>\n      <td>0</td>\n      <td>...</td>\n      <td>0</td>\n      <td>0</td>\n      <td>0</td>\n      <td>0</td>\n      <td>0</td>\n      <td>0</td>\n      <td>0</td>\n      <td>0</td>\n      <td>0</td>\n      <td>003bec244</td>\n    </tr>\n    <tr>\n      <td>1</td>\n      <td>0</td>\n      <td>0</td>\n      <td>0</td>\n      <td>0</td>\n      <td>0</td>\n      <td>0</td>\n      <td>0</td>\n      <td>0</td>\n      <td>0</td>\n      <td>0</td>\n      <td>...</td>\n      <td>0</td>\n      <td>0</td>\n      <td>0</td>\n      <td>0</td>\n      <td>0</td>\n      <td>0</td>\n      <td>0</td>\n      <td>0</td>\n      <td>1</td>\n      <td>006ab765f</td>\n    </tr>\n    <tr>\n      <td>2</td>\n      <td>0</td>\n      <td>0</td>\n      <td>0</td>\n      <td>0</td>\n      <td>0</td>\n      <td>0</td>\n      <td>0</td>\n      <td>0</td>\n      <td>0</td>\n      <td>0</td>\n      <td>...</td>\n      <td>0</td>\n      <td>0</td>\n      <td>0</td>\n      <td>0</td>\n      <td>0</td>\n      <td>0</td>\n      <td>0</td>\n      <td>0</td>\n      <td>0</td>\n      <td>007f87ba2</td>\n    </tr>\n    <tr>\n      <td>3</td>\n      <td>0</td>\n      <td>0</td>\n      <td>0</td>\n      <td>0</td>\n      <td>0</td>\n      <td>0</td>\n      <td>0</td>\n      <td>0</td>\n      <td>0</td>\n      <td>0</td>\n      <td>...</td>\n      <td>0</td>\n      <td>0</td>\n      <td>1</td>\n      <td>0</td>\n      <td>0</td>\n      <td>0</td>\n      <td>0</td>\n      <td>0</td>\n      <td>0</td>\n      <td>0099c367b</td>\n    </tr>\n    <tr>\n      <td>4</td>\n      <td>0</td>\n      <td>0</td>\n      <td>0</td>\n      <td>0</td>\n      <td>0</td>\n      <td>0</td>\n      <td>0</td>\n      <td>0</td>\n      <td>0</td>\n      <td>0</td>\n      <td>...</td>\n      <td>0</td>\n      <td>0</td>\n      <td>0</td>\n      <td>0</td>\n      <td>0</td>\n      <td>0</td>\n      <td>0</td>\n      <td>0</td>\n      <td>0</td>\n      <td>009b760e6</td>\n    </tr>\n    <tr>\n      <td>...</td>\n      <td>...</td>\n      <td>...</td>\n      <td>...</td>\n      <td>...</td>\n      <td>...</td>\n      <td>...</td>\n      <td>...</td>\n      <td>...</td>\n      <td>...</td>\n      <td>...</td>\n      <td>...</td>\n      <td>...</td>\n      <td>...</td>\n      <td>...</td>\n      <td>...</td>\n      <td>...</td>\n      <td>...</td>\n      <td>...</td>\n      <td>...</td>\n      <td>...</td>\n      <td>...</td>\n    </tr>\n    <tr>\n      <td>1127</td>\n      <td>0</td>\n      <td>0</td>\n      <td>0</td>\n      <td>0</td>\n      <td>0</td>\n      <td>0</td>\n      <td>0</td>\n      <td>0</td>\n      <td>0</td>\n      <td>0</td>\n      <td>...</td>\n      <td>0</td>\n      <td>0</td>\n      <td>0</td>\n      <td>0</td>\n      <td>0</td>\n      <td>0</td>\n      <td>0</td>\n      <td>0</td>\n      <td>0</td>\n      <td>fe8d9ac40</td>\n    </tr>\n    <tr>\n      <td>1128</td>\n      <td>0</td>\n      <td>0</td>\n      <td>0</td>\n      <td>0</td>\n      <td>1</td>\n      <td>0</td>\n      <td>0</td>\n      <td>0</td>\n      <td>0</td>\n      <td>0</td>\n      <td>...</td>\n      <td>0</td>\n      <td>0</td>\n      <td>0</td>\n      <td>0</td>\n      <td>0</td>\n      <td>0</td>\n      <td>0</td>\n      <td>0</td>\n      <td>0</td>\n      <td>fea6b438a</td>\n    </tr>\n    <tr>\n      <td>1129</td>\n      <td>1</td>\n      <td>0</td>\n      <td>0</td>\n      <td>0</td>\n      <td>0</td>\n      <td>0</td>\n      <td>0</td>\n      <td>0</td>\n      <td>0</td>\n      <td>0</td>\n      <td>...</td>\n      <td>0</td>\n      <td>0</td>\n      <td>0</td>\n      <td>0</td>\n      <td>0</td>\n      <td>0</td>\n      <td>0</td>\n      <td>0</td>\n      <td>0</td>\n      <td>ff2eb9ce5</td>\n    </tr>\n    <tr>\n      <td>1130</td>\n      <td>0</td>\n      <td>0</td>\n      <td>0</td>\n      <td>0</td>\n      <td>0</td>\n      <td>1</td>\n      <td>0</td>\n      <td>0</td>\n      <td>0</td>\n      <td>0</td>\n      <td>...</td>\n      <td>0</td>\n      <td>0</td>\n      <td>0</td>\n      <td>0</td>\n      <td>0</td>\n      <td>0</td>\n      <td>0</td>\n      <td>0</td>\n      <td>0</td>\n      <td>ffb8d8391</td>\n    </tr>\n    <tr>\n      <td>1131</td>\n      <td>0</td>\n      <td>0</td>\n      <td>0</td>\n      <td>0</td>\n      <td>0</td>\n      <td>0</td>\n      <td>0</td>\n      <td>0</td>\n      <td>0</td>\n      <td>0</td>\n      <td>...</td>\n      <td>0</td>\n      <td>0</td>\n      <td>0</td>\n      <td>1</td>\n      <td>0</td>\n      <td>0</td>\n      <td>0</td>\n      <td>0</td>\n      <td>0</td>\n      <td>ffb9a7b9a</td>\n    </tr>\n  </tbody>\n</table>\n<p>1132 rows × 25 columns</p>\n</div>"
     },
     "metadata": {},
     "execution_count": 9
    }
   ],
   "source": [
    "tp = pd.read_csv(\"../input/rfcx-species-audio-detection/train_tp.csv\")\n",
    "tp_fnames, tp_labels = [], []\n",
    "for recording_id, df in tp.groupby(\"recording_id\"):\n",
    "    v = sum([np.eye(24)[i] for i in df[\"species_id\"].tolist()])\n",
    "    v = (v >= 1).astype(int).tolist()\n",
    "    tp_fnames.append(recording_id)\n",
    "    tp_labels.append(v) \n",
    "\n",
    "tp2 = pd.DataFrame(tp_labels, columns=[f's{i}' for i in range(24)])\n",
    "tp2['recording_id'] = tp_fnames\n",
    "tp2 = tp2.sort_values('recording_id')\n",
    "tp2\n"
   ]
  },
  {
   "cell_type": "code",
   "execution_count": 10,
   "metadata": {},
   "outputs": [
    {
     "output_type": "execute_result",
     "data": {
      "text/plain": [
       "    recording_id  patch        s0        s1        s2        s3        s4  \\\n",
       "0      00b404881      7  0.457658  0.683583  0.411737  0.522533  0.472279   \n",
       "1      0201197ec      7  0.436750  0.452039  0.444664  0.539586  0.428883   \n",
       "2      04e70a8e3      7  0.384868  0.428216  0.437783  0.487168  0.276911   \n",
       "3      0509303a5      7  0.481310  0.413362  0.440338  0.514970  0.445257   \n",
       "4      055088446      7  0.456453  0.463032  0.449060  0.612704  0.502720   \n",
       "..           ...    ...       ...       ...       ...       ...       ...   \n",
       "221    f7d92975f      7  0.429196  0.471915  0.440813  0.520241  0.406832   \n",
       "222    f84b8c8d3      7  0.466143  0.470952  0.449599  0.571259  0.425192   \n",
       "223    f851b9605      7  0.451419  0.462992  0.456116  0.545601  0.453647   \n",
       "224    f8c661973      7  0.551693  0.460263  0.443456  0.599430  0.406221   \n",
       "225    fb5371e7b      7  0.454789  0.458827  0.408619  0.767528  0.422644   \n",
       "\n",
       "           s5        s6        s7  ...       s14       s15       s16  \\\n",
       "0    0.426853  0.411925  0.447021  ...  0.397360  0.493022  0.424349   \n",
       "1    0.451046  0.443825  0.487557  ...  0.484501  0.438181  0.451359   \n",
       "2    0.429094  0.547141  0.759387  ...  0.454329  0.637617  0.440533   \n",
       "3    0.436803  0.924495  0.889518  ...  0.487941  0.454207  0.442137   \n",
       "4    0.446806  0.438804  0.458646  ...  0.943255  0.457056  0.445069   \n",
       "..        ...       ...       ...  ...       ...       ...       ...   \n",
       "221  0.453295  0.439822  0.477745  ...  0.687799  0.440545  0.428323   \n",
       "222  0.454513  0.440441  0.461123  ...  0.462036  0.440402  0.446379   \n",
       "223  0.456228  0.565943  0.479422  ...  0.482771  0.446998  0.447589   \n",
       "224  0.450899  0.439017  0.521386  ...  0.450684  0.445378  0.933707   \n",
       "225  0.433101  0.433891  0.464611  ...  0.488315  0.712884  0.424765   \n",
       "\n",
       "          s17       s18       s19       s20       s21       s22       s23  \n",
       "0    0.440522  0.428826  0.410598  0.441342  0.954733  0.352460  0.434758  \n",
       "1    0.453430  0.493917  0.460186  0.454725  0.464221  0.361302  0.449332  \n",
       "2    0.424034  0.448813  0.450262  0.452378  0.396687  0.310519  0.521028  \n",
       "3    0.442218  0.485693  0.444976  0.449095  0.401669  0.476821  0.425618  \n",
       "4    0.459323  0.497114  0.467191  0.447296  0.966671  0.370602  0.459652  \n",
       "..        ...       ...       ...       ...       ...       ...       ...  \n",
       "221  0.434869  0.724554  0.461154  0.472691  0.439316  0.464412  0.888835  \n",
       "222  0.449042  0.497262  0.462361  0.450832  0.438249  0.363498  0.876409  \n",
       "223  0.460380  0.492869  0.459714  0.454553  0.462523  0.326789  0.445374  \n",
       "224  0.456061  0.478099  0.454060  0.475847  0.436708  0.412809  0.458287  \n",
       "225  0.397453  0.428170  0.407942  0.441253  0.452115  0.359371  0.882294  \n",
       "\n",
       "[226 rows x 26 columns]"
      ],
      "text/html": "<div>\n<style scoped>\n    .dataframe tbody tr th:only-of-type {\n        vertical-align: middle;\n    }\n\n    .dataframe tbody tr th {\n        vertical-align: top;\n    }\n\n    .dataframe thead th {\n        text-align: right;\n    }\n</style>\n<table border=\"1\" class=\"dataframe\">\n  <thead>\n    <tr style=\"text-align: right;\">\n      <th></th>\n      <th>recording_id</th>\n      <th>patch</th>\n      <th>s0</th>\n      <th>s1</th>\n      <th>s2</th>\n      <th>s3</th>\n      <th>s4</th>\n      <th>s5</th>\n      <th>s6</th>\n      <th>s7</th>\n      <th>...</th>\n      <th>s14</th>\n      <th>s15</th>\n      <th>s16</th>\n      <th>s17</th>\n      <th>s18</th>\n      <th>s19</th>\n      <th>s20</th>\n      <th>s21</th>\n      <th>s22</th>\n      <th>s23</th>\n    </tr>\n  </thead>\n  <tbody>\n    <tr>\n      <td>0</td>\n      <td>00b404881</td>\n      <td>7</td>\n      <td>0.457658</td>\n      <td>0.683583</td>\n      <td>0.411737</td>\n      <td>0.522533</td>\n      <td>0.472279</td>\n      <td>0.426853</td>\n      <td>0.411925</td>\n      <td>0.447021</td>\n      <td>...</td>\n      <td>0.397360</td>\n      <td>0.493022</td>\n      <td>0.424349</td>\n      <td>0.440522</td>\n      <td>0.428826</td>\n      <td>0.410598</td>\n      <td>0.441342</td>\n      <td>0.954733</td>\n      <td>0.352460</td>\n      <td>0.434758</td>\n    </tr>\n    <tr>\n      <td>1</td>\n      <td>0201197ec</td>\n      <td>7</td>\n      <td>0.436750</td>\n      <td>0.452039</td>\n      <td>0.444664</td>\n      <td>0.539586</td>\n      <td>0.428883</td>\n      <td>0.451046</td>\n      <td>0.443825</td>\n      <td>0.487557</td>\n      <td>...</td>\n      <td>0.484501</td>\n      <td>0.438181</td>\n      <td>0.451359</td>\n      <td>0.453430</td>\n      <td>0.493917</td>\n      <td>0.460186</td>\n      <td>0.454725</td>\n      <td>0.464221</td>\n      <td>0.361302</td>\n      <td>0.449332</td>\n    </tr>\n    <tr>\n      <td>2</td>\n      <td>04e70a8e3</td>\n      <td>7</td>\n      <td>0.384868</td>\n      <td>0.428216</td>\n      <td>0.437783</td>\n      <td>0.487168</td>\n      <td>0.276911</td>\n      <td>0.429094</td>\n      <td>0.547141</td>\n      <td>0.759387</td>\n      <td>...</td>\n      <td>0.454329</td>\n      <td>0.637617</td>\n      <td>0.440533</td>\n      <td>0.424034</td>\n      <td>0.448813</td>\n      <td>0.450262</td>\n      <td>0.452378</td>\n      <td>0.396687</td>\n      <td>0.310519</td>\n      <td>0.521028</td>\n    </tr>\n    <tr>\n      <td>3</td>\n      <td>0509303a5</td>\n      <td>7</td>\n      <td>0.481310</td>\n      <td>0.413362</td>\n      <td>0.440338</td>\n      <td>0.514970</td>\n      <td>0.445257</td>\n      <td>0.436803</td>\n      <td>0.924495</td>\n      <td>0.889518</td>\n      <td>...</td>\n      <td>0.487941</td>\n      <td>0.454207</td>\n      <td>0.442137</td>\n      <td>0.442218</td>\n      <td>0.485693</td>\n      <td>0.444976</td>\n      <td>0.449095</td>\n      <td>0.401669</td>\n      <td>0.476821</td>\n      <td>0.425618</td>\n    </tr>\n    <tr>\n      <td>4</td>\n      <td>055088446</td>\n      <td>7</td>\n      <td>0.456453</td>\n      <td>0.463032</td>\n      <td>0.449060</td>\n      <td>0.612704</td>\n      <td>0.502720</td>\n      <td>0.446806</td>\n      <td>0.438804</td>\n      <td>0.458646</td>\n      <td>...</td>\n      <td>0.943255</td>\n      <td>0.457056</td>\n      <td>0.445069</td>\n      <td>0.459323</td>\n      <td>0.497114</td>\n      <td>0.467191</td>\n      <td>0.447296</td>\n      <td>0.966671</td>\n      <td>0.370602</td>\n      <td>0.459652</td>\n    </tr>\n    <tr>\n      <td>...</td>\n      <td>...</td>\n      <td>...</td>\n      <td>...</td>\n      <td>...</td>\n      <td>...</td>\n      <td>...</td>\n      <td>...</td>\n      <td>...</td>\n      <td>...</td>\n      <td>...</td>\n      <td>...</td>\n      <td>...</td>\n      <td>...</td>\n      <td>...</td>\n      <td>...</td>\n      <td>...</td>\n      <td>...</td>\n      <td>...</td>\n      <td>...</td>\n      <td>...</td>\n      <td>...</td>\n    </tr>\n    <tr>\n      <td>221</td>\n      <td>f7d92975f</td>\n      <td>7</td>\n      <td>0.429196</td>\n      <td>0.471915</td>\n      <td>0.440813</td>\n      <td>0.520241</td>\n      <td>0.406832</td>\n      <td>0.453295</td>\n      <td>0.439822</td>\n      <td>0.477745</td>\n      <td>...</td>\n      <td>0.687799</td>\n      <td>0.440545</td>\n      <td>0.428323</td>\n      <td>0.434869</td>\n      <td>0.724554</td>\n      <td>0.461154</td>\n      <td>0.472691</td>\n      <td>0.439316</td>\n      <td>0.464412</td>\n      <td>0.888835</td>\n    </tr>\n    <tr>\n      <td>222</td>\n      <td>f84b8c8d3</td>\n      <td>7</td>\n      <td>0.466143</td>\n      <td>0.470952</td>\n      <td>0.449599</td>\n      <td>0.571259</td>\n      <td>0.425192</td>\n      <td>0.454513</td>\n      <td>0.440441</td>\n      <td>0.461123</td>\n      <td>...</td>\n      <td>0.462036</td>\n      <td>0.440402</td>\n      <td>0.446379</td>\n      <td>0.449042</td>\n      <td>0.497262</td>\n      <td>0.462361</td>\n      <td>0.450832</td>\n      <td>0.438249</td>\n      <td>0.363498</td>\n      <td>0.876409</td>\n    </tr>\n    <tr>\n      <td>223</td>\n      <td>f851b9605</td>\n      <td>7</td>\n      <td>0.451419</td>\n      <td>0.462992</td>\n      <td>0.456116</td>\n      <td>0.545601</td>\n      <td>0.453647</td>\n      <td>0.456228</td>\n      <td>0.565943</td>\n      <td>0.479422</td>\n      <td>...</td>\n      <td>0.482771</td>\n      <td>0.446998</td>\n      <td>0.447589</td>\n      <td>0.460380</td>\n      <td>0.492869</td>\n      <td>0.459714</td>\n      <td>0.454553</td>\n      <td>0.462523</td>\n      <td>0.326789</td>\n      <td>0.445374</td>\n    </tr>\n    <tr>\n      <td>224</td>\n      <td>f8c661973</td>\n      <td>7</td>\n      <td>0.551693</td>\n      <td>0.460263</td>\n      <td>0.443456</td>\n      <td>0.599430</td>\n      <td>0.406221</td>\n      <td>0.450899</td>\n      <td>0.439017</td>\n      <td>0.521386</td>\n      <td>...</td>\n      <td>0.450684</td>\n      <td>0.445378</td>\n      <td>0.933707</td>\n      <td>0.456061</td>\n      <td>0.478099</td>\n      <td>0.454060</td>\n      <td>0.475847</td>\n      <td>0.436708</td>\n      <td>0.412809</td>\n      <td>0.458287</td>\n    </tr>\n    <tr>\n      <td>225</td>\n      <td>fb5371e7b</td>\n      <td>7</td>\n      <td>0.454789</td>\n      <td>0.458827</td>\n      <td>0.408619</td>\n      <td>0.767528</td>\n      <td>0.422644</td>\n      <td>0.433101</td>\n      <td>0.433891</td>\n      <td>0.464611</td>\n      <td>...</td>\n      <td>0.488315</td>\n      <td>0.712884</td>\n      <td>0.424765</td>\n      <td>0.397453</td>\n      <td>0.428170</td>\n      <td>0.407942</td>\n      <td>0.441253</td>\n      <td>0.452115</td>\n      <td>0.359371</td>\n      <td>0.882294</td>\n    </tr>\n  </tbody>\n</table>\n<p>226 rows × 26 columns</p>\n</div>"
     },
     "metadata": {},
     "execution_count": 10
    }
   ],
   "source": [
    "tp_oof = oof2[oof2['recording_id'].isin(tp2['recording_id'])].reset_index(drop=True).sort_values('recording_id')\n",
    "tp_oof"
   ]
  },
  {
   "cell_type": "code",
   "execution_count": 11,
   "metadata": {},
   "outputs": [],
   "source": [
    "tp2 = tp2[tp2[\"recording_id\"].isin(tp_oof[\"recording_id\"])]"
   ]
  },
  {
   "cell_type": "code",
   "execution_count": 12,
   "metadata": {},
   "outputs": [],
   "source": [
    "pred = tp_oof.loc[:, 's0':'s23'].values\n",
    "target = tp2.loc[:, 's0':'s23'].values"
   ]
  },
  {
   "cell_type": "code",
   "execution_count": 13,
   "metadata": {},
   "outputs": [
    {
     "output_type": "execute_result",
     "data": {
      "text/plain": [
       "array([0.9875    , 0.98888889, 0.99545455, 0.79351852, 0.95      ,\n",
       "       0.99398148, 0.99283154, 0.93611111, 0.98287037, 0.9969697 ,\n",
       "       0.98425926, 0.96388889, 0.9837963 , 0.99305556, 0.99490741,\n",
       "       0.96620584, 0.99897593, 0.99259259, 0.96064815, 0.99942661,\n",
       "       0.99598624, 0.96296296, 0.99539171, 0.99718548])"
      ]
     },
     "metadata": {},
     "execution_count": 13
    }
   ],
   "source": [
    "from sklearn.metrics import roc_auc_score\n",
    "import matplotlib.pyplot as plt\n",
    "auc = roc_auc_score(target, pred, average=None)\n",
    "auc"
   ]
  },
  {
   "cell_type": "code",
   "execution_count": 14,
   "metadata": {},
   "outputs": [
    {
     "output_type": "execute_result",
     "data": {
      "text/plain": [
       "<BarContainer object of 24 artists>"
      ]
     },
     "metadata": {},
     "execution_count": 14
    },
    {
     "output_type": "display_data",
     "data": {
      "text/plain": "<Figure size 432x288 with 1 Axes>",
      "image/svg+xml": "<?xml version=\"1.0\" encoding=\"utf-8\" standalone=\"no\"?>\n<!DOCTYPE svg PUBLIC \"-//W3C//DTD SVG 1.1//EN\"\n  \"http://www.w3.org/Graphics/SVG/1.1/DTD/svg11.dtd\">\n<!-- Created with matplotlib (https://matplotlib.org/) -->\n<svg height=\"248.518125pt\" version=\"1.1\" viewBox=\"0 0 372.103125 248.518125\" width=\"372.103125pt\" xmlns=\"http://www.w3.org/2000/svg\" xmlns:xlink=\"http://www.w3.org/1999/xlink\">\n <defs>\n  <style type=\"text/css\">\n*{stroke-linecap:butt;stroke-linejoin:round;}\n  </style>\n </defs>\n <g id=\"figure_1\">\n  <g id=\"patch_1\">\n   <path d=\"M 0 248.518125 \nL 372.103125 248.518125 \nL 372.103125 0 \nL 0 0 \nz\n\" style=\"fill:none;\"/>\n  </g>\n  <g id=\"axes_1\">\n   <g id=\"patch_2\">\n    <path d=\"M 30.103125 224.64 \nL 364.903125 224.64 \nL 364.903125 7.2 \nL 30.103125 7.2 \nz\n\" style=\"fill:#ffffff;\"/>\n   </g>\n   <g id=\"patch_3\">\n    <path clip-path=\"url(#p86d6c31dc8)\" d=\"M 45.321307 224.64 \nL 55.552017 224.64 \nL 55.552017 20.025532 \nL 45.321307 20.025532 \nz\n\" style=\"fill:#1f77b4;\"/>\n   </g>\n   <g id=\"patch_4\">\n    <path clip-path=\"url(#p86d6c31dc8)\" d=\"M 58.109695 224.64 \nL 68.340405 224.64 \nL 68.340405 19.737748 \nL 58.109695 19.737748 \nz\n\" style=\"fill:#1f77b4;\"/>\n   </g>\n   <g id=\"patch_5\">\n    <path clip-path=\"url(#p86d6c31dc8)\" d=\"M 70.898083 224.64 \nL 81.128793 224.64 \nL 81.128793 18.377315 \nL 70.898083 18.377315 \nz\n\" style=\"fill:#1f77b4;\"/>\n   </g>\n   <g id=\"patch_6\">\n    <path clip-path=\"url(#p86d6c31dc8)\" d=\"M 83.686471 224.64 \nL 93.917182 224.64 \nL 93.917182 60.219373 \nL 83.686471 60.219373 \nz\n\" style=\"fill:#1f77b4;\"/>\n   </g>\n   <g id=\"patch_7\">\n    <path clip-path=\"url(#p86d6c31dc8)\" d=\"M 96.474859 224.64 \nL 106.70557 224.64 \nL 106.70557 27.795702 \nL 96.474859 27.795702 \nz\n\" style=\"fill:#1f77b4;\"/>\n   </g>\n   <g id=\"patch_8\">\n    <path clip-path=\"url(#p86d6c31dc8)\" d=\"M 109.263247 224.64 \nL 119.493958 224.64 \nL 119.493958 18.68254 \nL 109.263247 18.68254 \nz\n\" style=\"fill:#1f77b4;\"/>\n   </g>\n   <g id=\"patch_9\">\n    <path clip-path=\"url(#p86d6c31dc8)\" d=\"M 122.051635 224.64 \nL 132.282346 224.64 \nL 132.282346 18.920813 \nL 122.051635 18.920813 \nz\n\" style=\"fill:#1f77b4;\"/>\n   </g>\n   <g id=\"patch_10\">\n    <path clip-path=\"url(#p86d6c31dc8)\" d=\"M 134.840023 224.64 \nL 145.070734 224.64 \nL 145.070734 30.673543 \nL 134.840023 30.673543 \nz\n\" style=\"fill:#1f77b4;\"/>\n   </g>\n   <g id=\"patch_11\">\n    <path clip-path=\"url(#p86d6c31dc8)\" d=\"M 147.628411 224.64 \nL 157.859122 224.64 \nL 157.859122 20.984813 \nL 147.628411 20.984813 \nz\n\" style=\"fill:#1f77b4;\"/>\n   </g>\n   <g id=\"patch_12\">\n    <path clip-path=\"url(#p86d6c31dc8)\" d=\"M 160.4168 224.64 \nL 170.64751 224.64 \nL 170.64751 18.063368 \nL 160.4168 18.063368 \nz\n\" style=\"fill:#1f77b4;\"/>\n   </g>\n   <g id=\"patch_13\">\n    <path clip-path=\"url(#p86d6c31dc8)\" d=\"M 173.205188 224.64 \nL 183.435898 224.64 \nL 183.435898 20.697028 \nL 173.205188 20.697028 \nz\n\" style=\"fill:#1f77b4;\"/>\n   </g>\n   <g id=\"patch_14\">\n    <path clip-path=\"url(#p86d6c31dc8)\" d=\"M 185.993576 224.64 \nL 196.224286 224.64 \nL 196.224286 24.917861 \nL 185.993576 24.917861 \nz\n\" style=\"fill:#1f77b4;\"/>\n   </g>\n   <g id=\"patch_15\">\n    <path clip-path=\"url(#p86d6c31dc8)\" d=\"M 198.781964 224.64 \nL 209.012674 224.64 \nL 209.012674 20.792956 \nL 198.781964 20.792956 \nz\n\" style=\"fill:#1f77b4;\"/>\n   </g>\n   <g id=\"patch_16\">\n    <path clip-path=\"url(#p86d6c31dc8)\" d=\"M 211.570352 224.64 \nL 221.801062 224.64 \nL 221.801062 18.874396 \nL 211.570352 18.874396 \nz\n\" style=\"fill:#1f77b4;\"/>\n   </g>\n   <g id=\"patch_17\">\n    <path clip-path=\"url(#p86d6c31dc8)\" d=\"M 224.35874 224.64 \nL 234.58945 224.64 \nL 234.58945 18.490684 \nL 224.35874 18.490684 \nz\n\" style=\"fill:#1f77b4;\"/>\n   </g>\n   <g id=\"patch_18\">\n    <path clip-path=\"url(#p86d6c31dc8)\" d=\"M 237.147128 224.64 \nL 247.377839 224.64 \nL 247.377839 24.437779 \nL 237.147128 24.437779 \nz\n\" style=\"fill:#1f77b4;\"/>\n   </g>\n   <g id=\"patch_19\">\n    <path clip-path=\"url(#p86d6c31dc8)\" d=\"M 249.935516 224.64 \nL 260.166227 224.64 \nL 260.166227 17.647667 \nL 249.935516 17.647667 \nz\n\" style=\"fill:#1f77b4;\"/>\n   </g>\n   <g id=\"patch_20\">\n    <path clip-path=\"url(#p86d6c31dc8)\" d=\"M 262.723904 224.64 \nL 272.954615 224.64 \nL 272.954615 18.970324 \nL 262.723904 18.970324 \nz\n\" style=\"fill:#1f77b4;\"/>\n   </g>\n   <g id=\"patch_21\">\n    <path clip-path=\"url(#p86d6c31dc8)\" d=\"M 275.512292 224.64 \nL 285.743003 224.64 \nL 285.743003 25.589358 \nL 275.512292 25.589358 \nz\n\" style=\"fill:#1f77b4;\"/>\n   </g>\n   <g id=\"patch_22\">\n    <path clip-path=\"url(#p86d6c31dc8)\" d=\"M 288.30068 224.64 \nL 298.531391 224.64 \nL 298.531391 17.554286 \nL 288.30068 17.554286 \nz\n\" style=\"fill:#1f77b4;\"/>\n   </g>\n   <g id=\"patch_23\">\n    <path clip-path=\"url(#p86d6c31dc8)\" d=\"M 301.089068 224.64 \nL 311.319779 224.64 \nL 311.319779 18.267145 \nL 301.089068 18.267145 \nz\n\" style=\"fill:#1f77b4;\"/>\n   </g>\n   <g id=\"patch_24\">\n    <path clip-path=\"url(#p86d6c31dc8)\" d=\"M 313.877457 224.64 \nL 324.108167 224.64 \nL 324.108167 25.109717 \nL 313.877457 25.109717 \nz\n\" style=\"fill:#1f77b4;\"/>\n   </g>\n   <g id=\"patch_25\">\n    <path clip-path=\"url(#p86d6c31dc8)\" d=\"M 326.665845 224.64 \nL 336.896555 224.64 \nL 336.896555 18.390335 \nL 326.665845 18.390335 \nz\n\" style=\"fill:#1f77b4;\"/>\n   </g>\n   <g id=\"patch_26\">\n    <path clip-path=\"url(#p86d6c31dc8)\" d=\"M 339.454233 224.64 \nL 349.684943 224.64 \nL 349.684943 18.018658 \nL 339.454233 18.018658 \nz\n\" style=\"fill:#1f77b4;\"/>\n   </g>\n   <g id=\"matplotlib.axis_1\">\n    <g id=\"xtick_1\">\n     <g id=\"line2d_1\">\n      <defs>\n       <path d=\"M 0 0 \nL 0 3.5 \n\" id=\"m820d171d3e\" style=\"stroke:#000000;stroke-width:0.8;\"/>\n      </defs>\n      <g>\n       <use style=\"stroke:#000000;stroke-width:0.8;\" x=\"50.436662\" xlink:href=\"#m820d171d3e\" y=\"224.64\"/>\n      </g>\n     </g>\n     <g id=\"text_1\">\n      <!-- 0 -->\n      <defs>\n       <path d=\"M 31.78125 66.40625 \nQ 24.171875 66.40625 20.328125 58.90625 \nQ 16.5 51.421875 16.5 36.375 \nQ 16.5 21.390625 20.328125 13.890625 \nQ 24.171875 6.390625 31.78125 6.390625 \nQ 39.453125 6.390625 43.28125 13.890625 \nQ 47.125 21.390625 47.125 36.375 \nQ 47.125 51.421875 43.28125 58.90625 \nQ 39.453125 66.40625 31.78125 66.40625 \nz\nM 31.78125 74.21875 \nQ 44.046875 74.21875 50.515625 64.515625 \nQ 56.984375 54.828125 56.984375 36.375 \nQ 56.984375 17.96875 50.515625 8.265625 \nQ 44.046875 -1.421875 31.78125 -1.421875 \nQ 19.53125 -1.421875 13.0625 8.265625 \nQ 6.59375 17.96875 6.59375 36.375 \nQ 6.59375 54.828125 13.0625 64.515625 \nQ 19.53125 74.21875 31.78125 74.21875 \nz\n\" id=\"DejaVuSans-48\"/>\n      </defs>\n      <g transform=\"translate(47.255412 239.238438)scale(0.1 -0.1)\">\n       <use xlink:href=\"#DejaVuSans-48\"/>\n      </g>\n     </g>\n    </g>\n    <g id=\"xtick_2\">\n     <g id=\"line2d_2\">\n      <g>\n       <use style=\"stroke:#000000;stroke-width:0.8;\" x=\"114.378602\" xlink:href=\"#m820d171d3e\" y=\"224.64\"/>\n      </g>\n     </g>\n     <g id=\"text_2\">\n      <!-- 5 -->\n      <defs>\n       <path d=\"M 10.796875 72.90625 \nL 49.515625 72.90625 \nL 49.515625 64.59375 \nL 19.828125 64.59375 \nL 19.828125 46.734375 \nQ 21.96875 47.46875 24.109375 47.828125 \nQ 26.265625 48.1875 28.421875 48.1875 \nQ 40.625 48.1875 47.75 41.5 \nQ 54.890625 34.8125 54.890625 23.390625 \nQ 54.890625 11.625 47.5625 5.09375 \nQ 40.234375 -1.421875 26.90625 -1.421875 \nQ 22.3125 -1.421875 17.546875 -0.640625 \nQ 12.796875 0.140625 7.71875 1.703125 \nL 7.71875 11.625 \nQ 12.109375 9.234375 16.796875 8.0625 \nQ 21.484375 6.890625 26.703125 6.890625 \nQ 35.15625 6.890625 40.078125 11.328125 \nQ 45.015625 15.765625 45.015625 23.390625 \nQ 45.015625 31 40.078125 35.4375 \nQ 35.15625 39.890625 26.703125 39.890625 \nQ 22.75 39.890625 18.8125 39.015625 \nQ 14.890625 38.140625 10.796875 36.28125 \nz\n\" id=\"DejaVuSans-53\"/>\n      </defs>\n      <g transform=\"translate(111.197352 239.238438)scale(0.1 -0.1)\">\n       <use xlink:href=\"#DejaVuSans-53\"/>\n      </g>\n     </g>\n    </g>\n    <g id=\"xtick_3\">\n     <g id=\"line2d_3\">\n      <g>\n       <use style=\"stroke:#000000;stroke-width:0.8;\" x=\"178.320543\" xlink:href=\"#m820d171d3e\" y=\"224.64\"/>\n      </g>\n     </g>\n     <g id=\"text_3\">\n      <!-- 10 -->\n      <defs>\n       <path d=\"M 12.40625 8.296875 \nL 28.515625 8.296875 \nL 28.515625 63.921875 \nL 10.984375 60.40625 \nL 10.984375 69.390625 \nL 28.421875 72.90625 \nL 38.28125 72.90625 \nL 38.28125 8.296875 \nL 54.390625 8.296875 \nL 54.390625 0 \nL 12.40625 0 \nz\n\" id=\"DejaVuSans-49\"/>\n      </defs>\n      <g transform=\"translate(171.958043 239.238438)scale(0.1 -0.1)\">\n       <use xlink:href=\"#DejaVuSans-49\"/>\n       <use x=\"63.623047\" xlink:href=\"#DejaVuSans-48\"/>\n      </g>\n     </g>\n    </g>\n    <g id=\"xtick_4\">\n     <g id=\"line2d_4\">\n      <g>\n       <use style=\"stroke:#000000;stroke-width:0.8;\" x=\"242.262483\" xlink:href=\"#m820d171d3e\" y=\"224.64\"/>\n      </g>\n     </g>\n     <g id=\"text_4\">\n      <!-- 15 -->\n      <g transform=\"translate(235.899983 239.238438)scale(0.1 -0.1)\">\n       <use xlink:href=\"#DejaVuSans-49\"/>\n       <use x=\"63.623047\" xlink:href=\"#DejaVuSans-53\"/>\n      </g>\n     </g>\n    </g>\n    <g id=\"xtick_5\">\n     <g id=\"line2d_5\">\n      <g>\n       <use style=\"stroke:#000000;stroke-width:0.8;\" x=\"306.204424\" xlink:href=\"#m820d171d3e\" y=\"224.64\"/>\n      </g>\n     </g>\n     <g id=\"text_5\">\n      <!-- 20 -->\n      <defs>\n       <path d=\"M 19.1875 8.296875 \nL 53.609375 8.296875 \nL 53.609375 0 \nL 7.328125 0 \nL 7.328125 8.296875 \nQ 12.9375 14.109375 22.625 23.890625 \nQ 32.328125 33.6875 34.8125 36.53125 \nQ 39.546875 41.84375 41.421875 45.53125 \nQ 43.3125 49.21875 43.3125 52.78125 \nQ 43.3125 58.59375 39.234375 62.25 \nQ 35.15625 65.921875 28.609375 65.921875 \nQ 23.96875 65.921875 18.8125 64.3125 \nQ 13.671875 62.703125 7.8125 59.421875 \nL 7.8125 69.390625 \nQ 13.765625 71.78125 18.9375 73 \nQ 24.125 74.21875 28.421875 74.21875 \nQ 39.75 74.21875 46.484375 68.546875 \nQ 53.21875 62.890625 53.21875 53.421875 \nQ 53.21875 48.921875 51.53125 44.890625 \nQ 49.859375 40.875 45.40625 35.40625 \nQ 44.1875 33.984375 37.640625 27.21875 \nQ 31.109375 20.453125 19.1875 8.296875 \nz\n\" id=\"DejaVuSans-50\"/>\n      </defs>\n      <g transform=\"translate(299.841924 239.238438)scale(0.1 -0.1)\">\n       <use xlink:href=\"#DejaVuSans-50\"/>\n       <use x=\"63.623047\" xlink:href=\"#DejaVuSans-48\"/>\n      </g>\n     </g>\n    </g>\n   </g>\n   <g id=\"matplotlib.axis_2\">\n    <g id=\"ytick_1\">\n     <g id=\"line2d_6\">\n      <defs>\n       <path d=\"M 0 0 \nL -3.5 0 \n\" id=\"ma20a1c295f\" style=\"stroke:#000000;stroke-width:0.8;\"/>\n      </defs>\n      <g>\n       <use style=\"stroke:#000000;stroke-width:0.8;\" x=\"30.103125\" xlink:href=\"#ma20a1c295f\" y=\"224.64\"/>\n      </g>\n     </g>\n     <g id=\"text_6\">\n      <!-- 0.0 -->\n      <defs>\n       <path d=\"M 10.6875 12.40625 \nL 21 12.40625 \nL 21 0 \nL 10.6875 0 \nz\n\" id=\"DejaVuSans-46\"/>\n      </defs>\n      <g transform=\"translate(7.2 228.439219)scale(0.1 -0.1)\">\n       <use xlink:href=\"#DejaVuSans-48\"/>\n       <use x=\"63.623047\" xlink:href=\"#DejaVuSans-46\"/>\n       <use x=\"95.410156\" xlink:href=\"#DejaVuSans-48\"/>\n      </g>\n     </g>\n    </g>\n    <g id=\"ytick_2\">\n     <g id=\"line2d_7\">\n      <g>\n       <use style=\"stroke:#000000;stroke-width:0.8;\" x=\"30.103125\" xlink:href=\"#ma20a1c295f\" y=\"183.199095\"/>\n      </g>\n     </g>\n     <g id=\"text_7\">\n      <!-- 0.2 -->\n      <g transform=\"translate(7.2 186.998314)scale(0.1 -0.1)\">\n       <use xlink:href=\"#DejaVuSans-48\"/>\n       <use x=\"63.623047\" xlink:href=\"#DejaVuSans-46\"/>\n       <use x=\"95.410156\" xlink:href=\"#DejaVuSans-50\"/>\n      </g>\n     </g>\n    </g>\n    <g id=\"ytick_3\">\n     <g id=\"line2d_8\">\n      <g>\n       <use style=\"stroke:#000000;stroke-width:0.8;\" x=\"30.103125\" xlink:href=\"#ma20a1c295f\" y=\"141.75819\"/>\n      </g>\n     </g>\n     <g id=\"text_8\">\n      <!-- 0.4 -->\n      <defs>\n       <path d=\"M 37.796875 64.3125 \nL 12.890625 25.390625 \nL 37.796875 25.390625 \nz\nM 35.203125 72.90625 \nL 47.609375 72.90625 \nL 47.609375 25.390625 \nL 58.015625 25.390625 \nL 58.015625 17.1875 \nL 47.609375 17.1875 \nL 47.609375 0 \nL 37.796875 0 \nL 37.796875 17.1875 \nL 4.890625 17.1875 \nL 4.890625 26.703125 \nz\n\" id=\"DejaVuSans-52\"/>\n      </defs>\n      <g transform=\"translate(7.2 145.557409)scale(0.1 -0.1)\">\n       <use xlink:href=\"#DejaVuSans-48\"/>\n       <use x=\"63.623047\" xlink:href=\"#DejaVuSans-46\"/>\n       <use x=\"95.410156\" xlink:href=\"#DejaVuSans-52\"/>\n      </g>\n     </g>\n    </g>\n    <g id=\"ytick_4\">\n     <g id=\"line2d_9\">\n      <g>\n       <use style=\"stroke:#000000;stroke-width:0.8;\" x=\"30.103125\" xlink:href=\"#ma20a1c295f\" y=\"100.317285\"/>\n      </g>\n     </g>\n     <g id=\"text_9\">\n      <!-- 0.6 -->\n      <defs>\n       <path d=\"M 33.015625 40.375 \nQ 26.375 40.375 22.484375 35.828125 \nQ 18.609375 31.296875 18.609375 23.390625 \nQ 18.609375 15.53125 22.484375 10.953125 \nQ 26.375 6.390625 33.015625 6.390625 \nQ 39.65625 6.390625 43.53125 10.953125 \nQ 47.40625 15.53125 47.40625 23.390625 \nQ 47.40625 31.296875 43.53125 35.828125 \nQ 39.65625 40.375 33.015625 40.375 \nz\nM 52.59375 71.296875 \nL 52.59375 62.3125 \nQ 48.875 64.0625 45.09375 64.984375 \nQ 41.3125 65.921875 37.59375 65.921875 \nQ 27.828125 65.921875 22.671875 59.328125 \nQ 17.53125 52.734375 16.796875 39.40625 \nQ 19.671875 43.65625 24.015625 45.921875 \nQ 28.375 48.1875 33.59375 48.1875 \nQ 44.578125 48.1875 50.953125 41.515625 \nQ 57.328125 34.859375 57.328125 23.390625 \nQ 57.328125 12.15625 50.6875 5.359375 \nQ 44.046875 -1.421875 33.015625 -1.421875 \nQ 20.359375 -1.421875 13.671875 8.265625 \nQ 6.984375 17.96875 6.984375 36.375 \nQ 6.984375 53.65625 15.1875 63.9375 \nQ 23.390625 74.21875 37.203125 74.21875 \nQ 40.921875 74.21875 44.703125 73.484375 \nQ 48.484375 72.75 52.59375 71.296875 \nz\n\" id=\"DejaVuSans-54\"/>\n      </defs>\n      <g transform=\"translate(7.2 104.116504)scale(0.1 -0.1)\">\n       <use xlink:href=\"#DejaVuSans-48\"/>\n       <use x=\"63.623047\" xlink:href=\"#DejaVuSans-46\"/>\n       <use x=\"95.410156\" xlink:href=\"#DejaVuSans-54\"/>\n      </g>\n     </g>\n    </g>\n    <g id=\"ytick_5\">\n     <g id=\"line2d_10\">\n      <g>\n       <use style=\"stroke:#000000;stroke-width:0.8;\" x=\"30.103125\" xlink:href=\"#ma20a1c295f\" y=\"58.876381\"/>\n      </g>\n     </g>\n     <g id=\"text_10\">\n      <!-- 0.8 -->\n      <defs>\n       <path d=\"M 31.78125 34.625 \nQ 24.75 34.625 20.71875 30.859375 \nQ 16.703125 27.09375 16.703125 20.515625 \nQ 16.703125 13.921875 20.71875 10.15625 \nQ 24.75 6.390625 31.78125 6.390625 \nQ 38.8125 6.390625 42.859375 10.171875 \nQ 46.921875 13.96875 46.921875 20.515625 \nQ 46.921875 27.09375 42.890625 30.859375 \nQ 38.875 34.625 31.78125 34.625 \nz\nM 21.921875 38.8125 \nQ 15.578125 40.375 12.03125 44.71875 \nQ 8.5 49.078125 8.5 55.328125 \nQ 8.5 64.0625 14.71875 69.140625 \nQ 20.953125 74.21875 31.78125 74.21875 \nQ 42.671875 74.21875 48.875 69.140625 \nQ 55.078125 64.0625 55.078125 55.328125 \nQ 55.078125 49.078125 51.53125 44.71875 \nQ 48 40.375 41.703125 38.8125 \nQ 48.828125 37.15625 52.796875 32.3125 \nQ 56.78125 27.484375 56.78125 20.515625 \nQ 56.78125 9.90625 50.3125 4.234375 \nQ 43.84375 -1.421875 31.78125 -1.421875 \nQ 19.734375 -1.421875 13.25 4.234375 \nQ 6.78125 9.90625 6.78125 20.515625 \nQ 6.78125 27.484375 10.78125 32.3125 \nQ 14.796875 37.15625 21.921875 38.8125 \nz\nM 18.3125 54.390625 \nQ 18.3125 48.734375 21.84375 45.5625 \nQ 25.390625 42.390625 31.78125 42.390625 \nQ 38.140625 42.390625 41.71875 45.5625 \nQ 45.3125 48.734375 45.3125 54.390625 \nQ 45.3125 60.0625 41.71875 63.234375 \nQ 38.140625 66.40625 31.78125 66.40625 \nQ 25.390625 66.40625 21.84375 63.234375 \nQ 18.3125 60.0625 18.3125 54.390625 \nz\n\" id=\"DejaVuSans-56\"/>\n      </defs>\n      <g transform=\"translate(7.2 62.675599)scale(0.1 -0.1)\">\n       <use xlink:href=\"#DejaVuSans-48\"/>\n       <use x=\"63.623047\" xlink:href=\"#DejaVuSans-46\"/>\n       <use x=\"95.410156\" xlink:href=\"#DejaVuSans-56\"/>\n      </g>\n     </g>\n    </g>\n    <g id=\"ytick_6\">\n     <g id=\"line2d_11\">\n      <g>\n       <use style=\"stroke:#000000;stroke-width:0.8;\" x=\"30.103125\" xlink:href=\"#ma20a1c295f\" y=\"17.435476\"/>\n      </g>\n     </g>\n     <g id=\"text_11\">\n      <!-- 1.0 -->\n      <g transform=\"translate(7.2 21.234695)scale(0.1 -0.1)\">\n       <use xlink:href=\"#DejaVuSans-49\"/>\n       <use x=\"63.623047\" xlink:href=\"#DejaVuSans-46\"/>\n       <use x=\"95.410156\" xlink:href=\"#DejaVuSans-48\"/>\n      </g>\n     </g>\n    </g>\n   </g>\n   <g id=\"patch_27\">\n    <path d=\"M 30.103125 224.64 \nL 30.103125 7.2 \n\" style=\"fill:none;stroke:#000000;stroke-linecap:square;stroke-linejoin:miter;stroke-width:0.8;\"/>\n   </g>\n   <g id=\"patch_28\">\n    <path d=\"M 364.903125 224.64 \nL 364.903125 7.2 \n\" style=\"fill:none;stroke:#000000;stroke-linecap:square;stroke-linejoin:miter;stroke-width:0.8;\"/>\n   </g>\n   <g id=\"patch_29\">\n    <path d=\"M 30.103125 224.64 \nL 364.903125 224.64 \n\" style=\"fill:none;stroke:#000000;stroke-linecap:square;stroke-linejoin:miter;stroke-width:0.8;\"/>\n   </g>\n   <g id=\"patch_30\">\n    <path d=\"M 30.103125 7.2 \nL 364.903125 7.2 \n\" style=\"fill:none;stroke:#000000;stroke-linecap:square;stroke-linejoin:miter;stroke-width:0.8;\"/>\n   </g>\n  </g>\n </g>\n <defs>\n  <clipPath id=\"p86d6c31dc8\">\n   <rect height=\"217.44\" width=\"334.8\" x=\"30.103125\" y=\"7.2\"/>\n  </clipPath>\n </defs>\n</svg>\n",
      "image/png": "[encoded data removed]"
     },
     "metadata": {
      "needs_background": "light"
     }
    }
   ],
   "source": [
    "plt.bar(np.arange(24), auc)"
   ]
  },
  {
   "cell_type": "code",
   "execution_count": 15,
   "metadata": {},
   "outputs": [
    {
     "output_type": "execute_result",
     "data": {
      "text/plain": [
       "(torch.Size([226, 24]), torch.Size([226, 24]))"
      ]
     },
     "metadata": {},
     "execution_count": 15
    }
   ],
   "source": [
    "pred = torch.tensor(pred)\n",
    "target = torch.tensor(target)\n",
    "pred.shape, target.shape"
   ]
  },
  {
   "cell_type": "code",
   "execution_count": 16,
   "metadata": {},
   "outputs": [
    {
     "output_type": "execute_result",
     "data": {
      "text/plain": [
       "0.7920806407928467"
      ]
     },
     "metadata": {},
     "execution_count": 16
    }
   ],
   "source": [
    "original_lwlrap = LWLRAP(pred, target)\n",
    "original_lwlrap"
   ]
  },
  {
   "cell_type": "code",
   "execution_count": null,
   "metadata": {},
   "outputs": [],
   "source": []
  }
 ]
}