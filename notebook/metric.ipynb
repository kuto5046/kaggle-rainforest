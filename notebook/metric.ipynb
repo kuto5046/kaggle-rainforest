{
 "metadata": {
  "language_info": {
   "codemirror_mode": {
    "name": "ipython",
    "version": 3
   },
   "file_extension": ".py",
   "mimetype": "text/x-python",
   "name": "python",
   "nbconvert_exporter": "python",
   "pygments_lexer": "ipython3",
   "version": "3.7.4-final"
  },
  "orig_nbformat": 2,
  "kernelspec": {
   "name": "python3",
   "display_name": "Python 3",
   "language": "python"
  }
 },
 "nbformat": 4,
 "nbformat_minor": 2,
 "cells": [
  {
   "cell_type": "code",
   "execution_count": 1,
   "metadata": {},
   "outputs": [],
   "source": [
    "import pandas as pd\n",
    "import torch\n",
    "import numpy as np\n",
    "\n",
    "# LRAP. Instance-level average\n",
    "# Assume float preds [BxC], labels [BxC] of 0 or 1\n",
    "def LRAP(preds, labels):\n",
    "    # Ranks of the predictions\n",
    "    ranked_classes = torch.argsort(preds, dim=-1, descending=True)\n",
    "    # i, j corresponds to rank of prediction in row i\n",
    "    class_ranks = torch.zeros_like(ranked_classes)\n",
    "    for i in range(ranked_classes.size(0)):\n",
    "        for j in range(ranked_classes.size(1)):\n",
    "            class_ranks[i, ranked_classes[i][j]] = j + 1\n",
    "    # Mask out to only use the ranks of relevant GT labels\n",
    "    ground_truth_ranks = class_ranks * labels + (1e6) * (1 - labels)\n",
    "    # All the GT ranks are in front now\n",
    "    sorted_ground_truth_ranks, _ = torch.sort(ground_truth_ranks, dim=-1, descending=False)\n",
    "    pos_matrix = torch.tensor(np.array([i+1 for i in range(labels.size(-1))])).unsqueeze(0)\n",
    "    score_matrix = pos_matrix / sorted_ground_truth_ranks\n",
    "    score_mask_matrix, _ = torch.sort(labels, dim=-1, descending=True)\n",
    "    scores = score_matrix * score_mask_matrix\n",
    "    score = (scores.sum(-1) / labels.sum(-1)).mean()\n",
    "    return score.item()\n",
    "\n",
    "# label-level average\n",
    "# Assume float preds [BxC], labels [BxC] of 0 or 1\n",
    "def LWLRAP(preds, labels):\n",
    "    preds = preds.to('cpu')\n",
    "    labels = labels.to('cpu')\n",
    "\n",
    "    labels[labels > 0.0] = 1.0  # label smoothingする場合もスコア計算のため1にしてしまう\n",
    "    # Ranks of the predictions\n",
    "    ranked_classes = torch.argsort(preds, dim=-1, descending=True)\n",
    "    # i, j corresponds to rank of prediction in row i\n",
    "    class_ranks = torch.zeros_like(ranked_classes)\n",
    "    for i in range(ranked_classes.size(0)):\n",
    "        for j in range(ranked_classes.size(1)):\n",
    "            class_ranks[i, ranked_classes[i][j]] = j + 1\n",
    "    # Mask out to only use the ranks of relevant GT labels\n",
    "    ground_truth_ranks = class_ranks * labels + (1e6) * (1 - labels)\n",
    "    # All the GT ranks are in front now\n",
    "    sorted_ground_truth_ranks, _ = torch.sort(ground_truth_ranks, dim=-1, descending=False)\n",
    "    # Number of GT labels per instance\n",
    "    # num_labels = labels.sum(-1)\n",
    "    pos_matrix = torch.tensor(np.array([i+1 for i in range(labels.size(-1))])).unsqueeze(0)\n",
    "    score_matrix = pos_matrix / sorted_ground_truth_ranks\n",
    "    score_mask_matrix, _ = torch.sort(labels, dim=-1, descending=True)\n",
    "    scores = score_matrix * score_mask_matrix\n",
    "    score = scores.sum() / labels.sum()\n",
    "    return score.item()"
   ]
  },
  {
   "cell_type": "code",
   "execution_count": 2,
   "metadata": {},
   "outputs": [
    {
     "output_type": "execute_result",
     "data": {
      "text/plain": [
       "      patch recording_id        s0        s1        s2        s3        s4  \\\n",
       "0         0    00204008d  0.011614  0.008457  0.042418  0.401096  0.008886   \n",
       "1         1    00204008d  0.016388  0.008923  0.056771  0.493735  0.013346   \n",
       "2         2    00204008d  0.006923  0.002970  0.018482  0.328682  0.003445   \n",
       "3         3    00204008d  0.007631  0.004980  0.020792  0.356446  0.003240   \n",
       "4         4    00204008d  0.007432  0.005515  0.018758  0.414864  0.006801   \n",
       "...     ...          ...       ...       ...       ...       ...       ...   \n",
       "7555      3    ffebe7313  0.001479  0.000835  0.000341  0.393871  0.168240   \n",
       "7556      4    ffebe7313  0.003871  0.001984  0.000762  0.436470  0.523371   \n",
       "7557      5    ffebe7313  0.003193  0.001829  0.000762  0.393509  0.527968   \n",
       "7558      6    ffebe7313  0.001710  0.001171  0.000672  0.382518  0.451593   \n",
       "7559      7    ffebe7313  0.004149  0.001843  0.000630  0.401026  0.481750   \n",
       "\n",
       "            s5        s6        s7  ...       s14       s15       s16  \\\n",
       "0     0.038326  0.000302  0.019317  ...  0.003642  0.001088  0.000941   \n",
       "1     0.026655  0.000385  0.046189  ...  0.004984  0.001093  0.001084   \n",
       "2     0.038184  0.000188  0.018724  ...  0.002574  0.000606  0.000743   \n",
       "3     0.036417  0.000281  0.012182  ...  0.002670  0.000788  0.000723   \n",
       "4     0.038041  0.000361  0.012685  ...  0.003270  0.000881  0.000741   \n",
       "...        ...       ...       ...  ...       ...       ...       ...   \n",
       "7555  0.001813  0.000358  0.005459  ...  0.019205  0.000555  0.001571   \n",
       "7556  0.001701  0.000475  0.004703  ...  0.005236  0.000808  0.003384   \n",
       "7557  0.000948  0.000567  0.005428  ...  0.008167  0.000840  0.002878   \n",
       "7558  0.001443  0.000408  0.007830  ...  0.013600  0.000829  0.002969   \n",
       "7559  0.001650  0.000594  0.010481  ...  0.018394  0.000837  0.001891   \n",
       "\n",
       "           s17       s18       s19       s20       s21       s22       s23  \n",
       "0     0.001326  0.632459  0.002985  0.002582  0.000796  0.000448  0.007304  \n",
       "1     0.001735  0.618683  0.003420  0.003138  0.001208  0.000412  0.006621  \n",
       "2     0.000879  0.617904  0.001537  0.006942  0.000238  0.000275  0.004057  \n",
       "3     0.001610  0.642056  0.002298  0.003062  0.000298  0.000322  0.009683  \n",
       "4     0.001546  0.656859  0.002671  0.002292  0.000464  0.000303  0.009437  \n",
       "...        ...       ...       ...       ...       ...       ...       ...  \n",
       "7555  0.003121  0.003849  0.000183  0.008012  0.549763  0.000268  0.002762  \n",
       "7556  0.004495  0.031414  0.000128  0.003752  0.570920  0.000553  0.004289  \n",
       "7557  0.006129  0.022186  0.000150  0.005380  0.568162  0.000757  0.004793  \n",
       "7558  0.004746  0.012082  0.000116  0.005192  0.585980  0.000729  0.002841  \n",
       "7559  0.006011  0.031789  0.000195  0.005425  0.600464  0.000629  0.003712  \n",
       "\n",
       "[37816 rows x 26 columns]"
      ],
      "text/html": "<div>\n<style scoped>\n    .dataframe tbody tr th:only-of-type {\n        vertical-align: middle;\n    }\n\n    .dataframe tbody tr th {\n        vertical-align: top;\n    }\n\n    .dataframe thead th {\n        text-align: right;\n    }\n</style>\n<table border=\"1\" class=\"dataframe\">\n  <thead>\n    <tr style=\"text-align: right;\">\n      <th></th>\n      <th>patch</th>\n      <th>recording_id</th>\n      <th>s0</th>\n      <th>s1</th>\n      <th>s2</th>\n      <th>s3</th>\n      <th>s4</th>\n      <th>s5</th>\n      <th>s6</th>\n      <th>s7</th>\n      <th>...</th>\n      <th>s14</th>\n      <th>s15</th>\n      <th>s16</th>\n      <th>s17</th>\n      <th>s18</th>\n      <th>s19</th>\n      <th>s20</th>\n      <th>s21</th>\n      <th>s22</th>\n      <th>s23</th>\n    </tr>\n  </thead>\n  <tbody>\n    <tr>\n      <td>0</td>\n      <td>0</td>\n      <td>00204008d</td>\n      <td>0.011614</td>\n      <td>0.008457</td>\n      <td>0.042418</td>\n      <td>0.401096</td>\n      <td>0.008886</td>\n      <td>0.038326</td>\n      <td>0.000302</td>\n      <td>0.019317</td>\n      <td>...</td>\n      <td>0.003642</td>\n      <td>0.001088</td>\n      <td>0.000941</td>\n      <td>0.001326</td>\n      <td>0.632459</td>\n      <td>0.002985</td>\n      <td>0.002582</td>\n      <td>0.000796</td>\n      <td>0.000448</td>\n      <td>0.007304</td>\n    </tr>\n    <tr>\n      <td>1</td>\n      <td>1</td>\n      <td>00204008d</td>\n      <td>0.016388</td>\n      <td>0.008923</td>\n      <td>0.056771</td>\n      <td>0.493735</td>\n      <td>0.013346</td>\n      <td>0.026655</td>\n      <td>0.000385</td>\n      <td>0.046189</td>\n      <td>...</td>\n      <td>0.004984</td>\n      <td>0.001093</td>\n      <td>0.001084</td>\n      <td>0.001735</td>\n      <td>0.618683</td>\n      <td>0.003420</td>\n      <td>0.003138</td>\n      <td>0.001208</td>\n      <td>0.000412</td>\n      <td>0.006621</td>\n    </tr>\n    <tr>\n      <td>2</td>\n      <td>2</td>\n      <td>00204008d</td>\n      <td>0.006923</td>\n      <td>0.002970</td>\n      <td>0.018482</td>\n      <td>0.328682</td>\n      <td>0.003445</td>\n      <td>0.038184</td>\n      <td>0.000188</td>\n      <td>0.018724</td>\n      <td>...</td>\n      <td>0.002574</td>\n      <td>0.000606</td>\n      <td>0.000743</td>\n      <td>0.000879</td>\n      <td>0.617904</td>\n      <td>0.001537</td>\n      <td>0.006942</td>\n      <td>0.000238</td>\n      <td>0.000275</td>\n      <td>0.004057</td>\n    </tr>\n    <tr>\n      <td>3</td>\n      <td>3</td>\n      <td>00204008d</td>\n      <td>0.007631</td>\n      <td>0.004980</td>\n      <td>0.020792</td>\n      <td>0.356446</td>\n      <td>0.003240</td>\n      <td>0.036417</td>\n      <td>0.000281</td>\n      <td>0.012182</td>\n      <td>...</td>\n      <td>0.002670</td>\n      <td>0.000788</td>\n      <td>0.000723</td>\n      <td>0.001610</td>\n      <td>0.642056</td>\n      <td>0.002298</td>\n      <td>0.003062</td>\n      <td>0.000298</td>\n      <td>0.000322</td>\n      <td>0.009683</td>\n    </tr>\n    <tr>\n      <td>4</td>\n      <td>4</td>\n      <td>00204008d</td>\n      <td>0.007432</td>\n      <td>0.005515</td>\n      <td>0.018758</td>\n      <td>0.414864</td>\n      <td>0.006801</td>\n      <td>0.038041</td>\n      <td>0.000361</td>\n      <td>0.012685</td>\n      <td>...</td>\n      <td>0.003270</td>\n      <td>0.000881</td>\n      <td>0.000741</td>\n      <td>0.001546</td>\n      <td>0.656859</td>\n      <td>0.002671</td>\n      <td>0.002292</td>\n      <td>0.000464</td>\n      <td>0.000303</td>\n      <td>0.009437</td>\n    </tr>\n    <tr>\n      <td>...</td>\n      <td>...</td>\n      <td>...</td>\n      <td>...</td>\n      <td>...</td>\n      <td>...</td>\n      <td>...</td>\n      <td>...</td>\n      <td>...</td>\n      <td>...</td>\n      <td>...</td>\n      <td>...</td>\n      <td>...</td>\n      <td>...</td>\n      <td>...</td>\n      <td>...</td>\n      <td>...</td>\n      <td>...</td>\n      <td>...</td>\n      <td>...</td>\n      <td>...</td>\n      <td>...</td>\n    </tr>\n    <tr>\n      <td>7555</td>\n      <td>3</td>\n      <td>ffebe7313</td>\n      <td>0.001479</td>\n      <td>0.000835</td>\n      <td>0.000341</td>\n      <td>0.393871</td>\n      <td>0.168240</td>\n      <td>0.001813</td>\n      <td>0.000358</td>\n      <td>0.005459</td>\n      <td>...</td>\n      <td>0.019205</td>\n      <td>0.000555</td>\n      <td>0.001571</td>\n      <td>0.003121</td>\n      <td>0.003849</td>\n      <td>0.000183</td>\n      <td>0.008012</td>\n      <td>0.549763</td>\n      <td>0.000268</td>\n      <td>0.002762</td>\n    </tr>\n    <tr>\n      <td>7556</td>\n      <td>4</td>\n      <td>ffebe7313</td>\n      <td>0.003871</td>\n      <td>0.001984</td>\n      <td>0.000762</td>\n      <td>0.436470</td>\n      <td>0.523371</td>\n      <td>0.001701</td>\n      <td>0.000475</td>\n      <td>0.004703</td>\n      <td>...</td>\n      <td>0.005236</td>\n      <td>0.000808</td>\n      <td>0.003384</td>\n      <td>0.004495</td>\n      <td>0.031414</td>\n      <td>0.000128</td>\n      <td>0.003752</td>\n      <td>0.570920</td>\n      <td>0.000553</td>\n      <td>0.004289</td>\n    </tr>\n    <tr>\n      <td>7557</td>\n      <td>5</td>\n      <td>ffebe7313</td>\n      <td>0.003193</td>\n      <td>0.001829</td>\n      <td>0.000762</td>\n      <td>0.393509</td>\n      <td>0.527968</td>\n      <td>0.000948</td>\n      <td>0.000567</td>\n      <td>0.005428</td>\n      <td>...</td>\n      <td>0.008167</td>\n      <td>0.000840</td>\n      <td>0.002878</td>\n      <td>0.006129</td>\n      <td>0.022186</td>\n      <td>0.000150</td>\n      <td>0.005380</td>\n      <td>0.568162</td>\n      <td>0.000757</td>\n      <td>0.004793</td>\n    </tr>\n    <tr>\n      <td>7558</td>\n      <td>6</td>\n      <td>ffebe7313</td>\n      <td>0.001710</td>\n      <td>0.001171</td>\n      <td>0.000672</td>\n      <td>0.382518</td>\n      <td>0.451593</td>\n      <td>0.001443</td>\n      <td>0.000408</td>\n      <td>0.007830</td>\n      <td>...</td>\n      <td>0.013600</td>\n      <td>0.000829</td>\n      <td>0.002969</td>\n      <td>0.004746</td>\n      <td>0.012082</td>\n      <td>0.000116</td>\n      <td>0.005192</td>\n      <td>0.585980</td>\n      <td>0.000729</td>\n      <td>0.002841</td>\n    </tr>\n    <tr>\n      <td>7559</td>\n      <td>7</td>\n      <td>ffebe7313</td>\n      <td>0.004149</td>\n      <td>0.001843</td>\n      <td>0.000630</td>\n      <td>0.401026</td>\n      <td>0.481750</td>\n      <td>0.001650</td>\n      <td>0.000594</td>\n      <td>0.010481</td>\n      <td>...</td>\n      <td>0.018394</td>\n      <td>0.000837</td>\n      <td>0.001891</td>\n      <td>0.006011</td>\n      <td>0.031789</td>\n      <td>0.000195</td>\n      <td>0.005425</td>\n      <td>0.600464</td>\n      <td>0.000629</td>\n      <td>0.003712</td>\n    </tr>\n  </tbody>\n</table>\n<p>37816 rows × 26 columns</p>\n</div>"
     },
     "metadata": {},
     "execution_count": 2
    }
   ],
   "source": [
    "\n",
    "input_dir = \"../oof/\"\n",
    "oof0 = pd.read_csv(input_dir + \"fold0_oof.csv\")\n",
    "oof1 = pd.read_csv(input_dir + \"fold1_oof.csv\")\n",
    "oof2 = pd.read_csv(input_dir + \"fold2_oof.csv\")\n",
    "oof3 = pd.read_csv(input_dir + \"fold3_oof.csv\")\n",
    "oof4 = pd.read_csv(input_dir + \"fold4_oof.csv\")\n",
    "oof = pd.concat([oof0, oof1, oof2, oof3, oof4])\n",
    "oof"
   ]
  },
  {
   "cell_type": "code",
   "execution_count": 3,
   "metadata": {},
   "outputs": [
    {
     "output_type": "execute_result",
     "data": {
      "text/plain": [
       "     recording_id  patch        s0        s1        s2        s3        s4  \\\n",
       "0       00204008d      7  0.016388  0.013396  0.059578  0.493735  0.013346   \n",
       "1       003b04435      7  0.006491  0.271558  0.817263  0.582187  0.001000   \n",
       "2       003bec244      7  0.016653  0.092692  0.004111  0.796572  0.001122   \n",
       "3       005f1f9a5      7  0.001806  0.562375  0.008872  0.663232  0.003188   \n",
       "4       006ab765f      7  0.000365  0.003948  0.000931  0.152026  0.003237   \n",
       "...           ...    ...       ...       ...       ...       ...       ...   \n",
       "4722    ffc6031f8      7  0.006120  0.032910  0.018384  0.859597  0.008144   \n",
       "4723    ffd88cd84      7  0.678242  0.816080  0.019730  0.773883  0.003236   \n",
       "4724    ffebe7313      7  0.004149  0.001984  0.001627  0.436470  0.530631   \n",
       "4725    fff163132      7  0.000787  0.002458  0.006591  0.403609  0.014164   \n",
       "4726    fffb79246      7  0.001810  0.000779  0.000730  0.261313  0.040448   \n",
       "\n",
       "            s5        s6        s7  ...       s14       s15       s16  \\\n",
       "0     0.049699  0.000563  0.046189  ...  0.004984  0.001408  0.001441   \n",
       "1     0.011136  0.000457  0.507924  ...  0.003398  0.012017  0.004618   \n",
       "2     0.056808  0.001055  0.731429  ...  0.530324  0.024477  0.012449   \n",
       "3     0.017574  0.001324  0.484974  ...  0.012036  0.004174  0.010937   \n",
       "4     0.016949  0.000634  0.008062  ...  0.000912  0.002467  0.000131   \n",
       "...        ...       ...       ...  ...       ...       ...       ...   \n",
       "4722  0.001249  0.020532  0.605389  ...  0.038716  0.631085  0.012623   \n",
       "4723  0.002072  0.003604  0.004051  ...  0.018712  0.602858  0.001565   \n",
       "4724  0.003328  0.000720  0.010481  ...  0.019205  0.001038  0.005087   \n",
       "4725  0.002721  0.001389  0.006708  ...  0.006681  0.000450  0.000785   \n",
       "4726  0.004289  0.000387  0.004734  ...  0.002273  0.012062  0.003027   \n",
       "\n",
       "           s17       s18       s19       s20       s21       s22       s23  \n",
       "0     0.001772  0.656859  0.019512  0.006942  0.001208  0.000448  0.009683  \n",
       "1     0.001564  0.021288  0.001948  0.006135  0.003078  0.001999  0.018897  \n",
       "2     0.001183  0.035902  0.000177  0.004752  0.002330  0.000824  0.006857  \n",
       "3     0.009507  0.004279  0.000360  0.006413  0.059199  0.000566  0.007846  \n",
       "4     0.002680  0.005917  0.000299  0.009291  0.003433  0.000515  0.663724  \n",
       "...        ...       ...       ...       ...       ...       ...       ...  \n",
       "4722  0.141294  0.029293  0.004813  0.108453  0.005453  0.005531  0.003068  \n",
       "4723  0.000655  0.252100  0.000488  0.003942  0.012082  0.000500  0.174276  \n",
       "4724  0.007669  0.031789  0.000195  0.008012  0.608263  0.000888  0.006123  \n",
       "4725  0.292260  0.023696  0.000264  0.262202  0.007496  0.000461  0.030455  \n",
       "4726  0.000607  0.117522  0.000723  0.006371  0.001350  0.000838  0.333128  \n",
       "\n",
       "[4727 rows x 26 columns]"
      ],
      "text/html": "<div>\n<style scoped>\n    .dataframe tbody tr th:only-of-type {\n        vertical-align: middle;\n    }\n\n    .dataframe tbody tr th {\n        vertical-align: top;\n    }\n\n    .dataframe thead th {\n        text-align: right;\n    }\n</style>\n<table border=\"1\" class=\"dataframe\">\n  <thead>\n    <tr style=\"text-align: right;\">\n      <th></th>\n      <th>recording_id</th>\n      <th>patch</th>\n      <th>s0</th>\n      <th>s1</th>\n      <th>s2</th>\n      <th>s3</th>\n      <th>s4</th>\n      <th>s5</th>\n      <th>s6</th>\n      <th>s7</th>\n      <th>...</th>\n      <th>s14</th>\n      <th>s15</th>\n      <th>s16</th>\n      <th>s17</th>\n      <th>s18</th>\n      <th>s19</th>\n      <th>s20</th>\n      <th>s21</th>\n      <th>s22</th>\n      <th>s23</th>\n    </tr>\n  </thead>\n  <tbody>\n    <tr>\n      <td>0</td>\n      <td>00204008d</td>\n      <td>7</td>\n      <td>0.016388</td>\n      <td>0.013396</td>\n      <td>0.059578</td>\n      <td>0.493735</td>\n      <td>0.013346</td>\n      <td>0.049699</td>\n      <td>0.000563</td>\n      <td>0.046189</td>\n      <td>...</td>\n      <td>0.004984</td>\n      <td>0.001408</td>\n      <td>0.001441</td>\n      <td>0.001772</td>\n      <td>0.656859</td>\n      <td>0.019512</td>\n      <td>0.006942</td>\n      <td>0.001208</td>\n      <td>0.000448</td>\n      <td>0.009683</td>\n    </tr>\n    <tr>\n      <td>1</td>\n      <td>003b04435</td>\n      <td>7</td>\n      <td>0.006491</td>\n      <td>0.271558</td>\n      <td>0.817263</td>\n      <td>0.582187</td>\n      <td>0.001000</td>\n      <td>0.011136</td>\n      <td>0.000457</td>\n      <td>0.507924</td>\n      <td>...</td>\n      <td>0.003398</td>\n      <td>0.012017</td>\n      <td>0.004618</td>\n      <td>0.001564</td>\n      <td>0.021288</td>\n      <td>0.001948</td>\n      <td>0.006135</td>\n      <td>0.003078</td>\n      <td>0.001999</td>\n      <td>0.018897</td>\n    </tr>\n    <tr>\n      <td>2</td>\n      <td>003bec244</td>\n      <td>7</td>\n      <td>0.016653</td>\n      <td>0.092692</td>\n      <td>0.004111</td>\n      <td>0.796572</td>\n      <td>0.001122</td>\n      <td>0.056808</td>\n      <td>0.001055</td>\n      <td>0.731429</td>\n      <td>...</td>\n      <td>0.530324</td>\n      <td>0.024477</td>\n      <td>0.012449</td>\n      <td>0.001183</td>\n      <td>0.035902</td>\n      <td>0.000177</td>\n      <td>0.004752</td>\n      <td>0.002330</td>\n      <td>0.000824</td>\n      <td>0.006857</td>\n    </tr>\n    <tr>\n      <td>3</td>\n      <td>005f1f9a5</td>\n      <td>7</td>\n      <td>0.001806</td>\n      <td>0.562375</td>\n      <td>0.008872</td>\n      <td>0.663232</td>\n      <td>0.003188</td>\n      <td>0.017574</td>\n      <td>0.001324</td>\n      <td>0.484974</td>\n      <td>...</td>\n      <td>0.012036</td>\n      <td>0.004174</td>\n      <td>0.010937</td>\n      <td>0.009507</td>\n      <td>0.004279</td>\n      <td>0.000360</td>\n      <td>0.006413</td>\n      <td>0.059199</td>\n      <td>0.000566</td>\n      <td>0.007846</td>\n    </tr>\n    <tr>\n      <td>4</td>\n      <td>006ab765f</td>\n      <td>7</td>\n      <td>0.000365</td>\n      <td>0.003948</td>\n      <td>0.000931</td>\n      <td>0.152026</td>\n      <td>0.003237</td>\n      <td>0.016949</td>\n      <td>0.000634</td>\n      <td>0.008062</td>\n      <td>...</td>\n      <td>0.000912</td>\n      <td>0.002467</td>\n      <td>0.000131</td>\n      <td>0.002680</td>\n      <td>0.005917</td>\n      <td>0.000299</td>\n      <td>0.009291</td>\n      <td>0.003433</td>\n      <td>0.000515</td>\n      <td>0.663724</td>\n    </tr>\n    <tr>\n      <td>...</td>\n      <td>...</td>\n      <td>...</td>\n      <td>...</td>\n      <td>...</td>\n      <td>...</td>\n      <td>...</td>\n      <td>...</td>\n      <td>...</td>\n      <td>...</td>\n      <td>...</td>\n      <td>...</td>\n      <td>...</td>\n      <td>...</td>\n      <td>...</td>\n      <td>...</td>\n      <td>...</td>\n      <td>...</td>\n      <td>...</td>\n      <td>...</td>\n      <td>...</td>\n      <td>...</td>\n    </tr>\n    <tr>\n      <td>4722</td>\n      <td>ffc6031f8</td>\n      <td>7</td>\n      <td>0.006120</td>\n      <td>0.032910</td>\n      <td>0.018384</td>\n      <td>0.859597</td>\n      <td>0.008144</td>\n      <td>0.001249</td>\n      <td>0.020532</td>\n      <td>0.605389</td>\n      <td>...</td>\n      <td>0.038716</td>\n      <td>0.631085</td>\n      <td>0.012623</td>\n      <td>0.141294</td>\n      <td>0.029293</td>\n      <td>0.004813</td>\n      <td>0.108453</td>\n      <td>0.005453</td>\n      <td>0.005531</td>\n      <td>0.003068</td>\n    </tr>\n    <tr>\n      <td>4723</td>\n      <td>ffd88cd84</td>\n      <td>7</td>\n      <td>0.678242</td>\n      <td>0.816080</td>\n      <td>0.019730</td>\n      <td>0.773883</td>\n      <td>0.003236</td>\n      <td>0.002072</td>\n      <td>0.003604</td>\n      <td>0.004051</td>\n      <td>...</td>\n      <td>0.018712</td>\n      <td>0.602858</td>\n      <td>0.001565</td>\n      <td>0.000655</td>\n      <td>0.252100</td>\n      <td>0.000488</td>\n      <td>0.003942</td>\n      <td>0.012082</td>\n      <td>0.000500</td>\n      <td>0.174276</td>\n    </tr>\n    <tr>\n      <td>4724</td>\n      <td>ffebe7313</td>\n      <td>7</td>\n      <td>0.004149</td>\n      <td>0.001984</td>\n      <td>0.001627</td>\n      <td>0.436470</td>\n      <td>0.530631</td>\n      <td>0.003328</td>\n      <td>0.000720</td>\n      <td>0.010481</td>\n      <td>...</td>\n      <td>0.019205</td>\n      <td>0.001038</td>\n      <td>0.005087</td>\n      <td>0.007669</td>\n      <td>0.031789</td>\n      <td>0.000195</td>\n      <td>0.008012</td>\n      <td>0.608263</td>\n      <td>0.000888</td>\n      <td>0.006123</td>\n    </tr>\n    <tr>\n      <td>4725</td>\n      <td>fff163132</td>\n      <td>7</td>\n      <td>0.000787</td>\n      <td>0.002458</td>\n      <td>0.006591</td>\n      <td>0.403609</td>\n      <td>0.014164</td>\n      <td>0.002721</td>\n      <td>0.001389</td>\n      <td>0.006708</td>\n      <td>...</td>\n      <td>0.006681</td>\n      <td>0.000450</td>\n      <td>0.000785</td>\n      <td>0.292260</td>\n      <td>0.023696</td>\n      <td>0.000264</td>\n      <td>0.262202</td>\n      <td>0.007496</td>\n      <td>0.000461</td>\n      <td>0.030455</td>\n    </tr>\n    <tr>\n      <td>4726</td>\n      <td>fffb79246</td>\n      <td>7</td>\n      <td>0.001810</td>\n      <td>0.000779</td>\n      <td>0.000730</td>\n      <td>0.261313</td>\n      <td>0.040448</td>\n      <td>0.004289</td>\n      <td>0.000387</td>\n      <td>0.004734</td>\n      <td>...</td>\n      <td>0.002273</td>\n      <td>0.012062</td>\n      <td>0.003027</td>\n      <td>0.000607</td>\n      <td>0.117522</td>\n      <td>0.000723</td>\n      <td>0.006371</td>\n      <td>0.001350</td>\n      <td>0.000838</td>\n      <td>0.333128</td>\n    </tr>\n  </tbody>\n</table>\n<p>4727 rows × 26 columns</p>\n</div>"
     },
     "metadata": {},
     "execution_count": 3
    }
   ],
   "source": [
    "oof2 = oof.groupby('recording_id').max().reset_index(drop=False)\n",
    "oof2"
   ]
  },
  {
   "cell_type": "code",
   "execution_count": 4,
   "metadata": {},
   "outputs": [
    {
     "output_type": "execute_result",
     "data": {
      "text/plain": [
       "      s0  s1  s2  s3  s4  s5  s6  s7  s8  s9  ...  s15  s16  s17  s18  s19  \\\n",
       "0      0   0   0   0   0   0   0   0   0   0  ...    0    0    0    0    0   \n",
       "1      0   0   0   0   0   0   0   0   0   0  ...    0    0    0    0    0   \n",
       "2      0   0   0   0   0   0   0   0   0   0  ...    0    0    0    0    0   \n",
       "3      0   0   0   0   0   0   0   0   0   0  ...    0    0    1    0    0   \n",
       "4      0   0   0   0   0   0   0   0   0   0  ...    0    0    0    0    0   \n",
       "...   ..  ..  ..  ..  ..  ..  ..  ..  ..  ..  ...  ...  ...  ...  ...  ...   \n",
       "1127   0   0   0   0   0   0   0   0   0   0  ...    0    0    0    0    0   \n",
       "1128   0   0   0   0   1   0   0   0   0   0  ...    0    0    0    0    0   \n",
       "1129   1   0   0   0   0   0   0   0   0   0  ...    0    0    0    0    0   \n",
       "1130   0   0   0   0   0   1   0   0   0   0  ...    0    0    0    0    0   \n",
       "1131   0   0   0   0   0   0   0   0   0   0  ...    0    0    0    1    0   \n",
       "\n",
       "      s20  s21  s22  s23  recording_id  \n",
       "0       0    0    0    0     003bec244  \n",
       "1       0    0    0    1     006ab765f  \n",
       "2       0    0    0    0     007f87ba2  \n",
       "3       0    0    0    0     0099c367b  \n",
       "4       0    0    0    0     009b760e6  \n",
       "...   ...  ...  ...  ...           ...  \n",
       "1127    0    0    0    0     fe8d9ac40  \n",
       "1128    0    0    0    0     fea6b438a  \n",
       "1129    0    0    0    0     ff2eb9ce5  \n",
       "1130    0    0    0    0     ffb8d8391  \n",
       "1131    0    0    0    0     ffb9a7b9a  \n",
       "\n",
       "[1132 rows x 25 columns]"
      ],
      "text/html": "<div>\n<style scoped>\n    .dataframe tbody tr th:only-of-type {\n        vertical-align: middle;\n    }\n\n    .dataframe tbody tr th {\n        vertical-align: top;\n    }\n\n    .dataframe thead th {\n        text-align: right;\n    }\n</style>\n<table border=\"1\" class=\"dataframe\">\n  <thead>\n    <tr style=\"text-align: right;\">\n      <th></th>\n      <th>s0</th>\n      <th>s1</th>\n      <th>s2</th>\n      <th>s3</th>\n      <th>s4</th>\n      <th>s5</th>\n      <th>s6</th>\n      <th>s7</th>\n      <th>s8</th>\n      <th>s9</th>\n      <th>...</th>\n      <th>s15</th>\n      <th>s16</th>\n      <th>s17</th>\n      <th>s18</th>\n      <th>s19</th>\n      <th>s20</th>\n      <th>s21</th>\n      <th>s22</th>\n      <th>s23</th>\n      <th>recording_id</th>\n    </tr>\n  </thead>\n  <tbody>\n    <tr>\n      <td>0</td>\n      <td>0</td>\n      <td>0</td>\n      <td>0</td>\n      <td>0</td>\n      <td>0</td>\n      <td>0</td>\n      <td>0</td>\n      <td>0</td>\n      <td>0</td>\n      <td>0</td>\n      <td>...</td>\n      <td>0</td>\n      <td>0</td>\n      <td>0</td>\n      <td>0</td>\n      <td>0</td>\n      <td>0</td>\n      <td>0</td>\n      <td>0</td>\n      <td>0</td>\n      <td>003bec244</td>\n    </tr>\n    <tr>\n      <td>1</td>\n      <td>0</td>\n      <td>0</td>\n      <td>0</td>\n      <td>0</td>\n      <td>0</td>\n      <td>0</td>\n      <td>0</td>\n      <td>0</td>\n      <td>0</td>\n      <td>0</td>\n      <td>...</td>\n      <td>0</td>\n      <td>0</td>\n      <td>0</td>\n      <td>0</td>\n      <td>0</td>\n      <td>0</td>\n      <td>0</td>\n      <td>0</td>\n      <td>1</td>\n      <td>006ab765f</td>\n    </tr>\n    <tr>\n      <td>2</td>\n      <td>0</td>\n      <td>0</td>\n      <td>0</td>\n      <td>0</td>\n      <td>0</td>\n      <td>0</td>\n      <td>0</td>\n      <td>0</td>\n      <td>0</td>\n      <td>0</td>\n      <td>...</td>\n      <td>0</td>\n      <td>0</td>\n      <td>0</td>\n      <td>0</td>\n      <td>0</td>\n      <td>0</td>\n      <td>0</td>\n      <td>0</td>\n      <td>0</td>\n      <td>007f87ba2</td>\n    </tr>\n    <tr>\n      <td>3</td>\n      <td>0</td>\n      <td>0</td>\n      <td>0</td>\n      <td>0</td>\n      <td>0</td>\n      <td>0</td>\n      <td>0</td>\n      <td>0</td>\n      <td>0</td>\n      <td>0</td>\n      <td>...</td>\n      <td>0</td>\n      <td>0</td>\n      <td>1</td>\n      <td>0</td>\n      <td>0</td>\n      <td>0</td>\n      <td>0</td>\n      <td>0</td>\n      <td>0</td>\n      <td>0099c367b</td>\n    </tr>\n    <tr>\n      <td>4</td>\n      <td>0</td>\n      <td>0</td>\n      <td>0</td>\n      <td>0</td>\n      <td>0</td>\n      <td>0</td>\n      <td>0</td>\n      <td>0</td>\n      <td>0</td>\n      <td>0</td>\n      <td>...</td>\n      <td>0</td>\n      <td>0</td>\n      <td>0</td>\n      <td>0</td>\n      <td>0</td>\n      <td>0</td>\n      <td>0</td>\n      <td>0</td>\n      <td>0</td>\n      <td>009b760e6</td>\n    </tr>\n    <tr>\n      <td>...</td>\n      <td>...</td>\n      <td>...</td>\n      <td>...</td>\n      <td>...</td>\n      <td>...</td>\n      <td>...</td>\n      <td>...</td>\n      <td>...</td>\n      <td>...</td>\n      <td>...</td>\n      <td>...</td>\n      <td>...</td>\n      <td>...</td>\n      <td>...</td>\n      <td>...</td>\n      <td>...</td>\n      <td>...</td>\n      <td>...</td>\n      <td>...</td>\n      <td>...</td>\n      <td>...</td>\n    </tr>\n    <tr>\n      <td>1127</td>\n      <td>0</td>\n      <td>0</td>\n      <td>0</td>\n      <td>0</td>\n      <td>0</td>\n      <td>0</td>\n      <td>0</td>\n      <td>0</td>\n      <td>0</td>\n      <td>0</td>\n      <td>...</td>\n      <td>0</td>\n      <td>0</td>\n      <td>0</td>\n      <td>0</td>\n      <td>0</td>\n      <td>0</td>\n      <td>0</td>\n      <td>0</td>\n      <td>0</td>\n      <td>fe8d9ac40</td>\n    </tr>\n    <tr>\n      <td>1128</td>\n      <td>0</td>\n      <td>0</td>\n      <td>0</td>\n      <td>0</td>\n      <td>1</td>\n      <td>0</td>\n      <td>0</td>\n      <td>0</td>\n      <td>0</td>\n      <td>0</td>\n      <td>...</td>\n      <td>0</td>\n      <td>0</td>\n      <td>0</td>\n      <td>0</td>\n      <td>0</td>\n      <td>0</td>\n      <td>0</td>\n      <td>0</td>\n      <td>0</td>\n      <td>fea6b438a</td>\n    </tr>\n    <tr>\n      <td>1129</td>\n      <td>1</td>\n      <td>0</td>\n      <td>0</td>\n      <td>0</td>\n      <td>0</td>\n      <td>0</td>\n      <td>0</td>\n      <td>0</td>\n      <td>0</td>\n      <td>0</td>\n      <td>...</td>\n      <td>0</td>\n      <td>0</td>\n      <td>0</td>\n      <td>0</td>\n      <td>0</td>\n      <td>0</td>\n      <td>0</td>\n      <td>0</td>\n      <td>0</td>\n      <td>ff2eb9ce5</td>\n    </tr>\n    <tr>\n      <td>1130</td>\n      <td>0</td>\n      <td>0</td>\n      <td>0</td>\n      <td>0</td>\n      <td>0</td>\n      <td>1</td>\n      <td>0</td>\n      <td>0</td>\n      <td>0</td>\n      <td>0</td>\n      <td>...</td>\n      <td>0</td>\n      <td>0</td>\n      <td>0</td>\n      <td>0</td>\n      <td>0</td>\n      <td>0</td>\n      <td>0</td>\n      <td>0</td>\n      <td>0</td>\n      <td>ffb8d8391</td>\n    </tr>\n    <tr>\n      <td>1131</td>\n      <td>0</td>\n      <td>0</td>\n      <td>0</td>\n      <td>0</td>\n      <td>0</td>\n      <td>0</td>\n      <td>0</td>\n      <td>0</td>\n      <td>0</td>\n      <td>0</td>\n      <td>...</td>\n      <td>0</td>\n      <td>0</td>\n      <td>0</td>\n      <td>1</td>\n      <td>0</td>\n      <td>0</td>\n      <td>0</td>\n      <td>0</td>\n      <td>0</td>\n      <td>ffb9a7b9a</td>\n    </tr>\n  </tbody>\n</table>\n<p>1132 rows × 25 columns</p>\n</div>"
     },
     "metadata": {},
     "execution_count": 4
    }
   ],
   "source": [
    "tp = pd.read_csv(\"../input/rfcx-species-audio-detection/train_tp.csv\")\n",
    "tp_fnames, tp_labels = [], []\n",
    "for recording_id, df in tp.groupby(\"recording_id\"):\n",
    "    v = sum([np.eye(24)[i] for i in df[\"species_id\"].tolist()])\n",
    "    v = (v >= 1).astype(int).tolist()\n",
    "    tp_fnames.append(recording_id)\n",
    "    tp_labels.append(v) \n",
    "\n",
    "tp2 = pd.DataFrame(tp_labels, columns=[f's{i}' for i in range(24)])\n",
    "tp2['recording_id'] = tp_fnames\n",
    "tp2 = tp2.sort_values('recording_id')\n",
    "tp2\n"
   ]
  },
  {
   "cell_type": "code",
   "execution_count": 5,
   "metadata": {},
   "outputs": [
    {
     "output_type": "execute_result",
     "data": {
      "text/plain": [
       "     recording_id  patch        s0        s1        s2        s3        s4  \\\n",
       "0       003bec244      7  0.016653  0.092692  0.004111  0.796572  0.001122   \n",
       "1       006ab765f      7  0.000365  0.003948  0.000931  0.152026  0.003237   \n",
       "2       007f87ba2      7  0.003203  0.008519  0.011937  0.862373  0.567433   \n",
       "3       0099c367b      7  0.037288  0.018506  0.000222  0.173127  0.005766   \n",
       "4       009b760e6      7  0.000968  0.009766  0.001056  0.148117  0.001685   \n",
       "...           ...    ...       ...       ...       ...       ...       ...   \n",
       "1127    fe8d9ac40      7  0.003895  0.151430  0.005520  0.637834  0.003531   \n",
       "1128    fea6b438a      7  0.002897  0.035084  0.003498  0.831059  0.455140   \n",
       "1129    ff2eb9ce5      7  0.755709  0.001379  0.028417  0.622017  0.053907   \n",
       "1130    ffb8d8391      7  0.047012  0.029309  0.004060  0.761696  0.001772   \n",
       "1131    ffb9a7b9a      7  0.202983  0.094713  0.002776  0.824354  0.003829   \n",
       "\n",
       "            s5        s6        s7  ...       s14       s15       s16  \\\n",
       "0     0.056808  0.001055  0.731429  ...  0.530324  0.024477  0.012449   \n",
       "1     0.016949  0.000634  0.008062  ...  0.000912  0.002467  0.000131   \n",
       "2     0.003278  0.003308  0.005812  ...  0.002405  0.001714  0.002139   \n",
       "3     0.000737  0.025520  0.003990  ...  0.004902  0.169730  0.000384   \n",
       "4     0.000554  0.000456  0.031990  ...  0.001431  0.001565  0.000145   \n",
       "...        ...       ...       ...  ...       ...       ...       ...   \n",
       "1127  0.017147  0.001121  0.003331  ...  0.000649  0.000984  0.216288   \n",
       "1128  0.002065  0.000492  0.014096  ...  0.008529  0.002191  0.395022   \n",
       "1129  0.002350  0.000635  0.002218  ...  0.006693  0.001498  0.000375   \n",
       "1130  0.012570  0.000447  0.006067  ...  0.016281  0.248883  0.000384   \n",
       "1131  0.001014  0.003470  0.009011  ...  0.046989  0.010822  0.040693   \n",
       "\n",
       "           s17       s18       s19       s20       s21       s22       s23  \n",
       "0     0.001183  0.035902  0.000177  0.004752  0.002330  0.000824  0.006857  \n",
       "1     0.002680  0.005917  0.000299  0.009291  0.003433  0.000515  0.663724  \n",
       "2     0.003682  0.688001  0.000247  0.002553  0.027197  0.000318  0.025265  \n",
       "3     0.374681  0.024755  0.000219  0.007071  0.006334  0.000345  0.055700  \n",
       "4     0.005482  0.008649  0.004634  0.005465  0.004336  0.000228  0.491026  \n",
       "...        ...       ...       ...       ...       ...       ...       ...  \n",
       "1127  0.001517  0.007481  0.003466  0.001071  0.049117  0.000124  0.041960  \n",
       "1128  0.000661  0.054866  0.000434  0.007863  0.226282  0.000292  0.071865  \n",
       "1129  0.001007  0.895338  0.000399  0.000982  0.002200  0.000195  0.033195  \n",
       "1130  0.000253  0.858559  0.000384  0.000277  0.007440  0.000306  0.058722  \n",
       "1131  0.066945  0.577035  0.000557  0.005928  0.008494  0.000416  0.040114  \n",
       "\n",
       "[1132 rows x 26 columns]"
      ],
      "text/html": "<div>\n<style scoped>\n    .dataframe tbody tr th:only-of-type {\n        vertical-align: middle;\n    }\n\n    .dataframe tbody tr th {\n        vertical-align: top;\n    }\n\n    .dataframe thead th {\n        text-align: right;\n    }\n</style>\n<table border=\"1\" class=\"dataframe\">\n  <thead>\n    <tr style=\"text-align: right;\">\n      <th></th>\n      <th>recording_id</th>\n      <th>patch</th>\n      <th>s0</th>\n      <th>s1</th>\n      <th>s2</th>\n      <th>s3</th>\n      <th>s4</th>\n      <th>s5</th>\n      <th>s6</th>\n      <th>s7</th>\n      <th>...</th>\n      <th>s14</th>\n      <th>s15</th>\n      <th>s16</th>\n      <th>s17</th>\n      <th>s18</th>\n      <th>s19</th>\n      <th>s20</th>\n      <th>s21</th>\n      <th>s22</th>\n      <th>s23</th>\n    </tr>\n  </thead>\n  <tbody>\n    <tr>\n      <td>0</td>\n      <td>003bec244</td>\n      <td>7</td>\n      <td>0.016653</td>\n      <td>0.092692</td>\n      <td>0.004111</td>\n      <td>0.796572</td>\n      <td>0.001122</td>\n      <td>0.056808</td>\n      <td>0.001055</td>\n      <td>0.731429</td>\n      <td>...</td>\n      <td>0.530324</td>\n      <td>0.024477</td>\n      <td>0.012449</td>\n      <td>0.001183</td>\n      <td>0.035902</td>\n      <td>0.000177</td>\n      <td>0.004752</td>\n      <td>0.002330</td>\n      <td>0.000824</td>\n      <td>0.006857</td>\n    </tr>\n    <tr>\n      <td>1</td>\n      <td>006ab765f</td>\n      <td>7</td>\n      <td>0.000365</td>\n      <td>0.003948</td>\n      <td>0.000931</td>\n      <td>0.152026</td>\n      <td>0.003237</td>\n      <td>0.016949</td>\n      <td>0.000634</td>\n      <td>0.008062</td>\n      <td>...</td>\n      <td>0.000912</td>\n      <td>0.002467</td>\n      <td>0.000131</td>\n      <td>0.002680</td>\n      <td>0.005917</td>\n      <td>0.000299</td>\n      <td>0.009291</td>\n      <td>0.003433</td>\n      <td>0.000515</td>\n      <td>0.663724</td>\n    </tr>\n    <tr>\n      <td>2</td>\n      <td>007f87ba2</td>\n      <td>7</td>\n      <td>0.003203</td>\n      <td>0.008519</td>\n      <td>0.011937</td>\n      <td>0.862373</td>\n      <td>0.567433</td>\n      <td>0.003278</td>\n      <td>0.003308</td>\n      <td>0.005812</td>\n      <td>...</td>\n      <td>0.002405</td>\n      <td>0.001714</td>\n      <td>0.002139</td>\n      <td>0.003682</td>\n      <td>0.688001</td>\n      <td>0.000247</td>\n      <td>0.002553</td>\n      <td>0.027197</td>\n      <td>0.000318</td>\n      <td>0.025265</td>\n    </tr>\n    <tr>\n      <td>3</td>\n      <td>0099c367b</td>\n      <td>7</td>\n      <td>0.037288</td>\n      <td>0.018506</td>\n      <td>0.000222</td>\n      <td>0.173127</td>\n      <td>0.005766</td>\n      <td>0.000737</td>\n      <td>0.025520</td>\n      <td>0.003990</td>\n      <td>...</td>\n      <td>0.004902</td>\n      <td>0.169730</td>\n      <td>0.000384</td>\n      <td>0.374681</td>\n      <td>0.024755</td>\n      <td>0.000219</td>\n      <td>0.007071</td>\n      <td>0.006334</td>\n      <td>0.000345</td>\n      <td>0.055700</td>\n    </tr>\n    <tr>\n      <td>4</td>\n      <td>009b760e6</td>\n      <td>7</td>\n      <td>0.000968</td>\n      <td>0.009766</td>\n      <td>0.001056</td>\n      <td>0.148117</td>\n      <td>0.001685</td>\n      <td>0.000554</td>\n      <td>0.000456</td>\n      <td>0.031990</td>\n      <td>...</td>\n      <td>0.001431</td>\n      <td>0.001565</td>\n      <td>0.000145</td>\n      <td>0.005482</td>\n      <td>0.008649</td>\n      <td>0.004634</td>\n      <td>0.005465</td>\n      <td>0.004336</td>\n      <td>0.000228</td>\n      <td>0.491026</td>\n    </tr>\n    <tr>\n      <td>...</td>\n      <td>...</td>\n      <td>...</td>\n      <td>...</td>\n      <td>...</td>\n      <td>...</td>\n      <td>...</td>\n      <td>...</td>\n      <td>...</td>\n      <td>...</td>\n      <td>...</td>\n      <td>...</td>\n      <td>...</td>\n      <td>...</td>\n      <td>...</td>\n      <td>...</td>\n      <td>...</td>\n      <td>...</td>\n      <td>...</td>\n      <td>...</td>\n      <td>...</td>\n      <td>...</td>\n    </tr>\n    <tr>\n      <td>1127</td>\n      <td>fe8d9ac40</td>\n      <td>7</td>\n      <td>0.003895</td>\n      <td>0.151430</td>\n      <td>0.005520</td>\n      <td>0.637834</td>\n      <td>0.003531</td>\n      <td>0.017147</td>\n      <td>0.001121</td>\n      <td>0.003331</td>\n      <td>...</td>\n      <td>0.000649</td>\n      <td>0.000984</td>\n      <td>0.216288</td>\n      <td>0.001517</td>\n      <td>0.007481</td>\n      <td>0.003466</td>\n      <td>0.001071</td>\n      <td>0.049117</td>\n      <td>0.000124</td>\n      <td>0.041960</td>\n    </tr>\n    <tr>\n      <td>1128</td>\n      <td>fea6b438a</td>\n      <td>7</td>\n      <td>0.002897</td>\n      <td>0.035084</td>\n      <td>0.003498</td>\n      <td>0.831059</td>\n      <td>0.455140</td>\n      <td>0.002065</td>\n      <td>0.000492</td>\n      <td>0.014096</td>\n      <td>...</td>\n      <td>0.008529</td>\n      <td>0.002191</td>\n      <td>0.395022</td>\n      <td>0.000661</td>\n      <td>0.054866</td>\n      <td>0.000434</td>\n      <td>0.007863</td>\n      <td>0.226282</td>\n      <td>0.000292</td>\n      <td>0.071865</td>\n    </tr>\n    <tr>\n      <td>1129</td>\n      <td>ff2eb9ce5</td>\n      <td>7</td>\n      <td>0.755709</td>\n      <td>0.001379</td>\n      <td>0.028417</td>\n      <td>0.622017</td>\n      <td>0.053907</td>\n      <td>0.002350</td>\n      <td>0.000635</td>\n      <td>0.002218</td>\n      <td>...</td>\n      <td>0.006693</td>\n      <td>0.001498</td>\n      <td>0.000375</td>\n      <td>0.001007</td>\n      <td>0.895338</td>\n      <td>0.000399</td>\n      <td>0.000982</td>\n      <td>0.002200</td>\n      <td>0.000195</td>\n      <td>0.033195</td>\n    </tr>\n    <tr>\n      <td>1130</td>\n      <td>ffb8d8391</td>\n      <td>7</td>\n      <td>0.047012</td>\n      <td>0.029309</td>\n      <td>0.004060</td>\n      <td>0.761696</td>\n      <td>0.001772</td>\n      <td>0.012570</td>\n      <td>0.000447</td>\n      <td>0.006067</td>\n      <td>...</td>\n      <td>0.016281</td>\n      <td>0.248883</td>\n      <td>0.000384</td>\n      <td>0.000253</td>\n      <td>0.858559</td>\n      <td>0.000384</td>\n      <td>0.000277</td>\n      <td>0.007440</td>\n      <td>0.000306</td>\n      <td>0.058722</td>\n    </tr>\n    <tr>\n      <td>1131</td>\n      <td>ffb9a7b9a</td>\n      <td>7</td>\n      <td>0.202983</td>\n      <td>0.094713</td>\n      <td>0.002776</td>\n      <td>0.824354</td>\n      <td>0.003829</td>\n      <td>0.001014</td>\n      <td>0.003470</td>\n      <td>0.009011</td>\n      <td>...</td>\n      <td>0.046989</td>\n      <td>0.010822</td>\n      <td>0.040693</td>\n      <td>0.066945</td>\n      <td>0.577035</td>\n      <td>0.000557</td>\n      <td>0.005928</td>\n      <td>0.008494</td>\n      <td>0.000416</td>\n      <td>0.040114</td>\n    </tr>\n  </tbody>\n</table>\n<p>1132 rows × 26 columns</p>\n</div>"
     },
     "metadata": {},
     "execution_count": 5
    }
   ],
   "source": [
    "tp_oof = oof2[oof2['recording_id'].isin(tp2['recording_id'])].reset_index(drop=True).sort_values('recording_id')\n",
    "tp_oof"
   ]
  },
  {
   "cell_type": "code",
   "execution_count": 6,
   "metadata": {},
   "outputs": [],
   "source": [
    "tp2 = tp2[tp2[\"recording_id\"].isin(tp_oof[\"recording_id\"])]"
   ]
  },
  {
   "cell_type": "code",
   "execution_count": 7,
   "metadata": {},
   "outputs": [],
   "source": [
    "pred = tp_oof.loc[:, 's0':'s23'].values\n",
    "target = tp2.loc[:, 's0':'s23'].values"
   ]
  },
  {
   "cell_type": "code",
   "execution_count": 8,
   "metadata": {},
   "outputs": [
    {
     "output_type": "execute_result",
     "data": {
      "text/plain": [
       "array([0.98316081, 0.9636414 , 0.99355717, 0.68092421, 0.94731978,\n",
       "       0.96547135, 0.99259427, 0.92669131, 0.97598891, 0.99112141,\n",
       "       0.98969228, 0.95719039, 0.95497227, 0.9957671 , 0.98380776,\n",
       "       0.96297676, 0.99105217, 0.96789279, 0.917061  , 0.9969596 ,\n",
       "       0.97611668, 0.95473198, 0.9935244 , 0.97575176])"
      ]
     },
     "metadata": {},
     "execution_count": 8
    }
   ],
   "source": [
    "from sklearn.metrics import roc_auc_score\n",
    "import matplotlib.pyplot as plt\n",
    "auc = roc_auc_score(target, pred, average=None)\n",
    "auc"
   ]
  },
  {
   "cell_type": "code",
   "execution_count": 9,
   "metadata": {},
   "outputs": [
    {
     "output_type": "execute_result",
     "data": {
      "text/plain": [
       "<BarContainer object of 24 artists>"
      ]
     },
     "metadata": {},
     "execution_count": 9
    },
    {
     "output_type": "display_data",
     "data": {
      "text/plain": "<Figure size 432x288 with 1 Axes>",
      "image/svg+xml": "<?xml version=\"1.0\" encoding=\"utf-8\" standalone=\"no\"?>\n<!DOCTYPE svg PUBLIC \"-//W3C//DTD SVG 1.1//EN\"\n  \"http://www.w3.org/Graphics/SVG/1.1/DTD/svg11.dtd\">\n<!-- Created with matplotlib (https://matplotlib.org/) -->\n<svg height=\"248.518125pt\" version=\"1.1\" viewBox=\"0 0 372.103125 248.518125\" width=\"372.103125pt\" xmlns=\"http://www.w3.org/2000/svg\" xmlns:xlink=\"http://www.w3.org/1999/xlink\">\n <defs>\n  <style type=\"text/css\">\n*{stroke-linecap:butt;stroke-linejoin:round;}\n  </style>\n </defs>\n <g id=\"figure_1\">\n  <g id=\"patch_1\">\n   <path d=\"M 0 248.518125 \nL 372.103125 248.518125 \nL 372.103125 0 \nL 0 0 \nz\n\" style=\"fill:none;\"/>\n  </g>\n  <g id=\"axes_1\">\n   <g id=\"patch_2\">\n    <path d=\"M 30.103125 224.64 \nL 364.903125 224.64 \nL 364.903125 7.2 \nL 30.103125 7.2 \nz\n\" style=\"fill:#ffffff;\"/>\n   </g>\n   <g id=\"patch_3\">\n    <path clip-path=\"url(#p7a7dd467a4)\" d=\"M 45.321307 224.64 \nL 55.552017 224.64 \nL 55.552017 20.420532 \nL 45.321307 20.420532 \nz\n\" style=\"fill:#1f77b4;\"/>\n   </g>\n   <g id=\"patch_4\">\n    <path clip-path=\"url(#p7a7dd467a4)\" d=\"M 58.109695 224.64 \nL 68.340405 224.64 \nL 68.340405 24.47505 \nL 58.109695 24.47505 \nz\n\" style=\"fill:#1f77b4;\"/>\n   </g>\n   <g id=\"patch_5\">\n    <path clip-path=\"url(#p7a7dd467a4)\" d=\"M 70.898083 224.64 \nL 81.128793 224.64 \nL 81.128793 18.26103 \nL 70.898083 18.26103 \nz\n\" style=\"fill:#1f77b4;\"/>\n   </g>\n   <g id=\"patch_6\">\n    <path clip-path=\"url(#p7a7dd467a4)\" d=\"M 83.686471 224.64 \nL 93.917182 224.64 \nL 93.917182 83.20029 \nL 83.686471 83.20029 \nz\n\" style=\"fill:#1f77b4;\"/>\n   </g>\n   <g id=\"patch_7\">\n    <path clip-path=\"url(#p7a7dd467a4)\" d=\"M 96.474859 224.64 \nL 106.70557 224.64 \nL 106.70557 27.865334 \nL 96.474859 27.865334 \nz\n\" style=\"fill:#1f77b4;\"/>\n   </g>\n   <g id=\"patch_8\">\n    <path clip-path=\"url(#p7a7dd467a4)\" d=\"M 109.263247 224.64 \nL 119.493958 224.64 \nL 119.493958 24.094939 \nL 109.263247 24.094939 \nz\n\" style=\"fill:#1f77b4;\"/>\n   </g>\n   <g id=\"patch_9\">\n    <path clip-path=\"url(#p7a7dd467a4)\" d=\"M 122.051635 224.64 \nL 132.282346 224.64 \nL 132.282346 18.461041 \nL 122.051635 18.461041 \nz\n\" style=\"fill:#1f77b4;\"/>\n   </g>\n   <g id=\"patch_10\">\n    <path clip-path=\"url(#p7a7dd467a4)\" d=\"M 134.840023 224.64 \nL 145.070734 224.64 \nL 145.070734 32.150222 \nL 134.840023 32.150222 \nz\n\" style=\"fill:#1f77b4;\"/>\n   </g>\n   <g id=\"patch_11\">\n    <path clip-path=\"url(#p7a7dd467a4)\" d=\"M 147.628411 224.64 \nL 157.859122 224.64 \nL 157.859122 21.910261 \nL 147.628411 21.910261 \nz\n\" style=\"fill:#1f77b4;\"/>\n   </g>\n   <g id=\"patch_12\">\n    <path clip-path=\"url(#p7a7dd467a4)\" d=\"M 160.4168 224.64 \nL 170.64751 224.64 \nL 170.64751 18.76698 \nL 160.4168 18.76698 \nz\n\" style=\"fill:#1f77b4;\"/>\n   </g>\n   <g id=\"patch_13\">\n    <path clip-path=\"url(#p7a7dd467a4)\" d=\"M 173.205188 224.64 \nL 183.435898 224.64 \nL 183.435898 19.063835 \nL 173.205188 19.063835 \nz\n\" style=\"fill:#1f77b4;\"/>\n   </g>\n   <g id=\"patch_14\">\n    <path clip-path=\"url(#p7a7dd467a4)\" d=\"M 185.993576 224.64 \nL 196.224286 224.64 \nL 196.224286 25.815038 \nL 185.993576 25.815038 \nz\n\" style=\"fill:#1f77b4;\"/>\n   </g>\n   <g id=\"patch_15\">\n    <path clip-path=\"url(#p7a7dd467a4)\" d=\"M 198.781964 224.64 \nL 209.012674 224.64 \nL 209.012674 26.275779 \nL 198.781964 26.275779 \nz\n\" style=\"fill:#1f77b4;\"/>\n   </g>\n   <g id=\"patch_16\">\n    <path clip-path=\"url(#p7a7dd467a4)\" d=\"M 211.570352 224.64 \nL 221.801062 224.64 \nL 221.801062 17.80199 \nL 211.570352 17.80199 \nz\n\" style=\"fill:#1f77b4;\"/>\n   </g>\n   <g id=\"patch_17\">\n    <path clip-path=\"url(#p7a7dd467a4)\" d=\"M 224.35874 224.64 \nL 234.58945 224.64 \nL 234.58945 20.28615 \nL 224.35874 20.28615 \nz\n\" style=\"fill:#1f77b4;\"/>\n   </g>\n   <g id=\"patch_18\">\n    <path clip-path=\"url(#p7a7dd467a4)\" d=\"M 237.147128 224.64 \nL 247.377839 224.64 \nL 247.377839 24.613108 \nL 237.147128 24.613108 \nz\n\" style=\"fill:#1f77b4;\"/>\n   </g>\n   <g id=\"patch_19\">\n    <path clip-path=\"url(#p7a7dd467a4)\" d=\"M 249.935516 224.64 \nL 260.166227 224.64 \nL 260.166227 18.781361 \nL 249.935516 18.781361 \nz\n\" style=\"fill:#1f77b4;\"/>\n   </g>\n   <g id=\"patch_20\">\n    <path clip-path=\"url(#p7a7dd467a4)\" d=\"M 262.723904 224.64 \nL 272.954615 224.64 \nL 272.954615 23.591964 \nL 262.723904 23.591964 \nz\n\" style=\"fill:#1f77b4;\"/>\n   </g>\n   <g id=\"patch_21\">\n    <path clip-path=\"url(#p7a7dd467a4)\" d=\"M 275.512292 224.64 \nL 285.743003 224.64 \nL 285.743003 34.150605 \nL 275.512292 34.150605 \nz\n\" style=\"fill:#1f77b4;\"/>\n   </g>\n   <g id=\"patch_22\">\n    <path clip-path=\"url(#p7a7dd467a4)\" d=\"M 288.30068 224.64 \nL 298.531391 224.64 \nL 298.531391 17.554286 \nL 288.30068 17.554286 \nz\n\" style=\"fill:#1f77b4;\"/>\n   </g>\n   <g id=\"patch_23\">\n    <path clip-path=\"url(#p7a7dd467a4)\" d=\"M 301.089068 224.64 \nL 311.319779 224.64 \nL 311.319779 21.88372 \nL 301.089068 21.88372 \nz\n\" style=\"fill:#1f77b4;\"/>\n   </g>\n   <g id=\"patch_24\">\n    <path clip-path=\"url(#p7a7dd467a4)\" d=\"M 313.877457 224.64 \nL 324.108167 224.64 \nL 324.108167 26.325692 \nL 313.877457 26.325692 \nz\n\" style=\"fill:#1f77b4;\"/>\n   </g>\n   <g id=\"patch_25\">\n    <path clip-path=\"url(#p7a7dd467a4)\" d=\"M 326.665845 224.64 \nL 336.896555 224.64 \nL 336.896555 18.267837 \nL 326.665845 18.267837 \nz\n\" style=\"fill:#1f77b4;\"/>\n   </g>\n   <g id=\"patch_26\">\n    <path clip-path=\"url(#p7a7dd467a4)\" d=\"M 339.454233 224.64 \nL 349.684943 224.64 \nL 349.684943 21.959521 \nL 339.454233 21.959521 \nz\n\" style=\"fill:#1f77b4;\"/>\n   </g>\n   <g id=\"matplotlib.axis_1\">\n    <g id=\"xtick_1\">\n     <g id=\"line2d_1\">\n      <defs>\n       <path d=\"M 0 0 \nL 0 3.5 \n\" id=\"m88a0ac5e57\" style=\"stroke:#000000;stroke-width:0.8;\"/>\n      </defs>\n      <g>\n       <use style=\"stroke:#000000;stroke-width:0.8;\" x=\"50.436662\" xlink:href=\"#m88a0ac5e57\" y=\"224.64\"/>\n      </g>\n     </g>\n     <g id=\"text_1\">\n      <!-- 0 -->\n      <defs>\n       <path d=\"M 31.78125 66.40625 \nQ 24.171875 66.40625 20.328125 58.90625 \nQ 16.5 51.421875 16.5 36.375 \nQ 16.5 21.390625 20.328125 13.890625 \nQ 24.171875 6.390625 31.78125 6.390625 \nQ 39.453125 6.390625 43.28125 13.890625 \nQ 47.125 21.390625 47.125 36.375 \nQ 47.125 51.421875 43.28125 58.90625 \nQ 39.453125 66.40625 31.78125 66.40625 \nz\nM 31.78125 74.21875 \nQ 44.046875 74.21875 50.515625 64.515625 \nQ 56.984375 54.828125 56.984375 36.375 \nQ 56.984375 17.96875 50.515625 8.265625 \nQ 44.046875 -1.421875 31.78125 -1.421875 \nQ 19.53125 -1.421875 13.0625 8.265625 \nQ 6.59375 17.96875 6.59375 36.375 \nQ 6.59375 54.828125 13.0625 64.515625 \nQ 19.53125 74.21875 31.78125 74.21875 \nz\n\" id=\"DejaVuSans-48\"/>\n      </defs>\n      <g transform=\"translate(47.255412 239.238437)scale(0.1 -0.1)\">\n       <use xlink:href=\"#DejaVuSans-48\"/>\n      </g>\n     </g>\n    </g>\n    <g id=\"xtick_2\">\n     <g id=\"line2d_2\">\n      <g>\n       <use style=\"stroke:#000000;stroke-width:0.8;\" x=\"114.378602\" xlink:href=\"#m88a0ac5e57\" y=\"224.64\"/>\n      </g>\n     </g>\n     <g id=\"text_2\">\n      <!-- 5 -->\n      <defs>\n       <path d=\"M 10.796875 72.90625 \nL 49.515625 72.90625 \nL 49.515625 64.59375 \nL 19.828125 64.59375 \nL 19.828125 46.734375 \nQ 21.96875 47.46875 24.109375 47.828125 \nQ 26.265625 48.1875 28.421875 48.1875 \nQ 40.625 48.1875 47.75 41.5 \nQ 54.890625 34.8125 54.890625 23.390625 \nQ 54.890625 11.625 47.5625 5.09375 \nQ 40.234375 -1.421875 26.90625 -1.421875 \nQ 22.3125 -1.421875 17.546875 -0.640625 \nQ 12.796875 0.140625 7.71875 1.703125 \nL 7.71875 11.625 \nQ 12.109375 9.234375 16.796875 8.0625 \nQ 21.484375 6.890625 26.703125 6.890625 \nQ 35.15625 6.890625 40.078125 11.328125 \nQ 45.015625 15.765625 45.015625 23.390625 \nQ 45.015625 31 40.078125 35.4375 \nQ 35.15625 39.890625 26.703125 39.890625 \nQ 22.75 39.890625 18.8125 39.015625 \nQ 14.890625 38.140625 10.796875 36.28125 \nz\n\" id=\"DejaVuSans-53\"/>\n      </defs>\n      <g transform=\"translate(111.197352 239.238437)scale(0.1 -0.1)\">\n       <use xlink:href=\"#DejaVuSans-53\"/>\n      </g>\n     </g>\n    </g>\n    <g id=\"xtick_3\">\n     <g id=\"line2d_3\">\n      <g>\n       <use style=\"stroke:#000000;stroke-width:0.8;\" x=\"178.320543\" xlink:href=\"#m88a0ac5e57\" y=\"224.64\"/>\n      </g>\n     </g>\n     <g id=\"text_3\">\n      <!-- 10 -->\n      <defs>\n       <path d=\"M 12.40625 8.296875 \nL 28.515625 8.296875 \nL 28.515625 63.921875 \nL 10.984375 60.40625 \nL 10.984375 69.390625 \nL 28.421875 72.90625 \nL 38.28125 72.90625 \nL 38.28125 8.296875 \nL 54.390625 8.296875 \nL 54.390625 0 \nL 12.40625 0 \nz\n\" id=\"DejaVuSans-49\"/>\n      </defs>\n      <g transform=\"translate(171.958043 239.238437)scale(0.1 -0.1)\">\n       <use xlink:href=\"#DejaVuSans-49\"/>\n       <use x=\"63.623047\" xlink:href=\"#DejaVuSans-48\"/>\n      </g>\n     </g>\n    </g>\n    <g id=\"xtick_4\">\n     <g id=\"line2d_4\">\n      <g>\n       <use style=\"stroke:#000000;stroke-width:0.8;\" x=\"242.262483\" xlink:href=\"#m88a0ac5e57\" y=\"224.64\"/>\n      </g>\n     </g>\n     <g id=\"text_4\">\n      <!-- 15 -->\n      <g transform=\"translate(235.899983 239.238437)scale(0.1 -0.1)\">\n       <use xlink:href=\"#DejaVuSans-49\"/>\n       <use x=\"63.623047\" xlink:href=\"#DejaVuSans-53\"/>\n      </g>\n     </g>\n    </g>\n    <g id=\"xtick_5\">\n     <g id=\"line2d_5\">\n      <g>\n       <use style=\"stroke:#000000;stroke-width:0.8;\" x=\"306.204424\" xlink:href=\"#m88a0ac5e57\" y=\"224.64\"/>\n      </g>\n     </g>\n     <g id=\"text_5\">\n      <!-- 20 -->\n      <defs>\n       <path d=\"M 19.1875 8.296875 \nL 53.609375 8.296875 \nL 53.609375 0 \nL 7.328125 0 \nL 7.328125 8.296875 \nQ 12.9375 14.109375 22.625 23.890625 \nQ 32.328125 33.6875 34.8125 36.53125 \nQ 39.546875 41.84375 41.421875 45.53125 \nQ 43.3125 49.21875 43.3125 52.78125 \nQ 43.3125 58.59375 39.234375 62.25 \nQ 35.15625 65.921875 28.609375 65.921875 \nQ 23.96875 65.921875 18.8125 64.3125 \nQ 13.671875 62.703125 7.8125 59.421875 \nL 7.8125 69.390625 \nQ 13.765625 71.78125 18.9375 73 \nQ 24.125 74.21875 28.421875 74.21875 \nQ 39.75 74.21875 46.484375 68.546875 \nQ 53.21875 62.890625 53.21875 53.421875 \nQ 53.21875 48.921875 51.53125 44.890625 \nQ 49.859375 40.875 45.40625 35.40625 \nQ 44.1875 33.984375 37.640625 27.21875 \nQ 31.109375 20.453125 19.1875 8.296875 \nz\n\" id=\"DejaVuSans-50\"/>\n      </defs>\n      <g transform=\"translate(299.841924 239.238437)scale(0.1 -0.1)\">\n       <use xlink:href=\"#DejaVuSans-50\"/>\n       <use x=\"63.623047\" xlink:href=\"#DejaVuSans-48\"/>\n      </g>\n     </g>\n    </g>\n   </g>\n   <g id=\"matplotlib.axis_2\">\n    <g id=\"ytick_1\">\n     <g id=\"line2d_6\">\n      <defs>\n       <path d=\"M 0 0 \nL -3.5 0 \n\" id=\"ma3ee75d4be\" style=\"stroke:#000000;stroke-width:0.8;\"/>\n      </defs>\n      <g>\n       <use style=\"stroke:#000000;stroke-width:0.8;\" x=\"30.103125\" xlink:href=\"#ma3ee75d4be\" y=\"224.64\"/>\n      </g>\n     </g>\n     <g id=\"text_6\">\n      <!-- 0.0 -->\n      <defs>\n       <path d=\"M 10.6875 12.40625 \nL 21 12.40625 \nL 21 0 \nL 10.6875 0 \nz\n\" id=\"DejaVuSans-46\"/>\n      </defs>\n      <g transform=\"translate(7.2 228.439219)scale(0.1 -0.1)\">\n       <use xlink:href=\"#DejaVuSans-48\"/>\n       <use x=\"63.623047\" xlink:href=\"#DejaVuSans-46\"/>\n       <use x=\"95.410156\" xlink:href=\"#DejaVuSans-48\"/>\n      </g>\n     </g>\n    </g>\n    <g id=\"ytick_2\">\n     <g id=\"line2d_7\">\n      <g>\n       <use style=\"stroke:#000000;stroke-width:0.8;\" x=\"30.103125\" xlink:href=\"#ma3ee75d4be\" y=\"183.096549\"/>\n      </g>\n     </g>\n     <g id=\"text_7\">\n      <!-- 0.2 -->\n      <g transform=\"translate(7.2 186.895767)scale(0.1 -0.1)\">\n       <use xlink:href=\"#DejaVuSans-48\"/>\n       <use x=\"63.623047\" xlink:href=\"#DejaVuSans-46\"/>\n       <use x=\"95.410156\" xlink:href=\"#DejaVuSans-50\"/>\n      </g>\n     </g>\n    </g>\n    <g id=\"ytick_3\">\n     <g id=\"line2d_8\">\n      <g>\n       <use style=\"stroke:#000000;stroke-width:0.8;\" x=\"30.103125\" xlink:href=\"#ma3ee75d4be\" y=\"141.553097\"/>\n      </g>\n     </g>\n     <g id=\"text_8\">\n      <!-- 0.4 -->\n      <defs>\n       <path d=\"M 37.796875 64.3125 \nL 12.890625 25.390625 \nL 37.796875 25.390625 \nz\nM 35.203125 72.90625 \nL 47.609375 72.90625 \nL 47.609375 25.390625 \nL 58.015625 25.390625 \nL 58.015625 17.1875 \nL 47.609375 17.1875 \nL 47.609375 0 \nL 37.796875 0 \nL 37.796875 17.1875 \nL 4.890625 17.1875 \nL 4.890625 26.703125 \nz\n\" id=\"DejaVuSans-52\"/>\n      </defs>\n      <g transform=\"translate(7.2 145.352316)scale(0.1 -0.1)\">\n       <use xlink:href=\"#DejaVuSans-48\"/>\n       <use x=\"63.623047\" xlink:href=\"#DejaVuSans-46\"/>\n       <use x=\"95.410156\" xlink:href=\"#DejaVuSans-52\"/>\n      </g>\n     </g>\n    </g>\n    <g id=\"ytick_4\">\n     <g id=\"line2d_9\">\n      <g>\n       <use style=\"stroke:#000000;stroke-width:0.8;\" x=\"30.103125\" xlink:href=\"#ma3ee75d4be\" y=\"100.009646\"/>\n      </g>\n     </g>\n     <g id=\"text_9\">\n      <!-- 0.6 -->\n      <defs>\n       <path d=\"M 33.015625 40.375 \nQ 26.375 40.375 22.484375 35.828125 \nQ 18.609375 31.296875 18.609375 23.390625 \nQ 18.609375 15.53125 22.484375 10.953125 \nQ 26.375 6.390625 33.015625 6.390625 \nQ 39.65625 6.390625 43.53125 10.953125 \nQ 47.40625 15.53125 47.40625 23.390625 \nQ 47.40625 31.296875 43.53125 35.828125 \nQ 39.65625 40.375 33.015625 40.375 \nz\nM 52.59375 71.296875 \nL 52.59375 62.3125 \nQ 48.875 64.0625 45.09375 64.984375 \nQ 41.3125 65.921875 37.59375 65.921875 \nQ 27.828125 65.921875 22.671875 59.328125 \nQ 17.53125 52.734375 16.796875 39.40625 \nQ 19.671875 43.65625 24.015625 45.921875 \nQ 28.375 48.1875 33.59375 48.1875 \nQ 44.578125 48.1875 50.953125 41.515625 \nQ 57.328125 34.859375 57.328125 23.390625 \nQ 57.328125 12.15625 50.6875 5.359375 \nQ 44.046875 -1.421875 33.015625 -1.421875 \nQ 20.359375 -1.421875 13.671875 8.265625 \nQ 6.984375 17.96875 6.984375 36.375 \nQ 6.984375 53.65625 15.1875 63.9375 \nQ 23.390625 74.21875 37.203125 74.21875 \nQ 40.921875 74.21875 44.703125 73.484375 \nQ 48.484375 72.75 52.59375 71.296875 \nz\n\" id=\"DejaVuSans-54\"/>\n      </defs>\n      <g transform=\"translate(7.2 103.808864)scale(0.1 -0.1)\">\n       <use xlink:href=\"#DejaVuSans-48\"/>\n       <use x=\"63.623047\" xlink:href=\"#DejaVuSans-46\"/>\n       <use x=\"95.410156\" xlink:href=\"#DejaVuSans-54\"/>\n      </g>\n     </g>\n    </g>\n    <g id=\"ytick_5\">\n     <g id=\"line2d_10\">\n      <g>\n       <use style=\"stroke:#000000;stroke-width:0.8;\" x=\"30.103125\" xlink:href=\"#ma3ee75d4be\" y=\"58.466194\"/>\n      </g>\n     </g>\n     <g id=\"text_10\">\n      <!-- 0.8 -->\n      <defs>\n       <path d=\"M 31.78125 34.625 \nQ 24.75 34.625 20.71875 30.859375 \nQ 16.703125 27.09375 16.703125 20.515625 \nQ 16.703125 13.921875 20.71875 10.15625 \nQ 24.75 6.390625 31.78125 6.390625 \nQ 38.8125 6.390625 42.859375 10.171875 \nQ 46.921875 13.96875 46.921875 20.515625 \nQ 46.921875 27.09375 42.890625 30.859375 \nQ 38.875 34.625 31.78125 34.625 \nz\nM 21.921875 38.8125 \nQ 15.578125 40.375 12.03125 44.71875 \nQ 8.5 49.078125 8.5 55.328125 \nQ 8.5 64.0625 14.71875 69.140625 \nQ 20.953125 74.21875 31.78125 74.21875 \nQ 42.671875 74.21875 48.875 69.140625 \nQ 55.078125 64.0625 55.078125 55.328125 \nQ 55.078125 49.078125 51.53125 44.71875 \nQ 48 40.375 41.703125 38.8125 \nQ 48.828125 37.15625 52.796875 32.3125 \nQ 56.78125 27.484375 56.78125 20.515625 \nQ 56.78125 9.90625 50.3125 4.234375 \nQ 43.84375 -1.421875 31.78125 -1.421875 \nQ 19.734375 -1.421875 13.25 4.234375 \nQ 6.78125 9.90625 6.78125 20.515625 \nQ 6.78125 27.484375 10.78125 32.3125 \nQ 14.796875 37.15625 21.921875 38.8125 \nz\nM 18.3125 54.390625 \nQ 18.3125 48.734375 21.84375 45.5625 \nQ 25.390625 42.390625 31.78125 42.390625 \nQ 38.140625 42.390625 41.71875 45.5625 \nQ 45.3125 48.734375 45.3125 54.390625 \nQ 45.3125 60.0625 41.71875 63.234375 \nQ 38.140625 66.40625 31.78125 66.40625 \nQ 25.390625 66.40625 21.84375 63.234375 \nQ 18.3125 60.0625 18.3125 54.390625 \nz\n\" id=\"DejaVuSans-56\"/>\n      </defs>\n      <g transform=\"translate(7.2 62.265413)scale(0.1 -0.1)\">\n       <use xlink:href=\"#DejaVuSans-48\"/>\n       <use x=\"63.623047\" xlink:href=\"#DejaVuSans-46\"/>\n       <use x=\"95.410156\" xlink:href=\"#DejaVuSans-56\"/>\n      </g>\n     </g>\n    </g>\n    <g id=\"ytick_6\">\n     <g id=\"line2d_11\">\n      <g>\n       <use style=\"stroke:#000000;stroke-width:0.8;\" x=\"30.103125\" xlink:href=\"#ma3ee75d4be\" y=\"16.922743\"/>\n      </g>\n     </g>\n     <g id=\"text_11\">\n      <!-- 1.0 -->\n      <g transform=\"translate(7.2 20.721962)scale(0.1 -0.1)\">\n       <use xlink:href=\"#DejaVuSans-49\"/>\n       <use x=\"63.623047\" xlink:href=\"#DejaVuSans-46\"/>\n       <use x=\"95.410156\" xlink:href=\"#DejaVuSans-48\"/>\n      </g>\n     </g>\n    </g>\n   </g>\n   <g id=\"patch_27\">\n    <path d=\"M 30.103125 224.64 \nL 30.103125 7.2 \n\" style=\"fill:none;stroke:#000000;stroke-linecap:square;stroke-linejoin:miter;stroke-width:0.8;\"/>\n   </g>\n   <g id=\"patch_28\">\n    <path d=\"M 364.903125 224.64 \nL 364.903125 7.2 \n\" style=\"fill:none;stroke:#000000;stroke-linecap:square;stroke-linejoin:miter;stroke-width:0.8;\"/>\n   </g>\n   <g id=\"patch_29\">\n    <path d=\"M 30.103125 224.64 \nL 364.903125 224.64 \n\" style=\"fill:none;stroke:#000000;stroke-linecap:square;stroke-linejoin:miter;stroke-width:0.8;\"/>\n   </g>\n   <g id=\"patch_30\">\n    <path d=\"M 30.103125 7.2 \nL 364.903125 7.2 \n\" style=\"fill:none;stroke:#000000;stroke-linecap:square;stroke-linejoin:miter;stroke-width:0.8;\"/>\n   </g>\n  </g>\n </g>\n <defs>\n  <clipPath id=\"p7a7dd467a4\">\n   <rect height=\"217.44\" width=\"334.8\" x=\"30.103125\" y=\"7.2\"/>\n  </clipPath>\n </defs>\n</svg>\n",
      "image/png": "[encoded data removed]"
     },
     "metadata": {
      "needs_background": "light"
     }
    }
   ],
   "source": [
    "plt.bar(np.arange(24), auc)"
   ]
  },
  {
   "cell_type": "code",
   "execution_count": 10,
   "metadata": {},
   "outputs": [
    {
     "output_type": "execute_result",
     "data": {
      "text/plain": [
       "(torch.Size([1132, 24]), torch.Size([1132, 24]))"
      ]
     },
     "metadata": {},
     "execution_count": 10
    }
   ],
   "source": [
    "pred = torch.tensor(pred)\n",
    "target = torch.tensor(target)\n",
    "pred.shape, target.shape"
   ]
  },
  {
   "cell_type": "code",
   "execution_count": 11,
   "metadata": {},
   "outputs": [
    {
     "output_type": "execute_result",
     "data": {
      "text/plain": [
       "0.711670994758606"
      ]
     },
     "metadata": {},
     "execution_count": 11
    }
   ],
   "source": [
    "original_lwlrap = LWLRAP(pred, target)\n",
    "original_lwlrap"
   ]
  },
  {
   "cell_type": "code",
   "execution_count": null,
   "metadata": {},
   "outputs": [],
   "source": []
  }
 ]
}