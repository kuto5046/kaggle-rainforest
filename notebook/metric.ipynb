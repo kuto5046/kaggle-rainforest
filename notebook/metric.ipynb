{
 "metadata": {
  "language_info": {
   "codemirror_mode": {
    "name": "ipython",
    "version": 3
   },
   "file_extension": ".py",
   "mimetype": "text/x-python",
   "name": "python",
   "nbconvert_exporter": "python",
   "pygments_lexer": "ipython3",
   "version": "3.7.4-final"
  },
  "orig_nbformat": 2,
  "kernelspec": {
   "name": "python3",
   "display_name": "Python 3",
   "language": "python"
  }
 },
 "nbformat": 4,
 "nbformat_minor": 2,
 "cells": [
  {
   "cell_type": "code",
   "execution_count": 1,
   "metadata": {},
   "outputs": [],
   "source": [
    "import pandas as pd\n",
    "import torch\n",
    "import numpy as np\n",
    "\n",
    "# LRAP. Instance-level average\n",
    "# Assume float preds [BxC], labels [BxC] of 0 or 1\n",
    "def LRAP(preds, labels):\n",
    "    # Ranks of the predictions\n",
    "    ranked_classes = torch.argsort(preds, dim=-1, descending=True)\n",
    "    # i, j corresponds to rank of prediction in row i\n",
    "    class_ranks = torch.zeros_like(ranked_classes)\n",
    "    for i in range(ranked_classes.size(0)):\n",
    "        for j in range(ranked_classes.size(1)):\n",
    "            class_ranks[i, ranked_classes[i][j]] = j + 1\n",
    "    # Mask out to only use the ranks of relevant GT labels\n",
    "    ground_truth_ranks = class_ranks * labels + (1e6) * (1 - labels)\n",
    "    # All the GT ranks are in front now\n",
    "    sorted_ground_truth_ranks, _ = torch.sort(ground_truth_ranks, dim=-1, descending=False)\n",
    "    pos_matrix = torch.tensor(np.array([i+1 for i in range(labels.size(-1))])).unsqueeze(0)\n",
    "    score_matrix = pos_matrix / sorted_ground_truth_ranks\n",
    "    score_mask_matrix, _ = torch.sort(labels, dim=-1, descending=True)\n",
    "    scores = score_matrix * score_mask_matrix\n",
    "    score = (scores.sum(-1) / labels.sum(-1)).mean()\n",
    "    return score.item()\n",
    "\n",
    "# label-level average\n",
    "# Assume float preds [BxC], labels [BxC] of 0 or 1\n",
    "def LWLRAP(preds, labels):\n",
    "    preds = preds.to('cpu')\n",
    "    labels = labels.to('cpu')\n",
    "\n",
    "    labels[labels > 0.0] = 1.0  # label smoothingする場合もスコア計算のため1にしてしまう\n",
    "    # Ranks of the predictions\n",
    "    ranked_classes = torch.argsort(preds, dim=-1, descending=True)\n",
    "    # i, j corresponds to rank of prediction in row i\n",
    "    class_ranks = torch.zeros_like(ranked_classes)\n",
    "    for i in range(ranked_classes.size(0)):\n",
    "        for j in range(ranked_classes.size(1)):\n",
    "            class_ranks[i, ranked_classes[i][j]] = j + 1\n",
    "    # Mask out to only use the ranks of relevant GT labels\n",
    "    ground_truth_ranks = class_ranks * labels + (1e6) * (1 - labels)\n",
    "    # All the GT ranks are in front now\n",
    "    sorted_ground_truth_ranks, _ = torch.sort(ground_truth_ranks, dim=-1, descending=False)\n",
    "    # Number of GT labels per instance\n",
    "    # num_labels = labels.sum(-1)\n",
    "    pos_matrix = torch.tensor(np.array([i+1 for i in range(labels.size(-1))])).unsqueeze(0)\n",
    "    score_matrix = pos_matrix / sorted_ground_truth_ranks\n",
    "    score_mask_matrix, _ = torch.sort(labels, dim=-1, descending=True)\n",
    "    scores = score_matrix * score_mask_matrix\n",
    "    score = scores.sum() / labels.sum()\n",
    "    return score.item()"
   ]
  },
  {
   "cell_type": "code",
   "execution_count": 3,
   "metadata": {},
   "outputs": [
    {
     "output_type": "execute_result",
     "data": {
      "text/plain": [
       "      patch recording_id        s0        s1        s2        s3        s4  \\\n",
       "0         0    003bec244  0.398762  0.735529  0.428103  0.524817  0.458391   \n",
       "1         1    003bec244  0.394883  0.481696  0.428322  0.640915  0.433360   \n",
       "2         2    003bec244  0.349760  0.456614  0.417691  0.591700  0.457110   \n",
       "3         3    003bec244  0.412226  0.468707  0.416773  0.549272  0.366584   \n",
       "4         4    003bec244  0.389579  0.457444  0.427811  0.493934  0.348904   \n",
       "...     ...          ...       ...       ...       ...       ...       ...   \n",
       "7547      3    ffc6031f8  0.313460  0.448482  0.391829  0.749874  0.378695   \n",
       "7548      4    ffc6031f8  0.281973  0.421260  0.415486  0.628940  0.348745   \n",
       "7549      5    ffc6031f8  0.311228  0.426034  0.446159  0.525393  0.333149   \n",
       "7550      6    ffc6031f8  0.363061  0.459935  0.435258  0.800537  0.413529   \n",
       "7551      7    ffc6031f8  0.356592  0.449791  0.415741  0.820779  0.414258   \n",
       "\n",
       "            s5        s6        s7  ...       s14       s15       s16  \\\n",
       "0     0.453542  0.432568  0.682348  ...  0.542786  0.450903  0.485308   \n",
       "1     0.446686  0.462121  0.540128  ...  0.542686  0.466853  0.445528   \n",
       "2     0.410183  0.440069  0.826130  ...  0.610566  0.474064  0.460986   \n",
       "3     0.402851  0.468874  0.598235  ...  0.572506  0.451019  0.461097   \n",
       "4     0.428539  0.446324  0.544494  ...  0.634886  0.498574  0.441636   \n",
       "...        ...       ...       ...  ...       ...       ...       ...   \n",
       "7547  0.377572  0.430460  0.954595  ...  0.482239  0.433942  0.457888   \n",
       "7548  0.402714  0.430003  0.904457  ...  0.466157  0.829329  0.454781   \n",
       "7549  0.422979  0.443885  0.853659  ...  0.487556  0.825624  0.450244   \n",
       "7550  0.419935  0.430754  0.829262  ...  0.472171  0.444567  0.464678   \n",
       "7551  0.414472  0.431435  0.894666  ...  0.468490  0.435335  0.461756   \n",
       "\n",
       "           s17       s18       s19       s20       s21       s22       s23  \n",
       "0     0.412199  0.418592  0.445328  0.456194  0.425074  0.341329  0.446404  \n",
       "1     0.410884  0.435581  0.444923  0.449402  0.448831  0.418277  0.458335  \n",
       "2     0.398166  0.415457  0.431743  0.467821  0.407540  0.415869  0.384644  \n",
       "3     0.399223  0.433492  0.457825  0.471497  0.393162  0.398850  0.417720  \n",
       "4     0.421461  0.386579  0.449515  0.475173  0.425653  0.489935  0.429711  \n",
       "...        ...       ...       ...       ...       ...       ...       ...  \n",
       "7547  0.399898  0.411008  0.442472  0.411287  0.357527  0.322628  0.340093  \n",
       "7548  0.396127  0.469426  0.457667  0.413845  0.324086  0.276281  0.403346  \n",
       "7549  0.388145  0.467176  0.468811  0.434239  0.387309  0.329812  0.438557  \n",
       "7550  0.416836  0.428104  0.434627  0.431353  0.398803  0.355111  0.396602  \n",
       "7551  0.422907  0.423865  0.430819  0.422556  0.421200  0.325308  0.390656  \n",
       "\n",
       "[7552 rows x 26 columns]"
      ],
      "text/html": "<div>\n<style scoped>\n    .dataframe tbody tr th:only-of-type {\n        vertical-align: middle;\n    }\n\n    .dataframe tbody tr th {\n        vertical-align: top;\n    }\n\n    .dataframe thead th {\n        text-align: right;\n    }\n</style>\n<table border=\"1\" class=\"dataframe\">\n  <thead>\n    <tr style=\"text-align: right;\">\n      <th></th>\n      <th>patch</th>\n      <th>recording_id</th>\n      <th>s0</th>\n      <th>s1</th>\n      <th>s2</th>\n      <th>s3</th>\n      <th>s4</th>\n      <th>s5</th>\n      <th>s6</th>\n      <th>s7</th>\n      <th>...</th>\n      <th>s14</th>\n      <th>s15</th>\n      <th>s16</th>\n      <th>s17</th>\n      <th>s18</th>\n      <th>s19</th>\n      <th>s20</th>\n      <th>s21</th>\n      <th>s22</th>\n      <th>s23</th>\n    </tr>\n  </thead>\n  <tbody>\n    <tr>\n      <td>0</td>\n      <td>0</td>\n      <td>003bec244</td>\n      <td>0.398762</td>\n      <td>0.735529</td>\n      <td>0.428103</td>\n      <td>0.524817</td>\n      <td>0.458391</td>\n      <td>0.453542</td>\n      <td>0.432568</td>\n      <td>0.682348</td>\n      <td>...</td>\n      <td>0.542786</td>\n      <td>0.450903</td>\n      <td>0.485308</td>\n      <td>0.412199</td>\n      <td>0.418592</td>\n      <td>0.445328</td>\n      <td>0.456194</td>\n      <td>0.425074</td>\n      <td>0.341329</td>\n      <td>0.446404</td>\n    </tr>\n    <tr>\n      <td>1</td>\n      <td>1</td>\n      <td>003bec244</td>\n      <td>0.394883</td>\n      <td>0.481696</td>\n      <td>0.428322</td>\n      <td>0.640915</td>\n      <td>0.433360</td>\n      <td>0.446686</td>\n      <td>0.462121</td>\n      <td>0.540128</td>\n      <td>...</td>\n      <td>0.542686</td>\n      <td>0.466853</td>\n      <td>0.445528</td>\n      <td>0.410884</td>\n      <td>0.435581</td>\n      <td>0.444923</td>\n      <td>0.449402</td>\n      <td>0.448831</td>\n      <td>0.418277</td>\n      <td>0.458335</td>\n    </tr>\n    <tr>\n      <td>2</td>\n      <td>2</td>\n      <td>003bec244</td>\n      <td>0.349760</td>\n      <td>0.456614</td>\n      <td>0.417691</td>\n      <td>0.591700</td>\n      <td>0.457110</td>\n      <td>0.410183</td>\n      <td>0.440069</td>\n      <td>0.826130</td>\n      <td>...</td>\n      <td>0.610566</td>\n      <td>0.474064</td>\n      <td>0.460986</td>\n      <td>0.398166</td>\n      <td>0.415457</td>\n      <td>0.431743</td>\n      <td>0.467821</td>\n      <td>0.407540</td>\n      <td>0.415869</td>\n      <td>0.384644</td>\n    </tr>\n    <tr>\n      <td>3</td>\n      <td>3</td>\n      <td>003bec244</td>\n      <td>0.412226</td>\n      <td>0.468707</td>\n      <td>0.416773</td>\n      <td>0.549272</td>\n      <td>0.366584</td>\n      <td>0.402851</td>\n      <td>0.468874</td>\n      <td>0.598235</td>\n      <td>...</td>\n      <td>0.572506</td>\n      <td>0.451019</td>\n      <td>0.461097</td>\n      <td>0.399223</td>\n      <td>0.433492</td>\n      <td>0.457825</td>\n      <td>0.471497</td>\n      <td>0.393162</td>\n      <td>0.398850</td>\n      <td>0.417720</td>\n    </tr>\n    <tr>\n      <td>4</td>\n      <td>4</td>\n      <td>003bec244</td>\n      <td>0.389579</td>\n      <td>0.457444</td>\n      <td>0.427811</td>\n      <td>0.493934</td>\n      <td>0.348904</td>\n      <td>0.428539</td>\n      <td>0.446324</td>\n      <td>0.544494</td>\n      <td>...</td>\n      <td>0.634886</td>\n      <td>0.498574</td>\n      <td>0.441636</td>\n      <td>0.421461</td>\n      <td>0.386579</td>\n      <td>0.449515</td>\n      <td>0.475173</td>\n      <td>0.425653</td>\n      <td>0.489935</td>\n      <td>0.429711</td>\n    </tr>\n    <tr>\n      <td>...</td>\n      <td>...</td>\n      <td>...</td>\n      <td>...</td>\n      <td>...</td>\n      <td>...</td>\n      <td>...</td>\n      <td>...</td>\n      <td>...</td>\n      <td>...</td>\n      <td>...</td>\n      <td>...</td>\n      <td>...</td>\n      <td>...</td>\n      <td>...</td>\n      <td>...</td>\n      <td>...</td>\n      <td>...</td>\n      <td>...</td>\n      <td>...</td>\n      <td>...</td>\n      <td>...</td>\n    </tr>\n    <tr>\n      <td>7547</td>\n      <td>3</td>\n      <td>ffc6031f8</td>\n      <td>0.313460</td>\n      <td>0.448482</td>\n      <td>0.391829</td>\n      <td>0.749874</td>\n      <td>0.378695</td>\n      <td>0.377572</td>\n      <td>0.430460</td>\n      <td>0.954595</td>\n      <td>...</td>\n      <td>0.482239</td>\n      <td>0.433942</td>\n      <td>0.457888</td>\n      <td>0.399898</td>\n      <td>0.411008</td>\n      <td>0.442472</td>\n      <td>0.411287</td>\n      <td>0.357527</td>\n      <td>0.322628</td>\n      <td>0.340093</td>\n    </tr>\n    <tr>\n      <td>7548</td>\n      <td>4</td>\n      <td>ffc6031f8</td>\n      <td>0.281973</td>\n      <td>0.421260</td>\n      <td>0.415486</td>\n      <td>0.628940</td>\n      <td>0.348745</td>\n      <td>0.402714</td>\n      <td>0.430003</td>\n      <td>0.904457</td>\n      <td>...</td>\n      <td>0.466157</td>\n      <td>0.829329</td>\n      <td>0.454781</td>\n      <td>0.396127</td>\n      <td>0.469426</td>\n      <td>0.457667</td>\n      <td>0.413845</td>\n      <td>0.324086</td>\n      <td>0.276281</td>\n      <td>0.403346</td>\n    </tr>\n    <tr>\n      <td>7549</td>\n      <td>5</td>\n      <td>ffc6031f8</td>\n      <td>0.311228</td>\n      <td>0.426034</td>\n      <td>0.446159</td>\n      <td>0.525393</td>\n      <td>0.333149</td>\n      <td>0.422979</td>\n      <td>0.443885</td>\n      <td>0.853659</td>\n      <td>...</td>\n      <td>0.487556</td>\n      <td>0.825624</td>\n      <td>0.450244</td>\n      <td>0.388145</td>\n      <td>0.467176</td>\n      <td>0.468811</td>\n      <td>0.434239</td>\n      <td>0.387309</td>\n      <td>0.329812</td>\n      <td>0.438557</td>\n    </tr>\n    <tr>\n      <td>7550</td>\n      <td>6</td>\n      <td>ffc6031f8</td>\n      <td>0.363061</td>\n      <td>0.459935</td>\n      <td>0.435258</td>\n      <td>0.800537</td>\n      <td>0.413529</td>\n      <td>0.419935</td>\n      <td>0.430754</td>\n      <td>0.829262</td>\n      <td>...</td>\n      <td>0.472171</td>\n      <td>0.444567</td>\n      <td>0.464678</td>\n      <td>0.416836</td>\n      <td>0.428104</td>\n      <td>0.434627</td>\n      <td>0.431353</td>\n      <td>0.398803</td>\n      <td>0.355111</td>\n      <td>0.396602</td>\n    </tr>\n    <tr>\n      <td>7551</td>\n      <td>7</td>\n      <td>ffc6031f8</td>\n      <td>0.356592</td>\n      <td>0.449791</td>\n      <td>0.415741</td>\n      <td>0.820779</td>\n      <td>0.414258</td>\n      <td>0.414472</td>\n      <td>0.431435</td>\n      <td>0.894666</td>\n      <td>...</td>\n      <td>0.468490</td>\n      <td>0.435335</td>\n      <td>0.461756</td>\n      <td>0.422907</td>\n      <td>0.423865</td>\n      <td>0.430819</td>\n      <td>0.422556</td>\n      <td>0.421200</td>\n      <td>0.325308</td>\n      <td>0.390656</td>\n    </tr>\n  </tbody>\n</table>\n<p>7552 rows × 26 columns</p>\n</div>"
     },
     "metadata": {},
     "execution_count": 3
    }
   ],
   "source": [
    "\n",
    "input_dir = \"../oof/\"\n",
    "oof = pd.read_csv(input_dir + \"fold0_oof.csv\")\n",
    "# oof1 = pd.read_csv(input_dir + \"fold1_oof.csv\")\n",
    "# oof2 = pd.read_csv(input_dir + \"fold2_oof.csv\")\n",
    "# oof3 = pd.read_csv(input_dir + \"fold3_oof.csv\")\n",
    "# oof4 = pd.read_csv(input_dir + \"fold4_oof.csv\")\n",
    "# oof = pd.concat([oof0, oof1, oof2, oof3, oof4])\n",
    "oof"
   ]
  },
  {
   "cell_type": "code",
   "execution_count": 4,
   "metadata": {},
   "outputs": [
    {
     "output_type": "execute_result",
     "data": {
      "text/plain": [
       "    recording_id  patch        s0        s1        s2        s3        s4  \\\n",
       "0      003bec244      7  0.412226  0.735529  0.432691  0.640915  0.458391   \n",
       "1      005f1f9a5      7  0.434775  0.829225  0.440830  0.801901  0.429966   \n",
       "2      009aa1c8f      7  0.389176  0.425608  0.441691  0.683870  0.457826   \n",
       "3      00ad36516      7  0.939850  0.422735  0.440206  0.620777  0.450451   \n",
       "4      00d442df7      7  0.937391  0.389712  0.438265  0.565592  0.442325   \n",
       "..           ...    ...       ...       ...       ...       ...       ...   \n",
       "939    ff56888a1      7  0.397557  0.469489  0.440119  0.516086  0.476269   \n",
       "940    ff6acf404      7  0.401710  0.517897  0.441469  0.528072  0.466516   \n",
       "941    ff858780b      7  0.396295  0.448424  0.450516  0.764075  0.408176   \n",
       "942    ffb8d8391      7  0.414999  0.498053  0.445012  0.843274  0.453847   \n",
       "943    ffc6031f8      7  0.363061  0.461814  0.461768  0.820779  0.417076   \n",
       "\n",
       "           s5        s6        s7  ...       s14       s15       s16  \\\n",
       "0    0.453542  0.470479  0.826130  ...  0.641557  0.498574  0.485308   \n",
       "1    0.458336  0.442409  0.861068  ...  0.540540  0.474423  0.468865   \n",
       "2    0.447137  0.434561  0.537896  ...  0.496090  0.484258  0.426744   \n",
       "3    0.442869  0.443069  0.518529  ...  0.504983  0.418105  0.442395   \n",
       "4    0.421982  0.441543  0.528704  ...  0.436010  0.420344  0.458261   \n",
       "..        ...       ...       ...  ...       ...       ...       ...   \n",
       "939  0.449866  0.434171  0.901203  ...  0.483483  0.538415  0.473744   \n",
       "940  0.453345  0.431434  0.632564  ...  0.484439  0.472330  0.453184   \n",
       "941  0.452635  0.447680  0.529033  ...  0.458049  0.507934  0.555631   \n",
       "942  0.703018  0.455419  0.526107  ...  0.475652  0.465718  0.473042   \n",
       "943  0.432959  0.453850  0.954595  ...  0.541766  0.829650  0.473982   \n",
       "\n",
       "          s17       s18       s19       s20       s21       s22       s23  \n",
       "0    0.421461  0.435581  0.457825  0.521423  0.448831  0.489935  0.489930  \n",
       "1    0.464170  0.451558  0.453582  0.454205  0.472928  0.404084  0.466147  \n",
       "2    0.416365  0.891755  0.449652  0.439243  0.511412  0.382900  0.442326  \n",
       "3    0.414393  0.906784  0.422080  0.431908  0.466080  0.415799  0.444663  \n",
       "4    0.447224  0.917958  0.400908  0.446008  0.464050  0.389740  0.439705  \n",
       "..        ...       ...       ...       ...       ...       ...       ...  \n",
       "939  0.439884  0.433200  0.464937  0.448993  0.475487  0.415134  0.449890  \n",
       "940  0.441970  0.452308  0.447559  0.452684  0.491552  0.369433  0.464048  \n",
       "941  0.453104  0.460014  0.441688  0.456972  0.413493  0.437579  0.444214  \n",
       "942  0.439967  0.680162  0.454355  0.454225  0.464715  0.424295  0.466037  \n",
       "943  0.422907  0.473129  0.468811  0.434239  0.421200  0.355111  0.468925  \n",
       "\n",
       "[944 rows x 26 columns]"
      ],
      "text/html": "<div>\n<style scoped>\n    .dataframe tbody tr th:only-of-type {\n        vertical-align: middle;\n    }\n\n    .dataframe tbody tr th {\n        vertical-align: top;\n    }\n\n    .dataframe thead th {\n        text-align: right;\n    }\n</style>\n<table border=\"1\" class=\"dataframe\">\n  <thead>\n    <tr style=\"text-align: right;\">\n      <th></th>\n      <th>recording_id</th>\n      <th>patch</th>\n      <th>s0</th>\n      <th>s1</th>\n      <th>s2</th>\n      <th>s3</th>\n      <th>s4</th>\n      <th>s5</th>\n      <th>s6</th>\n      <th>s7</th>\n      <th>...</th>\n      <th>s14</th>\n      <th>s15</th>\n      <th>s16</th>\n      <th>s17</th>\n      <th>s18</th>\n      <th>s19</th>\n      <th>s20</th>\n      <th>s21</th>\n      <th>s22</th>\n      <th>s23</th>\n    </tr>\n  </thead>\n  <tbody>\n    <tr>\n      <td>0</td>\n      <td>003bec244</td>\n      <td>7</td>\n      <td>0.412226</td>\n      <td>0.735529</td>\n      <td>0.432691</td>\n      <td>0.640915</td>\n      <td>0.458391</td>\n      <td>0.453542</td>\n      <td>0.470479</td>\n      <td>0.826130</td>\n      <td>...</td>\n      <td>0.641557</td>\n      <td>0.498574</td>\n      <td>0.485308</td>\n      <td>0.421461</td>\n      <td>0.435581</td>\n      <td>0.457825</td>\n      <td>0.521423</td>\n      <td>0.448831</td>\n      <td>0.489935</td>\n      <td>0.489930</td>\n    </tr>\n    <tr>\n      <td>1</td>\n      <td>005f1f9a5</td>\n      <td>7</td>\n      <td>0.434775</td>\n      <td>0.829225</td>\n      <td>0.440830</td>\n      <td>0.801901</td>\n      <td>0.429966</td>\n      <td>0.458336</td>\n      <td>0.442409</td>\n      <td>0.861068</td>\n      <td>...</td>\n      <td>0.540540</td>\n      <td>0.474423</td>\n      <td>0.468865</td>\n      <td>0.464170</td>\n      <td>0.451558</td>\n      <td>0.453582</td>\n      <td>0.454205</td>\n      <td>0.472928</td>\n      <td>0.404084</td>\n      <td>0.466147</td>\n    </tr>\n    <tr>\n      <td>2</td>\n      <td>009aa1c8f</td>\n      <td>7</td>\n      <td>0.389176</td>\n      <td>0.425608</td>\n      <td>0.441691</td>\n      <td>0.683870</td>\n      <td>0.457826</td>\n      <td>0.447137</td>\n      <td>0.434561</td>\n      <td>0.537896</td>\n      <td>...</td>\n      <td>0.496090</td>\n      <td>0.484258</td>\n      <td>0.426744</td>\n      <td>0.416365</td>\n      <td>0.891755</td>\n      <td>0.449652</td>\n      <td>0.439243</td>\n      <td>0.511412</td>\n      <td>0.382900</td>\n      <td>0.442326</td>\n    </tr>\n    <tr>\n      <td>3</td>\n      <td>00ad36516</td>\n      <td>7</td>\n      <td>0.939850</td>\n      <td>0.422735</td>\n      <td>0.440206</td>\n      <td>0.620777</td>\n      <td>0.450451</td>\n      <td>0.442869</td>\n      <td>0.443069</td>\n      <td>0.518529</td>\n      <td>...</td>\n      <td>0.504983</td>\n      <td>0.418105</td>\n      <td>0.442395</td>\n      <td>0.414393</td>\n      <td>0.906784</td>\n      <td>0.422080</td>\n      <td>0.431908</td>\n      <td>0.466080</td>\n      <td>0.415799</td>\n      <td>0.444663</td>\n    </tr>\n    <tr>\n      <td>4</td>\n      <td>00d442df7</td>\n      <td>7</td>\n      <td>0.937391</td>\n      <td>0.389712</td>\n      <td>0.438265</td>\n      <td>0.565592</td>\n      <td>0.442325</td>\n      <td>0.421982</td>\n      <td>0.441543</td>\n      <td>0.528704</td>\n      <td>...</td>\n      <td>0.436010</td>\n      <td>0.420344</td>\n      <td>0.458261</td>\n      <td>0.447224</td>\n      <td>0.917958</td>\n      <td>0.400908</td>\n      <td>0.446008</td>\n      <td>0.464050</td>\n      <td>0.389740</td>\n      <td>0.439705</td>\n    </tr>\n    <tr>\n      <td>...</td>\n      <td>...</td>\n      <td>...</td>\n      <td>...</td>\n      <td>...</td>\n      <td>...</td>\n      <td>...</td>\n      <td>...</td>\n      <td>...</td>\n      <td>...</td>\n      <td>...</td>\n      <td>...</td>\n      <td>...</td>\n      <td>...</td>\n      <td>...</td>\n      <td>...</td>\n      <td>...</td>\n      <td>...</td>\n      <td>...</td>\n      <td>...</td>\n      <td>...</td>\n      <td>...</td>\n    </tr>\n    <tr>\n      <td>939</td>\n      <td>ff56888a1</td>\n      <td>7</td>\n      <td>0.397557</td>\n      <td>0.469489</td>\n      <td>0.440119</td>\n      <td>0.516086</td>\n      <td>0.476269</td>\n      <td>0.449866</td>\n      <td>0.434171</td>\n      <td>0.901203</td>\n      <td>...</td>\n      <td>0.483483</td>\n      <td>0.538415</td>\n      <td>0.473744</td>\n      <td>0.439884</td>\n      <td>0.433200</td>\n      <td>0.464937</td>\n      <td>0.448993</td>\n      <td>0.475487</td>\n      <td>0.415134</td>\n      <td>0.449890</td>\n    </tr>\n    <tr>\n      <td>940</td>\n      <td>ff6acf404</td>\n      <td>7</td>\n      <td>0.401710</td>\n      <td>0.517897</td>\n      <td>0.441469</td>\n      <td>0.528072</td>\n      <td>0.466516</td>\n      <td>0.453345</td>\n      <td>0.431434</td>\n      <td>0.632564</td>\n      <td>...</td>\n      <td>0.484439</td>\n      <td>0.472330</td>\n      <td>0.453184</td>\n      <td>0.441970</td>\n      <td>0.452308</td>\n      <td>0.447559</td>\n      <td>0.452684</td>\n      <td>0.491552</td>\n      <td>0.369433</td>\n      <td>0.464048</td>\n    </tr>\n    <tr>\n      <td>941</td>\n      <td>ff858780b</td>\n      <td>7</td>\n      <td>0.396295</td>\n      <td>0.448424</td>\n      <td>0.450516</td>\n      <td>0.764075</td>\n      <td>0.408176</td>\n      <td>0.452635</td>\n      <td>0.447680</td>\n      <td>0.529033</td>\n      <td>...</td>\n      <td>0.458049</td>\n      <td>0.507934</td>\n      <td>0.555631</td>\n      <td>0.453104</td>\n      <td>0.460014</td>\n      <td>0.441688</td>\n      <td>0.456972</td>\n      <td>0.413493</td>\n      <td>0.437579</td>\n      <td>0.444214</td>\n    </tr>\n    <tr>\n      <td>942</td>\n      <td>ffb8d8391</td>\n      <td>7</td>\n      <td>0.414999</td>\n      <td>0.498053</td>\n      <td>0.445012</td>\n      <td>0.843274</td>\n      <td>0.453847</td>\n      <td>0.703018</td>\n      <td>0.455419</td>\n      <td>0.526107</td>\n      <td>...</td>\n      <td>0.475652</td>\n      <td>0.465718</td>\n      <td>0.473042</td>\n      <td>0.439967</td>\n      <td>0.680162</td>\n      <td>0.454355</td>\n      <td>0.454225</td>\n      <td>0.464715</td>\n      <td>0.424295</td>\n      <td>0.466037</td>\n    </tr>\n    <tr>\n      <td>943</td>\n      <td>ffc6031f8</td>\n      <td>7</td>\n      <td>0.363061</td>\n      <td>0.461814</td>\n      <td>0.461768</td>\n      <td>0.820779</td>\n      <td>0.417076</td>\n      <td>0.432959</td>\n      <td>0.453850</td>\n      <td>0.954595</td>\n      <td>...</td>\n      <td>0.541766</td>\n      <td>0.829650</td>\n      <td>0.473982</td>\n      <td>0.422907</td>\n      <td>0.473129</td>\n      <td>0.468811</td>\n      <td>0.434239</td>\n      <td>0.421200</td>\n      <td>0.355111</td>\n      <td>0.468925</td>\n    </tr>\n  </tbody>\n</table>\n<p>944 rows × 26 columns</p>\n</div>"
     },
     "metadata": {},
     "execution_count": 4
    }
   ],
   "source": [
    "oof2 = oof.groupby('recording_id').max().reset_index(drop=False)\n",
    "oof2"
   ]
  },
  {
   "cell_type": "code",
   "execution_count": 21,
   "metadata": {},
   "outputs": [
    {
     "output_type": "execute_result",
     "data": {
      "text/plain": [
       "    recording_id  patch        s0        s1        s2        s3        s4  \\\n",
       "0      003bec244      7  0.412226  0.735529  0.432691  0.640915  0.458391   \n",
       "1      00d442df7      7  0.937391  0.389712  0.438265  0.565592  0.442325   \n",
       "2      0275e127d      7  0.430878  0.449197  0.428510  0.579071  0.381663   \n",
       "3      0295e3234      7  0.395970  0.434315  0.443314  0.570025  0.391342   \n",
       "4      03d77fede      7  0.923145  0.399772  0.447351  0.690227  0.466360   \n",
       "..           ...    ...       ...       ...       ...       ...       ...   \n",
       "220    fc6609050      7  0.931611  0.427007  0.436710  0.586074  0.470738   \n",
       "221    fd3f0d49b      7  0.401164  0.461410  0.439599  0.514056  0.465209   \n",
       "222    fd6a520d8      7  0.465236  0.522644  0.448432  0.569444  0.429420   \n",
       "223    fdda158ed      7  0.506061  0.429552  0.486171  0.787032  0.517274   \n",
       "224    ffb8d8391      7  0.414999  0.498053  0.445012  0.843274  0.453847   \n",
       "\n",
       "           s5        s6        s7  ...       s14       s15       s16  \\\n",
       "0    0.453542  0.470479  0.826130  ...  0.641557  0.498574  0.485308   \n",
       "1    0.421982  0.441543  0.528704  ...  0.436010  0.420344  0.458261   \n",
       "2    0.439667  0.497176  0.506813  ...  0.378376  0.443497  0.433554   \n",
       "3    0.491252  0.491981  0.577873  ...  0.468664  0.867033  0.455383   \n",
       "4    0.440262  0.445056  0.528162  ...  0.470584  0.425233  0.436951   \n",
       "..        ...       ...       ...  ...       ...       ...       ...   \n",
       "220  0.424197  0.434461  0.542991  ...  0.482250  0.423115  0.444977   \n",
       "221  0.448442  0.898446  0.850390  ...  0.502781  0.601141  0.467151   \n",
       "222  0.455672  0.466737  0.514914  ...  0.585499  0.508834  0.515500   \n",
       "223  0.473593  0.432312  0.556406  ...  0.494372  0.465224  0.535892   \n",
       "224  0.703018  0.455419  0.526107  ...  0.475652  0.465718  0.473042   \n",
       "\n",
       "          s17       s18       s19       s20       s21       s22       s23  \n",
       "0    0.421461  0.435581  0.457825  0.521423  0.448831  0.489935  0.489930  \n",
       "1    0.447224  0.917958  0.400908  0.446008  0.464050  0.389740  0.439705  \n",
       "2    0.569627  0.483298  0.458210  0.490271  0.364377  0.374726  0.431382  \n",
       "3    0.453805  0.475637  0.490959  0.541751  0.411729  0.413198  0.887783  \n",
       "4    0.409635  0.903312  0.445387  0.433686  0.506244  0.417045  0.446413  \n",
       "..        ...       ...       ...       ...       ...       ...       ...  \n",
       "220  0.383832  0.877951  0.409061  0.430103  0.465813  0.334203  0.443783  \n",
       "221  0.445415  0.439422  0.456947  0.478833  0.472604  0.394190  0.449391  \n",
       "222  0.440550  0.595795  0.464189  0.473979  0.483246  0.508431  0.460437  \n",
       "223  0.412804  0.772447  0.417116  0.447050  0.461329  0.491259  0.464743  \n",
       "224  0.439967  0.680162  0.454355  0.454225  0.464715  0.424295  0.466037  \n",
       "\n",
       "[225 rows x 26 columns]"
      ],
      "text/html": "<div>\n<style scoped>\n    .dataframe tbody tr th:only-of-type {\n        vertical-align: middle;\n    }\n\n    .dataframe tbody tr th {\n        vertical-align: top;\n    }\n\n    .dataframe thead th {\n        text-align: right;\n    }\n</style>\n<table border=\"1\" class=\"dataframe\">\n  <thead>\n    <tr style=\"text-align: right;\">\n      <th></th>\n      <th>recording_id</th>\n      <th>patch</th>\n      <th>s0</th>\n      <th>s1</th>\n      <th>s2</th>\n      <th>s3</th>\n      <th>s4</th>\n      <th>s5</th>\n      <th>s6</th>\n      <th>s7</th>\n      <th>...</th>\n      <th>s14</th>\n      <th>s15</th>\n      <th>s16</th>\n      <th>s17</th>\n      <th>s18</th>\n      <th>s19</th>\n      <th>s20</th>\n      <th>s21</th>\n      <th>s22</th>\n      <th>s23</th>\n    </tr>\n  </thead>\n  <tbody>\n    <tr>\n      <td>0</td>\n      <td>003bec244</td>\n      <td>7</td>\n      <td>0.412226</td>\n      <td>0.735529</td>\n      <td>0.432691</td>\n      <td>0.640915</td>\n      <td>0.458391</td>\n      <td>0.453542</td>\n      <td>0.470479</td>\n      <td>0.826130</td>\n      <td>...</td>\n      <td>0.641557</td>\n      <td>0.498574</td>\n      <td>0.485308</td>\n      <td>0.421461</td>\n      <td>0.435581</td>\n      <td>0.457825</td>\n      <td>0.521423</td>\n      <td>0.448831</td>\n      <td>0.489935</td>\n      <td>0.489930</td>\n    </tr>\n    <tr>\n      <td>1</td>\n      <td>00d442df7</td>\n      <td>7</td>\n      <td>0.937391</td>\n      <td>0.389712</td>\n      <td>0.438265</td>\n      <td>0.565592</td>\n      <td>0.442325</td>\n      <td>0.421982</td>\n      <td>0.441543</td>\n      <td>0.528704</td>\n      <td>...</td>\n      <td>0.436010</td>\n      <td>0.420344</td>\n      <td>0.458261</td>\n      <td>0.447224</td>\n      <td>0.917958</td>\n      <td>0.400908</td>\n      <td>0.446008</td>\n      <td>0.464050</td>\n      <td>0.389740</td>\n      <td>0.439705</td>\n    </tr>\n    <tr>\n      <td>2</td>\n      <td>0275e127d</td>\n      <td>7</td>\n      <td>0.430878</td>\n      <td>0.449197</td>\n      <td>0.428510</td>\n      <td>0.579071</td>\n      <td>0.381663</td>\n      <td>0.439667</td>\n      <td>0.497176</td>\n      <td>0.506813</td>\n      <td>...</td>\n      <td>0.378376</td>\n      <td>0.443497</td>\n      <td>0.433554</td>\n      <td>0.569627</td>\n      <td>0.483298</td>\n      <td>0.458210</td>\n      <td>0.490271</td>\n      <td>0.364377</td>\n      <td>0.374726</td>\n      <td>0.431382</td>\n    </tr>\n    <tr>\n      <td>3</td>\n      <td>0295e3234</td>\n      <td>7</td>\n      <td>0.395970</td>\n      <td>0.434315</td>\n      <td>0.443314</td>\n      <td>0.570025</td>\n      <td>0.391342</td>\n      <td>0.491252</td>\n      <td>0.491981</td>\n      <td>0.577873</td>\n      <td>...</td>\n      <td>0.468664</td>\n      <td>0.867033</td>\n      <td>0.455383</td>\n      <td>0.453805</td>\n      <td>0.475637</td>\n      <td>0.490959</td>\n      <td>0.541751</td>\n      <td>0.411729</td>\n      <td>0.413198</td>\n      <td>0.887783</td>\n    </tr>\n    <tr>\n      <td>4</td>\n      <td>03d77fede</td>\n      <td>7</td>\n      <td>0.923145</td>\n      <td>0.399772</td>\n      <td>0.447351</td>\n      <td>0.690227</td>\n      <td>0.466360</td>\n      <td>0.440262</td>\n      <td>0.445056</td>\n      <td>0.528162</td>\n      <td>...</td>\n      <td>0.470584</td>\n      <td>0.425233</td>\n      <td>0.436951</td>\n      <td>0.409635</td>\n      <td>0.903312</td>\n      <td>0.445387</td>\n      <td>0.433686</td>\n      <td>0.506244</td>\n      <td>0.417045</td>\n      <td>0.446413</td>\n    </tr>\n    <tr>\n      <td>...</td>\n      <td>...</td>\n      <td>...</td>\n      <td>...</td>\n      <td>...</td>\n      <td>...</td>\n      <td>...</td>\n      <td>...</td>\n      <td>...</td>\n      <td>...</td>\n      <td>...</td>\n      <td>...</td>\n      <td>...</td>\n      <td>...</td>\n      <td>...</td>\n      <td>...</td>\n      <td>...</td>\n      <td>...</td>\n      <td>...</td>\n      <td>...</td>\n      <td>...</td>\n      <td>...</td>\n    </tr>\n    <tr>\n      <td>220</td>\n      <td>fc6609050</td>\n      <td>7</td>\n      <td>0.931611</td>\n      <td>0.427007</td>\n      <td>0.436710</td>\n      <td>0.586074</td>\n      <td>0.470738</td>\n      <td>0.424197</td>\n      <td>0.434461</td>\n      <td>0.542991</td>\n      <td>...</td>\n      <td>0.482250</td>\n      <td>0.423115</td>\n      <td>0.444977</td>\n      <td>0.383832</td>\n      <td>0.877951</td>\n      <td>0.409061</td>\n      <td>0.430103</td>\n      <td>0.465813</td>\n      <td>0.334203</td>\n      <td>0.443783</td>\n    </tr>\n    <tr>\n      <td>221</td>\n      <td>fd3f0d49b</td>\n      <td>7</td>\n      <td>0.401164</td>\n      <td>0.461410</td>\n      <td>0.439599</td>\n      <td>0.514056</td>\n      <td>0.465209</td>\n      <td>0.448442</td>\n      <td>0.898446</td>\n      <td>0.850390</td>\n      <td>...</td>\n      <td>0.502781</td>\n      <td>0.601141</td>\n      <td>0.467151</td>\n      <td>0.445415</td>\n      <td>0.439422</td>\n      <td>0.456947</td>\n      <td>0.478833</td>\n      <td>0.472604</td>\n      <td>0.394190</td>\n      <td>0.449391</td>\n    </tr>\n    <tr>\n      <td>222</td>\n      <td>fd6a520d8</td>\n      <td>7</td>\n      <td>0.465236</td>\n      <td>0.522644</td>\n      <td>0.448432</td>\n      <td>0.569444</td>\n      <td>0.429420</td>\n      <td>0.455672</td>\n      <td>0.466737</td>\n      <td>0.514914</td>\n      <td>...</td>\n      <td>0.585499</td>\n      <td>0.508834</td>\n      <td>0.515500</td>\n      <td>0.440550</td>\n      <td>0.595795</td>\n      <td>0.464189</td>\n      <td>0.473979</td>\n      <td>0.483246</td>\n      <td>0.508431</td>\n      <td>0.460437</td>\n    </tr>\n    <tr>\n      <td>223</td>\n      <td>fdda158ed</td>\n      <td>7</td>\n      <td>0.506061</td>\n      <td>0.429552</td>\n      <td>0.486171</td>\n      <td>0.787032</td>\n      <td>0.517274</td>\n      <td>0.473593</td>\n      <td>0.432312</td>\n      <td>0.556406</td>\n      <td>...</td>\n      <td>0.494372</td>\n      <td>0.465224</td>\n      <td>0.535892</td>\n      <td>0.412804</td>\n      <td>0.772447</td>\n      <td>0.417116</td>\n      <td>0.447050</td>\n      <td>0.461329</td>\n      <td>0.491259</td>\n      <td>0.464743</td>\n    </tr>\n    <tr>\n      <td>224</td>\n      <td>ffb8d8391</td>\n      <td>7</td>\n      <td>0.414999</td>\n      <td>0.498053</td>\n      <td>0.445012</td>\n      <td>0.843274</td>\n      <td>0.453847</td>\n      <td>0.703018</td>\n      <td>0.455419</td>\n      <td>0.526107</td>\n      <td>...</td>\n      <td>0.475652</td>\n      <td>0.465718</td>\n      <td>0.473042</td>\n      <td>0.439967</td>\n      <td>0.680162</td>\n      <td>0.454355</td>\n      <td>0.454225</td>\n      <td>0.464715</td>\n      <td>0.424295</td>\n      <td>0.466037</td>\n    </tr>\n  </tbody>\n</table>\n<p>225 rows × 26 columns</p>\n</div>"
     },
     "metadata": {},
     "execution_count": 21
    }
   ],
   "source": [
    "tp_oof = oof2[oof2['recording_id'].isin(tp2['recording_id'])].reset_index(drop=True).sort_values('recording_id')\n",
    "tp_oof"
   ]
  },
  {
   "cell_type": "code",
   "execution_count": 20,
   "metadata": {},
   "outputs": [
    {
     "output_type": "execute_result",
     "data": {
      "text/plain": [
       "      s0  s1  s2  s3  s4  s5  s6  s7  s8  s9  ...  s15  s16  s17  s18  s19  \\\n",
       "0      0   0   0   0   0   0   0   0   0   0  ...    0    0    0    0    0   \n",
       "1      0   0   0   0   0   0   0   0   0   0  ...    0    0    0    0    0   \n",
       "2      0   0   0   0   0   0   0   0   0   0  ...    0    0    0    0    0   \n",
       "3      0   0   0   0   0   0   0   0   0   0  ...    0    0    1    0    0   \n",
       "4      0   0   0   0   0   0   0   0   0   0  ...    0    0    0    0    0   \n",
       "...   ..  ..  ..  ..  ..  ..  ..  ..  ..  ..  ...  ...  ...  ...  ...  ...   \n",
       "1127   0   0   0   0   0   0   0   0   0   0  ...    0    0    0    0    0   \n",
       "1128   0   0   0   0   1   0   0   0   0   0  ...    0    0    0    0    0   \n",
       "1129   1   0   0   0   0   0   0   0   0   0  ...    0    0    0    0    0   \n",
       "1130   0   0   0   0   0   1   0   0   0   0  ...    0    0    0    0    0   \n",
       "1131   0   0   0   0   0   0   0   0   0   0  ...    0    0    0    1    0   \n",
       "\n",
       "      s20  s21  s22  s23  recording_id  \n",
       "0       0    0    0    0     003bec244  \n",
       "1       0    0    0    1     006ab765f  \n",
       "2       0    0    0    0     007f87ba2  \n",
       "3       0    0    0    0     0099c367b  \n",
       "4       0    0    0    0     009b760e6  \n",
       "...   ...  ...  ...  ...           ...  \n",
       "1127    0    0    0    0     fe8d9ac40  \n",
       "1128    0    0    0    0     fea6b438a  \n",
       "1129    0    0    0    0     ff2eb9ce5  \n",
       "1130    0    0    0    0     ffb8d8391  \n",
       "1131    0    0    0    0     ffb9a7b9a  \n",
       "\n",
       "[1132 rows x 25 columns]"
      ],
      "text/html": "<div>\n<style scoped>\n    .dataframe tbody tr th:only-of-type {\n        vertical-align: middle;\n    }\n\n    .dataframe tbody tr th {\n        vertical-align: top;\n    }\n\n    .dataframe thead th {\n        text-align: right;\n    }\n</style>\n<table border=\"1\" class=\"dataframe\">\n  <thead>\n    <tr style=\"text-align: right;\">\n      <th></th>\n      <th>s0</th>\n      <th>s1</th>\n      <th>s2</th>\n      <th>s3</th>\n      <th>s4</th>\n      <th>s5</th>\n      <th>s6</th>\n      <th>s7</th>\n      <th>s8</th>\n      <th>s9</th>\n      <th>...</th>\n      <th>s15</th>\n      <th>s16</th>\n      <th>s17</th>\n      <th>s18</th>\n      <th>s19</th>\n      <th>s20</th>\n      <th>s21</th>\n      <th>s22</th>\n      <th>s23</th>\n      <th>recording_id</th>\n    </tr>\n  </thead>\n  <tbody>\n    <tr>\n      <td>0</td>\n      <td>0</td>\n      <td>0</td>\n      <td>0</td>\n      <td>0</td>\n      <td>0</td>\n      <td>0</td>\n      <td>0</td>\n      <td>0</td>\n      <td>0</td>\n      <td>0</td>\n      <td>...</td>\n      <td>0</td>\n      <td>0</td>\n      <td>0</td>\n      <td>0</td>\n      <td>0</td>\n      <td>0</td>\n      <td>0</td>\n      <td>0</td>\n      <td>0</td>\n      <td>003bec244</td>\n    </tr>\n    <tr>\n      <td>1</td>\n      <td>0</td>\n      <td>0</td>\n      <td>0</td>\n      <td>0</td>\n      <td>0</td>\n      <td>0</td>\n      <td>0</td>\n      <td>0</td>\n      <td>0</td>\n      <td>0</td>\n      <td>...</td>\n      <td>0</td>\n      <td>0</td>\n      <td>0</td>\n      <td>0</td>\n      <td>0</td>\n      <td>0</td>\n      <td>0</td>\n      <td>0</td>\n      <td>1</td>\n      <td>006ab765f</td>\n    </tr>\n    <tr>\n      <td>2</td>\n      <td>0</td>\n      <td>0</td>\n      <td>0</td>\n      <td>0</td>\n      <td>0</td>\n      <td>0</td>\n      <td>0</td>\n      <td>0</td>\n      <td>0</td>\n      <td>0</td>\n      <td>...</td>\n      <td>0</td>\n      <td>0</td>\n      <td>0</td>\n      <td>0</td>\n      <td>0</td>\n      <td>0</td>\n      <td>0</td>\n      <td>0</td>\n      <td>0</td>\n      <td>007f87ba2</td>\n    </tr>\n    <tr>\n      <td>3</td>\n      <td>0</td>\n      <td>0</td>\n      <td>0</td>\n      <td>0</td>\n      <td>0</td>\n      <td>0</td>\n      <td>0</td>\n      <td>0</td>\n      <td>0</td>\n      <td>0</td>\n      <td>...</td>\n      <td>0</td>\n      <td>0</td>\n      <td>1</td>\n      <td>0</td>\n      <td>0</td>\n      <td>0</td>\n      <td>0</td>\n      <td>0</td>\n      <td>0</td>\n      <td>0099c367b</td>\n    </tr>\n    <tr>\n      <td>4</td>\n      <td>0</td>\n      <td>0</td>\n      <td>0</td>\n      <td>0</td>\n      <td>0</td>\n      <td>0</td>\n      <td>0</td>\n      <td>0</td>\n      <td>0</td>\n      <td>0</td>\n      <td>...</td>\n      <td>0</td>\n      <td>0</td>\n      <td>0</td>\n      <td>0</td>\n      <td>0</td>\n      <td>0</td>\n      <td>0</td>\n      <td>0</td>\n      <td>0</td>\n      <td>009b760e6</td>\n    </tr>\n    <tr>\n      <td>...</td>\n      <td>...</td>\n      <td>...</td>\n      <td>...</td>\n      <td>...</td>\n      <td>...</td>\n      <td>...</td>\n      <td>...</td>\n      <td>...</td>\n      <td>...</td>\n      <td>...</td>\n      <td>...</td>\n      <td>...</td>\n      <td>...</td>\n      <td>...</td>\n      <td>...</td>\n      <td>...</td>\n      <td>...</td>\n      <td>...</td>\n      <td>...</td>\n      <td>...</td>\n      <td>...</td>\n    </tr>\n    <tr>\n      <td>1127</td>\n      <td>0</td>\n      <td>0</td>\n      <td>0</td>\n      <td>0</td>\n      <td>0</td>\n      <td>0</td>\n      <td>0</td>\n      <td>0</td>\n      <td>0</td>\n      <td>0</td>\n      <td>...</td>\n      <td>0</td>\n      <td>0</td>\n      <td>0</td>\n      <td>0</td>\n      <td>0</td>\n      <td>0</td>\n      <td>0</td>\n      <td>0</td>\n      <td>0</td>\n      <td>fe8d9ac40</td>\n    </tr>\n    <tr>\n      <td>1128</td>\n      <td>0</td>\n      <td>0</td>\n      <td>0</td>\n      <td>0</td>\n      <td>1</td>\n      <td>0</td>\n      <td>0</td>\n      <td>0</td>\n      <td>0</td>\n      <td>0</td>\n      <td>...</td>\n      <td>0</td>\n      <td>0</td>\n      <td>0</td>\n      <td>0</td>\n      <td>0</td>\n      <td>0</td>\n      <td>0</td>\n      <td>0</td>\n      <td>0</td>\n      <td>fea6b438a</td>\n    </tr>\n    <tr>\n      <td>1129</td>\n      <td>1</td>\n      <td>0</td>\n      <td>0</td>\n      <td>0</td>\n      <td>0</td>\n      <td>0</td>\n      <td>0</td>\n      <td>0</td>\n      <td>0</td>\n      <td>0</td>\n      <td>...</td>\n      <td>0</td>\n      <td>0</td>\n      <td>0</td>\n      <td>0</td>\n      <td>0</td>\n      <td>0</td>\n      <td>0</td>\n      <td>0</td>\n      <td>0</td>\n      <td>ff2eb9ce5</td>\n    </tr>\n    <tr>\n      <td>1130</td>\n      <td>0</td>\n      <td>0</td>\n      <td>0</td>\n      <td>0</td>\n      <td>0</td>\n      <td>1</td>\n      <td>0</td>\n      <td>0</td>\n      <td>0</td>\n      <td>0</td>\n      <td>...</td>\n      <td>0</td>\n      <td>0</td>\n      <td>0</td>\n      <td>0</td>\n      <td>0</td>\n      <td>0</td>\n      <td>0</td>\n      <td>0</td>\n      <td>0</td>\n      <td>ffb8d8391</td>\n    </tr>\n    <tr>\n      <td>1131</td>\n      <td>0</td>\n      <td>0</td>\n      <td>0</td>\n      <td>0</td>\n      <td>0</td>\n      <td>0</td>\n      <td>0</td>\n      <td>0</td>\n      <td>0</td>\n      <td>0</td>\n      <td>...</td>\n      <td>0</td>\n      <td>0</td>\n      <td>0</td>\n      <td>1</td>\n      <td>0</td>\n      <td>0</td>\n      <td>0</td>\n      <td>0</td>\n      <td>0</td>\n      <td>ffb9a7b9a</td>\n    </tr>\n  </tbody>\n</table>\n<p>1132 rows × 25 columns</p>\n</div>"
     },
     "metadata": {},
     "execution_count": 20
    }
   ],
   "source": [
    "tp = pd.read_csv(\"../input/rfcx-species-audio-detection/train_tp.csv\")\n",
    "tp_fnames, tp_labels = [], []\n",
    "for recording_id, df in tp.groupby(\"recording_id\"):\n",
    "    v = sum([np.eye(24)[i] for i in df[\"species_id\"].tolist()])\n",
    "    v = (v >= 1).astype(int).tolist()\n",
    "    tp_fnames.append(recording_id)\n",
    "    tp_labels.append(v) \n",
    "\n",
    "tp2 = pd.DataFrame(tp_labels, columns=[f's{i}' for i in range(24)])\n",
    "tp2['recording_id'] = tp_fnames\n",
    "tp2 = tp2.sort_values('recording_id')\n",
    "tp2\n"
   ]
  },
  {
   "cell_type": "code",
   "execution_count": 22,
   "metadata": {},
   "outputs": [],
   "source": [
    "tp2 = tp2[tp2[\"recording_id\"].isin(tp_oof[\"recording_id\"])]"
   ]
  },
  {
   "cell_type": "code",
   "execution_count": 23,
   "metadata": {},
   "outputs": [],
   "source": [
    "pred = tp_oof.loc[:, 's0':'s23'].values\n",
    "target = tp2.loc[:, 's0':'s23'].values"
   ]
  },
  {
   "cell_type": "code",
   "execution_count": 24,
   "metadata": {},
   "outputs": [
    {
     "output_type": "execute_result",
     "data": {
      "text/plain": [
       "array([0.99534884, 0.98046512, 0.91552511, 0.80093023, 0.97209302,\n",
       "       0.98232558, 1.        , 0.93255814, 0.96837209, 0.99803408,\n",
       "       0.99897119, 0.96604651, 0.98651163, 1.        , 0.99162791,\n",
       "       0.97395349, 1.        , 0.9944186 , 0.95023256, 1.        ,\n",
       "       1.        , 0.97767442, 0.99382716, 0.98577563])"
      ]
     },
     "metadata": {},
     "execution_count": 24
    }
   ],
   "source": [
    "from sklearn.metrics import roc_auc_score\n",
    "import matplotlib.pyplot as plt\n",
    "auc = roc_auc_score(target, pred, average=None)\n",
    "auc"
   ]
  },
  {
   "cell_type": "code",
   "execution_count": 25,
   "metadata": {},
   "outputs": [
    {
     "output_type": "execute_result",
     "data": {
      "text/plain": [
       "<BarContainer object of 24 artists>"
      ]
     },
     "metadata": {},
     "execution_count": 25
    },
    {
     "output_type": "display_data",
     "data": {
      "text/plain": "<Figure size 432x288 with 1 Axes>",
      "image/svg+xml": "<?xml version=\"1.0\" encoding=\"utf-8\" standalone=\"no\"?>\n<!DOCTYPE svg PUBLIC \"-//W3C//DTD SVG 1.1//EN\"\n  \"http://www.w3.org/Graphics/SVG/1.1/DTD/svg11.dtd\">\n<!-- Created with matplotlib (https://matplotlib.org/) -->\n<svg height=\"248.518125pt\" version=\"1.1\" viewBox=\"0 0 372.103125 248.518125\" width=\"372.103125pt\" xmlns=\"http://www.w3.org/2000/svg\" xmlns:xlink=\"http://www.w3.org/1999/xlink\">\n <defs>\n  <style type=\"text/css\">\n*{stroke-linecap:butt;stroke-linejoin:round;}\n  </style>\n </defs>\n <g id=\"figure_1\">\n  <g id=\"patch_1\">\n   <path d=\"M 0 248.518125 \nL 372.103125 248.518125 \nL 372.103125 0 \nL 0 0 \nz\n\" style=\"fill:none;\"/>\n  </g>\n  <g id=\"axes_1\">\n   <g id=\"patch_2\">\n    <path d=\"M 30.103125 224.64 \nL 364.903125 224.64 \nL 364.903125 7.2 \nL 30.103125 7.2 \nz\n\" style=\"fill:#ffffff;\"/>\n   </g>\n   <g id=\"patch_3\">\n    <path clip-path=\"url(#p842645f4fd)\" d=\"M 45.321307 224.64 \nL 55.552017 224.64 \nL 55.552017 18.517475 \nL 45.321307 18.517475 \nz\n\" style=\"fill:#1f77b4;\"/>\n   </g>\n   <g id=\"patch_4\">\n    <path clip-path=\"url(#p842645f4fd)\" d=\"M 58.109695 224.64 \nL 68.340405 224.64 \nL 68.340405 21.599681 \nL 58.109695 21.599681 \nz\n\" style=\"fill:#1f77b4;\"/>\n   </g>\n   <g id=\"patch_5\">\n    <path clip-path=\"url(#p842645f4fd)\" d=\"M 70.898083 224.64 \nL 81.128793 224.64 \nL 81.128793 35.047828 \nL 70.898083 35.047828 \nz\n\" style=\"fill:#1f77b4;\"/>\n   </g>\n   <g id=\"patch_6\">\n    <path clip-path=\"url(#p842645f4fd)\" d=\"M 83.686471 224.64 \nL 93.917182 224.64 \nL 93.917182 58.778791 \nL 83.686471 58.778791 \nz\n\" style=\"fill:#1f77b4;\"/>\n   </g>\n   <g id=\"patch_7\">\n    <path clip-path=\"url(#p842645f4fd)\" d=\"M 96.474859 224.64 \nL 106.70557 224.64 \nL 106.70557 23.333422 \nL 96.474859 23.333422 \nz\n\" style=\"fill:#1f77b4;\"/>\n   </g>\n   <g id=\"patch_8\">\n    <path clip-path=\"url(#p842645f4fd)\" d=\"M 109.263247 224.64 \nL 119.493958 224.64 \nL 119.493958 21.214405 \nL 109.263247 21.214405 \nz\n\" style=\"fill:#1f77b4;\"/>\n   </g>\n   <g id=\"patch_9\">\n    <path clip-path=\"url(#p842645f4fd)\" d=\"M 122.051635 224.64 \nL 132.282346 224.64 \nL 132.282346 17.554286 \nL 122.051635 17.554286 \nz\n\" style=\"fill:#1f77b4;\"/>\n   </g>\n   <g id=\"patch_10\">\n    <path clip-path=\"url(#p842645f4fd)\" d=\"M 134.840023 224.64 \nL 145.070734 224.64 \nL 145.070734 31.520532 \nL 134.840023 31.520532 \nz\n\" style=\"fill:#1f77b4;\"/>\n   </g>\n   <g id=\"patch_11\">\n    <path clip-path=\"url(#p842645f4fd)\" d=\"M 147.628411 224.64 \nL 157.859122 224.64 \nL 157.859122 24.103973 \nL 147.628411 24.103973 \nz\n\" style=\"fill:#1f77b4;\"/>\n   </g>\n   <g id=\"patch_12\">\n    <path clip-path=\"url(#p842645f4fd)\" d=\"M 160.4168 224.64 \nL 170.64751 224.64 \nL 170.64751 17.9614 \nL 160.4168 17.9614 \nz\n\" style=\"fill:#1f77b4;\"/>\n   </g>\n   <g id=\"patch_13\">\n    <path clip-path=\"url(#p842645f4fd)\" d=\"M 173.205188 224.64 \nL 183.435898 224.64 \nL 183.435898 17.767337 \nL 173.205188 17.767337 \nz\n\" style=\"fill:#1f77b4;\"/>\n   </g>\n   <g id=\"patch_14\">\n    <path clip-path=\"url(#p842645f4fd)\" d=\"M 185.993576 224.64 \nL 196.224286 224.64 \nL 196.224286 24.585568 \nL 185.993576 24.585568 \nz\n\" style=\"fill:#1f77b4;\"/>\n   </g>\n   <g id=\"patch_15\">\n    <path clip-path=\"url(#p842645f4fd)\" d=\"M 198.781964 224.64 \nL 209.012674 224.64 \nL 209.012674 20.347535 \nL 198.781964 20.347535 \nz\n\" style=\"fill:#1f77b4;\"/>\n   </g>\n   <g id=\"patch_16\">\n    <path clip-path=\"url(#p842645f4fd)\" d=\"M 211.570352 224.64 \nL 221.801062 224.64 \nL 221.801062 17.554286 \nL 211.570352 17.554286 \nz\n\" style=\"fill:#1f77b4;\"/>\n   </g>\n   <g id=\"patch_17\">\n    <path clip-path=\"url(#p842645f4fd)\" d=\"M 224.35874 224.64 \nL 234.58945 224.64 \nL 234.58945 19.288027 \nL 224.35874 19.288027 \nz\n\" style=\"fill:#1f77b4;\"/>\n   </g>\n   <g id=\"patch_18\">\n    <path clip-path=\"url(#p842645f4fd)\" d=\"M 237.147128 224.64 \nL 247.377839 224.64 \nL 247.377839 22.948146 \nL 237.147128 22.948146 \nz\n\" style=\"fill:#1f77b4;\"/>\n   </g>\n   <g id=\"patch_19\">\n    <path clip-path=\"url(#p842645f4fd)\" d=\"M 249.935516 224.64 \nL 260.166227 224.64 \nL 260.166227 17.554286 \nL 249.935516 17.554286 \nz\n\" style=\"fill:#1f77b4;\"/>\n   </g>\n   <g id=\"patch_20\">\n    <path clip-path=\"url(#p842645f4fd)\" d=\"M 262.723904 224.64 \nL 272.954615 224.64 \nL 272.954615 18.710113 \nL 262.723904 18.710113 \nz\n\" style=\"fill:#1f77b4;\"/>\n   </g>\n   <g id=\"patch_21\">\n    <path clip-path=\"url(#p842645f4fd)\" d=\"M 275.512292 224.64 \nL 285.743003 224.64 \nL 285.743003 27.860412 \nL 275.512292 27.860412 \nz\n\" style=\"fill:#1f77b4;\"/>\n   </g>\n   <g id=\"patch_22\">\n    <path clip-path=\"url(#p842645f4fd)\" d=\"M 288.30068 224.64 \nL 298.531391 224.64 \nL 298.531391 17.554286 \nL 288.30068 17.554286 \nz\n\" style=\"fill:#1f77b4;\"/>\n   </g>\n   <g id=\"patch_23\">\n    <path clip-path=\"url(#p842645f4fd)\" d=\"M 301.089068 224.64 \nL 311.319779 224.64 \nL 311.319779 17.554286 \nL 301.089068 17.554286 \nz\n\" style=\"fill:#1f77b4;\"/>\n   </g>\n   <g id=\"patch_24\">\n    <path clip-path=\"url(#p842645f4fd)\" d=\"M 313.877457 224.64 \nL 324.108167 224.64 \nL 324.108167 22.177595 \nL 313.877457 22.177595 \nz\n\" style=\"fill:#1f77b4;\"/>\n   </g>\n   <g id=\"patch_25\">\n    <path clip-path=\"url(#p842645f4fd)\" d=\"M 326.665845 224.64 \nL 336.896555 224.64 \nL 336.896555 18.832593 \nL 326.665845 18.832593 \nz\n\" style=\"fill:#1f77b4;\"/>\n   </g>\n   <g id=\"patch_26\">\n    <path clip-path=\"url(#p842645f4fd)\" d=\"M 339.454233 224.64 \nL 349.684943 224.64 \nL 349.684943 20.499949 \nL 339.454233 20.499949 \nz\n\" style=\"fill:#1f77b4;\"/>\n   </g>\n   <g id=\"matplotlib.axis_1\">\n    <g id=\"xtick_1\">\n     <g id=\"line2d_1\">\n      <defs>\n       <path d=\"M 0 0 \nL 0 3.5 \n\" id=\"ma6f0693706\" style=\"stroke:#000000;stroke-width:0.8;\"/>\n      </defs>\n      <g>\n       <use style=\"stroke:#000000;stroke-width:0.8;\" x=\"50.436662\" xlink:href=\"#ma6f0693706\" y=\"224.64\"/>\n      </g>\n     </g>\n     <g id=\"text_1\">\n      <!-- 0 -->\n      <defs>\n       <path d=\"M 31.78125 66.40625 \nQ 24.171875 66.40625 20.328125 58.90625 \nQ 16.5 51.421875 16.5 36.375 \nQ 16.5 21.390625 20.328125 13.890625 \nQ 24.171875 6.390625 31.78125 6.390625 \nQ 39.453125 6.390625 43.28125 13.890625 \nQ 47.125 21.390625 47.125 36.375 \nQ 47.125 51.421875 43.28125 58.90625 \nQ 39.453125 66.40625 31.78125 66.40625 \nz\nM 31.78125 74.21875 \nQ 44.046875 74.21875 50.515625 64.515625 \nQ 56.984375 54.828125 56.984375 36.375 \nQ 56.984375 17.96875 50.515625 8.265625 \nQ 44.046875 -1.421875 31.78125 -1.421875 \nQ 19.53125 -1.421875 13.0625 8.265625 \nQ 6.59375 17.96875 6.59375 36.375 \nQ 6.59375 54.828125 13.0625 64.515625 \nQ 19.53125 74.21875 31.78125 74.21875 \nz\n\" id=\"DejaVuSans-48\"/>\n      </defs>\n      <g transform=\"translate(47.255412 239.238437)scale(0.1 -0.1)\">\n       <use xlink:href=\"#DejaVuSans-48\"/>\n      </g>\n     </g>\n    </g>\n    <g id=\"xtick_2\">\n     <g id=\"line2d_2\">\n      <g>\n       <use style=\"stroke:#000000;stroke-width:0.8;\" x=\"114.378602\" xlink:href=\"#ma6f0693706\" y=\"224.64\"/>\n      </g>\n     </g>\n     <g id=\"text_2\">\n      <!-- 5 -->\n      <defs>\n       <path d=\"M 10.796875 72.90625 \nL 49.515625 72.90625 \nL 49.515625 64.59375 \nL 19.828125 64.59375 \nL 19.828125 46.734375 \nQ 21.96875 47.46875 24.109375 47.828125 \nQ 26.265625 48.1875 28.421875 48.1875 \nQ 40.625 48.1875 47.75 41.5 \nQ 54.890625 34.8125 54.890625 23.390625 \nQ 54.890625 11.625 47.5625 5.09375 \nQ 40.234375 -1.421875 26.90625 -1.421875 \nQ 22.3125 -1.421875 17.546875 -0.640625 \nQ 12.796875 0.140625 7.71875 1.703125 \nL 7.71875 11.625 \nQ 12.109375 9.234375 16.796875 8.0625 \nQ 21.484375 6.890625 26.703125 6.890625 \nQ 35.15625 6.890625 40.078125 11.328125 \nQ 45.015625 15.765625 45.015625 23.390625 \nQ 45.015625 31 40.078125 35.4375 \nQ 35.15625 39.890625 26.703125 39.890625 \nQ 22.75 39.890625 18.8125 39.015625 \nQ 14.890625 38.140625 10.796875 36.28125 \nz\n\" id=\"DejaVuSans-53\"/>\n      </defs>\n      <g transform=\"translate(111.197352 239.238437)scale(0.1 -0.1)\">\n       <use xlink:href=\"#DejaVuSans-53\"/>\n      </g>\n     </g>\n    </g>\n    <g id=\"xtick_3\">\n     <g id=\"line2d_3\">\n      <g>\n       <use style=\"stroke:#000000;stroke-width:0.8;\" x=\"178.320543\" xlink:href=\"#ma6f0693706\" y=\"224.64\"/>\n      </g>\n     </g>\n     <g id=\"text_3\">\n      <!-- 10 -->\n      <defs>\n       <path d=\"M 12.40625 8.296875 \nL 28.515625 8.296875 \nL 28.515625 63.921875 \nL 10.984375 60.40625 \nL 10.984375 69.390625 \nL 28.421875 72.90625 \nL 38.28125 72.90625 \nL 38.28125 8.296875 \nL 54.390625 8.296875 \nL 54.390625 0 \nL 12.40625 0 \nz\n\" id=\"DejaVuSans-49\"/>\n      </defs>\n      <g transform=\"translate(171.958043 239.238437)scale(0.1 -0.1)\">\n       <use xlink:href=\"#DejaVuSans-49\"/>\n       <use x=\"63.623047\" xlink:href=\"#DejaVuSans-48\"/>\n      </g>\n     </g>\n    </g>\n    <g id=\"xtick_4\">\n     <g id=\"line2d_4\">\n      <g>\n       <use style=\"stroke:#000000;stroke-width:0.8;\" x=\"242.262483\" xlink:href=\"#ma6f0693706\" y=\"224.64\"/>\n      </g>\n     </g>\n     <g id=\"text_4\">\n      <!-- 15 -->\n      <g transform=\"translate(235.899983 239.238437)scale(0.1 -0.1)\">\n       <use xlink:href=\"#DejaVuSans-49\"/>\n       <use x=\"63.623047\" xlink:href=\"#DejaVuSans-53\"/>\n      </g>\n     </g>\n    </g>\n    <g id=\"xtick_5\">\n     <g id=\"line2d_5\">\n      <g>\n       <use style=\"stroke:#000000;stroke-width:0.8;\" x=\"306.204424\" xlink:href=\"#ma6f0693706\" y=\"224.64\"/>\n      </g>\n     </g>\n     <g id=\"text_5\">\n      <!-- 20 -->\n      <defs>\n       <path d=\"M 19.1875 8.296875 \nL 53.609375 8.296875 \nL 53.609375 0 \nL 7.328125 0 \nL 7.328125 8.296875 \nQ 12.9375 14.109375 22.625 23.890625 \nQ 32.328125 33.6875 34.8125 36.53125 \nQ 39.546875 41.84375 41.421875 45.53125 \nQ 43.3125 49.21875 43.3125 52.78125 \nQ 43.3125 58.59375 39.234375 62.25 \nQ 35.15625 65.921875 28.609375 65.921875 \nQ 23.96875 65.921875 18.8125 64.3125 \nQ 13.671875 62.703125 7.8125 59.421875 \nL 7.8125 69.390625 \nQ 13.765625 71.78125 18.9375 73 \nQ 24.125 74.21875 28.421875 74.21875 \nQ 39.75 74.21875 46.484375 68.546875 \nQ 53.21875 62.890625 53.21875 53.421875 \nQ 53.21875 48.921875 51.53125 44.890625 \nQ 49.859375 40.875 45.40625 35.40625 \nQ 44.1875 33.984375 37.640625 27.21875 \nQ 31.109375 20.453125 19.1875 8.296875 \nz\n\" id=\"DejaVuSans-50\"/>\n      </defs>\n      <g transform=\"translate(299.841924 239.238437)scale(0.1 -0.1)\">\n       <use xlink:href=\"#DejaVuSans-50\"/>\n       <use x=\"63.623047\" xlink:href=\"#DejaVuSans-48\"/>\n      </g>\n     </g>\n    </g>\n   </g>\n   <g id=\"matplotlib.axis_2\">\n    <g id=\"ytick_1\">\n     <g id=\"line2d_6\">\n      <defs>\n       <path d=\"M 0 0 \nL -3.5 0 \n\" id=\"m3b13cbf42c\" style=\"stroke:#000000;stroke-width:0.8;\"/>\n      </defs>\n      <g>\n       <use style=\"stroke:#000000;stroke-width:0.8;\" x=\"30.103125\" xlink:href=\"#m3b13cbf42c\" y=\"224.64\"/>\n      </g>\n     </g>\n     <g id=\"text_6\">\n      <!-- 0.0 -->\n      <defs>\n       <path d=\"M 10.6875 12.40625 \nL 21 12.40625 \nL 21 0 \nL 10.6875 0 \nz\n\" id=\"DejaVuSans-46\"/>\n      </defs>\n      <g transform=\"translate(7.2 228.439219)scale(0.1 -0.1)\">\n       <use xlink:href=\"#DejaVuSans-48\"/>\n       <use x=\"63.623047\" xlink:href=\"#DejaVuSans-46\"/>\n       <use x=\"95.410156\" xlink:href=\"#DejaVuSans-48\"/>\n      </g>\n     </g>\n    </g>\n    <g id=\"ytick_2\">\n     <g id=\"line2d_7\">\n      <g>\n       <use style=\"stroke:#000000;stroke-width:0.8;\" x=\"30.103125\" xlink:href=\"#m3b13cbf42c\" y=\"183.222857\"/>\n      </g>\n     </g>\n     <g id=\"text_7\">\n      <!-- 0.2 -->\n      <g transform=\"translate(7.2 187.022076)scale(0.1 -0.1)\">\n       <use xlink:href=\"#DejaVuSans-48\"/>\n       <use x=\"63.623047\" xlink:href=\"#DejaVuSans-46\"/>\n       <use x=\"95.410156\" xlink:href=\"#DejaVuSans-50\"/>\n      </g>\n     </g>\n    </g>\n    <g id=\"ytick_3\">\n     <g id=\"line2d_8\">\n      <g>\n       <use style=\"stroke:#000000;stroke-width:0.8;\" x=\"30.103125\" xlink:href=\"#m3b13cbf42c\" y=\"141.805714\"/>\n      </g>\n     </g>\n     <g id=\"text_8\">\n      <!-- 0.4 -->\n      <defs>\n       <path d=\"M 37.796875 64.3125 \nL 12.890625 25.390625 \nL 37.796875 25.390625 \nz\nM 35.203125 72.90625 \nL 47.609375 72.90625 \nL 47.609375 25.390625 \nL 58.015625 25.390625 \nL 58.015625 17.1875 \nL 47.609375 17.1875 \nL 47.609375 0 \nL 37.796875 0 \nL 37.796875 17.1875 \nL 4.890625 17.1875 \nL 4.890625 26.703125 \nz\n\" id=\"DejaVuSans-52\"/>\n      </defs>\n      <g transform=\"translate(7.2 145.604933)scale(0.1 -0.1)\">\n       <use xlink:href=\"#DejaVuSans-48\"/>\n       <use x=\"63.623047\" xlink:href=\"#DejaVuSans-46\"/>\n       <use x=\"95.410156\" xlink:href=\"#DejaVuSans-52\"/>\n      </g>\n     </g>\n    </g>\n    <g id=\"ytick_4\">\n     <g id=\"line2d_9\">\n      <g>\n       <use style=\"stroke:#000000;stroke-width:0.8;\" x=\"30.103125\" xlink:href=\"#m3b13cbf42c\" y=\"100.388571\"/>\n      </g>\n     </g>\n     <g id=\"text_9\">\n      <!-- 0.6 -->\n      <defs>\n       <path d=\"M 33.015625 40.375 \nQ 26.375 40.375 22.484375 35.828125 \nQ 18.609375 31.296875 18.609375 23.390625 \nQ 18.609375 15.53125 22.484375 10.953125 \nQ 26.375 6.390625 33.015625 6.390625 \nQ 39.65625 6.390625 43.53125 10.953125 \nQ 47.40625 15.53125 47.40625 23.390625 \nQ 47.40625 31.296875 43.53125 35.828125 \nQ 39.65625 40.375 33.015625 40.375 \nz\nM 52.59375 71.296875 \nL 52.59375 62.3125 \nQ 48.875 64.0625 45.09375 64.984375 \nQ 41.3125 65.921875 37.59375 65.921875 \nQ 27.828125 65.921875 22.671875 59.328125 \nQ 17.53125 52.734375 16.796875 39.40625 \nQ 19.671875 43.65625 24.015625 45.921875 \nQ 28.375 48.1875 33.59375 48.1875 \nQ 44.578125 48.1875 50.953125 41.515625 \nQ 57.328125 34.859375 57.328125 23.390625 \nQ 57.328125 12.15625 50.6875 5.359375 \nQ 44.046875 -1.421875 33.015625 -1.421875 \nQ 20.359375 -1.421875 13.671875 8.265625 \nQ 6.984375 17.96875 6.984375 36.375 \nQ 6.984375 53.65625 15.1875 63.9375 \nQ 23.390625 74.21875 37.203125 74.21875 \nQ 40.921875 74.21875 44.703125 73.484375 \nQ 48.484375 72.75 52.59375 71.296875 \nz\n\" id=\"DejaVuSans-54\"/>\n      </defs>\n      <g transform=\"translate(7.2 104.18779)scale(0.1 -0.1)\">\n       <use xlink:href=\"#DejaVuSans-48\"/>\n       <use x=\"63.623047\" xlink:href=\"#DejaVuSans-46\"/>\n       <use x=\"95.410156\" xlink:href=\"#DejaVuSans-54\"/>\n      </g>\n     </g>\n    </g>\n    <g id=\"ytick_5\">\n     <g id=\"line2d_10\">\n      <g>\n       <use style=\"stroke:#000000;stroke-width:0.8;\" x=\"30.103125\" xlink:href=\"#m3b13cbf42c\" y=\"58.971429\"/>\n      </g>\n     </g>\n     <g id=\"text_10\">\n      <!-- 0.8 -->\n      <defs>\n       <path d=\"M 31.78125 34.625 \nQ 24.75 34.625 20.71875 30.859375 \nQ 16.703125 27.09375 16.703125 20.515625 \nQ 16.703125 13.921875 20.71875 10.15625 \nQ 24.75 6.390625 31.78125 6.390625 \nQ 38.8125 6.390625 42.859375 10.171875 \nQ 46.921875 13.96875 46.921875 20.515625 \nQ 46.921875 27.09375 42.890625 30.859375 \nQ 38.875 34.625 31.78125 34.625 \nz\nM 21.921875 38.8125 \nQ 15.578125 40.375 12.03125 44.71875 \nQ 8.5 49.078125 8.5 55.328125 \nQ 8.5 64.0625 14.71875 69.140625 \nQ 20.953125 74.21875 31.78125 74.21875 \nQ 42.671875 74.21875 48.875 69.140625 \nQ 55.078125 64.0625 55.078125 55.328125 \nQ 55.078125 49.078125 51.53125 44.71875 \nQ 48 40.375 41.703125 38.8125 \nQ 48.828125 37.15625 52.796875 32.3125 \nQ 56.78125 27.484375 56.78125 20.515625 \nQ 56.78125 9.90625 50.3125 4.234375 \nQ 43.84375 -1.421875 31.78125 -1.421875 \nQ 19.734375 -1.421875 13.25 4.234375 \nQ 6.78125 9.90625 6.78125 20.515625 \nQ 6.78125 27.484375 10.78125 32.3125 \nQ 14.796875 37.15625 21.921875 38.8125 \nz\nM 18.3125 54.390625 \nQ 18.3125 48.734375 21.84375 45.5625 \nQ 25.390625 42.390625 31.78125 42.390625 \nQ 38.140625 42.390625 41.71875 45.5625 \nQ 45.3125 48.734375 45.3125 54.390625 \nQ 45.3125 60.0625 41.71875 63.234375 \nQ 38.140625 66.40625 31.78125 66.40625 \nQ 25.390625 66.40625 21.84375 63.234375 \nQ 18.3125 60.0625 18.3125 54.390625 \nz\n\" id=\"DejaVuSans-56\"/>\n      </defs>\n      <g transform=\"translate(7.2 62.770647)scale(0.1 -0.1)\">\n       <use xlink:href=\"#DejaVuSans-48\"/>\n       <use x=\"63.623047\" xlink:href=\"#DejaVuSans-46\"/>\n       <use x=\"95.410156\" xlink:href=\"#DejaVuSans-56\"/>\n      </g>\n     </g>\n    </g>\n    <g id=\"ytick_6\">\n     <g id=\"line2d_11\">\n      <g>\n       <use style=\"stroke:#000000;stroke-width:0.8;\" x=\"30.103125\" xlink:href=\"#m3b13cbf42c\" y=\"17.554286\"/>\n      </g>\n     </g>\n     <g id=\"text_11\">\n      <!-- 1.0 -->\n      <g transform=\"translate(7.2 21.353504)scale(0.1 -0.1)\">\n       <use xlink:href=\"#DejaVuSans-49\"/>\n       <use x=\"63.623047\" xlink:href=\"#DejaVuSans-46\"/>\n       <use x=\"95.410156\" xlink:href=\"#DejaVuSans-48\"/>\n      </g>\n     </g>\n    </g>\n   </g>\n   <g id=\"patch_27\">\n    <path d=\"M 30.103125 224.64 \nL 30.103125 7.2 \n\" style=\"fill:none;stroke:#000000;stroke-linecap:square;stroke-linejoin:miter;stroke-width:0.8;\"/>\n   </g>\n   <g id=\"patch_28\">\n    <path d=\"M 364.903125 224.64 \nL 364.903125 7.2 \n\" style=\"fill:none;stroke:#000000;stroke-linecap:square;stroke-linejoin:miter;stroke-width:0.8;\"/>\n   </g>\n   <g id=\"patch_29\">\n    <path d=\"M 30.103125 224.64 \nL 364.903125 224.64 \n\" style=\"fill:none;stroke:#000000;stroke-linecap:square;stroke-linejoin:miter;stroke-width:0.8;\"/>\n   </g>\n   <g id=\"patch_30\">\n    <path d=\"M 30.103125 7.2 \nL 364.903125 7.2 \n\" style=\"fill:none;stroke:#000000;stroke-linecap:square;stroke-linejoin:miter;stroke-width:0.8;\"/>\n   </g>\n  </g>\n </g>\n <defs>\n  <clipPath id=\"p842645f4fd\">\n   <rect height=\"217.44\" width=\"334.8\" x=\"30.103125\" y=\"7.2\"/>\n  </clipPath>\n </defs>\n</svg>\n",
      "image/png": "[encoded data removed]"
     },
     "metadata": {
      "needs_background": "light"
     }
    }
   ],
   "source": [
    "plt.bar(np.arange(24), auc)"
   ]
  },
  {
   "cell_type": "code",
   "execution_count": 26,
   "metadata": {},
   "outputs": [
    {
     "output_type": "execute_result",
     "data": {
      "text/plain": [
       "(torch.Size([225, 24]), torch.Size([225, 24]))"
      ]
     },
     "metadata": {},
     "execution_count": 26
    }
   ],
   "source": [
    "pred = torch.tensor(pred)\n",
    "target = torch.tensor(target)\n",
    "pred.shape, target.shape"
   ]
  },
  {
   "cell_type": "code",
   "execution_count": 27,
   "metadata": {},
   "outputs": [
    {
     "output_type": "execute_result",
     "data": {
      "text/plain": [
       "0.8294745683670044"
      ]
     },
     "metadata": {},
     "execution_count": 27
    }
   ],
   "source": [
    "original_lwlrap = LWLRAP(pred, target)\n",
    "original_lwlrap"
   ]
  },
  {
   "cell_type": "code",
   "execution_count": null,
   "metadata": {},
   "outputs": [],
   "source": []
  }
 ]
}