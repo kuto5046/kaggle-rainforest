{
 "metadata": {
  "language_info": {
   "codemirror_mode": {
    "name": "ipython",
    "version": 3
   },
   "file_extension": ".py",
   "mimetype": "text/x-python",
   "name": "python",
   "nbconvert_exporter": "python",
   "pygments_lexer": "ipython3",
   "version": "3.7.4-final"
  },
  "orig_nbformat": 2,
  "kernelspec": {
   "name": "python3",
   "display_name": "Python 3",
   "language": "python"
  }
 },
 "nbformat": 4,
 "nbformat_minor": 2,
 "cells": [
  {
   "cell_type": "code",
   "execution_count": 1,
   "metadata": {},
   "outputs": [],
   "source": [
    "import pandas as pd\n",
    "import torch\n",
    "import numpy as np\n",
    "\n",
    "# LRAP. Instance-level average\n",
    "# Assume float preds [BxC], labels [BxC] of 0 or 1\n",
    "def LRAP(preds, labels):\n",
    "    # Ranks of the predictions\n",
    "    ranked_classes = torch.argsort(preds, dim=-1, descending=True)\n",
    "    # i, j corresponds to rank of prediction in row i\n",
    "    class_ranks = torch.zeros_like(ranked_classes)\n",
    "    for i in range(ranked_classes.size(0)):\n",
    "        for j in range(ranked_classes.size(1)):\n",
    "            class_ranks[i, ranked_classes[i][j]] = j + 1\n",
    "    # Mask out to only use the ranks of relevant GT labels\n",
    "    ground_truth_ranks = class_ranks * labels + (1e6) * (1 - labels)\n",
    "    # All the GT ranks are in front now\n",
    "    sorted_ground_truth_ranks, _ = torch.sort(ground_truth_ranks, dim=-1, descending=False)\n",
    "    pos_matrix = torch.tensor(np.array([i+1 for i in range(labels.size(-1))])).unsqueeze(0)\n",
    "    score_matrix = pos_matrix / sorted_ground_truth_ranks\n",
    "    score_mask_matrix, _ = torch.sort(labels, dim=-1, descending=True)\n",
    "    scores = score_matrix * score_mask_matrix\n",
    "    score = (scores.sum(-1) / labels.sum(-1)).mean()\n",
    "    return score.item()\n",
    "\n",
    "# label-level average\n",
    "# Assume float preds [BxC], labels [BxC] of 0 or 1\n",
    "def LWLRAP(preds, labels):\n",
    "    preds = preds.to('cpu')\n",
    "    labels = labels.to('cpu')\n",
    "\n",
    "    labels[labels > 0.0] = 1.0  # label smoothingする場合もスコア計算のため1にしてしまう\n",
    "    # Ranks of the predictions\n",
    "    ranked_classes = torch.argsort(preds, dim=-1, descending=True)\n",
    "    # i, j corresponds to rank of prediction in row i\n",
    "    class_ranks = torch.zeros_like(ranked_classes)\n",
    "    for i in range(ranked_classes.size(0)):\n",
    "        for j in range(ranked_classes.size(1)):\n",
    "            class_ranks[i, ranked_classes[i][j]] = j + 1\n",
    "    # Mask out to only use the ranks of relevant GT labels\n",
    "    ground_truth_ranks = class_ranks * labels + (1e6) * (1 - labels)\n",
    "    # All the GT ranks are in front now\n",
    "    sorted_ground_truth_ranks, _ = torch.sort(ground_truth_ranks, dim=-1, descending=False)\n",
    "    # Number of GT labels per instance\n",
    "    # num_labels = labels.sum(-1)\n",
    "    pos_matrix = torch.tensor(np.array([i+1 for i in range(labels.size(-1))])).unsqueeze(0)\n",
    "    score_matrix = pos_matrix / sorted_ground_truth_ranks\n",
    "    score_mask_matrix, _ = torch.sort(labels, dim=-1, descending=True)\n",
    "    scores = score_matrix * score_mask_matrix\n",
    "    score = scores.sum() / labels.sum()\n",
    "    return score.item()"
   ]
  },
  {
   "cell_type": "code",
   "execution_count": 2,
   "metadata": {},
   "outputs": [
    {
     "output_type": "execute_result",
     "data": {
      "text/plain": [
       "      patch recording_id        s0        s1        s2        s3        s4  \\\n",
       "0         0    003b04435  0.000027  0.270522  0.622983  0.627392  0.000309   \n",
       "1         1    003b04435  0.000023  0.182271  0.651638  0.673475  0.000436   \n",
       "2         2    003b04435  0.000015  0.213063  0.661511  0.616095  0.000244   \n",
       "3         3    003b04435  0.000255  0.506664  0.558322  0.596844  0.000481   \n",
       "4         4    003b04435  0.000148  0.538084  0.570766  0.443414  0.000280   \n",
       "...     ...          ...       ...       ...       ...       ...       ...   \n",
       "7555      3    fffb79246  0.000199  0.000853  0.000321  0.007089  0.000213   \n",
       "7556      4    fffb79246  0.000121  0.001158  0.000286  0.010863  0.000130   \n",
       "7557      5    fffb79246  0.000389  0.001278  0.000857  0.021448  0.000240   \n",
       "7558      6    fffb79246  0.000127  0.000616  0.002451  0.062259  0.000586   \n",
       "7559      7    fffb79246  0.000133  0.000834  0.000380  0.006105  0.000144   \n",
       "\n",
       "            s5        s6        s7  ...       s14       s15       s16  \\\n",
       "0     0.000365  0.000056  0.022097  ...  0.000276  0.001570  0.001100   \n",
       "1     0.000172  0.000026  0.020713  ...  0.000159  0.000903  0.000195   \n",
       "2     0.000034  0.000009  0.003630  ...  0.000098  0.001029  0.000166   \n",
       "3     0.000444  0.000174  0.146112  ...  0.001449  0.004511  0.005918   \n",
       "4     0.000302  0.000202  0.115213  ...  0.000812  0.003047  0.004745   \n",
       "...        ...       ...       ...  ...       ...       ...       ...   \n",
       "7555  0.010418  0.000080  0.001356  ...  0.001174  0.005020  0.000190   \n",
       "7556  0.003314  0.000080  0.001344  ...  0.001671  0.004261  0.000208   \n",
       "7557  0.004951  0.000071  0.000790  ...  0.002580  0.004772  0.000214   \n",
       "7558  0.002394  0.000253  0.002165  ...  0.042460  0.004035  0.000177   \n",
       "7559  0.005806  0.000109  0.001887  ...  0.001318  0.011331  0.000127   \n",
       "\n",
       "           s17       s18       s19       s20       s21       s22       s23  \n",
       "0     0.000067  0.001500  0.000089  0.000529  0.001367  0.000135  0.000220  \n",
       "1     0.000045  0.001469  0.000060  0.000343  0.001063  0.000088  0.000137  \n",
       "2     0.000034  0.000780  0.000019  0.000110  0.000652  0.000057  0.000118  \n",
       "3     0.000201  0.002896  0.000178  0.001596  0.002506  0.000643  0.000683  \n",
       "4     0.000150  0.001825  0.000185  0.001067  0.001169  0.000515  0.000474  \n",
       "...        ...       ...       ...       ...       ...       ...       ...  \n",
       "7555  0.000564  0.001724  0.000130  0.012039  0.000190  0.000175  0.046314  \n",
       "7556  0.000373  0.001240  0.000109  0.005310  0.000280  0.000107  0.008194  \n",
       "7557  0.001115  0.025503  0.000274  0.004152  0.000999  0.000168  0.008304  \n",
       "7558  0.003164  0.006007  0.001819  0.007306  0.201184  0.000283  0.005162  \n",
       "7559  0.000326  0.002070  0.000160  0.009822  0.000241  0.000118  0.007574  \n",
       "\n",
       "[37816 rows x 26 columns]"
      ],
      "text/html": "<div>\n<style scoped>\n    .dataframe tbody tr th:only-of-type {\n        vertical-align: middle;\n    }\n\n    .dataframe tbody tr th {\n        vertical-align: top;\n    }\n\n    .dataframe thead th {\n        text-align: right;\n    }\n</style>\n<table border=\"1\" class=\"dataframe\">\n  <thead>\n    <tr style=\"text-align: right;\">\n      <th></th>\n      <th>patch</th>\n      <th>recording_id</th>\n      <th>s0</th>\n      <th>s1</th>\n      <th>s2</th>\n      <th>s3</th>\n      <th>s4</th>\n      <th>s5</th>\n      <th>s6</th>\n      <th>s7</th>\n      <th>...</th>\n      <th>s14</th>\n      <th>s15</th>\n      <th>s16</th>\n      <th>s17</th>\n      <th>s18</th>\n      <th>s19</th>\n      <th>s20</th>\n      <th>s21</th>\n      <th>s22</th>\n      <th>s23</th>\n    </tr>\n  </thead>\n  <tbody>\n    <tr>\n      <td>0</td>\n      <td>0</td>\n      <td>003b04435</td>\n      <td>0.000027</td>\n      <td>0.270522</td>\n      <td>0.622983</td>\n      <td>0.627392</td>\n      <td>0.000309</td>\n      <td>0.000365</td>\n      <td>0.000056</td>\n      <td>0.022097</td>\n      <td>...</td>\n      <td>0.000276</td>\n      <td>0.001570</td>\n      <td>0.001100</td>\n      <td>0.000067</td>\n      <td>0.001500</td>\n      <td>0.000089</td>\n      <td>0.000529</td>\n      <td>0.001367</td>\n      <td>0.000135</td>\n      <td>0.000220</td>\n    </tr>\n    <tr>\n      <td>1</td>\n      <td>1</td>\n      <td>003b04435</td>\n      <td>0.000023</td>\n      <td>0.182271</td>\n      <td>0.651638</td>\n      <td>0.673475</td>\n      <td>0.000436</td>\n      <td>0.000172</td>\n      <td>0.000026</td>\n      <td>0.020713</td>\n      <td>...</td>\n      <td>0.000159</td>\n      <td>0.000903</td>\n      <td>0.000195</td>\n      <td>0.000045</td>\n      <td>0.001469</td>\n      <td>0.000060</td>\n      <td>0.000343</td>\n      <td>0.001063</td>\n      <td>0.000088</td>\n      <td>0.000137</td>\n    </tr>\n    <tr>\n      <td>2</td>\n      <td>2</td>\n      <td>003b04435</td>\n      <td>0.000015</td>\n      <td>0.213063</td>\n      <td>0.661511</td>\n      <td>0.616095</td>\n      <td>0.000244</td>\n      <td>0.000034</td>\n      <td>0.000009</td>\n      <td>0.003630</td>\n      <td>...</td>\n      <td>0.000098</td>\n      <td>0.001029</td>\n      <td>0.000166</td>\n      <td>0.000034</td>\n      <td>0.000780</td>\n      <td>0.000019</td>\n      <td>0.000110</td>\n      <td>0.000652</td>\n      <td>0.000057</td>\n      <td>0.000118</td>\n    </tr>\n    <tr>\n      <td>3</td>\n      <td>3</td>\n      <td>003b04435</td>\n      <td>0.000255</td>\n      <td>0.506664</td>\n      <td>0.558322</td>\n      <td>0.596844</td>\n      <td>0.000481</td>\n      <td>0.000444</td>\n      <td>0.000174</td>\n      <td>0.146112</td>\n      <td>...</td>\n      <td>0.001449</td>\n      <td>0.004511</td>\n      <td>0.005918</td>\n      <td>0.000201</td>\n      <td>0.002896</td>\n      <td>0.000178</td>\n      <td>0.001596</td>\n      <td>0.002506</td>\n      <td>0.000643</td>\n      <td>0.000683</td>\n    </tr>\n    <tr>\n      <td>4</td>\n      <td>4</td>\n      <td>003b04435</td>\n      <td>0.000148</td>\n      <td>0.538084</td>\n      <td>0.570766</td>\n      <td>0.443414</td>\n      <td>0.000280</td>\n      <td>0.000302</td>\n      <td>0.000202</td>\n      <td>0.115213</td>\n      <td>...</td>\n      <td>0.000812</td>\n      <td>0.003047</td>\n      <td>0.004745</td>\n      <td>0.000150</td>\n      <td>0.001825</td>\n      <td>0.000185</td>\n      <td>0.001067</td>\n      <td>0.001169</td>\n      <td>0.000515</td>\n      <td>0.000474</td>\n    </tr>\n    <tr>\n      <td>...</td>\n      <td>...</td>\n      <td>...</td>\n      <td>...</td>\n      <td>...</td>\n      <td>...</td>\n      <td>...</td>\n      <td>...</td>\n      <td>...</td>\n      <td>...</td>\n      <td>...</td>\n      <td>...</td>\n      <td>...</td>\n      <td>...</td>\n      <td>...</td>\n      <td>...</td>\n      <td>...</td>\n      <td>...</td>\n      <td>...</td>\n      <td>...</td>\n      <td>...</td>\n      <td>...</td>\n    </tr>\n    <tr>\n      <td>7555</td>\n      <td>3</td>\n      <td>fffb79246</td>\n      <td>0.000199</td>\n      <td>0.000853</td>\n      <td>0.000321</td>\n      <td>0.007089</td>\n      <td>0.000213</td>\n      <td>0.010418</td>\n      <td>0.000080</td>\n      <td>0.001356</td>\n      <td>...</td>\n      <td>0.001174</td>\n      <td>0.005020</td>\n      <td>0.000190</td>\n      <td>0.000564</td>\n      <td>0.001724</td>\n      <td>0.000130</td>\n      <td>0.012039</td>\n      <td>0.000190</td>\n      <td>0.000175</td>\n      <td>0.046314</td>\n    </tr>\n    <tr>\n      <td>7556</td>\n      <td>4</td>\n      <td>fffb79246</td>\n      <td>0.000121</td>\n      <td>0.001158</td>\n      <td>0.000286</td>\n      <td>0.010863</td>\n      <td>0.000130</td>\n      <td>0.003314</td>\n      <td>0.000080</td>\n      <td>0.001344</td>\n      <td>...</td>\n      <td>0.001671</td>\n      <td>0.004261</td>\n      <td>0.000208</td>\n      <td>0.000373</td>\n      <td>0.001240</td>\n      <td>0.000109</td>\n      <td>0.005310</td>\n      <td>0.000280</td>\n      <td>0.000107</td>\n      <td>0.008194</td>\n    </tr>\n    <tr>\n      <td>7557</td>\n      <td>5</td>\n      <td>fffb79246</td>\n      <td>0.000389</td>\n      <td>0.001278</td>\n      <td>0.000857</td>\n      <td>0.021448</td>\n      <td>0.000240</td>\n      <td>0.004951</td>\n      <td>0.000071</td>\n      <td>0.000790</td>\n      <td>...</td>\n      <td>0.002580</td>\n      <td>0.004772</td>\n      <td>0.000214</td>\n      <td>0.001115</td>\n      <td>0.025503</td>\n      <td>0.000274</td>\n      <td>0.004152</td>\n      <td>0.000999</td>\n      <td>0.000168</td>\n      <td>0.008304</td>\n    </tr>\n    <tr>\n      <td>7558</td>\n      <td>6</td>\n      <td>fffb79246</td>\n      <td>0.000127</td>\n      <td>0.000616</td>\n      <td>0.002451</td>\n      <td>0.062259</td>\n      <td>0.000586</td>\n      <td>0.002394</td>\n      <td>0.000253</td>\n      <td>0.002165</td>\n      <td>...</td>\n      <td>0.042460</td>\n      <td>0.004035</td>\n      <td>0.000177</td>\n      <td>0.003164</td>\n      <td>0.006007</td>\n      <td>0.001819</td>\n      <td>0.007306</td>\n      <td>0.201184</td>\n      <td>0.000283</td>\n      <td>0.005162</td>\n    </tr>\n    <tr>\n      <td>7559</td>\n      <td>7</td>\n      <td>fffb79246</td>\n      <td>0.000133</td>\n      <td>0.000834</td>\n      <td>0.000380</td>\n      <td>0.006105</td>\n      <td>0.000144</td>\n      <td>0.005806</td>\n      <td>0.000109</td>\n      <td>0.001887</td>\n      <td>...</td>\n      <td>0.001318</td>\n      <td>0.011331</td>\n      <td>0.000127</td>\n      <td>0.000326</td>\n      <td>0.002070</td>\n      <td>0.000160</td>\n      <td>0.009822</td>\n      <td>0.000241</td>\n      <td>0.000118</td>\n      <td>0.007574</td>\n    </tr>\n  </tbody>\n</table>\n<p>37816 rows × 26 columns</p>\n</div>"
     },
     "metadata": {},
     "execution_count": 2
    }
   ],
   "source": [
    "\n",
    "input_dir = \"../oof/\"\n",
    "oof0 = pd.read_csv(input_dir + \"fold0_oof.csv\")\n",
    "oof1 = pd.read_csv(input_dir + \"fold1_oof.csv\")\n",
    "oof2 = pd.read_csv(input_dir + \"fold2_oof.csv\")\n",
    "oof3 = pd.read_csv(input_dir + \"fold3_oof.csv\")\n",
    "oof4 = pd.read_csv(input_dir + \"fold4_oof.csv\")\n",
    "oof = pd.concat([oof0, oof1, oof2, oof3, oof4])\n",
    "oof"
   ]
  },
  {
   "cell_type": "code",
   "execution_count": 3,
   "metadata": {},
   "outputs": [
    {
     "output_type": "execute_result",
     "data": {
      "text/plain": [
       "     recording_id  patch        s0        s1        s2        s3        s4  \\\n",
       "0       00204008d      7  0.001576  0.000695  0.006808  0.384437  0.000336   \n",
       "1       003b04435      7  0.000255  0.538084  0.661511  0.673475  0.000638   \n",
       "2       003bec244      7  0.001337  0.399361  0.007870  0.697515  0.000299   \n",
       "3       005f1f9a5      7  0.002103  0.481739  0.003703  0.716628  0.002796   \n",
       "4       006ab765f      7  0.000229  0.006698  0.001919  0.057583  0.000320   \n",
       "...           ...    ...       ...       ...       ...       ...       ...   \n",
       "4722    ffc6031f8      7  0.001269  0.005593  0.001121  0.849625  0.000761   \n",
       "4723    ffd88cd84      7  0.571551  0.623111  0.005149  0.631776  0.001425   \n",
       "4724    ffebe7313      7  0.005711  0.008463  0.005014  0.395713  0.469141   \n",
       "4725    fff163132      7  0.000598  0.003858  0.000370  0.286208  0.000676   \n",
       "4726    fffb79246      7  0.000389  0.002229  0.002451  0.130834  0.000586   \n",
       "\n",
       "            s5        s6        s7  ...       s14       s15       s16  \\\n",
       "0     0.004754  0.000233  0.001266  ...  0.001104  0.000658  0.001689   \n",
       "1     0.000534  0.000250  0.146112  ...  0.002861  0.005864  0.007009   \n",
       "2     0.123833  0.004989  0.647310  ...  0.416386  0.014861  0.006914   \n",
       "3     0.004302  0.000980  0.643772  ...  0.028704  0.010836  0.005597   \n",
       "4     0.009276  0.000816  0.320288  ...  0.000780  0.010279  0.000494   \n",
       "...        ...       ...       ...  ...       ...       ...       ...   \n",
       "4722  0.000750  0.002601  0.598723  ...  0.006778  0.825292  0.044763   \n",
       "4723  0.005169  0.005718  0.017767  ...  0.100839  0.800761  0.001975   \n",
       "4724  0.002689  0.000738  0.027031  ...  0.048695  0.005342  0.002525   \n",
       "4725  0.000207  0.006745  0.000942  ...  0.003680  0.000651  0.001949   \n",
       "4726  0.012985  0.000502  0.002428  ...  0.042460  0.222583  0.000467   \n",
       "\n",
       "           s17       s18       s19       s20       s21       s22       s23  \n",
       "0     0.000351  0.689062  0.045835  0.000772  0.001393  0.000144  0.011171  \n",
       "1     0.000261  0.002896  0.000280  0.001596  0.003669  0.000750  0.001064  \n",
       "2     0.003942  0.002298  0.000662  0.245292  0.001113  0.001986  0.602273  \n",
       "3     0.004309  0.012252  0.099821  0.004161  0.075093  0.000520  0.003150  \n",
       "4     0.001684  0.000480  0.000335  0.041790  0.000318  0.000248  0.781911  \n",
       "...        ...       ...       ...       ...       ...       ...       ...  \n",
       "4722  0.002726  0.011247  0.000142  0.017708  0.003022  0.000354  0.002555  \n",
       "4723  0.003038  0.416745  0.001741  0.001933  0.004679  0.000545  0.057684  \n",
       "4724  0.011080  0.039527  0.000690  0.017411  0.587240  0.000833  0.028525  \n",
       "4725  0.575258  0.013645  0.000074  0.202483  0.003385  0.000468  0.012741  \n",
       "4726  0.003164  0.025503  0.001819  0.012039  0.201184  0.000379  0.133176  \n",
       "\n",
       "[4727 rows x 26 columns]"
      ],
      "text/html": "<div>\n<style scoped>\n    .dataframe tbody tr th:only-of-type {\n        vertical-align: middle;\n    }\n\n    .dataframe tbody tr th {\n        vertical-align: top;\n    }\n\n    .dataframe thead th {\n        text-align: right;\n    }\n</style>\n<table border=\"1\" class=\"dataframe\">\n  <thead>\n    <tr style=\"text-align: right;\">\n      <th></th>\n      <th>recording_id</th>\n      <th>patch</th>\n      <th>s0</th>\n      <th>s1</th>\n      <th>s2</th>\n      <th>s3</th>\n      <th>s4</th>\n      <th>s5</th>\n      <th>s6</th>\n      <th>s7</th>\n      <th>...</th>\n      <th>s14</th>\n      <th>s15</th>\n      <th>s16</th>\n      <th>s17</th>\n      <th>s18</th>\n      <th>s19</th>\n      <th>s20</th>\n      <th>s21</th>\n      <th>s22</th>\n      <th>s23</th>\n    </tr>\n  </thead>\n  <tbody>\n    <tr>\n      <td>0</td>\n      <td>00204008d</td>\n      <td>7</td>\n      <td>0.001576</td>\n      <td>0.000695</td>\n      <td>0.006808</td>\n      <td>0.384437</td>\n      <td>0.000336</td>\n      <td>0.004754</td>\n      <td>0.000233</td>\n      <td>0.001266</td>\n      <td>...</td>\n      <td>0.001104</td>\n      <td>0.000658</td>\n      <td>0.001689</td>\n      <td>0.000351</td>\n      <td>0.689062</td>\n      <td>0.045835</td>\n      <td>0.000772</td>\n      <td>0.001393</td>\n      <td>0.000144</td>\n      <td>0.011171</td>\n    </tr>\n    <tr>\n      <td>1</td>\n      <td>003b04435</td>\n      <td>7</td>\n      <td>0.000255</td>\n      <td>0.538084</td>\n      <td>0.661511</td>\n      <td>0.673475</td>\n      <td>0.000638</td>\n      <td>0.000534</td>\n      <td>0.000250</td>\n      <td>0.146112</td>\n      <td>...</td>\n      <td>0.002861</td>\n      <td>0.005864</td>\n      <td>0.007009</td>\n      <td>0.000261</td>\n      <td>0.002896</td>\n      <td>0.000280</td>\n      <td>0.001596</td>\n      <td>0.003669</td>\n      <td>0.000750</td>\n      <td>0.001064</td>\n    </tr>\n    <tr>\n      <td>2</td>\n      <td>003bec244</td>\n      <td>7</td>\n      <td>0.001337</td>\n      <td>0.399361</td>\n      <td>0.007870</td>\n      <td>0.697515</td>\n      <td>0.000299</td>\n      <td>0.123833</td>\n      <td>0.004989</td>\n      <td>0.647310</td>\n      <td>...</td>\n      <td>0.416386</td>\n      <td>0.014861</td>\n      <td>0.006914</td>\n      <td>0.003942</td>\n      <td>0.002298</td>\n      <td>0.000662</td>\n      <td>0.245292</td>\n      <td>0.001113</td>\n      <td>0.001986</td>\n      <td>0.602273</td>\n    </tr>\n    <tr>\n      <td>3</td>\n      <td>005f1f9a5</td>\n      <td>7</td>\n      <td>0.002103</td>\n      <td>0.481739</td>\n      <td>0.003703</td>\n      <td>0.716628</td>\n      <td>0.002796</td>\n      <td>0.004302</td>\n      <td>0.000980</td>\n      <td>0.643772</td>\n      <td>...</td>\n      <td>0.028704</td>\n      <td>0.010836</td>\n      <td>0.005597</td>\n      <td>0.004309</td>\n      <td>0.012252</td>\n      <td>0.099821</td>\n      <td>0.004161</td>\n      <td>0.075093</td>\n      <td>0.000520</td>\n      <td>0.003150</td>\n    </tr>\n    <tr>\n      <td>4</td>\n      <td>006ab765f</td>\n      <td>7</td>\n      <td>0.000229</td>\n      <td>0.006698</td>\n      <td>0.001919</td>\n      <td>0.057583</td>\n      <td>0.000320</td>\n      <td>0.009276</td>\n      <td>0.000816</td>\n      <td>0.320288</td>\n      <td>...</td>\n      <td>0.000780</td>\n      <td>0.010279</td>\n      <td>0.000494</td>\n      <td>0.001684</td>\n      <td>0.000480</td>\n      <td>0.000335</td>\n      <td>0.041790</td>\n      <td>0.000318</td>\n      <td>0.000248</td>\n      <td>0.781911</td>\n    </tr>\n    <tr>\n      <td>...</td>\n      <td>...</td>\n      <td>...</td>\n      <td>...</td>\n      <td>...</td>\n      <td>...</td>\n      <td>...</td>\n      <td>...</td>\n      <td>...</td>\n      <td>...</td>\n      <td>...</td>\n      <td>...</td>\n      <td>...</td>\n      <td>...</td>\n      <td>...</td>\n      <td>...</td>\n      <td>...</td>\n      <td>...</td>\n      <td>...</td>\n      <td>...</td>\n      <td>...</td>\n      <td>...</td>\n    </tr>\n    <tr>\n      <td>4722</td>\n      <td>ffc6031f8</td>\n      <td>7</td>\n      <td>0.001269</td>\n      <td>0.005593</td>\n      <td>0.001121</td>\n      <td>0.849625</td>\n      <td>0.000761</td>\n      <td>0.000750</td>\n      <td>0.002601</td>\n      <td>0.598723</td>\n      <td>...</td>\n      <td>0.006778</td>\n      <td>0.825292</td>\n      <td>0.044763</td>\n      <td>0.002726</td>\n      <td>0.011247</td>\n      <td>0.000142</td>\n      <td>0.017708</td>\n      <td>0.003022</td>\n      <td>0.000354</td>\n      <td>0.002555</td>\n    </tr>\n    <tr>\n      <td>4723</td>\n      <td>ffd88cd84</td>\n      <td>7</td>\n      <td>0.571551</td>\n      <td>0.623111</td>\n      <td>0.005149</td>\n      <td>0.631776</td>\n      <td>0.001425</td>\n      <td>0.005169</td>\n      <td>0.005718</td>\n      <td>0.017767</td>\n      <td>...</td>\n      <td>0.100839</td>\n      <td>0.800761</td>\n      <td>0.001975</td>\n      <td>0.003038</td>\n      <td>0.416745</td>\n      <td>0.001741</td>\n      <td>0.001933</td>\n      <td>0.004679</td>\n      <td>0.000545</td>\n      <td>0.057684</td>\n    </tr>\n    <tr>\n      <td>4724</td>\n      <td>ffebe7313</td>\n      <td>7</td>\n      <td>0.005711</td>\n      <td>0.008463</td>\n      <td>0.005014</td>\n      <td>0.395713</td>\n      <td>0.469141</td>\n      <td>0.002689</td>\n      <td>0.000738</td>\n      <td>0.027031</td>\n      <td>...</td>\n      <td>0.048695</td>\n      <td>0.005342</td>\n      <td>0.002525</td>\n      <td>0.011080</td>\n      <td>0.039527</td>\n      <td>0.000690</td>\n      <td>0.017411</td>\n      <td>0.587240</td>\n      <td>0.000833</td>\n      <td>0.028525</td>\n    </tr>\n    <tr>\n      <td>4725</td>\n      <td>fff163132</td>\n      <td>7</td>\n      <td>0.000598</td>\n      <td>0.003858</td>\n      <td>0.000370</td>\n      <td>0.286208</td>\n      <td>0.000676</td>\n      <td>0.000207</td>\n      <td>0.006745</td>\n      <td>0.000942</td>\n      <td>...</td>\n      <td>0.003680</td>\n      <td>0.000651</td>\n      <td>0.001949</td>\n      <td>0.575258</td>\n      <td>0.013645</td>\n      <td>0.000074</td>\n      <td>0.202483</td>\n      <td>0.003385</td>\n      <td>0.000468</td>\n      <td>0.012741</td>\n    </tr>\n    <tr>\n      <td>4726</td>\n      <td>fffb79246</td>\n      <td>7</td>\n      <td>0.000389</td>\n      <td>0.002229</td>\n      <td>0.002451</td>\n      <td>0.130834</td>\n      <td>0.000586</td>\n      <td>0.012985</td>\n      <td>0.000502</td>\n      <td>0.002428</td>\n      <td>...</td>\n      <td>0.042460</td>\n      <td>0.222583</td>\n      <td>0.000467</td>\n      <td>0.003164</td>\n      <td>0.025503</td>\n      <td>0.001819</td>\n      <td>0.012039</td>\n      <td>0.201184</td>\n      <td>0.000379</td>\n      <td>0.133176</td>\n    </tr>\n  </tbody>\n</table>\n<p>4727 rows × 26 columns</p>\n</div>"
     },
     "metadata": {},
     "execution_count": 3
    }
   ],
   "source": [
    "oof2 = oof.groupby('recording_id').max().reset_index(drop=False)\n",
    "oof2"
   ]
  },
  {
   "cell_type": "code",
   "execution_count": 4,
   "metadata": {},
   "outputs": [
    {
     "output_type": "execute_result",
     "data": {
      "text/plain": [
       "      s0  s1  s2  s3  s4  s5  s6  s7  s8  s9  ...  s15  s16  s17  s18  s19  \\\n",
       "0      0   0   0   0   0   0   0   0   0   0  ...    0    0    0    0    0   \n",
       "1      0   0   0   0   0   0   0   0   0   0  ...    0    0    0    0    0   \n",
       "2      0   0   0   0   0   0   0   0   0   0  ...    0    0    0    0    0   \n",
       "3      0   0   0   0   0   0   0   0   0   0  ...    0    0    1    0    0   \n",
       "4      0   0   0   0   0   0   0   0   0   0  ...    0    0    0    0    0   \n",
       "...   ..  ..  ..  ..  ..  ..  ..  ..  ..  ..  ...  ...  ...  ...  ...  ...   \n",
       "1127   0   0   0   0   0   0   0   0   0   0  ...    0    0    0    0    0   \n",
       "1128   0   0   0   0   1   0   0   0   0   0  ...    0    0    0    0    0   \n",
       "1129   1   0   0   0   0   0   0   0   0   0  ...    0    0    0    0    0   \n",
       "1130   0   0   0   0   0   1   0   0   0   0  ...    0    0    0    0    0   \n",
       "1131   0   0   0   0   0   0   0   0   0   0  ...    0    0    0    1    0   \n",
       "\n",
       "      s20  s21  s22  s23  recording_id  \n",
       "0       0    0    0    0     003bec244  \n",
       "1       0    0    0    1     006ab765f  \n",
       "2       0    0    0    0     007f87ba2  \n",
       "3       0    0    0    0     0099c367b  \n",
       "4       0    0    0    0     009b760e6  \n",
       "...   ...  ...  ...  ...           ...  \n",
       "1127    0    0    0    0     fe8d9ac40  \n",
       "1128    0    0    0    0     fea6b438a  \n",
       "1129    0    0    0    0     ff2eb9ce5  \n",
       "1130    0    0    0    0     ffb8d8391  \n",
       "1131    0    0    0    0     ffb9a7b9a  \n",
       "\n",
       "[1132 rows x 25 columns]"
      ],
      "text/html": "<div>\n<style scoped>\n    .dataframe tbody tr th:only-of-type {\n        vertical-align: middle;\n    }\n\n    .dataframe tbody tr th {\n        vertical-align: top;\n    }\n\n    .dataframe thead th {\n        text-align: right;\n    }\n</style>\n<table border=\"1\" class=\"dataframe\">\n  <thead>\n    <tr style=\"text-align: right;\">\n      <th></th>\n      <th>s0</th>\n      <th>s1</th>\n      <th>s2</th>\n      <th>s3</th>\n      <th>s4</th>\n      <th>s5</th>\n      <th>s6</th>\n      <th>s7</th>\n      <th>s8</th>\n      <th>s9</th>\n      <th>...</th>\n      <th>s15</th>\n      <th>s16</th>\n      <th>s17</th>\n      <th>s18</th>\n      <th>s19</th>\n      <th>s20</th>\n      <th>s21</th>\n      <th>s22</th>\n      <th>s23</th>\n      <th>recording_id</th>\n    </tr>\n  </thead>\n  <tbody>\n    <tr>\n      <td>0</td>\n      <td>0</td>\n      <td>0</td>\n      <td>0</td>\n      <td>0</td>\n      <td>0</td>\n      <td>0</td>\n      <td>0</td>\n      <td>0</td>\n      <td>0</td>\n      <td>0</td>\n      <td>...</td>\n      <td>0</td>\n      <td>0</td>\n      <td>0</td>\n      <td>0</td>\n      <td>0</td>\n      <td>0</td>\n      <td>0</td>\n      <td>0</td>\n      <td>0</td>\n      <td>003bec244</td>\n    </tr>\n    <tr>\n      <td>1</td>\n      <td>0</td>\n      <td>0</td>\n      <td>0</td>\n      <td>0</td>\n      <td>0</td>\n      <td>0</td>\n      <td>0</td>\n      <td>0</td>\n      <td>0</td>\n      <td>0</td>\n      <td>...</td>\n      <td>0</td>\n      <td>0</td>\n      <td>0</td>\n      <td>0</td>\n      <td>0</td>\n      <td>0</td>\n      <td>0</td>\n      <td>0</td>\n      <td>1</td>\n      <td>006ab765f</td>\n    </tr>\n    <tr>\n      <td>2</td>\n      <td>0</td>\n      <td>0</td>\n      <td>0</td>\n      <td>0</td>\n      <td>0</td>\n      <td>0</td>\n      <td>0</td>\n      <td>0</td>\n      <td>0</td>\n      <td>0</td>\n      <td>...</td>\n      <td>0</td>\n      <td>0</td>\n      <td>0</td>\n      <td>0</td>\n      <td>0</td>\n      <td>0</td>\n      <td>0</td>\n      <td>0</td>\n      <td>0</td>\n      <td>007f87ba2</td>\n    </tr>\n    <tr>\n      <td>3</td>\n      <td>0</td>\n      <td>0</td>\n      <td>0</td>\n      <td>0</td>\n      <td>0</td>\n      <td>0</td>\n      <td>0</td>\n      <td>0</td>\n      <td>0</td>\n      <td>0</td>\n      <td>...</td>\n      <td>0</td>\n      <td>0</td>\n      <td>1</td>\n      <td>0</td>\n      <td>0</td>\n      <td>0</td>\n      <td>0</td>\n      <td>0</td>\n      <td>0</td>\n      <td>0099c367b</td>\n    </tr>\n    <tr>\n      <td>4</td>\n      <td>0</td>\n      <td>0</td>\n      <td>0</td>\n      <td>0</td>\n      <td>0</td>\n      <td>0</td>\n      <td>0</td>\n      <td>0</td>\n      <td>0</td>\n      <td>0</td>\n      <td>...</td>\n      <td>0</td>\n      <td>0</td>\n      <td>0</td>\n      <td>0</td>\n      <td>0</td>\n      <td>0</td>\n      <td>0</td>\n      <td>0</td>\n      <td>0</td>\n      <td>009b760e6</td>\n    </tr>\n    <tr>\n      <td>...</td>\n      <td>...</td>\n      <td>...</td>\n      <td>...</td>\n      <td>...</td>\n      <td>...</td>\n      <td>...</td>\n      <td>...</td>\n      <td>...</td>\n      <td>...</td>\n      <td>...</td>\n      <td>...</td>\n      <td>...</td>\n      <td>...</td>\n      <td>...</td>\n      <td>...</td>\n      <td>...</td>\n      <td>...</td>\n      <td>...</td>\n      <td>...</td>\n      <td>...</td>\n      <td>...</td>\n    </tr>\n    <tr>\n      <td>1127</td>\n      <td>0</td>\n      <td>0</td>\n      <td>0</td>\n      <td>0</td>\n      <td>0</td>\n      <td>0</td>\n      <td>0</td>\n      <td>0</td>\n      <td>0</td>\n      <td>0</td>\n      <td>...</td>\n      <td>0</td>\n      <td>0</td>\n      <td>0</td>\n      <td>0</td>\n      <td>0</td>\n      <td>0</td>\n      <td>0</td>\n      <td>0</td>\n      <td>0</td>\n      <td>fe8d9ac40</td>\n    </tr>\n    <tr>\n      <td>1128</td>\n      <td>0</td>\n      <td>0</td>\n      <td>0</td>\n      <td>0</td>\n      <td>1</td>\n      <td>0</td>\n      <td>0</td>\n      <td>0</td>\n      <td>0</td>\n      <td>0</td>\n      <td>...</td>\n      <td>0</td>\n      <td>0</td>\n      <td>0</td>\n      <td>0</td>\n      <td>0</td>\n      <td>0</td>\n      <td>0</td>\n      <td>0</td>\n      <td>0</td>\n      <td>fea6b438a</td>\n    </tr>\n    <tr>\n      <td>1129</td>\n      <td>1</td>\n      <td>0</td>\n      <td>0</td>\n      <td>0</td>\n      <td>0</td>\n      <td>0</td>\n      <td>0</td>\n      <td>0</td>\n      <td>0</td>\n      <td>0</td>\n      <td>...</td>\n      <td>0</td>\n      <td>0</td>\n      <td>0</td>\n      <td>0</td>\n      <td>0</td>\n      <td>0</td>\n      <td>0</td>\n      <td>0</td>\n      <td>0</td>\n      <td>ff2eb9ce5</td>\n    </tr>\n    <tr>\n      <td>1130</td>\n      <td>0</td>\n      <td>0</td>\n      <td>0</td>\n      <td>0</td>\n      <td>0</td>\n      <td>1</td>\n      <td>0</td>\n      <td>0</td>\n      <td>0</td>\n      <td>0</td>\n      <td>...</td>\n      <td>0</td>\n      <td>0</td>\n      <td>0</td>\n      <td>0</td>\n      <td>0</td>\n      <td>0</td>\n      <td>0</td>\n      <td>0</td>\n      <td>0</td>\n      <td>ffb8d8391</td>\n    </tr>\n    <tr>\n      <td>1131</td>\n      <td>0</td>\n      <td>0</td>\n      <td>0</td>\n      <td>0</td>\n      <td>0</td>\n      <td>0</td>\n      <td>0</td>\n      <td>0</td>\n      <td>0</td>\n      <td>0</td>\n      <td>...</td>\n      <td>0</td>\n      <td>0</td>\n      <td>0</td>\n      <td>1</td>\n      <td>0</td>\n      <td>0</td>\n      <td>0</td>\n      <td>0</td>\n      <td>0</td>\n      <td>ffb9a7b9a</td>\n    </tr>\n  </tbody>\n</table>\n<p>1132 rows × 25 columns</p>\n</div>"
     },
     "metadata": {},
     "execution_count": 4
    }
   ],
   "source": [
    "tp = pd.read_csv(\"../input/rfcx-species-audio-detection/train_tp.csv\")\n",
    "tp_fnames, tp_labels = [], []\n",
    "for recording_id, df in tp.groupby(\"recording_id\"):\n",
    "    v = sum([np.eye(24)[i] for i in df[\"species_id\"].tolist()])\n",
    "    v = (v  == 1).astype(int).tolist()\n",
    "    tp_fnames.append(recording_id)\n",
    "    tp_labels.append(v) \n",
    "\n",
    "tp2 = pd.DataFrame(tp_labels, columns=[f's{i}' for i in range(24)])\n",
    "tp2['recording_id'] = tp_fnames\n",
    "tp2 = tp2.sort_values('recording_id')\n",
    "tp2\n"
   ]
  },
  {
   "cell_type": "code",
   "execution_count": 5,
   "metadata": {},
   "outputs": [
    {
     "output_type": "execute_result",
     "data": {
      "text/plain": [
       "     recording_id  patch        s0        s1        s2        s3        s4  \\\n",
       "0       003bec244      7  0.001337  0.399361  0.007870  0.697515  0.000299   \n",
       "1       006ab765f      7  0.000229  0.006698  0.001919  0.057583  0.000320   \n",
       "2       007f87ba2      7  0.007547  0.004303  0.009273  0.666487  0.576814   \n",
       "3       0099c367b      7  0.002717  0.022471  0.000370  0.372266  0.000272   \n",
       "4       009b760e6      7  0.000975  0.082125  0.000600  0.081300  0.001375   \n",
       "...           ...    ...       ...       ...       ...       ...       ...   \n",
       "1127    fe8d9ac40      7  0.000330  0.193584  0.005466  0.528331  0.002406   \n",
       "1128    fea6b438a      7  0.001239  0.010287  0.016409  0.740755  0.525209   \n",
       "1129    ff2eb9ce5      7  0.611743  0.008660  0.000831  0.661863  0.000853   \n",
       "1130    ffb8d8391      7  0.047971  0.002464  0.001622  0.797323  0.000234   \n",
       "1131    ffb9a7b9a      7  0.045674  0.010200  0.003159  0.646572  0.011628   \n",
       "\n",
       "            s5        s6        s7  ...       s14       s15       s16  \\\n",
       "0     0.123833  0.004989  0.647310  ...  0.416386  0.014861  0.006914   \n",
       "1     0.009276  0.000816  0.320288  ...  0.000780  0.010279  0.000494   \n",
       "2     0.002914  0.000872  0.002463  ...  0.001724  0.001585  0.001341   \n",
       "3     0.000606  0.033587  0.003645  ...  0.002792  0.178560  0.002656   \n",
       "4     0.034969  0.005701  0.024289  ...  0.002983  0.008405  0.000834   \n",
       "...        ...       ...       ...  ...       ...       ...       ...   \n",
       "1127  0.014731  0.000212  0.001794  ...  0.003015  0.006009  0.527093   \n",
       "1128  0.001822  0.000359  0.004795  ...  0.088849  0.001310  0.054818   \n",
       "1129  0.002154  0.000237  0.003694  ...  0.004262  0.001535  0.000613   \n",
       "1130  0.496614  0.000283  0.001789  ...  0.058835  0.115298  0.002180   \n",
       "1131  0.002041  0.003444  0.007744  ...  0.056652  0.002910  0.001452   \n",
       "\n",
       "           s17       s18       s19       s20       s21       s22       s23  \n",
       "0     0.003942  0.002298  0.000662  0.245292  0.001113  0.001986  0.602273  \n",
       "1     0.001684  0.000480  0.000335  0.041790  0.000318  0.000248  0.781911  \n",
       "2     0.000390  0.572993  0.000253  0.000819  0.045245  0.000314  0.004672  \n",
       "3     0.267906  0.003442  0.000120  0.104775  0.003839  0.000139  0.012093  \n",
       "4     0.001506  0.000946  0.002707  0.014700  0.003575  0.000715  0.383864  \n",
       "...        ...       ...       ...       ...       ...       ...       ...  \n",
       "1127  0.000367  0.040312  0.014859  0.004678  0.002437  0.000378  0.041218  \n",
       "1128  0.003529  0.021958  0.000326  0.001808  0.606226  0.000254  0.021085  \n",
       "1129  0.000323  0.768182  0.000147  0.000244  0.001286  0.000282  0.023715  \n",
       "1130  0.007501  0.493216  0.001060  0.000683  0.003873  0.000537  0.047675  \n",
       "1131  0.044996  0.661090  0.000187  0.029050  0.006557  0.000649  0.011250  \n",
       "\n",
       "[1132 rows x 26 columns]"
      ],
      "text/html": "<div>\n<style scoped>\n    .dataframe tbody tr th:only-of-type {\n        vertical-align: middle;\n    }\n\n    .dataframe tbody tr th {\n        vertical-align: top;\n    }\n\n    .dataframe thead th {\n        text-align: right;\n    }\n</style>\n<table border=\"1\" class=\"dataframe\">\n  <thead>\n    <tr style=\"text-align: right;\">\n      <th></th>\n      <th>recording_id</th>\n      <th>patch</th>\n      <th>s0</th>\n      <th>s1</th>\n      <th>s2</th>\n      <th>s3</th>\n      <th>s4</th>\n      <th>s5</th>\n      <th>s6</th>\n      <th>s7</th>\n      <th>...</th>\n      <th>s14</th>\n      <th>s15</th>\n      <th>s16</th>\n      <th>s17</th>\n      <th>s18</th>\n      <th>s19</th>\n      <th>s20</th>\n      <th>s21</th>\n      <th>s22</th>\n      <th>s23</th>\n    </tr>\n  </thead>\n  <tbody>\n    <tr>\n      <td>0</td>\n      <td>003bec244</td>\n      <td>7</td>\n      <td>0.001337</td>\n      <td>0.399361</td>\n      <td>0.007870</td>\n      <td>0.697515</td>\n      <td>0.000299</td>\n      <td>0.123833</td>\n      <td>0.004989</td>\n      <td>0.647310</td>\n      <td>...</td>\n      <td>0.416386</td>\n      <td>0.014861</td>\n      <td>0.006914</td>\n      <td>0.003942</td>\n      <td>0.002298</td>\n      <td>0.000662</td>\n      <td>0.245292</td>\n      <td>0.001113</td>\n      <td>0.001986</td>\n      <td>0.602273</td>\n    </tr>\n    <tr>\n      <td>1</td>\n      <td>006ab765f</td>\n      <td>7</td>\n      <td>0.000229</td>\n      <td>0.006698</td>\n      <td>0.001919</td>\n      <td>0.057583</td>\n      <td>0.000320</td>\n      <td>0.009276</td>\n      <td>0.000816</td>\n      <td>0.320288</td>\n      <td>...</td>\n      <td>0.000780</td>\n      <td>0.010279</td>\n      <td>0.000494</td>\n      <td>0.001684</td>\n      <td>0.000480</td>\n      <td>0.000335</td>\n      <td>0.041790</td>\n      <td>0.000318</td>\n      <td>0.000248</td>\n      <td>0.781911</td>\n    </tr>\n    <tr>\n      <td>2</td>\n      <td>007f87ba2</td>\n      <td>7</td>\n      <td>0.007547</td>\n      <td>0.004303</td>\n      <td>0.009273</td>\n      <td>0.666487</td>\n      <td>0.576814</td>\n      <td>0.002914</td>\n      <td>0.000872</td>\n      <td>0.002463</td>\n      <td>...</td>\n      <td>0.001724</td>\n      <td>0.001585</td>\n      <td>0.001341</td>\n      <td>0.000390</td>\n      <td>0.572993</td>\n      <td>0.000253</td>\n      <td>0.000819</td>\n      <td>0.045245</td>\n      <td>0.000314</td>\n      <td>0.004672</td>\n    </tr>\n    <tr>\n      <td>3</td>\n      <td>0099c367b</td>\n      <td>7</td>\n      <td>0.002717</td>\n      <td>0.022471</td>\n      <td>0.000370</td>\n      <td>0.372266</td>\n      <td>0.000272</td>\n      <td>0.000606</td>\n      <td>0.033587</td>\n      <td>0.003645</td>\n      <td>...</td>\n      <td>0.002792</td>\n      <td>0.178560</td>\n      <td>0.002656</td>\n      <td>0.267906</td>\n      <td>0.003442</td>\n      <td>0.000120</td>\n      <td>0.104775</td>\n      <td>0.003839</td>\n      <td>0.000139</td>\n      <td>0.012093</td>\n    </tr>\n    <tr>\n      <td>4</td>\n      <td>009b760e6</td>\n      <td>7</td>\n      <td>0.000975</td>\n      <td>0.082125</td>\n      <td>0.000600</td>\n      <td>0.081300</td>\n      <td>0.001375</td>\n      <td>0.034969</td>\n      <td>0.005701</td>\n      <td>0.024289</td>\n      <td>...</td>\n      <td>0.002983</td>\n      <td>0.008405</td>\n      <td>0.000834</td>\n      <td>0.001506</td>\n      <td>0.000946</td>\n      <td>0.002707</td>\n      <td>0.014700</td>\n      <td>0.003575</td>\n      <td>0.000715</td>\n      <td>0.383864</td>\n    </tr>\n    <tr>\n      <td>...</td>\n      <td>...</td>\n      <td>...</td>\n      <td>...</td>\n      <td>...</td>\n      <td>...</td>\n      <td>...</td>\n      <td>...</td>\n      <td>...</td>\n      <td>...</td>\n      <td>...</td>\n      <td>...</td>\n      <td>...</td>\n      <td>...</td>\n      <td>...</td>\n      <td>...</td>\n      <td>...</td>\n      <td>...</td>\n      <td>...</td>\n      <td>...</td>\n      <td>...</td>\n      <td>...</td>\n    </tr>\n    <tr>\n      <td>1127</td>\n      <td>fe8d9ac40</td>\n      <td>7</td>\n      <td>0.000330</td>\n      <td>0.193584</td>\n      <td>0.005466</td>\n      <td>0.528331</td>\n      <td>0.002406</td>\n      <td>0.014731</td>\n      <td>0.000212</td>\n      <td>0.001794</td>\n      <td>...</td>\n      <td>0.003015</td>\n      <td>0.006009</td>\n      <td>0.527093</td>\n      <td>0.000367</td>\n      <td>0.040312</td>\n      <td>0.014859</td>\n      <td>0.004678</td>\n      <td>0.002437</td>\n      <td>0.000378</td>\n      <td>0.041218</td>\n    </tr>\n    <tr>\n      <td>1128</td>\n      <td>fea6b438a</td>\n      <td>7</td>\n      <td>0.001239</td>\n      <td>0.010287</td>\n      <td>0.016409</td>\n      <td>0.740755</td>\n      <td>0.525209</td>\n      <td>0.001822</td>\n      <td>0.000359</td>\n      <td>0.004795</td>\n      <td>...</td>\n      <td>0.088849</td>\n      <td>0.001310</td>\n      <td>0.054818</td>\n      <td>0.003529</td>\n      <td>0.021958</td>\n      <td>0.000326</td>\n      <td>0.001808</td>\n      <td>0.606226</td>\n      <td>0.000254</td>\n      <td>0.021085</td>\n    </tr>\n    <tr>\n      <td>1129</td>\n      <td>ff2eb9ce5</td>\n      <td>7</td>\n      <td>0.611743</td>\n      <td>0.008660</td>\n      <td>0.000831</td>\n      <td>0.661863</td>\n      <td>0.000853</td>\n      <td>0.002154</td>\n      <td>0.000237</td>\n      <td>0.003694</td>\n      <td>...</td>\n      <td>0.004262</td>\n      <td>0.001535</td>\n      <td>0.000613</td>\n      <td>0.000323</td>\n      <td>0.768182</td>\n      <td>0.000147</td>\n      <td>0.000244</td>\n      <td>0.001286</td>\n      <td>0.000282</td>\n      <td>0.023715</td>\n    </tr>\n    <tr>\n      <td>1130</td>\n      <td>ffb8d8391</td>\n      <td>7</td>\n      <td>0.047971</td>\n      <td>0.002464</td>\n      <td>0.001622</td>\n      <td>0.797323</td>\n      <td>0.000234</td>\n      <td>0.496614</td>\n      <td>0.000283</td>\n      <td>0.001789</td>\n      <td>...</td>\n      <td>0.058835</td>\n      <td>0.115298</td>\n      <td>0.002180</td>\n      <td>0.007501</td>\n      <td>0.493216</td>\n      <td>0.001060</td>\n      <td>0.000683</td>\n      <td>0.003873</td>\n      <td>0.000537</td>\n      <td>0.047675</td>\n    </tr>\n    <tr>\n      <td>1131</td>\n      <td>ffb9a7b9a</td>\n      <td>7</td>\n      <td>0.045674</td>\n      <td>0.010200</td>\n      <td>0.003159</td>\n      <td>0.646572</td>\n      <td>0.011628</td>\n      <td>0.002041</td>\n      <td>0.003444</td>\n      <td>0.007744</td>\n      <td>...</td>\n      <td>0.056652</td>\n      <td>0.002910</td>\n      <td>0.001452</td>\n      <td>0.044996</td>\n      <td>0.661090</td>\n      <td>0.000187</td>\n      <td>0.029050</td>\n      <td>0.006557</td>\n      <td>0.000649</td>\n      <td>0.011250</td>\n    </tr>\n  </tbody>\n</table>\n<p>1132 rows × 26 columns</p>\n</div>"
     },
     "metadata": {},
     "execution_count": 5
    }
   ],
   "source": [
    "tp_oof = oof2[oof2['recording_id'].isin(tp2['recording_id'])].reset_index(drop=True).sort_values('recording_id')\n",
    "tp_oof"
   ]
  },
  {
   "cell_type": "code",
   "execution_count": 6,
   "metadata": {},
   "outputs": [],
   "source": [
    "pred = tp_oof.loc[:, 's0':'s23'].values\n",
    "target = tp2.loc[:, 's0':'s23'].values"
   ]
  },
  {
   "cell_type": "code",
   "execution_count": 7,
   "metadata": {},
   "outputs": [
    {
     "output_type": "execute_result",
     "data": {
      "text/plain": [
       "array([0.98452865, 0.9661183 , 0.99059868, 0.72020333, 0.95173752,\n",
       "       0.98698706, 0.99632918, 0.93325323, 0.975878  , 0.98698864,\n",
       "       0.99292743, 0.97081331, 0.95909427, 0.99360444, 0.97850277,\n",
       "       0.96148061, 0.99087591, 0.98175366, 0.91780037, 0.99385366,\n",
       "       0.97834241, 0.95885397, 0.99498663, 0.96953422])"
      ]
     },
     "metadata": {},
     "execution_count": 7
    }
   ],
   "source": [
    "from sklearn.metrics import roc_auc_score\n",
    "import matplotlib.pyplot as plt\n",
    "auc = roc_auc_score(target, pred, average=None)\n",
    "auc"
   ]
  },
  {
   "cell_type": "code",
   "execution_count": 8,
   "metadata": {},
   "outputs": [
    {
     "output_type": "execute_result",
     "data": {
      "text/plain": [
       "<BarContainer object of 24 artists>"
      ]
     },
     "metadata": {},
     "execution_count": 8
    },
    {
     "output_type": "display_data",
     "data": {
      "text/plain": "<Figure size 432x288 with 1 Axes>",
      "image/svg+xml": "<?xml version=\"1.0\" encoding=\"utf-8\" standalone=\"no\"?>\n<!DOCTYPE svg PUBLIC \"-//W3C//DTD SVG 1.1//EN\"\n  \"http://www.w3.org/Graphics/SVG/1.1/DTD/svg11.dtd\">\n<!-- Created with matplotlib (https://matplotlib.org/) -->\n<svg height=\"248.518125pt\" version=\"1.1\" viewBox=\"0 0 372.103125 248.518125\" width=\"372.103125pt\" xmlns=\"http://www.w3.org/2000/svg\" xmlns:xlink=\"http://www.w3.org/1999/xlink\">\n <defs>\n  <style type=\"text/css\">\n*{stroke-linecap:butt;stroke-linejoin:round;}\n  </style>\n </defs>\n <g id=\"figure_1\">\n  <g id=\"patch_1\">\n   <path d=\"M 0 248.518125 \nL 372.103125 248.518125 \nL 372.103125 0 \nL 0 0 \nz\n\" style=\"fill:none;\"/>\n  </g>\n  <g id=\"axes_1\">\n   <g id=\"patch_2\">\n    <path d=\"M 30.103125 224.64 \nL 364.903125 224.64 \nL 364.903125 7.2 \nL 30.103125 7.2 \nz\n\" style=\"fill:#ffffff;\"/>\n   </g>\n   <g id=\"patch_3\">\n    <path clip-path=\"url(#p04f3ab7e2d)\" d=\"M 45.321307 224.64 \nL 55.552017 224.64 \nL 55.552017 20.007011 \nL 45.321307 20.007011 \nz\n\" style=\"fill:#1f77b4;\"/>\n   </g>\n   <g id=\"patch_4\">\n    <path clip-path=\"url(#p04f3ab7e2d)\" d=\"M 58.109695 224.64 \nL 68.340405 224.64 \nL 68.340405 23.833578 \nL 58.109695 23.833578 \nz\n\" style=\"fill:#1f77b4;\"/>\n   </g>\n   <g id=\"patch_5\">\n    <path clip-path=\"url(#p04f3ab7e2d)\" d=\"M 70.898083 224.64 \nL 81.128793 224.64 \nL 81.128793 18.745364 \nL 70.898083 18.745364 \nz\n\" style=\"fill:#1f77b4;\"/>\n   </g>\n   <g id=\"patch_6\">\n    <path clip-path=\"url(#p04f3ab7e2d)\" d=\"M 83.686471 224.64 \nL 93.917182 224.64 \nL 93.917182 74.946683 \nL 83.686471 74.946683 \nz\n\" style=\"fill:#1f77b4;\"/>\n   </g>\n   <g id=\"patch_7\">\n    <path clip-path=\"url(#p04f3ab7e2d)\" d=\"M 96.474859 224.64 \nL 106.70557 224.64 \nL 106.70557 26.822604 \nL 96.474859 26.822604 \nz\n\" style=\"fill:#1f77b4;\"/>\n   </g>\n   <g id=\"patch_8\">\n    <path clip-path=\"url(#p04f3ab7e2d)\" d=\"M 109.263247 224.64 \nL 119.493958 224.64 \nL 119.493958 19.496033 \nL 109.263247 19.496033 \nz\n\" style=\"fill:#1f77b4;\"/>\n   </g>\n   <g id=\"patch_9\">\n    <path clip-path=\"url(#p04f3ab7e2d)\" d=\"M 122.051635 224.64 \nL 132.282346 224.64 \nL 132.282346 17.554286 \nL 122.051635 17.554286 \nz\n\" style=\"fill:#1f77b4;\"/>\n   </g>\n   <g id=\"patch_10\">\n    <path clip-path=\"url(#p04f3ab7e2d)\" d=\"M 134.840023 224.64 \nL 145.070734 224.64 \nL 145.070734 30.664539 \nL 134.840023 30.664539 \nz\n\" style=\"fill:#1f77b4;\"/>\n   </g>\n   <g id=\"patch_11\">\n    <path clip-path=\"url(#p04f3ab7e2d)\" d=\"M 147.628411 224.64 \nL 157.859122 224.64 \nL 157.859122 21.805036 \nL 147.628411 21.805036 \nz\n\" style=\"fill:#1f77b4;\"/>\n   </g>\n   <g id=\"patch_12\">\n    <path clip-path=\"url(#p04f3ab7e2d)\" d=\"M 160.4168 224.64 \nL 170.64751 224.64 \nL 170.64751 19.495706 \nL 160.4168 19.495706 \nz\n\" style=\"fill:#1f77b4;\"/>\n   </g>\n   <g id=\"patch_13\">\n    <path clip-path=\"url(#p04f3ab7e2d)\" d=\"M 173.205188 224.64 \nL 183.435898 224.64 \nL 183.435898 18.261336 \nL 173.205188 18.261336 \nz\n\" style=\"fill:#1f77b4;\"/>\n   </g>\n   <g id=\"patch_14\">\n    <path clip-path=\"url(#p04f3ab7e2d)\" d=\"M 185.993576 224.64 \nL 196.224286 224.64 \nL 196.224286 22.857727 \nL 185.993576 22.857727 \nz\n\" style=\"fill:#1f77b4;\"/>\n   </g>\n   <g id=\"patch_15\">\n    <path clip-path=\"url(#p04f3ab7e2d)\" d=\"M 198.781964 224.64 \nL 209.012674 224.64 \nL 209.012674 25.293513 \nL 198.781964 25.293513 \nz\n\" style=\"fill:#1f77b4;\"/>\n   </g>\n   <g id=\"patch_16\">\n    <path clip-path=\"url(#p04f3ab7e2d)\" d=\"M 211.570352 224.64 \nL 221.801062 224.64 \nL 221.801062 18.120621 \nL 211.570352 18.120621 \nz\n\" style=\"fill:#1f77b4;\"/>\n   </g>\n   <g id=\"patch_17\">\n    <path clip-path=\"url(#p04f3ab7e2d)\" d=\"M 224.35874 224.64 \nL 234.58945 224.64 \nL 234.58945 21.259482 \nL 224.35874 21.259482 \nz\n\" style=\"fill:#1f77b4;\"/>\n   </g>\n   <g id=\"patch_18\">\n    <path clip-path=\"url(#p04f3ab7e2d)\" d=\"M 237.147128 224.64 \nL 247.377839 224.64 \nL 247.377839 24.797515 \nL 237.147128 24.797515 \nz\n\" style=\"fill:#1f77b4;\"/>\n   </g>\n   <g id=\"patch_19\">\n    <path clip-path=\"url(#p04f3ab7e2d)\" d=\"M 249.935516 224.64 \nL 260.166227 224.64 \nL 260.166227 18.687741 \nL 249.935516 18.687741 \nz\n\" style=\"fill:#1f77b4;\"/>\n   </g>\n   <g id=\"patch_20\">\n    <path clip-path=\"url(#p04f3ab7e2d)\" d=\"M 262.723904 224.64 \nL 272.954615 224.64 \nL 272.954615 20.583788 \nL 262.723904 20.583788 \nz\n\" style=\"fill:#1f77b4;\"/>\n   </g>\n   <g id=\"patch_21\">\n    <path clip-path=\"url(#p04f3ab7e2d)\" d=\"M 275.512292 224.64 \nL 285.743003 224.64 \nL 285.743003 33.876396 \nL 275.512292 33.876396 \nz\n\" style=\"fill:#1f77b4;\"/>\n   </g>\n   <g id=\"patch_22\">\n    <path clip-path=\"url(#p04f3ab7e2d)\" d=\"M 288.30068 224.64 \nL 298.531391 224.64 \nL 298.531391 18.06882 \nL 288.30068 18.06882 \nz\n\" style=\"fill:#1f77b4;\"/>\n   </g>\n   <g id=\"patch_23\">\n    <path clip-path=\"url(#p04f3ab7e2d)\" d=\"M 301.089068 224.64 \nL 311.319779 224.64 \nL 311.319779 21.292813 \nL 301.089068 21.292813 \nz\n\" style=\"fill:#1f77b4;\"/>\n   </g>\n   <g id=\"patch_24\">\n    <path clip-path=\"url(#p04f3ab7e2d)\" d=\"M 313.877457 224.64 \nL 324.108167 224.64 \nL 324.108167 25.343459 \nL 313.877457 25.343459 \nz\n\" style=\"fill:#1f77b4;\"/>\n   </g>\n   <g id=\"patch_25\">\n    <path clip-path=\"url(#p04f3ab7e2d)\" d=\"M 326.665845 224.64 \nL 336.896555 224.64 \nL 336.896555 17.833333 \nL 326.665845 17.833333 \nz\n\" style=\"fill:#1f77b4;\"/>\n   </g>\n   <g id=\"patch_26\">\n    <path clip-path=\"url(#p04f3ab7e2d)\" d=\"M 339.454233 224.64 \nL 349.684943 224.64 \nL 349.684943 23.123583 \nL 339.454233 23.123583 \nz\n\" style=\"fill:#1f77b4;\"/>\n   </g>\n   <g id=\"matplotlib.axis_1\">\n    <g id=\"xtick_1\">\n     <g id=\"line2d_1\">\n      <defs>\n       <path d=\"M 0 0 \nL 0 3.5 \n\" id=\"mbae113a88d\" style=\"stroke:#000000;stroke-width:0.8;\"/>\n      </defs>\n      <g>\n       <use style=\"stroke:#000000;stroke-width:0.8;\" x=\"50.436662\" xlink:href=\"#mbae113a88d\" y=\"224.64\"/>\n      </g>\n     </g>\n     <g id=\"text_1\">\n      <!-- 0 -->\n      <defs>\n       <path d=\"M 31.78125 66.40625 \nQ 24.171875 66.40625 20.328125 58.90625 \nQ 16.5 51.421875 16.5 36.375 \nQ 16.5 21.390625 20.328125 13.890625 \nQ 24.171875 6.390625 31.78125 6.390625 \nQ 39.453125 6.390625 43.28125 13.890625 \nQ 47.125 21.390625 47.125 36.375 \nQ 47.125 51.421875 43.28125 58.90625 \nQ 39.453125 66.40625 31.78125 66.40625 \nz\nM 31.78125 74.21875 \nQ 44.046875 74.21875 50.515625 64.515625 \nQ 56.984375 54.828125 56.984375 36.375 \nQ 56.984375 17.96875 50.515625 8.265625 \nQ 44.046875 -1.421875 31.78125 -1.421875 \nQ 19.53125 -1.421875 13.0625 8.265625 \nQ 6.59375 17.96875 6.59375 36.375 \nQ 6.59375 54.828125 13.0625 64.515625 \nQ 19.53125 74.21875 31.78125 74.21875 \nz\n\" id=\"DejaVuSans-48\"/>\n      </defs>\n      <g transform=\"translate(47.255412 239.238437)scale(0.1 -0.1)\">\n       <use xlink:href=\"#DejaVuSans-48\"/>\n      </g>\n     </g>\n    </g>\n    <g id=\"xtick_2\">\n     <g id=\"line2d_2\">\n      <g>\n       <use style=\"stroke:#000000;stroke-width:0.8;\" x=\"114.378602\" xlink:href=\"#mbae113a88d\" y=\"224.64\"/>\n      </g>\n     </g>\n     <g id=\"text_2\">\n      <!-- 5 -->\n      <defs>\n       <path d=\"M 10.796875 72.90625 \nL 49.515625 72.90625 \nL 49.515625 64.59375 \nL 19.828125 64.59375 \nL 19.828125 46.734375 \nQ 21.96875 47.46875 24.109375 47.828125 \nQ 26.265625 48.1875 28.421875 48.1875 \nQ 40.625 48.1875 47.75 41.5 \nQ 54.890625 34.8125 54.890625 23.390625 \nQ 54.890625 11.625 47.5625 5.09375 \nQ 40.234375 -1.421875 26.90625 -1.421875 \nQ 22.3125 -1.421875 17.546875 -0.640625 \nQ 12.796875 0.140625 7.71875 1.703125 \nL 7.71875 11.625 \nQ 12.109375 9.234375 16.796875 8.0625 \nQ 21.484375 6.890625 26.703125 6.890625 \nQ 35.15625 6.890625 40.078125 11.328125 \nQ 45.015625 15.765625 45.015625 23.390625 \nQ 45.015625 31 40.078125 35.4375 \nQ 35.15625 39.890625 26.703125 39.890625 \nQ 22.75 39.890625 18.8125 39.015625 \nQ 14.890625 38.140625 10.796875 36.28125 \nz\n\" id=\"DejaVuSans-53\"/>\n      </defs>\n      <g transform=\"translate(111.197352 239.238437)scale(0.1 -0.1)\">\n       <use xlink:href=\"#DejaVuSans-53\"/>\n      </g>\n     </g>\n    </g>\n    <g id=\"xtick_3\">\n     <g id=\"line2d_3\">\n      <g>\n       <use style=\"stroke:#000000;stroke-width:0.8;\" x=\"178.320543\" xlink:href=\"#mbae113a88d\" y=\"224.64\"/>\n      </g>\n     </g>\n     <g id=\"text_3\">\n      <!-- 10 -->\n      <defs>\n       <path d=\"M 12.40625 8.296875 \nL 28.515625 8.296875 \nL 28.515625 63.921875 \nL 10.984375 60.40625 \nL 10.984375 69.390625 \nL 28.421875 72.90625 \nL 38.28125 72.90625 \nL 38.28125 8.296875 \nL 54.390625 8.296875 \nL 54.390625 0 \nL 12.40625 0 \nz\n\" id=\"DejaVuSans-49\"/>\n      </defs>\n      <g transform=\"translate(171.958043 239.238437)scale(0.1 -0.1)\">\n       <use xlink:href=\"#DejaVuSans-49\"/>\n       <use x=\"63.623047\" xlink:href=\"#DejaVuSans-48\"/>\n      </g>\n     </g>\n    </g>\n    <g id=\"xtick_4\">\n     <g id=\"line2d_4\">\n      <g>\n       <use style=\"stroke:#000000;stroke-width:0.8;\" x=\"242.262483\" xlink:href=\"#mbae113a88d\" y=\"224.64\"/>\n      </g>\n     </g>\n     <g id=\"text_4\">\n      <!-- 15 -->\n      <g transform=\"translate(235.899983 239.238437)scale(0.1 -0.1)\">\n       <use xlink:href=\"#DejaVuSans-49\"/>\n       <use x=\"63.623047\" xlink:href=\"#DejaVuSans-53\"/>\n      </g>\n     </g>\n    </g>\n    <g id=\"xtick_5\">\n     <g id=\"line2d_5\">\n      <g>\n       <use style=\"stroke:#000000;stroke-width:0.8;\" x=\"306.204424\" xlink:href=\"#mbae113a88d\" y=\"224.64\"/>\n      </g>\n     </g>\n     <g id=\"text_5\">\n      <!-- 20 -->\n      <defs>\n       <path d=\"M 19.1875 8.296875 \nL 53.609375 8.296875 \nL 53.609375 0 \nL 7.328125 0 \nL 7.328125 8.296875 \nQ 12.9375 14.109375 22.625 23.890625 \nQ 32.328125 33.6875 34.8125 36.53125 \nQ 39.546875 41.84375 41.421875 45.53125 \nQ 43.3125 49.21875 43.3125 52.78125 \nQ 43.3125 58.59375 39.234375 62.25 \nQ 35.15625 65.921875 28.609375 65.921875 \nQ 23.96875 65.921875 18.8125 64.3125 \nQ 13.671875 62.703125 7.8125 59.421875 \nL 7.8125 69.390625 \nQ 13.765625 71.78125 18.9375 73 \nQ 24.125 74.21875 28.421875 74.21875 \nQ 39.75 74.21875 46.484375 68.546875 \nQ 53.21875 62.890625 53.21875 53.421875 \nQ 53.21875 48.921875 51.53125 44.890625 \nQ 49.859375 40.875 45.40625 35.40625 \nQ 44.1875 33.984375 37.640625 27.21875 \nQ 31.109375 20.453125 19.1875 8.296875 \nz\n\" id=\"DejaVuSans-50\"/>\n      </defs>\n      <g transform=\"translate(299.841924 239.238437)scale(0.1 -0.1)\">\n       <use xlink:href=\"#DejaVuSans-50\"/>\n       <use x=\"63.623047\" xlink:href=\"#DejaVuSans-48\"/>\n      </g>\n     </g>\n    </g>\n   </g>\n   <g id=\"matplotlib.axis_2\">\n    <g id=\"ytick_1\">\n     <g id=\"line2d_6\">\n      <defs>\n       <path d=\"M 0 0 \nL -3.5 0 \n\" id=\"m36dc9a90dd\" style=\"stroke:#000000;stroke-width:0.8;\"/>\n      </defs>\n      <g>\n       <use style=\"stroke:#000000;stroke-width:0.8;\" x=\"30.103125\" xlink:href=\"#m36dc9a90dd\" y=\"224.64\"/>\n      </g>\n     </g>\n     <g id=\"text_6\">\n      <!-- 0.0 -->\n      <defs>\n       <path d=\"M 10.6875 12.40625 \nL 21 12.40625 \nL 21 0 \nL 10.6875 0 \nz\n\" id=\"DejaVuSans-46\"/>\n      </defs>\n      <g transform=\"translate(7.2 228.439219)scale(0.1 -0.1)\">\n       <use xlink:href=\"#DejaVuSans-48\"/>\n       <use x=\"63.623047\" xlink:href=\"#DejaVuSans-46\"/>\n       <use x=\"95.410156\" xlink:href=\"#DejaVuSans-48\"/>\n      </g>\n     </g>\n    </g>\n    <g id=\"ytick_2\">\n     <g id=\"line2d_7\">\n      <g>\n       <use style=\"stroke:#000000;stroke-width:0.8;\" x=\"30.103125\" xlink:href=\"#m36dc9a90dd\" y=\"183.070262\"/>\n      </g>\n     </g>\n     <g id=\"text_7\">\n      <!-- 0.2 -->\n      <g transform=\"translate(7.2 186.869481)scale(0.1 -0.1)\">\n       <use xlink:href=\"#DejaVuSans-48\"/>\n       <use x=\"63.623047\" xlink:href=\"#DejaVuSans-46\"/>\n       <use x=\"95.410156\" xlink:href=\"#DejaVuSans-50\"/>\n      </g>\n     </g>\n    </g>\n    <g id=\"ytick_3\">\n     <g id=\"line2d_8\">\n      <g>\n       <use style=\"stroke:#000000;stroke-width:0.8;\" x=\"30.103125\" xlink:href=\"#m36dc9a90dd\" y=\"141.500524\"/>\n      </g>\n     </g>\n     <g id=\"text_8\">\n      <!-- 0.4 -->\n      <defs>\n       <path d=\"M 37.796875 64.3125 \nL 12.890625 25.390625 \nL 37.796875 25.390625 \nz\nM 35.203125 72.90625 \nL 47.609375 72.90625 \nL 47.609375 25.390625 \nL 58.015625 25.390625 \nL 58.015625 17.1875 \nL 47.609375 17.1875 \nL 47.609375 0 \nL 37.796875 0 \nL 37.796875 17.1875 \nL 4.890625 17.1875 \nL 4.890625 26.703125 \nz\n\" id=\"DejaVuSans-52\"/>\n      </defs>\n      <g transform=\"translate(7.2 145.299743)scale(0.1 -0.1)\">\n       <use xlink:href=\"#DejaVuSans-48\"/>\n       <use x=\"63.623047\" xlink:href=\"#DejaVuSans-46\"/>\n       <use x=\"95.410156\" xlink:href=\"#DejaVuSans-52\"/>\n      </g>\n     </g>\n    </g>\n    <g id=\"ytick_4\">\n     <g id=\"line2d_9\">\n      <g>\n       <use style=\"stroke:#000000;stroke-width:0.8;\" x=\"30.103125\" xlink:href=\"#m36dc9a90dd\" y=\"99.930787\"/>\n      </g>\n     </g>\n     <g id=\"text_9\">\n      <!-- 0.6 -->\n      <defs>\n       <path d=\"M 33.015625 40.375 \nQ 26.375 40.375 22.484375 35.828125 \nQ 18.609375 31.296875 18.609375 23.390625 \nQ 18.609375 15.53125 22.484375 10.953125 \nQ 26.375 6.390625 33.015625 6.390625 \nQ 39.65625 6.390625 43.53125 10.953125 \nQ 47.40625 15.53125 47.40625 23.390625 \nQ 47.40625 31.296875 43.53125 35.828125 \nQ 39.65625 40.375 33.015625 40.375 \nz\nM 52.59375 71.296875 \nL 52.59375 62.3125 \nQ 48.875 64.0625 45.09375 64.984375 \nQ 41.3125 65.921875 37.59375 65.921875 \nQ 27.828125 65.921875 22.671875 59.328125 \nQ 17.53125 52.734375 16.796875 39.40625 \nQ 19.671875 43.65625 24.015625 45.921875 \nQ 28.375 48.1875 33.59375 48.1875 \nQ 44.578125 48.1875 50.953125 41.515625 \nQ 57.328125 34.859375 57.328125 23.390625 \nQ 57.328125 12.15625 50.6875 5.359375 \nQ 44.046875 -1.421875 33.015625 -1.421875 \nQ 20.359375 -1.421875 13.671875 8.265625 \nQ 6.984375 17.96875 6.984375 36.375 \nQ 6.984375 53.65625 15.1875 63.9375 \nQ 23.390625 74.21875 37.203125 74.21875 \nQ 40.921875 74.21875 44.703125 73.484375 \nQ 48.484375 72.75 52.59375 71.296875 \nz\n\" id=\"DejaVuSans-54\"/>\n      </defs>\n      <g transform=\"translate(7.2 103.730005)scale(0.1 -0.1)\">\n       <use xlink:href=\"#DejaVuSans-48\"/>\n       <use x=\"63.623047\" xlink:href=\"#DejaVuSans-46\"/>\n       <use x=\"95.410156\" xlink:href=\"#DejaVuSans-54\"/>\n      </g>\n     </g>\n    </g>\n    <g id=\"ytick_5\">\n     <g id=\"line2d_10\">\n      <g>\n       <use style=\"stroke:#000000;stroke-width:0.8;\" x=\"30.103125\" xlink:href=\"#m36dc9a90dd\" y=\"58.361049\"/>\n      </g>\n     </g>\n     <g id=\"text_10\">\n      <!-- 0.8 -->\n      <defs>\n       <path d=\"M 31.78125 34.625 \nQ 24.75 34.625 20.71875 30.859375 \nQ 16.703125 27.09375 16.703125 20.515625 \nQ 16.703125 13.921875 20.71875 10.15625 \nQ 24.75 6.390625 31.78125 6.390625 \nQ 38.8125 6.390625 42.859375 10.171875 \nQ 46.921875 13.96875 46.921875 20.515625 \nQ 46.921875 27.09375 42.890625 30.859375 \nQ 38.875 34.625 31.78125 34.625 \nz\nM 21.921875 38.8125 \nQ 15.578125 40.375 12.03125 44.71875 \nQ 8.5 49.078125 8.5 55.328125 \nQ 8.5 64.0625 14.71875 69.140625 \nQ 20.953125 74.21875 31.78125 74.21875 \nQ 42.671875 74.21875 48.875 69.140625 \nQ 55.078125 64.0625 55.078125 55.328125 \nQ 55.078125 49.078125 51.53125 44.71875 \nQ 48 40.375 41.703125 38.8125 \nQ 48.828125 37.15625 52.796875 32.3125 \nQ 56.78125 27.484375 56.78125 20.515625 \nQ 56.78125 9.90625 50.3125 4.234375 \nQ 43.84375 -1.421875 31.78125 -1.421875 \nQ 19.734375 -1.421875 13.25 4.234375 \nQ 6.78125 9.90625 6.78125 20.515625 \nQ 6.78125 27.484375 10.78125 32.3125 \nQ 14.796875 37.15625 21.921875 38.8125 \nz\nM 18.3125 54.390625 \nQ 18.3125 48.734375 21.84375 45.5625 \nQ 25.390625 42.390625 31.78125 42.390625 \nQ 38.140625 42.390625 41.71875 45.5625 \nQ 45.3125 48.734375 45.3125 54.390625 \nQ 45.3125 60.0625 41.71875 63.234375 \nQ 38.140625 66.40625 31.78125 66.40625 \nQ 25.390625 66.40625 21.84375 63.234375 \nQ 18.3125 60.0625 18.3125 54.390625 \nz\n\" id=\"DejaVuSans-56\"/>\n      </defs>\n      <g transform=\"translate(7.2 62.160268)scale(0.1 -0.1)\">\n       <use xlink:href=\"#DejaVuSans-48\"/>\n       <use x=\"63.623047\" xlink:href=\"#DejaVuSans-46\"/>\n       <use x=\"95.410156\" xlink:href=\"#DejaVuSans-56\"/>\n      </g>\n     </g>\n    </g>\n    <g id=\"ytick_6\">\n     <g id=\"line2d_11\">\n      <g>\n       <use style=\"stroke:#000000;stroke-width:0.8;\" x=\"30.103125\" xlink:href=\"#m36dc9a90dd\" y=\"16.791311\"/>\n      </g>\n     </g>\n     <g id=\"text_11\">\n      <!-- 1.0 -->\n      <g transform=\"translate(7.2 20.59053)scale(0.1 -0.1)\">\n       <use xlink:href=\"#DejaVuSans-49\"/>\n       <use x=\"63.623047\" xlink:href=\"#DejaVuSans-46\"/>\n       <use x=\"95.410156\" xlink:href=\"#DejaVuSans-48\"/>\n      </g>\n     </g>\n    </g>\n   </g>\n   <g id=\"patch_27\">\n    <path d=\"M 30.103125 224.64 \nL 30.103125 7.2 \n\" style=\"fill:none;stroke:#000000;stroke-linecap:square;stroke-linejoin:miter;stroke-width:0.8;\"/>\n   </g>\n   <g id=\"patch_28\">\n    <path d=\"M 364.903125 224.64 \nL 364.903125 7.2 \n\" style=\"fill:none;stroke:#000000;stroke-linecap:square;stroke-linejoin:miter;stroke-width:0.8;\"/>\n   </g>\n   <g id=\"patch_29\">\n    <path d=\"M 30.103125 224.64 \nL 364.903125 224.64 \n\" style=\"fill:none;stroke:#000000;stroke-linecap:square;stroke-linejoin:miter;stroke-width:0.8;\"/>\n   </g>\n   <g id=\"patch_30\">\n    <path d=\"M 30.103125 7.2 \nL 364.903125 7.2 \n\" style=\"fill:none;stroke:#000000;stroke-linecap:square;stroke-linejoin:miter;stroke-width:0.8;\"/>\n   </g>\n  </g>\n </g>\n <defs>\n  <clipPath id=\"p04f3ab7e2d\">\n   <rect height=\"217.44\" width=\"334.8\" x=\"30.103125\" y=\"7.2\"/>\n  </clipPath>\n </defs>\n</svg>\n",
      "image/png": "[encoded data removed]"
     },
     "metadata": {
      "needs_background": "light"
     }
    }
   ],
   "source": [
    "plt.bar(np.arange(24), auc)"
   ]
  },
  {
   "cell_type": "code",
   "execution_count": 9,
   "metadata": {},
   "outputs": [
    {
     "output_type": "execute_result",
     "data": {
      "text/plain": [
       "(torch.Size([1132, 24]), torch.Size([1132, 24]))"
      ]
     },
     "metadata": {},
     "execution_count": 9
    }
   ],
   "source": [
    "pred = torch.tensor(pred)\n",
    "target = torch.tensor(target)\n",
    "pred.shape, target.shape"
   ]
  },
  {
   "cell_type": "code",
   "execution_count": 10,
   "metadata": {},
   "outputs": [
    {
     "output_type": "execute_result",
     "data": {
      "text/plain": [
       "0.7078044414520264"
      ]
     },
     "metadata": {},
     "execution_count": 10
    }
   ],
   "source": [
    "original_lwlrap = LWLRAP(pred, target)\n",
    "original_lwlrap"
   ]
  },
  {
   "cell_type": "code",
   "execution_count": null,
   "metadata": {},
   "outputs": [],
   "source": []
  }
 ]
}