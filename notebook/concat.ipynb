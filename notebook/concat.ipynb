{
 "metadata": {
  "language_info": {
   "codemirror_mode": {
    "name": "ipython",
    "version": 3
   },
   "file_extension": ".py",
   "mimetype": "text/x-python",
   "name": "python",
   "nbconvert_exporter": "python",
   "pygments_lexer": "ipython3",
   "version": "3.7.4-final"
  },
  "orig_nbformat": 2,
  "kernelspec": {
   "name": "python3",
   "display_name": "Python 3",
   "language": "python"
  }
 },
 "nbformat": 4,
 "nbformat_minor": 2,
 "cells": [
  {
   "cell_type": "code",
   "execution_count": 7,
   "metadata": {},
   "outputs": [
    {
     "output_type": "execute_result",
     "data": {
      "text/plain": [
       "     recording_id  species_id  songtype_id    t_min     f_min    t_max  \\\n",
       "0       003bec244          14            1  44.5440  2531.250  45.1307   \n",
       "1       006ab765f          23            1  39.9615  7235.160  46.0452   \n",
       "2       007f87ba2          12            1  39.1360   562.500  42.2720   \n",
       "3       0099c367b          17            4  51.4206  1464.260  55.1996   \n",
       "4       009b760e6          10            1  50.0854   947.461  52.5293   \n",
       "...           ...         ...          ...      ...       ...      ...   \n",
       "1211    fe8d9ac40          13            1  53.4720    93.750  54.0960   \n",
       "1212    fea6b438a           4            1  43.5787  2531.250  45.7653   \n",
       "1213    ff2eb9ce5           0            1  15.2267  5906.250  16.0213   \n",
       "1214    ffb8d8391           5            1  14.3467  4781.250  16.6987   \n",
       "1215    ffb9a7b9a          18            1  40.3200  3187.500  41.0133   \n",
       "\n",
       "         f_max resampled_filename data_type  \n",
       "0      5531.25      003bec244.wav        tp  \n",
       "1     11283.40      006ab765f.wav        tp  \n",
       "2      3281.25      007f87ba2.wav        tp  \n",
       "3      4565.04      0099c367b.wav        tp  \n",
       "4     10852.70      009b760e6.wav        tp  \n",
       "...        ...                ...       ...  \n",
       "1211    843.75      fe8d9ac40.wav        tp  \n",
       "1212   4031.25      fea6b438a.wav        tp  \n",
       "1213   8250.00      ff2eb9ce5.wav        tp  \n",
       "1214  10406.20      ffb8d8391.wav        tp  \n",
       "1215   5062.50      ffb9a7b9a.wav        tp  \n",
       "\n",
       "[1216 rows x 9 columns]"
      ],
      "text/html": "<div>\n<style scoped>\n    .dataframe tbody tr th:only-of-type {\n        vertical-align: middle;\n    }\n\n    .dataframe tbody tr th {\n        vertical-align: top;\n    }\n\n    .dataframe thead th {\n        text-align: right;\n    }\n</style>\n<table border=\"1\" class=\"dataframe\">\n  <thead>\n    <tr style=\"text-align: right;\">\n      <th></th>\n      <th>recording_id</th>\n      <th>species_id</th>\n      <th>songtype_id</th>\n      <th>t_min</th>\n      <th>f_min</th>\n      <th>t_max</th>\n      <th>f_max</th>\n      <th>resampled_filename</th>\n      <th>data_type</th>\n    </tr>\n  </thead>\n  <tbody>\n    <tr>\n      <td>0</td>\n      <td>003bec244</td>\n      <td>14</td>\n      <td>1</td>\n      <td>44.5440</td>\n      <td>2531.250</td>\n      <td>45.1307</td>\n      <td>5531.25</td>\n      <td>003bec244.wav</td>\n      <td>tp</td>\n    </tr>\n    <tr>\n      <td>1</td>\n      <td>006ab765f</td>\n      <td>23</td>\n      <td>1</td>\n      <td>39.9615</td>\n      <td>7235.160</td>\n      <td>46.0452</td>\n      <td>11283.40</td>\n      <td>006ab765f.wav</td>\n      <td>tp</td>\n    </tr>\n    <tr>\n      <td>2</td>\n      <td>007f87ba2</td>\n      <td>12</td>\n      <td>1</td>\n      <td>39.1360</td>\n      <td>562.500</td>\n      <td>42.2720</td>\n      <td>3281.25</td>\n      <td>007f87ba2.wav</td>\n      <td>tp</td>\n    </tr>\n    <tr>\n      <td>3</td>\n      <td>0099c367b</td>\n      <td>17</td>\n      <td>4</td>\n      <td>51.4206</td>\n      <td>1464.260</td>\n      <td>55.1996</td>\n      <td>4565.04</td>\n      <td>0099c367b.wav</td>\n      <td>tp</td>\n    </tr>\n    <tr>\n      <td>4</td>\n      <td>009b760e6</td>\n      <td>10</td>\n      <td>1</td>\n      <td>50.0854</td>\n      <td>947.461</td>\n      <td>52.5293</td>\n      <td>10852.70</td>\n      <td>009b760e6.wav</td>\n      <td>tp</td>\n    </tr>\n    <tr>\n      <td>...</td>\n      <td>...</td>\n      <td>...</td>\n      <td>...</td>\n      <td>...</td>\n      <td>...</td>\n      <td>...</td>\n      <td>...</td>\n      <td>...</td>\n      <td>...</td>\n    </tr>\n    <tr>\n      <td>1211</td>\n      <td>fe8d9ac40</td>\n      <td>13</td>\n      <td>1</td>\n      <td>53.4720</td>\n      <td>93.750</td>\n      <td>54.0960</td>\n      <td>843.75</td>\n      <td>fe8d9ac40.wav</td>\n      <td>tp</td>\n    </tr>\n    <tr>\n      <td>1212</td>\n      <td>fea6b438a</td>\n      <td>4</td>\n      <td>1</td>\n      <td>43.5787</td>\n      <td>2531.250</td>\n      <td>45.7653</td>\n      <td>4031.25</td>\n      <td>fea6b438a.wav</td>\n      <td>tp</td>\n    </tr>\n    <tr>\n      <td>1213</td>\n      <td>ff2eb9ce5</td>\n      <td>0</td>\n      <td>1</td>\n      <td>15.2267</td>\n      <td>5906.250</td>\n      <td>16.0213</td>\n      <td>8250.00</td>\n      <td>ff2eb9ce5.wav</td>\n      <td>tp</td>\n    </tr>\n    <tr>\n      <td>1214</td>\n      <td>ffb8d8391</td>\n      <td>5</td>\n      <td>1</td>\n      <td>14.3467</td>\n      <td>4781.250</td>\n      <td>16.6987</td>\n      <td>10406.20</td>\n      <td>ffb8d8391.wav</td>\n      <td>tp</td>\n    </tr>\n    <tr>\n      <td>1215</td>\n      <td>ffb9a7b9a</td>\n      <td>18</td>\n      <td>1</td>\n      <td>40.3200</td>\n      <td>3187.500</td>\n      <td>41.0133</td>\n      <td>5062.50</td>\n      <td>ffb9a7b9a.wav</td>\n      <td>tp</td>\n    </tr>\n  </tbody>\n</table>\n<p>1216 rows × 9 columns</p>\n</div>"
     },
     "metadata": {},
     "execution_count": 7
    }
   ],
   "source": [
    "import pandas as pd\n",
    "train_tp = pd.read_csv(\"../input/rainforest-resample-data/resample-train-tp/train_tp.csv\")\n",
    "train_tp[\"data_type\"] = \"tp\"\n",
    "train_tp"
   ]
  },
  {
   "cell_type": "code",
   "execution_count": 8,
   "metadata": {},
   "outputs": [
    {
     "output_type": "execute_result",
     "data": {
      "text/plain": [
       "     recording_id  species_id  songtype_id    t_min       f_min    t_max  \\\n",
       "0       00204008d          21            1  13.8400   3281.2500  14.9333   \n",
       "1       00204008d           8            1  24.4960   3750.0000  28.6187   \n",
       "2       00204008d           4            1  15.0027   2343.7500  16.8587   \n",
       "3       003b04435          22            1  43.2533  10687.5000  44.8587   \n",
       "4       003b04435          23            1   9.1254   7235.1562  15.2091   \n",
       "...           ...         ...          ...      ...         ...      ...   \n",
       "7776    ffd88cd84          14            1   3.2000   2531.2500   3.7867   \n",
       "7777    ffebe7313           1            1  35.2000   3843.7500  36.0960   \n",
       "7778    fff163132          17            4  22.5547   1312.5000  25.0880   \n",
       "7779    fff163132          14            1  37.0827   2531.2500  37.6693   \n",
       "7780    fffb79246           6            1   8.3573    562.5000  10.5013   \n",
       "\n",
       "           f_max resampled_filename data_type  \n",
       "0      4125.0000      00204008d.wav        fp  \n",
       "1      5531.2500      00204008d.wav        fp  \n",
       "2      4218.7500      00204008d.wav        fp  \n",
       "3     13687.5000      003b04435.wav        fp  \n",
       "4     11283.3984      003b04435.wav        fp  \n",
       "...          ...                ...       ...  \n",
       "7776   5531.2500      ffd88cd84.wav        fp  \n",
       "7777   5625.0000      ffebe7313.wav        fp  \n",
       "7778   7406.2500      fff163132.wav        fp  \n",
       "7779   5531.2500      fff163132.wav        fp  \n",
       "7780   4406.2500      fffb79246.wav        fp  \n",
       "\n",
       "[7781 rows x 9 columns]"
      ],
      "text/html": "<div>\n<style scoped>\n    .dataframe tbody tr th:only-of-type {\n        vertical-align: middle;\n    }\n\n    .dataframe tbody tr th {\n        vertical-align: top;\n    }\n\n    .dataframe thead th {\n        text-align: right;\n    }\n</style>\n<table border=\"1\" class=\"dataframe\">\n  <thead>\n    <tr style=\"text-align: right;\">\n      <th></th>\n      <th>recording_id</th>\n      <th>species_id</th>\n      <th>songtype_id</th>\n      <th>t_min</th>\n      <th>f_min</th>\n      <th>t_max</th>\n      <th>f_max</th>\n      <th>resampled_filename</th>\n      <th>data_type</th>\n    </tr>\n  </thead>\n  <tbody>\n    <tr>\n      <td>0</td>\n      <td>00204008d</td>\n      <td>21</td>\n      <td>1</td>\n      <td>13.8400</td>\n      <td>3281.2500</td>\n      <td>14.9333</td>\n      <td>4125.0000</td>\n      <td>00204008d.wav</td>\n      <td>fp</td>\n    </tr>\n    <tr>\n      <td>1</td>\n      <td>00204008d</td>\n      <td>8</td>\n      <td>1</td>\n      <td>24.4960</td>\n      <td>3750.0000</td>\n      <td>28.6187</td>\n      <td>5531.2500</td>\n      <td>00204008d.wav</td>\n      <td>fp</td>\n    </tr>\n    <tr>\n      <td>2</td>\n      <td>00204008d</td>\n      <td>4</td>\n      <td>1</td>\n      <td>15.0027</td>\n      <td>2343.7500</td>\n      <td>16.8587</td>\n      <td>4218.7500</td>\n      <td>00204008d.wav</td>\n      <td>fp</td>\n    </tr>\n    <tr>\n      <td>3</td>\n      <td>003b04435</td>\n      <td>22</td>\n      <td>1</td>\n      <td>43.2533</td>\n      <td>10687.5000</td>\n      <td>44.8587</td>\n      <td>13687.5000</td>\n      <td>003b04435.wav</td>\n      <td>fp</td>\n    </tr>\n    <tr>\n      <td>4</td>\n      <td>003b04435</td>\n      <td>23</td>\n      <td>1</td>\n      <td>9.1254</td>\n      <td>7235.1562</td>\n      <td>15.2091</td>\n      <td>11283.3984</td>\n      <td>003b04435.wav</td>\n      <td>fp</td>\n    </tr>\n    <tr>\n      <td>...</td>\n      <td>...</td>\n      <td>...</td>\n      <td>...</td>\n      <td>...</td>\n      <td>...</td>\n      <td>...</td>\n      <td>...</td>\n      <td>...</td>\n      <td>...</td>\n    </tr>\n    <tr>\n      <td>7776</td>\n      <td>ffd88cd84</td>\n      <td>14</td>\n      <td>1</td>\n      <td>3.2000</td>\n      <td>2531.2500</td>\n      <td>3.7867</td>\n      <td>5531.2500</td>\n      <td>ffd88cd84.wav</td>\n      <td>fp</td>\n    </tr>\n    <tr>\n      <td>7777</td>\n      <td>ffebe7313</td>\n      <td>1</td>\n      <td>1</td>\n      <td>35.2000</td>\n      <td>3843.7500</td>\n      <td>36.0960</td>\n      <td>5625.0000</td>\n      <td>ffebe7313.wav</td>\n      <td>fp</td>\n    </tr>\n    <tr>\n      <td>7778</td>\n      <td>fff163132</td>\n      <td>17</td>\n      <td>4</td>\n      <td>22.5547</td>\n      <td>1312.5000</td>\n      <td>25.0880</td>\n      <td>7406.2500</td>\n      <td>fff163132.wav</td>\n      <td>fp</td>\n    </tr>\n    <tr>\n      <td>7779</td>\n      <td>fff163132</td>\n      <td>14</td>\n      <td>1</td>\n      <td>37.0827</td>\n      <td>2531.2500</td>\n      <td>37.6693</td>\n      <td>5531.2500</td>\n      <td>fff163132.wav</td>\n      <td>fp</td>\n    </tr>\n    <tr>\n      <td>7780</td>\n      <td>fffb79246</td>\n      <td>6</td>\n      <td>1</td>\n      <td>8.3573</td>\n      <td>562.5000</td>\n      <td>10.5013</td>\n      <td>4406.2500</td>\n      <td>fffb79246.wav</td>\n      <td>fp</td>\n    </tr>\n  </tbody>\n</table>\n<p>7781 rows × 9 columns</p>\n</div>"
     },
     "metadata": {},
     "execution_count": 8
    }
   ],
   "source": [
    "train_fp = pd.read_csv(\"../input/rainforest-resample-data/resample-train-fp/train_fp.csv\")\n",
    "train_fp[\"data_type\"] = \"fp\"\n",
    "train_fp"
   ]
  },
  {
   "cell_type": "code",
   "execution_count": 9,
   "metadata": {},
   "outputs": [
    {
     "output_type": "execute_result",
     "data": {
      "text/plain": [
       "     recording_id  species_id  songtype_id    t_min     f_min    t_max  \\\n",
       "0       003bec244          14            1  44.5440  2531.250  45.1307   \n",
       "1       006ab765f          23            1  39.9615  7235.160  46.0452   \n",
       "2       007f87ba2          12            1  39.1360   562.500  42.2720   \n",
       "3       0099c367b          17            4  51.4206  1464.260  55.1996   \n",
       "4       009b760e6          10            1  50.0854   947.461  52.5293   \n",
       "...           ...         ...          ...      ...       ...      ...   \n",
       "7776    ffd88cd84          14            1   3.2000  2531.250   3.7867   \n",
       "7777    ffebe7313           1            1  35.2000  3843.750  36.0960   \n",
       "7778    fff163132          17            4  22.5547  1312.500  25.0880   \n",
       "7779    fff163132          14            1  37.0827  2531.250  37.6693   \n",
       "7780    fffb79246           6            1   8.3573   562.500  10.5013   \n",
       "\n",
       "         f_max resampled_filename data_type  \n",
       "0      5531.25      003bec244.wav        tp  \n",
       "1     11283.40      006ab765f.wav        tp  \n",
       "2      3281.25      007f87ba2.wav        tp  \n",
       "3      4565.04      0099c367b.wav        tp  \n",
       "4     10852.70      009b760e6.wav        tp  \n",
       "...        ...                ...       ...  \n",
       "7776   5531.25      ffd88cd84.wav        fp  \n",
       "7777   5625.00      ffebe7313.wav        fp  \n",
       "7778   7406.25      fff163132.wav        fp  \n",
       "7779   5531.25      fff163132.wav        fp  \n",
       "7780   4406.25      fffb79246.wav        fp  \n",
       "\n",
       "[8997 rows x 9 columns]"
      ],
      "text/html": "<div>\n<style scoped>\n    .dataframe tbody tr th:only-of-type {\n        vertical-align: middle;\n    }\n\n    .dataframe tbody tr th {\n        vertical-align: top;\n    }\n\n    .dataframe thead th {\n        text-align: right;\n    }\n</style>\n<table border=\"1\" class=\"dataframe\">\n  <thead>\n    <tr style=\"text-align: right;\">\n      <th></th>\n      <th>recording_id</th>\n      <th>species_id</th>\n      <th>songtype_id</th>\n      <th>t_min</th>\n      <th>f_min</th>\n      <th>t_max</th>\n      <th>f_max</th>\n      <th>resampled_filename</th>\n      <th>data_type</th>\n    </tr>\n  </thead>\n  <tbody>\n    <tr>\n      <td>0</td>\n      <td>003bec244</td>\n      <td>14</td>\n      <td>1</td>\n      <td>44.5440</td>\n      <td>2531.250</td>\n      <td>45.1307</td>\n      <td>5531.25</td>\n      <td>003bec244.wav</td>\n      <td>tp</td>\n    </tr>\n    <tr>\n      <td>1</td>\n      <td>006ab765f</td>\n      <td>23</td>\n      <td>1</td>\n      <td>39.9615</td>\n      <td>7235.160</td>\n      <td>46.0452</td>\n      <td>11283.40</td>\n      <td>006ab765f.wav</td>\n      <td>tp</td>\n    </tr>\n    <tr>\n      <td>2</td>\n      <td>007f87ba2</td>\n      <td>12</td>\n      <td>1</td>\n      <td>39.1360</td>\n      <td>562.500</td>\n      <td>42.2720</td>\n      <td>3281.25</td>\n      <td>007f87ba2.wav</td>\n      <td>tp</td>\n    </tr>\n    <tr>\n      <td>3</td>\n      <td>0099c367b</td>\n      <td>17</td>\n      <td>4</td>\n      <td>51.4206</td>\n      <td>1464.260</td>\n      <td>55.1996</td>\n      <td>4565.04</td>\n      <td>0099c367b.wav</td>\n      <td>tp</td>\n    </tr>\n    <tr>\n      <td>4</td>\n      <td>009b760e6</td>\n      <td>10</td>\n      <td>1</td>\n      <td>50.0854</td>\n      <td>947.461</td>\n      <td>52.5293</td>\n      <td>10852.70</td>\n      <td>009b760e6.wav</td>\n      <td>tp</td>\n    </tr>\n    <tr>\n      <td>...</td>\n      <td>...</td>\n      <td>...</td>\n      <td>...</td>\n      <td>...</td>\n      <td>...</td>\n      <td>...</td>\n      <td>...</td>\n      <td>...</td>\n      <td>...</td>\n    </tr>\n    <tr>\n      <td>7776</td>\n      <td>ffd88cd84</td>\n      <td>14</td>\n      <td>1</td>\n      <td>3.2000</td>\n      <td>2531.250</td>\n      <td>3.7867</td>\n      <td>5531.25</td>\n      <td>ffd88cd84.wav</td>\n      <td>fp</td>\n    </tr>\n    <tr>\n      <td>7777</td>\n      <td>ffebe7313</td>\n      <td>1</td>\n      <td>1</td>\n      <td>35.2000</td>\n      <td>3843.750</td>\n      <td>36.0960</td>\n      <td>5625.00</td>\n      <td>ffebe7313.wav</td>\n      <td>fp</td>\n    </tr>\n    <tr>\n      <td>7778</td>\n      <td>fff163132</td>\n      <td>17</td>\n      <td>4</td>\n      <td>22.5547</td>\n      <td>1312.500</td>\n      <td>25.0880</td>\n      <td>7406.25</td>\n      <td>fff163132.wav</td>\n      <td>fp</td>\n    </tr>\n    <tr>\n      <td>7779</td>\n      <td>fff163132</td>\n      <td>14</td>\n      <td>1</td>\n      <td>37.0827</td>\n      <td>2531.250</td>\n      <td>37.6693</td>\n      <td>5531.25</td>\n      <td>fff163132.wav</td>\n      <td>fp</td>\n    </tr>\n    <tr>\n      <td>7780</td>\n      <td>fffb79246</td>\n      <td>6</td>\n      <td>1</td>\n      <td>8.3573</td>\n      <td>562.500</td>\n      <td>10.5013</td>\n      <td>4406.25</td>\n      <td>fffb79246.wav</td>\n      <td>fp</td>\n    </tr>\n  </tbody>\n</table>\n<p>8997 rows × 9 columns</p>\n</div>"
     },
     "metadata": {},
     "execution_count": 9
    }
   ],
   "source": [
    "train = pd.concat([train_tp, train_fp])\n",
    "train"
   ]
  },
  {
   "cell_type": "code",
   "execution_count": 10,
   "metadata": {},
   "outputs": [],
   "source": [
    "train_tp.to_csv(\"../input/rainforest-resample-data/resample-train-tp/train_tp.csv\", index=False)\n",
    "train_fp.to_csv(\"../input/rainforest-resample-data/resample-train-fp/train_fp.csv\", index=False)\n",
    "train.to_csv(\"../input/rainforest-resample-data/resample-train/train.csv\", index=False)"
   ]
  },
  {
   "cell_type": "code",
   "execution_count": null,
   "metadata": {},
   "outputs": [],
   "source": []
  }
 ]
}