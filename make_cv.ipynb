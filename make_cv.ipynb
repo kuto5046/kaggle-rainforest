{
 "metadata": {
  "language_info": {
   "codemirror_mode": {
    "name": "ipython",
    "version": 3
   },
   "file_extension": ".py",
   "mimetype": "text/x-python",
   "name": "python",
   "nbconvert_exporter": "python",
   "pygments_lexer": "ipython3",
   "version": "3.7.4-final"
  },
  "orig_nbformat": 2,
  "kernelspec": {
   "name": "python3",
   "display_name": "Python 3",
   "language": "python"
  }
 },
 "nbformat": 4,
 "nbformat_minor": 2,
 "cells": [
  {
   "cell_type": "code",
   "execution_count": 2,
   "metadata": {},
   "outputs": [
    {
     "output_type": "execute_result",
     "data": {
      "text/plain": [
       "      recording_id  patch  s0  s1  s2  s3  s4  s5  s6  s7  ...  s14  s15  s16  \\\n",
       "0        00204008d      0  -2  -2  -2   0  -2   0  -2  -2  ...   -2   -2   -2   \n",
       "1        00204008d      1  -2  -2  -2   0  -2   0   0  -2  ...   -2   -2   -2   \n",
       "2        00204008d      2  -2  -2  -2   0  -1   0   0  -2  ...   -2   -2   -2   \n",
       "3        00204008d      3  -2  -2  -2   0  -2   0  -2  -2  ...   -2   -2   -2   \n",
       "4        00204008d      4  -2  -2  -2   0  -2   0   0  -2  ...   -2   -2   -2   \n",
       "...            ...    ...  ..  ..  ..  ..  ..  ..  ..  ..  ...  ...  ...  ...   \n",
       "37811    fffb79246      3  -2  -2   0  -2  -2   0   0  -2  ...   -2   -2   -2   \n",
       "37812    fffb79246      4  -2  -2   0   0  -2   0   0  -2  ...   -2   -2   -2   \n",
       "37813    fffb79246      5  -2  -2   0   0  -2   0   0  -2  ...   -2   -2    0   \n",
       "37814    fffb79246      6  -2  -2   0   0  -2   0   0  -2  ...   -2   -2   -2   \n",
       "37815    fffb79246      7  -2  -2   0  -2  -2   0   0  -2  ...   -2   -2   -2   \n",
       "\n",
       "       s17  s18  s19  s20  s21  s22  s23  \n",
       "0       -2    1    0   -2   -2   -2    0  \n",
       "1       -2    0   -2   -2   -1   -2    0  \n",
       "2       -2    0   -2   -2   -2   -2   -2  \n",
       "3       -2    0   -2   -2   -2   -2    0  \n",
       "4       -2    1    0   -2   -2   -2    0  \n",
       "...    ...  ...  ...  ...  ...  ...  ...  \n",
       "37811   -2   -2   -2    0   -2   -2    0  \n",
       "37812   -2   -2   -2    0   -2   -2    0  \n",
       "37813    0   -2    0    0   -2   -2    0  \n",
       "37814    0   -2   -2    0   -2   -2    0  \n",
       "37815   -2   -2   -2    0   -2   -2    0  \n",
       "\n",
       "[37816 rows x 26 columns]"
      ],
      "text/html": "<div>\n<style scoped>\n    .dataframe tbody tr th:only-of-type {\n        vertical-align: middle;\n    }\n\n    .dataframe tbody tr th {\n        vertical-align: top;\n    }\n\n    .dataframe thead th {\n        text-align: right;\n    }\n</style>\n<table border=\"1\" class=\"dataframe\">\n  <thead>\n    <tr style=\"text-align: right;\">\n      <th></th>\n      <th>recording_id</th>\n      <th>patch</th>\n      <th>s0</th>\n      <th>s1</th>\n      <th>s2</th>\n      <th>s3</th>\n      <th>s4</th>\n      <th>s5</th>\n      <th>s6</th>\n      <th>s7</th>\n      <th>...</th>\n      <th>s14</th>\n      <th>s15</th>\n      <th>s16</th>\n      <th>s17</th>\n      <th>s18</th>\n      <th>s19</th>\n      <th>s20</th>\n      <th>s21</th>\n      <th>s22</th>\n      <th>s23</th>\n    </tr>\n  </thead>\n  <tbody>\n    <tr>\n      <td>0</td>\n      <td>00204008d</td>\n      <td>0</td>\n      <td>-2</td>\n      <td>-2</td>\n      <td>-2</td>\n      <td>0</td>\n      <td>-2</td>\n      <td>0</td>\n      <td>-2</td>\n      <td>-2</td>\n      <td>...</td>\n      <td>-2</td>\n      <td>-2</td>\n      <td>-2</td>\n      <td>-2</td>\n      <td>1</td>\n      <td>0</td>\n      <td>-2</td>\n      <td>-2</td>\n      <td>-2</td>\n      <td>0</td>\n    </tr>\n    <tr>\n      <td>1</td>\n      <td>00204008d</td>\n      <td>1</td>\n      <td>-2</td>\n      <td>-2</td>\n      <td>-2</td>\n      <td>0</td>\n      <td>-2</td>\n      <td>0</td>\n      <td>0</td>\n      <td>-2</td>\n      <td>...</td>\n      <td>-2</td>\n      <td>-2</td>\n      <td>-2</td>\n      <td>-2</td>\n      <td>0</td>\n      <td>-2</td>\n      <td>-2</td>\n      <td>-1</td>\n      <td>-2</td>\n      <td>0</td>\n    </tr>\n    <tr>\n      <td>2</td>\n      <td>00204008d</td>\n      <td>2</td>\n      <td>-2</td>\n      <td>-2</td>\n      <td>-2</td>\n      <td>0</td>\n      <td>-1</td>\n      <td>0</td>\n      <td>0</td>\n      <td>-2</td>\n      <td>...</td>\n      <td>-2</td>\n      <td>-2</td>\n      <td>-2</td>\n      <td>-2</td>\n      <td>0</td>\n      <td>-2</td>\n      <td>-2</td>\n      <td>-2</td>\n      <td>-2</td>\n      <td>-2</td>\n    </tr>\n    <tr>\n      <td>3</td>\n      <td>00204008d</td>\n      <td>3</td>\n      <td>-2</td>\n      <td>-2</td>\n      <td>-2</td>\n      <td>0</td>\n      <td>-2</td>\n      <td>0</td>\n      <td>-2</td>\n      <td>-2</td>\n      <td>...</td>\n      <td>-2</td>\n      <td>-2</td>\n      <td>-2</td>\n      <td>-2</td>\n      <td>0</td>\n      <td>-2</td>\n      <td>-2</td>\n      <td>-2</td>\n      <td>-2</td>\n      <td>0</td>\n    </tr>\n    <tr>\n      <td>4</td>\n      <td>00204008d</td>\n      <td>4</td>\n      <td>-2</td>\n      <td>-2</td>\n      <td>-2</td>\n      <td>0</td>\n      <td>-2</td>\n      <td>0</td>\n      <td>0</td>\n      <td>-2</td>\n      <td>...</td>\n      <td>-2</td>\n      <td>-2</td>\n      <td>-2</td>\n      <td>-2</td>\n      <td>1</td>\n      <td>0</td>\n      <td>-2</td>\n      <td>-2</td>\n      <td>-2</td>\n      <td>0</td>\n    </tr>\n    <tr>\n      <td>...</td>\n      <td>...</td>\n      <td>...</td>\n      <td>...</td>\n      <td>...</td>\n      <td>...</td>\n      <td>...</td>\n      <td>...</td>\n      <td>...</td>\n      <td>...</td>\n      <td>...</td>\n      <td>...</td>\n      <td>...</td>\n      <td>...</td>\n      <td>...</td>\n      <td>...</td>\n      <td>...</td>\n      <td>...</td>\n      <td>...</td>\n      <td>...</td>\n      <td>...</td>\n      <td>...</td>\n    </tr>\n    <tr>\n      <td>37811</td>\n      <td>fffb79246</td>\n      <td>3</td>\n      <td>-2</td>\n      <td>-2</td>\n      <td>0</td>\n      <td>-2</td>\n      <td>-2</td>\n      <td>0</td>\n      <td>0</td>\n      <td>-2</td>\n      <td>...</td>\n      <td>-2</td>\n      <td>-2</td>\n      <td>-2</td>\n      <td>-2</td>\n      <td>-2</td>\n      <td>-2</td>\n      <td>0</td>\n      <td>-2</td>\n      <td>-2</td>\n      <td>0</td>\n    </tr>\n    <tr>\n      <td>37812</td>\n      <td>fffb79246</td>\n      <td>4</td>\n      <td>-2</td>\n      <td>-2</td>\n      <td>0</td>\n      <td>0</td>\n      <td>-2</td>\n      <td>0</td>\n      <td>0</td>\n      <td>-2</td>\n      <td>...</td>\n      <td>-2</td>\n      <td>-2</td>\n      <td>-2</td>\n      <td>-2</td>\n      <td>-2</td>\n      <td>-2</td>\n      <td>0</td>\n      <td>-2</td>\n      <td>-2</td>\n      <td>0</td>\n    </tr>\n    <tr>\n      <td>37813</td>\n      <td>fffb79246</td>\n      <td>5</td>\n      <td>-2</td>\n      <td>-2</td>\n      <td>0</td>\n      <td>0</td>\n      <td>-2</td>\n      <td>0</td>\n      <td>0</td>\n      <td>-2</td>\n      <td>...</td>\n      <td>-2</td>\n      <td>-2</td>\n      <td>0</td>\n      <td>0</td>\n      <td>-2</td>\n      <td>0</td>\n      <td>0</td>\n      <td>-2</td>\n      <td>-2</td>\n      <td>0</td>\n    </tr>\n    <tr>\n      <td>37814</td>\n      <td>fffb79246</td>\n      <td>6</td>\n      <td>-2</td>\n      <td>-2</td>\n      <td>0</td>\n      <td>0</td>\n      <td>-2</td>\n      <td>0</td>\n      <td>0</td>\n      <td>-2</td>\n      <td>...</td>\n      <td>-2</td>\n      <td>-2</td>\n      <td>-2</td>\n      <td>0</td>\n      <td>-2</td>\n      <td>-2</td>\n      <td>0</td>\n      <td>-2</td>\n      <td>-2</td>\n      <td>0</td>\n    </tr>\n    <tr>\n      <td>37815</td>\n      <td>fffb79246</td>\n      <td>7</td>\n      <td>-2</td>\n      <td>-2</td>\n      <td>0</td>\n      <td>-2</td>\n      <td>-2</td>\n      <td>0</td>\n      <td>0</td>\n      <td>-2</td>\n      <td>...</td>\n      <td>-2</td>\n      <td>-2</td>\n      <td>-2</td>\n      <td>-2</td>\n      <td>-2</td>\n      <td>-2</td>\n      <td>0</td>\n      <td>-2</td>\n      <td>-2</td>\n      <td>0</td>\n    </tr>\n  </tbody>\n</table>\n<p>37816 rows × 26 columns</p>\n</div>"
     },
     "metadata": {},
     "execution_count": 2
    }
   ],
   "source": [
    "import pandas as pd\n",
    "df = pd.read_csv(\"input/rfcx-species-audio-detection/train_labels_v0.csv\")\n",
    "df"
   ]
  },
  {
   "cell_type": "code",
   "execution_count": null,
   "metadata": {},
   "outputs": [],
   "source": []
  }
 ]
}